{
 "cells": [
  {
   "cell_type": "markdown",
   "metadata": {},
   "source": [
    "### Create a Real-Time Weather Data Dashboard application \n",
    "- incorporating Pandas and NumPy for data analysis.\n",
    "- Tkinter for the GUI.\n",
    "- SQLite for the database.\n",
    "- This project will fetch real-time weather data, process it, and display the processed data in a table format. \n",
    "- The application will also perform analytical operations on the data using NumPy and Pandas."
   ]
  },
  {
   "cell_type": "code",
   "execution_count": null,
   "metadata": {
    "vscode": {
     "languageId": "plaintext"
    }
   },
   "outputs": [],
   "source": []
  }
 ],
 "metadata": {
  "language_info": {
   "name": "python"
  }
 },
 "nbformat": 4,
 "nbformat_minor": 2
}
