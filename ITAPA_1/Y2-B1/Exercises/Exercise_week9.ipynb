{
 "cells": [
  {
   "cell_type": "markdown",
   "metadata": {},
   "source": [
    "### Create a Real-Time Weather Data Dashboard application \n",
    "- incorporating Pandas and NumPy for data analysis.\n",
    "- Tkinter for the GUI.\n",
    "- SQLite for the database.\n",
    "- This project will fetch real-time weather data, process it, and display the processed data in a table format. \n",
    "- The application will also perform analytical operations on the data using NumPy and Pandas."
   ]
  },
  {
   "cell_type": "code",
   "execution_count": 4,
   "metadata": {},
   "outputs": [],
   "source": [
    "import pandas as pd \n",
    "import numpy as np \n",
    "import tkinter as tk\n",
    "from tkinter import messagebox\n",
    "\n",
    "\n",
    "import sqlite3\n",
    "\n",
    "def Weather_data_base():\n",
    "    conn = sqlite3.connect('weather.db')\n",
    "    cursor = conn.cursor()\n",
    "\n",
    "    cursor.execute('''CREATE TABLE IF NOT EXISTS users (\n",
    "    id INTEGER PRIMARY KEY AUTOINCREMENT,\n",
    "    username TEXT UNIQUE NOT NULL,\n",
    "    password TEXT NOT NULL)''')\n",
    "\n",
    "    cursor.execute('''CREATE TABLE IF NOT EXISTS weather_data (\n",
    "    id INTEGER PRIMARY KEY AUTOINCREMENT,\n",
    "    user_country_key INTEGER,\n",
    "    user_country TEXT,\n",
    "    time TEXT,\n",
    "    date TEXT,\n",
    "    weather TEXT,\n",
    "    forecast TEXT,\n",
    "    description TEXT)''')\n",
    "\n",
    "    conn.commit()\n",
    "    conn.close()\n",
    "\n",
    "\n",
    "\n"
   ]
  }
 ],
 "metadata": {
  "kernelspec": {
   "display_name": "Python 3",
   "language": "python",
   "name": "python3"
  },
  "language_info": {
   "codemirror_mode": {
    "name": "ipython",
    "version": 3
   },
   "file_extension": ".py",
   "mimetype": "text/x-python",
   "name": "python",
   "nbconvert_exporter": "python",
   "pygments_lexer": "ipython3",
   "version": "3.12.3"
  }
 },
 "nbformat": 4,
 "nbformat_minor": 2
}
