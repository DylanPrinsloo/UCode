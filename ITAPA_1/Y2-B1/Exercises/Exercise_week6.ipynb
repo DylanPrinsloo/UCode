{
 "cells": [
  {
   "cell_type": "markdown",
   "metadata": {},
   "source": [
    "### Create a Book Inventory Management System \n",
    "- a GUI library (like Tkinter)\n",
    "- SQLite for the database. \n",
    "- Manage a collection of books, including adding, editing, deleting, and searching for books. \n",
    "- It can also include functionality for borrowing and returning books if you want to extend the project further."
   ]
  },
  {
   "cell_type": "code",
   "execution_count": null,
   "metadata": {},
   "outputs": [],
   "source": []
  },
  {
   "cell_type": "markdown",
   "metadata": {},
   "source": [
    "### Create a Real-Time Stock Market Data Analysis application\n",
    "- incorporating multithreading\n",
    "- tables (using a GUI library like Tkinter)\n",
    "- Data manipulation with NumPy and Pandas. \n",
    "- This project will fetch real-time stock market data, process it in parallel using multithreading, and display the processed data in a table format. \n",
    "- The application will also perform analytical operations on the data using NumPy and Pandas."
   ]
  },
  {
   "cell_type": "code",
   "execution_count": null,
   "metadata": {},
   "outputs": [],
   "source": []
  }
 ],
 "metadata": {
  "language_info": {
   "name": "python"
  }
 },
 "nbformat": 4,
 "nbformat_minor": 2
}
