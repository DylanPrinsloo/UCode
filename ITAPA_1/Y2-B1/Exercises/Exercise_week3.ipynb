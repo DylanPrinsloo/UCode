{
 "cells": [
  {
   "cell_type": "markdown",
   "metadata": {},
   "source": [
    "### Create a function that reads a file and appends to it:\n",
    "\n",
    "- The file has letters, numbers and special keys related to a email. \n",
    "- The format should look like {username} || {phone_number} || {email}"
   ]
  },
  {
   "cell_type": "code",
   "execution_count": null,
   "metadata": {},
   "outputs": [],
   "source": [
    "import re\n",
    "\n",
    "def read_file(file_path):\n",
    "    with open(file_path, 'r') as f:\n",
    "        for line in f:\n",
    "            extract_data(line.strip())\n",
    "\n",
    "def extract_data(line):\n",
    "    username_pattern = r'USR\\d+'\n",
    "    phone_pattern = r'\\d{10}'\n",
    "    email_pattern = r'[a-zA-Z0-9._%+-]+@[a-zA-Z0-9.-]+\\.[a-zA-Z]{2,}'\n",
    "\n",
    "    username_match = re.search(username_pattern, line)\n",
    "    phone_match = re.search(phone_pattern, line)\n",
    "    email_match = re.search(email_pattern, line)\n",
    "\n",
    "    if username_match and phone_match and email_match:\n",
    "        username = username_match.group()\n",
    "        phone_number = phone_match.group()\n",
    "        email = email_match.group()\n",
    "\n",
    "        formatted_data = f'{username} || {phone_number} || {email}'\n",
    "        save_data(formatted_data)\n",
    "\n",
    "def save_data(data):\n",
    "    with open('output_file.txt', 'a') as f:\n",
    "        f.write(data + '\\n')\n",
    "\n",
    "file_path = 'userinfo.txt'\n",
    "read_file(file_path)\n"
   ]
  }
 ],
 "metadata": {
  "language_info": {
   "name": "python"
  }
 },
 "nbformat": 4,
 "nbformat_minor": 2
}
