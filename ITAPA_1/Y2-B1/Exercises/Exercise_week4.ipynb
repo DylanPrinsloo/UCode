{
 "cells": [
  {
   "cell_type": "markdown",
   "metadata": {},
   "source": [
    "### Create a Server for both client and Socket. \n",
    "\n",
    "- The server should take the movies of the data below:\n",
    "\n",
    "'Deadpool and Wolverine': '26 July 2024',\n",
    "    'Captain America: Brave New World': '14 February 2025',\n",
    "    'Thunderbolts': '05 May 2025',\n",
    "    'The Fantastic Four': '25 July 2025',\n",
    "    'Blade': '07 November 2025',\n",
    "    'Avengers: Kang Dynasty': '01 May 2025',\n",
    "    'Avengers: Secret Wars': '07 May 2027'\n",
    "\n",
    "- Use an decode and encode procedure.\n",
    "- TCIP to be used\n",
    "- The addr is ( host='127.0.0.1', port=8000 )\n",
    "\n"
   ]
  },
  {
   "cell_type": "markdown",
   "metadata": {},
   "source": [
    "### Start Server\n"
   ]
  },
  {
   "cell_type": "code",
   "execution_count": null,
   "metadata": {},
   "outputs": [],
   "source": [
    "import socket\n",
    "import threading\n",
    "\n",
    "# server\n",
    "\n",
    "movie_dates_release = {\n",
    "    'Deadpool and Wolverine': '26 July 2024',\n",
    "    'Captain America: Brave New World': '14 February 2025',\n",
    "    'Thunderbolts': '05 May 2025',\n",
    "    'The Fantastic Four': '25 July 2025',\n",
    "    'Blade': '07 November 2025',\n",
    "    'Avengers: Kang Dynasty': '01 May 2025',\n",
    "    'Avengers: Secret Wars': '07 May 2027'\n",
    "}\n",
    "\n",
    "def handle_client(client_socket):\n",
    "    try:\n",
    "        movie_title = client_socket.recv(1024).decode('utf-8')\n",
    "        print(f'Received request for: {movie_title}')\n",
    "\n",
    "        release_date = movie_dates_release.get(movie_title, \"Not found\")\n",
    "\n",
    "        client_socket.send(release_date.encode('utf-8'))\n",
    "    finally:\n",
    "        client_socket.close()\n",
    "\n",
    "def server(host='127.0.0.1', port=8000):\n",
    "    server_socket = socket.socket(socket.AF_INET, socket.SOCK_STREAM)\n",
    "    server_socket.bind((host, port))\n",
    "    server_socket.listen(5)\n",
    "    print(\"Server is listening\")\n",
    "\n",
    "    while True:\n",
    "        client_socket, addr = server_socket.accept()\n",
    "        print(f'Accepted connection from {addr}')\n",
    "        client_thread = threading.Thread(target=handle_client, args=(client_socket,))\n",
    "        client_thread.start()\n",
    "\n",
    "if __name__ == '__main__':\n",
    "    server()\n"
   ]
  },
  {
   "cell_type": "markdown",
   "metadata": {},
   "source": [
    "### Client Server"
   ]
  },
  {
   "cell_type": "code",
   "execution_count": null,
   "metadata": {},
   "outputs": [],
   "source": [
    "import socket\n",
    "\n",
    "def request_movie(movie_title, host='127.0.0.1', port=8000):\n",
    "    client = socket.socket(socket.AF_INET, socket.SOCK_STREAM)\n",
    "    client.connect((host, port))\n",
    "\n",
    "    try:\n",
    "        client.send(movie_title.encode('utf-8'))\n",
    "\n",
    "        release_date = client.recv(1024).decode('utf-8')\n",
    "        print(f\"The release date is: {release_date} for the movie: {movie_title}\")\n",
    "    finally:\n",
    "        client.close()\n",
    "\n",
    "if __name__ == '__main__':\n",
    "    movie_title = input(\"Enter the movie title: \")\n",
    "    request_movie(movie_title)\n"
   ]
  }
 ],
 "metadata": {
  "language_info": {
   "name": "python"
  }
 },
 "nbformat": 4,
 "nbformat_minor": 2
}
