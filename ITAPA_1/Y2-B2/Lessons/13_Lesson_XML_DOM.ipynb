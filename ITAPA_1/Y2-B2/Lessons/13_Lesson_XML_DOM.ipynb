{
 "cells": [
  {
   "cell_type": "markdown",
   "id": "2547b3d4-aa34-4be2-b4c1-e624883b719c",
   "metadata": {},
   "source": [
    "## Working with XML using DOM in Python\n",
    "\n",
    "### Introduction to XML and DOM\n",
    "\n",
    "XML (eXtensible Markup Language) is a markup language used to store and transport data. It is both human-readable and machine-readable. An XML document consists of elements, each with a start tag, content, and an end tag. Elements can also have attributes.\n",
    "\n",
    "DOM (Document Object Model) is a programming interface for XML documents. It represents the document as a tree structure, where each node is an object representing a part of the document.\n",
    "\n",
    "### Parts of an XML Document\n",
    "\n",
    "| **Component**   | **Description**                                                                                     | **Example**                                 |\n",
    "|-----------------|-----------------------------------------------------------------------------------------------------|---------------------------------------------|\n",
    "| **Prolog**      | Optional, contains XML declaration and processing instructions                                      | `<?xml version=\"1.0\" encoding=\"UTF-8\"?>`    |\n",
    "| **Element**     | Basic building block of XML, consists of a start tag, content, and an end tag                       | `<name>John Doe</name>`                     |\n",
    "| **Attributes**  | Provide additional information about elements                                                       | `<country name=\"USA\">`                      |\n",
    "| **Tag**         | Name of the element enclosed in angle brackets                                                      | `<name> ... </name>`                        |\n",
    "| **Text String** | The content between the start and end tags                                                          | `<name>John Doe</name>` (John Doe is text)  |\n",
    "| **Tail String** | The text after an element’s end tag, but within the parent element                                  | `<element>Text</element> tail text`         |\n",
    "| **Nested Elements** | Elements can contain other elements                                                             | `<person><name>John</name></person>`        |\n",
    "| **Child Elements**  | Elements nested within another element                                                          | `<person><name>John</name></person>`        |\n",
    "| **CDATA**       | Character data, used to include text that should not be parsed by the XML parser                    | `<![CDATA[Some unparsed data]]>`            |\n",
    "| **Comments**    | Provide comments within the XML code                                                                | `<!-- This is a comment -->`                |\n"
   ]
  },
  {
   "cell_type": "markdown",
   "id": "d9496561-fe37-435a-bf46-09bc41c0eef4",
   "metadata": {},
   "source": [
    "### ElementTree vs. DOM\n",
    "\n",
    "ElementTree and DOM (Document Object Model) are two different APIs in Python for parsing and manipulating XML documents.\n",
    "\n",
    "#### ElementTree:\n",
    "\n",
    "- It is a simpler and more Pythonic way of working with XML data.\n",
    "- It provides an easy-to-use tree structure for XML data.\n",
    "- ElementTree is more memory efficient for large XML files.\n",
    "- Best suited for simpler XML manipulation tasks.\n",
    "\n",
    "#### DOM (Document Object Model):\n",
    "\n",
    "- It is a more complex and comprehensive API.\n",
    "- Provides a detailed representation of the XML document as a tree of nodes.\n",
    "- Allows for more extensive manipulation of the XML document.\n",
    "- Suitable for applications that need to perform complex XML manipulations.\n",
    "\n",
    "| **Aspect**             | **ElementTree**                                              | **DOM (Document Object Model)**                         |\n",
    "|------------------------|--------------------------------------------------------------|---------------------------------------------------------|\n",
    "| **Complexity**         | Simple and easy to use                                       | More complex and comprehensive                          |\n",
    "| **Memory Usage**       | More memory efficient                                        | Less memory efficient                                   |\n",
    "| **Performance**        | Faster for large documents                                   | Slower for large documents                              |\n",
    "| **API Style**          | Pythonic, uses Element and SubElement                        | Standardized, uses Nodes and Elements                   |\n",
    "| **Manipulation**       | Basic manipulation capabilities                              | Extensive manipulation capabilities                     |\n",
    "| **Use Case**           | Suitable for simpler tasks                                   | Suitable for complex and detailed XML manipulations     |\n",
    "| **Learning Curve**     | Easier to learn and use                                      | Steeper learning curve                                  |\n",
    "| **Standards Compliance** | Less compliant with W3C standards                          | Highly compliant with W3C standards                     |\n"
   ]
  },
  {
   "cell_type": "markdown",
   "id": "3cf18ea5-ed67-4e4d-ac7a-30261c2231ec",
   "metadata": {},
   "source": [
    "#### Parsing an XML File\n",
    "\n",
    "We will start by parsing an XML file. Suppose we have the following XML file named countries.xml:"
   ]
  },
  {
   "cell_type": "code",
   "execution_count": null,
   "id": "db9a22a3-67ce-4a57-be8f-898c95ccaa41",
   "metadata": {},
   "outputs": [],
   "source": [
    "'''\n",
    "<?xml version=\"1.0\" encoding=\"UTF-8\"?>\n",
    "<countries>\n",
    "    <country name=\"USA\" capital=\"Washington, D.C.\" population=\"331002651\" continent=\"North America\"/>\n",
    "    <country name=\"China\" capital=\"Beijing\" population=\"1439323776\" continent=\"Asia\"/>\n",
    "    <country name=\"Brazil\" capital=\"Brasília\" population=\"212559417\" continent=\"South America\"/>\n",
    "</countries>\n",
    "'''"
   ]
  },
  {
   "cell_type": "code",
   "execution_count": 2,
   "id": "34fe4705-f654-4ce6-9bf5-f610e1cc3e14",
   "metadata": {},
   "outputs": [
    {
     "name": "stdout",
     "output_type": "stream",
     "text": [
      "Root element: countries\n"
     ]
    }
   ],
   "source": [
    "from xml.dom.minidom import parse\n",
    "\n",
    "# Parse the XML file\n",
    "dom_tree = parse(\"countries.xml\")\n",
    "root = dom_tree.documentElement\n",
    "\n",
    "# Print the root element's tag name\n",
    "print(\"Root element:\", root.tagName)\n"
   ]
  },
  {
   "cell_type": "markdown",
   "id": "83d066d5-86e3-4fd7-bb42-2caf098279e2",
   "metadata": {},
   "source": [
    "#### Accessing Elements"
   ]
  },
  {
   "cell_type": "code",
   "execution_count": 3,
   "id": "375b7f23-f872-4031-813c-c57e2c17a880",
   "metadata": {},
   "outputs": [
    {
     "name": "stdout",
     "output_type": "stream",
     "text": [
      "Country: USA, Capital: Washington, D.C., Population: 331002651, Continent: North America\n",
      "Country: China, Capital: Beijing, Population: 1439323776, Continent: Asia\n",
      "Country: Brazil, Capital: Brasília, Population: 212559417, Continent: South America\n"
     ]
    }
   ],
   "source": [
    "# Get all the country elements\n",
    "countries = root.getElementsByTagName(\"country\")\n",
    "\n",
    "# Loop through the country elements and print their details\n",
    "for country in countries:\n",
    "    name = country.getAttribute(\"name\")\n",
    "    capital = country.getAttribute(\"capital\")\n",
    "    population = country.getAttribute(\"population\")\n",
    "    continent = country.getAttribute(\"continent\")\n",
    "    print(f\"Country: {name}, Capital: {capital}, Population: {population}, Continent: {continent}\")\n"
   ]
  },
  {
   "cell_type": "markdown",
   "id": "4e26ac61-0efc-498b-a5db-a47e2f8fa168",
   "metadata": {},
   "source": [
    "#### Modifying XML\n",
    "##### Adding a New Country"
   ]
  },
  {
   "cell_type": "code",
   "execution_count": 4,
   "id": "66a3c575-7020-4cad-8af3-301da8d662dc",
   "metadata": {},
   "outputs": [
    {
     "name": "stdout",
     "output_type": "stream",
     "text": [
      "New country added and saved to 'modified_countries.xml'.\n"
     ]
    }
   ],
   "source": [
    "# Function to add a new country\n",
    "def add_country(doc, root, name, capital, population, continent):\n",
    "    new_country = doc.createElement(\"country\")\n",
    "    new_country.setAttribute(\"name\", name)\n",
    "    new_country.setAttribute(\"capital\", capital)\n",
    "    new_country.setAttribute(\"population\", str(population))\n",
    "    new_country.setAttribute(\"continent\", continent)\n",
    "    root.appendChild(new_country)\n",
    "\n",
    "# Add a new country\n",
    "add_country(dom_tree, root, \"India\", \"New Delhi\", 1380004385, \"Asia\")\n",
    "\n",
    "# Save the changes to a new file\n",
    "with open(\"modified_countries.xml\", \"w\") as f:\n",
    "    dom_tree.writexml(f, indent=\"\", addindent=\"  \", newl=\"\\n\")\n",
    "\n",
    "print(\"New country added and saved to 'modified_countries.xml'.\")\n"
   ]
  },
  {
   "cell_type": "markdown",
   "id": "93244048-a2b8-439e-a045-4a8b475a9179",
   "metadata": {},
   "source": [
    "##### Removing a country"
   ]
  },
  {
   "cell_type": "code",
   "execution_count": null,
   "id": "b6040311-4520-4cf2-b1e1-844897b959f3",
   "metadata": {},
   "outputs": [],
   "source": [
    "# Function to delete a country\n",
    "def delete_country(root, name):\n",
    "    countries = root.getElementsByTagName(\"country\")\n",
    "    for country in countries:\n",
    "        if country.getAttribute(\"name\") == name:\n",
    "            root.removeChild(country)\n",
    "            break\n",
    "\n",
    "# Delete the country 'Brazil'\n",
    "delete_country(root, \"Brazil\")\n",
    "\n",
    "# Save the changes to a new file\n",
    "with open(\"modified_countries.xml\", \"w\") as f:\n",
    "    dom_tree.writexml(f, indent=\"\", addindent=\"  \", newl=\"\\n\")\n",
    "\n",
    "print(\"Country 'Brazil' removed and saved to 'modified_countries.xml'.\")\n"
   ]
  },
  {
   "cell_type": "markdown",
   "id": "f6fe1a18-f140-440a-a7ea-5808bd017b4a",
   "metadata": {},
   "source": [
    "#### Creating a New XML File from Scratch"
   ]
  },
  {
   "cell_type": "code",
   "execution_count": 5,
   "id": "db302882-71fe-4872-8659-27e7d63f1cc4",
   "metadata": {},
   "outputs": [
    {
     "name": "stdout",
     "output_type": "stream",
     "text": [
      "New XML file 'new_countries.xml' created successfully.\n"
     ]
    }
   ],
   "source": [
    "from xml.dom.minidom import Document\n",
    "\n",
    "# Create a new XML document\n",
    "new_doc = Document()\n",
    "\n",
    "# Create the root element\n",
    "countries = new_doc.createElement(\"countries\")\n",
    "new_doc.appendChild(countries)\n",
    "\n",
    "# Function to add a country element\n",
    "def add_country(doc, root, name, capital, population, continent):\n",
    "    country = doc.createElement(\"country\")\n",
    "    country.setAttribute(\"name\", name)\n",
    "    country.setAttribute(\"capital\", capital)\n",
    "    country.setAttribute(\"population\", str(population))\n",
    "    country.setAttribute(\"continent\", continent)\n",
    "    root.appendChild(country)\n",
    "\n",
    "# Add countries\n",
    "add_country(new_doc, countries, \"Canada\", \"Ottawa\", 37742154, \"North America\")\n",
    "add_country(new_doc, countries, \"Germany\", \"Berlin\", 83783942, \"Europe\")\n",
    "add_country(new_doc, countries, \"Australia\", \"Canberra\", 25499884, \"Australia\")\n",
    "\n",
    "# Save the new XML to a file\n",
    "with open(\"new_countries.xml\", \"w\") as f:\n",
    "    new_doc.writexml(f, indent=\"\", addindent=\"  \", newl=\"\\n\")\n",
    "\n",
    "print(\"New XML file 'new_countries.xml' created successfully.\")\n"
   ]
  },
  {
   "cell_type": "code",
   "execution_count": null,
   "id": "ca548fce-2be4-4093-ba87-f215835ea765",
   "metadata": {},
   "outputs": [],
   "source": []
  }
 ],
 "metadata": {
  "kernelspec": {
   "display_name": "Python 3 (ipykernel)",
   "language": "python",
   "name": "python3"
  },
  "language_info": {
   "codemirror_mode": {
    "name": "ipython",
    "version": 3
   },
   "file_extension": ".py",
   "mimetype": "text/x-python",
   "name": "python",
   "nbconvert_exporter": "python",
   "pygments_lexer": "ipython3",
   "version": "3.11.5"
  }
 },
 "nbformat": 4,
 "nbformat_minor": 5
}
