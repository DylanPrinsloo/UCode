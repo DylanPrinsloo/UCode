{
 "cells": [
  {
   "cell_type": "markdown",
   "id": "ed677f43-faea-4de5-8c41-663ed48380b9",
   "metadata": {},
   "source": [
    "## Creating and Modifying an XML File with Countries\n",
    "\n",
    "Create an XML file representing a list of countries with attributes such as name, capital, population, and continent. After creating the XML file, modify it by adding a new country and deleting an existing country.\n",
    "\n",
    "#### Requirements:\n",
    "\n",
    "1. The XML file should have a root element named countries.\n",
    "2. Each country should be represented by a country element with attributes name, capital, population, and continent.\n",
    "3. Include at least three countries in the initial XML file.\n",
    "4. Create a function to add additional new countries as a child element to the countries of the now existing XML file.\n",
    "5. Create a function to delete an existing country from the countries from the XML file.\n",
    "6. Ensure that the modifications (addition and deletion) are reflected in the XML file.\n",
    "\n",
    "#### Instructions:\n",
    "\n",
    " - Use Python and the xml.etree.ElementTree module to create the initial XML file.\n",
    " - Save the XML content to a file named countries.xml.\n",
    " - Implement functions to add a new country and delete an existing country from the XML structure.\n",
    " - Validate that the modifications are correctly applied by printing the updated XML content."
   ]
  },
  {
   "cell_type": "code",
   "execution_count": null,
   "id": "3a90d6e4",
   "metadata": {},
   "outputs": [],
   "source": [
    "import xml.etree.ElementTree as ET\n",
    "\n",
    "# create root\n",
    "list_countries = ET.Element('countries', tag='The list of countries will be here')\n",
    "\n",
    "def add_countries(list_countires, id, name, capital, population, continent):\n",
    "    country = ET.SubElement(list_countries, 'country', id = id)\n",
    "\n",
    "    ET.addAttribute(country,'name')\n",
    "    ET.addAttribute(country,'capital')\n",
    "    ET.addAttribute(country,'population')\n",
    "    ET.addAttribute(country,'continent')\n",
    "\n",
    "#add_countires\n",
    "country_1(1, 'RSA', 'Bloemfontein', '42 mil', 'Africa')\n",
    "country_2(2, 'USA', 'Washinghton', '365 mil', 'America')\n",
    "country_3(3, 'TUUP', 'Mars', '0.002 mil', 'Solas')\n",
    "\n"
   ]
  }
 ],
 "metadata": {
  "kernelspec": {
   "display_name": "Python 3 (ipykernel)",
   "language": "python",
   "name": "python3"
  },
  "language_info": {
   "codemirror_mode": {
    "name": "ipython",
    "version": 3
   },
   "file_extension": ".py",
   "mimetype": "text/x-python",
   "name": "python",
   "nbconvert_exporter": "python",
   "pygments_lexer": "ipython3",
   "version": "3.11.5"
  }
 },
 "nbformat": 4,
 "nbformat_minor": 5
}
