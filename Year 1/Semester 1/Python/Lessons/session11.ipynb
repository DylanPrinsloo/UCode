{
  "cells": [
    {
      "cell_type": "code",
      "execution_count": 1,
      "id": "cell-lec17-0",
      "metadata": {
        "id": "cell-lec17-0"
      },
      "outputs": [],
      "source": [
        "#These are libraries that you should import if needed for your notebook.\n",
        "#import libraries\n",
        "import pandas as pd\n",
        "import seaborn as sns\n",
        "import numpy as np\n",
        "%matplotlib inline\n",
        "import matplotlib.pyplot as plots\n",
        "plots.style.use('fivethirtyeight')"
      ]
    },
    {
      "cell_type": "markdown",
      "id": "cell-lec17-2",
      "metadata": {
        "collapsed": true,
        "id": "cell-lec17-2"
      },
      "source": [
        "## Product defects ##"
      ]
    },
    {
      "cell_type": "markdown",
      "id": "OIWr6OCYI3B3",
      "metadata": {
        "id": "OIWr6OCYI3B3"
      },
      "source": [
        "A manufacturing plant produces a specific product, and defects can be categorized into four types. Based on historical data, the company expects the following distribution of defect types:\n",
        "\n",
        "50% of the products are expected to be defect-free.\n",
        "\n",
        "20% of the products are expected to have Type A defects.\n",
        "\n",
        "15% of the products are expected to have Type B defects.\n",
        "\n",
        "15% of the products are expected to have Type C defects.\n",
        "\n",
        "\n",
        "\n",
        "\n",
        "The company inspects 400 products, and the observed distribution of defect types is:\n",
        "\n",
        "250 products were defect-free.\n",
        "\n",
        "50 products had Type A defects.\n",
        "\n",
        "40 products had Type B defects.\n",
        "\n",
        "60 products had Type C defects."
      ]
    },
    {
      "cell_type": "code",
      "execution_count": 5,
      "id": "cell-lec17-3",
      "metadata": {
        "id": "cell-lec17-3"
      },
      "outputs": [
        {
          "data": {
            "text/html": [
              "<div>\n",
              "<style scoped>\n",
              "    .dataframe tbody tr th:only-of-type {\n",
              "        vertical-align: middle;\n",
              "    }\n",
              "\n",
              "    .dataframe tbody tr th {\n",
              "        vertical-align: top;\n",
              "    }\n",
              "\n",
              "    .dataframe thead th {\n",
              "        text-align: right;\n",
              "    }\n",
              "</style>\n",
              "<table border=\"1\" class=\"dataframe\">\n",
              "  <thead>\n",
              "    <tr style=\"text-align: right;\">\n",
              "      <th></th>\n",
              "      <th>Type</th>\n",
              "    </tr>\n",
              "  </thead>\n",
              "  <tbody>\n",
              "    <tr>\n",
              "      <th>0</th>\n",
              "      <td>No</td>\n",
              "    </tr>\n",
              "    <tr>\n",
              "      <th>1</th>\n",
              "      <td>A</td>\n",
              "    </tr>\n",
              "    <tr>\n",
              "      <th>2</th>\n",
              "      <td>B</td>\n",
              "    </tr>\n",
              "    <tr>\n",
              "      <th>3</th>\n",
              "      <td>C</td>\n",
              "    </tr>\n",
              "  </tbody>\n",
              "</table>\n",
              "</div>"
            ],
            "text/plain": [
              "  Type\n",
              "0   No\n",
              "1    A\n",
              "2    B\n",
              "3    C"
            ]
          },
          "execution_count": 5,
          "metadata": {},
          "output_type": "execute_result"
        }
      ],
      "source": [
        "#Let's create a table\n",
        "defects = pd.DataFrame({'Type': ['No', 'A', 'B', 'C']})\n",
        "defects"
      ]
    },
    {
      "cell_type": "code",
      "execution_count": 41,
      "id": "fQE6EKlmJ07F",
      "metadata": {
        "id": "fQE6EKlmJ07F"
      },
      "outputs": [
        {
          "data": {
            "text/html": [
              "<div>\n",
              "<style scoped>\n",
              "    .dataframe tbody tr th:only-of-type {\n",
              "        vertical-align: middle;\n",
              "    }\n",
              "\n",
              "    .dataframe tbody tr th {\n",
              "        vertical-align: top;\n",
              "    }\n",
              "\n",
              "    .dataframe thead th {\n",
              "        text-align: right;\n",
              "    }\n",
              "</style>\n",
              "<table border=\"1\" class=\"dataframe\">\n",
              "  <thead>\n",
              "    <tr style=\"text-align: right;\">\n",
              "      <th></th>\n",
              "      <th>Type</th>\n",
              "      <th>Past</th>\n",
              "      <th>Obsererved</th>\n",
              "      <th>Observed</th>\n",
              "    </tr>\n",
              "  </thead>\n",
              "  <tbody>\n",
              "    <tr>\n",
              "      <th>0</th>\n",
              "      <td>No</td>\n",
              "      <td>0.50</td>\n",
              "      <td>0.625</td>\n",
              "      <td>0.625</td>\n",
              "    </tr>\n",
              "    <tr>\n",
              "      <th>1</th>\n",
              "      <td>A</td>\n",
              "      <td>0.20</td>\n",
              "      <td>0.125</td>\n",
              "      <td>0.125</td>\n",
              "    </tr>\n",
              "    <tr>\n",
              "      <th>2</th>\n",
              "      <td>B</td>\n",
              "      <td>0.15</td>\n",
              "      <td>0.100</td>\n",
              "      <td>0.100</td>\n",
              "    </tr>\n",
              "    <tr>\n",
              "      <th>3</th>\n",
              "      <td>C</td>\n",
              "      <td>0.15</td>\n",
              "      <td>0.150</td>\n",
              "      <td>0.150</td>\n",
              "    </tr>\n",
              "  </tbody>\n",
              "</table>\n",
              "</div>"
            ],
            "text/plain": [
              "  Type  Past  Obsererved  Observed\n",
              "0   No  0.50       0.625     0.625\n",
              "1    A  0.20       0.125     0.125\n",
              "2    B  0.15       0.100     0.100\n",
              "3    C  0.15       0.150     0.150"
            ]
          },
          "execution_count": 41,
          "metadata": {},
          "output_type": "execute_result"
        }
      ],
      "source": [
        "#Let's add more columns\n",
        "defects['Past'] = [0.5, 0.2, 0.15, 0.15]\n",
        "defects['Observed'] = [250/400, 50/400, 40/400, 60/400]\n",
        "defects"
      ]
    },
    {
      "cell_type": "code",
      "execution_count": 42,
      "id": "cell-lec17-4",
      "metadata": {
        "id": "cell-lec17-4"
      },
      "outputs": [
        {
          "data": {
            "text/plain": [
              "[Text(0, 0, 'No'), Text(0, 1, 'A'), Text(0, 2, 'B'), Text(0, 3, 'C')]"
            ]
          },
          "execution_count": 42,
          "metadata": {},
          "output_type": "execute_result"
        },
        {
          "data": {
            "image/png": "[encoded data removed]",
            "text/plain": [
              "<Figure size 640x480 with 1 Axes>"
            ]
          },
          "metadata": {},
          "output_type": "display_data"
        }
      ],
      "source": [
        "#plot\n",
        "defects.plot(kind='barh').set_yticklabels(defects['Type'])"
      ]
    },
    {
      "cell_type": "code",
      "execution_count": 43,
      "id": "cell-lec17-5",
      "metadata": {
        "id": "cell-lec17-5"
      },
      "outputs": [],
      "source": [
        "# Under the model, this is the true distribution of defects\n",
        "# from which products are randomly sampled\n",
        "outcomes = ['No', 'A', 'B', 'C']\n",
        "model = [0.5, 0.2, 0.15, 0.15]"
      ]
    },
    {
      "cell_type": "code",
      "execution_count": 44,
      "id": "TYCPzWe_S7G1",
      "metadata": {
        "id": "TYCPzWe_S7G1"
      },
      "outputs": [
        {
          "name": "stdout",
          "output_type": "stream",
          "text": [
            "[np.float64(0.5275), np.float64(0.1925), np.float64(0.1475), np.float64(0.1325)]\n"
          ]
        }
      ],
      "source": [
        "#let's determine the percentage of each outome from the model distribution\n",
        "simulated = np.random.choice(outcomes, p=model, size=400)\n",
        "\n",
        "result=[]\n",
        "for i in outcomes:\n",
        "    result.append(sum(simulated==i)/400)\n",
        "\n",
        "print(result)"
      ]
    },
    {
      "cell_type": "code",
      "execution_count": 45,
      "id": "cell-lec17-6",
      "metadata": {
        "id": "cell-lec17-6"
      },
      "outputs": [],
      "source": [
        "# Let's simulate a random draw of 400 products from the model distribution\n",
        "def sample():\n",
        "    simulated = np.random.choice(outcomes, p=model, size=400)\n",
        "    result=[]\n",
        "    for i in outcomes:\n",
        "        result.append(sum(simulated==i)/400)\n",
        "\n",
        "    return result\n",
        "\n",
        "#sample() "
      ]
    },
    {
      "cell_type": "code",
      "execution_count": 46,
      "id": "cell-lec17-7",
      "metadata": {
        "id": "cell-lec17-7"
      },
      "outputs": [
        {
          "data": {
            "text/html": [
              "<div>\n",
              "<style scoped>\n",
              "    .dataframe tbody tr th:only-of-type {\n",
              "        vertical-align: middle;\n",
              "    }\n",
              "\n",
              "    .dataframe tbody tr th {\n",
              "        vertical-align: top;\n",
              "    }\n",
              "\n",
              "    .dataframe thead th {\n",
              "        text-align: right;\n",
              "    }\n",
              "</style>\n",
              "<table border=\"1\" class=\"dataframe\">\n",
              "  <thead>\n",
              "    <tr style=\"text-align: right;\">\n",
              "      <th></th>\n",
              "      <th>Type</th>\n",
              "      <th>Past</th>\n",
              "      <th>Obsererved</th>\n",
              "      <th>Observed</th>\n",
              "      <th>Simulated</th>\n",
              "    </tr>\n",
              "  </thead>\n",
              "  <tbody>\n",
              "    <tr>\n",
              "      <th>0</th>\n",
              "      <td>No</td>\n",
              "      <td>0.50</td>\n",
              "      <td>0.625</td>\n",
              "      <td>0.625</td>\n",
              "      <td>0.5275</td>\n",
              "    </tr>\n",
              "    <tr>\n",
              "      <th>1</th>\n",
              "      <td>A</td>\n",
              "      <td>0.20</td>\n",
              "      <td>0.125</td>\n",
              "      <td>0.125</td>\n",
              "      <td>0.1925</td>\n",
              "    </tr>\n",
              "    <tr>\n",
              "      <th>2</th>\n",
              "      <td>B</td>\n",
              "      <td>0.15</td>\n",
              "      <td>0.100</td>\n",
              "      <td>0.100</td>\n",
              "      <td>0.1475</td>\n",
              "    </tr>\n",
              "    <tr>\n",
              "      <th>3</th>\n",
              "      <td>C</td>\n",
              "      <td>0.15</td>\n",
              "      <td>0.150</td>\n",
              "      <td>0.150</td>\n",
              "      <td>0.1325</td>\n",
              "    </tr>\n",
              "  </tbody>\n",
              "</table>\n",
              "</div>"
            ],
            "text/plain": [
              "  Type  Past  Obsererved  Observed  Simulated\n",
              "0   No  0.50       0.625     0.625     0.5275\n",
              "1    A  0.20       0.125     0.125     0.1925\n",
              "2    B  0.15       0.100     0.100     0.1475\n",
              "3    C  0.15       0.150     0.150     0.1325"
            ]
          },
          "execution_count": 46,
          "metadata": {},
          "output_type": "execute_result"
        }
      ],
      "source": [
        "# Let's put this into a table\n",
        "\n",
        "\n",
        "defects_with_simulated = defects.copy()\n",
        "defects_with_simulated['Simulated'] = result\n",
        "defects_with_simulated"
      ]
    },
    {
      "cell_type": "code",
      "execution_count": 47,
      "id": "cell-lec17-8",
      "metadata": {
        "id": "cell-lec17-8"
      },
      "outputs": [
        {
          "data": {
            "text/plain": [
              "[Text(0, 0, 'No'), Text(0, 1, 'A'), Text(0, 2, 'B'), Text(0, 3, 'C')]"
            ]
          },
          "execution_count": 47,
          "metadata": {},
          "output_type": "execute_result"
        },
        {
          "data": {
            "image/png": "[encoded data removed]",
            "text/plain": [
              "<Figure size 640x480 with 1 Axes>"
            ]
          },
          "metadata": {},
          "output_type": "display_data"
        }
      ],
      "source": [
        "#Let's plot this\n",
        "defects_with_simulated.plot(kind='barh').set_yticklabels(defects_with_simulated['Type'])"
      ]
    },
    {
      "cell_type": "markdown",
      "id": "cell-lec17-9",
      "metadata": {
        "id": "cell-lec17-9"
      },
      "source": [
        "## Distance Between Distributions"
      ]
    },
    {
      "cell_type": "code",
      "execution_count": 48,
      "id": "cell-lec17-10",
      "metadata": {
        "id": "cell-lec17-10"
      },
      "outputs": [
        {
          "data": {
            "text/html": [
              "<div>\n",
              "<style scoped>\n",
              "    .dataframe tbody tr th:only-of-type {\n",
              "        vertical-align: middle;\n",
              "    }\n",
              "\n",
              "    .dataframe tbody tr th {\n",
              "        vertical-align: top;\n",
              "    }\n",
              "\n",
              "    .dataframe thead th {\n",
              "        text-align: right;\n",
              "    }\n",
              "</style>\n",
              "<table border=\"1\" class=\"dataframe\">\n",
              "  <thead>\n",
              "    <tr style=\"text-align: right;\">\n",
              "      <th></th>\n",
              "      <th>Type</th>\n",
              "      <th>Past</th>\n",
              "      <th>Obsererved</th>\n",
              "      <th>Observed</th>\n",
              "      <th>Difference</th>\n",
              "    </tr>\n",
              "  </thead>\n",
              "  <tbody>\n",
              "    <tr>\n",
              "      <th>0</th>\n",
              "      <td>No</td>\n",
              "      <td>0.50</td>\n",
              "      <td>0.625</td>\n",
              "      <td>0.625</td>\n",
              "      <td>0.125</td>\n",
              "    </tr>\n",
              "    <tr>\n",
              "      <th>1</th>\n",
              "      <td>A</td>\n",
              "      <td>0.20</td>\n",
              "      <td>0.125</td>\n",
              "      <td>0.125</td>\n",
              "      <td>-0.075</td>\n",
              "    </tr>\n",
              "    <tr>\n",
              "      <th>2</th>\n",
              "      <td>B</td>\n",
              "      <td>0.15</td>\n",
              "      <td>0.100</td>\n",
              "      <td>0.100</td>\n",
              "      <td>-0.050</td>\n",
              "    </tr>\n",
              "    <tr>\n",
              "      <th>3</th>\n",
              "      <td>C</td>\n",
              "      <td>0.15</td>\n",
              "      <td>0.150</td>\n",
              "      <td>0.150</td>\n",
              "      <td>0.000</td>\n",
              "    </tr>\n",
              "  </tbody>\n",
              "</table>\n",
              "</div>"
            ],
            "text/plain": [
              "  Type  Past  Obsererved  Observed  Difference\n",
              "0   No  0.50       0.625     0.625       0.125\n",
              "1    A  0.20       0.125     0.125      -0.075\n",
              "2    B  0.15       0.100     0.100      -0.050\n",
              "3    C  0.15       0.150     0.150       0.000"
            ]
          },
          "execution_count": 48,
          "metadata": {},
          "output_type": "execute_result"
        }
      ],
      "source": [
        "# We need to understand how each of the 4 categories\n",
        "# differ from their expected values according to the model.\n",
        "differ = defects['Observed'] - defects['Past']\n",
        "defects_with_difference = defects.copy()\n",
        "defects_with_difference['Difference'] = differ\n",
        "defects_with_difference"
      ]
    },
    {
      "cell_type": "markdown",
      "id": "cell-lec17-11",
      "metadata": {
        "id": "cell-lec17-11"
      },
      "source": [
        "## Total Variation Distance"
      ]
    },
    {
      "cell_type": "code",
      "execution_count": 49,
      "id": "cell-lec17-12",
      "metadata": {
        "id": "cell-lec17-12"
      },
      "outputs": [],
      "source": [
        "#Let's define total variation distance\n",
        "def total_variation_distance(distance1, distance2):\n",
        "    return sum(abs(distance1 - distance2))/2"
      ]
    },
    {
      "cell_type": "code",
      "execution_count": 50,
      "id": "cell-lec17-13",
      "metadata": {
        "id": "cell-lec17-13"
      },
      "outputs": [
        {
          "data": {
            "text/plain": [
              "0.125"
            ]
          },
          "execution_count": 50,
          "metadata": {},
          "output_type": "execute_result"
        }
      ],
      "source": [
        "# The TVD of our observed data (observed) from their expected values\n",
        "# assuming the model is true (past)\n",
        "observed_tvd = total_variation_distance(defects['Past'], defects['Observed'])\n",
        "observed_tvd"
      ]
    },
    {
      "cell_type": "code",
      "execution_count": 37,
      "id": "cell-lec17-14",
      "metadata": {
        "id": "cell-lec17-14"
      },
      "outputs": [
        {
          "data": {
            "text/plain": [
              "0.0625"
            ]
          },
          "execution_count": 37,
          "metadata": {},
          "output_type": "execute_result"
        }
      ],
      "source": [
        "# The TVD of a model simluation from its expected values\n",
        "total_variation_distance(sample(), defects['Past'])"
      ]
    },
    {
      "cell_type": "code",
      "execution_count": 58,
      "id": "cell-lec17-15",
      "metadata": {
        "id": "cell-lec17-15"
      },
      "outputs": [],
      "source": [
        "#Let's put this into a function\n",
        "def simulated_tvd():\n",
        "    return total_variation_distance(sample(), defects['Past'])\n",
        "\n",
        "# Initialize a list to store the results of each simulation\n",
        "total_variation_distance_results = []\n",
        "\n",
        "number_simulation = 10000\n",
        "\n",
        "for _ in range(number_simulation):\n",
        "    # Compute the Total Variation Distance for this simulation\n",
        "    tvd = simulated_tvd()\n",
        "    # Append the result to the list\n",
        "    total_variation_distance_results.append(tvd)\n",
        "\n",
        "# Now, total_variation_distance_results contains the TVD results for all simulations\n",
        "\n",
        "\n"
      ]
    },
    {
      "cell_type": "code",
      "execution_count": 62,
      "id": "cell-lec17-16",
      "metadata": {
        "id": "cell-lec17-16"
      },
      "outputs": [
        {
          "data": {
            "image/png": "[encoded data removed]",
            "text/plain": [
              "<Figure size 640x480 with 1 Axes>"
            ]
          },
          "metadata": {},
          "output_type": "display_data"
        }
      ],
      "source": [
        "#Let's plot the results\n",
        "df = pd.DataFrame({'TVDS': total_variation_distance_results})\n",
        "df.hist(column='TVDS', bins=30, edgecolor='black')\n",
        "plots.xlabel('Total Variation Distance')\n",
        "plots.ylabel('Frequency')\n",
        "plots.title('Histogram of Total Variation Distances')\n",
        "plots.show()"
      ]
    }
  ],
  "metadata": {
    "anaconda-cloud": {},
    "colab": {
      "provenance": []
    },
    "kernelspec": {
      "display_name": "Python 3",
      "language": "python",
      "name": "python3"
    },
    "language_info": {
      "codemirror_mode": {
        "name": "ipython",
        "version": 3
      },
      "file_extension": ".py",
      "mimetype": "text/x-python",
      "name": "python",
      "nbconvert_exporter": "python",
      "pygments_lexer": "ipython3",
      "version": "3.12.4"
    }
  },
  "nbformat": 4,
  "nbformat_minor": 5
}
