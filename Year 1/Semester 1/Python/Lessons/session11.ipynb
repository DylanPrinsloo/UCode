{
  "cells": [
    {
      "cell_type": "code",
      "execution_count": 2,
      "id": "cell-lec19-0",
      "metadata": {
        "id": "cell-lec19-0"
      },
      "outputs": [],
      "source": [
        "#These are libraries that you should import if needed for your notebook.\n",
        "#import libraries\n",
        "import pandas as pd\n",
        "import seaborn as sns\n",
        "import numpy as np\n",
        "%matplotlib inline\n",
        "import matplotlib.pyplot as plots\n",
        "plots.style.use('fivethirtyeight')\n",
        "#from google.colab import files"
      ]
    },
    {
      "cell_type": "markdown",
      "id": "cell-lec19-1",
      "metadata": {
        "id": "cell-lec19-1"
      },
      "source": [
        "# Comparing Two Samples"
      ]
    },
    {
      "cell_type": "code",
      "execution_count": null,
      "id": "cell-lec19-2",
      "metadata": {
        "id": "cell-lec19-2"
      },
      "outputs": [],
      "source": [
        "#upload the file baby.csv\n"
      ]
    },
    {
      "cell_type": "code",
      "execution_count": null,
      "id": "scjUZDJEV8vN",
      "metadata": {
        "id": "scjUZDJEV8vN"
      },
      "outputs": [],
      "source": [
        "#Read the file baby.csv\n"
      ]
    },
    {
      "cell_type": "code",
      "execution_count": null,
      "id": "cell-lec19-3",
      "metadata": {
        "id": "cell-lec19-3"
      },
      "outputs": [],
      "source": []
    },
    {
      "cell_type": "code",
      "execution_count": null,
      "id": "cell-lec19-4",
      "metadata": {
        "id": "cell-lec19-4"
      },
      "outputs": [],
      "source": [
        "#create a new table only with Maternal Smoker and Birth Weight"
      ]
    },
    {
      "cell_type": "code",
      "execution_count": null,
      "id": "cell-lec19-5",
      "metadata": {
        "id": "cell-lec19-5"
      },
      "outputs": [],
      "source": [
        "#Determine the number of non smokers and smokers\n"
      ]
    },
    {
      "cell_type": "code",
      "execution_count": null,
      "id": "cell-lec19-6",
      "metadata": {
        "id": "cell-lec19-6"
      },
      "outputs": [],
      "source": [
        "#plot the grouped data into a histogram\n"
      ]
    },
    {
      "cell_type": "markdown",
      "id": "cell-lec19-7",
      "metadata": {
        "id": "cell-lec19-7"
      },
      "source": [
        "# Test Statistic\n",
        "\n",
        "[Question] What values of our statistic are in favor of the alternative: positive or negative?"
      ]
    },
    {
      "cell_type": "code",
      "execution_count": null,
      "id": "cell-lec19-8",
      "metadata": {
        "id": "cell-lec19-8"
      },
      "outputs": [],
      "source": [
        "#Determine the mean of the birth weight for smokers vs non-smokers\n",
        "\n"
      ]
    },
    {
      "cell_type": "code",
      "execution_count": null,
      "id": "cell-lec19-9",
      "metadata": {
        "id": "cell-lec19-9"
      },
      "outputs": [],
      "source": [
        "#What is the difference between the birth weight for smokers and non-smokers\n"
      ]
    },
    {
      "cell_type": "code",
      "execution_count": null,
      "id": "cell-lec19-10",
      "metadata": {
        "id": "cell-lec19-10"
      },
      "outputs": [],
      "source": [
        "#Create a function to input a table, a label and group label. which would then determine the label difference grouped by the values in group label\n",
        "\n"
      ]
    },
    {
      "cell_type": "code",
      "execution_count": null,
      "id": "cell-lec19-11",
      "metadata": {
        "id": "cell-lec19-11"
      },
      "outputs": [],
      "source": [
        "#Let's test thi\n"
      ]
    },
    {
      "cell_type": "markdown",
      "id": "cell-lec19-12",
      "metadata": {
        "id": "cell-lec19-12"
      },
      "source": [
        "# Random Permutation (Shuffling)"
      ]
    },
    {
      "cell_type": "code",
      "execution_count": null,
      "id": "cell-lec19-13",
      "metadata": {
        "id": "cell-lec19-13"
      },
      "outputs": [],
      "source": [
        "#Let's create a table\n",
        "\n"
      ]
    },
    {
      "cell_type": "code",
      "execution_count": null,
      "id": "cell-lec19-14",
      "metadata": {
        "id": "cell-lec19-14"
      },
      "outputs": [],
      "source": []
    },
    {
      "cell_type": "code",
      "execution_count": null,
      "id": "cell-lec19-15",
      "metadata": {
        "id": "cell-lec19-15"
      },
      "outputs": [],
      "source": [
        "#Let's shuffle with replacement\n"
      ]
    },
    {
      "cell_type": "code",
      "execution_count": null,
      "id": "cell-lec19-16",
      "metadata": {
        "id": "cell-lec19-16"
      },
      "outputs": [],
      "source": [
        "#Let's shuffle without replacement\n"
      ]
    },
    {
      "cell_type": "code",
      "execution_count": null,
      "id": "MAEaHCwrddSx",
      "metadata": {
        "id": "MAEaHCwrddSx"
      },
      "outputs": [],
      "source": [
        "#Let's put the shuffle without replacement as a column into the table, letters.\n"
      ]
    },
    {
      "cell_type": "markdown",
      "id": "cell-lec19-17",
      "metadata": {
        "id": "cell-lec19-17"
      },
      "source": [
        "# Simulation Under Null Hypothesis"
      ]
    },
    {
      "cell_type": "code",
      "execution_count": null,
      "id": "cell-lec19-18",
      "metadata": {
        "id": "cell-lec19-18"
      },
      "outputs": [],
      "source": [
        "#Call table smoking_and_birthwei\n"
      ]
    },
    {
      "cell_type": "code",
      "execution_count": null,
      "id": "cell-lec19-19",
      "metadata": {
        "id": "cell-lec19-19"
      },
      "outputs": [],
      "source": [
        "#Create an array with maternal smoker column being shuffled\n"
      ]
    },
    {
      "cell_type": "code",
      "execution_count": null,
      "id": "cell-lec19-20",
      "metadata": {
        "id": "cell-lec19-20"
      },
      "outputs": [],
      "source": [
        "#Create a new table original_and_shuffled and add the shuffled labels as a column\n"
      ]
    },
    {
      "cell_type": "code",
      "execution_count": null,
      "id": "cell-lec19-22",
      "metadata": {
        "id": "cell-lec19-22"
      },
      "outputs": [],
      "source": [
        "#determine the difference mean in birth weight for shuffled label\n"
      ]
    },
    {
      "cell_type": "code",
      "execution_count": null,
      "id": "cell-lec19-23",
      "metadata": {
        "id": "cell-lec19-23"
      },
      "outputs": [],
      "source": [
        "#determine the difference mean in birth weight for Maternal smoker\n"
      ]
    },
    {
      "cell_type": "markdown",
      "id": "cell-lec19-24",
      "metadata": {
        "id": "cell-lec19-24"
      },
      "source": [
        "# Permutation Test"
      ]
    },
    {
      "cell_type": "code",
      "execution_count": null,
      "id": "cell-lec19-25",
      "metadata": {
        "id": "cell-lec19-25"
      },
      "outputs": [],
      "source": [
        "#Let's put this all into a function\n",
        "def one_simulated_difference(table, label, group_label):\n",
        "    \"\"\"Takes: name of table, column label of numerical variable,\n",
        "    column label of group-label variable\n",
        "    Returns: Difference of means of the two groups after shuffling labels\"\"\"\n",
        "\n",
        "    # array of shuffled labels\n",
        "    shuffled_labels = np.random.permutation(table[group_label])\n",
        "\n",
        "    # table of numerical variable and shuffled labels\n",
        "    table['Shuffled Label'] = shuffled_labels\n",
        "\n",
        "    return difference_of_means(table, label, 'Shuffled Label')"
      ]
    },
    {
      "cell_type": "code",
      "execution_count": null,
      "id": "cell-lec19-26",
      "metadata": {
        "id": "cell-lec19-26"
      },
      "outputs": [],
      "source": [
        "#Test this function\n"
      ]
    },
    {
      "cell_type": "code",
      "execution_count": null,
      "id": "cell-lec19-27",
      "metadata": {
        "id": "cell-lec19-27"
      },
      "outputs": [],
      "source": [
        "#Let's run this multiple times\n"
      ]
    },
    {
      "cell_type": "code",
      "execution_count": null,
      "id": "cell-lec19-28",
      "metadata": {
        "id": "cell-lec19-28"
      },
      "outputs": [],
      "source": [
        "#Let's plot the distribution from the results above\n"
      ]
    }
  ],
  "metadata": {
    "colab": {
      "provenance": []
    },
    "kernelspec": {
      "display_name": "Python 3",
      "language": "python",
      "name": "python3"
    },
    "language_info": {
      "codemirror_mode": {
        "name": "ipython",
        "version": 3
      },
      "file_extension": ".py",
      "mimetype": "text/x-python",
      "name": "python",
      "nbconvert_exporter": "python",
      "pygments_lexer": "ipython3",
      "version": "3.12.4"
    }
  },
  "nbformat": 4,
  "nbformat_minor": 5
}
