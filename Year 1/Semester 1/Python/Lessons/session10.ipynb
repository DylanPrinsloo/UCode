{
  "cells": [
    {
      "cell_type": "code",
      "execution_count": null,
      "id": "cell-lec17-0",
      "metadata": {
        "id": "cell-lec17-0"
      },
      "outputs": [],
      "source": [
        "#These are libraries that you should import if needed for your notebook.\n",
        "#import libraries\n",
        "import pandas as pd\n",
        "import seaborn as sns\n",
        "import numpy as np\n",
        "%matplotlib inline\n",
        "import matplotlib.pyplot as plots\n",
        "plots.style.use('fivethirtyeight')"
      ]
    },
    {
      "cell_type": "markdown",
      "id": "cell-lec17-2",
      "metadata": {
        "collapsed": true,
        "id": "cell-lec17-2"
      },
      "source": [
        "## Product defects ##"
      ]
    },
    {
      "cell_type": "markdown",
      "source": [
        "A manufacturing plant produces a specific product, and defects can be categorized into four types. Based on historical data, the company expects the following distribution of defect types:\n",
        "\n",
        "50% of the products are expected to be defect-free.\n",
        "\n",
        "20% of the products are expected to have Type A defects.\n",
        "\n",
        "15% of the products are expected to have Type B defects.\n",
        "\n",
        "15% of the products are expected to have Type C defects.\n",
        "\n",
        "\n",
        "\n",
        "\n",
        "The company inspects 400 products, and the observed distribution of defect types is:\n",
        "\n",
        "250 products were defect-free.\n",
        "\n",
        "50 products had Type A defects.\n",
        "\n",
        "40 products had Type B defects.\n",
        "\n",
        "60 products had Type C defects."
      ],
      "metadata": {
        "id": "OIWr6OCYI3B3"
      },
      "id": "OIWr6OCYI3B3"
    },
    {
      "cell_type": "code",
      "execution_count": null,
      "id": "cell-lec17-3",
      "metadata": {
        "id": "cell-lec17-3"
      },
      "outputs": [],
      "source": [
        "#Let's create a table\n"
      ]
    },
    {
      "cell_type": "code",
      "source": [
        "#Let's add more columns\n"
      ],
      "metadata": {
        "id": "fQE6EKlmJ07F"
      },
      "id": "fQE6EKlmJ07F",
      "execution_count": null,
      "outputs": []
    },
    {
      "cell_type": "code",
      "source": [],
      "metadata": {
        "id": "1KSlqKw0Jtto"
      },
      "id": "1KSlqKw0Jtto",
      "execution_count": null,
      "outputs": []
    },
    {
      "cell_type": "code",
      "execution_count": null,
      "id": "cell-lec17-4",
      "metadata": {
        "id": "cell-lec17-4"
      },
      "outputs": [],
      "source": [
        "#plot\n"
      ]
    },
    {
      "cell_type": "code",
      "execution_count": null,
      "id": "cell-lec17-5",
      "metadata": {
        "id": "cell-lec17-5"
      },
      "outputs": [],
      "source": [
        "# Under the model, this is the true distribution of defects\n",
        "# from which products are randomly sampled\n"
      ]
    },
    {
      "cell_type": "code",
      "source": [
        "#let's determine the percentage of each outome from the model distribution\n"
      ],
      "metadata": {
        "id": "TYCPzWe_S7G1"
      },
      "id": "TYCPzWe_S7G1",
      "execution_count": null,
      "outputs": []
    },
    {
      "cell_type": "code",
      "execution_count": null,
      "id": "cell-lec17-6",
      "metadata": {
        "id": "cell-lec17-6"
      },
      "outputs": [],
      "source": [
        "# Let's simulate a random draw of 400 products from the model distribution\n"
      ]
    },
    {
      "cell_type": "code",
      "execution_count": null,
      "id": "cell-lec17-7",
      "metadata": {
        "id": "cell-lec17-7"
      },
      "outputs": [],
      "source": [
        "# Let's put this into a table\n"
      ]
    },
    {
      "cell_type": "code",
      "execution_count": null,
      "id": "cell-lec17-8",
      "metadata": {
        "id": "cell-lec17-8"
      },
      "outputs": [],
      "source": [
        "#Let's plot this"
      ]
    },
    {
      "cell_type": "markdown",
      "id": "cell-lec17-9",
      "metadata": {
        "id": "cell-lec17-9"
      },
      "source": [
        "## Distance Between Distributions"
      ]
    },
    {
      "cell_type": "code",
      "execution_count": null,
      "id": "cell-lec17-10",
      "metadata": {
        "id": "cell-lec17-10"
      },
      "outputs": [],
      "source": [
        "# We need to understand how each of the 4 categories\n",
        "# differ from their expected values according to the model.\n"
      ]
    },
    {
      "cell_type": "markdown",
      "id": "cell-lec17-11",
      "metadata": {
        "id": "cell-lec17-11"
      },
      "source": [
        "## Total Variation Distance"
      ]
    },
    {
      "cell_type": "code",
      "execution_count": null,
      "id": "cell-lec17-12",
      "metadata": {
        "id": "cell-lec17-12"
      },
      "outputs": [],
      "source": [
        "#Let's define total variation distance\n"
      ]
    },
    {
      "cell_type": "code",
      "execution_count": null,
      "id": "cell-lec17-13",
      "metadata": {
        "id": "cell-lec17-13"
      },
      "outputs": [],
      "source": [
        "# The TVD of our observed data (observed) from their expected values\n",
        "# assuming the model is true (past)\n"
      ]
    },
    {
      "cell_type": "code",
      "execution_count": null,
      "id": "cell-lec17-14",
      "metadata": {
        "id": "cell-lec17-14"
      },
      "outputs": [],
      "source": [
        "# The TVD of a model simluation from its expected values\n"
      ]
    },
    {
      "cell_type": "code",
      "execution_count": null,
      "id": "cell-lec17-15",
      "metadata": {
        "id": "cell-lec17-15"
      },
      "outputs": [],
      "source": [
        "#Let's put this into a function\n"
      ]
    },
    {
      "cell_type": "code",
      "execution_count": null,
      "id": "cell-lec17-16",
      "metadata": {
        "id": "cell-lec17-16"
      },
      "outputs": [],
      "source": [
        "#Let's plot the results\n"
      ]
    }
  ],
  "metadata": {
    "anaconda-cloud": {},
    "kernelspec": {
      "display_name": "Python 3",
      "language": "python",
      "name": "python3"
    },
    "language_info": {
      "codemirror_mode": {
        "name": "ipython",
        "version": 3
      },
      "file_extension": ".py",
      "mimetype": "text/x-python",
      "name": "python",
      "nbconvert_exporter": "python",
      "pygments_lexer": "ipython3",
      "version": "3.10.12"
    },
    "colab": {
      "provenance": []
    }
  },
  "nbformat": 4,
  "nbformat_minor": 5
}