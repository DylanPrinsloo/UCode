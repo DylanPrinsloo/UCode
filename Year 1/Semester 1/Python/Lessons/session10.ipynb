{
  "cells": [
    {
      "cell_type": "code",
      "execution_count": null,
      "id": "cell-lec16-0",
      "metadata": {
        "id": "cell-lec16-0"
      },
      "outputs": [],
      "source": [
        "#These are libraries that you should import if needed for your notebook.\n",
        "#import libraries\n",
        "import pandas as pd\n",
        "import seaborn as sns\n",
        "import numpy as np\n",
        "%matplotlib inline\n",
        "import matplotlib.pyplot as plots\n",
        "plots.style.use('fivethirtyeight')"
      ]
    },
    {
      "cell_type": "markdown",
      "source": [
        "## Sampling ##"
      ],
      "metadata": {
        "id": "D1oXja9-C-rU"
      },
      "id": "D1oXja9-C-rU"
    },
    {
      "cell_type": "markdown",
      "source": [
        "Let's do an example where we sample from a Bernoulli distribution. A Bernoulli distribution has only two outcomes and a probability attached with each outcome.\n",
        "\n",
        "E.g. tossing a coin, a drug is effective or not, a catalyst is effective or not, a safety value is activates or not.\n"
      ],
      "metadata": {
        "id": "7t_j_C1BDb9q"
      },
      "id": "7t_j_C1BDb9q"
    },
    {
      "cell_type": "code",
      "source": [
        "#Let's do an example where we sample from a Bernoulli distribution.\n",
        "#Suppose a drug is effective 97% of the time.\n"
      ],
      "metadata": {
        "id": "BHEq8VQrDGWz"
      },
      "id": "BHEq8VQrDGWz",
      "execution_count": null,
      "outputs": []
    },
    {
      "cell_type": "code",
      "source": [
        "#How about if we sample 100 times?\n",
        ""
      ],
      "metadata": {
        "id": "E5SyVEMcEnqI"
      },
      "id": "E5SyVEMcEnqI",
      "execution_count": null,
      "outputs": []
    },
    {
      "cell_type": "code",
      "source": [
        "#We want to work out the proportion of effective in our sample.\n"
      ],
      "metadata": {
        "id": "jRDAueREEtUY"
      },
      "id": "jRDAueREEtUY",
      "execution_count": null,
      "outputs": []
    },
    {
      "cell_type": "code",
      "source": [
        "#Let's do a similar experiment with tossing a coin with 1000 tosses\n"
      ],
      "metadata": {
        "id": "iYTEtnu5FHhA"
      },
      "id": "iYTEtnu5FHhA",
      "execution_count": null,
      "outputs": []
    },
    {
      "cell_type": "markdown",
      "id": "cell-lec16-18",
      "metadata": {
        "id": "cell-lec16-18"
      },
      "source": [
        "## Fair Coin or Not ##"
      ]
    },
    {
      "cell_type": "markdown",
      "source": [
        "Let's do an example to determine if what we observed in real life is likely or unlikely based on some model distribution. A fair coin has a probability of 0.5 probability for heads and 0.5 probability for tails.\n",
        "\n",
        "Suppose, I toss a coin 100 times and observe that heads fell 75% of the time.\n",
        "\n",
        "Is my coin a fair coin or not?"
      ],
      "metadata": {
        "id": "DrRc_kopBwHR"
      },
      "id": "DrRc_kopBwHR"
    },
    {
      "cell_type": "code",
      "execution_count": null,
      "id": "cell-lec16-20",
      "metadata": {
        "id": "cell-lec16-20"
      },
      "outputs": [],
      "source": [
        "#sample_proportions(30, population_proportions)\n"
      ]
    },
    {
      "cell_type": "code",
      "execution_count": null,
      "id": "cell-lec16-21",
      "metadata": {
        "id": "cell-lec16-21"
      },
      "outputs": [],
      "source": [
        "#let's put the above in a function so we can re-use it easily\n"
      ]
    },
    {
      "cell_type": "code",
      "execution_count": null,
      "id": "cell-lec16-22",
      "metadata": {
        "id": "cell-lec16-22"
      },
      "outputs": [],
      "source": [
        "#Test the function\n"
      ]
    },
    {
      "cell_type": "code",
      "execution_count": null,
      "id": "cell-lec16-23",
      "metadata": {
        "id": "cell-lec16-23"
      },
      "outputs": [],
      "source": [
        "#Run the above 10000 times and store it in an array\n"
      ]
    },
    {
      "cell_type": "code",
      "execution_count": null,
      "id": "cell-lec16-24",
      "metadata": {
        "id": "cell-lec16-24"
      },
      "outputs": [],
      "source": [
        "#Draw a histogram\n"
      ]
    },
    {
      "cell_type": "markdown",
      "id": "cell-lec16-25",
      "metadata": {
        "id": "cell-lec16-25"
      },
      "source": [
        "## Mendel and Pea Flowers ##"
      ]
    },
    {
      "cell_type": "markdown",
      "source": [
        "Mendel observed that out of the 929 plants, 709 had purple flowers. However, the expected proportion of purple flowers was 75%."
      ],
      "metadata": {
        "id": "bbShTnCxCmf_"
      },
      "id": "bbShTnCxCmf_"
    },
    {
      "cell_type": "code",
      "execution_count": null,
      "id": "cell-lec16-26",
      "metadata": {
        "id": "cell-lec16-26"
      },
      "outputs": [],
      "source": [
        "## Mendel had 929 plants, of which 709 had purple flowers\n"
      ]
    },
    {
      "cell_type": "code",
      "execution_count": null,
      "id": "cell-lec16-27",
      "metadata": {
        "id": "cell-lec16-27"
      },
      "outputs": [],
      "source": [
        "#First we sample\n"
      ]
    },
    {
      "cell_type": "code",
      "execution_count": null,
      "id": "cell-lec16-28",
      "metadata": {
        "id": "cell-lec16-28"
      },
      "outputs": [],
      "source": [
        "#Then we create a function\n"
      ]
    },
    {
      "cell_type": "code",
      "execution_count": null,
      "id": "cell-lec16-29",
      "metadata": {
        "id": "cell-lec16-29"
      },
      "outputs": [],
      "source": [
        "#test the function\n"
      ]
    },
    {
      "cell_type": "code",
      "execution_count": null,
      "id": "cell-lec16-30",
      "metadata": {
        "id": "cell-lec16-30"
      },
      "outputs": [],
      "source": [
        "#sample multiple times\n"
      ]
    },
    {
      "cell_type": "code",
      "execution_count": null,
      "id": "cell-lec16-31",
      "metadata": {
        "scrolled": true,
        "id": "cell-lec16-31"
      },
      "outputs": [],
      "source": [
        "#plot a histogram\n"
      ]
    }
  ],
  "metadata": {
    "anaconda-cloud": {},
    "kernelspec": {
      "display_name": "Python 3",
      "language": "python",
      "name": "python3"
    },
    "language_info": {
      "codemirror_mode": {
        "name": "ipython",
        "version": 3
      },
      "file_extension": ".py",
      "mimetype": "text/x-python",
      "name": "python",
      "nbconvert_exporter": "python",
      "pygments_lexer": "ipython3",
      "version": "3.10.12"
    },
    "colab": {
      "provenance": []
    }
  },
  "nbformat": 4,
  "nbformat_minor": 5
}