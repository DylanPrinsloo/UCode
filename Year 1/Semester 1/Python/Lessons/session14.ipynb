{
  "cells": [
    {
      "cell_type": "markdown",
      "metadata": {
        "id": "v7xZVPew4iFn"
      },
      "source": [
        "# Confidence Intervals"
      ]
    },
    {
      "cell_type": "markdown",
      "metadata": {
        "id": "eUVtNirV5ShT"
      },
      "source": [
        "### In statistics, a percentile is a term that describes how a score compares to other scores from the same set. While there is no universal definition of percentile, it is commonly expressed as the percentage of values in a set of data scores that fall below a given value.\n",
        "\n",
        "###  Example S = [2,7, 3, 1, 9];\n",
        "### S_sorted = [1, 2, 3, 7, 9];\n",
        "\n",
        "### 80th percentile  = 7    i.e (80/100) * 5  ordered element\n",
        "\n",
        "\n",
        "\n",
        "\n",
        "\n"
      ]
    },
    {
      "cell_type": "code",
      "execution_count": 2,
      "metadata": {
        "id": "CBftEc8m3-7T"
      },
      "outputs": [],
      "source": [
        "#These are libraries that you should import if needed for your notebook.\n",
        "#import libraries\n",
        "import pandas as pd\n",
        "import seaborn as sns\n",
        "import numpy as np\n",
        "%matplotlib inline\n",
        "import matplotlib.pyplot as plots\n",
        "plots.style.use('fivethirtyeight')\n",
        "#from google.colab import files"
      ]
    },
    {
      "cell_type": "code",
      "execution_count": 3,
      "metadata": {
        "id": "jcyFbfKr6_2A"
      },
      "outputs": [
        {
          "data": {
            "text/plain": [
              "array([45, 45, 56, 33, 23, 67, 56, 88])"
            ]
          },
          "execution_count": 3,
          "metadata": {},
          "output_type": "execute_result"
        }
      ],
      "source": [
        "# Percentiles\n",
        "# Creat an array\n",
        "s = np.array([45, 45, 56, 33, 23, 67, 56, 88])\n",
        "s\n"
      ]
    },
    {
      "cell_type": "code",
      "execution_count": 4,
      "metadata": {
        "id": "Gt-xkQj57uIr"
      },
      "outputs": [
        {
          "data": {
            "text/plain": [
              "array([23, 33, 45, 45, 56, 56, 67, 88])"
            ]
          },
          "execution_count": 4,
          "metadata": {},
          "output_type": "execute_result"
        }
      ],
      "source": [
        "# Sort the code\n",
        "np.sort(s)"
      ]
    },
    {
      "cell_type": "code",
      "execution_count": 7,
      "metadata": {
        "id": "-Cvbo4gs8HK9"
      },
      "outputs": [
        {
          "data": {
            "text/plain": [
              "array([0.16666667, 0.33333333, 0.5       , 0.66666667, 0.83333333,\n",
              "       1.        ])"
            ]
          },
          "execution_count": 7,
          "metadata": {},
          "output_type": "execute_result"
        }
      ],
      "source": [
        "# Let determine the 55th percentile of the array\n",
        "np.arange(1, 7)/6\n",
        "# Our 50% percentile lies between? 0.333 - 0.666 \n"
      ]
    },
    {
      "cell_type": "code",
      "execution_count": 8,
      "metadata": {
        "id": "Rjwbk2DO8mmr"
      },
      "outputs": [
        {
          "data": {
            "text/plain": [
              "np.int64(45)"
            ]
          },
          "execution_count": 8,
          "metadata": {},
          "output_type": "execute_result"
        }
      ],
      "source": [
        "#np.sort(s)[3]\n",
        "np.sort(s)[3]"
      ]
    },
    {
      "cell_type": "code",
      "execution_count": 9,
      "metadata": {
        "id": "elSrAre08_KU"
      },
      "outputs": [
        {
          "data": {
            "text/plain": [
              "np.float64(50.5)"
            ]
          },
          "execution_count": 9,
          "metadata": {},
          "output_type": "execute_result"
        }
      ],
      "source": [
        "# Alternatively: One line of code\n",
        "np.percentile(s, 50)"
      ]
    },
    {
      "cell_type": "markdown",
      "metadata": {
        "id": "ZUNh9bbR-YdB"
      },
      "source": [
        "## **Inference: Estimation**\n",
        "\n",
        "### How do we calculate the value of an unknown parameter?\n",
        "### If you have a census (i.e., data for the whole population): Just calculate the parameter, and you’re done\n",
        "\n",
        "\n",
        "### But if you don’t have a census:\n",
        "\n",
        "\n",
        "### Take a random sample from the population\n",
        "\n",
        "\n",
        "### Use a statistic as an estimate of the parameter\n",
        "\n",
        "\n",
        "### __One sample ➜ One estimate__\n",
        "\n",
        "### But the random sample could have come out differently\n",
        "\n",
        "### So the estimate could have been different\n",
        "\n",
        "## Big question: How different would it be if we did it again?\n"
      ]
    },
    {
      "cell_type": "code",
      "execution_count": null,
      "metadata": {
        "colab": {
          "base_uri": "https://localhost:8080/",
          "height": 73
        },
        "id": "T1Re9KNq-cS0",
        "outputId": "32654a03-165f-4945-bb49-b093e7c5d365"
      },
      "outputs": [
        {
          "data": {
            "text/html": [
              "\n",
              "     <input type=\"file\" id=\"files-893c720b-3398-4768-9a27-82a7c186aa3c\" name=\"files[]\" multiple disabled\n",
              "        style=\"border:none\" />\n",
              "     <output id=\"result-893c720b-3398-4768-9a27-82a7c186aa3c\">\n",
              "      Upload widget is only available when the cell has been executed in the\n",
              "      current browser session. Please rerun this cell to enable.\n",
              "      </output>\n",
              "      <script>// Copyright 2017 Google LLC\n",
              "//\n",
              "// Licensed under the Apache License, Version 2.0 (the \"License\");\n",
              "// you may not use this file except in compliance with the License.\n",
              "// You may obtain a copy of the License at\n",
              "//\n",
              "//      http://www.apache.org/licenses/LICENSE-2.0\n",
              "//\n",
              "// Unless required by applicable law or agreed to in writing, software\n",
              "// distributed under the License is distributed on an \"AS IS\" BASIS,\n",
              "// WITHOUT WARRANTIES OR CONDITIONS OF ANY KIND, either express or implied.\n",
              "// See the License for the specific language governing permissions and\n",
              "// limitations under the License.\n",
              "\n",
              "/**\n",
              " * @fileoverview Helpers for google.colab Python module.\n",
              " */\n",
              "(function(scope) {\n",
              "function span(text, styleAttributes = {}) {\n",
              "  const element = document.createElement('span');\n",
              "  element.textContent = text;\n",
              "  for (const key of Object.keys(styleAttributes)) {\n",
              "    element.style[key] = styleAttributes[key];\n",
              "  }\n",
              "  return element;\n",
              "}\n",
              "\n",
              "// Max number of bytes which will be uploaded at a time.\n",
              "const MAX_PAYLOAD_SIZE = 100 * 1024;\n",
              "\n",
              "function _uploadFiles(inputId, outputId) {\n",
              "  const steps = uploadFilesStep(inputId, outputId);\n",
              "  const outputElement = document.getElementById(outputId);\n",
              "  // Cache steps on the outputElement to make it available for the next call\n",
              "  // to uploadFilesContinue from Python.\n",
              "  outputElement.steps = steps;\n",
              "\n",
              "  return _uploadFilesContinue(outputId);\n",
              "}\n",
              "\n",
              "// This is roughly an async generator (not supported in the browser yet),\n",
              "// where there are multiple asynchronous steps and the Python side is going\n",
              "// to poll for completion of each step.\n",
              "// This uses a Promise to block the python side on completion of each step,\n",
              "// then passes the result of the previous step as the input to the next step.\n",
              "function _uploadFilesContinue(outputId) {\n",
              "  const outputElement = document.getElementById(outputId);\n",
              "  const steps = outputElement.steps;\n",
              "\n",
              "  const next = steps.next(outputElement.lastPromiseValue);\n",
              "  return Promise.resolve(next.value.promise).then((value) => {\n",
              "    // Cache the last promise value to make it available to the next\n",
              "    // step of the generator.\n",
              "    outputElement.lastPromiseValue = value;\n",
              "    return next.value.response;\n",
              "  });\n",
              "}\n",
              "\n",
              "/**\n",
              " * Generator function which is called between each async step of the upload\n",
              " * process.\n",
              " * @param {string} inputId Element ID of the input file picker element.\n",
              " * @param {string} outputId Element ID of the output display.\n",
              " * @return {!Iterable<!Object>} Iterable of next steps.\n",
              " */\n",
              "function* uploadFilesStep(inputId, outputId) {\n",
              "  const inputElement = document.getElementById(inputId);\n",
              "  inputElement.disabled = false;\n",
              "\n",
              "  const outputElement = document.getElementById(outputId);\n",
              "  outputElement.innerHTML = '';\n",
              "\n",
              "  const pickedPromise = new Promise((resolve) => {\n",
              "    inputElement.addEventListener('change', (e) => {\n",
              "      resolve(e.target.files);\n",
              "    });\n",
              "  });\n",
              "\n",
              "  const cancel = document.createElement('button');\n",
              "  inputElement.parentElement.appendChild(cancel);\n",
              "  cancel.textContent = 'Cancel upload';\n",
              "  const cancelPromise = new Promise((resolve) => {\n",
              "    cancel.onclick = () => {\n",
              "      resolve(null);\n",
              "    };\n",
              "  });\n",
              "\n",
              "  // Wait for the user to pick the files.\n",
              "  const files = yield {\n",
              "    promise: Promise.race([pickedPromise, cancelPromise]),\n",
              "    response: {\n",
              "      action: 'starting',\n",
              "    }\n",
              "  };\n",
              "\n",
              "  cancel.remove();\n",
              "\n",
              "  // Disable the input element since further picks are not allowed.\n",
              "  inputElement.disabled = true;\n",
              "\n",
              "  if (!files) {\n",
              "    return {\n",
              "      response: {\n",
              "        action: 'complete',\n",
              "      }\n",
              "    };\n",
              "  }\n",
              "\n",
              "  for (const file of files) {\n",
              "    const li = document.createElement('li');\n",
              "    li.append(span(file.name, {fontWeight: 'bold'}));\n",
              "    li.append(span(\n",
              "        `(${file.type || 'n/a'}) - ${file.size} bytes, ` +\n",
              "        `last modified: ${\n",
              "            file.lastModifiedDate ? file.lastModifiedDate.toLocaleDateString() :\n",
              "                                    'n/a'} - `));\n",
              "    const percent = span('0% done');\n",
              "    li.appendChild(percent);\n",
              "\n",
              "    outputElement.appendChild(li);\n",
              "\n",
              "    const fileDataPromise = new Promise((resolve) => {\n",
              "      const reader = new FileReader();\n",
              "      reader.onload = (e) => {\n",
              "        resolve(e.target.result);\n",
              "      };\n",
              "      reader.readAsArrayBuffer(file);\n",
              "    });\n",
              "    // Wait for the data to be ready.\n",
              "    let fileData = yield {\n",
              "      promise: fileDataPromise,\n",
              "      response: {\n",
              "        action: 'continue',\n",
              "      }\n",
              "    };\n",
              "\n",
              "    // Use a chunked sending to avoid message size limits. See b/62115660.\n",
              "    let position = 0;\n",
              "    do {\n",
              "      const length = Math.min(fileData.byteLength - position, MAX_PAYLOAD_SIZE);\n",
              "      const chunk = new Uint8Array(fileData, position, length);\n",
              "      position += length;\n",
              "\n",
              "      const base64 = btoa(String.fromCharCode.apply(null, chunk));\n",
              "      yield {\n",
              "        response: {\n",
              "          action: 'append',\n",
              "          file: file.name,\n",
              "          data: base64,\n",
              "        },\n",
              "      };\n",
              "\n",
              "      let percentDone = fileData.byteLength === 0 ?\n",
              "          100 :\n",
              "          Math.round((position / fileData.byteLength) * 100);\n",
              "      percent.textContent = `${percentDone}% done`;\n",
              "\n",
              "    } while (position < fileData.byteLength);\n",
              "  }\n",
              "\n",
              "  // All done.\n",
              "  yield {\n",
              "    response: {\n",
              "      action: 'complete',\n",
              "    }\n",
              "  };\n",
              "}\n",
              "\n",
              "scope.google = scope.google || {};\n",
              "scope.google.colab = scope.google.colab || {};\n",
              "scope.google.colab._files = {\n",
              "  _uploadFiles,\n",
              "  _uploadFilesContinue,\n",
              "};\n",
              "})(self);\n",
              "</script> "
            ],
            "text/plain": [
              "<IPython.core.display.HTML object>"
            ]
          },
          "metadata": {},
          "output_type": "display_data"
        },
        {
          "name": "stdout",
          "output_type": "stream",
          "text": [
            "Saving san_francisco_2019.csv to san_francisco_2019.csv\n"
          ]
        }
      ],
      "source": [
        "#upload the file san francisco .csv\n",
        "uploaded=files.upload()"
      ]
    },
    {
      "cell_type": "code",
      "execution_count": 14,
      "metadata": {
        "id": "K-IifVPSBP7y"
      },
      "outputs": [],
      "source": [
        "#Read the file san_franscisco.csv\n",
        "san_franscisco = pd.read_csv('C:/University/University Files/University-Code/Year 1/Semester 1/Python/Lessons/Data/csv/san_francisco_2019.csv')"
      ]
    },
    {
      "cell_type": "code",
      "execution_count": 15,
      "metadata": {
        "id": "Zv0-8dXqCIfZ"
      },
      "outputs": [
        {
          "data": {
            "text/html": [
              "<div>\n",
              "<style scoped>\n",
              "    .dataframe tbody tr th:only-of-type {\n",
              "        vertical-align: middle;\n",
              "    }\n",
              "\n",
              "    .dataframe tbody tr th {\n",
              "        vertical-align: top;\n",
              "    }\n",
              "\n",
              "    .dataframe thead th {\n",
              "        text-align: right;\n",
              "    }\n",
              "</style>\n",
              "<table border=\"1\" class=\"dataframe\">\n",
              "  <thead>\n",
              "    <tr style=\"text-align: right;\">\n",
              "      <th></th>\n",
              "      <th>Organization Group</th>\n",
              "      <th>Department</th>\n",
              "      <th>Job Family</th>\n",
              "      <th>Job</th>\n",
              "      <th>Salary</th>\n",
              "      <th>Overtime</th>\n",
              "      <th>Benefits</th>\n",
              "      <th>Total Compensation</th>\n",
              "    </tr>\n",
              "  </thead>\n",
              "  <tbody>\n",
              "    <tr>\n",
              "      <th>0</th>\n",
              "      <td>Public Protection</td>\n",
              "      <td>Adult Probation</td>\n",
              "      <td>Information Systems</td>\n",
              "      <td>IS Trainer-Journey</td>\n",
              "      <td>91332.0</td>\n",
              "      <td>0.0</td>\n",
              "      <td>40059.0</td>\n",
              "      <td>131391.0</td>\n",
              "    </tr>\n",
              "    <tr>\n",
              "      <th>1</th>\n",
              "      <td>Public Protection</td>\n",
              "      <td>Adult Probation</td>\n",
              "      <td>Information Systems</td>\n",
              "      <td>IS Engineer-Assistant</td>\n",
              "      <td>123241.0</td>\n",
              "      <td>0.0</td>\n",
              "      <td>49279.0</td>\n",
              "      <td>172520.0</td>\n",
              "    </tr>\n",
              "    <tr>\n",
              "      <th>2</th>\n",
              "      <td>Public Protection</td>\n",
              "      <td>Adult Probation</td>\n",
              "      <td>Information Systems</td>\n",
              "      <td>IS Business Analyst-Senior</td>\n",
              "      <td>115715.0</td>\n",
              "      <td>0.0</td>\n",
              "      <td>46752.0</td>\n",
              "      <td>162468.0</td>\n",
              "    </tr>\n",
              "    <tr>\n",
              "      <th>3</th>\n",
              "      <td>Public Protection</td>\n",
              "      <td>Adult Probation</td>\n",
              "      <td>Information Systems</td>\n",
              "      <td>IS Business Analyst-Principal</td>\n",
              "      <td>159394.0</td>\n",
              "      <td>0.0</td>\n",
              "      <td>57312.0</td>\n",
              "      <td>216706.0</td>\n",
              "    </tr>\n",
              "    <tr>\n",
              "      <th>4</th>\n",
              "      <td>Public Protection</td>\n",
              "      <td>Adult Probation</td>\n",
              "      <td>Information Systems</td>\n",
              "      <td>IS Programmer Analyst</td>\n",
              "      <td>70035.0</td>\n",
              "      <td>0.0</td>\n",
              "      <td>28671.0</td>\n",
              "      <td>98706.0</td>\n",
              "    </tr>\n",
              "    <tr>\n",
              "      <th>...</th>\n",
              "      <td>...</td>\n",
              "      <td>...</td>\n",
              "      <td>...</td>\n",
              "      <td>...</td>\n",
              "      <td>...</td>\n",
              "      <td>...</td>\n",
              "      <td>...</td>\n",
              "      <td>...</td>\n",
              "    </tr>\n",
              "    <tr>\n",
              "      <th>44520</th>\n",
              "      <td>General Administration &amp; Finance</td>\n",
              "      <td>Treasurer/Tax Collector</td>\n",
              "      <td>Revenue</td>\n",
              "      <td>Investigator, Tax Collector</td>\n",
              "      <td>44961.0</td>\n",
              "      <td>42.0</td>\n",
              "      <td>19546.0</td>\n",
              "      <td>64549.0</td>\n",
              "    </tr>\n",
              "    <tr>\n",
              "      <th>44521</th>\n",
              "      <td>General Administration &amp; Finance</td>\n",
              "      <td>Treasurer/Tax Collector</td>\n",
              "      <td>Revenue</td>\n",
              "      <td>Investigator, Tax Collector</td>\n",
              "      <td>85706.0</td>\n",
              "      <td>107.0</td>\n",
              "      <td>38924.0</td>\n",
              "      <td>124737.0</td>\n",
              "    </tr>\n",
              "    <tr>\n",
              "      <th>44522</th>\n",
              "      <td>General Administration &amp; Finance</td>\n",
              "      <td>Treasurer/Tax Collector</td>\n",
              "      <td>Revenue</td>\n",
              "      <td>Investigator, Tax Collector</td>\n",
              "      <td>101403.0</td>\n",
              "      <td>0.0</td>\n",
              "      <td>43185.0</td>\n",
              "      <td>144587.0</td>\n",
              "    </tr>\n",
              "    <tr>\n",
              "      <th>44523</th>\n",
              "      <td>General Administration &amp; Finance</td>\n",
              "      <td>Treasurer/Tax Collector</td>\n",
              "      <td>Revenue</td>\n",
              "      <td>Pr Investigator, Tax Collector</td>\n",
              "      <td>113738.0</td>\n",
              "      <td>397.0</td>\n",
              "      <td>47104.0</td>\n",
              "      <td>161240.0</td>\n",
              "    </tr>\n",
              "    <tr>\n",
              "      <th>44524</th>\n",
              "      <td>General Administration &amp; Finance</td>\n",
              "      <td>Treasurer/Tax Collector</td>\n",
              "      <td>Revenue</td>\n",
              "      <td>Pr Investigator, Tax Collector</td>\n",
              "      <td>113237.0</td>\n",
              "      <td>0.0</td>\n",
              "      <td>49749.0</td>\n",
              "      <td>162986.0</td>\n",
              "    </tr>\n",
              "  </tbody>\n",
              "</table>\n",
              "<p>44525 rows × 8 columns</p>\n",
              "</div>"
            ],
            "text/plain": [
              "                     Organization Group               Department  \\\n",
              "0                     Public Protection          Adult Probation   \n",
              "1                     Public Protection          Adult Probation   \n",
              "2                     Public Protection          Adult Probation   \n",
              "3                     Public Protection          Adult Probation   \n",
              "4                     Public Protection          Adult Probation   \n",
              "...                                 ...                      ...   \n",
              "44520  General Administration & Finance  Treasurer/Tax Collector   \n",
              "44521  General Administration & Finance  Treasurer/Tax Collector   \n",
              "44522  General Administration & Finance  Treasurer/Tax Collector   \n",
              "44523  General Administration & Finance  Treasurer/Tax Collector   \n",
              "44524  General Administration & Finance  Treasurer/Tax Collector   \n",
              "\n",
              "                Job Family                             Job    Salary  \\\n",
              "0      Information Systems              IS Trainer-Journey   91332.0   \n",
              "1      Information Systems           IS Engineer-Assistant  123241.0   \n",
              "2      Information Systems      IS Business Analyst-Senior  115715.0   \n",
              "3      Information Systems   IS Business Analyst-Principal  159394.0   \n",
              "4      Information Systems           IS Programmer Analyst   70035.0   \n",
              "...                    ...                             ...       ...   \n",
              "44520              Revenue     Investigator, Tax Collector   44961.0   \n",
              "44521              Revenue     Investigator, Tax Collector   85706.0   \n",
              "44522              Revenue     Investigator, Tax Collector  101403.0   \n",
              "44523              Revenue  Pr Investigator, Tax Collector  113738.0   \n",
              "44524              Revenue  Pr Investigator, Tax Collector  113237.0   \n",
              "\n",
              "       Overtime  Benefits  Total Compensation  \n",
              "0           0.0   40059.0            131391.0  \n",
              "1           0.0   49279.0            172520.0  \n",
              "2           0.0   46752.0            162468.0  \n",
              "3           0.0   57312.0            216706.0  \n",
              "4           0.0   28671.0             98706.0  \n",
              "...         ...       ...                 ...  \n",
              "44520      42.0   19546.0             64549.0  \n",
              "44521     107.0   38924.0            124737.0  \n",
              "44522       0.0   43185.0            144587.0  \n",
              "44523     397.0   47104.0            161240.0  \n",
              "44524       0.0   49749.0            162986.0  \n",
              "\n",
              "[44525 rows x 8 columns]"
            ]
          },
          "execution_count": 15,
          "metadata": {},
          "output_type": "execute_result"
        }
      ],
      "source": [
        "# Lets view the dataframe\n",
        "san_franscisco"
      ]
    },
    {
      "cell_type": "code",
      "execution_count": 16,
      "metadata": {
        "id": "ldEnKeDrCJSO"
      },
      "outputs": [
        {
          "data": {
            "text/html": [
              "<div>\n",
              "<style scoped>\n",
              "    .dataframe tbody tr th:only-of-type {\n",
              "        vertical-align: middle;\n",
              "    }\n",
              "\n",
              "    .dataframe tbody tr th {\n",
              "        vertical-align: top;\n",
              "    }\n",
              "\n",
              "    .dataframe thead th {\n",
              "        text-align: right;\n",
              "    }\n",
              "</style>\n",
              "<table border=\"1\" class=\"dataframe\">\n",
              "  <thead>\n",
              "    <tr style=\"text-align: right;\">\n",
              "      <th></th>\n",
              "      <th>Organization Group</th>\n",
              "      <th>Department</th>\n",
              "      <th>Job Family</th>\n",
              "      <th>Job</th>\n",
              "      <th>Salary</th>\n",
              "      <th>Overtime</th>\n",
              "      <th>Benefits</th>\n",
              "      <th>Total Compensation</th>\n",
              "    </tr>\n",
              "  </thead>\n",
              "  <tbody>\n",
              "    <tr>\n",
              "      <th>43936</th>\n",
              "      <td>General Administration &amp; Finance</td>\n",
              "      <td>Retirement Services</td>\n",
              "      <td>Administrative &amp; Mgmt (Unrep)</td>\n",
              "      <td>Chief Investment Officer</td>\n",
              "      <td>577633.0</td>\n",
              "      <td>0.0</td>\n",
              "      <td>146398.0</td>\n",
              "      <td>724031.0</td>\n",
              "    </tr>\n",
              "    <tr>\n",
              "      <th>43937</th>\n",
              "      <td>General Administration &amp; Finance</td>\n",
              "      <td>Retirement Services</td>\n",
              "      <td>Unassigned</td>\n",
              "      <td>Managing Director</td>\n",
              "      <td>483072.0</td>\n",
              "      <td>0.0</td>\n",
              "      <td>134879.0</td>\n",
              "      <td>617951.0</td>\n",
              "    </tr>\n",
              "    <tr>\n",
              "      <th>43938</th>\n",
              "      <td>General Administration &amp; Finance</td>\n",
              "      <td>Retirement Services</td>\n",
              "      <td>Unassigned</td>\n",
              "      <td>Managing Director</td>\n",
              "      <td>482649.0</td>\n",
              "      <td>0.0</td>\n",
              "      <td>134905.0</td>\n",
              "      <td>617554.0</td>\n",
              "    </tr>\n",
              "    <tr>\n",
              "      <th>43940</th>\n",
              "      <td>General Administration &amp; Finance</td>\n",
              "      <td>Retirement Services</td>\n",
              "      <td>Unassigned</td>\n",
              "      <td>Managing Director</td>\n",
              "      <td>451507.0</td>\n",
              "      <td>0.0</td>\n",
              "      <td>120276.0</td>\n",
              "      <td>571784.0</td>\n",
              "    </tr>\n",
              "    <tr>\n",
              "      <th>43939</th>\n",
              "      <td>General Administration &amp; Finance</td>\n",
              "      <td>Retirement Services</td>\n",
              "      <td>Unassigned</td>\n",
              "      <td>Managing Director</td>\n",
              "      <td>449378.0</td>\n",
              "      <td>0.0</td>\n",
              "      <td>120857.0</td>\n",
              "      <td>570235.0</td>\n",
              "    </tr>\n",
              "  </tbody>\n",
              "</table>\n",
              "</div>"
            ],
            "text/plain": [
              "                     Organization Group           Department  \\\n",
              "43936  General Administration & Finance  Retirement Services   \n",
              "43937  General Administration & Finance  Retirement Services   \n",
              "43938  General Administration & Finance  Retirement Services   \n",
              "43940  General Administration & Finance  Retirement Services   \n",
              "43939  General Administration & Finance  Retirement Services   \n",
              "\n",
              "                          Job Family                       Job    Salary  \\\n",
              "43936  Administrative & Mgmt (Unrep)  Chief Investment Officer  577633.0   \n",
              "43937                     Unassigned         Managing Director  483072.0   \n",
              "43938                     Unassigned         Managing Director  482649.0   \n",
              "43940                     Unassigned         Managing Director  451507.0   \n",
              "43939                     Unassigned         Managing Director  449378.0   \n",
              "\n",
              "       Overtime  Benefits  Total Compensation  \n",
              "43936       0.0  146398.0            724031.0  \n",
              "43937       0.0  134879.0            617951.0  \n",
              "43938       0.0  134905.0            617554.0  \n",
              "43940       0.0  120276.0            571784.0  \n",
              "43939       0.0  120857.0            570235.0  "
            ]
          },
          "execution_count": 16,
          "metadata": {},
          "output_type": "execute_result"
        }
      ],
      "source": [
        "# Who made the most money show the first 5\n",
        "san_franscisco.sort_values('Total Compensation', ascending=False).head(5)\n",
        "\n"
      ]
    },
    {
      "cell_type": "code",
      "execution_count": 17,
      "metadata": {
        "id": "PksGD1iOC0-C"
      },
      "outputs": [
        {
          "data": {
            "text/html": [
              "<div>\n",
              "<style scoped>\n",
              "    .dataframe tbody tr th:only-of-type {\n",
              "        vertical-align: middle;\n",
              "    }\n",
              "\n",
              "    .dataframe tbody tr th {\n",
              "        vertical-align: top;\n",
              "    }\n",
              "\n",
              "    .dataframe thead th {\n",
              "        text-align: right;\n",
              "    }\n",
              "</style>\n",
              "<table border=\"1\" class=\"dataframe\">\n",
              "  <thead>\n",
              "    <tr style=\"text-align: right;\">\n",
              "      <th></th>\n",
              "      <th>Organization Group</th>\n",
              "      <th>Department</th>\n",
              "      <th>Job Family</th>\n",
              "      <th>Job</th>\n",
              "      <th>Salary</th>\n",
              "      <th>Overtime</th>\n",
              "      <th>Benefits</th>\n",
              "      <th>Total Compensation</th>\n",
              "    </tr>\n",
              "  </thead>\n",
              "  <tbody>\n",
              "    <tr>\n",
              "      <th>29262</th>\n",
              "      <td>Community Health</td>\n",
              "      <td>Public Health</td>\n",
              "      <td>Lab, Pharmacy &amp; Med Techs</td>\n",
              "      <td>Laboratory Technician II</td>\n",
              "      <td>0.0</td>\n",
              "      <td>0.0</td>\n",
              "      <td>0.0</td>\n",
              "      <td>0.0</td>\n",
              "    </tr>\n",
              "    <tr>\n",
              "      <th>29261</th>\n",
              "      <td>Community Health</td>\n",
              "      <td>Public Health</td>\n",
              "      <td>Lab, Pharmacy &amp; Med Techs</td>\n",
              "      <td>Laboratory Technician II</td>\n",
              "      <td>0.0</td>\n",
              "      <td>0.0</td>\n",
              "      <td>0.0</td>\n",
              "      <td>0.0</td>\n",
              "    </tr>\n",
              "    <tr>\n",
              "      <th>29275</th>\n",
              "      <td>Community Health</td>\n",
              "      <td>Public Health</td>\n",
              "      <td>Lab, Pharmacy &amp; Med Techs</td>\n",
              "      <td>Diagnostic Imaging Assistant</td>\n",
              "      <td>0.0</td>\n",
              "      <td>0.0</td>\n",
              "      <td>0.0</td>\n",
              "      <td>0.0</td>\n",
              "    </tr>\n",
              "    <tr>\n",
              "      <th>25782</th>\n",
              "      <td>Human Welfare &amp; Neighborhood Development</td>\n",
              "      <td>Human Services</td>\n",
              "      <td>Clerical, Secretarial &amp; Steno</td>\n",
              "      <td>Senior Clerk Typist</td>\n",
              "      <td>0.0</td>\n",
              "      <td>0.0</td>\n",
              "      <td>0.0</td>\n",
              "      <td>0.0</td>\n",
              "    </tr>\n",
              "    <tr>\n",
              "      <th>29</th>\n",
              "      <td>Public Protection</td>\n",
              "      <td>Adult Probation</td>\n",
              "      <td>Probation &amp; Parole</td>\n",
              "      <td>Deputy Probation Officer</td>\n",
              "      <td>0.0</td>\n",
              "      <td>0.0</td>\n",
              "      <td>0.0</td>\n",
              "      <td>0.0</td>\n",
              "    </tr>\n",
              "  </tbody>\n",
              "</table>\n",
              "</div>"
            ],
            "text/plain": [
              "                             Organization Group       Department  \\\n",
              "29262                          Community Health    Public Health   \n",
              "29261                          Community Health    Public Health   \n",
              "29275                          Community Health    Public Health   \n",
              "25782  Human Welfare & Neighborhood Development   Human Services   \n",
              "29                            Public Protection  Adult Probation   \n",
              "\n",
              "                          Job Family                           Job  Salary  \\\n",
              "29262      Lab, Pharmacy & Med Techs      Laboratory Technician II     0.0   \n",
              "29261      Lab, Pharmacy & Med Techs      Laboratory Technician II     0.0   \n",
              "29275      Lab, Pharmacy & Med Techs  Diagnostic Imaging Assistant     0.0   \n",
              "25782  Clerical, Secretarial & Steno           Senior Clerk Typist     0.0   \n",
              "29                Probation & Parole      Deputy Probation Officer     0.0   \n",
              "\n",
              "       Overtime  Benefits  Total Compensation  \n",
              "29262       0.0       0.0                 0.0  \n",
              "29261       0.0       0.0                 0.0  \n",
              "29275       0.0       0.0                 0.0  \n",
              "25782       0.0       0.0                 0.0  \n",
              "29          0.0       0.0                 0.0  "
            ]
          },
          "execution_count": 17,
          "metadata": {},
          "output_type": "execute_result"
        }
      ],
      "source": [
        "# Who made the least money show the first 5\n",
        "san_franscisco.sort_values('Total Compensation', ascending=True).head(5) \n",
        "#san_fransicisco.tail(5)"
      ]
    },
    {
      "cell_type": "code",
      "execution_count": 22,
      "metadata": {
        "id": "_1CkXnbDDQxQ"
      },
      "outputs": [],
      "source": [
        "# $15/hr, 20 hr/wk, 50 weeks\n",
        "# Lets focus on people with salary above minimum\n",
        "min_salary = 15 * 20 * 50\n",
        "san_franscisco = san_franscisco[san_franscisco['Salary'] > min_salary]"
      ]
    },
    {
      "cell_type": "code",
      "execution_count": 23,
      "metadata": {
        "colab": {
          "base_uri": "https://localhost:8080/"
        },
        "id": "zVWnFEWhDxBK",
        "outputId": "d0009ead-9970-4543-8a6f-7b67e9f369af"
      },
      "outputs": [
        {
          "data": {
            "text/plain": [
              "(37103, 8)"
            ]
          },
          "execution_count": 23,
          "metadata": {},
          "output_type": "execute_result"
        }
      ],
      "source": [
        "# lets us now count the new number of San_franscisco\n",
        "san_franscisco.shape\n"
      ]
    },
    {
      "cell_type": "code",
      "execution_count": 25,
      "metadata": {
        "id": "ela9ZepoEdwE"
      },
      "outputs": [
        {
          "data": {
            "text/plain": [
              "<Axes: >"
            ]
          },
          "execution_count": 25,
          "metadata": {},
          "output_type": "execute_result"
        },
        {
          "data": {
            "image/png": "[encoded data removed]",
            "text/plain": [
              "<Figure size 1000x600 with 1 Axes>"
            ]
          },
          "metadata": {},
          "output_type": "display_data"
        }
      ],
      "source": [
        "# Plot the histogram distribution of the Total Compensation column  with bins ranging from 0 to 726000 with step size of 25000 with rotated x - axis xticks vertical\n",
        "plots.figure(figsize=(10, 6))\n",
        "\n",
        "san_franscisco['Total Compensation'].hist(bins=np.arange(1, 726000, 25000))"
      ]
    },
    {
      "cell_type": "markdown",
      "metadata": {
        "id": "BhRUfU6FF_3s"
      },
      "source": [
        "## Parameter: Median Total Compensation"
      ]
    },
    {
      "cell_type": "code",
      "execution_count": 26,
      "metadata": {
        "id": "ELQtLeBtGCdo"
      },
      "outputs": [
        {
          "data": {
            "text/plain": [
              "np.float64(135747.0)"
            ]
          },
          "execution_count": 26,
          "metadata": {},
          "output_type": "execute_result"
        }
      ],
      "source": [
        "# The median of the Total Compensation column\n",
        "# Remember the median is the 50th percentile, the next cell will show\n",
        "san_franscisco['Total Compensation'].median()"
      ]
    },
    {
      "cell_type": "code",
      "execution_count": 27,
      "metadata": {
        "id": "5F60UJYlGZJh"
      },
      "outputs": [
        {
          "data": {
            "text/plain": [
              "np.float64(135747.0)"
            ]
          },
          "execution_count": 27,
          "metadata": {},
          "output_type": "execute_result"
        }
      ],
      "source": [
        "# The 50th percentile of the Total Compensation column\n",
        "pop_median = np.percentile(san_franscisco['Total Compensation'].values, 50)\n",
        "pop_median"
      ]
    },
    {
      "cell_type": "markdown",
      "metadata": {
        "id": "JTWIZvxzHPTW"
      },
      "source": [
        "# Estimate the Parameter with the assumption it is unknown"
      ]
    },
    {
      "cell_type": "code",
      "execution_count": 15,
      "metadata": {
        "id": "uj1T2CFHHWeT"
      },
      "outputs": [],
      "source": [
        "# Sample san_franscisco without replacement 400 times\n",
        "our_sample = san_franscisco.sample(400, replace=False)"
      ]
    },
    {
      "cell_type": "code",
      "execution_count": 16,
      "metadata": {
        "id": "3NxkLD8pIG8I"
      },
      "outputs": [],
      "source": [
        "# Plot the histogram distribution of our_sample\n",
        "plots.figure(figsize=(15, 10))\n",
        "our_sample['Total Compensation'].hist(bins=np.arange(0, 726000, 25000))"
      ]
    },
    {
      "cell_type": "code",
      "execution_count": 17,
      "metadata": {
        "id": "cuAaVJ5AI1Rl"
      },
      "outputs": [],
      "source": [
        "# The 50th percentile of the Total Compensation column\n",
        "np.percentile(our_sample['Total Compensation'].values, 50)\n"
      ]
    },
    {
      "cell_type": "markdown",
      "metadata": {
        "id": "ptvX_SVGJLQQ"
      },
      "source": [
        " # But the random sample could have come out differently\n",
        "\n",
        "# So the estimate could have been different\n",
        "\n",
        "# Big question: How different would it be if we did it again?"
      ]
    },
    {
      "cell_type": "code",
      "execution_count": null,
      "metadata": {
        "id": "dZfKOFRVJNGa"
      },
      "outputs": [],
      "source": [
        "# But in the real world we won't be able to keep going back to the population. How to generate a new random sample without going back to the population?\n"
      ]
    },
    {
      "cell_type": "markdown",
      "metadata": {
        "id": "xIS-srZiJ3Yg"
      },
      "source": [
        "## Quantifying Uncertainty\n",
        "\n",
        "* The estimate is usually not exactly right:\n",
        "* Estimate = Parameter + Error\n",
        "* Error = Estimate - Parameter\n",
        "* Parameter is fixed.\n",
        "* Error variability is due to Estimate variability.\n",
        "* How accurate is a typical Estimate?\n",
        "* How big is a typical Error?\n",
        "* When we have a census, we can do this by simulation\n"
      ]
    },
    {
      "cell_type": "markdown",
      "metadata": {
        "id": "OpcXXSQCKllw"
      },
      "source": [
        "## Bootstrap\n",
        "\n",
        "Sample randomly\n",
        " - from the original sample\n",
        " - with replacement\n",
        " - the same number of times as the original sample size"
      ]
    },
    {
      "cell_type": "code",
      "execution_count": 18,
      "metadata": {
        "id": "CKfVpvA1Knqe"
      },
      "outputs": [],
      "source": [
        "# Default behavior of tbl.sample:\n",
        "# at random with replacement,\n",
        "# the same number of times as rows of tbl\n",
        "bootstrap_sample = our_sample.sample(400, replace=True)\n"
      ]
    },
    {
      "cell_type": "code",
      "execution_count": 19,
      "metadata": {
        "id": "vYN5h1mkLP7p"
      },
      "outputs": [],
      "source": [
        "# Plot the histogram distribution of bootstrap_sample\n",
        "plots.figure(figsize=(15, 10))\n",
        "bootstrap_sample['Total Compensation'].hist(bins=np.arange(0, 726000, 25000))"
      ]
    },
    {
      "cell_type": "markdown",
      "metadata": {
        "id": "CiaCPwKDMbX3"
      },
      "source": [
        "## Bootstrap Sample Median\n",
        "This is one estimate of the population median."
      ]
    },
    {
      "cell_type": "code",
      "execution_count": 20,
      "metadata": {
        "id": "ZTXqWWoNMdcn"
      },
      "outputs": [],
      "source": [
        "# The 50th percentile of the Total Compensation column\n",
        "np.percentile(bootstrap_sample['Total Compensation'].values, 50)"
      ]
    },
    {
      "cell_type": "code",
      "execution_count": 22,
      "metadata": {
        "id": "Ss8_quk9NFrS"
      },
      "outputs": [],
      "source": [
        "#def one_bootstrap_median(a):\n",
        "def one_bootstrap_median(a):\n",
        "    # draw the bootstrap sample\n",
        "    resample = our_sample.sample(a, replace=True)\n",
        "    # return the median total compensation in the bootstrap sample\n",
        "    return np.percentile(resample['Total Compensation'].values, 50)"
      ]
    },
    {
      "cell_type": "code",
      "execution_count": 23,
      "metadata": {
        "id": "DvES7fkmN9RQ"
      },
      "outputs": [],
      "source": [
        "#one_bootstrap_median(400)\n",
        "one_bootstrap_median(400)"
      ]
    },
    {
      "cell_type": "code",
      "execution_count": 24,
      "metadata": {
        "id": "2e8o2WPMOHfn"
      },
      "outputs": [],
      "source": [
        "# Generate the medians of 1000 bootstrap samples\n",
        "num_repetitions = 1000\n",
        "bstrap_medians = np.array([])\n",
        "for i in np.arange(num_repetitions):\n",
        "    bstrap_medians = np.append(bstrap_medians, one_bootstrap_median(400))\n"
      ]
    },
    {
      "cell_type": "code",
      "execution_count": 25,
      "metadata": {
        "id": "Ml8yvFlyRqZG"
      },
      "outputs": [],
      "source": [
        "# Create a new table called reampled_medians with column titled 'Bootsrap sample median' with values of a array bstrap_medians\n",
        "resampled_medians = pd.DataFrame({'Bootstrap Sample Median': bstrap_medians})\n",
        "resampled_medians"
      ]
    },
    {
      "cell_type": "code",
      "execution_count": 26,
      "metadata": {
        "id": "HcN2SoW_Sj03"
      },
      "outputs": [],
      "source": [
        "\n",
        "##resampled_medians = pd.DataFrame({'Bootstrap Sample Median': bstrap_medians})\n",
        "median_bins=np.arange(120000, 160000, 2000)\n",
        "#plots.figure(figsize=(18, 10))\n",
        "\n",
        "#resampled_medians.hist(bins = median_bins)\n",
        "\n",
        "## Plotting parameters; you can ignore this code\n",
        "#parameter_green = '#32CD32'\n",
        "##plots.ylim(-0.000005, 0.00014)\n",
        "#plots.xticks(rotation=90)\n",
        "#plots.scatter(pop_median, 0, color=parameter_green, s=100, zorder=2)\n",
        "#plots.title('Bootstrap Medians and the Parameter (Green Dot)');"
      ]
    },
    {
      "cell_type": "code",
      "execution_count": null,
      "metadata": {},
      "outputs": [],
      "source": [
        "resampled_medians = pd.DataFrame({'Bootstrap Sample Median': bstrap_medians})\n",
        "median_bins=np.arange(120000, 160000, 2000)\n",
        "plots.figure(figsize=(18, 10))\n",
        "\n",
        "resampled_medians.hist(bins = median_bins)\n",
        "\n",
        "# Plotting parameters; you can ignore this code\n",
        "parameter_green = '#32CD32'\n",
        "#plots.ylim(-0.000005, 0.00014)\n",
        "plots.xticks(rotation=90)\n",
        "plots.scatter(pop_median, 0, color=parameter_green, s=100, zorder=2)\n",
        "plots.title('Bootstrap Medians and the Parameter (Green Dot)');"
      ]
    },
    {
      "cell_type": "markdown",
      "metadata": {
        "id": "PFyqvdDJVXuH"
      },
      "source": [
        "## Percentile Method: Middle 95% of the Bootstrap Estimates"
      ]
    },
    {
      "cell_type": "code",
      "execution_count": 26,
      "metadata": {
        "id": "BaO2sChWVZW2"
      },
      "outputs": [],
      "source": [
        "left = np.percentile(bstrap_medians, 2.5)\n",
        "right = np.percentile(bstrap_medians,97.5)\n",
        "\n",
        "np.array([left, right])"
      ]
    },
    {
      "cell_type": "code",
      "execution_count": 26,
      "metadata": {
        "id": "KQR8aRDEXXYH"
      },
      "outputs": [],
      "source": [
        "resampled_medians.hist(bins = median_bins)\n",
        "\n",
        "# Plotting parameters; you can ignore this code\n",
        "#plots.ylim(-0.000005, 0.00014)\n",
        "plots.xticks(rotation=90)\n",
        "plots.plot(np.array([left, right]), np.array([0, 0]), color='red', lw=7, zorder=1)\n",
        "plots.scatter(pop_median, 0, color=parameter_green, s=40, zorder=100);"
      ]
    }
  ],
  "metadata": {
    "colab": {
      "provenance": []
    },
    "kernelspec": {
      "display_name": "Python 3",
      "name": "python3"
    },
    "language_info": {
      "codemirror_mode": {
        "name": "ipython",
        "version": 3
      },
      "file_extension": ".py",
      "mimetype": "text/x-python",
      "name": "python",
      "nbconvert_exporter": "python",
      "pygments_lexer": "ipython3",
      "version": "3.12.4"
    }
  },
  "nbformat": 4,
  "nbformat_minor": 0
}
