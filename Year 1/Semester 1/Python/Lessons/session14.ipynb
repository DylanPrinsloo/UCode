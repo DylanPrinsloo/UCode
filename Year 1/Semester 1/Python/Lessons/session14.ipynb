{
  "nbformat": 4,
  "nbformat_minor": 0,
  "metadata": {
    "colab": {
      "provenance": []
    },
    "kernelspec": {
      "name": "python3",
      "display_name": "Python 3"
    },
    "language_info": {
      "name": "python"
    }
  },
  "cells": [
    {
      "cell_type": "markdown",
      "source": [
        "# Confidence Intervals"
      ],
      "metadata": {
        "id": "v7xZVPew4iFn"
      }
    },
    {
      "cell_type": "markdown",
      "source": [
        "# In statistics, a percentile is a term that describes how a score compares to other scores from the same set. While there is no universal definition of percentile, it is commonly expressed as the percentage of values in a set of data scores that fall below a given value.\n",
        "\n",
        "#  Example S = [2,7, 3, 1, 9];\n",
        "# S_sorted = [1, 2, 3, 7, 9];\n",
        "\n",
        "# 80th percentile  = 7    i.e (80/100) * 5  ordered element\n",
        "\n",
        "\n",
        "\n",
        "\n",
        "\n"
      ],
      "metadata": {
        "id": "eUVtNirV5ShT"
      }
    },
    {
      "cell_type": "code",
      "execution_count": 1,
      "metadata": {
        "id": "CBftEc8m3-7T"
      },
      "outputs": [],
      "source": [
        "#These are libraries that you should import if needed for your notebook.\n",
        "#import libraries\n",
        "import pandas as pd\n",
        "import seaborn as sns\n",
        "import numpy as np\n",
        "%matplotlib inline\n",
        "import matplotlib.pyplot as plots\n",
        "plots.style.use('fivethirtyeight')\n",
        "from google.colab import files"
      ]
    },
    {
      "cell_type": "code",
      "source": [
        "# Percentiles\n",
        "\n",
        "# Creat an array\n",
        "\n"
      ],
      "metadata": {
        "id": "jcyFbfKr6_2A"
      },
      "execution_count": 2,
      "outputs": []
    },
    {
      "cell_type": "code",
      "source": [
        "# Sort the code\n"
      ],
      "metadata": {
        "id": "Gt-xkQj57uIr"
      },
      "execution_count": 3,
      "outputs": []
    },
    {
      "cell_type": "code",
      "source": [
        "# Let determine the 55th percentile of the array\n",
        "\n"
      ],
      "metadata": {
        "id": "-Cvbo4gs8HK9"
      },
      "execution_count": 4,
      "outputs": []
    },
    {
      "cell_type": "code",
      "source": [
        "#np.sort(s)[3]"
      ],
      "metadata": {
        "id": "Rjwbk2DO8mmr"
      },
      "execution_count": 5,
      "outputs": []
    },
    {
      "cell_type": "code",
      "source": [
        "# Alternatively: One line of code\n"
      ],
      "metadata": {
        "id": "elSrAre08_KU"
      },
      "execution_count": 6,
      "outputs": []
    },
    {
      "cell_type": "code",
      "source": [],
      "metadata": {
        "id": "lAyi-NPe9W62"
      },
      "execution_count": null,
      "outputs": []
    },
    {
      "cell_type": "markdown",
      "source": [
        "## Inference: Estimation\n",
        "\n",
        "# How do we calculate the value of an unknown parameter?\n",
        "#If you have a census (i.e., data for the whole population): Just calculate the parameter, and you’re done\n",
        "\n",
        "\n",
        "# But if you don’t have a census:\n",
        "\n",
        "\n",
        "# Take a random sample from the population\n",
        "\n",
        "\n",
        "# Use a statistic as an estimate of the parameter\n",
        "\n",
        "\n",
        "# One sample ➜ One estimate\n",
        "\n",
        " # But the random sample could have come out differently\n",
        "\n",
        "# So the estimate could have been different\n",
        "\n",
        "# Big question: How different would it be if we did it again?\n"
      ],
      "metadata": {
        "id": "ZUNh9bbR-YdB"
      }
    },
    {
      "cell_type": "code",
      "source": [
        "#upload the file san francisco .csv\n",
        "uploaded=files.upload()"
      ],
      "metadata": {
        "colab": {
          "base_uri": "https://localhost:8080/",
          "height": 73
        },
        "id": "T1Re9KNq-cS0",
        "outputId": "32654a03-165f-4945-bb49-b093e7c5d365"
      },
      "execution_count": null,
      "outputs": [
        {
          "output_type": "display_data",
          "data": {
            "text/plain": [
              "<IPython.core.display.HTML object>"
            ],
            "text/html": [
              "\n",
              "     <input type=\"file\" id=\"files-893c720b-3398-4768-9a27-82a7c186aa3c\" name=\"files[]\" multiple disabled\n",
              "        style=\"border:none\" />\n",
              "     <output id=\"result-893c720b-3398-4768-9a27-82a7c186aa3c\">\n",
              "      Upload widget is only available when the cell has been executed in the\n",
              "      current browser session. Please rerun this cell to enable.\n",
              "      </output>\n",
              "      <script>// Copyright 2017 Google LLC\n",
              "//\n",
              "// Licensed under the Apache License, Version 2.0 (the \"License\");\n",
              "// you may not use this file except in compliance with the License.\n",
              "// You may obtain a copy of the License at\n",
              "//\n",
              "//      http://www.apache.org/licenses/LICENSE-2.0\n",
              "//\n",
              "// Unless required by applicable law or agreed to in writing, software\n",
              "// distributed under the License is distributed on an \"AS IS\" BASIS,\n",
              "// WITHOUT WARRANTIES OR CONDITIONS OF ANY KIND, either express or implied.\n",
              "// See the License for the specific language governing permissions and\n",
              "// limitations under the License.\n",
              "\n",
              "/**\n",
              " * @fileoverview Helpers for google.colab Python module.\n",
              " */\n",
              "(function(scope) {\n",
              "function span(text, styleAttributes = {}) {\n",
              "  const element = document.createElement('span');\n",
              "  element.textContent = text;\n",
              "  for (const key of Object.keys(styleAttributes)) {\n",
              "    element.style[key] = styleAttributes[key];\n",
              "  }\n",
              "  return element;\n",
              "}\n",
              "\n",
              "// Max number of bytes which will be uploaded at a time.\n",
              "const MAX_PAYLOAD_SIZE = 100 * 1024;\n",
              "\n",
              "function _uploadFiles(inputId, outputId) {\n",
              "  const steps = uploadFilesStep(inputId, outputId);\n",
              "  const outputElement = document.getElementById(outputId);\n",
              "  // Cache steps on the outputElement to make it available for the next call\n",
              "  // to uploadFilesContinue from Python.\n",
              "  outputElement.steps = steps;\n",
              "\n",
              "  return _uploadFilesContinue(outputId);\n",
              "}\n",
              "\n",
              "// This is roughly an async generator (not supported in the browser yet),\n",
              "// where there are multiple asynchronous steps and the Python side is going\n",
              "// to poll for completion of each step.\n",
              "// This uses a Promise to block the python side on completion of each step,\n",
              "// then passes the result of the previous step as the input to the next step.\n",
              "function _uploadFilesContinue(outputId) {\n",
              "  const outputElement = document.getElementById(outputId);\n",
              "  const steps = outputElement.steps;\n",
              "\n",
              "  const next = steps.next(outputElement.lastPromiseValue);\n",
              "  return Promise.resolve(next.value.promise).then((value) => {\n",
              "    // Cache the last promise value to make it available to the next\n",
              "    // step of the generator.\n",
              "    outputElement.lastPromiseValue = value;\n",
              "    return next.value.response;\n",
              "  });\n",
              "}\n",
              "\n",
              "/**\n",
              " * Generator function which is called between each async step of the upload\n",
              " * process.\n",
              " * @param {string} inputId Element ID of the input file picker element.\n",
              " * @param {string} outputId Element ID of the output display.\n",
              " * @return {!Iterable<!Object>} Iterable of next steps.\n",
              " */\n",
              "function* uploadFilesStep(inputId, outputId) {\n",
              "  const inputElement = document.getElementById(inputId);\n",
              "  inputElement.disabled = false;\n",
              "\n",
              "  const outputElement = document.getElementById(outputId);\n",
              "  outputElement.innerHTML = '';\n",
              "\n",
              "  const pickedPromise = new Promise((resolve) => {\n",
              "    inputElement.addEventListener('change', (e) => {\n",
              "      resolve(e.target.files);\n",
              "    });\n",
              "  });\n",
              "\n",
              "  const cancel = document.createElement('button');\n",
              "  inputElement.parentElement.appendChild(cancel);\n",
              "  cancel.textContent = 'Cancel upload';\n",
              "  const cancelPromise = new Promise((resolve) => {\n",
              "    cancel.onclick = () => {\n",
              "      resolve(null);\n",
              "    };\n",
              "  });\n",
              "\n",
              "  // Wait for the user to pick the files.\n",
              "  const files = yield {\n",
              "    promise: Promise.race([pickedPromise, cancelPromise]),\n",
              "    response: {\n",
              "      action: 'starting',\n",
              "    }\n",
              "  };\n",
              "\n",
              "  cancel.remove();\n",
              "\n",
              "  // Disable the input element since further picks are not allowed.\n",
              "  inputElement.disabled = true;\n",
              "\n",
              "  if (!files) {\n",
              "    return {\n",
              "      response: {\n",
              "        action: 'complete',\n",
              "      }\n",
              "    };\n",
              "  }\n",
              "\n",
              "  for (const file of files) {\n",
              "    const li = document.createElement('li');\n",
              "    li.append(span(file.name, {fontWeight: 'bold'}));\n",
              "    li.append(span(\n",
              "        `(${file.type || 'n/a'}) - ${file.size} bytes, ` +\n",
              "        `last modified: ${\n",
              "            file.lastModifiedDate ? file.lastModifiedDate.toLocaleDateString() :\n",
              "                                    'n/a'} - `));\n",
              "    const percent = span('0% done');\n",
              "    li.appendChild(percent);\n",
              "\n",
              "    outputElement.appendChild(li);\n",
              "\n",
              "    const fileDataPromise = new Promise((resolve) => {\n",
              "      const reader = new FileReader();\n",
              "      reader.onload = (e) => {\n",
              "        resolve(e.target.result);\n",
              "      };\n",
              "      reader.readAsArrayBuffer(file);\n",
              "    });\n",
              "    // Wait for the data to be ready.\n",
              "    let fileData = yield {\n",
              "      promise: fileDataPromise,\n",
              "      response: {\n",
              "        action: 'continue',\n",
              "      }\n",
              "    };\n",
              "\n",
              "    // Use a chunked sending to avoid message size limits. See b/62115660.\n",
              "    let position = 0;\n",
              "    do {\n",
              "      const length = Math.min(fileData.byteLength - position, MAX_PAYLOAD_SIZE);\n",
              "      const chunk = new Uint8Array(fileData, position, length);\n",
              "      position += length;\n",
              "\n",
              "      const base64 = btoa(String.fromCharCode.apply(null, chunk));\n",
              "      yield {\n",
              "        response: {\n",
              "          action: 'append',\n",
              "          file: file.name,\n",
              "          data: base64,\n",
              "        },\n",
              "      };\n",
              "\n",
              "      let percentDone = fileData.byteLength === 0 ?\n",
              "          100 :\n",
              "          Math.round((position / fileData.byteLength) * 100);\n",
              "      percent.textContent = `${percentDone}% done`;\n",
              "\n",
              "    } while (position < fileData.byteLength);\n",
              "  }\n",
              "\n",
              "  // All done.\n",
              "  yield {\n",
              "    response: {\n",
              "      action: 'complete',\n",
              "    }\n",
              "  };\n",
              "}\n",
              "\n",
              "scope.google = scope.google || {};\n",
              "scope.google.colab = scope.google.colab || {};\n",
              "scope.google.colab._files = {\n",
              "  _uploadFiles,\n",
              "  _uploadFilesContinue,\n",
              "};\n",
              "})(self);\n",
              "</script> "
            ]
          },
          "metadata": {}
        },
        {
          "output_type": "stream",
          "name": "stdout",
          "text": [
            "Saving san_francisco_2019.csv to san_francisco_2019.csv\n"
          ]
        }
      ]
    },
    {
      "cell_type": "code",
      "source": [
        "#Read the file san_franscisco.csv\n"
      ],
      "metadata": {
        "id": "K-IifVPSBP7y"
      },
      "execution_count": 7,
      "outputs": []
    },
    {
      "cell_type": "code",
      "source": [
        "# Lets view the dataframe"
      ],
      "metadata": {
        "id": "Zv0-8dXqCIfZ"
      },
      "execution_count": 8,
      "outputs": []
    },
    {
      "cell_type": "code",
      "source": [
        "# Who made the most money show the first 5\n",
        "\n",
        "\n"
      ],
      "metadata": {
        "id": "ldEnKeDrCJSO"
      },
      "execution_count": 9,
      "outputs": []
    },
    {
      "cell_type": "code",
      "source": [
        "# Who made the least money show the first 5\n"
      ],
      "metadata": {
        "id": "PksGD1iOC0-C"
      },
      "execution_count": 10,
      "outputs": []
    },
    {
      "cell_type": "code",
      "source": [
        "# # $15/hr, 20 hr/wk, 50 weeks\n",
        "# Lets focus on people with salary above minimum\n"
      ],
      "metadata": {
        "id": "_1CkXnbDDQxQ"
      },
      "execution_count": 11,
      "outputs": []
    },
    {
      "cell_type": "code",
      "source": [
        "# lets us now count the new number of Sf\n"
      ],
      "metadata": {
        "colab": {
          "base_uri": "https://localhost:8080/"
        },
        "id": "zVWnFEWhDxBK",
        "outputId": "d0009ead-9970-4543-8a6f-7b67e9f369af"
      },
      "execution_count": null,
      "outputs": [
        {
          "output_type": "execute_result",
          "data": {
            "text/plain": [
              "(37103, 8)"
            ]
          },
          "metadata": {},
          "execution_count": 24
        }
      ]
    },
    {
      "cell_type": "code",
      "source": [
        "# Plot the histogram distribution of the Total Compensation column  with bins ranging from 0 to 726000 with step size of 25000 with rotated x - axis xticks vertical\n"
      ],
      "metadata": {
        "id": "ela9ZepoEdwE"
      },
      "execution_count": 12,
      "outputs": []
    },
    {
      "cell_type": "markdown",
      "source": [
        "## Parameter: Median Total Compensation"
      ],
      "metadata": {
        "id": "BhRUfU6FF_3s"
      }
    },
    {
      "cell_type": "code",
      "source": [
        "# The median of the Total Compensation column\n"
      ],
      "metadata": {
        "id": "ELQtLeBtGCdo"
      },
      "execution_count": 13,
      "outputs": []
    },
    {
      "cell_type": "code",
      "source": [
        "# The 50th percentile of the Total Compensation column\n"
      ],
      "metadata": {
        "id": "5F60UJYlGZJh"
      },
      "execution_count": 14,
      "outputs": []
    },
    {
      "cell_type": "markdown",
      "source": [
        "# Estimate the Parameter with the assumption it is unknown"
      ],
      "metadata": {
        "id": "JTWIZvxzHPTW"
      }
    },
    {
      "cell_type": "code",
      "source": [
        "# Sample sf without replacement 400 times\n"
      ],
      "metadata": {
        "id": "uj1T2CFHHWeT"
      },
      "execution_count": 15,
      "outputs": []
    },
    {
      "cell_type": "code",
      "source": [
        "# Plot the histogram distribution of our_sample\n"
      ],
      "metadata": {
        "id": "3NxkLD8pIG8I"
      },
      "execution_count": 16,
      "outputs": []
    },
    {
      "cell_type": "code",
      "source": [
        "# The 50th percentile of the Total Compensation column\n",
        "\n"
      ],
      "metadata": {
        "id": "cuAaVJ5AI1Rl"
      },
      "execution_count": 17,
      "outputs": []
    },
    {
      "cell_type": "markdown",
      "source": [
        " # But the random sample could have come out differently\n",
        "\n",
        "# So the estimate could have been different\n",
        "\n",
        "# Big question: How different would it be if we did it again?"
      ],
      "metadata": {
        "id": "ptvX_SVGJLQQ"
      }
    },
    {
      "cell_type": "code",
      "source": [
        "# But in the real world we won't be able to keep going back to the population. How to generate a new random sample without going back to the population?"
      ],
      "metadata": {
        "id": "dZfKOFRVJNGa"
      },
      "execution_count": null,
      "outputs": []
    },
    {
      "cell_type": "markdown",
      "source": [
        "## Quantifying Uncertainty\n",
        "\n",
        "* The estimate is usually not exactly right:\n",
        "* Estimate = Parameter + Error\n",
        "* Error = Estimate - Parameter\n",
        "* Parameter is fixed.\n",
        "* Error variability is due to Estimate variability.\n",
        "* How accurate is a typical Estimate?\n",
        "* How big is a typical Error?\n",
        "* When we have a census, we can do this by simulation\n"
      ],
      "metadata": {
        "id": "xIS-srZiJ3Yg"
      }
    },
    {
      "cell_type": "markdown",
      "source": [
        "## Bootstrap\n",
        "\n",
        "Sample randomly\n",
        " - from the original sample\n",
        " - with replacement\n",
        " - the same number of times as the original sample size"
      ],
      "metadata": {
        "id": "OpcXXSQCKllw"
      }
    },
    {
      "cell_type": "code",
      "source": [
        "# Default behavior of tbl.sample:\n",
        "# at random with replacement,\n",
        "# the same number of times as rows of tbl\n",
        "\n"
      ],
      "metadata": {
        "id": "CKfVpvA1Knqe"
      },
      "execution_count": 18,
      "outputs": []
    },
    {
      "cell_type": "code",
      "source": [
        "# Plot the histogram distribution of bootstrap_sample\n"
      ],
      "metadata": {
        "id": "vYN5h1mkLP7p"
      },
      "execution_count": 19,
      "outputs": []
    },
    {
      "cell_type": "markdown",
      "source": [
        "## Bootstrap Sample Median\n",
        "This is one estimate of the population median."
      ],
      "metadata": {
        "id": "CiaCPwKDMbX3"
      }
    },
    {
      "cell_type": "code",
      "source": [
        "# The 50th percentile of the Total Compensation column\n"
      ],
      "metadata": {
        "id": "ZTXqWWoNMdcn"
      },
      "execution_count": 20,
      "outputs": []
    },
    {
      "cell_type": "code",
      "source": [
        "#def one_bootstrap_median(a):\n",
        ""
      ],
      "metadata": {
        "id": "Ss8_quk9NFrS"
      },
      "execution_count": 22,
      "outputs": []
    },
    {
      "cell_type": "code",
      "source": [
        "#one_bootstrap_median(400)"
      ],
      "metadata": {
        "id": "DvES7fkmN9RQ"
      },
      "execution_count": 23,
      "outputs": []
    },
    {
      "cell_type": "code",
      "source": [
        "# Generate the medians of 1000 bootstrap samples\n"
      ],
      "metadata": {
        "id": "2e8o2WPMOHfn"
      },
      "execution_count": 24,
      "outputs": []
    },
    {
      "cell_type": "code",
      "source": [
        "# Create a new table called reampled_medians with column titled 'Bootsrap sample median' with values of a array bstrap_medians\n"
      ],
      "metadata": {
        "id": "Ml8yvFlyRqZG"
      },
      "execution_count": 25,
      "outputs": []
    },
    {
      "cell_type": "code",
      "source": [
        "\n",
        "\n",
        "##resampled_medians = pd.DataFrame({'Bootstrap Sample Median': bstrap_medians})\n",
        "median_bins=np.arange(120000, 160000, 2000)\n",
        "#plots.figure(figsize=(18, 10))\n",
        "\n",
        "#resampled_medians.hist(bins = median_bins)\n",
        "\n",
        "## Plotting parameters; you can ignore this code\n",
        "#parameter_green = '#32CD32'\n",
        "##plots.ylim(-0.000005, 0.00014)\n",
        "#plots.xticks(rotation=90)\n",
        "#plots.scatter(pop_median, 0, color=parameter_green, s=100, zorder=2)\n",
        "#plots.title('Bootstrap Medians and the Parameter (Green Dot)');"
      ],
      "metadata": {
        "id": "HcN2SoW_Sj03"
      },
      "execution_count": 26,
      "outputs": []
    },
    {
      "cell_type": "markdown",
      "source": [
        "## Percentile Method: Middle 95% of the Bootstrap Estimates"
      ],
      "metadata": {
        "id": "PFyqvdDJVXuH"
      }
    },
    {
      "cell_type": "code",
      "source": [],
      "metadata": {
        "id": "BaO2sChWVZW2"
      },
      "execution_count": 26,
      "outputs": []
    },
    {
      "cell_type": "code",
      "source": [],
      "metadata": {
        "id": "KQR8aRDEXXYH"
      },
      "execution_count": 26,
      "outputs": []
    },
    {
      "cell_type": "code",
      "source": [],
      "metadata": {
        "id": "LgYgd99BbPlf"
      },
      "execution_count": null,
      "outputs": []
    }
  ]
}