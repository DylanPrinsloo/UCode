{
  "cells": [
    {
      "cell_type": "code",
      "execution_count": null,
      "id": "cell-lec25-0",
      "metadata": {
        "id": "cell-lec25-0"
      },
      "outputs": [],
      "source": [
        "#These are libraries that you should import if needed for your notebook.\n",
        "#import libraries\n",
        "import pandas as pd\n",
        "import seaborn as sns\n",
        "import numpy as np\n",
        "%matplotlib inline\n",
        "import matplotlib.pyplot as plots\n",
        "plots.style.use('fivethirtyeight')\n",
        "from google.colab import files"
      ]
    },
    {
      "cell_type": "markdown",
      "source": [
        "##Center and Spread and the Normal Distribution"
      ],
      "metadata": {
        "id": "JhgY-JubaMyy"
      },
      "id": "JhgY-JubaMyy"
    },
    {
      "cell_type": "code",
      "execution_count": null,
      "id": "cell-lec25-3",
      "metadata": {
        "id": "cell-lec25-3"
      },
      "outputs": [],
      "source": [
        "#Let's create an array"
      ]
    },
    {
      "cell_type": "code",
      "execution_count": null,
      "id": "cell-lec25-5",
      "metadata": {
        "id": "cell-lec25-5"
      },
      "outputs": [],
      "source": [
        "#mean or average\n"
      ]
    },
    {
      "cell_type": "code",
      "source": [
        "#Standard Deviations\n"
      ],
      "metadata": {
        "id": "fHv0cZbhDiGu"
      },
      "id": "fHv0cZbhDiGu",
      "execution_count": null,
      "outputs": []
    },
    {
      "cell_type": "markdown",
      "id": "cell-lec25-26",
      "metadata": {
        "id": "cell-lec25-26"
      },
      "source": [
        "## Chebyshev's Bounds ##"
      ]
    },
    {
      "cell_type": "markdown",
      "source": [
        "![image.png](data:image/png;base64,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)"
      ],
      "metadata": {
        "id": "2F4KdiR3bQO-"
      },
      "id": "2F4KdiR3bQO-"
    },
    {
      "cell_type": "code",
      "source": [
        "#upload the file baby.csv\n"
      ],
      "metadata": {
        "id": "a_Ap0lH0Edsi"
      },
      "id": "a_Ap0lH0Edsi",
      "execution_count": null,
      "outputs": []
    },
    {
      "cell_type": "code",
      "execution_count": null,
      "id": "cell-lec25-27",
      "metadata": {
        "id": "cell-lec25-27"
      },
      "outputs": [],
      "source": []
    },
    {
      "cell_type": "code",
      "execution_count": null,
      "id": "cell-lec25-28",
      "metadata": {
        "id": "cell-lec25-28"
      },
      "outputs": [],
      "source": []
    },
    {
      "cell_type": "code",
      "execution_count": null,
      "id": "cell-lec25-29",
      "metadata": {
        "id": "cell-lec25-29"
      },
      "outputs": [],
      "source": []
    },
    {
      "cell_type": "code",
      "execution_count": null,
      "id": "cell-lec25-30",
      "metadata": {
        "id": "cell-lec25-30"
      },
      "outputs": [],
      "source": [
        "# Extract the 'Maternal Pregnancy Weight' column\n",
        "\n",
        "# Calculate the mean and standard deviation\n"
      ]
    },
    {
      "cell_type": "code",
      "execution_count": null,
      "id": "cell-lec25-31",
      "metadata": {
        "id": "cell-lec25-31"
      },
      "outputs": [],
      "source": []
    },
    {
      "cell_type": "code",
      "execution_count": null,
      "id": "cell-lec25-32",
      "metadata": {
        "id": "cell-lec25-32"
      },
      "outputs": [],
      "source": [
        "# Proportion within 3 SDs of the mean\n"
      ]
    },
    {
      "cell_type": "code",
      "execution_count": null,
      "id": "cell-lec25-33",
      "metadata": {
        "id": "cell-lec25-33"
      },
      "outputs": [],
      "source": [
        "# Chebyshev's bound:\n",
        "# This proportion should be at least\n"
      ]
    },
    {
      "cell_type": "code",
      "execution_count": null,
      "id": "cell-lec25-34",
      "metadata": {
        "id": "cell-lec25-34"
      },
      "outputs": [],
      "source": [
        "births.columns"
      ]
    },
    {
      "cell_type": "code",
      "execution_count": null,
      "id": "cell-lec25-35",
      "metadata": {
        "id": "cell-lec25-35"
      },
      "outputs": [],
      "source": [
        "# Iterate over each feature/column in the DataFrame\n",
        "for feature in births.columns:\n",
        "    values = births[feature]\n",
        "\n",
        "    # Check if the column is numeric, since mean and std only apply to numeric data\n",
        "    if np.issubdtype(values.dtype, np.number):\n",
        "        mean = np.mean(values)\n",
        "        sd = np.std(values)\n",
        "\n",
        "        print(f\"\\n{feature}\")\n",
        "\n",
        "        # Check proportions for z = 2, 3, 4, 5 standard deviations\n",
        "        for z in [2, 3, 4, 5]:\n",
        "            # Filter the DataFrame where values fall within z standard deviations from the mean\n",
        "            chosen = births[(values >= mean - z * sd) & (values <= mean + z * sd)]\n",
        "\n",
        "            # Calculate the proportion of rows within the z standard deviations\n",
        "            proportion = len(chosen) / len(births)\n",
        "            percent = round(proportion * 100, 2)\n",
        "\n",
        "            print(f'Average plus or minus {z} SDs: {percent}%')\n",
        "\n"
      ]
    },
    {
      "cell_type": "markdown",
      "id": "cell-lec25-36",
      "metadata": {
        "id": "cell-lec25-36"
      },
      "source": [
        "## Standard Units ##"
      ]
    },
    {
      "cell_type": "code",
      "execution_count": null,
      "id": "cell-lec25-37",
      "metadata": {
        "id": "cell-lec25-37"
      },
      "outputs": [],
      "source": [
        "def standard_units(x):\n",
        "    \"\"\"Convert array x to standard units.\"\"\"\n",
        "    return (x - np.mean(x)) / np.std(x)"
      ]
    },
    {
      "cell_type": "code",
      "execution_count": null,
      "id": "cell-lec25-38",
      "metadata": {
        "id": "cell-lec25-38"
      },
      "outputs": [],
      "source": []
    },
    {
      "cell_type": "code",
      "execution_count": null,
      "id": "cell-lec25-39",
      "metadata": {
        "id": "cell-lec25-39"
      },
      "outputs": [],
      "source": []
    },
    {
      "cell_type": "code",
      "execution_count": null,
      "id": "cell-lec25-40",
      "metadata": {
        "id": "cell-lec25-40"
      },
      "outputs": [],
      "source": []
    },
    {
      "cell_type": "markdown",
      "metadata": {
        "id": "cell-lec26-1"
      },
      "source": [
        "## The SD and Bell Shaped Curves"
      ],
      "id": "cell-lec26-1"
    },
    {
      "cell_type": "code",
      "source": [
        "#upload the file baby.csv\n",
        "uploaded = files.upload()"
      ],
      "metadata": {
        "id": "l50Rsnz1I53w"
      },
      "execution_count": null,
      "outputs": [],
      "id": "l50Rsnz1I53w"
    },
    {
      "cell_type": "code",
      "execution_count": null,
      "metadata": {
        "id": "cell-lec26-2"
      },
      "outputs": [],
      "source": [],
      "id": "cell-lec26-2"
    },
    {
      "cell_type": "code",
      "execution_count": null,
      "metadata": {
        "id": "cell-lec26-3"
      },
      "outputs": [],
      "source": [],
      "id": "cell-lec26-3"
    },
    {
      "cell_type": "code",
      "execution_count": null,
      "metadata": {
        "id": "cell-lec26-4"
      },
      "outputs": [],
      "source": [],
      "id": "cell-lec26-4"
    },
    {
      "cell_type": "code",
      "execution_count": null,
      "metadata": {
        "id": "cell-lec26-5"
      },
      "outputs": [],
      "source": [],
      "id": "cell-lec26-5"
    },
    {
      "cell_type": "markdown",
      "metadata": {
        "collapsed": true,
        "id": "cell-lec26-6"
      },
      "source": [
        "## Central Limit Theorem ##"
      ],
      "id": "cell-lec26-6"
    },
    {
      "cell_type": "code",
      "source": [
        "#upload the file baby.csv\n",
        "uploaded = files.upload()"
      ],
      "metadata": {
        "id": "zNEeRtlUJa9X"
      },
      "execution_count": null,
      "outputs": [],
      "id": "zNEeRtlUJa9X"
    },
    {
      "cell_type": "code",
      "execution_count": null,
      "metadata": {
        "id": "cell-lec26-7"
      },
      "outputs": [],
      "source": [],
      "id": "cell-lec26-7"
    },
    {
      "cell_type": "code",
      "execution_count": null,
      "metadata": {
        "id": "cell-lec26-8"
      },
      "outputs": [],
      "source": [],
      "id": "cell-lec26-8"
    },
    {
      "cell_type": "code",
      "execution_count": null,
      "metadata": {
        "id": "cell-lec26-9"
      },
      "outputs": [],
      "source": [],
      "id": "cell-lec26-9"
    },
    {
      "cell_type": "code",
      "execution_count": null,
      "metadata": {
        "id": "cell-lec26-10"
      },
      "outputs": [],
      "source": [],
      "id": "cell-lec26-10"
    },
    {
      "cell_type": "code",
      "execution_count": null,
      "metadata": {
        "id": "cell-lec26-11"
      },
      "outputs": [],
      "source": [
        "def one_sample_mean(sample_size):\n",
        "    \"\"\"\n",
        "    Takes a sample from the population of flights\n",
        "    and computes its mean\n",
        "    \"\"\"\n",
        "    # Sample 'sample_size' rows from the united DataFrame\n",
        "    sampled_flights = united.sample(n=sample_size)\n",
        "\n",
        "    # Compute and return the mean of the 'Delay' column from the sampled rows\n",
        "    return sampled_flights['Delay'].mean()\n"
      ],
      "id": "cell-lec26-11"
    },
    {
      "cell_type": "code",
      "execution_count": null,
      "metadata": {
        "id": "cell-lec26-12"
      },
      "outputs": [],
      "source": [],
      "id": "cell-lec26-12"
    },
    {
      "cell_type": "code",
      "execution_count": null,
      "metadata": {
        "id": "cell-lec26-13"
      },
      "outputs": [],
      "source": [
        "def ten_thousand_sample_means(sample_size):\n",
        "    means = []  # Start with an empty list to store the sample means\n",
        "    for i in range(10000):  # Loop 10,000 times\n",
        "        mean = one_sample_mean(sample_size)  # Compute the mean for each sample\n",
        "        means.append(mean)  # Append the mean to the list\n",
        "    return np.array(means)  # Convert the list of means to a numpy array\n"
      ],
      "id": "cell-lec26-13"
    },
    {
      "cell_type": "code",
      "execution_count": null,
      "metadata": {
        "id": "cell-lec26-14"
      },
      "outputs": [],
      "source": [],
      "id": "cell-lec26-14"
    },
    {
      "cell_type": "code",
      "execution_count": null,
      "metadata": {
        "id": "cell-lec26-15"
      },
      "outputs": [],
      "source": [],
      "id": "cell-lec26-15"
    },
    {
      "cell_type": "code",
      "execution_count": null,
      "metadata": {
        "id": "cell-lec26-16"
      },
      "outputs": [],
      "source": [],
      "id": "cell-lec26-16"
    },
    {
      "cell_type": "code",
      "execution_count": null,
      "metadata": {
        "id": "cell-lec26-17"
      },
      "outputs": [],
      "source": [
        "# Create a DataFrame with the sample means\n",
        "\n",
        "# Plot a histogram of the sample means with 20 bins\n",
        "\n",
        "# Display the plot\n"
      ],
      "id": "cell-lec26-17"
    },
    {
      "cell_type": "code",
      "execution_count": null,
      "metadata": {
        "id": "cell-lec26-18"
      },
      "outputs": [],
      "source": [
        "# Generate sample means for sample size of 400\n",
        "\n",
        "# Create a DataFrame with the sample means\n",
        "\n",
        "# Plot a histogram of the sample means with 20 bins\n",
        "\n",
        "# Display the plot\n",
        "\n",
        "# Print the population average\n"
      ],
      "id": "cell-lec26-18"
    },
    {
      "cell_type": "markdown",
      "source": [
        "## CLT: Spread"
      ],
      "metadata": {
        "id": "Iy4H3vapMQYP"
      },
      "id": "Iy4H3vapMQYP"
    },
    {
      "cell_type": "code",
      "source": [],
      "metadata": {
        "id": "OZmtYdplMQ3H"
      },
      "execution_count": null,
      "outputs": [],
      "id": "OZmtYdplMQ3H"
    },
    {
      "cell_type": "code",
      "source": [
        "# Create a DataFrame with columns for the sample means of size 400 and 900\n",
        "\n",
        "# Display the DataFrame\n"
      ],
      "metadata": {
        "id": "rCciVGlpMcrW"
      },
      "execution_count": null,
      "outputs": [],
      "id": "rCciVGlpMcrW"
    },
    {
      "cell_type": "code",
      "source": [
        "\n",
        "\n",
        "# Plot histograms for the '400' and '900' columns with the specified bins\n",
        "\n",
        "# Set the title for the plot\n",
        "\n",
        "# Display the plot\n"
      ],
      "metadata": {
        "id": "5XgDDg9bMrIk"
      },
      "execution_count": null,
      "outputs": [],
      "id": "5XgDDg9bMrIk"
    },
    {
      "cell_type": "markdown",
      "source": [
        "## Quantifying the Effect of Sample Size"
      ],
      "metadata": {
        "id": "Fo-HeGVwM4zz"
      },
      "id": "Fo-HeGVwM4zz"
    },
    {
      "cell_type": "code",
      "source": [
        "\n",
        "def plot_and_summarize_sample_means(sample_size):\n",
        "    # Generate the sample means\n",
        "    sample_means = ten_thousand_sample_means(sample_size)\n",
        "\n",
        "    # Create a DataFrame for the sample means\n",
        "    sample_means_df = pd.DataFrame({'Sample Means': sample_means})\n",
        "\n",
        "    # Print some information about the distribution of the sample means\n",
        "    print(\"Sample size: \", sample_size)\n",
        "    print(\"Population mean:\", delay_mean)\n",
        "    print(\"Average of sample means: \", np.mean(sample_means))\n",
        "    print(\"\\nPopulation SD:\", delay_sd)\n",
        "    print(\"SD of sample means:\", np.std(sample_means))\n",
        "    print(\"Ratio:\", delay_sd / np.std(sample_means))\n",
        "\n",
        "    # Plot a histogram of the sample means\n",
        "    sample_means_df['Sample Means'].plot(kind='hist', bins=20, figsize=(8, 5))\n",
        "\n",
        "    # Add labels and title\n",
        "    plots.xlabel('Sample Means')\n",
        "    plots.title(f'Sample Size {sample_size}')\n",
        "\n",
        "    # Display the plot\n",
        "    plots.show()\n"
      ],
      "metadata": {
        "id": "jCtSZFH-M5U6"
      },
      "execution_count": null,
      "outputs": [],
      "id": "jCtSZFH-M5U6"
    },
    {
      "cell_type": "code",
      "source": [],
      "metadata": {
        "id": "NWtdV0uJNJT-"
      },
      "execution_count": null,
      "outputs": [],
      "id": "NWtdV0uJNJT-"
    },
    {
      "cell_type": "code",
      "source": [],
      "metadata": {
        "id": "c15NE-tANNcb"
      },
      "execution_count": null,
      "outputs": [],
      "id": "c15NE-tANNcb"
    },
    {
      "cell_type": "code",
      "source": [],
      "metadata": {
        "id": "HWPNbfwkNPBu"
      },
      "execution_count": null,
      "outputs": [],
      "id": "HWPNbfwkNPBu"
    },
    {
      "cell_type": "code",
      "source": [],
      "metadata": {
        "id": "ZObMSDYBdYmV"
      },
      "id": "ZObMSDYBdYmV",
      "execution_count": null,
      "outputs": []
    }
  ],
  "metadata": {
    "anaconda-cloud": {},
    "kernelspec": {
      "display_name": "Python 3",
      "language": "python",
      "name": "python3"
    },
    "language_info": {
      "codemirror_mode": {
        "name": "ipython",
        "version": 3
      },
      "file_extension": ".py",
      "mimetype": "text/x-python",
      "name": "python",
      "nbconvert_exporter": "python",
      "pygments_lexer": "ipython3",
      "version": "3.10.12"
    },
    "colab": {
      "provenance": []
    }
  },
  "nbformat": 4,
  "nbformat_minor": 5
}