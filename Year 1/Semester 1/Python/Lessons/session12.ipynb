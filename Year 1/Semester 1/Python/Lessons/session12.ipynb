{
  "cells": [
    {
      "cell_type": "code",
      "execution_count": 2,
      "id": "cell-lec19-0",
      "metadata": {
        "id": "cell-lec19-0"
      },
      "outputs": [],
      "source": [
        "#These are libraries that you should import if needed for your notebook.\n",
        "#import libraries\n",
        "import pandas as pd\n",
        "import seaborn as sns\n",
        "import numpy as np\n",
        "%matplotlib inline\n",
        "import matplotlib.pyplot as plots\n",
        "plots.style.use('fivethirtyeight')\n",
        "#from google.colab import files"
      ]
    },
    {
      "cell_type": "markdown",
      "id": "cell-lec19-1",
      "metadata": {
        "id": "cell-lec19-1"
      },
      "source": [
        "# Comparing Two Samples"
      ]
    },
    {
      "cell_type": "code",
      "execution_count": 3,
      "id": "cell-lec19-2",
      "metadata": {
        "id": "cell-lec19-2"
      },
      "outputs": [],
      "source": [
        "#upload the file baby.csv\n",
        "#upload if you on google collab"
      ]
    },
    {
      "cell_type": "code",
      "execution_count": 9,
      "id": "scjUZDJEV8vN",
      "metadata": {
        "id": "scjUZDJEV8vN"
      },
      "outputs": [],
      "source": [
        "#Read the file baby.csv\n",
        "baby_data = pd.read_csv('C:/University/University Files/University-Code/Year 1/Semester 1/Python/Lessons/Data/csv/baby.csv')"
      ]
    },
    {
      "cell_type": "code",
      "execution_count": 12,
      "id": "cell-lec19-3",
      "metadata": {
        "id": "cell-lec19-3"
      },
      "outputs": [
        {
          "data": {
            "text/html": [
              "<div>\n",
              "<style scoped>\n",
              "    .dataframe tbody tr th:only-of-type {\n",
              "        vertical-align: middle;\n",
              "    }\n",
              "\n",
              "    .dataframe tbody tr th {\n",
              "        vertical-align: top;\n",
              "    }\n",
              "\n",
              "    .dataframe thead th {\n",
              "        text-align: right;\n",
              "    }\n",
              "</style>\n",
              "<table border=\"1\" class=\"dataframe\">\n",
              "  <thead>\n",
              "    <tr style=\"text-align: right;\">\n",
              "      <th></th>\n",
              "      <th>Birth Weight</th>\n",
              "      <th>Gestational Days</th>\n",
              "      <th>Maternal Age</th>\n",
              "      <th>Maternal Height</th>\n",
              "      <th>Maternal Pregnancy Weight</th>\n",
              "      <th>Maternal Smoker</th>\n",
              "    </tr>\n",
              "  </thead>\n",
              "  <tbody>\n",
              "    <tr>\n",
              "      <th>0</th>\n",
              "      <td>120</td>\n",
              "      <td>284</td>\n",
              "      <td>27</td>\n",
              "      <td>62</td>\n",
              "      <td>100</td>\n",
              "      <td>False</td>\n",
              "    </tr>\n",
              "    <tr>\n",
              "      <th>1</th>\n",
              "      <td>113</td>\n",
              "      <td>282</td>\n",
              "      <td>33</td>\n",
              "      <td>64</td>\n",
              "      <td>135</td>\n",
              "      <td>False</td>\n",
              "    </tr>\n",
              "    <tr>\n",
              "      <th>2</th>\n",
              "      <td>128</td>\n",
              "      <td>279</td>\n",
              "      <td>28</td>\n",
              "      <td>64</td>\n",
              "      <td>115</td>\n",
              "      <td>True</td>\n",
              "    </tr>\n",
              "    <tr>\n",
              "      <th>3</th>\n",
              "      <td>108</td>\n",
              "      <td>282</td>\n",
              "      <td>23</td>\n",
              "      <td>67</td>\n",
              "      <td>125</td>\n",
              "      <td>True</td>\n",
              "    </tr>\n",
              "    <tr>\n",
              "      <th>4</th>\n",
              "      <td>136</td>\n",
              "      <td>286</td>\n",
              "      <td>25</td>\n",
              "      <td>62</td>\n",
              "      <td>93</td>\n",
              "      <td>False</td>\n",
              "    </tr>\n",
              "    <tr>\n",
              "      <th>...</th>\n",
              "      <td>...</td>\n",
              "      <td>...</td>\n",
              "      <td>...</td>\n",
              "      <td>...</td>\n",
              "      <td>...</td>\n",
              "      <td>...</td>\n",
              "    </tr>\n",
              "    <tr>\n",
              "      <th>1169</th>\n",
              "      <td>113</td>\n",
              "      <td>275</td>\n",
              "      <td>27</td>\n",
              "      <td>60</td>\n",
              "      <td>100</td>\n",
              "      <td>False</td>\n",
              "    </tr>\n",
              "    <tr>\n",
              "      <th>1170</th>\n",
              "      <td>128</td>\n",
              "      <td>265</td>\n",
              "      <td>24</td>\n",
              "      <td>67</td>\n",
              "      <td>120</td>\n",
              "      <td>False</td>\n",
              "    </tr>\n",
              "    <tr>\n",
              "      <th>1171</th>\n",
              "      <td>130</td>\n",
              "      <td>291</td>\n",
              "      <td>30</td>\n",
              "      <td>65</td>\n",
              "      <td>150</td>\n",
              "      <td>True</td>\n",
              "    </tr>\n",
              "    <tr>\n",
              "      <th>1172</th>\n",
              "      <td>125</td>\n",
              "      <td>281</td>\n",
              "      <td>21</td>\n",
              "      <td>65</td>\n",
              "      <td>110</td>\n",
              "      <td>False</td>\n",
              "    </tr>\n",
              "    <tr>\n",
              "      <th>1173</th>\n",
              "      <td>117</td>\n",
              "      <td>297</td>\n",
              "      <td>38</td>\n",
              "      <td>65</td>\n",
              "      <td>129</td>\n",
              "      <td>False</td>\n",
              "    </tr>\n",
              "  </tbody>\n",
              "</table>\n",
              "<p>1174 rows × 6 columns</p>\n",
              "</div>"
            ],
            "text/plain": [
              "      Birth Weight  Gestational Days  Maternal Age  Maternal Height  \\\n",
              "0              120               284            27               62   \n",
              "1              113               282            33               64   \n",
              "2              128               279            28               64   \n",
              "3              108               282            23               67   \n",
              "4              136               286            25               62   \n",
              "...            ...               ...           ...              ...   \n",
              "1169           113               275            27               60   \n",
              "1170           128               265            24               67   \n",
              "1171           130               291            30               65   \n",
              "1172           125               281            21               65   \n",
              "1173           117               297            38               65   \n",
              "\n",
              "      Maternal Pregnancy Weight  Maternal Smoker  \n",
              "0                           100            False  \n",
              "1                           135            False  \n",
              "2                           115             True  \n",
              "3                           125             True  \n",
              "4                            93            False  \n",
              "...                         ...              ...  \n",
              "1169                        100            False  \n",
              "1170                        120            False  \n",
              "1171                        150             True  \n",
              "1172                        110            False  \n",
              "1173                        129            False  \n",
              "\n",
              "[1174 rows x 6 columns]"
            ]
          },
          "execution_count": 12,
          "metadata": {},
          "output_type": "execute_result"
        }
      ],
      "source": [
        "baby_data"
      ]
    },
    {
      "cell_type": "code",
      "execution_count": 20,
      "id": "cell-lec19-4",
      "metadata": {
        "id": "cell-lec19-4"
      },
      "outputs": [
        {
          "data": {
            "text/html": [
              "<div>\n",
              "<style scoped>\n",
              "    .dataframe tbody tr th:only-of-type {\n",
              "        vertical-align: middle;\n",
              "    }\n",
              "\n",
              "    .dataframe tbody tr th {\n",
              "        vertical-align: top;\n",
              "    }\n",
              "\n",
              "    .dataframe thead th {\n",
              "        text-align: right;\n",
              "    }\n",
              "</style>\n",
              "<table border=\"1\" class=\"dataframe\">\n",
              "  <thead>\n",
              "    <tr style=\"text-align: right;\">\n",
              "      <th></th>\n",
              "      <th>Maternal Smoker</th>\n",
              "      <th>Birth Weight</th>\n",
              "    </tr>\n",
              "  </thead>\n",
              "  <tbody>\n",
              "    <tr>\n",
              "      <th>0</th>\n",
              "      <td>False</td>\n",
              "      <td>120</td>\n",
              "    </tr>\n",
              "    <tr>\n",
              "      <th>1</th>\n",
              "      <td>False</td>\n",
              "      <td>113</td>\n",
              "    </tr>\n",
              "    <tr>\n",
              "      <th>2</th>\n",
              "      <td>True</td>\n",
              "      <td>128</td>\n",
              "    </tr>\n",
              "    <tr>\n",
              "      <th>3</th>\n",
              "      <td>True</td>\n",
              "      <td>108</td>\n",
              "    </tr>\n",
              "    <tr>\n",
              "      <th>4</th>\n",
              "      <td>False</td>\n",
              "      <td>136</td>\n",
              "    </tr>\n",
              "    <tr>\n",
              "      <th>...</th>\n",
              "      <td>...</td>\n",
              "      <td>...</td>\n",
              "    </tr>\n",
              "    <tr>\n",
              "      <th>1169</th>\n",
              "      <td>False</td>\n",
              "      <td>113</td>\n",
              "    </tr>\n",
              "    <tr>\n",
              "      <th>1170</th>\n",
              "      <td>False</td>\n",
              "      <td>128</td>\n",
              "    </tr>\n",
              "    <tr>\n",
              "      <th>1171</th>\n",
              "      <td>True</td>\n",
              "      <td>130</td>\n",
              "    </tr>\n",
              "    <tr>\n",
              "      <th>1172</th>\n",
              "      <td>False</td>\n",
              "      <td>125</td>\n",
              "    </tr>\n",
              "    <tr>\n",
              "      <th>1173</th>\n",
              "      <td>False</td>\n",
              "      <td>117</td>\n",
              "    </tr>\n",
              "  </tbody>\n",
              "</table>\n",
              "<p>1174 rows × 2 columns</p>\n",
              "</div>"
            ],
            "text/plain": [
              "      Maternal Smoker  Birth Weight\n",
              "0               False           120\n",
              "1               False           113\n",
              "2                True           128\n",
              "3                True           108\n",
              "4               False           136\n",
              "...               ...           ...\n",
              "1169            False           113\n",
              "1170            False           128\n",
              "1171             True           130\n",
              "1172            False           125\n",
              "1173            False           117\n",
              "\n",
              "[1174 rows x 2 columns]"
            ]
          },
          "execution_count": 20,
          "metadata": {},
          "output_type": "execute_result"
        }
      ],
      "source": [
        "#create a new table only with Maternal Smoker and Birth Weight\n",
        "smoking_and_birthweight = baby_data[['Maternal Smoker', 'Birth Weight']]\n",
        "smoking_and_birthweight"
      ]
    },
    {
      "cell_type": "code",
      "execution_count": 21,
      "id": "cell-lec19-5",
      "metadata": {
        "id": "cell-lec19-5"
      },
      "outputs": [
        {
          "data": {
            "text/plain": [
              "Maternal Smoker\n",
              "False    715\n",
              "True     459\n",
              "dtype: int64"
            ]
          },
          "execution_count": 21,
          "metadata": {},
          "output_type": "execute_result"
        }
      ],
      "source": [
        "#Determine the number of non smokers and smokers\n",
        "smoking_and_birthweight.groupby('Maternal Smoker').size()\n",
        "#size() counts"
      ]
    },
    {
      "cell_type": "code",
      "execution_count": 22,
      "id": "cell-lec19-6",
      "metadata": {
        "id": "cell-lec19-6"
      },
      "outputs": [
        {
          "data": {
            "text/plain": [
              "<matplotlib.legend.Legend at 0x2d5df9a20f0>"
            ]
          },
          "execution_count": 22,
          "metadata": {},
          "output_type": "execute_result"
        },
        {
          "data": {
            "image/png": "[encoded data removed]",
            "text/plain": [
              "<Figure size 640x480 with 1 Axes>"
            ]
          },
          "metadata": {},
          "output_type": "display_data"
        }
      ],
      "source": [
        "#plot the grouped data into a histogram\n",
        "grouped = smoking_and_birthweight.groupby('Maternal Smoker')\n",
        "#category, creates tables, sees for true and false\n",
        "for category, group in grouped:\n",
        "    plots.hist(group['Birth Weight'],label = f'Category {category}')\n",
        "\n",
        "plots.legend()\n"
      ]
    },
    {
      "cell_type": "code",
      "execution_count": 23,
      "id": "a332418a",
      "metadata": {},
      "outputs": [],
      "source": [
        "# we will need to standardize the data, we want to determine the average for the birth weight on smokers and non-smoking moms."
      ]
    },
    {
      "cell_type": "markdown",
      "id": "cell-lec19-7",
      "metadata": {
        "id": "cell-lec19-7"
      },
      "source": [
        "# Test Statistic\n",
        "\n",
        "[Question] What values of our statistic are in favor of the alternative: positive or negative?"
      ]
    },
    {
      "cell_type": "code",
      "execution_count": 25,
      "id": "cell-lec19-8",
      "metadata": {
        "id": "cell-lec19-8"
      },
      "outputs": [
        {
          "data": {
            "text/html": [
              "<div>\n",
              "<style scoped>\n",
              "    .dataframe tbody tr th:only-of-type {\n",
              "        vertical-align: middle;\n",
              "    }\n",
              "\n",
              "    .dataframe tbody tr th {\n",
              "        vertical-align: top;\n",
              "    }\n",
              "\n",
              "    .dataframe thead th {\n",
              "        text-align: right;\n",
              "    }\n",
              "</style>\n",
              "<table border=\"1\" class=\"dataframe\">\n",
              "  <thead>\n",
              "    <tr style=\"text-align: right;\">\n",
              "      <th></th>\n",
              "      <th>Birth Weight</th>\n",
              "    </tr>\n",
              "    <tr>\n",
              "      <th>Maternal Smoker</th>\n",
              "      <th></th>\n",
              "    </tr>\n",
              "  </thead>\n",
              "  <tbody>\n",
              "    <tr>\n",
              "      <th>False</th>\n",
              "      <td>123.085315</td>\n",
              "    </tr>\n",
              "    <tr>\n",
              "      <th>True</th>\n",
              "      <td>113.819172</td>\n",
              "    </tr>\n",
              "  </tbody>\n",
              "</table>\n",
              "</div>"
            ],
            "text/plain": [
              "                 Birth Weight\n",
              "Maternal Smoker              \n",
              "False              123.085315\n",
              "True               113.819172"
            ]
          },
          "execution_count": 25,
          "metadata": {},
          "output_type": "execute_result"
        }
      ],
      "source": [
        "#Determine the mean of the birth weight for smokers vs non-smokers\n",
        "mean_table = smoking_and_birthweight.groupby('Maternal Smoker').mean()\n",
        "mean_table"
      ]
    },
    {
      "cell_type": "code",
      "execution_count": 26,
      "id": "cell-lec19-9",
      "metadata": {
        "id": "cell-lec19-9"
      },
      "outputs": [
        {
          "data": {
            "text/plain": [
              "np.float64(-9.266142572024918)"
            ]
          },
          "execution_count": 26,
          "metadata": {},
          "output_type": "execute_result"
        }
      ],
      "source": [
        "#What is the difference between the birth weight for smokers and non-smokers\n",
        "observed_difference = mean_table.iloc[1,:]-mean_table.iloc[0,:1]\n",
        "observed_difference.to_numpy()[0]"
      ]
    },
    {
      "cell_type": "code",
      "execution_count": 27,
      "id": "cell-lec19-10",
      "metadata": {
        "id": "cell-lec19-10"
      },
      "outputs": [],
      "source": [
        "#Create a function to input a table, a label and group label. which would then determine the label difference grouped by the values in group label\n",
        "def difference_of_means(table, label, group_label):\n",
        "     \"\"\"Takes: name of table, column label of numerical variable,\n",
        "    column label of group-label variable\n",
        "    Returns: Difference of means of the two groups\"\"\"\n",
        "     \n",
        "     reduced = table[[label, group_label]]\n",
        "\n",
        "     mean_table = reduced.groupby(group_label).mean()\n",
        "     means_difference = mean_table.iloc[1,:]-mean_table.iloc[0,:]\n",
        "\n",
        "     return means_difference.to_numpy()[0]\n"
      ]
    },
    {
      "cell_type": "code",
      "execution_count": 28,
      "id": "cell-lec19-11",
      "metadata": {
        "id": "cell-lec19-11"
      },
      "outputs": [
        {
          "data": {
            "text/plain": [
              "np.float64(-9.266142572024918)"
            ]
          },
          "execution_count": 28,
          "metadata": {},
          "output_type": "execute_result"
        }
      ],
      "source": [
        "#Let's test this function\n",
        "difference_of_means(baby_data, 'Birth Weight', 'Maternal Smoker')\n"
      ]
    },
    {
      "cell_type": "markdown",
      "id": "cell-lec19-12",
      "metadata": {
        "id": "cell-lec19-12"
      },
      "source": [
        "# Random Permutation (Shuffling)"
      ]
    },
    {
      "cell_type": "code",
      "execution_count": 48,
      "id": "cell-lec19-13",
      "metadata": {
        "id": "cell-lec19-13"
      },
      "outputs": [],
      "source": [
        "#Let's create a table\n",
        "letters = pd.DataFrame({'Letter': ['A', 'B', 'C', 'D']})\n"
      ]
    },
    {
      "cell_type": "code",
      "execution_count": 33,
      "id": "cell-lec19-14",
      "metadata": {
        "id": "cell-lec19-14"
      },
      "outputs": [
        {
          "data": {
            "text/html": [
              "<div>\n",
              "<style scoped>\n",
              "    .dataframe tbody tr th:only-of-type {\n",
              "        vertical-align: middle;\n",
              "    }\n",
              "\n",
              "    .dataframe tbody tr th {\n",
              "        vertical-align: top;\n",
              "    }\n",
              "\n",
              "    .dataframe thead th {\n",
              "        text-align: right;\n",
              "    }\n",
              "</style>\n",
              "<table border=\"1\" class=\"dataframe\">\n",
              "  <thead>\n",
              "    <tr style=\"text-align: right;\">\n",
              "      <th></th>\n",
              "      <th>letter</th>\n",
              "    </tr>\n",
              "  </thead>\n",
              "  <tbody>\n",
              "    <tr>\n",
              "      <th>0</th>\n",
              "      <td>A</td>\n",
              "    </tr>\n",
              "    <tr>\n",
              "      <th>1</th>\n",
              "      <td>B</td>\n",
              "    </tr>\n",
              "    <tr>\n",
              "      <th>2</th>\n",
              "      <td>C</td>\n",
              "    </tr>\n",
              "    <tr>\n",
              "      <th>3</th>\n",
              "      <td>D</td>\n",
              "    </tr>\n",
              "  </tbody>\n",
              "</table>\n",
              "</div>"
            ],
            "text/plain": [
              "  letter\n",
              "0      A\n",
              "1      B\n",
              "2      C\n",
              "3      D"
            ]
          },
          "execution_count": 33,
          "metadata": {},
          "output_type": "execute_result"
        }
      ],
      "source": [
        "letters"
      ]
    },
    {
      "cell_type": "code",
      "execution_count": 40,
      "id": "cell-lec19-15",
      "metadata": {
        "id": "cell-lec19-15"
      },
      "outputs": [
        {
          "data": {
            "text/html": [
              "<div>\n",
              "<style scoped>\n",
              "    .dataframe tbody tr th:only-of-type {\n",
              "        vertical-align: middle;\n",
              "    }\n",
              "\n",
              "    .dataframe tbody tr th {\n",
              "        vertical-align: top;\n",
              "    }\n",
              "\n",
              "    .dataframe thead th {\n",
              "        text-align: right;\n",
              "    }\n",
              "</style>\n",
              "<table border=\"1\" class=\"dataframe\">\n",
              "  <thead>\n",
              "    <tr style=\"text-align: right;\">\n",
              "      <th></th>\n",
              "      <th>letter</th>\n",
              "    </tr>\n",
              "  </thead>\n",
              "  <tbody>\n",
              "    <tr>\n",
              "      <th>0</th>\n",
              "      <td>A</td>\n",
              "    </tr>\n",
              "    <tr>\n",
              "      <th>3</th>\n",
              "      <td>D</td>\n",
              "    </tr>\n",
              "    <tr>\n",
              "      <th>1</th>\n",
              "      <td>B</td>\n",
              "    </tr>\n",
              "    <tr>\n",
              "      <th>2</th>\n",
              "      <td>C</td>\n",
              "    </tr>\n",
              "  </tbody>\n",
              "</table>\n",
              "</div>"
            ],
            "text/plain": [
              "  letter\n",
              "0      A\n",
              "3      D\n",
              "1      B\n",
              "2      C"
            ]
          },
          "execution_count": 40,
          "metadata": {},
          "output_type": "execute_result"
        }
      ],
      "source": [
        "#Let's shuffle with replacement\n",
        "letters.sample(4)"
      ]
    },
    {
      "cell_type": "code",
      "execution_count": 41,
      "id": "cell-lec19-16",
      "metadata": {
        "id": "cell-lec19-16"
      },
      "outputs": [
        {
          "data": {
            "text/html": [
              "<div>\n",
              "<style scoped>\n",
              "    .dataframe tbody tr th:only-of-type {\n",
              "        vertical-align: middle;\n",
              "    }\n",
              "\n",
              "    .dataframe tbody tr th {\n",
              "        vertical-align: top;\n",
              "    }\n",
              "\n",
              "    .dataframe thead th {\n",
              "        text-align: right;\n",
              "    }\n",
              "</style>\n",
              "<table border=\"1\" class=\"dataframe\">\n",
              "  <thead>\n",
              "    <tr style=\"text-align: right;\">\n",
              "      <th></th>\n",
              "      <th>letter</th>\n",
              "    </tr>\n",
              "  </thead>\n",
              "  <tbody>\n",
              "    <tr>\n",
              "      <th>2</th>\n",
              "      <td>C</td>\n",
              "    </tr>\n",
              "    <tr>\n",
              "      <th>2</th>\n",
              "      <td>C</td>\n",
              "    </tr>\n",
              "    <tr>\n",
              "      <th>1</th>\n",
              "      <td>B</td>\n",
              "    </tr>\n",
              "    <tr>\n",
              "      <th>2</th>\n",
              "      <td>C</td>\n",
              "    </tr>\n",
              "  </tbody>\n",
              "</table>\n",
              "</div>"
            ],
            "text/plain": [
              "  letter\n",
              "2      C\n",
              "2      C\n",
              "1      B\n",
              "2      C"
            ]
          },
          "execution_count": 41,
          "metadata": {},
          "output_type": "execute_result"
        }
      ],
      "source": [
        "#Let's shuffle without replacement\n",
        "letters.sample(4, replace=True)"
      ]
    },
    {
      "cell_type": "code",
      "execution_count": 49,
      "id": "MAEaHCwrddSx",
      "metadata": {
        "id": "MAEaHCwrddSx"
      },
      "outputs": [
        {
          "data": {
            "text/html": [
              "<div>\n",
              "<style scoped>\n",
              "    .dataframe tbody tr th:only-of-type {\n",
              "        vertical-align: middle;\n",
              "    }\n",
              "\n",
              "    .dataframe tbody tr th {\n",
              "        vertical-align: top;\n",
              "    }\n",
              "\n",
              "    .dataframe thead th {\n",
              "        text-align: right;\n",
              "    }\n",
              "</style>\n",
              "<table border=\"1\" class=\"dataframe\">\n",
              "  <thead>\n",
              "    <tr style=\"text-align: right;\">\n",
              "      <th></th>\n",
              "      <th>Letter</th>\n",
              "      <th>Shuffled</th>\n",
              "    </tr>\n",
              "  </thead>\n",
              "  <tbody>\n",
              "    <tr>\n",
              "      <th>0</th>\n",
              "      <td>A</td>\n",
              "      <td>B</td>\n",
              "    </tr>\n",
              "    <tr>\n",
              "      <th>1</th>\n",
              "      <td>B</td>\n",
              "      <td>A</td>\n",
              "    </tr>\n",
              "    <tr>\n",
              "      <th>2</th>\n",
              "      <td>C</td>\n",
              "      <td>C</td>\n",
              "    </tr>\n",
              "    <tr>\n",
              "      <th>3</th>\n",
              "      <td>D</td>\n",
              "      <td>D</td>\n",
              "    </tr>\n",
              "  </tbody>\n",
              "</table>\n",
              "</div>"
            ],
            "text/plain": [
              "  Letter Shuffled\n",
              "0      A        B\n",
              "1      B        A\n",
              "2      C        C\n",
              "3      D        D"
            ]
          },
          "execution_count": 49,
          "metadata": {},
          "output_type": "execute_result"
        }
      ],
      "source": [
        "#Let's put the shuffle without replacement as a column into the table, letters.\n",
        "shuffled_letters = letters.sample(4)\n",
        "letters['Shuffled'] = shuffled_letters['Letter'].values\n",
        "letters"
      ]
    },
    {
      "cell_type": "markdown",
      "id": "cell-lec19-17",
      "metadata": {
        "id": "cell-lec19-17"
      },
      "source": [
        "# Simulation Under Null Hypothesis"
      ]
    },
    {
      "cell_type": "code",
      "execution_count": 50,
      "id": "cell-lec19-18",
      "metadata": {
        "id": "cell-lec19-18"
      },
      "outputs": [
        {
          "data": {
            "text/html": [
              "<div>\n",
              "<style scoped>\n",
              "    .dataframe tbody tr th:only-of-type {\n",
              "        vertical-align: middle;\n",
              "    }\n",
              "\n",
              "    .dataframe tbody tr th {\n",
              "        vertical-align: top;\n",
              "    }\n",
              "\n",
              "    .dataframe thead th {\n",
              "        text-align: right;\n",
              "    }\n",
              "</style>\n",
              "<table border=\"1\" class=\"dataframe\">\n",
              "  <thead>\n",
              "    <tr style=\"text-align: right;\">\n",
              "      <th></th>\n",
              "      <th>Maternal Smoker</th>\n",
              "      <th>Birth Weight</th>\n",
              "    </tr>\n",
              "  </thead>\n",
              "  <tbody>\n",
              "    <tr>\n",
              "      <th>0</th>\n",
              "      <td>False</td>\n",
              "      <td>120</td>\n",
              "    </tr>\n",
              "    <tr>\n",
              "      <th>1</th>\n",
              "      <td>False</td>\n",
              "      <td>113</td>\n",
              "    </tr>\n",
              "    <tr>\n",
              "      <th>2</th>\n",
              "      <td>True</td>\n",
              "      <td>128</td>\n",
              "    </tr>\n",
              "    <tr>\n",
              "      <th>3</th>\n",
              "      <td>True</td>\n",
              "      <td>108</td>\n",
              "    </tr>\n",
              "    <tr>\n",
              "      <th>4</th>\n",
              "      <td>False</td>\n",
              "      <td>136</td>\n",
              "    </tr>\n",
              "    <tr>\n",
              "      <th>...</th>\n",
              "      <td>...</td>\n",
              "      <td>...</td>\n",
              "    </tr>\n",
              "    <tr>\n",
              "      <th>1169</th>\n",
              "      <td>False</td>\n",
              "      <td>113</td>\n",
              "    </tr>\n",
              "    <tr>\n",
              "      <th>1170</th>\n",
              "      <td>False</td>\n",
              "      <td>128</td>\n",
              "    </tr>\n",
              "    <tr>\n",
              "      <th>1171</th>\n",
              "      <td>True</td>\n",
              "      <td>130</td>\n",
              "    </tr>\n",
              "    <tr>\n",
              "      <th>1172</th>\n",
              "      <td>False</td>\n",
              "      <td>125</td>\n",
              "    </tr>\n",
              "    <tr>\n",
              "      <th>1173</th>\n",
              "      <td>False</td>\n",
              "      <td>117</td>\n",
              "    </tr>\n",
              "  </tbody>\n",
              "</table>\n",
              "<p>1174 rows × 2 columns</p>\n",
              "</div>"
            ],
            "text/plain": [
              "      Maternal Smoker  Birth Weight\n",
              "0               False           120\n",
              "1               False           113\n",
              "2                True           128\n",
              "3                True           108\n",
              "4               False           136\n",
              "...               ...           ...\n",
              "1169            False           113\n",
              "1170            False           128\n",
              "1171             True           130\n",
              "1172            False           125\n",
              "1173            False           117\n",
              "\n",
              "[1174 rows x 2 columns]"
            ]
          },
          "execution_count": 50,
          "metadata": {},
          "output_type": "execute_result"
        }
      ],
      "source": [
        "#Call table smoking_and_birthweight\n",
        "smoking_and_birthweight"
      ]
    },
    {
      "cell_type": "code",
      "execution_count": 51,
      "id": "cell-lec19-19",
      "metadata": {
        "id": "cell-lec19-19"
      },
      "outputs": [
        {
          "data": {
            "text/plain": [
              "array([False, False, False, ..., False, False, False])"
            ]
          },
          "execution_count": 51,
          "metadata": {},
          "output_type": "execute_result"
        }
      ],
      "source": [
        "#Create an array with maternal smoker column being shuffled\n",
        "shuffled_labels = np.random.permutation(smoking_and_birthweight['Maternal Smoker'])\n",
        "shuffled_labels"
      ]
    },
    {
      "cell_type": "code",
      "execution_count": 53,
      "id": "cell-lec19-20",
      "metadata": {
        "id": "cell-lec19-20"
      },
      "outputs": [
        {
          "name": "stderr",
          "output_type": "stream",
          "text": [
            "C:\\Users\\Haju8\\AppData\\Local\\Temp\\ipykernel_15696\\3898270721.py:3: SettingWithCopyWarning: \n",
            "A value is trying to be set on a copy of a slice from a DataFrame.\n",
            "Try using .loc[row_indexer,col_indexer] = value instead\n",
            "\n",
            "See the caveats in the documentation: https://pandas.pydata.org/pandas-docs/stable/user_guide/indexing.html#returning-a-view-versus-a-copy\n",
            "  original_and_shuffled['Shuffled Label'] = shuffled_labels\n"
          ]
        },
        {
          "data": {
            "text/html": [
              "<div>\n",
              "<style scoped>\n",
              "    .dataframe tbody tr th:only-of-type {\n",
              "        vertical-align: middle;\n",
              "    }\n",
              "\n",
              "    .dataframe tbody tr th {\n",
              "        vertical-align: top;\n",
              "    }\n",
              "\n",
              "    .dataframe thead th {\n",
              "        text-align: right;\n",
              "    }\n",
              "</style>\n",
              "<table border=\"1\" class=\"dataframe\">\n",
              "  <thead>\n",
              "    <tr style=\"text-align: right;\">\n",
              "      <th></th>\n",
              "      <th>Maternal Smoker</th>\n",
              "      <th>Birth Weight</th>\n",
              "      <th>Shuffled Label</th>\n",
              "    </tr>\n",
              "  </thead>\n",
              "  <tbody>\n",
              "    <tr>\n",
              "      <th>0</th>\n",
              "      <td>False</td>\n",
              "      <td>120</td>\n",
              "      <td>False</td>\n",
              "    </tr>\n",
              "    <tr>\n",
              "      <th>1</th>\n",
              "      <td>False</td>\n",
              "      <td>113</td>\n",
              "      <td>False</td>\n",
              "    </tr>\n",
              "    <tr>\n",
              "      <th>2</th>\n",
              "      <td>True</td>\n",
              "      <td>128</td>\n",
              "      <td>False</td>\n",
              "    </tr>\n",
              "    <tr>\n",
              "      <th>3</th>\n",
              "      <td>True</td>\n",
              "      <td>108</td>\n",
              "      <td>True</td>\n",
              "    </tr>\n",
              "    <tr>\n",
              "      <th>4</th>\n",
              "      <td>False</td>\n",
              "      <td>136</td>\n",
              "      <td>True</td>\n",
              "    </tr>\n",
              "    <tr>\n",
              "      <th>...</th>\n",
              "      <td>...</td>\n",
              "      <td>...</td>\n",
              "      <td>...</td>\n",
              "    </tr>\n",
              "    <tr>\n",
              "      <th>1169</th>\n",
              "      <td>False</td>\n",
              "      <td>113</td>\n",
              "      <td>False</td>\n",
              "    </tr>\n",
              "    <tr>\n",
              "      <th>1170</th>\n",
              "      <td>False</td>\n",
              "      <td>128</td>\n",
              "      <td>False</td>\n",
              "    </tr>\n",
              "    <tr>\n",
              "      <th>1171</th>\n",
              "      <td>True</td>\n",
              "      <td>130</td>\n",
              "      <td>False</td>\n",
              "    </tr>\n",
              "    <tr>\n",
              "      <th>1172</th>\n",
              "      <td>False</td>\n",
              "      <td>125</td>\n",
              "      <td>False</td>\n",
              "    </tr>\n",
              "    <tr>\n",
              "      <th>1173</th>\n",
              "      <td>False</td>\n",
              "      <td>117</td>\n",
              "      <td>False</td>\n",
              "    </tr>\n",
              "  </tbody>\n",
              "</table>\n",
              "<p>1174 rows × 3 columns</p>\n",
              "</div>"
            ],
            "text/plain": [
              "      Maternal Smoker  Birth Weight  Shuffled Label\n",
              "0               False           120           False\n",
              "1               False           113           False\n",
              "2                True           128           False\n",
              "3                True           108            True\n",
              "4               False           136            True\n",
              "...               ...           ...             ...\n",
              "1169            False           113           False\n",
              "1170            False           128           False\n",
              "1171             True           130           False\n",
              "1172            False           125           False\n",
              "1173            False           117           False\n",
              "\n",
              "[1174 rows x 3 columns]"
            ]
          },
          "execution_count": 53,
          "metadata": {},
          "output_type": "execute_result"
        }
      ],
      "source": [
        "#Create a new table original_and_shuffled and add the shuffled labels as a column\n",
        "original_and_shuffled = smoking_and_birthweight\n",
        "original_and_shuffled['Shuffled Label'] = shuffled_labels\n",
        "original_and_shuffled"
      ]
    },
    {
      "cell_type": "code",
      "execution_count": 56,
      "id": "cell-lec19-22",
      "metadata": {
        "id": "cell-lec19-22"
      },
      "outputs": [
        {
          "data": {
            "text/plain": [
              "np.float64(-0.7022045492633708)"
            ]
          },
          "execution_count": 56,
          "metadata": {},
          "output_type": "execute_result"
        }
      ],
      "source": [
        "#determine the difference mean in birth weight for shuffled label\n",
        "difference_of_means(original_and_shuffled, 'Birth Weight', 'Shuffled Label')"
      ]
    },
    {
      "cell_type": "code",
      "execution_count": 57,
      "id": "cell-lec19-23",
      "metadata": {
        "id": "cell-lec19-23"
      },
      "outputs": [
        {
          "data": {
            "text/plain": [
              "np.float64(-9.266142572024918)"
            ]
          },
          "execution_count": 57,
          "metadata": {},
          "output_type": "execute_result"
        }
      ],
      "source": [
        "#determine the difference mean in birth weight for Maternal smoker\n",
        "difference_of_means(original_and_shuffled, 'Birth Weight', 'Maternal Smoker')"
      ]
    },
    {
      "cell_type": "markdown",
      "id": "cell-lec19-24",
      "metadata": {
        "id": "cell-lec19-24"
      },
      "source": [
        "# Permutation Test"
      ]
    },
    {
      "cell_type": "code",
      "execution_count": 58,
      "id": "cell-lec19-25",
      "metadata": {
        "id": "cell-lec19-25"
      },
      "outputs": [],
      "source": [
        "#Let's put this all into a function\n",
        "def one_simulated_difference(table, label, group_label):\n",
        "    \"\"\"Takes: name of table, column label of numerical variable,\n",
        "    column label of group-label variable\n",
        "    Returns: Difference of means of the two groups after shuffling labels\"\"\"\n",
        "\n",
        "    # array of shuffled labels\n",
        "    shuffled_labels = np.random.permutation(table[group_label])\n",
        "\n",
        "    # table of numerical variable and shuffled labels\n",
        "    table['Shuffled Label'] = shuffled_labels\n",
        "\n",
        "    return difference_of_means(table, label, 'Shuffled Label')"
      ]
    },
    {
      "cell_type": "code",
      "execution_count": 60,
      "id": "cell-lec19-26",
      "metadata": {
        "id": "cell-lec19-26"
      },
      "outputs": [
        {
          "data": {
            "text/plain": [
              "np.float64(-2.4443256090314947)"
            ]
          },
          "execution_count": 60,
          "metadata": {},
          "output_type": "execute_result"
        }
      ],
      "source": [
        "#Test this function\n",
        "one_simulated_difference(baby_data, 'Birth Weight', 'Maternal Smoker')"
      ]
    },
    {
      "cell_type": "code",
      "execution_count": 61,
      "id": "cell-lec19-27",
      "metadata": {
        "id": "cell-lec19-27"
      },
      "outputs": [],
      "source": [
        "#Let's run this multiple times\n",
        "diffrerence = []\n",
        "\n",
        "for _ in np.arange(2500):\n",
        "    new_difference = one_simulated_difference(baby_data, 'Birth Weight', 'Maternal Smoker')\n",
        "    diffrerence.append(new_difference)"
      ]
    },
    {
      "cell_type": "code",
      "execution_count": 63,
      "id": "cell-lec19-28",
      "metadata": {
        "id": "cell-lec19-28"
      },
      "outputs": [
        {
          "name": "stdout",
          "output_type": "stream",
          "text": [
            "Observed Difference:  Birth Weight   -9.266143\n",
            "dtype: float64\n"
          ]
        },
        {
          "data": {
            "image/png": "[encoded data removed]",
            "text/plain": [
              "<Figure size 640x480 with 1 Axes>"
            ]
          },
          "metadata": {},
          "output_type": "display_data"
        }
      ],
      "source": [
        "#Let's plot the distribution from the results above\n",
        "table = pd.DataFrame({'Difference of group Means' : diffrerence})\n",
        "table.hist('Difference of group Means')\n",
        "\n",
        "print('Observed Difference: ',observed_difference)"
      ]
    },
    {
      "cell_type": "markdown",
      "id": "81a1892e",
      "metadata": {},
      "source": [
        "### Question would you release these results?"
      ]
    },
    {
      "cell_type": "markdown",
      "id": "96e3825d",
      "metadata": {},
      "source": [
        "Why yes or why no?"
      ]
    }
  ],
  "metadata": {
    "colab": {
      "provenance": []
    },
    "kernelspec": {
      "display_name": "Python 3",
      "language": "python",
      "name": "python3"
    },
    "language_info": {
      "codemirror_mode": {
        "name": "ipython",
        "version": 3
      },
      "file_extension": ".py",
      "mimetype": "text/x-python",
      "name": "python",
      "nbconvert_exporter": "python",
      "pygments_lexer": "ipython3",
      "version": "3.12.4"
    }
  },
  "nbformat": 4,
  "nbformat_minor": 5
}
