{
  "nbformat": 4,
  "nbformat_minor": 0,
  "metadata": {
    "colab": {
      "provenance": [],
      "toc_visible": true
    },
    "kernelspec": {
      "name": "python3",
      "display_name": "Python 3"
    },
    "language_info": {
      "name": "python"
    }
  },
  "cells": [
    {
      "cell_type": "markdown",
      "source": [
        "**Conditionals and Iterations**\n",
        "\n",
        "A conditional statement is one where an action is performed if a prespecified condition is satisfied and another or no action is performed if the condition is not satisfied.\n",
        "\n",
        "Conditional statements are an easy way to take different actions based on some condition being fulfilled or not.\n",
        "\n",
        "In Python, we use the *if* statement for the conditional statement.\n",
        "\n",
        "An iteration is a set of statement that is repeated multiple times.\n",
        "\n",
        "Iteration will repeat a set of code and perform some action multiple times.\n",
        "\n",
        "In Python, we use *for* statement for the iteration instruction.\n"
      ],
      "metadata": {
        "id": "4S5Hr58nHVDB"
      }
    },
    {
      "cell_type": "markdown",
      "source": [
        "**Advantages:**\n",
        "\n",
        "* Simplifies coding.\n",
        "\n",
        "* Readability.\n",
        "\n",
        "* Efficiency in memory utilization."
      ],
      "metadata": {
        "id": "P8h2hZekOnOU"
      }
    },
    {
      "cell_type": "code",
      "execution_count": null,
      "metadata": {
        "id": "LPUxRvlxuU1x"
      },
      "outputs": [],
      "source": [
        "#These are libraries that you should import if needed for your notebook.\n",
        "#import libraries\n",
        "import pandas as pd\n",
        "import seaborn as sns\n",
        "import numpy as np\n",
        "%matplotlib inline\n",
        "import matplotlib.pyplot as plots\n",
        "plots.style.use('fivethirtyeight')\n",
        "from google.colab import files"
      ]
    },
    {
      "cell_type": "markdown",
      "source": [
        "## Conditional Statements"
      ],
      "metadata": {
        "id": "LQePVcXOQgAm"
      }
    },
    {
      "cell_type": "markdown",
      "source": [
        "**if statement**"
      ],
      "metadata": {
        "id": "h8inKl58TKeN"
      }
    },
    {
      "cell_type": "code",
      "source": [
        "#Toss a coin.\n"
      ],
      "metadata": {
        "id": "fmthIGDsPlAz"
      },
      "execution_count": null,
      "outputs": []
    },
    {
      "cell_type": "code",
      "source": [
        "#what is the value of coin\n"
      ],
      "metadata": {
        "id": "DXt2LQkvQv-_"
      },
      "execution_count": null,
      "outputs": []
    },
    {
      "cell_type": "code",
      "source": [
        "#If the coin lands on heads, Marike wins.\n"
      ],
      "metadata": {
        "id": "1XEl9j3tfxu1"
      },
      "execution_count": null,
      "outputs": []
    },
    {
      "cell_type": "markdown",
      "source": [
        "**if-else statement**"
      ],
      "metadata": {
        "id": "K3ZmuKFif1Dx"
      }
    },
    {
      "cell_type": "code",
      "source": [
        "#If the coin lands on heads, Marike wins. If the coin lands on tail, Sunday wins.\n"
      ],
      "metadata": {
        "id": "Y5lHimcHQySQ"
      },
      "execution_count": null,
      "outputs": []
    },
    {
      "cell_type": "code",
      "source": [
        "#let's put the toss and the conditional statement together\n"
      ],
      "metadata": {
        "id": "nuKOmGVyQ3ui"
      },
      "execution_count": null,
      "outputs": []
    },
    {
      "cell_type": "markdown",
      "source": [
        "Everytime we want to run the above code, we could just press run. This is tiring."
      ],
      "metadata": {
        "id": "RJatTGIXTEEB"
      }
    },
    {
      "cell_type": "markdown",
      "source": [
        "**if-elif-else statement**"
      ],
      "metadata": {
        "id": "goWrk_JiSSOM"
      }
    },
    {
      "cell_type": "code",
      "source": [
        "#generate a random number between 1 and 6 (inclusive). It's like rolling a dice.\n"
      ],
      "metadata": {
        "id": "-y7EhzkoRhOT"
      },
      "execution_count": null,
      "outputs": []
    },
    {
      "cell_type": "code",
      "source": [
        "#let's create a conditional statement where if the random number is less than or equal to 3, Marike wins. If the number is equal to 4 or 5, Kanshu wins.\n",
        "#If it is equal to 6, the Sunday wins.\n"
      ],
      "metadata": {
        "id": "VqqxR7poSCj9"
      },
      "execution_count": null,
      "outputs": []
    },
    {
      "cell_type": "code",
      "source": [
        "#Let's put it all together\n"
      ],
      "metadata": {
        "id": "UqXYXK5OSzgj"
      },
      "execution_count": null,
      "outputs": []
    },
    {
      "cell_type": "markdown",
      "source": [
        "**We could replace the last elif with else as a catch all condition, that must be run if no former conditions are fulfilled.**"
      ],
      "metadata": {
        "id": "iKZK28AITyya"
      }
    },
    {
      "cell_type": "code",
      "source": [
        "#Let's put it all together\n"
      ],
      "metadata": {
        "id": "vtzKR-d1T7Hy"
      },
      "execution_count": null,
      "outputs": []
    },
    {
      "cell_type": "markdown",
      "source": [
        "**Everytime I want to run the code above, I click on the run button again and again. This is tiring.**"
      ],
      "metadata": {
        "id": "TphHlwO2TQ1T"
      }
    },
    {
      "cell_type": "markdown",
      "source": [
        "**Nested if statements**"
      ],
      "metadata": {
        "id": "lGfMPY7QgORO"
      }
    },
    {
      "cell_type": "code",
      "source": [
        "#Roll a dice. If the number is less than 3, Marike wins.\n",
        "#If greater than 3, then a coin is tossed and if the coin is heads, then Kanshu wins, else Sunday wins."
      ],
      "metadata": {
        "id": "0mVz81fegQt4"
      },
      "execution_count": null,
      "outputs": []
    },
    {
      "cell_type": "markdown",
      "source": [
        "## Iterations"
      ],
      "metadata": {
        "id": "d13-GN0sURiR"
      }
    },
    {
      "cell_type": "markdown",
      "source": [
        "Iterations allows us to repeat code multiple times.\n",
        "\n"
      ],
      "metadata": {
        "id": "nPYSpWYoUUY3"
      }
    },
    {
      "cell_type": "code",
      "source": [
        "#Remember np.arange(1,7)\n"
      ],
      "metadata": {
        "id": "QW5Vr7MIU-h8"
      },
      "execution_count": null,
      "outputs": []
    },
    {
      "cell_type": "code",
      "source": [
        "#Let's write a for statement\n"
      ],
      "metadata": {
        "id": "ZAJvwR1AUgnz"
      },
      "execution_count": null,
      "outputs": []
    },
    {
      "cell_type": "code",
      "source": [
        "#what if we use np.arange(5,9)\n"
      ],
      "metadata": {
        "id": "LgMVFs43VJ5D"
      },
      "execution_count": null,
      "outputs": []
    },
    {
      "cell_type": "code",
      "source": [
        "#What if we put strings in the array\n"
      ],
      "metadata": {
        "id": "vrm2myE2VZ2O"
      },
      "execution_count": null,
      "outputs": []
    },
    {
      "cell_type": "code",
      "source": [
        "#Let's generate multiple throws of dice\n"
      ],
      "metadata": {
        "id": "X0k6jLXdWGWh"
      },
      "execution_count": null,
      "outputs": []
    },
    {
      "cell_type": "code",
      "source": [
        "#Now we want to use these numbers to determine whether Marike, Kanshu or Sunday won based on the conditions given earlier\n"
      ],
      "metadata": {
        "id": "EBmS9YtmWa2g"
      },
      "execution_count": null,
      "outputs": []
    },
    {
      "cell_type": "code",
      "source": [
        "#Let's create an array with the results\n"
      ],
      "metadata": {
        "id": "IE0Vy1C_W34v"
      },
      "execution_count": null,
      "outputs": []
    },
    {
      "cell_type": "code",
      "source": [
        "#Let's make this neater\n"
      ],
      "metadata": {
        "id": "wCoDBtGTXT9D"
      },
      "execution_count": null,
      "outputs": []
    },
    {
      "cell_type": "code",
      "source": [
        "#how many times did Kanshu win\n"
      ],
      "metadata": {
        "id": "MyOL7SfYWjij"
      },
      "execution_count": null,
      "outputs": []
    },
    {
      "cell_type": "code",
      "source": [
        "#how many times did Marike win\n",
        "#how many times did Kanshu win\n"
      ],
      "metadata": {
        "id": "f9PgRsoCX3G1"
      },
      "execution_count": null,
      "outputs": []
    },
    {
      "cell_type": "markdown",
      "source": [
        "**While loop basics**"
      ],
      "metadata": {
        "id": "rRN3XkCphAb3"
      }
    },
    {
      "cell_type": "code",
      "source": [
        "#i = 1. Run a loop such that while i is less than 5, print i"
      ],
      "metadata": {
        "id": "kwU9dPHZhGVw"
      },
      "execution_count": null,
      "outputs": []
    },
    {
      "cell_type": "markdown",
      "source": [
        "**break statement**\n"
      ],
      "metadata": {
        "id": "wyCrjqzohSZi"
      }
    },
    {
      "cell_type": "code",
      "source": [
        "#Let's see how we can exit a for loop"
      ],
      "metadata": {
        "id": "rXiRpnNThUDg"
      },
      "execution_count": null,
      "outputs": []
    },
    {
      "cell_type": "markdown",
      "source": [
        "## Exercise"
      ],
      "metadata": {
        "id": "wbcr2sxhYZXl"
      }
    },
    {
      "cell_type": "markdown",
      "source": [
        "Suppose you toss a coin and throw a dice. If the coin lands on heads and the dice is less than or equal to 3, Kanshu wins. If the coin lands on heads and dice is greater than 3, Sunday win. If the coin lands on tails and the dice is equal to 1, Sunday wins. If the coin lands on tails and the dice is greater than or equal to 2, Marike win.\n",
        "\n",
        "Run the above simulation 100 times and count the number of times that each person wins."
      ],
      "metadata": {
        "id": "xnJhF8jrYffR"
      }
    }
  ]
}