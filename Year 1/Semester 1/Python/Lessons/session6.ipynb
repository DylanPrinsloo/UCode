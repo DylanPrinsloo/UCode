{
  "cells": [
    {
      "cell_type": "markdown",
      "metadata": {
        "id": "4S5Hr58nHVDB"
      },
      "source": [
        "**Conditionals and Iterations**\n",
        "\n",
        "A conditional statement is one where an action is performed if a prespecified condition is satisfied and another or no action is performed if the condition is not satisfied.\n",
        "\n",
        "Conditional statements are an easy way to take different actions based on some condition being fulfilled or not.\n",
        "\n",
        "In Python, we use the *if* statement for the conditional statement.\n",
        "\n",
        "An iteration is a set of statement that is repeated multiple times.\n",
        "\n",
        "Iteration will repeat a set of code and perform some action multiple times.\n",
        "\n",
        "In Python, we use *for* statement for the iteration instruction.\n"
      ]
    },
    {
      "cell_type": "markdown",
      "metadata": {
        "id": "P8h2hZekOnOU"
      },
      "source": [
        "**Advantages:**\n",
        "\n",
        "* Simplifies coding.\n",
        "\n",
        "* Readability.\n",
        "\n",
        "* Efficiency in memory utilization."
      ]
    },
    {
      "cell_type": "code",
      "execution_count": 1,
      "metadata": {
        "id": "LPUxRvlxuU1x"
      },
      "outputs": [],
      "source": [
        "#These are libraries that you should import if needed for your notebook.\n",
        "#import libraries\n",
        "import pandas as pd\n",
        "import seaborn as sns\n",
        "import numpy as np\n",
        "%matplotlib inline\n",
        "import matplotlib.pyplot as plots\n",
        "plots.style.use('fivethirtyeight')\n",
        "#from google.colab import files"
      ]
    },
    {
      "cell_type": "markdown",
      "metadata": {
        "id": "LQePVcXOQgAm"
      },
      "source": [
        "## Conditional Statements"
      ]
    },
    {
      "cell_type": "markdown",
      "metadata": {
        "id": "h8inKl58TKeN"
      },
      "source": [
        "**if statement**"
      ]
    },
    {
      "cell_type": "code",
      "execution_count": 15,
      "metadata": {
        "id": "fmthIGDsPlAz"
      },
      "outputs": [],
      "source": [
        "#Toss a coin.\n",
        "coin = np.random.choice(['heads', 'tails'])"
      ]
    },
    {
      "cell_type": "code",
      "execution_count": 16,
      "metadata": {
        "id": "DXt2LQkvQv-_"
      },
      "outputs": [
        {
          "data": {
            "text/plain": [
              "np.str_('tails')"
            ]
          },
          "execution_count": 16,
          "metadata": {},
          "output_type": "execute_result"
        }
      ],
      "source": [
        "#what is the value of coin\n",
        "coin"
      ]
    },
    {
      "cell_type": "code",
      "execution_count": 17,
      "metadata": {
        "id": "1XEl9j3tfxu1"
      },
      "outputs": [],
      "source": [
        "#If the coin lands on heads, Marike wins.\n",
        "if coin == 'heads':\n",
        "    print(\"Marike wins\")"
      ]
    },
    {
      "cell_type": "markdown",
      "metadata": {
        "id": "K3ZmuKFif1Dx"
      },
      "source": [
        "**if-else statement**"
      ]
    },
    {
      "cell_type": "code",
      "execution_count": null,
      "metadata": {
        "id": "Y5lHimcHQySQ"
      },
      "outputs": [],
      "source": [
        "#If the coin lands on heads, Marike wins. If the coin lands on tail, Sunday wins.\n",
        "# coin = \"tails\"\n",
        "\n",
        "if coin == 'tails':\n",
        "    print(\"Sunday wins\")\n",
        "else:\n",
        "    print(\"Marike wins\")"
      ]
    },
    {
      "cell_type": "code",
      "execution_count": null,
      "metadata": {
        "id": "nuKOmGVyQ3ui"
      },
      "outputs": [],
      "source": [
        "#let's put the toss and the conditional statement together\n",
        "coin = np.random.choice(['heads', 'tails'])\n",
        "if coin == 'tails':\n",
        "    print(\"Sunday wins\")\n",
        "if coin == \"heads\":\n",
        "    print(\"Marike wins\")\n",
        "else:\n",
        "    print(\"Invalid input\")\n"
      ]
    },
    {
      "cell_type": "markdown",
      "metadata": {
        "id": "RJatTGIXTEEB"
      },
      "source": [
        "Everytime we want to run the above code, we could just press run. This is tiring."
      ]
    },
    {
      "cell_type": "markdown",
      "metadata": {
        "id": "goWrk_JiSSOM"
      },
      "source": [
        "**if-elif-else statement**"
      ]
    },
    {
      "cell_type": "code",
      "execution_count": 18,
      "metadata": {
        "id": "-y7EhzkoRhOT"
      },
      "outputs": [
        {
          "data": {
            "text/plain": [
              "2"
            ]
          },
          "execution_count": 18,
          "metadata": {},
          "output_type": "execute_result"
        }
      ],
      "source": [
        "#generate a random number between 1 and 6 (inclusive). It's like rolling a dice.\n",
        "dice_throw = np.random.randint(1, 7)\n",
        "dice_throw"
      ]
    },
    {
      "cell_type": "code",
      "execution_count": null,
      "metadata": {
        "id": "VqqxR7poSCj9"
      },
      "outputs": [],
      "source": [
        "#let's create a conditional statement where if the random number is less than or equal to 3, Marike wins. If the number is equal to 4 or 5, Kanshu wins.\n",
        "#If it is equal to 6, the Sunday wins.\n",
        "if dice_throw <= 3:\n",
        "    print(\"Marike wins\")\n",
        "elif dice_throw <= 5:\n",
        "    print(\"Kanshu wins\")\n",
        "else:\n",
        "    print(\"Sunday wins\")"
      ]
    },
    {
      "cell_type": "code",
      "execution_count": null,
      "metadata": {
        "id": "UqXYXK5OSzgj"
      },
      "outputs": [],
      "source": [
        "#Let's put it all together\n",
        "dice_throw = np.random.randint(1, 7)\n",
        "if dice_throw <= 3:\n",
        "    print(\"Marike wins\")\n",
        "elif dice_throw == 4 or dice_throw == 5:\n",
        "    print(\"Kanshu wins\")\n",
        "elif dice_throw == 6:\n",
        "    print(\"Sunday wins\")"
      ]
    },
    {
      "cell_type": "markdown",
      "metadata": {
        "id": "iKZK28AITyya"
      },
      "source": [
        "**We could replace the last elif with else as a catch all condition, that must be run if no former conditions are fulfilled.**"
      ]
    },
    {
      "cell_type": "code",
      "execution_count": null,
      "metadata": {
        "id": "vtzKR-d1T7Hy"
      },
      "outputs": [],
      "source": [
        "#Let's put it all together\n",
        "dice_throw = np.random.randint(1, 7)\n",
        "if dice_throw <= 3:\n",
        "    print(\"Marike wins\")\n",
        "elif dice_throw == 4 or dice_throw == 5:\n",
        "    print(\"Kanshu wins\")\n",
        "elif dice_throw == 6:\n",
        "    print(\"Sunday wins\")\n",
        "else:\n",
        "    print(\"Fufilled\")"
      ]
    },
    {
      "cell_type": "markdown",
      "metadata": {
        "id": "TphHlwO2TQ1T"
      },
      "source": [
        "**Everytime I want to run the code above, I click on the run button again and again. This is tiring.**"
      ]
    },
    {
      "cell_type": "markdown",
      "metadata": {
        "id": "lGfMPY7QgORO"
      },
      "source": [
        "**Nested if statements**"
      ]
    },
    {
      "cell_type": "code",
      "execution_count": null,
      "metadata": {
        "id": "0mVz81fegQt4"
      },
      "outputs": [],
      "source": [
        "#Roll a dice. If the number is less than 3, Marike wins.\n",
        "#If greater than 3, then a coin is tossed and if the coin is heads, then Kanshu wins, else Sunday wins.\n",
        "dice_throw = np.random.randint(1, 7)\n",
        "if dice_throw <= 3:\n",
        "    print(\"Marike wins\")\n",
        "else:\n",
        "    coin = np.random.choice(['heads', 'choice'])\n",
        "    if coin == 'heads':\n",
        "        print(\"Kanshu wins\")\n",
        "    else:\n",
        "        print(\"Sunday wins\")\n",
        " \n"
      ]
    },
    {
      "cell_type": "markdown",
      "metadata": {
        "id": "d13-GN0sURiR"
      },
      "source": [
        "## Iterations"
      ]
    },
    {
      "cell_type": "markdown",
      "metadata": {
        "id": "nPYSpWYoUUY3"
      },
      "source": [
        "Iterations allows us to repeat code multiple times.\n",
        "\n"
      ]
    },
    {
      "cell_type": "code",
      "execution_count": null,
      "metadata": {
        "id": "QW5Vr7MIU-h8"
      },
      "outputs": [],
      "source": [
        "#Remember np.arange(1,7)\n"
      ]
    },
    {
      "cell_type": "code",
      "execution_count": null,
      "metadata": {
        "id": "ZAJvwR1AUgnz"
      },
      "outputs": [],
      "source": [
        "#Let's write a for statement\n"
      ]
    },
    {
      "cell_type": "code",
      "execution_count": null,
      "metadata": {
        "id": "LgMVFs43VJ5D"
      },
      "outputs": [],
      "source": [
        "#what if we use np.arange(5,9)\n"
      ]
    },
    {
      "cell_type": "code",
      "execution_count": null,
      "metadata": {
        "id": "vrm2myE2VZ2O"
      },
      "outputs": [],
      "source": [
        "#What if we put strings in the array\n"
      ]
    },
    {
      "cell_type": "code",
      "execution_count": null,
      "metadata": {
        "id": "X0k6jLXdWGWh"
      },
      "outputs": [],
      "source": [
        "#Let's generate multiple throws of dice\n"
      ]
    },
    {
      "cell_type": "code",
      "execution_count": null,
      "metadata": {
        "id": "EBmS9YtmWa2g"
      },
      "outputs": [],
      "source": [
        "#Now we want to use these numbers to determine whether Marike, Kanshu or Sunday won based on the conditions given earlier\n"
      ]
    },
    {
      "cell_type": "code",
      "execution_count": null,
      "metadata": {
        "id": "IE0Vy1C_W34v"
      },
      "outputs": [],
      "source": [
        "#Let's create an array with the results\n"
      ]
    },
    {
      "cell_type": "code",
      "execution_count": null,
      "metadata": {
        "id": "wCoDBtGTXT9D"
      },
      "outputs": [],
      "source": [
        "#Let's make this neater\n"
      ]
    },
    {
      "cell_type": "code",
      "execution_count": null,
      "metadata": {
        "id": "MyOL7SfYWjij"
      },
      "outputs": [],
      "source": [
        "#how many times did Kanshu win\n"
      ]
    },
    {
      "cell_type": "code",
      "execution_count": null,
      "metadata": {
        "id": "f9PgRsoCX3G1"
      },
      "outputs": [],
      "source": [
        "#how many times did Marike win\n",
        "#how many times did Kanshu win\n"
      ]
    },
    {
      "cell_type": "markdown",
      "metadata": {
        "id": "rRN3XkCphAb3"
      },
      "source": [
        "**While loop basics**"
      ]
    },
    {
      "cell_type": "code",
      "execution_count": null,
      "metadata": {
        "id": "kwU9dPHZhGVw"
      },
      "outputs": [],
      "source": [
        "#i = 1. Run a loop such that while i is less than 5, print i"
      ]
    },
    {
      "cell_type": "markdown",
      "metadata": {
        "id": "wyCrjqzohSZi"
      },
      "source": [
        "**break statement**\n"
      ]
    },
    {
      "cell_type": "code",
      "execution_count": null,
      "metadata": {
        "id": "rXiRpnNThUDg"
      },
      "outputs": [],
      "source": [
        "#Let's see how we can exit a for loop"
      ]
    },
    {
      "cell_type": "markdown",
      "metadata": {
        "id": "wbcr2sxhYZXl"
      },
      "source": [
        "## Exercise"
      ]
    },
    {
      "cell_type": "markdown",
      "metadata": {
        "id": "xnJhF8jrYffR"
      },
      "source": [
        "Suppose you toss a coin and throw a dice. If the coin lands on heads and the dice is less than or equal to 3, Kanshu wins. If the coin lands on heads and dice is greater than 3, Sunday win. If the coin lands on tails and the dice is equal to 1, Sunday wins. If the coin lands on tails and the dice is greater than or equal to 2, Marike win.\n",
        "\n",
        "Run the above simulation 100 times and count the number of times that each person wins."
      ]
    },
    {
      "cell_type": "code",
      "execution_count": null,
      "metadata": {},
      "outputs": [],
      "source": []
    }
  ],
  "metadata": {
    "colab": {
      "provenance": [],
      "toc_visible": true
    },
    "kernelspec": {
      "display_name": "Python 3",
      "name": "python3"
    },
    "language_info": {
      "codemirror_mode": {
        "name": "ipython",
        "version": 3
      },
      "file_extension": ".py",
      "mimetype": "text/x-python",
      "name": "python",
      "nbconvert_exporter": "python",
      "pygments_lexer": "ipython3",
      "version": "3.12.4"
    }
  },
  "nbformat": 4,
  "nbformat_minor": 0
}
