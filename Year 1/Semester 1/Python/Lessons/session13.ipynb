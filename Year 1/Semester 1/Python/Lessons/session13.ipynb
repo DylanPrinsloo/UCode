{
  "cells": [
    {
      "cell_type": "markdown",
      "metadata": {
        "id": "0KeM4p8WwcBk"
      },
      "source": [
        "# RANDOMIZED CONTROLLED EXPERIMENTS  _  CAUSALITY"
      ]
    },
    {
      "cell_type": "code",
      "execution_count": 1,
      "metadata": {
        "id": "rDG62bmzfDPb"
      },
      "outputs": [],
      "source": [
        "#These are libraries that you should import if needed for your notebook.\n",
        "#import libraries\n",
        "import pandas as pd\n",
        "import seaborn as sns\n",
        "import numpy as np\n",
        "%matplotlib inline\n",
        "import matplotlib.pyplot as plots\n",
        "plots.style.use('fivethirtyeight')\n",
        "#from google.colab import files"
      ]
    },
    {
      "cell_type": "code",
      "execution_count": 5,
      "metadata": {
        "colab": {
          "base_uri": "https://localhost:8080/",
          "height": 73
        },
        "id": "X2cbEjMcfexn",
        "outputId": "be424d5c-6ef9-4aad-845e-eca68b412ef8"
      },
      "outputs": [],
      "source": [
        "#upload the file baby.csv\n",
        "#https://www.openintro.org/data/  - Nice site to get safe secure data"
      ]
    },
    {
      "cell_type": "code",
      "execution_count": 4,
      "metadata": {
        "id": "DvOoKBwJgHu-"
      },
      "outputs": [],
      "source": [
        "#Read the file mammogram.csv\n",
        "mammogram = pd.read_csv(\"C:/University/University Files/University-Code/Year 1/Semester 1/Python/Lessons/Data/csv/mammogram.csv\")"
      ]
    },
    {
      "cell_type": "code",
      "execution_count": 6,
      "metadata": {
        "id": "VbgEMvMngd3H"
      },
      "outputs": [
        {
          "data": {
            "text/html": [
              "<div>\n",
              "<style scoped>\n",
              "    .dataframe tbody tr th:only-of-type {\n",
              "        vertical-align: middle;\n",
              "    }\n",
              "\n",
              "    .dataframe tbody tr th {\n",
              "        vertical-align: top;\n",
              "    }\n",
              "\n",
              "    .dataframe thead th {\n",
              "        text-align: right;\n",
              "    }\n",
              "</style>\n",
              "<table border=\"1\" class=\"dataframe\">\n",
              "  <thead>\n",
              "    <tr style=\"text-align: right;\">\n",
              "      <th></th>\n",
              "      <th>treatment</th>\n",
              "      <th>breast_cancer_death</th>\n",
              "    </tr>\n",
              "  </thead>\n",
              "  <tbody>\n",
              "    <tr>\n",
              "      <th>0</th>\n",
              "      <td>mammogram</td>\n",
              "      <td>yes</td>\n",
              "    </tr>\n",
              "    <tr>\n",
              "      <th>1</th>\n",
              "      <td>mammogram</td>\n",
              "      <td>yes</td>\n",
              "    </tr>\n",
              "    <tr>\n",
              "      <th>2</th>\n",
              "      <td>mammogram</td>\n",
              "      <td>yes</td>\n",
              "    </tr>\n",
              "    <tr>\n",
              "      <th>3</th>\n",
              "      <td>mammogram</td>\n",
              "      <td>yes</td>\n",
              "    </tr>\n",
              "    <tr>\n",
              "      <th>4</th>\n",
              "      <td>mammogram</td>\n",
              "      <td>yes</td>\n",
              "    </tr>\n",
              "    <tr>\n",
              "      <th>...</th>\n",
              "      <td>...</td>\n",
              "      <td>...</td>\n",
              "    </tr>\n",
              "    <tr>\n",
              "      <th>89830</th>\n",
              "      <td>control</td>\n",
              "      <td>no</td>\n",
              "    </tr>\n",
              "    <tr>\n",
              "      <th>89831</th>\n",
              "      <td>control</td>\n",
              "      <td>no</td>\n",
              "    </tr>\n",
              "    <tr>\n",
              "      <th>89832</th>\n",
              "      <td>control</td>\n",
              "      <td>no</td>\n",
              "    </tr>\n",
              "    <tr>\n",
              "      <th>89833</th>\n",
              "      <td>control</td>\n",
              "      <td>no</td>\n",
              "    </tr>\n",
              "    <tr>\n",
              "      <th>89834</th>\n",
              "      <td>control</td>\n",
              "      <td>no</td>\n",
              "    </tr>\n",
              "  </tbody>\n",
              "</table>\n",
              "<p>89835 rows × 2 columns</p>\n",
              "</div>"
            ],
            "text/plain": [
              "       treatment breast_cancer_death\n",
              "0      mammogram                 yes\n",
              "1      mammogram                 yes\n",
              "2      mammogram                 yes\n",
              "3      mammogram                 yes\n",
              "4      mammogram                 yes\n",
              "...          ...                 ...\n",
              "89830    control                  no\n",
              "89831    control                  no\n",
              "89832    control                  no\n",
              "89833    control                  no\n",
              "89834    control                  no\n",
              "\n",
              "[89835 rows x 2 columns]"
            ]
          },
          "execution_count": 6,
          "metadata": {},
          "output_type": "execute_result"
        }
      ],
      "source": [
        "# Lets view the mammogram dataset\n",
        "mammogram"
      ]
    },
    {
      "cell_type": "code",
      "execution_count": 9,
      "metadata": {
        "id": "h6F8XGjhhNS7"
      },
      "outputs": [
        {
          "data": {
            "text/plain": [
              "treatment\n",
              "control      44910\n",
              "mammogram    44925\n",
              "dtype: int64"
            ]
          },
          "execution_count": 9,
          "metadata": {},
          "output_type": "execute_result"
        }
      ],
      "source": [
        "#Determine the listings in the dataset\n",
        "mammogram.groupby('treatment').size()"
      ]
    },
    {
      "cell_type": "code",
      "execution_count": 10,
      "metadata": {
        "id": "v1EASD0Ih1bB"
      },
      "outputs": [
        {
          "data": {
            "text/plain": [
              "breast_cancer_death\n",
              "no     88830\n",
              "yes     1005\n",
              "dtype: int64"
            ]
          },
          "execution_count": 10,
          "metadata": {},
          "output_type": "execute_result"
        }
      ],
      "source": [
        "#mammogram.groupby('breast_cancer_death').size()\n",
        "mammogram.groupby('breast_cancer_death').size()"
      ]
    },
    {
      "cell_type": "code",
      "execution_count": 4,
      "metadata": {
        "id": "GuSDtcWImKpV"
      },
      "outputs": [],
      "source": [
        "# convert the 'breast_cancer_death' column to an array\n"
      ]
    },
    {
      "cell_type": "code",
      "execution_count": 5,
      "metadata": {
        "id": "Rfhq9F7Ip9N7"
      },
      "outputs": [],
      "source": [
        "# Let create a new column based on the previous cell\n",
        "\n"
      ]
    },
    {
      "cell_type": "code",
      "execution_count": null,
      "metadata": {
        "id": "6m6RzygXy6ym"
      },
      "outputs": [],
      "source": [
        "# Since  I really dont need the second column anymore, i guess it is cool to drop the column i.e 'breast_cancer_death'\n"
      ]
    },
    {
      "cell_type": "code",
      "execution_count": 6,
      "metadata": {
        "id": "Js8odTK70umM"
      },
      "outputs": [],
      "source": [
        "#mammogram"
      ]
    },
    {
      "cell_type": "code",
      "execution_count": 7,
      "metadata": {
        "id": "ridC5hSD0wO_"
      },
      "outputs": [],
      "source": [
        "# mammogram.groupby('indicator').size()\n",
        "\n"
      ]
    },
    {
      "cell_type": "code",
      "execution_count": 7,
      "metadata": {
        "id": "ozSho1d2Tgb2"
      },
      "outputs": [],
      "source": []
    },
    {
      "cell_type": "code",
      "execution_count": 8,
      "metadata": {
        "id": "gh4Aexa6BCcd"
      },
      "outputs": [],
      "source": [
        "#Determine the mean of the death in treatment vs the control group\n"
      ]
    },
    {
      "cell_type": "code",
      "execution_count": null,
      "metadata": {
        "id": "jxclxQM9Clng"
      },
      "outputs": [],
      "source": []
    },
    {
      "cell_type": "code",
      "execution_count": 9,
      "metadata": {
        "id": "CGNrl740Dq8i"
      },
      "outputs": [],
      "source": [
        "# So let us determine if this is significant, we could determine the difference between the two means\n",
        "\n",
        "#What is the difference between the death rate for mammogram and control\n",
        "\n"
      ]
    },
    {
      "cell_type": "code",
      "execution_count": null,
      "metadata": {
        "id": "vLNLvGdMFjkR"
      },
      "outputs": [],
      "source": [
        "#Create a function to input a table, a label and group label. which would then determine the label difference grouped by the values in group label\n"
      ]
    },
    {
      "cell_type": "code",
      "execution_count": 10,
      "metadata": {
        "id": "8I-rGCrRFoRD"
      },
      "outputs": [],
      "source": [
        "#Let's test this function\n"
      ]
    },
    {
      "cell_type": "code",
      "execution_count": 11,
      "metadata": {
        "id": "Urt_CiKbGiie"
      },
      "outputs": [],
      "source": [
        "#Create an array with treatment column being shuffled\n"
      ]
    },
    {
      "cell_type": "code",
      "execution_count": 12,
      "metadata": {
        "id": "z28nMi_MHMSg"
      },
      "outputs": [],
      "source": [
        "#Create a new table original_and_shuffled and add the shuffled labels as a column\n"
      ]
    },
    {
      "cell_type": "code",
      "execution_count": 13,
      "metadata": {
        "id": "O9VKqHqIH4E6"
      },
      "outputs": [],
      "source": [
        "#determine the difference mean in indicator for shuffled label\n"
      ]
    },
    {
      "cell_type": "code",
      "execution_count": 14,
      "metadata": {
        "id": "Ar9qB18aIW1d"
      },
      "outputs": [],
      "source": [
        "#determine the difference mean in indicator for treatment\n"
      ]
    },
    {
      "cell_type": "code",
      "execution_count": 15,
      "metadata": {
        "id": "APyFvPxII2hQ"
      },
      "outputs": [],
      "source": [
        "#Let's put this all into a function\n"
      ]
    },
    {
      "cell_type": "code",
      "execution_count": 16,
      "metadata": {
        "id": "N3THYJj3I8YQ"
      },
      "outputs": [],
      "source": [
        "#Test this function\n"
      ]
    },
    {
      "cell_type": "code",
      "execution_count": 17,
      "metadata": {
        "id": "ECyjNyU0JR6S"
      },
      "outputs": [],
      "source": [
        "#Let's run this multiple times\n"
      ]
    },
    {
      "cell_type": "code",
      "execution_count": 18,
      "metadata": {
        "id": "teE1jP3teTrO"
      },
      "outputs": [],
      "source": [
        "# Diffrences\n"
      ]
    },
    {
      "cell_type": "code",
      "execution_count": 20,
      "metadata": {
        "id": "ekBaE3TiLqwS"
      },
      "outputs": [],
      "source": [
        "#Let's plot the distribution from the results above\n",
        "\n",
        "\n"
      ]
    },
    {
      "cell_type": "markdown",
      "metadata": {
        "id": "aADTbb7qx6zY"
      },
      "source": [
        "#P-value"
      ]
    },
    {
      "cell_type": "code",
      "execution_count": 20,
      "metadata": {
        "id": "zHTFLdznb1mV"
      },
      "outputs": [],
      "source": []
    },
    {
      "cell_type": "code",
      "execution_count": null,
      "metadata": {
        "id": "bh5puY1Ef8rc"
      },
      "outputs": [],
      "source": []
    }
  ],
  "metadata": {
    "colab": {
      "provenance": []
    },
    "kernelspec": {
      "display_name": "Python 3",
      "name": "python3"
    },
    "language_info": {
      "codemirror_mode": {
        "name": "ipython",
        "version": 3
      },
      "file_extension": ".py",
      "mimetype": "text/x-python",
      "name": "python",
      "nbconvert_exporter": "python",
      "pygments_lexer": "ipython3",
      "version": "3.12.4"
    }
  },
  "nbformat": 4,
  "nbformat_minor": 0
}
