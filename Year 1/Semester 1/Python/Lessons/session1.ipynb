{
  "cells": [
    {
      "cell_type": "code",
      "execution_count": 1,
      "metadata": {
        "id": "eRYsqu8wndGg"
      },
      "outputs": [],
      "source": [
        "#These are libraries that you should import if needed for your notebook.\n",
        "#import libraries\n",
        "#from datascience import *\n",
        "import pandas as pd\n",
        "import seaborn as sns\n",
        "import numpy as np\n",
        "%matplotlib inline\n",
        "import matplotlib.pyplot as plots\n",
        "plots.style.use('fivethirtyeight')"
      ]
    },
    {
      "cell_type": "markdown",
      "metadata": {
        "id": "Y3wIh8uynglk"
      },
      "source": [
        "# Basics\n",
        "\n",
        "Built-in Data Types\n",
        "In programming, data type is an important concept.\n",
        "\n",
        "Variables can store data of different types, and different types can do different things.\n",
        "\n",
        "Python has the following data types built-in by default, in these categories:\n",
        "\n",
        "\n",
        "*  Text or string Type:\t  str\n",
        "   *  Much of the world’s data is text, and a piece of text represented in a computer is called a string. A string can represent a word, a sentence, or even the contents of every book in a library.\n",
        "*  Numeric Types:\tint, float, complex\n",
        "   *  Integers are called int values in the Python language. They can only represent whole numbers (negative, zero, or positive) that don’t have a fractional component\n",
        "   * Real numbers are called float values (or floating point values) in the Python language. They can represent whole or fractional numbers but have some limitations.\n",
        "*  Sequence Types:\tlist, tuple, range\n",
        "   * Values can be grouped together into collections, which allows programmers to organize those values and refer to all of them with a single name. By grouping values together, we can write code that performs a computation on many pieces of data at once.\n",
        "*  Mapping Type:\tdict\n",
        "*  Set Types:\t  set, frozenset\n",
        "*  Boolean Type:\t  bool"
      ]
    },
    {
      "cell_type": "code",
      "execution_count": 2,
      "metadata": {
        "colab": {
          "base_uri": "https://localhost:8080/"
        },
        "id": "W8EL8iR5nsRj",
        "outputId": "79208930-ab3d-4ef9-ff3b-646f81986a50"
      },
      "outputs": [
        {
          "data": {
            "text/plain": [
              "5"
            ]
          },
          "execution_count": 2,
          "metadata": {},
          "output_type": "execute_result"
        }
      ],
      "source": [
        "5"
      ]
    },
    {
      "cell_type": "code",
      "execution_count": 3,
      "metadata": {
        "colab": {
          "base_uri": "https://localhost:8080/",
          "height": 36
        },
        "id": "Y2kZDoBUvpIK",
        "outputId": "b8c51c39-604a-4882-9f40-339da5e9f855"
      },
      "outputs": [
        {
          "data": {
            "application/vnd.google.colaboratory.intrinsic+json": {
              "type": "string"
            },
            "text/plain": [
              "'Dayo'"
            ]
          },
          "execution_count": 3,
          "metadata": {},
          "output_type": "execute_result"
        }
      ],
      "source": [
        "\"Dayo\""
      ]
    },
    {
      "cell_type": "markdown",
      "metadata": {
        "id": "O7bAREPLn0o7"
      },
      "source": [
        "## Operations\n",
        "\n",
        "Python operators are special symbols (sometimes called keywords) that are used to perform certain most commonly required operations on one or more operands (value, variables, or expressions).\n",
        "\n",
        "Python language supports the following types of operators:\n",
        "\n",
        "* Arithmetic Operators\n",
        "\n",
        "* Comparison (Relational) Operators\n",
        "\n",
        "* Assignment Operators\n",
        "\n",
        "* Logical Operators\n",
        "\n",
        "* Bitwise Operators\n",
        "\n",
        "* Membership Operators\n",
        "\n",
        "* Identity Operators"
      ]
    },
    {
      "cell_type": "code",
      "execution_count": 5,
      "metadata": {
        "colab": {
          "base_uri": "https://localhost:8080/",
          "height": 36
        },
        "id": "zSRaHiHin2wb",
        "outputId": "54f19092-e364-4b92-93d9-13346275c2db"
      },
      "outputs": [
        {
          "data": {
            "application/vnd.google.colaboratory.intrinsic+json": {
              "type": "string"
            },
            "text/plain": [
              "'Hello World'"
            ]
          },
          "execution_count": 5,
          "metadata": {},
          "output_type": "execute_result"
        }
      ],
      "source": [
        "#Print Hello World\n",
        "\"Hello World\""
      ]
    },
    {
      "cell_type": "code",
      "execution_count": 6,
      "metadata": {
        "colab": {
          "base_uri": "https://localhost:8080/"
        },
        "id": "P7IDQ2GRn_tT",
        "outputId": "4d60f62d-28da-48ef-a5e1-de660add9fdf"
      },
      "outputs": [
        {
          "data": {
            "text/plain": [
              "5"
            ]
          },
          "execution_count": 6,
          "metadata": {},
          "output_type": "execute_result"
        }
      ],
      "source": [
        "#Print a number\n",
        "5"
      ]
    },
    {
      "cell_type": "code",
      "execution_count": 7,
      "metadata": {
        "colab": {
          "base_uri": "https://localhost:8080/"
        },
        "id": "XZmHvtzGoBY0",
        "outputId": "ff402a5e-2a89-46a5-d467-0e2a0167d361"
      },
      "outputs": [
        {
          "data": {
            "text/plain": [
              "12"
            ]
          },
          "execution_count": 7,
          "metadata": {},
          "output_type": "execute_result"
        }
      ],
      "source": [
        "#Add two numbers\n",
        "5+7\n"
      ]
    },
    {
      "cell_type": "code",
      "execution_count": 8,
      "metadata": {
        "colab": {
          "base_uri": "https://localhost:8080/"
        },
        "id": "DcZx48THo_MN",
        "outputId": "5cb2decb-4172-4779-9194-17fbab50768b"
      },
      "outputs": [
        {
          "data": {
            "text/plain": [
              "-2"
            ]
          },
          "execution_count": 8,
          "metadata": {},
          "output_type": "execute_result"
        }
      ],
      "source": [
        "#Subtract one number from another\n",
        "5 -7"
      ]
    },
    {
      "cell_type": "code",
      "execution_count": 9,
      "metadata": {
        "colab": {
          "base_uri": "https://localhost:8080/"
        },
        "id": "7coeKvqVpHLT",
        "outputId": "26e10373-7870-4497-8ff4-ecc12090a5ac"
      },
      "outputs": [
        {
          "data": {
            "text/plain": [
              "35"
            ]
          },
          "execution_count": 9,
          "metadata": {},
          "output_type": "execute_result"
        }
      ],
      "source": [
        "#Multiply two numbers\n",
        "5*7"
      ]
    },
    {
      "cell_type": "code",
      "execution_count": 10,
      "metadata": {
        "colab": {
          "base_uri": "https://localhost:8080/"
        },
        "id": "3ihwd5L9pLAM",
        "outputId": "b382bbc2-c624-406d-8239-157539e72167"
      },
      "outputs": [
        {
          "data": {
            "text/plain": [
              "50"
            ]
          },
          "execution_count": 10,
          "metadata": {},
          "output_type": "execute_result"
        }
      ],
      "source": [
        "#Multiply two numbers\n",
        "5*10"
      ]
    },
    {
      "cell_type": "code",
      "execution_count": 11,
      "metadata": {
        "colab": {
          "base_uri": "https://localhost:8080/"
        },
        "id": "wVyY2wHypPb8",
        "outputId": "ea1519cb-db73-4706-8dcc-6081e3e5c034"
      },
      "outputs": [
        {
          "data": {
            "text/plain": [
              "0.5"
            ]
          },
          "execution_count": 11,
          "metadata": {},
          "output_type": "execute_result"
        }
      ],
      "source": [
        "#Divide one number by another\n",
        "5/10"
      ]
    },
    {
      "cell_type": "code",
      "execution_count": 12,
      "metadata": {
        "colab": {
          "base_uri": "https://localhost:8080/"
        },
        "id": "x4SNm3JqpV0s",
        "outputId": "f75cc335-96e9-496e-e18f-30028d261f1a"
      },
      "outputs": [
        {
          "data": {
            "text/plain": [
              "8"
            ]
          },
          "execution_count": 12,
          "metadata": {},
          "output_type": "execute_result"
        }
      ],
      "source": [
        "#Calculate 2 to the power of 3\n",
        "2**3\n",
        "pow(2, 3)"
      ]
    },
    {
      "cell_type": "markdown",
      "metadata": {
        "id": "T_92SRSLpejr"
      },
      "source": [
        "## Variables\n",
        "\n",
        "Variables are containers for storing data values. Unlike other languages, such as Java, Python has no command for declaring a variable, so you create one the moment you first assign a value to it.\n",
        "\n",
        "* A variable name must start with a letter or the underscore character\n",
        "* A variable name cannot start with a number\n",
        "* A variable name can only contain alpha-numeric characters and underscores (A-z, 0-9, and _ )\n",
        "* Variable names are case-sensitive (age, Age and AGE are three different variables)\n",
        "* A variable name cannot be any of the Python keywords."
      ]
    },
    {
      "cell_type": "code",
      "execution_count": 13,
      "metadata": {
        "id": "5ZC4JPSYpgZc"
      },
      "outputs": [],
      "source": [
        "#Store the value of 5 in variable a.\n",
        "a = 5"
      ]
    },
    {
      "cell_type": "code",
      "execution_count": 14,
      "metadata": {
        "colab": {
          "base_uri": "https://localhost:8080/"
        },
        "id": "B4CXO0UupmYM",
        "outputId": "d1f2a877-0ab1-418e-b8e3-c55af83db22f"
      },
      "outputs": [
        {
          "data": {
            "text/plain": [
              "5"
            ]
          },
          "execution_count": 14,
          "metadata": {},
          "output_type": "execute_result"
        }
      ],
      "source": [
        "#What is the value of  variable a\n",
        "a"
      ]
    },
    {
      "cell_type": "code",
      "execution_count": 15,
      "metadata": {
        "colab": {
          "base_uri": "https://localhost:8080/"
        },
        "id": "G_TiDVl7pqML",
        "outputId": "ad16d032-b6ff-4a0d-ce1f-2318b3892438"
      },
      "outputs": [
        {
          "data": {
            "text/plain": [
              "35"
            ]
          },
          "execution_count": 15,
          "metadata": {},
          "output_type": "execute_result"
        }
      ],
      "source": [
        "#Multiply variable a by another number\n",
        "a * 7"
      ]
    },
    {
      "cell_type": "code",
      "execution_count": 16,
      "metadata": {
        "colab": {
          "base_uri": "https://localhost:8080/"
        },
        "id": "gnp3mAhNptIT",
        "outputId": "cd391eef-23dd-41ad-f41c-0c096a7fcea2"
      },
      "outputs": [
        {
          "data": {
            "text/plain": [
              "12"
            ]
          },
          "execution_count": 16,
          "metadata": {},
          "output_type": "execute_result"
        }
      ],
      "source": [
        "#Add a number to  variable a\n",
        "a +7"
      ]
    },
    {
      "cell_type": "code",
      "execution_count": 17,
      "metadata": {
        "id": "k1Ktfy5zpxGD"
      },
      "outputs": [],
      "source": [
        "#Change the value of variable a\n",
        "a = 10"
      ]
    },
    {
      "cell_type": "code",
      "execution_count": 18,
      "metadata": {
        "colab": {
          "base_uri": "https://localhost:8080/"
        },
        "id": "GjyRhdmZp0CL",
        "outputId": "0ec78761-e1ac-4e36-e71d-0123ea3495a9"
      },
      "outputs": [
        {
          "data": {
            "text/plain": [
              "40"
            ]
          },
          "execution_count": 18,
          "metadata": {},
          "output_type": "execute_result"
        }
      ],
      "source": [
        "#Multiply variable a by a number\n",
        "a * 4"
      ]
    },
    {
      "cell_type": "code",
      "execution_count": 19,
      "metadata": {
        "colab": {
          "base_uri": "https://localhost:8080/",
          "height": 106
        },
        "id": "9H-7CW1ip3h0",
        "outputId": "bd4a460d-d6a1-4ba1-d6a1-6ec006ea9dcf"
      },
      "outputs": [
        {
          "ename": "IndentationError",
          "evalue": "unexpected indent (<ipython-input-19-a81afbe951ed>, line 2)",
          "output_type": "error",
          "traceback": [
            "\u001b[0;36m  File \u001b[0;32m\"<ipython-input-19-a81afbe951ed>\"\u001b[0;36m, line \u001b[0;32m2\u001b[0m\n\u001b[0;31m    a + b\u001b[0m\n\u001b[0m    ^\u001b[0m\n\u001b[0;31mIndentationError\u001b[0m\u001b[0;31m:\u001b[0m unexpected indent\n"
          ]
        }
      ],
      "source": [
        "#Add variables a and b.\n",
        " a + b"
      ]
    },
    {
      "cell_type": "code",
      "execution_count": null,
      "metadata": {
        "id": "5f7gQL5lzHfj"
      },
      "outputs": [],
      "source": []
    },
    {
      "cell_type": "code",
      "execution_count": 25,
      "metadata": {
        "id": "slZb7lGIp7IE"
      },
      "outputs": [],
      "source": [
        "#Store the value of 15 in variable b\n",
        "b = 15"
      ]
    },
    {
      "cell_type": "code",
      "execution_count": 21,
      "metadata": {
        "id": "qddnYnrqqAC8"
      },
      "outputs": [],
      "source": [
        "#Create a new variable (total) and equate that to the value of a and b\n",
        "Total = a + b"
      ]
    },
    {
      "cell_type": "code",
      "execution_count": 22,
      "metadata": {
        "colab": {
          "base_uri": "https://localhost:8080/"
        },
        "id": "sHtZkU_2qEPE",
        "outputId": "1f08b55f-65d1-4aef-b707-8dd9e74f412c"
      },
      "outputs": [
        {
          "data": {
            "text/plain": [
              "25"
            ]
          },
          "execution_count": 22,
          "metadata": {},
          "output_type": "execute_result"
        }
      ],
      "source": [
        "#What is the value of total\n",
        "Total"
      ]
    },
    {
      "cell_type": "code",
      "execution_count": 26,
      "metadata": {
        "id": "0LXK2ANnqHjs"
      },
      "outputs": [],
      "source": [
        "#Create a variable (new) and equate that to a string 'Stellenbosch'\n",
        "new = 'Stellenbosch'"
      ]
    },
    {
      "cell_type": "code",
      "execution_count": 27,
      "metadata": {
        "colab": {
          "base_uri": "https://localhost:8080/",
          "height": 158
        },
        "id": "h5yVwN4SqQfF",
        "outputId": "3d7d49a9-307e-4a7c-88b5-6a2115fde7d8"
      },
      "outputs": [
        {
          "ename": "TypeError",
          "evalue": "unsupported operand type(s) for +: 'int' and 'str'",
          "output_type": "error",
          "traceback": [
            "\u001b[0;31m---------------------------------------------------------------------------\u001b[0m",
            "\u001b[0;31mTypeError\u001b[0m                                 Traceback (most recent call last)",
            "\u001b[0;32m<ipython-input-27-8e8bf89492cc>\u001b[0m in \u001b[0;36m<cell line: 2>\u001b[0;34m()\u001b[0m\n\u001b[1;32m      1\u001b[0m \u001b[0;31m#Add 5 to variable new\u001b[0m\u001b[0;34m\u001b[0m\u001b[0;34m\u001b[0m\u001b[0m\n\u001b[0;32m----> 2\u001b[0;31m \u001b[0;36m5\u001b[0m \u001b[0;34m+\u001b[0m \u001b[0mnew\u001b[0m\u001b[0;34m\u001b[0m\u001b[0;34m\u001b[0m\u001b[0m\n\u001b[0m",
            "\u001b[0;31mTypeError\u001b[0m: unsupported operand type(s) for +: 'int' and 'str'"
          ]
        }
      ],
      "source": [
        "#Add 5 to variable new\n",
        "5 + new"
      ]
    },
    {
      "cell_type": "code",
      "execution_count": 28,
      "metadata": {
        "colab": {
          "base_uri": "https://localhost:8080/",
          "height": 36
        },
        "id": "hvDhfd7tqVpb",
        "outputId": "f85fbc5c-7af3-42e7-96a7-a3dd6e7315e1"
      },
      "outputs": [
        {
          "data": {
            "application/vnd.google.colaboratory.intrinsic+json": {
              "type": "string"
            },
            "text/plain": [
              "'StellenboschStellenboschStellenboschStellenboschStellenbosch'"
            ]
          },
          "execution_count": 28,
          "metadata": {},
          "output_type": "execute_result"
        }
      ],
      "source": [
        "#Multiply the variable new by a number\n",
        "new * 5\n"
      ]
    },
    {
      "cell_type": "markdown",
      "metadata": {
        "id": "uMDaL6b7qiCU"
      },
      "source": [
        "**Class Exercise 1:**"
      ]
    },
    {
      "cell_type": "code",
      "execution_count": 30,
      "metadata": {
        "id": "ieynKEqNqi49"
      },
      "outputs": [],
      "source": [
        "# three new variables hourly_minimum_wage, hours_per_week, and weeks_per_year and equate them to\n",
        "#15, 40 and 52 respectively\n",
        "hourly_minimum_wage = 15\n",
        "hours_per_week = 40\n",
        "weeks_per_year = 52"
      ]
    },
    {
      "cell_type": "code",
      "execution_count": 31,
      "metadata": {
        "colab": {
          "base_uri": "https://localhost:8080/"
        },
        "id": "FJM1GgXVrvVj",
        "outputId": "3f678a40-db73-494c-a1ff-e7cb1a476777"
      },
      "outputs": [
        {
          "data": {
            "text/plain": [
              "15"
            ]
          },
          "execution_count": 31,
          "metadata": {},
          "output_type": "execute_result"
        }
      ],
      "source": [
        "hourly_minimum_wage\n"
      ]
    },
    {
      "cell_type": "code",
      "execution_count": 33,
      "metadata": {
        "colab": {
          "base_uri": "https://localhost:8080/"
        },
        "id": "GI6mc44UsWmZ",
        "outputId": "89bc993a-987c-40ec-c856-e6108cc69acb"
      },
      "outputs": [
        {
          "data": {
            "text/plain": [
              "2080"
            ]
          },
          "execution_count": 33,
          "metadata": {},
          "output_type": "execute_result"
        }
      ],
      "source": [
        "#Determine the number of working hours in a year, store it in a variable, and output that\n",
        "hours_per_year =hours_per_week * weeks_per_year\n",
        "hours_per_year"
      ]
    },
    {
      "cell_type": "code",
      "execution_count": 34,
      "metadata": {
        "colab": {
          "base_uri": "https://localhost:8080/"
        },
        "id": "YUXgp7WCsepr",
        "outputId": "36ed2c73-797f-4dd8-b088-3c393d07e8fc"
      },
      "outputs": [
        {
          "data": {
            "text/plain": [
              "31200"
            ]
          },
          "execution_count": 34,
          "metadata": {},
          "output_type": "execute_result"
        }
      ],
      "source": [
        "#Determine the minimum earning per year\n",
        "hours_per_year * hourly_minimum_wage"
      ]
    },
    {
      "cell_type": "code",
      "execution_count": 36,
      "metadata": {
        "colab": {
          "base_uri": "https://localhost:8080/"
        },
        "id": "ujWLFo-Jsf1E",
        "outputId": "db116f2e-7ed4-4cfb-b059-0472ddfa0a89"
      },
      "outputs": [
        {
          "data": {
            "text/plain": [
              "31200"
            ]
          },
          "execution_count": 36,
          "metadata": {},
          "output_type": "execute_result"
        }
      ],
      "source": [
        "#Determine the minimum earning per year using the original variables that were defined\n",
        "hourly_minimum_wage * weeks_per_year * hours_per_week\n"
      ]
    },
    {
      "cell_type": "markdown",
      "metadata": {
        "id": "pXPkmVSwspIL"
      },
      "source": [
        "## Arrays\n",
        "\n",
        "Arrays represent multiple data elements of the same type using a single name. An array is a special variable, which can hold more than one value at a time."
      ]
    },
    {
      "cell_type": "code",
      "execution_count": 37,
      "metadata": {
        "colab": {
          "base_uri": "https://localhost:8080/"
        },
        "id": "5AtRaAvyst0z",
        "outputId": "a1e1216e-06bd-45b4-ab5c-d9ce83e4fbc3"
      },
      "outputs": [
        {
          "data": {
            "text/plain": [
              "array([1, 2, 3, 4])"
            ]
          },
          "execution_count": 37,
          "metadata": {},
          "output_type": "execute_result"
        }
      ],
      "source": [
        "#np.array is used to create an array\n",
        "np.array([1, 2, 3, 4])"
      ]
    },
    {
      "cell_type": "code",
      "execution_count": 38,
      "metadata": {
        "id": "7N08RznCsyWt"
      },
      "outputs": [],
      "source": [
        "#Equate the above array to A\n",
        "A = np.array([1,2,3,4])"
      ]
    },
    {
      "cell_type": "code",
      "execution_count": 39,
      "metadata": {
        "colab": {
          "base_uri": "https://localhost:8080/"
        },
        "id": "isNL9INas2JD",
        "outputId": "5c670875-4a4f-42a7-a2ff-e8bbb54fd9d6"
      },
      "outputs": [
        {
          "data": {
            "text/plain": [
              "array([ 4,  8, 12, 16])"
            ]
          },
          "execution_count": 39,
          "metadata": {},
          "output_type": "execute_result"
        }
      ],
      "source": [
        "#Multiply A by a number, what do you notice?\n",
        "A * 4"
      ]
    },
    {
      "cell_type": "code",
      "execution_count": 40,
      "metadata": {
        "colab": {
          "base_uri": "https://localhost:8080/"
        },
        "id": "pcPNksgYtGPr",
        "outputId": "371f6313-8dd3-41e8-d7cd-15d996c29283"
      },
      "outputs": [
        {
          "data": {
            "text/plain": [
              "array([ 8,  9, 10, 11])"
            ]
          },
          "execution_count": 40,
          "metadata": {},
          "output_type": "execute_result"
        }
      ],
      "source": [
        "#Add a number to A, what do you notice?\n",
        "A +7"
      ]
    },
    {
      "cell_type": "code",
      "execution_count": 41,
      "metadata": {
        "colab": {
          "base_uri": "https://localhost:8080/"
        },
        "id": "qIIHEdHntI_L",
        "outputId": "12857a5d-ec84-4f29-9e76-b1aa64b8b531"
      },
      "outputs": [
        {
          "data": {
            "text/plain": [
              "10"
            ]
          },
          "execution_count": 41,
          "metadata": {},
          "output_type": "execute_result"
        }
      ],
      "source": [
        "#Use add the elements of A\n",
        "sum(A)"
      ]
    },
    {
      "cell_type": "markdown",
      "metadata": {
        "id": "q3kv8XTrtiWy"
      },
      "source": [
        "**Class Exercise 2:**"
      ]
    },
    {
      "cell_type": "code",
      "execution_count": null,
      "metadata": {
        "id": "xG0xDaUStkpr"
      },
      "outputs": [],
      "source": [
        "#Create a new array with elements 11, 13, 15 and 17 and store it in variable B\n"
      ]
    },
    {
      "cell_type": "code",
      "execution_count": null,
      "metadata": {
        "id": "5-JB3vz_trwz"
      },
      "outputs": [],
      "source": [
        "#Add A and B, what do you notice?\n"
      ]
    },
    {
      "cell_type": "code",
      "execution_count": null,
      "metadata": {
        "id": "pUj8uGl8tvk8"
      },
      "outputs": [],
      "source": [
        "#Create a new variable a and equate that to number\n"
      ]
    },
    {
      "cell_type": "code",
      "execution_count": null,
      "metadata": {
        "id": "zDfXVCsotyt0"
      },
      "outputs": [],
      "source": [
        "#Add a and B\n"
      ]
    },
    {
      "cell_type": "code",
      "execution_count": null,
      "metadata": {
        "id": "j02h5_l4t3FD"
      },
      "outputs": [],
      "source": [
        "#Create two variables a and b and equate that to 9 and 5.\n",
        "#Then create an array with the first element a+b and second element a*b\n",
        "\n",
        "\n"
      ]
    },
    {
      "cell_type": "code",
      "execution_count": null,
      "metadata": {
        "id": "L3lcXygut_m7"
      },
      "outputs": [],
      "source": [
        "#Create a new array with elements 4, 5 and 7; and store it in variable C\n"
      ]
    },
    {
      "cell_type": "code",
      "execution_count": null,
      "metadata": {
        "id": "pM2S5ls6uRT9"
      },
      "outputs": [],
      "source": [
        "# Display A\n"
      ]
    },
    {
      "cell_type": "code",
      "execution_count": null,
      "metadata": {
        "id": "14JNo2XluTez"
      },
      "outputs": [],
      "source": [
        "# print A\n"
      ]
    },
    {
      "cell_type": "code",
      "execution_count": null,
      "metadata": {
        "id": "ajgoqkJruY3D"
      },
      "outputs": [],
      "source": [
        "#Add A and C  .Be mindful of the error\n"
      ]
    },
    {
      "cell_type": "markdown",
      "metadata": {
        "id": "P14dxT3uudas"
      },
      "source": [
        "## Create a basic array\n",
        "\n",
        "When it comes to creating a sequence of values, linspace and arange are two commonly used NumPy functions.\n",
        "\n",
        "Here is the subtle difference between the two functions:\n",
        "\n",
        "* linspace allows you to specify the number of steps\n",
        "* arange allows you to specify the size of the steps\n",
        "The following examples show how to use each function in practice."
      ]
    },
    {
      "cell_type": "markdown",
      "metadata": {
        "id": "8B8nliLIuj1j"
      },
      "source": [
        "### np.arange\n",
        "\n",
        "The np.arange() function uses the following basic syntax:\n",
        "\n",
        "np.arange(start, stop, step, …)\n",
        "\n",
        "where:\n",
        "\n",
        "* start: The starting value of the sequence\n",
        "* stop: The end value of the sequence\n",
        "* step: The spacing between values"
      ]
    },
    {
      "cell_type": "code",
      "execution_count": 42,
      "metadata": {
        "colab": {
          "base_uri": "https://localhost:8080/"
        },
        "id": "aCgSBeLjuuws",
        "outputId": "64735a5a-0164-463c-afb3-7712f844f9ec"
      },
      "outputs": [
        {
          "data": {
            "text/plain": [
              "array([0, 1, 2, 3, 4, 5, 6])"
            ]
          },
          "execution_count": 42,
          "metadata": {},
          "output_type": "execute_result"
        }
      ],
      "source": [
        "#np.arange can take in 1, 2 or 3 inputs. When it takes one input, it creates an array from 0 as the first element\n",
        "#with each subsequent element increasing by 1 until it reaches a number less than the input number.\n",
        "#Write an np.arange command with one input. Let that input be 7.\n",
        "np.arange(7)\n"
      ]
    },
    {
      "cell_type": "code",
      "execution_count": 43,
      "metadata": {
        "colab": {
          "base_uri": "https://localhost:8080/"
        },
        "id": "vAGHXAvwu0TL",
        "outputId": "6ffd8cac-16e7-4d75-ae06-35745352fe11"
      },
      "outputs": [
        {
          "data": {
            "text/plain": [
              "array([1, 2, 3, 4, 5, 6, 7])"
            ]
          },
          "execution_count": 43,
          "metadata": {},
          "output_type": "execute_result"
        }
      ],
      "source": [
        "#What if I wanted the array to start at 1 and end in the value of the input\n",
        "np.arange(7) + 1"
      ]
    },
    {
      "cell_type": "code",
      "execution_count": 44,
      "metadata": {
        "colab": {
          "base_uri": "https://localhost:8080/"
        },
        "id": "sKcAhPPmu3I7",
        "outputId": "237cfc70-968d-4ccf-abc0-dde92ab63623"
      },
      "outputs": [
        {
          "data": {
            "text/plain": [
              "array([1, 2, 3, 4, 5, 6, 7])"
            ]
          },
          "execution_count": 44,
          "metadata": {},
          "output_type": "execute_result"
        }
      ],
      "source": [
        "#Let's try np.arange with two inputs seperated by a comma. The two inputs can be 1 and 8.\n",
        "np.arange(1,8)"
      ]
    },
    {
      "cell_type": "code",
      "execution_count": 45,
      "metadata": {
        "colab": {
          "base_uri": "https://localhost:8080/"
        },
        "id": "uTp7Hnmnu8WL",
        "outputId": "a17b1f60-8a60-44be-9dbf-465354b0bf03"
      },
      "outputs": [
        {
          "data": {
            "text/plain": [
              "array([200, 201, 202, 203, 204, 205, 206, 207, 208, 209, 210, 211])"
            ]
          },
          "execution_count": 45,
          "metadata": {},
          "output_type": "execute_result"
        }
      ],
      "source": [
        "# Create an array that starts with 200 and ends 211\n",
        "np.arange(200,212)"
      ]
    },
    {
      "cell_type": "code",
      "execution_count": 46,
      "metadata": {
        "colab": {
          "base_uri": "https://localhost:8080/"
        },
        "id": "IzBOJcknu_mT",
        "outputId": "a326a4fb-41d5-4d92-8cb9-3e60abe71925"
      },
      "outputs": [
        {
          "data": {
            "text/plain": [
              "array([1. , 1.5, 2. , 2.5, 3. , 3.5, 4. , 4.5, 5. , 5.5, 6. , 6.5, 7. ,\n",
              "       7.5])"
            ]
          },
          "execution_count": 46,
          "metadata": {},
          "output_type": "execute_result"
        }
      ],
      "source": [
        "#Let's try np.arange with two inputs seperated by a comma. The two inputs can be 1 and 8.  np.arange(start, stop, step, …)\n",
        "np.arange(1,8,0.5)"
      ]
    },
    {
      "cell_type": "code",
      "execution_count": 47,
      "metadata": {
        "id": "0st-jOMXvDFT"
      },
      "outputs": [],
      "source": [
        "#Create two arrays using np.arange. The first array should use one input(5) and the second one using two inputs (10 and 13).\n",
        "#Now, use np.append with two inputs. The two inputs are the arrays from above.\n",
        "#What does np.append do\n",
        "first = np.arange(5)\n",
        "second = np.arange(10,13)\n",
        "Third = np.append(first, second)\n"
      ]
    },
    {
      "cell_type": "code",
      "execution_count": 48,
      "metadata": {
        "colab": {
          "base_uri": "https://localhost:8080/"
        },
        "id": "WrbIiqB-8TNr",
        "outputId": "4c70341f-51fe-413a-9915-ac38309ef2c8"
      },
      "outputs": [
        {
          "data": {
            "text/plain": [
              "array([ 0,  1,  2,  3,  4, 10, 11, 12])"
            ]
          },
          "execution_count": 48,
          "metadata": {},
          "output_type": "execute_result"
        }
      ],
      "source": [
        "Third"
      ]
    },
    {
      "cell_type": "code",
      "execution_count": null,
      "metadata": {
        "id": "OB5Fbfo3vGor"
      },
      "outputs": [],
      "source": [
        "### np.linspace\n",
        "\n",
        "The np.linspace() function uses the following basic syntax:\n",
        "\n",
        "np.linspace(start, stop, num, …)\n",
        "\n",
        "where:\n",
        "\n",
        "* start: The starting value of the sequence\n",
        "* stop: The end value of the sequence\n",
        "* num: the number of values to generate"
      ]
    },
    {
      "cell_type": "code",
      "execution_count": 49,
      "metadata": {
        "colab": {
          "base_uri": "https://localhost:8080/"
        },
        "id": "qUWGaQ3UvMNT",
        "outputId": "2c73b801-68b5-4e2a-fa24-9f6c7da5ce32"
      },
      "outputs": [
        {
          "data": {
            "text/plain": [
              "array([ 0.,  2.,  4.,  6.,  8., 10., 12., 14., 16., 18., 20.])"
            ]
          },
          "execution_count": 49,
          "metadata": {},
          "output_type": "execute_result"
        }
      ],
      "source": [
        "#create sequence of 11 evenly spaced values between 0 and 20\n",
        "np.linspace(0,20,11)"
      ]
    },
    {
      "cell_type": "code",
      "execution_count": 50,
      "metadata": {
        "colab": {
          "base_uri": "https://localhost:8080/"
        },
        "id": "0SVRwhd6vW1L",
        "outputId": "43e0a859-7b57-4d1f-8645-a664f7565226"
      },
      "outputs": [
        {
          "name": "stdout",
          "output_type": "stream",
          "text": [
            "[ 0.  5. 10.]\n"
          ]
        }
      ],
      "source": [
        "a = np.linspace(0, 10, 3)\n",
        "print(a)"
      ]
    },
    {
      "cell_type": "code",
      "execution_count": 52,
      "metadata": {
        "colab": {
          "base_uri": "https://localhost:8080/"
        },
        "id": "GH341rYhvh-T",
        "outputId": "316b5cc8-2351-4339-9478-7107caef75f2"
      },
      "outputs": [
        {
          "name": "stdout",
          "output_type": "stream",
          "text": [
            "float64\n"
          ]
        },
        {
          "data": {
            "text/plain": [
              "dtype('float64')"
            ]
          },
          "execution_count": 52,
          "metadata": {},
          "output_type": "execute_result"
        }
      ],
      "source": [
        "print(a.dtype)\n",
        "a.dtype"
      ]
    },
    {
      "cell_type": "code",
      "execution_count": 54,
      "metadata": {
        "colab": {
          "base_uri": "https://localhost:8080/"
        },
        "id": "tLGOhDOvvhxz",
        "outputId": "b01ab22b-8d22-46fa-bc46-0db6d7d30d2c"
      },
      "outputs": [
        {
          "data": {
            "text/plain": [
              "array([ 0,  5, 10])"
            ]
          },
          "execution_count": 54,
          "metadata": {},
          "output_type": "execute_result"
        }
      ],
      "source": [
        "# Change the dtype to int\n",
        "a_int = np.linspace(0, 10, 3, dtype=int)\n",
        "a_int"
      ]
    },
    {
      "cell_type": "code",
      "execution_count": 55,
      "metadata": {
        "colab": {
          "base_uri": "https://localhost:8080/"
        },
        "id": "wNq9PdZx0Atq",
        "outputId": "90668c61-7e84-4855-a5f6-ce7143b315be"
      },
      "outputs": [
        {
          "name": "stdout",
          "output_type": "stream",
          "text": [
            "int64\n"
          ]
        }
      ],
      "source": [
        "#print(a_int.dtype)\n",
        "\n",
        "print(a_int.dtype)"
      ]
    },
    {
      "cell_type": "markdown",
      "metadata": {
        "id": "nXqPUGwz01m7"
      },
      "source": [
        "\n",
        "**Class Exercise 3**:\n",
        "\n",
        "Create an array that ranges from 3 to 10 (inclusive). Another from 13 to 20 (inclusive). Add the two arrays."
      ]
    },
    {
      "cell_type": "code",
      "execution_count": 56,
      "metadata": {
        "colab": {
          "base_uri": "https://localhost:8080/"
        },
        "id": "HVnNN-V4047C",
        "outputId": "7d859548-9b0c-463a-ac64-f727b8e5e005"
      },
      "outputs": [
        {
          "data": {
            "text/plain": [
              "array([16, 18, 20, 22, 24, 26, 28, 30])"
            ]
          },
          "execution_count": 56,
          "metadata": {},
          "output_type": "execute_result"
        }
      ],
      "source": [
        "A1 = np.arange(3,11)\n",
        "A2  = np.arange(13,21)\n",
        "A1 + A2"
      ]
    },
    {
      "cell_type": "markdown",
      "metadata": {
        "id": "wEicrSCR1Awh"
      },
      "source": [
        "Generate a reverse order array with np.arange() from 9 to 2 with a step size of 2"
      ]
    },
    {
      "cell_type": "code",
      "execution_count": 57,
      "metadata": {
        "colab": {
          "base_uri": "https://localhost:8080/"
        },
        "id": "Qr8CcFrZ1DdK",
        "outputId": "bc893137-c30a-4db1-aa75-e29418af54f0"
      },
      "outputs": [
        {
          "data": {
            "text/plain": [
              "array([9, 7, 5, 3])"
            ]
          },
          "execution_count": 57,
          "metadata": {},
          "output_type": "execute_result"
        }
      ],
      "source": [
        "np.arange(9,2,-2)"
      ]
    },
    {
      "cell_type": "markdown",
      "metadata": {
        "id": "bcpiF0IH1URT"
      },
      "source": [
        "# TAKE-HOME EXERCISE 1\n",
        "\n",
        "**Complete the following take-home exercise for the next workshop session:**\n",
        "\n",
        "You have a class of 10 students. Each student has completed two tests and one exam. The total scores for the tests were 70 and 80 respectively and the total score for the exam was 120. Test one and two each make up 25% of the final mark for the module, while the exam makes up the rest.\n",
        "\n",
        "The scores for the students, out ouf their respective totals, are as follows...\n",
        "\n",
        "For test 1 = 65, 63, 68, 40, 55, 43, 69, 52, 51, 48\n",
        "\n",
        "For test 2 = 77, 79, 70, 35, 50, 46, 80, 56, 56, 52\n",
        "\n",
        "For the exam = 110, 109, 100, 55, 60, 61, 115, 96, 99, 75\n",
        "\n",
        "\n",
        "Make use of arrays to caclulate the following:\n",
        "1.   The final mark (%) of each student.\n",
        "2.   The class average (%) for each assesment as well as for the module.\n",
        "3.   BONUS: Give the hightest and lowest final marks for the module (use Google).\n",
        "\n"
      ]
    },
    {
      "cell_type": "markdown",
      "metadata": {
        "id": "phWRwMlj1cq7"
      },
      "source": [
        "# Tables\n",
        "\n",
        "Tables are a fundamental object type for representing data sets. A table can be viewed in two ways:\n",
        "\n",
        "* a sequence of named columns (i.e features or attributes) that each describe a single aspect of all entries in a data set, or\n",
        "\n",
        "* a sequence of rows (data points or data instances) that each contain all information about a single entry in a data set....."
      ]
    },
    {
      "cell_type": "code",
      "execution_count": null,
      "metadata": {
        "id": "5XFpiNU21jga"
      },
      "outputs": [],
      "source": [
        "#Upload olympics2024.csv file\n",
        "from google.colab import files\n",
        "uploaded = files.upload()"
      ]
    },
    {
      "cell_type": "code",
      "execution_count": null,
      "metadata": {
        "id": "ItoBw0wb117D"
      },
      "outputs": [],
      "source": [
        "#Read the file into a table called olympics\n"
      ]
    },
    {
      "cell_type": "code",
      "execution_count": null,
      "metadata": {
        "id": "NEZzmeZm16QT"
      },
      "outputs": [],
      "source": [
        "#Output the table, olympics to the screen\n"
      ]
    },
    {
      "cell_type": "code",
      "execution_count": null,
      "metadata": {
        "id": "y4NZX-S52Fzz"
      },
      "outputs": [],
      "source": [
        "#Show only the top three rows of the table\n"
      ]
    },
    {
      "cell_type": "code",
      "execution_count": null,
      "metadata": {
        "id": "7WJK7EEu2Jos"
      },
      "outputs": [],
      "source": [
        "#Show only the top ten rows of the table\n"
      ]
    },
    {
      "cell_type": "code",
      "execution_count": null,
      "metadata": {
        "id": "vZrDK2JA2Kx7"
      },
      "outputs": [],
      "source": [
        "#Show all rows of the table excluding the last 10\n"
      ]
    },
    {
      "cell_type": "code",
      "execution_count": null,
      "metadata": {
        "id": "OOhTBrkI2OCr"
      },
      "outputs": [],
      "source": [
        "#Show only the last five rows of the table\n"
      ]
    },
    {
      "cell_type": "code",
      "execution_count": null,
      "metadata": {
        "id": "qAyeiIZN2RsU"
      },
      "outputs": [],
      "source": [
        "#Show only the last ten rows of the table\n"
      ]
    },
    {
      "cell_type": "code",
      "execution_count": null,
      "metadata": {
        "id": "pdcmzQPY2U_T"
      },
      "outputs": [],
      "source": []
    }
  ],
  "metadata": {
    "colab": {
      "provenance": [],
      "toc_visible": true
    },
    "kernelspec": {
      "display_name": "Python 3",
      "name": "python3"
    },
    "language_info": {
      "name": "python"
    }
  },
  "nbformat": 4,
  "nbformat_minor": 0
}
