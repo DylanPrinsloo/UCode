{
  "cells": [
    {
      "cell_type": "markdown",
      "metadata": {
        "id": "4S5Hr58nHVDB"
      },
      "source": [
        "**Function**\n",
        "\n",
        "A function allows us to repeat code and reuse it as necessary. It makes the code more simplified, useable and readable.\n"
      ]
    },
    {
      "cell_type": "markdown",
      "metadata": {
        "id": "P8h2hZekOnOU"
      },
      "source": [
        "**Advantages:**\n",
        "\n",
        "* Simplifies coding.\n",
        "\n",
        "* Readability.\n",
        "\n",
        "* Efficiency in memory utilization."
      ]
    },
    {
      "cell_type": "code",
      "execution_count": 1,
      "metadata": {
        "id": "LPUxRvlxuU1x"
      },
      "outputs": [],
      "source": [
        "#These are libraries that you should import if needed for your notebook.\n",
        "#import libraries\n",
        "import pandas as pd\n",
        "import seaborn as sns\n",
        "import numpy as np\n",
        "%matplotlib inline\n",
        "import matplotlib.pyplot as plots\n",
        "plots.style.use('fivethirtyeight')\n",
        "#from google.colab import files"
      ]
    },
    {
      "cell_type": "markdown",
      "metadata": {
        "id": "k4R39_fsugHz"
      },
      "source": [
        "**Basic function**"
      ]
    },
    {
      "cell_type": "code",
      "execution_count": 2,
      "metadata": {
        "id": "RgeI2Sheuh-i"
      },
      "outputs": [],
      "source": [
        "#Define a function\n",
        "def greet():\n",
        "    print(\"Hello, world\")"
      ]
    },
    {
      "cell_type": "code",
      "execution_count": 3,
      "metadata": {
        "id": "0SiH3xvKukxo"
      },
      "outputs": [
        {
          "name": "stdout",
          "output_type": "stream",
          "text": [
            "Hello, world\n"
          ]
        }
      ],
      "source": [
        "#let's call a function\n",
        "greet()"
      ]
    },
    {
      "cell_type": "markdown",
      "metadata": {
        "id": "sG5keW5gurd2"
      },
      "source": [
        "**Function with one argument**"
      ]
    },
    {
      "cell_type": "code",
      "execution_count": 4,
      "metadata": {
        "id": "EBmS9YtmWa2g"
      },
      "outputs": [],
      "source": [
        "#simulate one throw of dice\n",
        "throw = np.random.randint(1, 7)"
      ]
    },
    {
      "cell_type": "code",
      "execution_count": null,
      "metadata": {
        "id": "dXHlMZ-Tb4_5"
      },
      "outputs": [],
      "source": [
        "#for the above random number, determine who won. Marike wins if throw = 1, Sunday wins if throw equals 2 or 3 and\n",
        "#Kanshu wins if throw equals 4, 5, 6\n",
        "if throw == 1:\n",
        "    print(\"Marike won\")\n",
        "elif throw == 2 or 3:\n",
        "    print(\"Sunday wins\")\n",
        "elif throw == 4 or 5 or 6:\n",
        "    print(\"Kanshu wins\")"
      ]
    },
    {
      "cell_type": "code",
      "execution_count": 5,
      "metadata": {
        "id": "IE0Vy1C_W34v"
      },
      "outputs": [],
      "source": [
        "#Suppose we want to simulate this 1000 times. We could create a function. Let's first create a function\n",
        "def winner(a):\n",
        "    if a == 1:\n",
        "        answer = \"Marike\"\n",
        "    elif a == 2 or 3:\n",
        "        answer = \"Sunday wins\"\n",
        "    else:\n",
        "        answer = \"kanshu\"\n",
        "    return answer"
      ]
    },
    {
      "cell_type": "code",
      "execution_count": 6,
      "metadata": {
        "id": "1d1PatQFciWb"
      },
      "outputs": [
        {
          "data": {
            "text/plain": [
              "'Sunday wins'"
            ]
          },
          "execution_count": 6,
          "metadata": {},
          "output_type": "execute_result"
        }
      ],
      "source": [
        "#let's run the function for a dice outcome of 5\n",
        "winner(5)"
      ]
    },
    {
      "cell_type": "code",
      "execution_count": 7,
      "metadata": {
        "id": "8efH24GEc4cQ"
      },
      "outputs": [
        {
          "data": {
            "text/plain": [
              "'Sunday wins'"
            ]
          },
          "execution_count": 7,
          "metadata": {},
          "output_type": "execute_result"
        }
      ],
      "source": [
        "#let's run the function for a dice outcome of 3\n",
        "winner(3)"
      ]
    },
    {
      "cell_type": "markdown",
      "metadata": {
        "id": "BgZC5SJ5dCWJ"
      },
      "source": [
        "The function throw_a_dice allows us to run the code underneath it multiple times, i.e., evertime we call the function. The above function took in one argument. A function can take in multiple arguments."
      ]
    },
    {
      "cell_type": "markdown",
      "metadata": {
        "id": "toqxcAZawGq-"
      },
      "source": [
        "**Functions with more than one argument**"
      ]
    },
    {
      "cell_type": "code",
      "execution_count": 12,
      "metadata": {
        "id": "HnMLfCv3dIfN"
      },
      "outputs": [],
      "source": [
        "#Let's create an array with names of participants\n",
        "participants = ['Marike', 'Sunday', 'Kanshu']"
      ]
    },
    {
      "cell_type": "code",
      "execution_count": 16,
      "metadata": {
        "id": "wCoDBtGTXT9D"
      },
      "outputs": [],
      "source": [
        "#Let's create an function with two inputs.\n",
        "def winner(a, names):\n",
        "    if a == 1:\n",
        "        answer = names[0]\n",
        "    elif a == 2 or 3:\n",
        "        answer = names[1]\n",
        "    else:\n",
        "        answer = names[2]\n",
        "        \n",
        "    return answer\n",
        "    "
      ]
    },
    {
      "cell_type": "code",
      "execution_count": null,
      "metadata": {},
      "outputs": [],
      "source": [
        "winner(2,  participants)"
      ]
    },
    {
      "cell_type": "code",
      "execution_count": 18,
      "metadata": {
        "id": "MyOL7SfYWjij"
      },
      "outputs": [
        {
          "data": {
            "text/plain": [
              "[4, 'Sunday']"
            ]
          },
          "execution_count": 18,
          "metadata": {},
          "output_type": "execute_result"
        }
      ],
      "source": [
        "#Let's throw a dice and see who wins by calling the function\n",
        "throw = np.random.randint(1, 7)\n",
        "[throw, winner(throw, participants)]"
      ]
    },
    {
      "cell_type": "markdown",
      "metadata": {
        "id": "ZJNmgOclwPnI"
      },
      "source": [
        "**Function with two outputs**"
      ]
    },
    {
      "cell_type": "code",
      "execution_count": 19,
      "metadata": {
        "id": "f9PgRsoCX3G1"
      },
      "outputs": [],
      "source": [
        "#Let's create an array with two inputs and also two outputs\n",
        "def winner(a, names):\n",
        "    if a == 1:\n",
        "        answer = names[0]\n",
        "    elif a == 2 or 3:\n",
        "        answer = names[1]\n",
        "    else:\n",
        "        answer = names[2]\n",
        "\n",
        "    return [a, answer]"
      ]
    },
    {
      "cell_type": "code",
      "execution_count": 21,
      "metadata": {
        "id": "19tUktTjedio"
      },
      "outputs": [
        {
          "data": {
            "text/plain": [
              "[6, 'Sunday']"
            ]
          },
          "execution_count": 21,
          "metadata": {},
          "output_type": "execute_result"
        }
      ],
      "source": [
        "#let's run the above function\n",
        "throw = np.random.randint(1, 7)\n",
        "results = winner(throw, participants)\n",
        "\n",
        "results"
      ]
    },
    {
      "cell_type": "markdown",
      "metadata": {
        "id": "wbcr2sxhYZXl"
      },
      "source": [
        "## Exercise"
      ]
    },
    {
      "cell_type": "markdown",
      "metadata": {
        "id": "xnJhF8jrYffR"
      },
      "source": [
        "Suppose you toss a coin and throw a dice. If the coin lands on heads and the dice is less than or equal to 3, Kanshu wins. If the coin lands on heads and dice is greater than 3, Sunday win. If the coin lands on tails and the dice is equal to 1, Sunday wins. If the coin lands on tails and the dice is greater than or equal to 2, Marike win.\n",
        "\n",
        "Run the above simulation 1000 times and count the number of times that each person wins. Using functions to minimize code."
      ]
    },
    {
      "cell_type": "code",
      "execution_count": null,
      "metadata": {},
      "outputs": [],
      "source": []
    }
  ],
  "metadata": {
    "colab": {
      "provenance": [],
      "toc_visible": true
    },
    "kernelspec": {
      "display_name": "Python 3",
      "name": "python3"
    },
    "language_info": {
      "codemirror_mode": {
        "name": "ipython",
        "version": 3
      },
      "file_extension": ".py",
      "mimetype": "text/x-python",
      "name": "python",
      "nbconvert_exporter": "python",
      "pygments_lexer": "ipython3",
      "version": "3.12.4"
    }
  },
  "nbformat": 4,
  "nbformat_minor": 0
}
