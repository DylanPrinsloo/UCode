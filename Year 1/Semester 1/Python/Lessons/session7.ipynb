{
  "cells": [
    {
      "cell_type": "markdown",
      "metadata": {
        "id": "4S5Hr58nHVDB"
      },
      "source": [
        "**Function**\n",
        "\n",
        "A function allows us to repeat code and reuse it as necessary. It makes the code more simplified, useable and readable.\n"
      ]
    },
    {
      "cell_type": "markdown",
      "metadata": {
        "id": "P8h2hZekOnOU"
      },
      "source": [
        "**Advantages:**\n",
        "\n",
        "* Simplifies coding.\n",
        "\n",
        "* Readability.\n",
        "\n",
        "* Efficiency in memory utilization."
      ]
    },
    {
      "cell_type": "code",
      "execution_count": null,
      "metadata": {
        "id": "LPUxRvlxuU1x"
      },
      "outputs": [],
      "source": [
        "#These are libraries that you should import if needed for your notebook.\n",
        "#import libraries\n",
        "import pandas as pd\n",
        "import seaborn as sns\n",
        "import numpy as np\n",
        "%matplotlib inline\n",
        "import matplotlib.pyplot as plots\n",
        "plots.style.use('fivethirtyeight')\n",
        "from google.colab import files"
      ]
    },
    {
      "cell_type": "markdown",
      "metadata": {
        "id": "k4R39_fsugHz"
      },
      "source": [
        "**Basic function**"
      ]
    },
    {
      "cell_type": "code",
      "execution_count": null,
      "metadata": {
        "id": "RgeI2Sheuh-i"
      },
      "outputs": [],
      "source": [
        "#Define a function\n"
      ]
    },
    {
      "cell_type": "code",
      "execution_count": null,
      "metadata": {
        "id": "0SiH3xvKukxo"
      },
      "outputs": [],
      "source": [
        "#let's call a function\n"
      ]
    },
    {
      "cell_type": "markdown",
      "metadata": {
        "id": "sG5keW5gurd2"
      },
      "source": [
        "**Function with one argument**"
      ]
    },
    {
      "cell_type": "code",
      "execution_count": null,
      "metadata": {
        "id": "EBmS9YtmWa2g"
      },
      "outputs": [],
      "source": [
        "#simulate one throw of dice\n"
      ]
    },
    {
      "cell_type": "code",
      "execution_count": null,
      "metadata": {
        "id": "dXHlMZ-Tb4_5"
      },
      "outputs": [],
      "source": [
        "#for the above random number, determine who won. Marike wins if throw = 1, Sunday wins if throw equals 2 or 3 and\n",
        "#Kanshu wins if throw equals 4, 5, 6\n"
      ]
    },
    {
      "cell_type": "code",
      "execution_count": null,
      "metadata": {
        "id": "IE0Vy1C_W34v"
      },
      "outputs": [],
      "source": [
        "#Suppose we want to simulate this 1000 times. We could create a function. Let's first create a function\n"
      ]
    },
    {
      "cell_type": "code",
      "execution_count": null,
      "metadata": {
        "id": "1d1PatQFciWb"
      },
      "outputs": [],
      "source": [
        "#let's run the function for a dice outcome of 5\n"
      ]
    },
    {
      "cell_type": "code",
      "execution_count": null,
      "metadata": {
        "id": "8efH24GEc4cQ"
      },
      "outputs": [],
      "source": [
        "#let's run the function for a dice outcome of 3\n"
      ]
    },
    {
      "cell_type": "markdown",
      "metadata": {
        "id": "BgZC5SJ5dCWJ"
      },
      "source": [
        "The function throw_a_dice allows us to run the code underneath it multiple times, i.e., evertime we call the function. The above function took in one argument. A function can take in multiple arguments."
      ]
    },
    {
      "cell_type": "markdown",
      "metadata": {
        "id": "toqxcAZawGq-"
      },
      "source": [
        "**Functions with more than one argument**"
      ]
    },
    {
      "cell_type": "code",
      "execution_count": null,
      "metadata": {
        "id": "HnMLfCv3dIfN"
      },
      "outputs": [],
      "source": [
        "#Let's create an array with names of participants\n"
      ]
    },
    {
      "cell_type": "code",
      "execution_count": null,
      "metadata": {
        "id": "wCoDBtGTXT9D"
      },
      "outputs": [],
      "source": [
        "#Let's create an array with two inputs.\n"
      ]
    },
    {
      "cell_type": "code",
      "execution_count": null,
      "metadata": {
        "id": "MyOL7SfYWjij"
      },
      "outputs": [],
      "source": [
        "#Let's throw a dice and see who wins by calling the function\n"
      ]
    },
    {
      "cell_type": "code",
      "execution_count": null,
      "metadata": {
        "id": "r_snpmdewUR4"
      },
      "outputs": [],
      "source": []
    },
    {
      "cell_type": "markdown",
      "metadata": {
        "id": "ZJNmgOclwPnI"
      },
      "source": [
        "**Function with two outputs**"
      ]
    },
    {
      "cell_type": "code",
      "execution_count": null,
      "metadata": {
        "id": "f9PgRsoCX3G1"
      },
      "outputs": [],
      "source": [
        "#Let's create an array with two inputs and also two outputs\n"
      ]
    },
    {
      "cell_type": "code",
      "execution_count": null,
      "metadata": {
        "id": "19tUktTjedio"
      },
      "outputs": [],
      "source": [
        "#let's run the above function\n"
      ]
    },
    {
      "cell_type": "markdown",
      "metadata": {
        "id": "wbcr2sxhYZXl"
      },
      "source": [
        "## Exercise"
      ]
    },
    {
      "cell_type": "markdown",
      "metadata": {
        "id": "xnJhF8jrYffR"
      },
      "source": [
        "Suppose you toss a coin and throw a dice. If the coin lands on heads and the dice is less than or equal to 3, Kanshu wins. If the coin lands on heads and dice is greater than 3, Sunday win. If the coin lands on tails and the dice is equal to 1, Sunday wins. If the coin lands on tails and the dice is greater than or equal to 2, Marike win.\n",
        "\n",
        "Run the above simulation 1000 times and count the number of times that each person wins. Using functions to minimize code."
      ]
    },
    {
      "cell_type": "code",
      "execution_count": null,
      "metadata": {},
      "outputs": [],
      "source": []
    }
  ],
  "metadata": {
    "colab": {
      "provenance": [],
      "toc_visible": true
    },
    "kernelspec": {
      "display_name": "Python 3",
      "name": "python3"
    },
    "language_info": {
      "name": "python"
    }
  },
  "nbformat": 4,
  "nbformat_minor": 0
}
