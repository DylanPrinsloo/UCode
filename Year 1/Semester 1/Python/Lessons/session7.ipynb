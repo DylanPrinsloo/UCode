{
  "nbformat": 4,
  "nbformat_minor": 0,
  "metadata": {
    "colab": {
      "provenance": [],
      "toc_visible": true
    },
    "kernelspec": {
      "name": "python3",
      "display_name": "Python 3"
    },
    "language_info": {
      "name": "python"
    }
  },
  "cells": [
    {
      "cell_type": "markdown",
      "source": [
        "**Function**\n",
        "\n",
        "A function allows us to repeat code and reuse it as necessary. It makes the code more simplified, useable and readable.\n"
      ],
      "metadata": {
        "id": "4S5Hr58nHVDB"
      }
    },
    {
      "cell_type": "markdown",
      "source": [
        "**Advantages:**\n",
        "\n",
        "* Simplifies coding.\n",
        "\n",
        "* Readability.\n",
        "\n",
        "* Efficiency in memory utilization."
      ],
      "metadata": {
        "id": "P8h2hZekOnOU"
      }
    },
    {
      "cell_type": "code",
      "execution_count": null,
      "metadata": {
        "id": "LPUxRvlxuU1x"
      },
      "outputs": [],
      "source": [
        "#These are libraries that you should import if needed for your notebook.\n",
        "#import libraries\n",
        "import pandas as pd\n",
        "import seaborn as sns\n",
        "import numpy as np\n",
        "%matplotlib inline\n",
        "import matplotlib.pyplot as plots\n",
        "plots.style.use('fivethirtyeight')\n",
        "from google.colab import files"
      ]
    },
    {
      "cell_type": "markdown",
      "source": [
        "**Basic function**"
      ],
      "metadata": {
        "id": "k4R39_fsugHz"
      }
    },
    {
      "cell_type": "code",
      "source": [
        "#Define a function\n"
      ],
      "metadata": {
        "id": "RgeI2Sheuh-i"
      },
      "execution_count": null,
      "outputs": []
    },
    {
      "cell_type": "code",
      "source": [
        "#let's call a function\n"
      ],
      "metadata": {
        "id": "0SiH3xvKukxo"
      },
      "execution_count": null,
      "outputs": []
    },
    {
      "cell_type": "markdown",
      "source": [
        "**Function with one argument**"
      ],
      "metadata": {
        "id": "sG5keW5gurd2"
      }
    },
    {
      "cell_type": "code",
      "source": [
        "#simulate one throw of dice\n"
      ],
      "metadata": {
        "id": "EBmS9YtmWa2g"
      },
      "execution_count": null,
      "outputs": []
    },
    {
      "cell_type": "code",
      "source": [
        "#for the above random number, determine who won. Marike wins if throw = 1, Sunday wins if throw equals 2 or 3 and\n",
        "#Kanshu wins if throw equals 4, 5, 6\n"
      ],
      "metadata": {
        "id": "dXHlMZ-Tb4_5"
      },
      "execution_count": null,
      "outputs": []
    },
    {
      "cell_type": "code",
      "source": [
        "#Suppose we want to simulate this 1000 times. We could create a function. Let's first create a function\n"
      ],
      "metadata": {
        "id": "IE0Vy1C_W34v"
      },
      "execution_count": null,
      "outputs": []
    },
    {
      "cell_type": "code",
      "source": [
        "#let's run the function for a dice outcome of 5\n"
      ],
      "metadata": {
        "id": "1d1PatQFciWb"
      },
      "execution_count": null,
      "outputs": []
    },
    {
      "cell_type": "code",
      "source": [
        "#let's run the function for a dice outcome of 3\n"
      ],
      "metadata": {
        "id": "8efH24GEc4cQ"
      },
      "execution_count": null,
      "outputs": []
    },
    {
      "cell_type": "markdown",
      "source": [
        "The function throw_a_dice allows us to run the code underneath it multiple times, i.e., evertime we call the function. The above function took in one argument. A function can take in multiple arguments."
      ],
      "metadata": {
        "id": "BgZC5SJ5dCWJ"
      }
    },
    {
      "cell_type": "markdown",
      "source": [
        "**Functions with more than one argument**"
      ],
      "metadata": {
        "id": "toqxcAZawGq-"
      }
    },
    {
      "cell_type": "code",
      "source": [
        "#Let's create an array with names of participants\n"
      ],
      "metadata": {
        "id": "HnMLfCv3dIfN"
      },
      "execution_count": null,
      "outputs": []
    },
    {
      "cell_type": "code",
      "source": [
        "#Let's create an array with two inputs.\n"
      ],
      "metadata": {
        "id": "wCoDBtGTXT9D"
      },
      "execution_count": null,
      "outputs": []
    },
    {
      "cell_type": "code",
      "source": [
        "#Let's throw a dice and see who wins by calling the function\n"
      ],
      "metadata": {
        "id": "MyOL7SfYWjij"
      },
      "execution_count": null,
      "outputs": []
    },
    {
      "cell_type": "code",
      "source": [],
      "metadata": {
        "id": "r_snpmdewUR4"
      },
      "execution_count": null,
      "outputs": []
    },
    {
      "cell_type": "markdown",
      "source": [
        "**Function with two outputs**"
      ],
      "metadata": {
        "id": "ZJNmgOclwPnI"
      }
    },
    {
      "cell_type": "code",
      "source": [
        "#Let's create an array with two inputs and also two outputs\n"
      ],
      "metadata": {
        "id": "f9PgRsoCX3G1"
      },
      "execution_count": null,
      "outputs": []
    },
    {
      "cell_type": "code",
      "source": [
        "#let's run the above function\n"
      ],
      "metadata": {
        "id": "19tUktTjedio"
      },
      "execution_count": null,
      "outputs": []
    },
    {
      "cell_type": "markdown",
      "source": [
        "## Exercise"
      ],
      "metadata": {
        "id": "wbcr2sxhYZXl"
      }
    },
    {
      "cell_type": "markdown",
      "source": [
        "Suppose you toss a coin and throw a dice. If the coin lands on heads and the dice is less than or equal to 3, Kanshu wins. If the coin lands on heads and dice is greater than 3, Sunday win. If the coin lands on tails and the dice is equal to 1, Sunday wins. If the coin lands on tails and the dice is greater than or equal to 2, Marike win.\n",
        "\n",
        "Run the above simulation 1000 times and count the number of times that each person wins. Using functions to minimize code."
      ],
      "metadata": {
        "id": "xnJhF8jrYffR"
      }
    }
  ]
}