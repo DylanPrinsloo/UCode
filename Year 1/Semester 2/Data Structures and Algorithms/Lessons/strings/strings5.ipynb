{
 "cells": [
  {
   "cell_type": "code",
   "execution_count": null,
   "metadata": {},
   "outputs": [],
   "source": [
    "# init from string 1 here"
   ]
  },
  {
   "cell_type": "markdown",
   "metadata": {},
   "source": [
    "## Algorithm to Multiply Two Non-Negative Integers Represented as Strings"
   ]
  },
  {
   "cell_type": "code",
   "execution_count": null,
   "metadata": {},
   "outputs": [],
   "source": [
    "\"\"\"\n",
    "Given two non-negative integers num1 and num2 represented as strings,\n",
    "return the product of num1 and num2.\n",
    "\"\"\""
   ]
  },
  {
   "cell_type": "code",
   "execution_count": null,
   "metadata": {},
   "outputs": [],
   "source": [
    "\"\"\"\n",
    "Note:\n",
    "\n",
    "The length of both num1 and num2 is < 110.\n",
    "Both num1 and num2 contains only digits 0-9.\n",
    "Both num1 and num2 does not contain any leading zero.\n",
    "You must not use any built-in BigInteger library or convert\n",
    "the inputs to integer directly.\n",
    "\"\"\""
   ]
  },
  {
   "cell_type": "code",
   "execution_count": null,
   "metadata": {},
   "outputs": [],
   "source": [
    "def multiply(num1: \"str\", num2: \"str\") -> \"str\":\n",
    "    interm = []\n",
    "    zero = ord('0')\n",
    "    i_pos = 1\n",
    "    for i in reversed(num1):\n",
    "        j_pos = 1\n",
    "        add = 0\n",
    "        for j in reversed(num2):\n",
    "            mult = (ord(i)-zero) * (ord(j)-zero) * j_pos * i_pos\n",
    "            j_pos *= 10\n",
    "            add += mult\n",
    "        i_pos *= 10\n",
    "        interm.append(add)\n",
    "    return str(sum(interm))\n",
    "\n",
    "\n",
    "if __name__ == \"__main__\":\n",
    "    print(multiply(\"1\", \"23\"))\n",
    "    print(multiply(\"23\", \"23\"))\n",
    "    print(multiply(\"100\", \"23\"))\n",
    "    print(multiply(\"100\", \"10000\"))"
   ]
  },
  {
   "cell_type": "markdown",
   "metadata": {},
   "source": [
    "## Algorithm to Check if Two Strings are One Edit Distance Apart"
   ]
  },
  {
   "cell_type": "code",
   "execution_count": null,
   "metadata": {},
   "outputs": [],
   "source": [
    "# Given two strings S and T, determine if they are both one edit distance apart."
   ]
  },
  {
   "cell_type": "code",
   "execution_count": null,
   "metadata": {},
   "outputs": [],
   "source": [
    "def is_one_edit(s, t):\n",
    "    \"\"\"\n",
    "    Determine if strings s and t are one edit distance apart.\n",
    "    \n",
    "    :type s: str\n",
    "    :type t: str\n",
    "    :rtype: bool\n",
    "    \"\"\"\n",
    "    if len(s) > len(t):\n",
    "        return is_one_edit(t, s)  # Ensure s is the shorter string\n",
    "    \n",
    "    if len(t) - len(s) > 1 or t == s:\n",
    "        return False  # More than one edit distance or strings are identical\n",
    "    \n",
    "    for i in range(len(s)):\n",
    "        if s[i] != t[i]:\n",
    "            # Check for modifications or insertions\n",
    "            return s[i+1:] == t[i+1:] or s[i:] == t[i+1:]\n",
    "    \n",
    "    return True  # If we reach here, s is a prefix of t\n",
    "\n",
    "# Alternative implementation with an explicit difference check\n",
    "def is_one_edit2(s, t):\n",
    "    l1, l2 = len(s), len(t)\n",
    "    if l1 > l2:\n",
    "        return is_one_edit2(t, s)  # Ensure s is the shorter string\n",
    "    \n",
    "    if l2 - l1 > 1 or s == t:\n",
    "        return False  # More than one edit distance or strings are identical\n",
    "    \n",
    "    for i in range(len(s)):\n",
    "        if s[i] != t[i]:\n",
    "            # Check for modifications or insertions\n",
    "            if l1 == l2:\n",
    "                s = s[:i] + t[i] + s[i+1:]  # modify\n",
    "            else:\n",
    "                s = s[:i] + t[i] + s[i:]  # insertion\n",
    "            break\n",
    "    \n",
    "    return s == t or s == t[:-1]  # Compare strings after potential edit\n"
   ]
  },
  {
   "cell_type": "code",
   "execution_count": null,
   "metadata": {},
   "outputs": [],
   "source": [
    "# Test cases\n",
    "print(is_one_edit(\"abc\", \"ab\"))      # Output: True (deletion)\n",
    "\n",
    "# print(is_one_edit(\"ab\", \"abc\"))      # Output: True (insertion)\n",
    "# print(is_one_edit(\"abc\", \"adc\"))     # Output: True (modification)\n",
    "# print(is_one_edit(\"abc\", \"abc\"))     # Output: False (no edits)\n",
    "# print(is_one_edit(\"abc\", \"abx\"))     # Output: True (modification)\n",
    "# print(is_one_edit(\"abc\", \"def\"))     # Output: False (multiple edits)"
   ]
  },
  {
   "cell_type": "markdown",
   "metadata": {},
   "source": [
    "## Check if a String is a Panagram"
   ]
  },
  {
   "cell_type": "code",
   "execution_count": null,
   "metadata": {},
   "outputs": [],
   "source": [
    "\"\"\"\n",
    "Given a string, check whether it is a panagram or not.\n",
    "\n",
    "A panagram is a sentence that uses every letter at least once.\n",
    "\n",
    "The most famous example is: \"he quick brown fox jumps over the lazy dog.\n",
    "\"\"\""
   ]
  },
  {
   "cell_type": "code",
   "execution_count": null,
   "metadata": {},
   "outputs": [],
   "source": [
    "\"\"\"\n",
    "Note:\n",
    "A panagram in one language isn't necessarily a panagram in another. This\n",
    "module assumes the english language. Hence, the Finnish panagram\n",
    "'Törkylempijävongahdus' won't pass for a panagram despite being considered\n",
    "a perfect panagram in its language. However, the Swedish panagram\n",
    "'Yxmördaren Julia Blomqvist på fäktning i Schweiz' will pass despite\n",
    "including letters not used in the english alphabet. This is because the\n",
    "Swedish alphabet only extends the Latin one.\n",
    "\"\"\""
   ]
  },
  {
   "cell_type": "code",
   "execution_count": null,
   "metadata": {},
   "outputs": [],
   "source": [
    "from string import ascii_lowercase"
   ]
  },
  {
   "cell_type": "code",
   "execution_count": null,
   "metadata": {},
   "outputs": [],
   "source": [
    "def panagram(string):\n",
    "    \"\"\"\n",
    "    Returns whether the input string is an English panagram or not.\n",
    "\n",
    "        Parameters:\n",
    "            string (str): A sentence in the form of a string.\n",
    "\n",
    "        Returns:\n",
    "            A boolean with the result.\n",
    "    \"\"\"\n",
    "    letters = set(ascii_lowercase)\n",
    "    for c in string:\n",
    "        try:\n",
    "            letters.remove(c.lower())\n",
    "        except:\n",
    "            pass\n",
    "    return len(letters) == 0"
   ]
  },
  {
   "cell_type": "markdown",
   "metadata": {},
   "source": [
    "## Rabin-Karp Algorithm"
   ]
  },
  {
   "cell_type": "markdown",
   "metadata": {},
   "source": [
    "#### Rabin-Karp algorithm, which is a string-searching algorithm that uses hashing to find patterns within a given text efficiently."
   ]
  },
  {
   "cell_type": "code",
   "execution_count": null,
   "metadata": {},
   "outputs": [],
   "source": [
    "# Following program is the python implementation of\n",
    "# Rabin Karp Algorithm\n",
    "\n",
    "class RollingHash:\n",
    "    def __init__(self, text, size_word):\n",
    "        self.text = text\n",
    "        self.hash = 0\n",
    "        self.size_word = size_word\n",
    "\n",
    "        for i in range(0, size_word):\n",
    "            #ord maps the character to a number\n",
    "            #subtract out the ASCII value of \"a\" to start the indexing at zero\n",
    "            self.hash += (ord(self.text[i]) - ord(\"a\")+1)*(26**(size_word - i -1))\n",
    "\n",
    "        #start index of current window\n",
    "        self.window_start = 0\n",
    "        #end of index window\n",
    "        self.window_end = size_word\n",
    "\n",
    "    def move_window(self):\n",
    "        if self.window_end <= len(self.text) - 1:\n",
    "            #remove left letter from hash value\n",
    "            self.hash -= (ord(self.text[self.window_start]) - ord(\"a\")+1)*26**(self.size_word-1)\n",
    "            self.hash *= 26\n",
    "            self.hash += ord(self.text[self.window_end])- ord(\"a\")+1\n",
    "            self.window_start += 1\n",
    "            self.window_end += 1\n",
    "\n",
    "    def window_text(self):\n",
    "        return self.text[self.window_start:self.window_end]\n",
    "\n",
    "def rabin_karp(word, text):\n",
    "    if word == \"\" or text == \"\":\n",
    "        return None\n",
    "    if len(word) > len(text):\n",
    "        return None\n",
    "\n",
    "    rolling_hash = RollingHash(text, len(word))\n",
    "    word_hash = RollingHash(word, len(word))\n",
    "    #word_hash.move_window()\n",
    "\n",
    "    for i in range(len(text) - len(word) + 1):\n",
    "        if rolling_hash.hash == word_hash.hash:\n",
    "            if rolling_hash.window_text() == word:\n",
    "                return i\n",
    "        rolling_hash.move_window()\n",
    "    return None"
   ]
  },
  {
   "cell_type": "markdown",
   "metadata": {},
   "source": [
    "## String Repetition for Substring Matching"
   ]
  },
  {
   "cell_type": "code",
   "execution_count": null,
   "metadata": {},
   "outputs": [],
   "source": [
    "\"\"\"\n",
    "Given two strings A and B, find the minimum number of times A has to be repeated such that B is a substring of it. If no such solution, return -1.\n",
    "\n",
    "For example, with A = \"abcd\" and B = \"cdabcdab\".\n",
    "\n",
    "Return 3, because by repeating A three times (“abcdabcdabcd”), B is a substring of it; and B is not a substring of A repeated two times (\"abcdabcd\").\n",
    "\n",
    "Note:\n",
    "The length of A and B will be between 1 and 10000.\n",
    "\"\"\""
   ]
  },
  {
   "cell_type": "code",
   "execution_count": null,
   "metadata": {},
   "outputs": [],
   "source": [
    "# Reference: https://leetcode.com/problems/repeated-string-match/description/\n",
    "\n",
    "def repeat_string(A, B):\n",
    "    count = 1\n",
    "    tmp = A\n",
    "    max_count = (len(B) / len(A)) + 1\n",
    "    while not(B in tmp):\n",
    "        tmp = tmp + A\n",
    "        if (count > max_count):\n",
    "            count = -1\n",
    "            break\n",
    "        count = count + 1\n",
    "\n",
    "    return count"
   ]
  },
  {
   "cell_type": "markdown",
   "metadata": {},
   "source": [
    "## Repeated Substring Pattern Check"
   ]
  },
  {
   "cell_type": "code",
   "execution_count": null,
   "metadata": {},
   "outputs": [],
   "source": [
    "\"\"\"\n",
    "Given a non-empty string check if it can be constructed by taking\n",
    "a substring of it and appending multiple copies of the substring together.\n",
    "\n",
    "For example:\n",
    "Input: \"abab\"\n",
    "Output: True\n",
    "Explanation: It's the substring \"ab\" twice.\n",
    "\n",
    "Input: \"aba\"\n",
    "Output: False\n",
    "\n",
    "Input: \"abcabcabcabc\"\n",
    "Output: True\n",
    "Explanation: It's the substring \"abc\" four times.\n",
    "\n",
    "\"\"\""
   ]
  },
  {
   "cell_type": "code",
   "execution_count": null,
   "metadata": {},
   "outputs": [],
   "source": [
    "# Reference: https://leetcode.com/problems/repeated-substring-pattern/description/\n",
    "\n",
    "def repeat_substring(s):\n",
    "    \"\"\"\n",
    "    :type s: str\n",
    "    :rtype: bool\n",
    "    \"\"\"\n",
    "    str = (s + s)[1:-1]\n",
    "    return s in str"
   ]
  },
  {
   "cell_type": "markdown",
   "metadata": {},
   "source": [
    "## Reversal of a String"
   ]
  },
  {
   "cell_type": "markdown",
   "metadata": {},
   "source": [
    "### recursion"
   ]
  },
  {
   "cell_type": "code",
   "execution_count": null,
   "metadata": {},
   "outputs": [],
   "source": [
    "def recursive(s):\n",
    "    \n",
    "    l = len(s)\n",
    "    if l < 2:\n",
    "        return s\n",
    "    return recursive(s[l//2:]) + recursive(s[:l//2])"
   ]
  },
  {
   "cell_type": "markdown",
   "metadata": {},
   "source": [
    "### iterative approach"
   ]
  },
  {
   "cell_type": "code",
   "execution_count": null,
   "metadata": {},
   "outputs": [],
   "source": [
    "def iterative(s):\n",
    "\n",
    "    r = list(s)\n",
    "    i, j = 0, len(s) - 1\n",
    "    while i < j:\n",
    "        r[i], r[j] = r[j], r[i]  # Swap characters\n",
    "        i += 1\n",
    "        j -= 1\n",
    "    return \"\".join(r)"
   ]
  },
  {
   "cell_type": "markdown",
   "metadata": {},
   "source": [
    "### pythonic way using reversed()"
   ]
  },
  {
   "cell_type": "code",
   "execution_count": null,
   "metadata": {},
   "outputs": [],
   "source": [
    "def pythonic(s):\n",
    "   \n",
    "    r = list(reversed(s))\n",
    "    return \"\".join(r)\n"
   ]
  },
  {
   "cell_type": "markdown",
   "metadata": {},
   "source": [
    "### Python slicing"
   ]
  },
  {
   "cell_type": "code",
   "execution_count": null,
   "metadata": {},
   "outputs": [],
   "source": [
    "def ultra_pythonic(s):\n",
    "\n",
    "    return s[::-1]"
   ]
  },
  {
   "cell_type": "markdown",
   "metadata": {},
   "source": [
    "## Reverse vowel"
   ]
  },
  {
   "cell_type": "code",
   "execution_count": null,
   "metadata": {},
   "outputs": [],
   "source": [
    "def reverse_vowel(s):\n",
    "    vowels = \"AEIOUaeiou\"\n",
    "    i, j = 0, len(s)-1\n",
    "    s = list(s)\n",
    "    while i < j:\n",
    "        while i < j and s[i] not in vowels:\n",
    "            i += 1\n",
    "        while i < j and s[j] not in vowels:\n",
    "            j -= 1\n",
    "        s[i], s[j] = s[j], s[i]\n",
    "        i, j = i + 1, j - 1\n",
    "    return \"\".join(s)"
   ]
  }
 ],
 "metadata": {
  "language_info": {
   "name": "python"
  }
 },
 "nbformat": 4,
 "nbformat_minor": 2
}
