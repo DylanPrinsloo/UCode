{
 "cells": [
  {
   "cell_type": "code",
   "execution_count": null,
   "metadata": {},
   "outputs": [],
   "source": [
    "# init from string 1 here"
   ]
  },
  {
   "cell_type": "markdown",
   "metadata": {},
   "source": [
    "## Count Unique Morse Code Transformations"
   ]
  },
  {
   "cell_type": "code",
   "execution_count": null,
   "metadata": {},
   "outputs": [],
   "source": [
    "\"\"\"\n",
    "International Morse Code defines a standard encoding where each letter is mapped to\n",
    "a series of dots and dashes, as follows: \"a\" maps to \".-\", \"b\" maps to \"-...\", \"c\"\n",
    "maps to \"-.-.\", and so on.\n",
    "\n",
    "For convenience, the full table for the 26 letters of the English alphabet is given below:\n",
    "        'a':\".-\",\n",
    "        'b':\"-...\",\n",
    "        'c':\"-.-.\",\n",
    "        'd': \"-..\",\n",
    "        'e':\".\",\n",
    "        'f':\"..-.\",\n",
    "        'g':\"--.\",\n",
    "        'h':\"....\",\n",
    "        'i':\"..\",\n",
    "        'j':\".---\",\n",
    "        'k':\"-.-\",\n",
    "        'l':\".-..\",\n",
    "        'm':\"--\",\n",
    "        'n':\"-.\",\n",
    "        'o':\"---\",\n",
    "        'p':\".--.\",\n",
    "        'q':\"--.-\",\n",
    "        'r':\".-.\",\n",
    "        's':\"...\",\n",
    "        't':\"-\",\n",
    "        'u':\"..-\",\n",
    "        'v':\"...-\",\n",
    "        'w':\".--\",\n",
    "        'x':\"-..-\",\n",
    "        'y':\"-.--\",\n",
    "        'z':\"--..\"\n",
    "\n",
    "Now, given a list of words, each word can be written as a concatenation of the\n",
    "Morse code of each letter. For example, \"cab\" can be written as \"-.-.-....-\",\n",
    "(which is the concatenation \"-.-.\" + \"-...\" + \".-\"). We'll call such a\n",
    "concatenation, the transformation of a word.\n",
    "\n",
    "Return the number of different transformations among all words we have.\n",
    "\"\"\""
   ]
  },
  {
   "cell_type": "code",
   "execution_count": null,
   "metadata": {},
   "outputs": [],
   "source": [
    "morse_code = {\n",
    "    'a':\".-\",\n",
    "    'b':\"-...\",\n",
    "    'c':\"-.-.\",\n",
    "    'd': \"-..\",\n",
    "    'e':\".\",\n",
    "    'f':\"..-.\",\n",
    "    'g':\"--.\",\n",
    "    'h':\"....\",\n",
    "    'i':\"..\",\n",
    "    'j':\".---\",\n",
    "    'k':\"-.-\",\n",
    "    'l':\".-..\",\n",
    "    'm':\"--\",\n",
    "    'n':\"-.\",\n",
    "    'o':\"---\",\n",
    "    'p':\".--.\",\n",
    "    'q':\"--.-\",\n",
    "    'r':\".-.\",\n",
    "    's':\"...\",\n",
    "    't':\"-\",\n",
    "    'u':\"..-\",\n",
    "    'v':\"...-\",\n",
    "    'w':\".--\",\n",
    "    'x':\"-..-\",\n",
    "    'y':\"-.--\",\n",
    "    'z':\"--..\"\n",
    "}"
   ]
  },
  {
   "cell_type": "code",
   "execution_count": null,
   "metadata": {},
   "outputs": [],
   "source": [
    "def convert_morse_word(word):\n",
    "    morse_word = \"\"\n",
    "    word = word.lower()\n",
    "    for char in word:\n",
    "        morse_word = morse_word + morse_code[char]\n",
    "    return morse_word\n",
    "\n",
    "def unique_morse(words):\n",
    "    unique_morse_word = []\n",
    "    for word in words:\n",
    "        morse_word = convert_morse_word(word)\n",
    "        if morse_word not in unique_morse_word:\n",
    "            unique_morse_word.append(morse_word)\n",
    "    return len(unique_morse_word)"
   ]
  },
  {
   "cell_type": "code",
   "execution_count": null,
   "metadata": {},
   "outputs": [],
   "source": [
    "words = [\"gin\", \"zen\", \"gig\", \"msg\"] \n",
    "output = unique_morse(words)\n",
    "print(output)  \n",
    "\n",
    "# expected output: 2\n",
    "\n",
    "'''\n",
    "Explanation:\n",
    "The transformation of each word is:\n",
    "\"gin\" -> \"--...-.\"\n",
    "\"zen\" -> \"--...-.\"\n",
    "\"gig\" -> \"--...--.\"\n",
    "\"msg\" -> \"--...--.\"\n",
    "\n",
    "There are 2 different transformations, \"--...-.\" and \"--...--.\".\n",
    "'''"
   ]
  },
  {
   "cell_type": "markdown",
   "metadata": {},
   "source": [
    "## Validate Geographical Coordinates"
   ]
  },
  {
   "cell_type": "code",
   "execution_count": null,
   "metadata": {},
   "outputs": [],
   "source": [
    "\"\"\"\"\n",
    "Create a function that will validate if given parameters are valid geographical coordinates.\n",
    "Valid coordinates look like the following: \"23.32353342, -32.543534534\". The return value should be either true or false.\n",
    "Latitude (which is first float) can be between 0 and 90, positive or negative. Longitude (which is second float) can be between 0 and 180, positive or negative.\n",
    "Coordinates can only contain digits, or one of the following symbols (including space after comma) -, .\n",
    "There should be no space between the minus \"-\" sign and the digit after it.\n",
    "\n",
    "Here are some valid coordinates:\n",
    "-23, 25\n",
    "43.91343345, 143\n",
    "4, -3\n",
    "\n",
    "And some invalid ones:\n",
    "23.234, - 23.4234\n",
    "N23.43345, E32.6457\n",
    "6.325624, 43.34345.345\n",
    "0, 1,2\n",
    "\n",
    "\"\"\""
   ]
  },
  {
   "cell_type": "code",
   "execution_count": null,
   "metadata": {},
   "outputs": [],
   "source": [
    "# I'll be adding my attempt as well as my friend's solution (took us ~ 1 hour)\n",
    "\n",
    "# my attempt\n",
    "import re\n",
    "def is_valid_coordinates_0(coordinates):\n",
    "    for char in coordinates:\n",
    "        if not (char.isdigit() or char in ['-', '.', ',', ' ']):\n",
    "            return False\n",
    "    l = coordinates.split(\", \")\n",
    "    if len(l) != 2:\n",
    "        return False\n",
    "    try:\n",
    "        latitude = float(l[0])\n",
    "        longitude = float(l[1])\n",
    "    except:\n",
    "        return False\n",
    "    return -90 <= latitude <= 90 and -180 <= longitude <= 180 "
   ]
  },
  {
   "cell_type": "code",
   "execution_count": null,
   "metadata": {},
   "outputs": [],
   "source": [
    "# friends solutions\n",
    "def is_valid_coordinates_1(coordinates):\n",
    "    try:\n",
    "        lat, lng = [abs(float(c)) for c in coordinates.split(',') if 'e' not in c]\n",
    "    except ValueError:\n",
    "        return False\n",
    "\n",
    "    return lat <= 90 and lng <= 180"
   ]
  },
  {
   "cell_type": "code",
   "execution_count": null,
   "metadata": {},
   "outputs": [],
   "source": [
    "# using regular expression\n",
    "def is_valid_coordinates_regular_expression(coordinates):\n",
    "    return bool(re.match(\"-?(\\d|[1-8]\\d|90)\\.?\\d*, -?(\\d|[1-9]\\d|1[0-7]\\d|180)\\.?\\d*$\", coordinates)) "
   ]
  },
  {
   "cell_type": "markdown",
   "metadata": {},
   "source": [
    "## Word squares"
   ]
  },
  {
   "cell_type": "code",
   "execution_count": null,
   "metadata": {},
   "outputs": [],
   "source": [
    "# Given a set of words (without duplicates),\n",
    "# find all word squares you can build from them.\n",
    "\n",
    "# A sequence of words forms a valid word square\n",
    "# if the kth row and column read the exact same string,\n",
    "# where 0 ≤ k < max(numRows, numColumns).\n",
    "\n",
    "# For example, the word sequence [\"ball\",\"area\",\"lead\",\"lady\"] forms\n",
    "# a word square because each word reads the same both horizontally\n",
    "# and vertically.\n",
    "\n",
    "# b a l l\n",
    "# a r e a\n",
    "# l e a d\n",
    "# l a d y\n",
    "# Note:\n",
    "# There are at least 1 and at most 1000 words.\n",
    "# All words will have the exact same length.\n",
    "# Word length is at least 1 and at most 5.\n",
    "# Each word contains only lowercase English alphabet a-z.\n",
    "\n",
    "# Example 1:\n",
    "\n",
    "# Input:\n",
    "# [\"area\",\"lead\",\"wall\",\"lady\",\"ball\"]\n",
    "\n",
    "# Output:\n",
    "# [\n",
    "  # [ \"wall\",\n",
    "    # \"area\",\n",
    "    # \"lead\",\n",
    "    # \"lady\"\n",
    "  # ],\n",
    "  # [ \"ball\",\n",
    "    # \"area\",\n",
    "    # \"lead\",\n",
    "    # \"lady\"\n",
    "  # ]\n",
    "# ]\n",
    "\n",
    "# Explanation:\n",
    "# The output consists of two word squares. The order of output does not matter\n",
    "# (just the order of words in each word square matters)."
   ]
  },
  {
   "cell_type": "code",
   "execution_count": null,
   "metadata": {},
   "outputs": [],
   "source": [
    "import collections"
   ]
  },
  {
   "cell_type": "code",
   "execution_count": null,
   "metadata": {},
   "outputs": [],
   "source": [
    "def word_squares(words):\n",
    "    n = len(words[0])\n",
    "    fulls = collections.defaultdict(list)\n",
    "    for word in words:\n",
    "        for i in range(n):\n",
    "            fulls[word[:i]].append(word)\n",
    "\n",
    "    def build(square):\n",
    "        if len(square) == n:\n",
    "            squares.append(square)\n",
    "            return\n",
    "        prefix = \"\"\n",
    "        for k in range(len(square)):\n",
    "            prefix += square[k][len(square)]\n",
    "        for word in fulls[prefix]:\n",
    "            build(square + [word])\n",
    "    squares = []\n",
    "    for word in words:\n",
    "        build([word])\n",
    "    return squares"
   ]
  }
 ],
 "metadata": {
  "language_info": {
   "name": "python"
  }
 },
 "nbformat": 4,
 "nbformat_minor": 2
}
