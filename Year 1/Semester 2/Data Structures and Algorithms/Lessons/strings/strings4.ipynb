{
 "cells": [
  {
   "cell_type": "code",
   "execution_count": null,
   "metadata": {},
   "outputs": [],
   "source": [
    "# init from string 1 here"
   ]
  },
  {
   "cell_type": "markdown",
   "metadata": {},
   "source": [
    "## Knuth-Morris-Pratt (KMP) String Matching Algorithm"
   ]
  },
  {
   "cell_type": "code",
   "execution_count": null,
   "metadata": {},
   "outputs": [],
   "source": [
    "\"\"\"\n",
    "Given two strings text and pattern, return the list of start indexes in text that matches with the pattern\n",
    "using knuth_morris_pratt algorithm.\n",
    "\n",
    "Args:\n",
    "    text: Text to search\n",
    "    pattern: Pattern to search in the text\n",
    "Returns:\n",
    "    List of indices of patterns found\n",
    "\n",
    "Example:\n",
    "    >>> knuth_morris_pratt('hello there hero!', 'he')\n",
    "    [0, 7, 12]\n",
    "\n",
    "If idx is in the list, text[idx : idx + M] matches with pattern.\n",
    "Time complexity of the algorithm is O(N+M), with N and M the length of text and pattern, respectively.\n",
    "\"\"\""
   ]
  },
  {
   "cell_type": "code",
   "execution_count": null,
   "metadata": {},
   "outputs": [],
   "source": [
    "from typing import Sequence, List\n",
    "\n",
    "def knuth_morris_pratt(text : Sequence, pattern : Sequence) -> List[int]:\n",
    "    n = len(text)\n",
    "    m = len(pattern)\n",
    "    pi = [0 for i in range(m)]\n",
    "    i = 0\n",
    "    j = 0\n",
    "    # making pi table\n",
    "    for i in range(1, m):\n",
    "        while j and pattern[i] != pattern[j]:\n",
    "            j = pi[j - 1]\n",
    "        if pattern[i] == pattern[j]:\n",
    "            j += 1\n",
    "            pi[i] = j\n",
    "    # finding pattern\n",
    "    j = 0\n",
    "    ret = []\n",
    "    for i in range(n):\n",
    "        while j and text[i] != pattern[j]:\n",
    "            j = pi[j - 1]\n",
    "        if text[i] == pattern[j]:\n",
    "            j += 1\n",
    "            if j == m:\n",
    "                ret.append(i - m + 1)\n",
    "                j = pi[j - 1]\n",
    "    return ret\n"
   ]
  },
  {
   "cell_type": "markdown",
   "metadata": {},
   "source": [
    "## License Plate Formatting Function"
   ]
  },
  {
   "cell_type": "code",
   "execution_count": null,
   "metadata": {},
   "outputs": [],
   "source": [
    "def license_number(key, k):\n",
    "    res, alnum = [], []\n",
    "    for char in key:\n",
    "        if char != \"-\":\n",
    "            alnum.append(char)\n",
    "    for i, char in enumerate(reversed(alnum)):\n",
    "        res.append(char)\n",
    "        if (i+1) % k == 0 and i != len(alnum)-1:\n",
    "            res.append(\"-\")\n",
    "    return \"\".join(res[::-1])"
   ]
  },
  {
   "cell_type": "markdown",
   "metadata": {},
   "source": [
    "## Longest Common Prefix Function"
   ]
  },
  {
   "cell_type": "code",
   "execution_count": null,
   "metadata": {},
   "outputs": [],
   "source": [
    "\"\"\"\n",
    "Write a function to find the longest common prefix string amongst an array of strings.\n",
    "\n",
    "If there is no common prefix, return an empty string \"\".\n",
    "\n",
    "Example 1:\n",
    "Input: [\"flower\",\"flow\",\"flight\"]\n",
    "Output: \"fl\"\n",
    "\n",
    "Example 2:\n",
    "Input: [\"dog\",\"racecar\",\"car\"]\n",
    "Output: \"\"\n",
    "Explanation: There is no common prefix among the input strings.\n",
    "\"\"\"\n",
    "\n",
    "# Reference: https://leetcode.com/problems/longest-common-prefix/description/"
   ]
  },
  {
   "cell_type": "markdown",
   "metadata": {},
   "source": [
    "### First solution: Horizontal scanning"
   ]
  },
  {
   "cell_type": "code",
   "execution_count": null,
   "metadata": {},
   "outputs": [],
   "source": [
    "def common_prefix(s1, s2):\n",
    "    \"Return prefix common of 2 strings\"\n",
    "    if not s1 or not s2:\n",
    "        return \"\"\n",
    "    k = 0\n",
    "    while s1[k] == s2[k]:\n",
    "        k = k + 1\n",
    "        if k >= len(s1) or k >= len(s2):\n",
    "            return s1[0:k]\n",
    "    return s1[0:k]\n",
    "\n",
    "def longest_common_prefix_v1(strs):\n",
    "    if not strs:\n",
    "        return \"\"\n",
    "    result = strs[0]\n",
    "    for i in range(len(strs)):\n",
    "        result = common_prefix(result, strs[i])\n",
    "    return result"
   ]
  },
  {
   "cell_type": "markdown",
   "metadata": {},
   "source": [
    "### Second solution: Vertical scanning"
   ]
  },
  {
   "cell_type": "code",
   "execution_count": null,
   "metadata": {},
   "outputs": [],
   "source": [
    "def longest_common_prefix_v2(strs):\n",
    "    if not strs:\n",
    "        return \"\"\n",
    "    for i in range(len(strs[0])):\n",
    "        for string in strs[1:]:\n",
    "            if i == len(string) or string[i] != strs[0][i]:\n",
    "                return strs[0][0:i]\n",
    "    return strs[0]"
   ]
  },
  {
   "cell_type": "markdown",
   "metadata": {},
   "source": [
    "### Third solution: Divide and Conquer"
   ]
  },
  {
   "cell_type": "code",
   "execution_count": null,
   "metadata": {},
   "outputs": [],
   "source": [
    "def longest_common_prefix_v3(strs):\n",
    "    if not strs:\n",
    "        return \"\"\n",
    "    return longest_common(strs, 0, len(strs) -1)\n",
    "\n",
    "def longest_common(strs, left, right):\n",
    "    if left == right:\n",
    "        return strs[left]\n",
    "    mid = (left + right) // 2\n",
    "    lcp_left = longest_common(strs, left, mid)\n",
    "    lcp_right = longest_common(strs, mid + 1, right)\n",
    "    return common_prefix(lcp_left, lcp_right)"
   ]
  },
  {
   "cell_type": "markdown",
   "metadata": {},
   "source": [
    "## Longest Palindromic Substring Using Manacher's Algorithm"
   ]
  },
  {
   "cell_type": "code",
   "execution_count": null,
   "metadata": {},
   "outputs": [],
   "source": [
    "'''\n",
    "Given string s, find the longest palindromic substring.\n",
    "\n",
    "Example 1:\n",
    "\n",
    "* input: \"dasdasdasdasdasdadsa\"\n",
    "* output: \"asdadsa\"\n",
    "\n",
    "Example 2:\n",
    "\n",
    "* input: \"acdbbdaa\"\n",
    "* output: \"dbbd\"\n",
    "'''"
   ]
  },
  {
   "cell_type": "code",
   "execution_count": null,
   "metadata": {},
   "outputs": [],
   "source": [
    "def longest_palindrome(s):\n",
    "    if len(s) < 2:\n",
    "        return s\n",
    "\n",
    "    # Transform the string to avoid even/odd length issues\n",
    "    n_str = '#' + '#'.join(s) + '#'\n",
    "    p = [0] * len(n_str)  # Array to store the lengths of palindromes\n",
    "    mx, loc = 0, 0  # mx is the rightmost boundary of the rightmost palindrome\n",
    "    index, maxlen = 0, 0  # Variables to track the center index and max length\n",
    "\n",
    "    for i in range(len(n_str)):\n",
    "        if i < mx and 2 * loc - i < len(n_str):\n",
    "            p[i] = min(mx - i, p[2 * loc - i])  # Mirror of the palindrome length\n",
    "        \n",
    "        # Expand around the center\n",
    "        while p[i] + i < len(n_str) and i - p[i] >= 0 and n_str[i - p[i]] == n_str[i + p[i]]:\n",
    "            p[i] += 1\n",
    "\n",
    "        # Update the center and right boundary\n",
    "        if i + p[i] > mx:\n",
    "            mx = i + p[i]\n",
    "            loc = i\n",
    "\n",
    "        # Update max length and index of the palindrome\n",
    "        if p[i] > maxlen:\n",
    "            index = i\n",
    "            maxlen = p[i]\n",
    "\n",
    "    # Extract the longest palindromic substring\n",
    "    s = n_str[index - p[index] + 1:index + p[index]]\n",
    "    return s.replace('#', '')\n"
   ]
  },
  {
   "cell_type": "markdown",
   "metadata": {},
   "source": [
    "## Count Sentences Formed from a String Using a Dictionary"
   ]
  },
  {
   "cell_type": "code",
   "execution_count": null,
   "metadata": {},
   "outputs": [],
   "source": [
    "\"\"\"\n",
    "For a given string and dictionary, how many sentences can you make from the\n",
    "string, such that all the words are contained in the dictionary.\n",
    "\n",
    "eg: for given string -> \"appletablet\"\n",
    "\"apple\", \"tablet\"\n",
    "\"applet\", \"able\", \"t\"\n",
    "\"apple\", \"table\", \"t\"\n",
    "\"app\", \"let\", \"able\", \"t\"\n",
    "\n",
    "\"applet\", {app, let, apple, t, applet} => 3\n",
    "\"thing\", {\"thing\"} -> 1\n",
    "\"\"\""
   ]
  },
  {
   "cell_type": "code",
   "execution_count": null,
   "metadata": {},
   "outputs": [],
   "source": [
    "count = 0 \n",
    "\n",
    "def make_sentence(str_piece, dictionaries):\n",
    "    global count\n",
    "    if len(str_piece) == 0:  # Base case: empty string means a valid split\n",
    "        return True\n",
    "\n",
    "    # Iterate through possible prefixes\n",
    "    for i in range(1, len(str_piece) + 1):\n",
    "        prefix, suffix = str_piece[:i], str_piece[i:]\n",
    "        if prefix in dictionaries:  # Check if the prefix is in the dictionary\n",
    "            if suffix in dictionaries or make_sentence(suffix, dictionaries):\n",
    "                count += 1  # Valid combination found\n",
    "    return True\n"
   ]
  },
  {
   "cell_type": "markdown",
   "metadata": {},
   "source": [
    "## Algorithm to Check if a String Can Be Formed from Two Other Strings"
   ]
  },
  {
   "cell_type": "code",
   "execution_count": null,
   "metadata": {},
   "outputs": [],
   "source": [
    "\"\"\"\n",
    "At a job interview, you are challenged to write an algorithm to check if a \n",
    "given string, s, can be formed from two other strings, part1 and part2.\n",
    "The restriction is that the characters in part1 and part2 are in the same \n",
    "order as in s. The interviewer gives you the following example and tells \n",
    "you to figure out the rest from the given test cases.\n",
    "\n",
    "'codewars' is a merge from 'cdw' and 'oears':\n",
    "s:  c o d e w a r s   = codewars\n",
    "\n",
    "\n",
    "part1:  c   d   w         = cdw\n",
    "part2:    o   e   a r s   = oears\n",
    "\"\"\""
   ]
  },
  {
   "cell_type": "markdown",
   "metadata": {},
   "source": [
    "### Recursive Solution"
   ]
  },
  {
   "cell_type": "code",
   "execution_count": null,
   "metadata": {},
   "outputs": [],
   "source": [
    "def is_merge_recursive(s, part1, part2):\n",
    "    if not part1:\n",
    "        return s == part2\n",
    "    if not part2:\n",
    "        return s == part1\n",
    "    if not s:\n",
    "        return part1 + part2 == ''\n",
    "    if s[0] == part1[0] and is_merge_recursive(s[1:], part1[1:], part2):\n",
    "        return True\n",
    "    if s[0] == part2[0] and is_merge_recursive(s[1:], part1, part2[1:]):\n",
    "        return True\n",
    "    return False"
   ]
  },
  {
   "cell_type": "markdown",
   "metadata": {},
   "source": [
    "### An iterative approach"
   ]
  },
  {
   "cell_type": "code",
   "execution_count": null,
   "metadata": {},
   "outputs": [],
   "source": [
    "\n",
    "def is_merge_iterative(s, part1, part2):\n",
    "    tuple_list = [(s, part1, part2)]\n",
    "    while tuple_list:\n",
    "        string, p1, p2 = tuple_list.pop()            \n",
    "        if string:\n",
    "            if p1 and string[0] == p1[0]:\n",
    "                tuple_list.append((string[1:], p1[1:], p2))\n",
    "            if p2 and string[0] == p2[0]:\n",
    "                tuple_list.append((string[1:], p1, p2[1:]))\n",
    "        else:\n",
    "            if not p1 and not p2:\n",
    "                return True\n",
    "    return False"
   ]
  },
  {
   "cell_type": "markdown",
   "metadata": {},
   "source": [
    "## Algorithm to Find Minimum Steps to Make Two Words Identical"
   ]
  },
  {
   "cell_type": "code",
   "execution_count": null,
   "metadata": {},
   "outputs": [],
   "source": [
    "\"\"\"\n",
    "Given two words word1 and word2, find the minimum number of steps required to\n",
    "make word1 and word2 the same, where in each step you can delete one character\n",
    "in either string.\n",
    "\n",
    "For example:\n",
    "Input: \"sea\", \"eat\"\n",
    "Output: 2\n",
    "Explanation: You need one step to make \"sea\" to \"ea\" and another step to make \"eat\" to \"ea\".\n",
    "\"\"\""
   ]
  },
  {
   "cell_type": "code",
   "execution_count": null,
   "metadata": {},
   "outputs": [],
   "source": [
    "# Reference: https://leetcode.com/problems/delete-operation-for-two-strings/description/"
   ]
  },
  {
   "cell_type": "markdown",
   "metadata": {},
   "source": [
    "### Recursive approach"
   ]
  },
  {
   "cell_type": "code",
   "execution_count": null,
   "metadata": {},
   "outputs": [],
   "source": [
    "def min_distance(word1, word2):\n",
    "    \"\"\"\n",
    "    Finds minimum distance by getting longest common subsequence\n",
    "\n",
    "    :type word1: str\n",
    "    :type word2: str\n",
    "    :rtype: int\n",
    "    \"\"\"\n",
    "    return len(word1) + len(word2) - 2 * lcs(word1, word2, len(word1), len(word2))\n",
    "\n",
    "def lcs(word1, word2, i, j):\n",
    "    \"\"\"\n",
    "    The length of longest common subsequence among the two given strings word1 and word2\n",
    "    \"\"\"\n",
    "    if i == 0 or j == 0:\n",
    "        return 0\n",
    "    if word1[i - 1] == word2[j - 1]:\n",
    "        return 1 + lcs(word1, word2, i - 1, j - 1)\n",
    "    return max(lcs(word1, word2, i - 1, j), lcs(word1, word2, i, j - 1))"
   ]
  },
  {
   "cell_type": "markdown",
   "metadata": {},
   "source": [
    "### Dynamic Programming Approach"
   ]
  },
  {
   "cell_type": "code",
   "execution_count": null,
   "metadata": {},
   "outputs": [],
   "source": [
    "def min_distance_dp(word1, word2):\n",
    "    \"\"\"\n",
    "    Finds minimum distance in a dynamic programming manner\n",
    "    TC: O(length1*length2), SC: O(length1*length2)\n",
    "\n",
    "    :type word1: str\n",
    "    :type word2: str\n",
    "    :rtype: int\n",
    "    \"\"\"\n",
    "    length1, length2 = len(word1) + 1, len(word2) + 1\n",
    "    res = [[0 for _ in range(length2)] for _ in range(length1)]\n",
    "\n",
    "    for i in range(length1):\n",
    "        res[i][0] = i  # Deletion steps for word1\n",
    "    for j in range(length2):\n",
    "        res[0][j] = j  # Deletion steps for word2\n",
    "\n",
    "    for i in range(1, length1):\n",
    "        for j in range(1, length2):\n",
    "            if word1[i - 1] == word2[j - 1]:\n",
    "                res[i][j] = res[i - 1][j - 1]  # No deletion needed\n",
    "            else:\n",
    "                res[i][j] = min(res[i - 1][j], res[i][j - 1]) + 1  # Deletion needed\n",
    "\n",
    "    return res[len(word1)][len(word2)]\n"
   ]
  },
  {
   "cell_type": "code",
   "execution_count": null,
   "metadata": {},
   "outputs": [],
   "source": [
    "# Example test cases\n",
    "print(min_distance(\"sea\", \"eat\"))  # Output: 2\n",
    "\n",
    "# print(min_distance_dp(\"sea\", \"eat\"))  # Output: ?\n",
    "# print(min_distance(\"a\", \"b\"))  # Output: ?\n",
    "# print(min_distance_dp(\"a\", \"b\"))  # Output: ?\n"
   ]
  },
  {
   "cell_type": "code",
   "execution_count": null,
   "metadata": {},
   "outputs": [],
   "source": []
  }
 ],
 "metadata": {
  "language_info": {
   "name": "python"
  }
 },
 "nbformat": 4,
 "nbformat_minor": 2
}
