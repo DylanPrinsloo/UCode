{
 "cells": [
  {
   "cell_type": "code",
   "execution_count": null,
   "metadata": {},
   "outputs": [],
   "source": [
    "# init from string 1 here"
   ]
  },
  {
   "cell_type": "markdown",
   "metadata": {},
   "source": [
    "## Knuth-Morris-Pratt (KMP) String Matching Algorithm"
   ]
  },
  {
   "cell_type": "code",
   "execution_count": null,
   "metadata": {},
   "outputs": [],
   "source": [
    "\"\"\"\n",
    "Given two strings text and pattern, return the list of start indexes in text that matches with the pattern\n",
    "using knuth_morris_pratt algorithm.\n",
    "\n",
    "Args:\n",
    "    text: Text to search\n",
    "    pattern: Pattern to search in the text\n",
    "Returns:\n",
    "    List of indices of patterns found\n",
    "\n",
    "Example:\n",
    "    >>> knuth_morris_pratt('hello there hero!', 'he')\n",
    "    [0, 7, 12]\n",
    "\n",
    "If idx is in the list, text[idx : idx + M] matches with pattern.\n",
    "Time complexity of the algorithm is O(N+M), with N and M the length of text and pattern, respectively.\n",
    "\"\"\""
   ]
  },
  {
   "cell_type": "code",
   "execution_count": null,
   "metadata": {},
   "outputs": [],
   "source": [
    "from typing import Sequence, List\n",
    "\n",
    "def knuth_morris_pratt(text : Sequence, pattern : Sequence) -> List[int]:\n",
    "    n = len(text)\n",
    "    m = len(pattern)\n",
    "    pi = [0 for i in range(m)]\n",
    "    i = 0\n",
    "    j = 0\n",
    "    # making pi table\n",
    "    for i in range(1, m):\n",
    "        while j and pattern[i] != pattern[j]:\n",
    "            j = pi[j - 1]\n",
    "        if pattern[i] == pattern[j]:\n",
    "            j += 1\n",
    "            pi[i] = j\n",
    "    # finding pattern\n",
    "    j = 0\n",
    "    ret = []\n",
    "    for i in range(n):\n",
    "        while j and text[i] != pattern[j]:\n",
    "            j = pi[j - 1]\n",
    "        if text[i] == pattern[j]:\n",
    "            j += 1\n",
    "            if j == m:\n",
    "                ret.append(i - m + 1)\n",
    "                j = pi[j - 1]\n",
    "    return ret\n"
   ]
  }
 ],
 "metadata": {
  "language_info": {
   "name": "python"
  }
 },
 "nbformat": 4,
 "nbformat_minor": 2
}
