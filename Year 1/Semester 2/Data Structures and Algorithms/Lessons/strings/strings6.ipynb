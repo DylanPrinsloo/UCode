{
 "cells": [
  {
   "cell_type": "code",
   "execution_count": null,
   "metadata": {},
   "outputs": [],
   "source": [
    "# init from string 1 here"
   ]
  },
  {
   "cell_type": "markdown",
   "metadata": {},
   "source": [
    "## Reversal of Words in a String"
   ]
  },
  {
   "cell_type": "code",
   "execution_count": null,
   "metadata": {},
   "outputs": [],
   "source": [
    "def reverse(array, i, j):\n",
    "    while i < j:\n",
    "        array[i], array[j] = array[j], array[i]\n",
    "        i += 1\n",
    "        j -= 1\n",
    "\n",
    "\n",
    "def reverse_words(string):\n",
    "    arr = string.strip().split()  # arr is list of words\n",
    "    n = len(arr)\n",
    "    reverse(arr, 0, n-1)\n",
    "\n",
    "    return \" \".join(arr)\n",
    "\n",
    "\n",
    "if __name__ == \"__main__\":\n",
    "    test = \"I am keon kim and I like pizza\"\n",
    "    print(test)\n",
    "    print(reverse_words(test))"
   ]
  },
  {
   "cell_type": "code",
   "execution_count": null,
   "metadata": {},
   "outputs": [],
   "source": [
    "# Original string: I am keon kim and I like pizza -> is shown above\n",
    "\n",
    "# Reversed words: pizza like I and kim keon am I"
   ]
  },
  {
   "cell_type": "markdown",
   "metadata": {},
   "source": [
    "## Roman to integer"
   ]
  },
  {
   "cell_type": "code",
   "execution_count": null,
   "metadata": {},
   "outputs": [],
   "source": [
    "\"\"\"\n",
    "Given a roman numeral, convert it to an integer.\n",
    "Input is guaranteed to be within the range from 1 to 3999.\n",
    "\"\"\""
   ]
  },
  {
   "cell_type": "code",
   "execution_count": null,
   "metadata": {},
   "outputs": [],
   "source": [
    "def roman_to_int(s:\"str\")->\"int\":\n",
    "    number = 0\n",
    "    roman = {'M':1000, 'D':500, 'C': 100, 'L':50, 'X':10, 'V':5, 'I':1}\n",
    "    for i in range(len(s)-1):\n",
    "        if roman[s[i]] < roman[s[i+1]]:\n",
    "            number -= roman[s[i]]\n",
    "        else:\n",
    "            number += roman[s[i]]\n",
    "    return number + roman[s[-1]]\n",
    "\n",
    "\n",
    "if __name__ == \"__main__\":\n",
    "    roman = \"DCXXI\"\n",
    "    print(roman_to_int(roman))"
   ]
  },
  {
   "cell_type": "markdown",
   "metadata": {},
   "source": [
    "## String Rotation Function"
   ]
  },
  {
   "cell_type": "code",
   "execution_count": null,
   "metadata": {},
   "outputs": [],
   "source": [
    "\"\"\"\n",
    "Given a strings s and int k, return a string that rotates k times\n",
    "\n",
    "k can be any positive integer.\n",
    "\"\"\""
   ]
  },
  {
   "cell_type": "code",
   "execution_count": null,
   "metadata": {},
   "outputs": [],
   "source": [
    "def rotate(s, k):\n",
    "    long_string = s * (k // len(s) + 2)\n",
    "    if k <= len(s):\n",
    "        return long_string[k:k + len(s)]\n",
    "    else:\n",
    "        return long_string[k-len(s):k]\n",
    "    \n",
    "def rotate_alt(string, k):\n",
    "    k = k % len(string)\n",
    "    return string[k:] + string[:k]"
   ]
  },
  {
   "cell_type": "code",
   "execution_count": null,
   "metadata": {},
   "outputs": [],
   "source": [
    "rotate(\"hello\", 2) # return \"llohe\"\n",
    "\n",
    "# rotate(\"hello\", 5) return \"hello\"\n",
    "# rotate(\"hello\", 6) return \"elloh\"\n",
    "# rotate(\"hello\", 7) return \"llohe\"\n",
    "# rotate(\"hello\", 102) return \"lohel\""
   ]
  },
  {
   "cell_type": "markdown",
   "metadata": {},
   "source": []
  },
  {
   "cell_type": "code",
   "execution_count": null,
   "metadata": {},
   "outputs": [],
   "source": [
    "\"\"\"\n",
    "Write a function that does the following:\n",
    "Removes any duplicate query string parameters from the url\n",
    "Removes any query string parameters specified within the 2nd argument (optional array)\n",
    "\"\"\"\n"
   ]
  },
  {
   "cell_type": "code",
   "execution_count": null,
   "metadata": {},
   "outputs": [],
   "source": [
    "from collections import defaultdict\n",
    "import urllib\n",
    "import urllib.parse"
   ]
  },
  {
   "cell_type": "markdown",
   "metadata": {},
   "source": [
    "### strip_url_params1"
   ]
  },
  {
   "cell_type": "code",
   "execution_count": null,
   "metadata": {},
   "outputs": [],
   "source": [
    "def strip_url_params1(url, params_to_strip=None):\n",
    "    # Initialize the list of parameters to strip if none provided\n",
    "    if not params_to_strip:\n",
    "        params_to_strip = []\n",
    "        \n",
    "    # Check if the URL is non-empty\n",
    "    if url:\n",
    "        result = ''  # Final result to be returned\n",
    "        tokens = url.split('?')  # Split the URL into domain and query string\n",
    "        domain = tokens[0]  # Extract domain part\n",
    "        query_string = tokens[-1]  # Extract query string part\n",
    "        result += domain  # Start building the result with the domain\n",
    "\n",
    "        # Add '?' to result if there are query parameters\n",
    "        if len(tokens) > 1:\n",
    "            result += '?'\n",
    "        \n",
    "        # If there is no query string, return the original URL\n",
    "        if not query_string:\n",
    "            return url\n",
    "        else:\n",
    "            # Logic for removing duplicate query strings\n",
    "            key_value_string = []  # List to store key-value pairs\n",
    "            string = ''  # Temporary string to build keys and values\n",
    "            \n",
    "            # Build up key-value pairs by iterating through the query string characters\n",
    "            for char in query_string:\n",
    "                if char.isdigit():\n",
    "                    key_value_string.append(string + char)  # Complete the current key or value\n",
    "                    string = ''  # Reset for the next part\n",
    "                else:\n",
    "                    string += char  # Append the character to the current string\n",
    "            \n",
    "            # Dictionary to track added parameters and avoid duplicates\n",
    "            dict = defaultdict(int)\n",
    "\n",
    "            # Logic for adding parameters to the result\n",
    "            for i in key_value_string:\n",
    "                _token = i.split('=')  # Split key-value pair\n",
    "                if _token[0]:  # Ensure there is a key\n",
    "                    length = len(_token[0])  # Get the length of the key\n",
    "                    if length == 1:  # If the key is a single character\n",
    "                        if _token and (not(_token[0] in dict)):\n",
    "                            if params_to_strip:\n",
    "                                if _token[0] != params_to_strip[0]:  # Check if it's not in params to strip\n",
    "                                    dict[_token[0]] = _token[1]  # Add to dictionary\n",
    "                                    result = result + _token[0] + '=' + _token[1]  # Build the result\n",
    "                            else:\n",
    "                                if not _token[0] in dict:  # Check for duplicates\n",
    "                                    dict[_token[0]] = _token[1]\n",
    "                                    result = result + _token[0] + '=' + _token[1]\n",
    "                    else:  # Handle longer keys\n",
    "                        check = _token[0]\n",
    "                        letter = check[1]  # Use the second character for checking\n",
    "                        if _token and (not(letter in dict)):\n",
    "                            if params_to_strip:\n",
    "                                if letter != params_to_strip[0]:  # Check against params to strip\n",
    "                                    dict[letter] = _token[1]\n",
    "                                    result = result + _token[0] + '=' + _token[1]\n",
    "                            else:\n",
    "                                if not letter in dict:\n",
    "                                    dict[letter] = _token[1]\n",
    "                                    result = result + _token[0] + '=' + _token[1]\n",
    "    return result  # Return the final result\n"
   ]
  },
  {
   "cell_type": "markdown",
   "metadata": {},
   "source": [
    "### strip_url_params2"
   ]
  },
  {
   "cell_type": "code",
   "execution_count": null,
   "metadata": {},
   "outputs": [],
   "source": [
    "def strip_url_params2(url, param_to_strip=[]):\n",
    "    # Check if the URL contains query parameters\n",
    "    if '?' not in url:\n",
    "        return url  # Return the URL as is if no query parameters\n",
    "\n",
    "    # Split the query string from the URL and separate parameters\n",
    "    queries = (url.split('?')[1]).split('&')\n",
    "    queries_obj = [query[0] for query in queries]  # Extract only the keys\n",
    "\n",
    "    # Iterate backwards to remove duplicates and specified parameters\n",
    "    for i in range(len(queries_obj) - 1, 0, -1):\n",
    "        # Remove the parameter if it's in the params to strip or already exists\n",
    "        if queries_obj[i] in param_to_strip or queries_obj[i] in queries_obj[0:i]:\n",
    "            queries.pop(i)  # Remove the parameter from the list\n",
    "\n",
    "    # Reconstruct the URL with the modified query string\n",
    "    return url.split('?')[0] + '?' + '&'.join(queries)  # Combine domain and new query\n"
   ]
  },
  {
   "cell_type": "markdown",
   "metadata": {},
   "source": [
    "### strip_url_params3"
   ]
  },
  {
   "cell_type": "code",
   "execution_count": null,
   "metadata": {},
   "outputs": [],
   "source": [
    "def strip_url_params3(url, strip=None):\n",
    "    # Initialize the parameters to strip if none are provided\n",
    "    if not strip:\n",
    "        strip = []\n",
    "    \n",
    "    # Parse the URL into components\n",
    "    parse = urllib.parse.urlparse(url)\n",
    "    # Parse the query string into a dictionary\n",
    "    query = urllib.parse.parse_qs(parse.query)\n",
    "    \n",
    "    # Filter out the keys that are either in the strip list or are duplicates\n",
    "    query = {k: v[0] for k, v in query.items() if k not in strip}  \n",
    "    # Encode the filtered query parameters back into a query string\n",
    "    query = urllib.parse.urlencode(query)\n",
    "    # Replace the query part of the original URL with the new one\n",
    "    new = parse._replace(query=query)\n",
    "    \n",
    "    return new.geturl()  # Return the modified URL\n"
   ]
  },
  {
   "cell_type": "code",
   "execution_count": null,
   "metadata": {},
   "outputs": [],
   "source": [
    "# Try these examples\n",
    "\n",
    "# www.saadbenn.com?a=1&b=2\n",
    "# www.saadbenn.com?a=1&b=2\n",
    "# www.saadbenn.com?b=2\n"
   ]
  },
  {
   "cell_type": "markdown",
   "metadata": {},
   "source": [
    "## Determine Minimum Characters Needed for Strong Password"
   ]
  },
  {
   "cell_type": "code",
   "execution_count": null,
   "metadata": {},
   "outputs": [],
   "source": [
    "\"\"\"\n",
    "The signup page required her to input a name and a password. However, the password\n",
    "must be strong. The website considers a password to be strong if it satisfies the following criteria:\n",
    "\n",
    "1) Its length is at least 6.\n",
    "2) It contains at least one digit.\n",
    "3) It contains at least one lowercase English character.\n",
    "4) It contains at least one uppercase English character.\n",
    "5) It contains at least one special character. The special characters are: !@#$%^&*()-+\n",
    "She typed a random string of length  in the password field but wasn't sure if it was strong.\n",
    "Given the string she typed, can you find the minimum number of characters she must add to make her password strong?\n",
    "\n",
    "Note: Here's the set of types of characters in a form you can paste in your solution:\n",
    "numbers = \"0123456789\"\n",
    "lower_case = \"abcdefghijklmnopqrstuvwxyz\"\n",
    "upper_case = \"ABCDEFGHIJKLMNOPQRSTUVWXYZ\"\n",
    "special_characters = \"!@#$%^&*()-+\"\n",
    "\n",
    "Input Format\n",
    "The first line contains an integer  denoting the length of the string.\n",
    "The second line contains a string consisting of  characters, the password\n",
    "typed by Louise. Each character is either a lowercase/uppercase English alphabet, a digit, or a special character.\n",
    "\n",
    "Sample Input 1: strong_password(3,\"Ab1\")\n",
    "Output: 3 (Because She can make the password strong by adding  characters,for example, $hk, turning the password into Ab1$hk which is strong.\n",
    "2 characters aren't enough since the length must be at least 6.)\n",
    "\n",
    "Sample Output 2: strong_password(11,\"#Algorithms\")\n",
    "Output: 1 (Because the password isn't strong, but she can make it strong by adding a single digit.)\n",
    "\n",
    "\"\"\""
   ]
  },
  {
   "cell_type": "code",
   "execution_count": null,
   "metadata": {},
   "outputs": [],
   "source": [
    "def strong_password(n, password):\n",
    "    \"\"\"\n",
    "    Determine the minimum number of characters to add to make the password strong.\n",
    "\n",
    "    :param n: Length of the password string\n",
    "    :param password: The password string\n",
    "    :return: Minimum number of characters to add\n",
    "    \"\"\"\n",
    "    count_error = 0\n",
    "    \n",
    "    # Check for missing character types\n",
    "    if not any(i.isdigit() for i in password):\n",
    "        count_error += 1\n",
    "    if not any(i.islower() for i in password):\n",
    "        count_error += 1\n",
    "    if not any(i.isupper() for i in password):\n",
    "        count_error += 1\n",
    "    if not any(i in '!@#$%^&*()-+' for i in password):\n",
    "        count_error += 1\n",
    "        \n",
    "    # Ensure the length requirement is met\n",
    "    return max(count_error, 6 - n)"
   ]
  },
  {
   "cell_type": "code",
   "execution_count": null,
   "metadata": {},
   "outputs": [],
   "source": [
    "# print(strong_password(3, \"Ab1\"))          # Output: 3\n",
    "# print(strong_password(11, \"#Algorithms\"))  # Output: 1"
   ]
  },
  {
   "cell_type": "markdown",
   "metadata": {},
   "source": [
    "## Justifying Text"
   ]
  },
  {
   "cell_type": "code",
   "execution_count": null,
   "metadata": {},
   "outputs": [],
   "source": [
    "\"\"\"\n",
    "Given an array of words and a width maxWidth, format the text such that each line\n",
    "has exactly maxWidth characters and is fully (left and right) justified.\n",
    "\n",
    "You should pack your words in a greedy approach; that is, pack as many words as\n",
    "you can in each line. Pad extra spaces ' ' when necessary so that each line has\n",
    "exactly maxWidth characters.\n",
    "\n",
    "Extra spaces between words should be distributed as evenly as possible. If the\n",
    "number of spaces on a line do not divide evenly between words, the empty slots\n",
    "on the left will be assigned more spaces than the slots on the right.\n",
    "\n",
    "For the last line of text, it should be left justified and no extra space is\n",
    "inserted between words.\n",
    "\"\"\""
   ]
  },
  {
   "cell_type": "code",
   "execution_count": null,
   "metadata": {},
   "outputs": [],
   "source": [
    "\"\"\"\n",
    "Note:\n",
    "A word is defined as a character sequence consisting of non-space characters only.\n",
    "Each word's length is guaranteed to be greater than 0 and not exceed maxWidth.\n",
    "The input array words contains at least one word.\n",
    "\n",
    "Example:\n",
    "Input:\n",
    "words = [\"What\",\"must\",\"be\",\"acknowledgment\",\"shall\",\"be\"]\n",
    "maxWidth = 16\n",
    "Output:\n",
    "[\n",
    "  \"What   must   be\",\n",
    "  \"acknowledgment  \",\n",
    "  \"shall be        \"\n",
    "]\n",
    "\"\"\""
   ]
  },
  {
   "cell_type": "code",
   "execution_count": null,
   "metadata": {},
   "outputs": [],
   "source": [
    "def text_justification(words, max_width):\n",
    "    '''\n",
    "    :type words: list\n",
    "    :type max_width: int\n",
    "    :rtype: list\n",
    "    '''\n",
    "    ret = []  # return value\n",
    "    row_len = 0  # current length of strs in a row\n",
    "    row_words = []  # current words in a row\n",
    "    index = 0  # the index of current word in words\n",
    "    is_first_word = True  # is current word the first in a row\n",
    "    while index < len(words):\n",
    "        while row_len <= max_width and index < len(words):\n",
    "            if len(words[index]) > max_width:\n",
    "                raise ValueError(\"there exists word whose length is larger than max_width\")\n",
    "            tmp = row_len\n",
    "            row_words.append(words[index])\n",
    "            tmp += len(words[index])\n",
    "            if not is_first_word:\n",
    "                tmp += 1  # except for the first word, each word should have at least a ' ' before it.\n",
    "            if tmp > max_width:\n",
    "                row_words.pop()\n",
    "                break\n",
    "            row_len = tmp\n",
    "            index += 1\n",
    "            is_first_word = False\n",
    "        # here we have already got a row of str , then we should supplement enough ' ' to make sure the length is max_width.\n",
    "        row = \"\"\n",
    "        # if the row is the last\n",
    "        if index == len(words):\n",
    "            for word in row_words:\n",
    "                row += (word + ' ')\n",
    "            row = row[:-1]\n",
    "            row += ' ' * (max_width - len(row))\n",
    "        # not the last row and more than one word\n",
    "        elif len(row_words) != 1:\n",
    "            space_num = max_width - row_len\n",
    "            space_num_of_each_interval = space_num // (len(row_words) - 1)\n",
    "            space_num_rest = space_num - space_num_of_each_interval * (len(row_words) - 1)\n",
    "            for j in range(len(row_words)):\n",
    "                row += row_words[j]\n",
    "                if j != len(row_words) - 1:\n",
    "                    row += ' ' * (1 + space_num_of_each_interval)\n",
    "                if space_num_rest > 0:\n",
    "                    row += ' '\n",
    "                    space_num_rest -= 1\n",
    "        # row with only one word\n",
    "        else:\n",
    "            row += row_words[0]\n",
    "            row += ' ' * (max_width - len(row))\n",
    "        ret.append(row)\n",
    "        # after a row , reset those value\n",
    "        row_len = 0\n",
    "        row_words = []\n",
    "        is_first_word = True\n",
    "    return ret\n"
   ]
  }
 ],
 "metadata": {
  "language_info": {
   "name": "python"
  }
 },
 "nbformat": 4,
 "nbformat_minor": 2
}
