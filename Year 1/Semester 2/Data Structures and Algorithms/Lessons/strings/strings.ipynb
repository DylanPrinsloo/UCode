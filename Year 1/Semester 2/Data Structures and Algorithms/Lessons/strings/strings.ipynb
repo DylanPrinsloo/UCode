{
 "cells": [
  {
   "cell_type": "markdown",
   "metadata": {},
   "source": [
    "# String algorithms\n",
    "\n",
    "####  these are methods or procedures designed to process and manipulate strings (sequences of characters)"
   ]
  },
  {
   "cell_type": "code",
   "execution_count": null,
   "metadata": {},
   "outputs": [],
   "source": [
    "# init\n",
    "from .add_binary import *\n",
    "from .breaking_bad import *\n",
    "from .decode_string import *\n",
    "from .delete_reoccurring import *\n",
    "from .domain_extractor import *\n",
    "from .encode_decode import *\n",
    "from .group_anagrams import *\n",
    "from .int_to_roman import *\n",
    "from .is_palindrome import *\n",
    "from .is_rotated import *\n",
    "from .license_number import *\n",
    "from .make_sentence import *\n",
    "from .merge_string_checker import *\n",
    "from .multiply_strings import *\n",
    "from .one_edit_distance import *\n",
    "from .rabin_karp import *\n",
    "from .reverse_string import *\n",
    "from .reverse_vowel import *\n",
    "from .reverse_words import *\n",
    "from .roman_to_int import *\n",
    "from .strip_url_params import *\n",
    "from .validate_coordinates import *\n",
    "from .word_squares import *\n",
    "from .unique_morse import *\n",
    "from .judge_circle import *\n",
    "from .strong_password import *\n",
    "from .caesar_cipher import *\n",
    "from .check_pangram import *\n",
    "from .contain_string import *\n",
    "from .count_binary_substring import *\n",
    "from .repeat_string import *\n",
    "from .text_justification import *\n",
    "from .min_distance import *\n",
    "from .longest_common_prefix import *\n",
    "from .rotate import *\n",
    "from .first_unique_char import *\n",
    "from .repeat_substring import *\n",
    "from .atbash_cipher import *\n",
    "from .longest_palindromic_substring import *\n",
    "from .knuth_morris_pratt import *\n",
    "from .panagram import *"
   ]
  },
  {
   "cell_type": "markdown",
   "metadata": {},
   "source": [
    "## Binary String Addition\n"
   ]
  },
  {
   "cell_type": "code",
   "execution_count": null,
   "metadata": {},
   "outputs": [],
   "source": [
    "\"\"\"\n",
    "Given two binary strings,\n",
    "return their sum (also a binary string).\n",
    "\n",
    "For example,\n",
    "a = \"11\"\n",
    "b = \"1\"\n",
    "Return \"100\".\n",
    "\"\"\""
   ]
  },
  {
   "cell_type": "code",
   "execution_count": null,
   "metadata": {},
   "outputs": [],
   "source": [
    "def add_binary(a, b):\n",
    "    s = \"\"\n",
    "    c, i, j = 0, len(a)-1, len(b)-1\n",
    "    zero = ord('0')\n",
    "    while (i >= 0 or j >= 0 or c == 1):\n",
    "        if (i >= 0):\n",
    "            c += ord(a[i]) - zero\n",
    "            i -= 1\n",
    "        if (j >= 0):\n",
    "            c += ord(b[j]) - zero\n",
    "            j -= 1\n",
    "        s = chr(c % 2 + zero) + s\n",
    "        c //= 2 \n",
    "        \n",
    "    return s\n"
   ]
  },
  {
   "cell_type": "markdown",
   "metadata": {},
   "source": [
    "## Atbash Cipher Implementation"
   ]
  },
  {
   "cell_type": "code",
   "execution_count": null,
   "metadata": {},
   "outputs": [],
   "source": [
    "\"\"\"\n",
    "Atbash cipher is mapping the alphabet to it's reverse.\n",
    "So if we take \"a\" as it is the first letter, we change it to the last - z.\n",
    "\n",
    "Example:\n",
    "Attack at dawn --> Zggzxp zg wzdm\n",
    "\n",
    "Complexity: O(n)\n",
    "\"\"\""
   ]
  },
  {
   "cell_type": "code",
   "execution_count": null,
   "metadata": {},
   "outputs": [],
   "source": [
    "def atbash(s):\n",
    "    translated = \"\"\n",
    "    for i in range(len(s)):\n",
    "        n = ord(s[i])\n",
    "        \n",
    "        if s[i].isalpha():\n",
    "            \n",
    "            if s[i].isupper():\n",
    "                x = n - ord('A')\n",
    "                translated += chr(ord('Z') - x)\n",
    "            \n",
    "            if s[i].islower():\n",
    "                x = n - ord('a')\n",
    "                translated += chr(ord('z') - x)\n",
    "        else:\n",
    "            translated += s[i]\n",
    "    return translated"
   ]
  },
  {
   "cell_type": "markdown",
   "metadata": {},
   "source": [
    "## Symbol Matching in Words with Longest Symbol Preference"
   ]
  },
  {
   "cell_type": "code",
   "execution_count": null,
   "metadata": {},
   "outputs": [],
   "source": [
    "\"\"\"\n",
    "Given an api which returns an array of words and an array of symbols, display\n",
    "the word with their matched symbol surrounded by square brackets.\n",
    "\n",
    "If the word string matches more than one symbol, then choose the one with\n",
    "longest length. (ex. 'Microsoft' matches 'i' and 'cro'):\n",
    "\n",
    "Example:\n",
    "Words array: ['Amazon', 'Microsoft', 'Google']\n",
    "Symbols: ['i', 'Am', 'cro', 'Na', 'le', 'abc']\n",
    "\n",
    "Output:\n",
    "[Am]azon, Mi[cro]soft, Goog[le]\n",
    "\n",
    "My solution(Wrong):\n",
    "(I sorted the symbols array in descending order of length and ran loop over\n",
    "words array to find a symbol match(using indexOf in javascript) which\n",
    "worked. But I didn't make it through the interview, I am guessing my solution\n",
    "was O(n^2) and they expected an efficient algorithm.\n",
    "\n",
    "output:\n",
    "['[Am]azon', 'Mi[cro]soft', 'Goog[le]', 'Amaz[o]n', 'Micr[o]s[o]ft', 'G[o][o]gle']\n",
    "\"\"\""
   ]
  },
  {
   "cell_type": "code",
   "execution_count": null,
   "metadata": {},
   "outputs": [],
   "source": [
    "from functools import reduce"
   ]
  },
  {
   "cell_type": "code",
   "execution_count": null,
   "metadata": {},
   "outputs": [],
   "source": [
    "def match_symbol(words, symbols):\n",
    "    import re\n",
    "    combined = []\n",
    "    for s in symbols:\n",
    "        for c in words:\n",
    "            r = re.search(s, c)\n",
    "            if r:\n",
    "                combined.append(re.sub(s, \"[{}]\".format(s), c))\n",
    "    return combined"
   ]
  },
  {
   "cell_type": "code",
   "execution_count": null,
   "metadata": {},
   "outputs": [],
   "source": [
    "def match_symbol_1(words, symbols):\n",
    "    res = []\n",
    "    # reversely sort the symbols according to their lengths.\n",
    "    symbols = sorted(symbols, key=lambda _: len(_), reverse=True)\n",
    "    for word in words:\n",
    "        for symbol in symbols:\n",
    "            word_replaced = ''\n",
    "            # once match, append the `word_replaced` to res, process next word\n",
    "            if word.find(symbol) != -1:\n",
    "                word_replaced = word.replace(symbol, '[' + symbol + ']')\n",
    "                res.append(word_replaced)\n",
    "                break\n",
    "        # if this word matches no symbol, append it.\n",
    "        if word_replaced == '':\n",
    "            res.append(word)\n",
    "    return res"
   ]
  },
  {
   "cell_type": "code",
   "execution_count": null,
   "metadata": {},
   "outputs": [],
   "source": [
    "\"\"\"\n",
    "Another approach is to use a Tree for the dictionary (the symbols), and then\n",
    "match brute force. The complexity will depend on the dictionary;\n",
    "if all are suffixes of the other, it will be n*m\n",
    "(where m is the size of the dictionary). For example, in Python:\n",
    "\"\"\""
   ]
  },
  {
   "cell_type": "code",
   "execution_count": null,
   "metadata": {},
   "outputs": [],
   "source": [
    "class TreeNode:\n",
    "    def __init__(self):\n",
    "        self.c = dict()\n",
    "        self.sym = None\n",
    "\n",
    "\n",
    "def bracket(words, symbols):\n",
    "    root = TreeNode()\n",
    "    for s in symbols:\n",
    "        t = root\n",
    "        for char in s:\n",
    "            if char not in t.c:\n",
    "                t.c[char] = TreeNode()\n",
    "            t = t.c[char]\n",
    "        t.sym = s\n",
    "    result = dict()\n",
    "    for word in words:\n",
    "        i = 0\n",
    "        symlist = list()\n",
    "        while i < len(word):\n",
    "            j, t = i, root\n",
    "            while j < len(word) and word[j] in t.c:\n",
    "                t = t.c[word[j]]\n",
    "                if t.sym is not None:\n",
    "                    symlist.append((j + 1 - len(t.sym), j + 1, t.sym))\n",
    "                j += 1\n",
    "            i += 1\n",
    "        if len(symlist) > 0:\n",
    "            sym = reduce(lambda x, y: x if x[1] - x[0] >= y[1] - y[0] else y,\n",
    "                         symlist)\n",
    "            result[word] = \"{}[{}]{}\".format(word[:sym[0]], sym[2],\n",
    "                                             word[sym[1]:])\n",
    "    return tuple(word if word not in result else result[word] for word in words)"
   ]
  },
  {
   "cell_type": "markdown",
   "metadata": {},
   "source": [
    "## Caesar Cipher Encryption\n"
   ]
  },
  {
   "cell_type": "code",
   "execution_count": null,
   "metadata": {},
   "outputs": [],
   "source": [
    "\"\"\"\n",
    "Julius Caesar protected his confidential information by encrypting it using a cipher.\n",
    "Caesar's cipher shifts each letter by a number of letters. If the shift takes you\n",
    "past the end of the alphabet, just rotate back to the front of the alphabet.\n",
    "In the case of a rotation by 3, w, x, y and z would map to z, a, b and c.\n",
    "Original alphabet:      abcdefghijklmnopqrstuvwxyz\n",
    "Alphabet rotated +3:    defghijklmnopqrstuvwxyzabc\n",
    "\"\"\""
   ]
  },
  {
   "cell_type": "code",
   "execution_count": null,
   "metadata": {},
   "outputs": [],
   "source": [
    "def caesar_cipher(s, k):\n",
    "    result = \"\"\n",
    "    for char in s:\n",
    "        n = ord(char)\n",
    "        if 64 < n < 91:\n",
    "            n = ((n - 65 + k) % 26) + 65\n",
    "        if 96 < n < 123:\n",
    "            n = ((n - 97 + k) % 26) + 97\n",
    "        result = result + chr(n)\n",
    "    return result"
   ]
  },
  {
   "cell_type": "markdown",
   "metadata": {},
   "source": [
    "## Pangram Check Algorithm"
   ]
  },
  {
   "cell_type": "code",
   "execution_count": null,
   "metadata": {},
   "outputs": [],
   "source": [
    "\"\"\"\n",
    "Algorithm that checks if a given string is a pangram or not\n",
    "\"\"\""
   ]
  },
  {
   "cell_type": "code",
   "execution_count": null,
   "metadata": {},
   "outputs": [],
   "source": [
    "def check_pangram(input_string):\n",
    "    alphabet = \"abcdefghijklmnopqrstuvwxyz\"\n",
    "    for ch in alphabet:\n",
    "        if ch not in input_string.lower():\n",
    "            return False\n",
    "    return True "
   ]
  },
  {
   "cell_type": "markdown",
   "metadata": {},
   "source": [
    "## Implementing `strStr()` Function\n"
   ]
  },
  {
   "cell_type": "code",
   "execution_count": null,
   "metadata": {},
   "outputs": [],
   "source": [
    "\"\"\"\n",
    "Implement strStr().\n",
    "\n",
    "Return the index of the first occurrence of needle in haystack, or -1 if needle is not part of haystack.\n",
    "\n",
    "Example 1:\n",
    "Input: haystack = \"hello\", needle = \"ll\"\n",
    "Output: 2\n",
    "\n",
    "Example 2:\n",
    "Input: haystack = \"aaaaa\", needle = \"bba\"\n",
    "Output: -1\n",
    "\"\"\""
   ]
  },
  {
   "cell_type": "code",
   "execution_count": null,
   "metadata": {},
   "outputs": [],
   "source": [
    "# Reference: https://leetcode.com/problems/implement-strstr/description/\n",
    "\n",
    "def contain_string(haystack, needle):\n",
    "    if len(needle) == 0:\n",
    "        return 0\n",
    "    if len(needle) > len(haystack):\n",
    "        return -1\n",
    "    for i in range(len(haystack)):\n",
    "        if len(haystack) - i < len(needle):\n",
    "            return -1\n",
    "        if haystack[i:i+len(needle)] == needle:\n",
    "            return i\n",
    "    return -1"
   ]
  }
 ],
 "metadata": {
  "language_info": {
   "name": "python"
  }
 },
 "nbformat": 4,
 "nbformat_minor": 2
}
