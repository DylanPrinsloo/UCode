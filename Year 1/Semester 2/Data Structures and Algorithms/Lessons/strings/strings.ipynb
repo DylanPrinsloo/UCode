{
 "cells": [
  {
   "cell_type": "markdown",
   "metadata": {},
   "source": [
    "# String algorithms\n",
    "\n",
    "####  these are methods or procedures designed to process and manipulate strings (sequences of characters)"
   ]
  },
  {
   "cell_type": "code",
   "execution_count": null,
   "metadata": {},
   "outputs": [],
   "source": [
    "# init\n",
    "from .add_binary import *\n",
    "from .breaking_bad import *\n",
    "from .decode_string import *\n",
    "from .delete_reoccurring import *\n",
    "from .domain_extractor import *\n",
    "from .encode_decode import *\n",
    "from .group_anagrams import *\n",
    "from .int_to_roman import *\n",
    "from .is_palindrome import *\n",
    "from .is_rotated import *\n",
    "from .license_number import *\n",
    "from .make_sentence import *\n",
    "from .merge_string_checker import *\n",
    "from .multiply_strings import *\n",
    "from .one_edit_distance import *\n",
    "from .rabin_karp import *\n",
    "from .reverse_string import *\n",
    "from .reverse_vowel import *\n",
    "from .reverse_words import *\n",
    "from .roman_to_int import *\n",
    "from .strip_url_params import *\n",
    "from .validate_coordinates import *\n",
    "from .word_squares import *\n",
    "from .unique_morse import *\n",
    "from .judge_circle import *\n",
    "from .strong_password import *\n",
    "from .caesar_cipher import *\n",
    "from .check_pangram import *\n",
    "from .contain_string import *\n",
    "from .count_binary_substring import *\n",
    "from .repeat_string import *\n",
    "from .text_justification import *\n",
    "from .min_distance import *\n",
    "from .longest_common_prefix import *\n",
    "from .rotate import *\n",
    "from .first_unique_char import *\n",
    "from .repeat_substring import *\n",
    "from .atbash_cipher import *\n",
    "from .longest_palindromic_substring import *\n",
    "from .knuth_morris_pratt import *\n",
    "from .panagram import *"
   ]
  },
  {
   "cell_type": "markdown",
   "metadata": {},
   "source": []
  },
  {
   "cell_type": "code",
   "execution_count": null,
   "metadata": {},
   "outputs": [],
   "source": [
    "# adding content"
   ]
  }
 ],
 "metadata": {
  "language_info": {
   "name": "python"
  }
 },
 "nbformat": 4,
 "nbformat_minor": 2
}
