{
 "cells": [
  {
   "cell_type": "code",
   "execution_count": 2,
   "metadata": {},
   "outputs": [],
   "source": [
    "# init from string 1 here"
   ]
  },
  {
   "cell_type": "markdown",
   "metadata": {},
   "source": [
    "## Grouping Anagrams"
   ]
  },
  {
   "cell_type": "code",
   "execution_count": null,
   "metadata": {},
   "outputs": [],
   "source": [
    "\"\"\"\n",
    "Given an array of strings, group anagrams together.\n",
    "\n",
    "For example, given: [\"eat\", \"tea\", \"tan\", \"ate\", \"nat\", \"bat\"],\n",
    "Return:\n",
    "\n",
    "[\n",
    "  [\"ate\", \"eat\",\"tea\"],\n",
    "  [\"nat\",\"tan\"],\n",
    "  [\"bat\"]\n",
    "]\n",
    "\"\"\""
   ]
  },
  {
   "cell_type": "code",
   "execution_count": null,
   "metadata": {},
   "outputs": [],
   "source": [
    "def group_anagrams(strs):\n",
    "    d = {}\n",
    "    ans = []\n",
    "    k = 0\n",
    "    for str in strs:\n",
    "        sstr = ''.join(sorted(str))\n",
    "        if sstr not in d:\n",
    "            d[sstr] = k\n",
    "            k += 1\n",
    "            ans.append([])\n",
    "            ans[-1].append(str)\n",
    "        else:\n",
    "            ans[d[sstr]].append(str)\n",
    "    return ans"
   ]
  },
  {
   "cell_type": "markdown",
   "metadata": {},
   "source": [
    "## Integer to Roman Numeral Conversion"
   ]
  },
  {
   "cell_type": "code",
   "execution_count": null,
   "metadata": {},
   "outputs": [],
   "source": [
    "\"\"\"\n",
    "Given an integer, convert it to a roman numeral.\n",
    "Input is guaranteed to be within the range from 1 to 3999.\n",
    "\"\"\""
   ]
  },
  {
   "cell_type": "code",
   "execution_count": null,
   "metadata": {},
   "outputs": [],
   "source": [
    "def int_to_roman(num):\n",
    "    \"\"\"\n",
    "    :type num: int\n",
    "    :rtype: str\n",
    "    \"\"\"\n",
    "    m = [\"\", \"M\", \"MM\", \"MMM\"]\n",
    "    c = [\"\", \"C\", \"CC\", \"CCC\", \"CD\", \"D\", \"DC\", \"DCC\", \"DCCC\", \"CM\"]\n",
    "    x = [\"\", \"X\", \"XX\", \"XXX\", \"XL\", \"L\", \"LX\", \"LXX\", \"LXXX\", \"XC\"]\n",
    "    i = [\"\", \"I\", \"II\", \"III\", \"IV\", \"V\", \"VI\", \"VII\", \"VIII\", \"IX\"]\n",
    "    return m[num//1000] + c[(num%1000)//100] + x[(num%100)//10] + i[num%10]"
   ]
  },
  {
   "cell_type": "markdown",
   "metadata": {},
   "source": []
  },
  {
   "cell_type": "code",
   "execution_count": null,
   "metadata": {},
   "outputs": [],
   "source": []
  },
  {
   "cell_type": "code",
   "execution_count": null,
   "metadata": {},
   "outputs": [],
   "source": [
    "\"\"\"\n",
    "Given a string, determine if it is a palindrome,\n",
    "considering only alphanumeric characters and ignoring cases.\n",
    "For example,\n",
    "\"A man, a plan, a canal: Panama\" is a palindrome.\n",
    "\"race a car\" is not a palindrome.\n",
    "Note:\n",
    "Have you consider that the string might be empty?\n",
    "This is a good question to ask during an interview.\n",
    "For the purpose of this problem,\n",
    "we define empty string as valid palindrome.\n",
    "\"\"\""
   ]
  },
  {
   "cell_type": "code",
   "execution_count": null,
   "metadata": {},
   "outputs": [],
   "source": [
    "\"\"\"\n",
    "Here is a bunch of other variations of is_palindrome function.\n",
    "\n",
    "Variation 1:\n",
    "Find the reverse of the string and compare it with the original string\n",
    "\n",
    "Variation 2:\n",
    "Loop from the start to length/2 and check the first character and last character\n",
    "and so on... for instance s[0] compared with s[n-1], s[1] == s[n-2]...\n",
    "\n",
    "Variation 3:\n",
    "Using stack idea. \n",
    "\n",
    "Note: We are assuming that we are just checking a one word string. To check if a complete sentence \n",
    "\"\"\" "
   ]
  },
  {
   "cell_type": "code",
   "execution_count": null,
   "metadata": {},
   "outputs": [],
   "source": [
    "from string import ascii_letters\n",
    "from collections import deque\n",
    "\n",
    "\n",
    "def is_palindrome(s):\n",
    "    \"\"\"\n",
    "    :type s: str\n",
    "    :rtype: bool\n",
    "    \"\"\"\n",
    "    i = 0\n",
    "    j = len(s)-1\n",
    "    while i < j:\n",
    "        while not s[i].isalnum():\n",
    "            i += 1\n",
    "        while not s[j].isalnum():\n",
    "            j -= 1\n",
    "        if s[i].lower() != s[j].lower():\n",
    "            return False\n",
    "        i, j = i+1, j-1\n",
    "    return True"
   ]
  },
  {
   "cell_type": "code",
   "execution_count": null,
   "metadata": {},
   "outputs": [],
   "source": [
    "\"\"\"\n",
    "Here is a bunch of other variations of is_palindrome function.\n",
    "\n",
    "Variation 1:\n",
    "Find the reverse of the string and compare it with the original string\n",
    "\n",
    "Variation 2:\n",
    "Loop from the start to length/2 and check the first character and last character\n",
    "and so on... for instance s[0] compared with s[n-1], s[1] == s[n-2]...\n",
    "\n",
    "Variation 3:\n",
    "Using stack idea. \n",
    "\n",
    "Note: We are assuming that we are just checking a one word string. To check if a complete sentence \n",
    "\"\"\" "
   ]
  },
  {
   "cell_type": "code",
   "execution_count": null,
   "metadata": {},
   "outputs": [],
   "source": [
    "def remove_punctuation(s):\n",
    "    \"\"\"\n",
    "    Remove punctuation, case sensitivity and spaces\n",
    "    \"\"\"\n",
    "    return \"\".join(i.lower() for i in s if i in ascii_letters)\n",
    "\n",
    "# Variation 1\n",
    "def string_reverse(s):\n",
    "\treturn s[::-1]\n",
    "\n",
    "def is_palindrome_reverse(s):\n",
    "\ts = remove_punctuation(s)\n",
    "\t\n",
    "\t# can also get rid of the string_reverse function and just do this return s == s[::-1] in one line.\n",
    "\tif (s == string_reverse(s)): \n",
    "\t\treturn True\n",
    "\treturn False\t\n",
    "\n",
    "\n",
    "# Variation 2\n",
    "def is_palindrome_two_pointer(s):\n",
    "    s = remove_punctuation(s)\n",
    "\t\n",
    "    for i in range(0, len(s)//2):\n",
    "        if (s[i] != s[len(s) - i - 1]):\n",
    "            return False\n",
    "    return True\n",
    "\t\n",
    "\n",
    "# Variation 3\n",
    "def is_palindrome_stack(s):\n",
    "    stack = []\n",
    "    s = remove_punctuation(s)\n",
    "\t\n",
    "    for i in range(len(s)//2, len(s)):\n",
    "        stack.append(s[i])\n",
    "    for i in range(0, len(s)//2):\n",
    "        if s[i] != stack.pop():\n",
    "            return False\n",
    "    return True\t\n",
    "\n",
    "# Variation 4 (using deque)\n",
    "def is_palindrome_deque(s):\n",
    "    s = remove_punctuation(s)\n",
    "    deq = deque()\n",
    "    for char in s:\n",
    "        deq.appendleft(char)\n",
    "\n",
    "    equal = True\n",
    "\n",
    "    while len(deq) > 1 and equal:\n",
    "        first = deq.pop()\n",
    "        last = deq.popleft()\n",
    "        if first != last :\n",
    "            equal = False\n",
    "\n",
    "    return equal"
   ]
  },
  {
   "cell_type": "markdown",
   "metadata": {},
   "source": [
    "## Rotated String Checker"
   ]
  },
  {
   "cell_type": "code",
   "execution_count": null,
   "metadata": {},
   "outputs": [],
   "source": [
    "\"\"\"\n",
    "Given two strings s1 and s2, determine if s2 is a rotated version of s1.\n",
    "For example,\n",
    "is_rotated(\"hello\", \"llohe\") returns True\n",
    "is_rotated(\"hello\", \"helol\") returns False\n",
    "\n",
    "accepts two strings\n",
    "returns bool\n",
    "\"\"\""
   ]
  },
  {
   "cell_type": "code",
   "execution_count": null,
   "metadata": {},
   "outputs": [],
   "source": [
    "# Reference: https://leetcode.com/problems/rotate-string/description/\n",
    "\n",
    "def is_rotated(s1, s2):\n",
    "    if len(s1) == len(s2):\n",
    "        return s2 in s1 + s1\n",
    "    else:\n",
    "        return False"
   ]
  },
  {
   "cell_type": "code",
   "execution_count": null,
   "metadata": {},
   "outputs": [],
   "source": [
    "\n",
    "# Another solution: brutal force\n",
    "# Complexity: O(N^2)\n",
    "\n",
    "def is_rotated_v1(s1, s2):\n",
    "    if len(s1) != len(s2):\n",
    "        return False\n",
    "    if len(s1) == 0:\n",
    "        return True\n",
    "\n",
    "    for c in range(len(s1)):\n",
    "        if all(s1[(c + i) % len(s1)] == s2[i] for i in range(len(s1))):\n",
    "            return True\n",
    "    return False"
   ]
  },
  {
   "cell_type": "markdown",
   "metadata": {},
   "source": [
    "## Robot Circle Checker"
   ]
  },
  {
   "cell_type": "code",
   "execution_count": null,
   "metadata": {},
   "outputs": [],
   "source": [
    "\"\"\"\n",
    "Initially, there is a Robot at position (0, 0). Given a sequence of its moves,\n",
    "judge if this robot makes a circle, which means it moves back to the original place.\n",
    "\n",
    "The move sequence is represented by a string. And each move is represent by a\n",
    "character. The valid robot moves are R (Right), L (Left), U (Up) and D (down).\n",
    "The output should be true or false representing whether the robot makes a circle.\n",
    "\n",
    "Example 1:\n",
    "Input: \"UD\"\n",
    "Output: true\n",
    "Example 2:\n",
    "Input: \"LL\"\n",
    "Output: false\n",
    "\"\"\""
   ]
  },
  {
   "cell_type": "code",
   "execution_count": null,
   "metadata": {},
   "outputs": [],
   "source": [
    "def judge_circle(moves):\n",
    "    dict_moves = {\n",
    "        'U' : 0,\n",
    "        'D' : 0,\n",
    "        'R' : 0,\n",
    "        'L' : 0\n",
    "    }\n",
    "    for char in moves:\n",
    "        dict_moves[char] = dict_moves[char] + 1\n",
    "    return dict_moves['L'] == dict_moves['R'] and dict_moves['U'] == dict_moves['D']"
   ]
  }
 ],
 "metadata": {
  "kernelspec": {
   "display_name": "Python 3",
   "language": "python",
   "name": "python3"
  },
  "language_info": {
   "codemirror_mode": {
    "name": "ipython",
    "version": 3
   },
   "file_extension": ".py",
   "mimetype": "text/x-python",
   "name": "python",
   "nbconvert_exporter": "python",
   "pygments_lexer": "ipython3",
   "version": "3.12.4"
  }
 },
 "nbformat": 4,
 "nbformat_minor": 2
}
