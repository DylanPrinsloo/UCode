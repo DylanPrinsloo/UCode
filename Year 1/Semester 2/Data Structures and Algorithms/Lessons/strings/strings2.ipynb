{
 "cells": [
  {
   "cell_type": "code",
   "execution_count": null,
   "metadata": {},
   "outputs": [],
   "source": [
    "# init from string 1 here"
   ]
  },
  {
   "cell_type": "markdown",
   "metadata": {},
   "source": [
    "## Count Binary Substrings Algorithm"
   ]
  },
  {
   "cell_type": "code",
   "execution_count": null,
   "metadata": {},
   "outputs": [],
   "source": [
    "\"\"\"\n",
    "Give a string s, count the number of non-empty (contiguous) substrings that have\n",
    " the same number of 0's and 1's, and all the 0's and all the 1's in these substrings are grouped consecutively.\n",
    "\n",
    "Substrings that occur multiple times are counted the number of times they occur.\n",
    "Example 1:\n",
    "Input: \"00110011\"\n",
    "Output: 6\n",
    "Explanation: There are 6 substrings that have equal number of consecutive 1's and 0's: \"0011\", \"01\", \"1100\", \"10\", \"0011\", and \"01\".\n",
    "\n",
    "Notice that some of these substrings repeat and are counted the number of times they occur.\n",
    "\n",
    "Also, \"00110011\" is not a valid substring because all the 0's (and 1's) are not grouped together.\n",
    "\n",
    "Example 2:\n",
    "Input: \"10101\"\n",
    "Output: 4\n",
    "Explanation: There are 4 substrings: \"10\", \"01\", \"10\", \"01\" that have equal number of consecutive 1's and 0's.\n",
    "\"\"\""
   ]
  },
  {
   "cell_type": "code",
   "execution_count": null,
   "metadata": {},
   "outputs": [],
   "source": [
    "# Reference: https://leetcode.com/problems/count-binary-substrings/description/\n",
    "\n",
    "def count_binary_substring(s):\n",
    "    cur = 1\n",
    "    pre = 0\n",
    "    count = 0\n",
    "    for i in range(1, len(s)):\n",
    "        if s[i] != s[i - 1]:\n",
    "            count = count + min(pre, cur)\n",
    "            pre = cur\n",
    "            cur = 1\n",
    "        else:\n",
    "            cur = cur + 1\n",
    "    count = count + min(pre, cur)\n",
    "    return count\n"
   ]
  },
  {
   "cell_type": "markdown",
   "metadata": {},
   "source": [
    "## Decoding Encoded String Algorithm"
   ]
  },
  {
   "cell_type": "code",
   "execution_count": null,
   "metadata": {},
   "outputs": [],
   "source": [
    "# Given an encoded string, return it's decoded string.\n",
    "\n",
    "# The encoding rule is: k[encoded_string], where the encoded_string\n",
    "# inside the square brackets is being repeated exactly k times.\n",
    "# Note that k is guaranteed to be a positive integer.\n",
    "\n",
    "# You may assume that the input string is always valid; No extra white spaces,\n",
    "# square brackets are well-formed, etc.\n",
    "\n",
    "# Furthermore, you may assume that the original data does not contain any\n",
    "# digits and that digits are only for those repeat numbers, k.\n",
    "# For example, there won't be input like 3a or 2[4].\n",
    "\n",
    "# Examples:\n",
    "\n",
    "# s = \"3[a]2[bc]\", return \"aaabcbc\".\n",
    "# s = \"3[a2[c]]\", return \"accaccacc\".\n",
    "# s = \"2[abc]3[cd]ef\", return \"abcabccdcdcdef\".\n"
   ]
  },
  {
   "cell_type": "code",
   "execution_count": null,
   "metadata": {},
   "outputs": [],
   "source": [
    "def decode_string(s):\n",
    "    \"\"\"\n",
    "    :type s: str\n",
    "    :rtype: str\n",
    "    \"\"\"\n",
    "    stack = []; cur_num = 0; cur_string = ''\n",
    "    for c in s:\n",
    "        if c == '[':\n",
    "            stack.append((cur_string, cur_num))\n",
    "            cur_string = ''\n",
    "            cur_num = 0\n",
    "        elif c == ']':\n",
    "            prev_string, num = stack.pop()\n",
    "            cur_string = prev_string + num * cur_string\n",
    "        elif c.isdigit():\n",
    "            cur_num = cur_num*10 + int(c)\n",
    "        else:\n",
    "            cur_string += c\n",
    "    return cur_string"
   ]
  },
  {
   "cell_type": "markdown",
   "metadata": {},
   "source": [
    "## Deleting Reoccurring Characters Algorithm"
   ]
  },
  {
   "cell_type": "code",
   "execution_count": null,
   "metadata": {},
   "outputs": [],
   "source": [
    "\"\"\"\n",
    "QUESTION: Given a string as your input, delete any reoccurring \n",
    "character, and return the new string.\n",
    "\n",
    "This is a Google warmup interview question that was asked duirng phone screening\n",
    "at my university. \n",
    "\"\"\""
   ]
  },
  {
   "cell_type": "code",
   "execution_count": null,
   "metadata": {},
   "outputs": [],
   "source": [
    "# time complexity O(n)\n",
    "\n",
    "def delete_reoccurring_characters(string):\n",
    "    seen_characters = set()\n",
    "    output_string = ''\n",
    "    for char in string:\n",
    "        if char not in seen_characters:\n",
    "            seen_characters.add(char)\n",
    "            output_string += char\n",
    "    return output_string"
   ]
  },
  {
   "cell_type": "markdown",
   "metadata": {},
   "source": [
    "## Domain Name Extraction Function"
   ]
  },
  {
   "cell_type": "code",
   "execution_count": null,
   "metadata": {},
   "outputs": [],
   "source": [
    "\"\"\"\n",
    "Write a function that when given a URL as a string, parses out just the domain name and returns it as a string. \n",
    "\n",
    "Examples:\n",
    "domain_name(\"http://github.com/SaadBenn\") == \"github\" \n",
    "domain_name(\"http://www.zombie-bites.com\") == \"zombie-bites\"\n",
    "domain_name(\"https://www.cnet.com\") == \"cnet\"\n",
    "\"\"\""
   ]
  },
  {
   "cell_type": "code",
   "execution_count": null,
   "metadata": {},
   "outputs": [],
   "source": [
    "# Note: The idea is not to use any built-in libraries such as re (regular expression) or urlparse except .split() built-in function"
   ]
  },
  {
   "cell_type": "code",
   "execution_count": null,
   "metadata": {},
   "outputs": [],
   "source": [
    "# Non pythonic way\n",
    "def domain_name_1(url):\n",
    "\t#grab only the non http(s) part\n",
    "    full_domain_name = url.split('//')[-1] \n",
    "    #grab the actual one depending on the len of the list  \n",
    "    actual_domain = full_domain_name.split('.')  \n",
    "    \n",
    "    # case when www is in the url\n",
    "    if (len(actual_domain) > 2):\n",
    "        return actual_domain[1]    \n",
    "    # case when www is not in the url\n",
    "    return actual_domain[0]\n",
    "\n",
    "\n",
    "# pythonic one liner\n",
    "def domain_name_2(url):\n",
    "    return url.split(\"//\")[-1].split(\"www.\")[-1].split(\".\")[0]"
   ]
  },
  {
   "cell_type": "markdown",
   "metadata": {},
   "source": [
    "## String Encoding and Decoding Algorithm"
   ]
  },
  {
   "cell_type": "code",
   "execution_count": null,
   "metadata": {},
   "outputs": [],
   "source": [
    "\"\"\" \n",
    "Design an algorithm to encode a list of strings to a string.\n",
    "The encoded mystring is then sent over the network and is decoded\n",
    "back to the original list of strings.\n",
    "\"\"\""
   ]
  },
  {
   "cell_type": "code",
   "execution_count": null,
   "metadata": {},
   "outputs": [],
   "source": [
    "# Implement the encode and decode methods.\n",
    "\n",
    "def encode(strs):\n",
    "    \"\"\"Encodes a list of strings to a single string.\n",
    "    :type strs: List[str]\n",
    "    :rtype: str\n",
    "    \"\"\"\n",
    "    res = ''\n",
    "    for string in strs.split():\n",
    "        res += str(len(string)) + \":\" + string\n",
    "    return res"
   ]
  },
  {
   "cell_type": "code",
   "execution_count": null,
   "metadata": {},
   "outputs": [],
   "source": [
    "def decode(s):\n",
    "    \"\"\"Decodes a single string to a list of strings.\n",
    "    :type s: str\n",
    "    :rtype: List[str]\n",
    "    \"\"\"\n",
    "    strs = []\n",
    "    i = 0\n",
    "    while i < len(s):\n",
    "        index = s.find(\":\", i)\n",
    "        size = int(s[i:index])\n",
    "        strs.append(s[index+1: index+1+size])\n",
    "        i = index+1+size\n",
    "    return strs"
   ]
  },
  {
   "cell_type": "markdown",
   "metadata": {},
   "source": []
  },
  {
   "cell_type": "markdown",
   "metadata": {},
   "source": [
    "## Finding the First Non-Repeating Character"
   ]
  },
  {
   "cell_type": "code",
   "execution_count": null,
   "metadata": {},
   "outputs": [],
   "source": [
    "\"\"\"\n",
    "Given a string, find the first non-repeating character in it and return it's\n",
    "index. If it doesn't exist, return -1.\n",
    "\n",
    "For example:\n",
    "s = \"leetcode\"\n",
    "return 0.\n",
    "\n",
    "s = \"loveleetcode\",\n",
    "return 2.\n",
    "\"\"\""
   ]
  },
  {
   "cell_type": "code",
   "execution_count": null,
   "metadata": {},
   "outputs": [],
   "source": [
    "# Reference: https://leetcode.com/problems/first-unique-character-in-a-string/description/\n",
    "\n",
    "def first_unique_char(s):\n",
    "    \"\"\"\n",
    "    :type s: str\n",
    "    :rtype: int\n",
    "    \"\"\"\n",
    "    if (len(s) == 1):\n",
    "        return 0\n",
    "    ban = []\n",
    "    for i in range(len(s)):\n",
    "        if all(s[i] != s[k] for k in range(i + 1, len(s))) == True and s[i] not in ban:\n",
    "            return i\n",
    "        else:\n",
    "            ban.append(s[i])\n",
    "    return -1   "
   ]
  },
  {
   "cell_type": "markdown",
   "metadata": {},
   "source": [
    "## Fizzbuzz"
   ]
  },
  {
   "cell_type": "code",
   "execution_count": null,
   "metadata": {},
   "outputs": [],
   "source": [
    "\"\"\"\n",
    "Write a function that returns an array containing the numbers from 1 to N, \n",
    "where N is the parametered value. N will never be less than 1.\n",
    "\n",
    "Replace certain values however if any of the following conditions are met:\n",
    "\n",
    "If the value is a multiple of 3: use the value 'Fizz' instead\n",
    "If the value is a multiple of 5: use the value 'Buzz' instead\n",
    "If the value is a multiple of 3 & 5: use the value 'FizzBuzz' instead\n",
    "\"\"\"\n",
    "\n",
    "\"\"\"\n",
    "There is no fancy algorithm to solve fizz buzz.\n",
    "\n",
    "Iterate from 1 through n\n",
    "Use the mod operator to determine if the current iteration is divisible by:\n",
    "3 and 5 -> 'FizzBuzz'\n",
    "3 -> 'Fizz'\n",
    "5 -> 'Buzz'\n",
    "else -> string of current iteration\n",
    "return the results\n",
    "Complexity:\n",
    "\n",
    "Time: O(n)\n",
    "Space: O(n)\n",
    "\"\"\""
   ]
  },
  {
   "cell_type": "code",
   "execution_count": null,
   "metadata": {},
   "outputs": [],
   "source": [
    "def fizzbuzz(n):\n",
    "    \n",
    "    # Validate the input\n",
    "    if n < 1:\n",
    "        raise ValueError('n cannot be less than one')\n",
    "    if n is None:\n",
    "        raise TypeError('n cannot be None')\n",
    "    \n",
    "    result = []\n",
    "    \n",
    "    for i in range(1, n+1):\n",
    "        if i%3 == 0 and i%5 == 0:\n",
    "            result.append('FizzBuzz')\n",
    "        elif i%3 == 0:\n",
    "            result.append('Fizz')\n",
    "        elif i%5 == 0:\n",
    "            result.append('Buzz')\n",
    "        else:\n",
    "            result.append(i)\n",
    "    return result\n",
    "\n",
    "# Alternative solution\n",
    "def fizzbuzz_with_helper_func(n):\n",
    "    return [fb(m) for m in range(1,n+1)]\n",
    "    \n",
    "def fb(m):\n",
    "    r = (m % 3 == 0) * \"Fizz\" + (m % 5 == 0) * \"Buzz\"\n",
    "    return r if r != \"\" else m\n"
   ]
  }
 ],
 "metadata": {
  "language_info": {
   "name": "python"
  }
 },
 "nbformat": 4,
 "nbformat_minor": 2
}
