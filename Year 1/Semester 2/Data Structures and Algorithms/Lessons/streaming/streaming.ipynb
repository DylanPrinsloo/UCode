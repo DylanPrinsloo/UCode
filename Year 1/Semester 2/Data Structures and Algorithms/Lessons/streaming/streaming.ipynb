{
 "cells": [
  {
   "cell_type": "markdown",
   "metadata": {},
   "source": [
    "# Streaming"
   ]
  },
  {
   "cell_type": "code",
   "execution_count": null,
   "metadata": {},
   "outputs": [],
   "source": [
    "# init\n",
    "from .one_sparse_recovery import *\n",
    "from .misra_gries import *"
   ]
  },
  {
   "cell_type": "markdown",
   "metadata": {},
   "source": [
    "## Implementation of the Misra-Gries Algorithm"
   ]
  },
  {
   "cell_type": "code",
   "execution_count": null,
   "metadata": {},
   "outputs": [],
   "source": [
    "\n",
    "\"\"\"\n",
    "Implementation of the Misra-Gries algorithm.\n",
    "Given a list of items and a value k, it returns the every item in the list\n",
    "that appears at least n/k times, where n is the length of the array\n",
    "\n",
    "By default, k is set to 2, solving the majority problem.\n",
    "\n",
    "For the majority problem, this algorithm only guarantees that if there is\n",
    "an element that appears more than n/2 times, it will be outputed. If there\n",
    "is no such element, any arbitrary element is returned by the algorithm.\n",
    "Therefore, we need to iterate through again at the end. But since we have filtred\n",
    "out the suspects, the memory complexity is significantly lower than\n",
    "it would be to create counter for every element in the list.\n",
    "\"\"\""
   ]
  },
  {
   "cell_type": "code",
   "execution_count": null,
   "metadata": {},
   "outputs": [],
   "source": [
    "\"\"\"\n",
    "For example:\n",
    "Input misras_gries([1,4,4,4,5,4,4])\n",
    "Output {'4':5}\n",
    "Input misras_gries([0,0,0,1,1,1,1])\n",
    "Output {'1':4}\n",
    "Input misras_gries([0,0,0,0,1,1,1,2,2],3)\n",
    "Output {'0':4,'1':3}\n",
    "Input misras_gries([0,0,0,1,1,1]\n",
    "Output None\n",
    "\"\"\""
   ]
  },
  {
   "cell_type": "code",
   "execution_count": null,
   "metadata": {},
   "outputs": [],
   "source": [
    "def misras_gries(array,k=2):\n",
    "    \"\"\"Misra-Gries algorithm\n",
    "\n",
    "    Keyword arguments:\n",
    "    array -- list of integers\n",
    "    k -- value of k (default 2)\n",
    "    \"\"\"\n",
    "    keys = {}\n",
    "    for i in array:\n",
    "        val = str(i)\n",
    "        if val in keys:\n",
    "            keys[val] = keys[val] + 1\n",
    "\n",
    "        elif len(keys) < k - 1:\n",
    "            keys[val] = 1\n",
    "\n",
    "        else:\n",
    "            for key in list(keys):\n",
    "                keys[key] = keys[key] - 1\n",
    "                if keys[key] == 0:\n",
    "                    del keys[key]\n",
    "\n",
    "    suspects =  keys.keys()\n",
    "    frequencies = {}\n",
    "    for suspect in suspects:\n",
    "        freq = _count_frequency(array,int(suspect))\n",
    "        if freq >= len(array) / k:\n",
    "            frequencies[suspect] = freq\n",
    "\n",
    "    return frequencies if len(frequencies) > 0 else None\n",
    "\n",
    "\n",
    "def _count_frequency(array,element):\n",
    "    return array.count(element)"
   ]
  },
  {
   "cell_type": "markdown",
   "metadata": {},
   "source": [
    "## Implementation of the Non-Negative 1-Sparse Recovery Algorithm"
   ]
  },
  {
   "cell_type": "code",
   "execution_count": null,
   "metadata": {},
   "outputs": [],
   "source": [
    "\"\"\"\n",
    "Non-negative 1-sparse recovery problem.\n",
    "This algorithm assumes we have a non negative dynamic stream.\n",
    "\n",
    "Given a stream of tuples, where each tuple contains a number and a sign (+/-), it check if the\n",
    "stream is 1-sparse, meaning if the elements in the stream cancel eacheother out in such\n",
    "a way that ther is only a unique number at the end.\n",
    "\"\"\""
   ]
  },
  {
   "cell_type": "code",
   "execution_count": null,
   "metadata": {},
   "outputs": [],
   "source": [
    "\"\"\"\n",
    "Examples:\n",
    "#1\n",
    "Input:  [(4,'+'), (2,'+'),(2,'-'),(4,'+'),(3,'+'),(3,'-')],\n",
    "Output: 4\n",
    "Comment: Since 2 and 3 gets removed.\n",
    "#2\n",
    "Input:  [(2,'+'),(2,'+'),(2,'+'),(2,'+'),(2,'+'),(2,'+'),(2,'+')]\n",
    "Output: 2\n",
    "Comment: No other numbers present\n",
    "#3\n",
    "Input:  [(2,'+'),(2,'+'),(2,'+'),(2,'+'),(2,'+'),(2,'+'),(1,'+')]\n",
    "Output: None\n",
    "Comment: Not 1-sparse\n",
    "\"\"\""
   ]
  },
  {
   "cell_type": "code",
   "execution_count": null,
   "metadata": {},
   "outputs": [],
   "source": [
    "def one_sparse(array):\n",
    "    \"\"\"1-sparse algorithm\n",
    "\n",
    "    Keyword arguments:\n",
    "    array -- stream of tuples\n",
    "    \"\"\"\n",
    "    sum_signs = 0\n",
    "    bitsum = [0]*32\n",
    "    sum_values = 0\n",
    "    for val,sign in array:\n",
    "        if sign == \"+\":\n",
    "            sum_signs += 1\n",
    "            sum_values += val\n",
    "        else:\n",
    "            sum_signs -= 1\n",
    "            sum_values -= val\n",
    "\n",
    "        _get_bit_sum(bitsum,val,sign)\n",
    "\n",
    "    if sum_signs > 0 and _check_every_number_in_bitsum(bitsum,sum_signs):\n",
    "        return int(sum_values/sum_signs)\n",
    "    else:\n",
    "        return None\n",
    "\n",
    "#Helper function to check that every entry in the list is either 0 or  the same as the\n",
    "#sum of signs\n",
    "def _check_every_number_in_bitsum(bitsum,sum_signs):\n",
    "    for val in bitsum:\n",
    "        if val != 0 and val != sum_signs :\n",
    "            return False\n",
    "    return True\n",
    "\n",
    "# Adds bit representation value to bitsum array\n",
    "def _get_bit_sum(bitsum,val,sign):\n",
    "    i = 0\n",
    "    if sign == \"+\":\n",
    "        while val:\n",
    "            bitsum[i] += val & 1\n",
    "            i +=1\n",
    "            val >>=1\n",
    "    else :\n",
    "        while val:\n",
    "            bitsum[i] -= val & 1\n",
    "            i +=1\n",
    "            val >>=1"
   ]
  }
 ],
 "metadata": {
  "language_info": {
   "name": "python"
  }
 },
 "nbformat": 4,
 "nbformat_minor": 2
}
