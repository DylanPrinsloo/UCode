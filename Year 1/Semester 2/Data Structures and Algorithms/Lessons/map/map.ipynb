{
 "cells": [
  {
   "cell_type": "markdown",
   "metadata": {},
   "source": [
    "# **Map**\n",
    "Map is a data structure that associates keys with values, enabling fast lookup, addition, and deletion of key-value pairs.\n",
    "   - **Types:** Hash Map, Tree Map.\n",
    "   - **Applications:** Caching, dictionaries, database indexing."
   ]
  },
  {
   "cell_type": "code",
   "execution_count": null,
   "metadata": {},
   "outputs": [],
   "source": [
    "# init\n",
    "from .hashtable import *\n",
    "from .separate_chaining_hashtable import *\n",
    "from .word_pattern import *\n",
    "from .is_isomorphic import *\n",
    "from .is_anagram import *\n",
    "from .longest_palindromic_subsequence import *"
   ]
  },
  {
   "cell_type": "markdown",
   "metadata": {},
   "source": [
    "## Hash Table with Resizing Capabilities"
   ]
  },
  {
   "cell_type": "code",
   "execution_count": null,
   "metadata": {},
   "outputs": [],
   "source": [
    "\"\"\"\n",
    "HashMap Data Type\n",
    "HashMap() Create a new, empty map. It returns an empty map collection.\n",
    "put(key, val) Add a new key-value pair to the map. If the key is already in the map then replace\n",
    "                the old value with the new value.\n",
    "get(key) Given a key, return the value stored in the map or None otherwise.\n",
    "del_(key) or del map[key] Delete the key-value pair from the map using a statement of the form del map[key].\n",
    "len() Return the number of key-value pairs stored in the map.\n",
    "in Return True for a statement of the form key in map, if the given key is in the map, False otherwise.\n",
    "\"\"\""
   ]
  },
  {
   "cell_type": "code",
   "execution_count": null,
   "metadata": {},
   "outputs": [],
   "source": [
    "class HashTable(object):\n",
    "    _empty = object()\n",
    "    _deleted = object()\n",
    "\n",
    "    def __init__(self, size=11):\n",
    "        self.size = size\n",
    "        self._len = 0\n",
    "        self._keys = [self._empty] * size  # keys\n",
    "        self._values = [self._empty] * size  # values\n",
    "\n",
    "    def put(self, key, value):\n",
    "        initial_hash = hash_ = self.hash(key)\n",
    "\n",
    "        while True:\n",
    "            if self._keys[hash_] is self._empty or self._keys[hash_] is self._deleted:\n",
    "                # can assign to hash_ index\n",
    "                self._keys[hash_] = key\n",
    "                self._values[hash_] = value\n",
    "                self._len += 1\n",
    "                return\n",
    "            elif self._keys[hash_] == key:\n",
    "                # key already exists here, assign over\n",
    "                self._keys[hash_] = key\n",
    "                self._values[hash_] = value\n",
    "                return\n",
    "\n",
    "            hash_ = self._rehash(hash_)\n",
    "\n",
    "            if initial_hash == hash_:\n",
    "                # table is full\n",
    "                raise ValueError(\"Table is full\")\n",
    "\n",
    "    def get(self, key):\n",
    "        initial_hash = hash_ = self.hash(key)\n",
    "        while True:\n",
    "            if self._keys[hash_] is self._empty:\n",
    "                # That key was never assigned\n",
    "                return None\n",
    "            elif self._keys[hash_] == key:\n",
    "                # key found\n",
    "                return self._values[hash_]\n",
    "\n",
    "            hash_ = self._rehash(hash_)\n",
    "            if initial_hash == hash_:\n",
    "                # table is full and wrapped around\n",
    "                return None\n",
    "\n",
    "    def del_(self, key):\n",
    "        initial_hash = hash_ = self.hash(key)\n",
    "        while True:\n",
    "            if self._keys[hash_] is self._empty:\n",
    "                # That key was never assigned\n",
    "                return None\n",
    "            elif self._keys[hash_] == key:\n",
    "                # key found, assign with deleted sentinel\n",
    "                self._keys[hash_] = self._deleted\n",
    "                self._values[hash_] = self._deleted\n",
    "                self._len -= 1\n",
    "                return\n",
    "\n",
    "            hash_ = self._rehash(hash_)\n",
    "            if initial_hash == hash_:\n",
    "                # table is full and wrapped around\n",
    "                return None\n",
    "\n",
    "    def hash(self, key):\n",
    "        return key % self.size\n",
    "\n",
    "    def _rehash(self, old_hash):\n",
    "        \"\"\"\n",
    "        linear probing\n",
    "        \"\"\"\n",
    "        return (old_hash + 1) % self.size\n",
    "\n",
    "    def __getitem__(self, key):\n",
    "        return self.get(key)\n",
    "\n",
    "    def __delitem__(self, key):\n",
    "        return self.del_(key)\n",
    "\n",
    "    def __setitem__(self, key, value):\n",
    "        self.put(key, value)\n",
    "\n",
    "    def __len__(self):\n",
    "        return self._len"
   ]
  },
  {
   "cell_type": "code",
   "execution_count": null,
   "metadata": {},
   "outputs": [],
   "source": [
    "class ResizableHashTable(HashTable):\n",
    "    MIN_SIZE = 8\n",
    "\n",
    "    def __init__(self):\n",
    "        super().__init__(self.MIN_SIZE)\n",
    "\n",
    "    def put(self, key, value):\n",
    "        rv = super().put(key, value)\n",
    "        # increase size of dict * 2 if filled >= 2/3 size (like python dict)\n",
    "        if len(self) >= (self.size * 2) / 3:\n",
    "            self.__resize()\n",
    "\n",
    "    def __resize(self):\n",
    "        keys, values = self._keys, self._values\n",
    "        self.size *= 2  # this will be the new size\n",
    "        self._len = 0\n",
    "        self._keys = [self._empty] * self.size\n",
    "        self._values = [self._empty] * self.size\n",
    "        for key, value in zip(keys, values):\n",
    "            if key is not self._empty and key is not self._deleted:\n",
    "                self.put(key, value)"
   ]
  },
  {
   "cell_type": "markdown",
   "metadata": {},
   "source": [
    "## Anagram Checker Function"
   ]
  },
  {
   "cell_type": "code",
   "execution_count": null,
   "metadata": {},
   "outputs": [],
   "source": [
    "\"\"\"\n",
    "Given two strings s and t , write a function to determine if t is an anagram of s.\n",
    "\n",
    "Example 1:\n",
    "Input: s = \"anagram\", t = \"nagaram\"\n",
    "Output: true\n",
    "\n",
    "Example 2:\n",
    "Input: s = \"rat\", t = \"car\"\n",
    "Output: false\n",
    "\"\"\""
   ]
  },
  {
   "cell_type": "code",
   "execution_count": null,
   "metadata": {},
   "outputs": [],
   "source": [
    "# Note:\n",
    "\n",
    "# You may assume the string contains only lowercase alphabets.\n",
    "\n",
    "# Reference: https://leetcode.com/problems/valid-anagram/description/"
   ]
  },
  {
   "cell_type": "code",
   "execution_count": null,
   "metadata": {},
   "outputs": [],
   "source": [
    "# code \n",
    "def is_anagram(s, t):\n",
    "    \"\"\"\n",
    "    :type s: str\n",
    "    :type t: str\n",
    "    :rtype: bool\n",
    "    \"\"\"\n",
    "    maps = {}\n",
    "    mapt = {}\n",
    "    for i in s:\n",
    "        maps[i] = maps.get(i, 0) + 1\n",
    "    for i in t:\n",
    "        mapt[i] = mapt.get(i, 0) + 1\n",
    "    return maps == mapt\n"
   ]
  },
  {
   "cell_type": "markdown",
   "metadata": {},
   "source": [
    "## Isomorphic Strings Checker Function"
   ]
  },
  {
   "cell_type": "markdown",
   "metadata": {},
   "source": [
    "#### Given two strings s and t, determine if they are isomorphic.\n",
    "#### Two strings are isomorphic if the characters in s can be replaced to get 't'. All occurrences of a character must be replaced with another character while preserving the order of characters. No two characters may map to the same character but a character may map to itself."
   ]
  },
  {
   "cell_type": "code",
   "execution_count": null,
   "metadata": {},
   "outputs": [],
   "source": [
    "\"\"\"\n",
    "Example 1:\n",
    "Input: s = \"egg\", t = \"add\"\n",
    "Output: true\n",
    "\n",
    "Example 2:\n",
    "Input: s = \"foo\", t = \"bar\"\n",
    "Output: false\n",
    "\n",
    "Example 3:\n",
    "Input: s = \"paper\", t = \"title\"\n",
    "Output: true\n",
    "\"\"\""
   ]
  },
  {
   "cell_type": "code",
   "execution_count": null,
   "metadata": {},
   "outputs": [],
   "source": [
    "# Reference: https://leetcode.com/problems/isomorphic-strings/description/"
   ]
  },
  {
   "cell_type": "code",
   "execution_count": null,
   "metadata": {},
   "outputs": [],
   "source": [
    "def is_isomorphic(s, t):\n",
    "    \"\"\"\n",
    "    :type s: str\n",
    "    :type t: str\n",
    "    :rtype: bool\n",
    "    \"\"\"\n",
    "    if len(s) != len(t):\n",
    "        return False\n",
    "    dict = {}\n",
    "    set_value = set()\n",
    "    for i in range(len(s)):\n",
    "        if s[i] not in dict:\n",
    "            if t[i] in set_value:\n",
    "                return False\n",
    "            dict[s[i]] = t[i]\n",
    "            set_value.add(t[i])\n",
    "        else:\n",
    "            if dict[s[i]] != t[i]:\n",
    "                return False\n",
    "    return True\n"
   ]
  },
  {
   "cell_type": "markdown",
   "metadata": {},
   "source": [
    "## Longest Common Substring Finder Function"
   ]
  },
  {
   "cell_type": "markdown",
   "metadata": {},
   "source": [
    "#### Given string a and b, with b containing all distinct characters, find the longest common sub sequence's length.\n",
    "\n",
    "#### Expected complexity O(n logn).\n"
   ]
  },
  {
   "cell_type": "code",
   "execution_count": null,
   "metadata": {},
   "outputs": [],
   "source": [
    "def max_common_sub_string(s1, s2):\n",
    "    # Assuming s2 has all unique chars\n",
    "    s2dic = {s2[i]: i for i in range(len(s2))}\n",
    "    maxr = 0\n",
    "    subs = ''\n",
    "    i = 0\n",
    "    while i < len(s1):\n",
    "        if s1[i] in s2dic:\n",
    "            j = s2dic[s1[i]]\n",
    "            k = i\n",
    "            while j < len(s2) and k < len(s1) and s1[k] == s2[j]:\n",
    "                k += 1\n",
    "                j += 1\n",
    "            if k - i > maxr:\n",
    "                maxr = k-i\n",
    "                subs = s1[i:k]\n",
    "            i = k\n",
    "        else:\n",
    "            i += 1\n",
    "    return subs"
   ]
  }
 ],
 "metadata": {
  "language_info": {
   "name": "python"
  }
 },
 "nbformat": 4,
 "nbformat_minor": 2
}
