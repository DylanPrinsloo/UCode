{
 "cells": [
  {
   "cell_type": "code",
   "execution_count": null,
   "metadata": {},
   "outputs": [],
   "source": [
    "# init\n",
    "from .hashtable import *\n",
    "from .separate_chaining_hashtable import *\n",
    "from .word_pattern import *\n",
    "from .is_isomorphic import *\n",
    "from .is_anagram import *\n",
    "from .longest_palindromic_subsequence import *"
   ]
  },
  {
   "cell_type": "markdown",
   "metadata": {},
   "source": [
    "## Longest Palindromic Subsequence Function"
   ]
  },
  {
   "cell_type": "markdown",
   "metadata": {},
   "source": [
    "#### The function given below longest_palindromic_subsequence finds the length of the longest palindromic subsequence in a given string 's'."
   ]
  },
  {
   "cell_type": "code",
   "execution_count": null,
   "metadata": {},
   "outputs": [],
   "source": [
    "def longest_palindromic_subsequence(s):\n",
    "\n",
    "    k = len(s)\n",
    "    olist = [0] * k    \n",
    "    nList = [0] * k    \n",
    "    logestSubStr = \"\"\n",
    "    logestLen = 0\n",
    "\n",
    "    for j in range(0, k):\n",
    "        for i in range(0, j + 1):\n",
    "            if j - i <= 1:\n",
    "                if s[i] == s[j]:\n",
    "                    nList[i] = 1                \n",
    "                    len_t = j - i + 1\n",
    "                    if logestLen < len_t:        \n",
    "                        logestSubStr = s[i:j + 1]\n",
    "                        logestLen = len_t\n",
    "            else:\n",
    "                if s[i] == s[j] and olist[i+1]:   \n",
    "                    nList[i] = 1                  \n",
    "                    len_t = j - i + 1\n",
    "                    if logestLen < len_t:\n",
    "                        logestSubStr = s[i:j + 1]\n",
    "                        logestLen = len_t\n",
    "        olist = nList                            \n",
    "        nList = [0] * k                          \n",
    "    # ~ from icecream import ic\n",
    "    # ~ ic(s, logestSubStr)\n",
    "    return logestLen#, logestSubStr"
   ]
  },
  {
   "cell_type": "markdown",
   "metadata": {},
   "source": [
    "## Randomized Set Data Structure"
   ]
  },
  {
   "cell_type": "markdown",
   "metadata": {},
   "source": [
    "#### Design a data structure that supports all following operations in average O(1) time."
   ]
  },
  {
   "cell_type": "code",
   "execution_count": null,
   "metadata": {},
   "outputs": [],
   "source": [
    "\"\"\"\n",
    "insert(val): Inserts an item val to the set if not already present.\n",
    "remove(val): Removes an item val from the set if present.\n",
    "getRandom: Returns a random element from current set of elements.\n",
    "Each element must have the same probability of being returned.\n",
    "\"\"\""
   ]
  },
  {
   "cell_type": "code",
   "execution_count": null,
   "metadata": {},
   "outputs": [],
   "source": [
    "import random"
   ]
  },
  {
   "cell_type": "code",
   "execution_count": null,
   "metadata": {},
   "outputs": [],
   "source": [
    "class RandomizedSet:\n",
    "    def __init__(self):\n",
    "        self.nums = []\n",
    "        self.idxs = {}\n",
    "\n",
    "    def insert(self, val):\n",
    "        if val not in self.idxs:\n",
    "            self.nums.append(val)\n",
    "            self.idxs[val] = len(self.nums)-1\n",
    "            return True\n",
    "        return False\n",
    "\n",
    "    def remove(self, val):\n",
    "        if val in self.idxs:\n",
    "            idx, last = self.idxs[val], self.nums[-1]\n",
    "            self.nums[idx], self.idxs[last] = last, idx\n",
    "            self.nums.pop()\n",
    "            self.idxs.pop(val, 0)\n",
    "            return True\n",
    "        return False\n",
    "\n",
    "    def get_random(self):\n",
    "        idx = random.randint(0, len(self.nums)-1)\n",
    "        return self.nums[idx]\n",
    "\n",
    "\n",
    "if __name__ == \"__main__\":\n",
    "    rs = RandomizedSet()\n",
    "    print(\"insert 1: \", rs.insert(1))\n",
    "    print(\"insert 2: \", rs.insert(2))\n",
    "    print(\"insert 3: \", rs.insert(3))\n",
    "    print(\"insert 4: \", rs.insert(4))\n",
    "    print(\"remove 3: \", rs.remove(3))\n",
    "    print(\"remove 3: \", rs.remove(3))\n",
    "    print(\"remove 1: \", rs.remove(1))\n",
    "    print(\"random: \", rs.get_random())\n",
    "    print(\"random: \", rs.get_random())\n",
    "    print(\"random: \", rs.get_random())\n",
    "    print(\"random: \", rs.get_random())"
   ]
  },
  {
   "cell_type": "markdown",
   "metadata": {},
   "source": [
    "## Separate Chaining Hash Table"
   ]
  },
  {
   "cell_type": "markdown",
   "metadata": {},
   "source": [
    "#### The concept of a Separate Chaining Hash Table"
   ]
  },
  {
   "cell_type": "code",
   "execution_count": null,
   "metadata": {},
   "outputs": [],
   "source": [
    "import unittest\n",
    "\n",
    "class Node(object):\n",
    "    def __init__(self, key=None, value=None, next=None):\n",
    "        self.key = key\n",
    "        self.value = value\n",
    "        self.next = next\n",
    "\n",
    "\n",
    "class SeparateChainingHashTable(object):\n",
    "    \"\"\"\n",
    "    HashTable Data Type:\n",
    "    By having each bucket contain a linked list of elements that are hashed to that bucket.\n",
    "\n",
    "    Usage:\n",
    "    >>> table = SeparateChainingHashTable() # Create a new, empty map.\n",
    "    >>> table.put('hello', 'world') # Add a new key-value pair.\n",
    "    >>> len(table) # Return the number of key-value pairs stored in the map.\n",
    "    1\n",
    "    >>> table.get('hello') # Get value by key.\n",
    "    'world'\n",
    "    >>> del table['hello'] # Equivalent to `table.del_('hello')`, deleting key-value pair.\n",
    "    >>> table.get('hello') is None # Return `None` if a key doesn't exist.\n",
    "    True\n",
    "    \"\"\"\n",
    "    _empty = None\n",
    "\n",
    "    def __init__(self, size=11):\n",
    "        self.size = size\n",
    "        self._len = 0\n",
    "        self._table = [self._empty] * size\n",
    "\n",
    "    def put(self, key, value):\n",
    "        hash_ = self.hash(key)\n",
    "        node_ = self._table[hash_]\n",
    "        if node_ is self._empty:\n",
    "            self._table[hash_] = Node(key, value)\n",
    "        else:\n",
    "            while node_.next is not None:\n",
    "                if node_.key == key:\n",
    "                    node_.value = value\n",
    "                    return\n",
    "                node_ = node_.next\n",
    "            node_.next = Node(key, value)\n",
    "        self._len += 1\n",
    "\n",
    "    def get(self, key):\n",
    "        hash_ = self.hash(key)\n",
    "        node_ = self._table[hash_]\n",
    "        while node_ is not self._empty:\n",
    "            if node_.key == key:\n",
    "                return node_.value\n",
    "            node_ = node_.next\n",
    "        return None\n",
    "\n",
    "    def del_(self, key):\n",
    "        hash_ = self.hash(key)\n",
    "        node_ = self._table[hash_]\n",
    "        pre_node = None\n",
    "        while node_ is not None:\n",
    "            if node_.key == key:\n",
    "                if pre_node is None:\n",
    "                    self._table[hash_] = node_.next\n",
    "                else:\n",
    "                    pre_node.next = node_.next\n",
    "                self._len -= 1\n",
    "            pre_node = node_\n",
    "            node_ = node_.next\n",
    "\n",
    "    def hash(self, key):\n",
    "        return hash(key) % self.size\n",
    "\n",
    "    def __len__(self):\n",
    "        return self._len\n",
    "\n",
    "    def __getitem__(self, key):\n",
    "        return self.get(key)\n",
    "\n",
    "    def __delitem__(self, key):\n",
    "        return self.del_(key)\n",
    "\n",
    "    def __setitem__(self, key, value):\n",
    "        self.put(key, value)"
   ]
  },
  {
   "cell_type": "markdown",
   "metadata": {},
   "source": [
    "## Valid Sudoku"
   ]
  },
  {
   "cell_type": "markdown",
   "metadata": {},
   "source": [
    "\n",
    "#### Determine if a Sudoku is valid, according to: Sudoku Puzzles - The Rules.\n",
    "\n",
    "#### The Sudoku board could be partially filled, where empty cells are filled with the character '.'.\n"
   ]
  },
  {
   "cell_type": "code",
   "execution_count": null,
   "metadata": {},
   "outputs": [],
   "source": [
    "def is_valid_sudoku(self, board):\n",
    "    seen = []\n",
    "    for i, row in enumerate(board):\n",
    "        for j, c in enumerate(row):\n",
    "            if c != '.':\n",
    "                seen += [(c,j),(i,c),(i/3,j/3,c)]\n",
    "    return len(seen) == len(set(seen))"
   ]
  },
  {
   "cell_type": "markdown",
   "metadata": {},
   "source": [
    "## Word Pattern Matching Function"
   ]
  },
  {
   "cell_type": "markdown",
   "metadata": {},
   "source": [
    "#### Given a pattern and a string str, find if str follows the same pattern.\n",
    "#### Here follow means a full match, such that there is a bijection between a letter in pattern and a non-empty word in str."
   ]
  },
  {
   "cell_type": "code",
   "execution_count": null,
   "metadata": {},
   "outputs": [],
   "source": [
    "\"\"\"\n",
    "Example 1:\n",
    "Input: pattern = \"abba\", str = \"dog cat cat dog\"\n",
    "Output: true\n",
    "\n",
    "Example 2:\n",
    "Input:pattern = \"abba\", str = \"dog cat cat fish\"\n",
    "Output: false\n",
    "\n",
    "Example 3:\n",
    "Input: pattern = \"aaaa\", str = \"dog cat cat dog\"\n",
    "Output: false\n",
    "\n",
    "Example 4:\n",
    "Input: pattern = \"abba\", str = \"dog dog dog dog\"\n",
    "Output: false\n",
    "Notes:\n",
    "You may assume pattern contains only lowercase letters, and str contains lowercase letters separated by a single space.\n",
    "\"\"\""
   ]
  },
  {
   "cell_type": "code",
   "execution_count": null,
   "metadata": {},
   "outputs": [],
   "source": [
    "# Reference: https://leetcode.com/problems/word-pattern/description/\n",
    "def word_pattern(pattern, str):\n",
    "    dict = {}\n",
    "    set_value = set()\n",
    "    list_str = str.split()\n",
    "    if len(list_str) != len(pattern):\n",
    "        return False\n",
    "    for i in range(len(pattern)):\n",
    "        if pattern[i] not in dict:\n",
    "            if list_str[i] in set_value:\n",
    "                return False\n",
    "            dict[pattern[i]] = list_str[i]\n",
    "            set_value.add(list_str[i])\n",
    "        else:\n",
    "            if dict[pattern[i]] != list_str[i]:\n",
    "                return False\n",
    "    return True"
   ]
  }
 ],
 "metadata": {
  "language_info": {
   "name": "python"
  }
 },
 "nbformat": 4,
 "nbformat_minor": 2
}
