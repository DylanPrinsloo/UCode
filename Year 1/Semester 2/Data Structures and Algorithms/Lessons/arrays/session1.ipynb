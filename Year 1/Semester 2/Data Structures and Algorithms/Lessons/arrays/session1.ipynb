{
 "cells": [
  {
   "cell_type": "markdown",
   "metadata": {},
   "source": [
    "# Arrays in Data Structures and Algorithms\n"
   ]
  },
  {
   "cell_type": "code",
   "execution_count": null,
   "metadata": {},
   "outputs": [],
   "source": [
    "# These are the Importing of various algorithms and utility functions from different modules :)\n",
    "\n",
    "from .delete_nth import *           # Function to delete occurrences of elements in an array, retaining a specified count\n",
    "from .flatten import *              # Function to flatten a nested list into a single list\n",
    "from .garage import *               # Module related to garage-related algorithms or data structures\n",
    "from .josephus import *             # Implementation of the Josephus problem, a theoretical problem related to elimination games\n",
    "from .longest_non_repeat import *   # Function to find the longest substring without repeating characters\n",
    "from .max_ones_index import *       # Function to find the index of the maximum number of consecutive 1s in a binary array\n",
    "from .merge_intervals import *      # Function to merge overlapping intervals in a list\n",
    "from .missing_ranges import *       # Function to find missing ranges within a specified range\n",
    "from .move_zeros import *           # Function to move all zeros in an array to the end while maintaining the order of other elements\n",
    "from .plus_one import *             # Function to add one to a number represented as an array of digits\n",
    "from .rotate import *               # Function to rotate an array to the right by a specified number of steps\n",
    "from .summarize_ranges import *     # Function to summarize ranges in a list of numbers\n",
    "from .three_sum import *            # Function to find unique triplets in an array that sum to zero\n",
    "from .trimmean import *             # Function to calculate a trimmed mean by neglecting a specified percentage of outliers\n",
    "from .top_1 import *                # Function to find the most frequent values (mode) in an array\n",
    "from .two_sum import *              # Function to find indices of two numbers in an array that add up to a specific target\n",
    "from .limit import *                # Module that may impose limits on input or output values\n",
    "from .n_sum import *                # Function to find n-tuplets in an array that sum up to a target value\n",
    "from .remove_duplicates import *    # Function to remove duplicate elements from an array while preserving order\n"
   ]
  },
  {
   "cell_type": "markdown",
   "metadata": {},
   "source": [
    "## Delete the nth"
   ]
  },
  {
   "cell_type": "code",
   "execution_count": null,
   "metadata": {},
   "outputs": [],
   "source": [
    "'''\n",
    "Given a list lst and a number N, create a new list\n",
    "that contains each number of the list at most N times without reordering.\n",
    "\n",
    "For example:\n",
    "if N = 2, and the input is [1,2,3,1,2,1,2,3], you take [1,2,3,1,2], \n",
    "drop the next [1,2] since this would lead to 1 and 2 being in the result 3 times, and then take 3, \n",
    "which leads to [1,2,3,1,2,3]\n",
    "'''"
   ]
  },
  {
   "cell_type": "code",
   "execution_count": null,
   "metadata": {},
   "outputs": [],
   "source": [
    "import collections\n"
   ]
  },
  {
   "cell_type": "code",
   "execution_count": null,
   "metadata": {},
   "outputs": [],
   "source": [
    "# Time complexity O(n^2)\n",
    "def delete_nth_naive(array, n):\n",
    "    ans = []\n",
    "    for num in array:\n",
    "        if ans.count(num) < n:\n",
    "            ans.append(num)\n",
    "    return ans\n",
    "\n",
    "\n",
    "# Time Complexity O(n), using hash tables.\n",
    "def delete_nth(array, n):\n",
    "    result = []\n",
    "    counts = collections.defaultdict(int)  # keep track of occurrences\n",
    "\n",
    "    for i in array:\n",
    "\n",
    "        if counts[i] < n:\n",
    "            result.append(i)\n",
    "            counts[i] += 1\n",
    "\n",
    "    return result"
   ]
  },
  {
   "cell_type": "markdown",
   "metadata": {},
   "source": [
    "## Flatten Arrays\n"
   ]
  },
  {
   "cell_type": "code",
   "execution_count": null,
   "metadata": {},
   "outputs": [],
   "source": [
    "\"\"\"\n",
    "Implement Flatten Arrays.\n",
    "Given an array that may contain nested arrays,\n",
    "produce a single resultant array.\n",
    "\"\"\""
   ]
  },
  {
   "cell_type": "code",
   "execution_count": null,
   "metadata": {},
   "outputs": [],
   "source": [
    "from collections.abc import Iterable\n",
    "\n",
    "# return list\n",
    "def flatten(input_arr, output_arr=None):\n",
    "    if output_arr is None:\n",
    "        output_arr = []\n",
    "    for ele in input_arr:\n",
    "        if not isinstance(ele, str) and isinstance(ele, Iterable):\n",
    "            flatten(ele, output_arr)    #tail-recursion\n",
    "        else:\n",
    "            output_arr.append(ele)      #produce the result\n",
    "    return output_arr\n",
    "\n",
    "# returns iterator\n",
    "def flatten_iter(iterable):\n",
    "    \"\"\"\n",
    "    Takes as input multi dimensional iterable and\n",
    "    returns generator which produces one dimensional output.\n",
    "    \"\"\"\n",
    "    for element in iterable:\n",
    "        if not isinstance(element, str) and isinstance(element, Iterable):\n",
    "            yield from flatten_iter(element)    \n",
    "        else:\n",
    "            yield element\n"
   ]
  },
  {
   "cell_type": "markdown",
   "metadata": {},
   "source": [
    "## Garage or Sliding puzzle"
   ]
  },
  {
   "cell_type": "code",
   "execution_count": null,
   "metadata": {},
   "outputs": [],
   "source": [
    "\"\"\"\n",
    "There is a parking lot with only one empty spot. Given the initial state\n",
    "of the parking lot and the final state. Each step we are only allowed to\n",
    "move a car\n",
    "out of its place and move it into the empty spot.\n",
    "The goal is to find out the least movement needed to rearrange\n",
    "the parking lot from the initial state to the final state.\n",
    "\n",
    "Say the initial state is an array:\n",
    "\n",
    "[1, 2, 3, 0, 4],\n",
    "where 1, 2, 3, 4 are different cars, and 0 is the empty spot.\n",
    "\n",
    "And the final state is\n",
    "\n",
    "[0, 3, 2, 1, 4].\n",
    "We can swap 1 with 0 in the initial array to get [0, 2, 3, 1, 4] and so on.\n",
    "Each step swap with 0 only.\n",
    "\n",
    "Edit:\n",
    "Now also prints the sequence of changes in states.\n",
    "Output of this example :-\n",
    "\n",
    "initial: [1, 2, 3, 0, 4]\n",
    "final:   [0, 3, 2, 1, 4]\n",
    "Steps =  4\n",
    "Sequence : \n",
    "0 2 3 1 4\n",
    "2 0 3 1 4\n",
    "2 3 0 1 4\n",
    "0 3 2 1 4\n",
    "\"\"\""
   ]
  },
  {
   "cell_type": "code",
   "execution_count": null,
   "metadata": {},
   "outputs": [],
   "source": [
    "def garage(initial, final):\n",
    "\n",
    "    initial = initial[::]      # prevent changes in original 'initial'\n",
    "    seq = []                   # list of each step in sequence\n",
    "    steps = 0\n",
    "    while initial != final:\n",
    "        zero = initial.index(0)\n",
    "        if zero != final.index(0):  # if zero isn't where it should be,\n",
    "            car_to_move = final[zero]   # what should be where zero is,\n",
    "            pos = initial.index(car_to_move)         # and where is it?\n",
    "            initial[zero], initial[pos] = initial[pos], initial[zero]\n",
    "        else:\n",
    "            for i in range(len(initial)):\n",
    "                if initial[i] != final[i]:\n",
    "                    initial[zero], initial[i] = initial[i], initial[zero]\n",
    "                    break\n",
    "        seq.append(initial[::])\n",
    "        steps += 1\n",
    "\n",
    "    return steps, seq       \n",
    "    \n"
   ]
  },
  {
   "cell_type": "code",
   "execution_count": null,
   "metadata": {},
   "outputs": [],
   "source": [
    "# e.g.:  4, [{0, 2, 3, 1, 4}, {2, 0, 3, 1, 4}, \n",
    "#            {2, 3, 0, 1, 4}, {0, 3, 2, 1, 4}]"
   ]
  },
  {
   "cell_type": "code",
   "execution_count": null,
   "metadata": {},
   "outputs": [],
   "source": [
    "\"\"\"\n",
    "thus:\n",
    "1 2 3 0 4 -- zero = 3, true, car_to_move = final[3] = 1,\n",
    "             pos = initial.index(1) = 0, switched [0], [3]\n",
    "0 2 3 1 4 -- zero = 0, f, initial[1] != final[1], switched 0,1\n",
    "2 0 3 1 4 -- zero = 1, t, car_to_move = final[1] = 3,\n",
    "             pos = initial.index(3) = 2, switched [1], [2]\n",
    "2 3 0 1 4 -- zero = 2, t, car_to_move = final[2] = 2, \n",
    "             pos = initial.index(2) = 0, switched [0], [2]\n",
    "0 3 2 1 4 -- initial == final\n",
    "\"\"\""
   ]
  },
  {
   "cell_type": "markdown",
   "metadata": {},
   "source": [
    "## Josephus Problem"
   ]
  },
  {
   "cell_type": "markdown",
   "metadata": {},
   "source": [
    "### The josephus(int_list, skip) function is implementing the Josephus problem, a famous theoretical problem in mathematics and computer science.\n",
    "\n",
    "### Key Concepts:\n",
    "In the Josephus problem, a group of people (represented by int_list) stand in a circle. Starting at a specific position, every k-th person is eliminated in the sequence until only one person remains. The function yields the order in which people are eliminated."
   ]
  },
  {
   "cell_type": "code",
   "execution_count": null,
   "metadata": {},
   "outputs": [],
   "source": [
    "\"\"\"\n",
    "There are people sitting in a circular fashion,\n",
    "print every third member while removing them,\n",
    "the next counter starts immediately after the member is removed.\n",
    "Print till all the members are exhausted.\n",
    "\n",
    "For example:\n",
    "Input: consider 123456789 members sitting in a circular fashion,\n",
    "Output: 369485271\n",
    "\"\"\""
   ]
  },
  {
   "cell_type": "code",
   "execution_count": null,
   "metadata": {},
   "outputs": [],
   "source": [
    "def josephus(int_list, skip):\n",
    "    skip = skip - 1                     # list starts with 0 index\n",
    "    idx = 0\n",
    "    len_list = (len(int_list))\n",
    "    while len_list > 0:\n",
    "        idx = (skip + idx) % len_list   # hash index to every 3rd\n",
    "        yield int_list.pop(idx)\n",
    "        len_list -= 1"
   ]
  },
  {
   "cell_type": "markdown",
   "metadata": {},
   "source": [
    "##  array slicing by value"
   ]
  },
  {
   "cell_type": "code",
   "execution_count": null,
   "metadata": {},
   "outputs": [],
   "source": [
    "\"\"\"\n",
    "Sometimes you need to limit array result to use. Such as you only need the \n",
    " value over 10 or, you need value under than 100. By use this algorithms, you\n",
    " can limit your array to specific value\n",
    "\n",
    "If array, Min, Max value was given, it returns array that contains values of \n",
    " given array which was larger than Min, and lower than Max. You need to give\n",
    " 'unlimit' to use only Min or Max.\n",
    "\n",
    "ex) limit([1,2,3,4,5], None, 3) = [1,2,3]\n",
    "\n",
    "Complexity = O(n)\n",
    "\"\"\""
   ]
  },
  {
   "cell_type": "code",
   "execution_count": null,
   "metadata": {},
   "outputs": [],
   "source": [
    "# tl:dr -- array slicing by value\n",
    "def limit(arr, min_lim=None, max_lim=None):\n",
    "    if len(arr) == 0:\n",
    "        return arr\n",
    "\n",
    "    if min_lim is None:\n",
    "        min_lim = min(arr)\n",
    "    if max_lim is None:\n",
    "        max_lim = max(arr)\n",
    "\n",
    "    return list(filter(lambda x: (min_lim <= x <= max_lim), arr))"
   ]
  },
  {
   "cell_type": "markdown",
   "metadata": {},
   "source": [
    "## Longest non-repeat"
   ]
  },
  {
   "cell_type": "code",
   "execution_count": null,
   "metadata": {},
   "outputs": [],
   "source": [
    "\"\"\"\n",
    "Given a string, find the length of the longest substring\n",
    "without repeating characters.\n",
    "\n",
    "Examples:\n",
    "Given \"abcabcbb\", the answer is \"abc\", which the length is 3.\n",
    "Given \"bbbbb\", the answer is \"b\", with the length of 1.\n",
    "Given \"pwwkew\", the answer is \"wke\", with the length of 3.\n",
    "Note that the answer must be a substring,\n",
    "\"pwke\" is a subsequence and not a substring.\n",
    "\"\"\""
   ]
  },
  {
   "cell_type": "code",
   "execution_count": null,
   "metadata": {},
   "outputs": [],
   "source": [
    "def longest_non_repeat_v1(string):\n",
    "    \"\"\"\n",
    "    Find the length of the longest substring\n",
    "    without repeating characters.\n",
    "    \"\"\"\n",
    "    if string is None:\n",
    "        return 0\n",
    "    dict = {}\n",
    "    max_length = 0\n",
    "    j = 0\n",
    "    for i in range(len(string)):\n",
    "        if string[i] in dict:\n",
    "            j = max(dict[string[i]], j)\n",
    "        dict[string[i]] = i + 1\n",
    "        max_length = max(max_length, i - j + 1)\n",
    "    return max_length\n"
   ]
  },
  {
   "cell_type": "code",
   "execution_count": null,
   "metadata": {},
   "outputs": [],
   "source": [
    "def longest_non_repeat_v2(string):\n",
    "    \"\"\"\n",
    "    Find the length of the longest substring\n",
    "    without repeating characters.\n",
    "    Uses alternative algorithm.\n",
    "    \"\"\"\n",
    "    if string is None:\n",
    "        return 0\n",
    "    start, max_len = 0, 0\n",
    "    used_char = {}\n",
    "    for index, char in enumerate(string):\n",
    "        if char in used_char and start <= used_char[char]:\n",
    "            start = used_char[char] + 1\n",
    "        else:\n",
    "            max_len = max(max_len, index - start + 1)\n",
    "        used_char[char] = index\n",
    "    return max_len"
   ]
  },
  {
   "cell_type": "code",
   "execution_count": null,
   "metadata": {},
   "outputs": [],
   "source": [
    "# get functions of above, returning the max_len and substring\n",
    "def get_longest_non_repeat_v1(string):\n",
    "    \"\"\"\n",
    "    Find the length of the longest substring\n",
    "    without repeating characters.\n",
    "    Return max_len and the substring as a tuple\n",
    "    \"\"\"\n",
    "    if string is None:\n",
    "        return 0, ''\n",
    "    sub_string = ''\n",
    "    dict = {}\n",
    "    max_length = 0\n",
    "    j = 0\n",
    "    for i in range(len(string)):\n",
    "        if string[i] in dict:\n",
    "            j = max(dict[string[i]], j)\n",
    "        dict[string[i]] = i + 1\n",
    "        if i - j + 1 > max_length:\n",
    "            max_length = i - j + 1\n",
    "            sub_string = string[j: i + 1]\n",
    "    return max_length, sub_string"
   ]
  },
  {
   "cell_type": "code",
   "execution_count": null,
   "metadata": {},
   "outputs": [],
   "source": [
    "def get_longest_non_repeat_v2(string):\n",
    "    \"\"\"\n",
    "    Find the length of the longest substring\n",
    "    without repeating characters.\n",
    "    Uses alternative algorithm.\n",
    "    Return max_len and the substring as a tuple\n",
    "    \"\"\"\n",
    "    if string is None:\n",
    "        return 0, ''\n",
    "    sub_string = ''\n",
    "    start, max_len = 0, 0\n",
    "    used_char = {}\n",
    "    for index, char in enumerate(string):\n",
    "        if char in used_char and start <= used_char[char]:\n",
    "            start = used_char[char] + 1\n",
    "        else:\n",
    "            if index - start + 1 > max_len:\n",
    "                max_len = index - start + 1\n",
    "                sub_string = string[start: index + 1]\n",
    "        used_char[char] = index\n",
    "    return max_len, sub_string\n"
   ]
  },
  {
   "cell_type": "code",
   "execution_count": null,
   "metadata": {},
   "outputs": [],
   "source": [
    "def get_longest_non_repeat_v3(string):\n",
    "    \"\"\"\n",
    "    Find the length of the longest substring\n",
    "    without repeating characters.\n",
    "    Uses window sliding approach.\n",
    "    Return max_len and the substring as a tuple\n",
    "    \"\"\"\n",
    "    longest_substring = ''\n",
    "    seen = set()\n",
    "    start_idx = 0\n",
    "    for i in range(len(string)):\n",
    "        while string[i] in seen:\n",
    "            seen.remove(string[start_idx])\n",
    "            start_idx += 1\n",
    "        seen.add(string[i])\n",
    "        longest_substring = max(longest_substring, string[start_idx: i+1], key=len)\n",
    "    return len(longest_substring), longest_substring"
   ]
  }
 ],
 "metadata": {
  "language_info": {
   "name": "python"
  }
 },
 "nbformat": 4,
 "nbformat_minor": 2
}
