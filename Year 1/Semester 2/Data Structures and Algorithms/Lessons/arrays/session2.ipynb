{
 "cells": [
  {
   "cell_type": "markdown",
   "metadata": {},
   "source": [
    "## max ones index"
   ]
  },
  {
   "cell_type": "markdown",
   "metadata": {},
   "source": [
    "The task here below described is to find the index of a 0 in a binary array that, when replaced with 1, would result in the longest sequence of continuous 1s.\n",
    "\n",
    "## Explanation of the Problem:\n",
    "Given a binary array (consisting of 0s and 1s), the goal is to determine which 0 should be replaced with 1 in order to maximize the length of the longest consecutive sequence of 1s."
   ]
  },
  {
   "cell_type": "code",
   "execution_count": null,
   "metadata": {},
   "outputs": [],
   "source": [
    "\"\"\"\n",
    "Find the index of 0 to be replaced with 1 to get\n",
    "longest continuous sequence\n",
    "of 1s in a binary array.\n",
    "Returns index of 0 to be\n",
    "replaced with 1 to get longest\n",
    "continuous sequence of 1s.\n",
    "If there is no 0 in array, then\n",
    "it returns -1.\n",
    "\n",
    "e.g.\n",
    "let input array = [1, 1, 1, 0, 1, 1, 1, 1, 1, 0, 1, 1, 1]\n",
    "If we replace 0 at index 3 with 1, we get the longest continuous\n",
    "sequence of 1s in the array.\n",
    "So the function return => 3\n",
    "\"\"\"\n"
   ]
  },
  {
   "cell_type": "code",
   "execution_count": null,
   "metadata": {},
   "outputs": [],
   "source": [
    "def max_ones_index(arr):\n",
    "\n",
    "    n = len(arr)\n",
    "    max_count = 0\n",
    "    max_index = 0\n",
    "    prev_zero = -1\n",
    "    prev_prev_zero = -1\n",
    "\n",
    "    for curr in range(n):\n",
    "\n",
    "        # If current element is 0,\n",
    "        # then calculate the difference\n",
    "        # between curr and prev_prev_zero\n",
    "        if arr[curr] == 0:\n",
    "            if curr - prev_prev_zero > max_count:\n",
    "                max_count = curr - prev_prev_zero\n",
    "                max_index = prev_zero\n",
    "\n",
    "            prev_prev_zero = prev_zero\n",
    "            prev_zero = curr\n",
    "\n",
    "    if n - prev_prev_zero > max_count:\n",
    "        max_index = prev_zero\n",
    "\n",
    "    return max_index\n"
   ]
  },
  {
   "cell_type": "markdown",
   "metadata": {},
   "source": [
    "## merge intervals"
   ]
  },
  {
   "cell_type": "markdown",
   "metadata": {},
   "source": [
    "In mathematics, a (real) interval is a set of real\n",
    " numbers with the property that any number that lies\n",
    " between two numbers in the set is also included in the set."
   ]
  },
  {
   "cell_type": "code",
   "execution_count": null,
   "metadata": {},
   "outputs": [],
   "source": [
    "class Interval:\n",
    "    \"\"\"\n",
    "    A set of real numbers with methods to determine if other\n",
    "    numbers are included in the set.\n",
    "    Includes related methods to merge and print interval sets.\n",
    "    \"\"\"\n",
    "    def __init__(self, start=0, end=0):\n",
    "        # Initialize an interval with a start and end point\n",
    "        self.start = start\n",
    "        self.end = end\n",
    "\n",
    "    def __repr__(self):\n",
    "        # String representation of the interval for easier debugging and display\n",
    "        return \"Interval ({}, {})\".format(self.start, self.end)\n",
    "\n",
    "    def __iter__(self):\n",
    "        # Allows iteration over the interval, returning a range of numbers from start to end\n",
    "        return iter(range(self.start, self.end))\n",
    "\n",
    "    def __getitem__(self, index):\n",
    "        # Allows indexed access to the interval; supports negative indexing\n",
    "        if index < 0:\n",
    "            return self.end + index  # Support for negative indices\n",
    "        return self.start + index\n",
    "\n",
    "    def __len__(self):\n",
    "        # Returns the length of the interval\n",
    "        return self.end - self.start\n",
    "\n",
    "    def __contains__(self, item):\n",
    "        # Checks if a given item is within the interval\n",
    "        if self.start <= item <= self.end:\n",
    "            return True\n",
    "        return False\n",
    "\n",
    "    def __eq__(self, other):\n",
    "        # Compares two intervals for equality based on their start and end values\n",
    "        if self.start == other.start and self.end == other.end:\n",
    "            return True\n",
    "        return False\n",
    "\n",
    "    def as_list(self):\n",
    "        \"\"\" Return interval as a list of numbers within the interval. \"\"\"\n",
    "        return list(self)\n",
    "\n",
    "    @staticmethod\n",
    "    def merge(intervals):\n",
    "        \"\"\" Merge overlapping intervals into a single interval. \"\"\"\n",
    "        out = []  # List to hold the merged intervals\n",
    "        for i in sorted(intervals, key=lambda i: i.start):  # Sort intervals by start value\n",
    "            if out and i.start <= out[-1].end:  # Check for overlap\n",
    "                out[-1].end = max(out[-1].end, i.end)  # Merge intervals by extending the end\n",
    "            else:\n",
    "                out += i,  # Add the current interval if there's no overlap\n",
    "        return out  # Return the merged intervals\n",
    "\n",
    "    @staticmethod\n",
    "    def print_intervals(intervals):\n",
    "        \"\"\" Print out the intervals in a readable format. \"\"\"\n",
    "        res = []\n",
    "        for i in intervals:\n",
    "            res.append(repr(i))  # Use the string representation of each interval\n",
    "        print(\"\".join(res))  # Join and print all intervals\n",
    "\n",
    "\n",
    "def merge_intervals(intervals):\n",
    "    \"\"\" Merge intervals represented as a list of tuples or lists. \"\"\"\n",
    "    if intervals is None:\n",
    "        return None  # Return None if the input is None\n",
    "    intervals.sort(key=lambda i: i[0])  # Sort intervals based on the start value\n",
    "    out = [intervals.pop(0)]  # Initialize output with the first interval\n",
    "    for i in intervals:\n",
    "        # Check if the current interval overlaps with the last interval in output\n",
    "        if out[-1][-1] >= i[0]:\n",
    "            out[-1][-1] = max(out[-1][-1], i[-1])  # Merge by extending the end of the last interval\n",
    "        else:\n",
    "            out.append(i)  # Add the current interval if there's no overlap\n",
    "    return out  # Return the merged list of intervals\n"
   ]
  },
  {
   "cell_type": "markdown",
   "metadata": {},
   "source": [
    "## - The Interval class defines a range of real numbers and provides methods for merging overlapping intervals and checking containment.\n",
    "## - The merge_intervals function operates on a list of intervals, merging them based on overlaps and returning a new list of merged intervals."
   ]
  }
 ],
 "metadata": {
  "language_info": {
   "name": "python"
  }
 },
 "nbformat": 4,
 "nbformat_minor": 2
}
