{
 "cells": [
  {
   "cell_type": "markdown",
   "metadata": {},
   "source": [
    "## Remove duplicates "
   ]
  },
  {
   "cell_type": "code",
   "execution_count": null,
   "metadata": {},
   "outputs": [],
   "source": [
    "\"\"\"\n",
    "This algorithm removes any duplicates from an array and returns a new array with those duplicates\n",
    "removed.\n",
    "\n",
    "For example:\n",
    "\n",
    "Input: [1, 1 ,1 ,2 ,2 ,3 ,4 ,4 ,\"hey\", \"hey\", \"hello\", True, True]\n",
    "Output: [1, 2, 3, 4, 'hey', 'hello']\n",
    "\"\"\"\n",
    "\n"
   ]
  },
  {
   "cell_type": "code",
   "execution_count": null,
   "metadata": {},
   "outputs": [],
   "source": [
    "def remove_duplicates(array):\n",
    "    new_array = []\n",
    "\n",
    "    for item in array:\n",
    "        if item not in new_array:\n",
    "            new_array.append(item)\n",
    "\n",
    "    return new_array"
   ]
  },
  {
   "cell_type": "markdown",
   "metadata": {},
   "source": [
    "## Rotating an Array to the Right by K Steps"
   ]
  },
  {
   "cell_type": "code",
   "execution_count": null,
   "metadata": {},
   "outputs": [],
   "source": [
    "\"\"\"\n",
    "Rotate an array of n elements to the right by k steps.\n",
    "\n",
    "For example, with n = 7 and k = 3,\n",
    "the array [1,2,3,4,5,6,7] is rotated to [5,6,7,1,2,3,4].\n",
    "\n",
    "Note:\n",
    "Try to come up as many solutions as you can,\n",
    "there are at least 3 different ways to solve this problem.\n",
    "\"\"\""
   ]
  },
  {
   "cell_type": "code",
   "execution_count": null,
   "metadata": {},
   "outputs": [],
   "source": [
    "def rotate_v1(array, k):\n",
    "    \"\"\"\n",
    "    Rotate the entire array 'k' times\n",
    "    T(n)- O(nk)\n",
    "\n",
    "    :type array: List[int]\n",
    "    :type k: int\n",
    "    :rtype: void Do not return anything, modify array in-place instead.\n",
    "    \"\"\"\n",
    "    array = array[:]\n",
    "    n = len(array)\n",
    "    for i in range(k):      # unused variable is not a problem\n",
    "        temp = array[n - 1]\n",
    "        for j in range(n-1, 0, -1):\n",
    "            array[j] = array[j - 1]\n",
    "        array[0] = temp\n",
    "    return array\n",
    "\n",
    "\n",
    "def rotate_v2(array, k):\n",
    "    \"\"\"\n",
    "    Reverse segments of the array, followed by the entire array\n",
    "    T(n)- O(n)\n",
    "    :type array: List[int]\n",
    "    :type k: int\n",
    "    :rtype: void Do not return anything, modify nums in-place instead.\n",
    "    \"\"\"\n",
    "    array = array[:]\n",
    "\n",
    "    def reverse(arr, a, b):\n",
    "        while a < b:\n",
    "            arr[a], arr[b] = arr[b], arr[a]\n",
    "            a += 1\n",
    "            b -= 1\n",
    "\n",
    "    n = len(array)\n",
    "    k = k % n\n",
    "    reverse(array, 0, n - k - 1)\n",
    "    reverse(array, n - k, n - 1)\n",
    "    reverse(array, 0, n - 1)\n",
    "    return array\n",
    "\n",
    "\n",
    "def rotate_v3(array, k):\n",
    "    if array is None:\n",
    "        return None\n",
    "    length = len(array)\n",
    "    k = k % length\n",
    "    return array[length - k:] + array[:length - k]"
   ]
  },
  {
   "cell_type": "markdown",
   "metadata": {},
   "source": [
    "## Summarize ranges"
   ]
  },
  {
   "cell_type": "code",
   "execution_count": null,
   "metadata": {},
   "outputs": [],
   "source": [
    "\"\"\"\n",
    "Given a sorted integer array without duplicates,\n",
    "return the summary of its ranges.\n",
    "\n",
    "For example, given [0, 1, 2, 4, 5, 7], return [(0, 2), (4, 5), (7, 7)].\n",
    "\"\"\""
   ]
  },
  {
   "cell_type": "code",
   "execution_count": null,
   "metadata": {},
   "outputs": [],
   "source": [
    "from typing import List\n",
    "\n",
    "def summarize_ranges(array: List[int]) -> List[str]:\n",
    "    res = []\n",
    "    if len(array) == 1:\n",
    "        return [str(array[0])]\n",
    "    it = iter(array)\n",
    "    start = end = next(it)\n",
    "    for num in it:\n",
    "        if num - end == 1:\n",
    "            end = num\n",
    "        else:\n",
    "            res.append((start, end) if start != end else (start,))\n",
    "            start = end = num\n",
    "    res.append((start, end) if start != end else (start,))\n",
    "    return [f\"{r[0]}-{r[1]}\" if len(r) > 1 else str(r[0]) for r in res]"
   ]
  },
  {
   "cell_type": "markdown",
   "metadata": {},
   "source": [
    "## Finding Unique Triplets That Sum to Zero in an Array"
   ]
  },
  {
   "cell_type": "code",
   "execution_count": null,
   "metadata": {},
   "outputs": [],
   "source": [
    "\"\"\"\n",
    "Given an array S of n integers, are there three distinct elements\n",
    "a, b, c in S such that a + b + c = 0?\n",
    "Find all unique triplets in the array which gives the sum of zero.\n",
    "\n",
    "Note: The solution set must not contain duplicate triplets.\n",
    "\n",
    "For example, given array S = [-1, 0, 1, 2, -1, -4],\n",
    "\n",
    "A solution set is:\n",
    "{\n",
    "  (-1, 0, 1),\n",
    "  (-1, -1, 2)\n",
    "}\n",
    "\"\"\"\n"
   ]
  },
  {
   "cell_type": "code",
   "execution_count": null,
   "metadata": {},
   "outputs": [],
   "source": [
    "def three_sum(array):\n",
    "    \"\"\"\n",
    "    :param array: List[int]\n",
    "    :return: Set[ Tuple[int, int, int] ]\n",
    "    \"\"\"\n",
    "    res = set()\n",
    "    array.sort()\n",
    "    for i in range(len(array) - 2):\n",
    "        if i > 0 and array[i] == array[i - 1]:\n",
    "            continue\n",
    "        l, r = i + 1, len(array) - 1\n",
    "        while l < r:\n",
    "            s = array[i] + array[l] + array[r]\n",
    "            if s > 0:\n",
    "                r -= 1\n",
    "            elif s < 0:\n",
    "                l += 1\n",
    "            else:\n",
    "                # found three sum\n",
    "                res.add((array[i], array[l], array[r]))\n",
    "\n",
    "                # remove duplicates\n",
    "                while l < r and array[l] == array[l + 1]:\n",
    "                    l += 1\n",
    "\n",
    "                while l < r and array[r] == array[r - 1]:\n",
    "                    r -= 1\n",
    "\n",
    "                l += 1\n",
    "                r -= 1\n",
    "    return res"
   ]
  },
  {
   "cell_type": "markdown",
   "metadata": {},
   "source": [
    "## Finding the Most Frequent Values in an Array (Mathematical Mode)"
   ]
  },
  {
   "cell_type": "code",
   "execution_count": null,
   "metadata": {},
   "outputs": [],
   "source": [
    "\"\"\"\n",
    "This algorithm receives an array and returns most_frequent_value\n",
    "Also, sometimes it is possible to have multiple 'most_frequent_value's,\n",
    "so this function returns a list. This result can be used to find a \n",
    "representative value in an array.\n",
    "\n",
    "This algorithm gets an array, makes a dictionary of it,\n",
    " finds the most frequent count, and makes the result list.\n",
    "\n",
    "For example: top_1([1, 1, 2, 2, 3, 4]) will return [1, 2]\n",
    "\n",
    "(TL:DR) Get mathematical Mode\n",
    "Complexity: O(n)\n",
    "\"\"\""
   ]
  },
  {
   "cell_type": "code",
   "execution_count": null,
   "metadata": {},
   "outputs": [],
   "source": [
    "def top_1(arr):\n",
    "    values = {}\n",
    "    #reserve each value which first appears on keys\n",
    "    #reserve how many time each value appears by index number on values\n",
    "    result = []\n",
    "    f_val = 0\n",
    "\n",
    "    for i in arr:\n",
    "        if i in values:\n",
    "            values[i] += 1\n",
    "        else:\n",
    "            values[i] = 1\n",
    "\n",
    "    f_val = max(values.values())\n",
    "        \n",
    "    for i in values.keys():\n",
    "        if values[i] == f_val:\n",
    "            result.append(i)\n",
    "        else:\n",
    "            continue\n",
    "    \n",
    "    return result"
   ]
  },
  {
   "cell_type": "markdown",
   "metadata": {},
   "source": [
    "## Calculating a Trimmed Mean by Neglecting Outliers"
   ]
  },
  {
   "cell_type": "code",
   "execution_count": null,
   "metadata": {},
   "outputs": [],
   "source": [
    "\"\"\"\n",
    "When make reliable means, we need to neglect best and worst values.\n",
    "For example, when making average score on athletes we need this option.\n",
    "So, this algorithm affixes some percentage to neglect when making mean.\n",
    "For example, if you suggest 20%, it will neglect the best 10% of values\n",
    "and the worst 10% of values.\n",
    "\n",
    "This algorithm takes an array and percentage to neglect. After sorted,\n",
    "if index of array is larger or smaller than desired ratio, we don't\n",
    "compute it.\n",
    "\n",
    "Compleity: O(n)\n",
    "\"\"\""
   ]
  },
  {
   "cell_type": "code",
   "execution_count": null,
   "metadata": {},
   "outputs": [],
   "source": [
    "def trimmean(arr, per):\n",
    "    ratio = per/200\n",
    "    # /100 for easy calculation by *, and /2 for easy adaption to best and worst parts.\n",
    "    cal_sum = 0\n",
    "    # sum value to be calculated to trimmean.\n",
    "    arr.sort()\n",
    "    neg_val = int(len(arr)*ratio)\n",
    "    arr = arr[neg_val:len(arr)-neg_val]\n",
    "    for i in arr:\n",
    "        cal_sum += i\n",
    "    return cal_sum/len(arr)"
   ]
  },
  {
   "cell_type": "markdown",
   "metadata": {},
   "source": []
  },
  {
   "cell_type": "markdown",
   "metadata": {},
   "source": [
    "## Finding Indices of Two Numbers That Sum to a Target"
   ]
  },
  {
   "cell_type": "code",
   "execution_count": null,
   "metadata": {},
   "outputs": [],
   "source": [
    "\"\"\"\n",
    "Given an array of integers, return indices of the two numbers\n",
    "such that they add up to a specific target.\n",
    "\n",
    "You may assume that each input would have exactly one solution,\n",
    "and you may not use the same element twice.\n",
    "\n",
    "Example:\n",
    "    Given nums = [2, 7, 11, 15], target = 9,\n",
    "\n",
    "    Because nums[0] + nums[1] = 2 + 7 = 9,\n",
    "    return (0, 1)\n",
    "\"\"\""
   ]
  },
  {
   "cell_type": "code",
   "execution_count": null,
   "metadata": {},
   "outputs": [],
   "source": [
    "def two_sum(array, target):\n",
    "    dic = {}\n",
    "    for i, num in enumerate(array):\n",
    "        if num in dic:\n",
    "            return dic[num], i\n",
    "        else:\n",
    "            dic[target - num] = i\n",
    "    return None"
   ]
  }
 ],
 "metadata": {
  "language_info": {
   "name": "python"
  }
 },
 "nbformat": 4,
 "nbformat_minor": 2
}
