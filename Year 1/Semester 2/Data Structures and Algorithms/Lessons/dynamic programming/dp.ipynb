{
 "cells": [
  {
   "cell_type": "markdown",
   "metadata": {},
   "source": [
    "# **DP (Dynamic Programming)**\n",
    "   Dynamic programming is an optimization technique that solves problems by breaking them down into simpler subproblems and storing the results of these subproblems to avoid redundant computations.\n",
    "   - **Applications:** Fibonacci sequence, Knapsack problem, Longest Common Subsequence."
   ]
  },
  {
   "cell_type": "code",
   "execution_count": null,
   "metadata": {},
   "outputs": [],
   "source": [
    "# init py\n",
    "from .buy_sell_stock import *\n",
    "from .climbing_stairs import *\n",
    "from .coin_change import *\n",
    "from .combination_sum import *\n",
    "from .edit_distance import *\n",
    "from .egg_drop import *\n",
    "from .fib import *\n",
    "from .hosoya_triangle import *\n",
    "from .house_robber import *\n",
    "from .job_scheduling import *\n",
    "from .knapsack import *\n",
    "from .longest_increasing import *\n",
    "from .matrix_chain_order import *\n",
    "from .max_product_subarray import *\n",
    "from .max_subarray import *\n",
    "from .min_cost_path import *\n",
    "from .num_decodings import *\n",
    "from .regex_matching import *\n",
    "from .rod_cut import *\n",
    "from .word_break import *\n",
    "from .int_divide import *\n",
    "from .k_factor import *\n",
    "from .planting_trees import *\n"
   ]
  },
  {
   "cell_type": "markdown",
   "metadata": {},
   "source": [
    "## Finding Maximum Profit from Stock Prices with Optimal Algorithms"
   ]
  },
  {
   "cell_type": "code",
   "execution_count": null,
   "metadata": {},
   "outputs": [],
   "source": [
    "\"\"\"\n",
    "Say you have an array for which the ith element\n",
    "is the price of a given stock on day i.\n",
    "\n",
    "If you were only permitted to complete at most one transaction\n",
    "(ie, buy one and sell one share of the stock),\n",
    "design an algorithm to find the maximum profit.\n",
    "\n",
    "Example 1:\n",
    "Input: [7, 1, 5, 3, 6, 4]\n",
    "Output: 5\n",
    "\n",
    "max. difference = 6-1 = 5\n",
    "(not 7-1 = 6, as selling price needs to be larger than buying price)\n",
    "Example 2:\n",
    "Input: [7, 6, 4, 3, 1]\n",
    "Output: 0\n",
    "\n",
    "In this case, no transaction is done, i.e. max profit = 0.\n",
    "\"\"\""
   ]
  },
  {
   "cell_type": "code",
   "execution_count": null,
   "metadata": {},
   "outputs": [],
   "source": [
    "# O(n^2) time\n",
    "def max_profit_naive(prices):\n",
    "    \"\"\"\n",
    "    :type prices: List[int]\n",
    "    :rtype: int\n",
    "    \"\"\"\n",
    "    max_so_far = 0\n",
    "    for i in range(0, len(prices) - 1):\n",
    "        for j in range(i + 1, len(prices)):\n",
    "            max_so_far = max(max_so_far, prices[j] - prices[i])\n",
    "    return max_so_far"
   ]
  },
  {
   "cell_type": "code",
   "execution_count": null,
   "metadata": {},
   "outputs": [],
   "source": [
    "# O(n) time\n",
    "def max_profit_optimized(prices):\n",
    "    \"\"\"\n",
    "    input: [7, 1, 5, 3, 6, 4]\n",
    "    diff : [X, -6, 4, -2, 3, -2]\n",
    "    :type prices: List[int]\n",
    "    :rtype: int\n",
    "    \"\"\"\n",
    "    cur_max, max_so_far = 0, 0\n",
    "    for i in range(1, len(prices)):\n",
    "        cur_max = max(0, cur_max + prices[i] - prices[i-1])\n",
    "        max_so_far = max(max_so_far, cur_max)\n",
    "    return max_so_far"
   ]
  },
  {
   "cell_type": "code",
   "execution_count": null,
   "metadata": {},
   "outputs": [],
   "source": []
  },
  {
   "cell_type": "markdown",
   "metadata": {},
   "source": [
    "## \"Climbing Stairs\" Problem with Optimized Space Complexity"
   ]
  },
  {
   "cell_type": "code",
   "execution_count": null,
   "metadata": {},
   "outputs": [],
   "source": [
    "\"\"\"\n",
    "You are climbing a stair case.\n",
    "It takes `steps` number of steps to reach to the top.\n",
    "\n",
    "Each time you can either climb 1 or 2 steps.\n",
    "In how many distinct ways can you climb to the top?\n",
    "\n",
    "Note: Given argument `steps` will be a positive integer.\n",
    "\"\"\""
   ]
  },
  {
   "cell_type": "code",
   "execution_count": null,
   "metadata": {},
   "outputs": [],
   "source": [
    "# O(n) space\n",
    "\n",
    "def climb_stairs(steps):\n",
    "    \"\"\"\n",
    "    :type steps: int\n",
    "    :rtype: int\n",
    "    \"\"\"\n",
    "    arr = [1, 1]\n",
    "    for _ in range(1, steps):\n",
    "        arr.append(arr[-1] + arr[-2])\n",
    "    return arr[-1]"
   ]
  },
  {
   "cell_type": "code",
   "execution_count": null,
   "metadata": {},
   "outputs": [],
   "source": [
    "# the above function can be optimized as:\n",
    "# O(1) space\n",
    "\n",
    "def climb_stairs_optimized(steps):\n",
    "    \"\"\"\n",
    "    :type steps: int\n",
    "    :rtype: int\n",
    "    \"\"\"\n",
    "    a_steps = b_steps = 1\n",
    "    for _ in range(steps):\n",
    "        a_steps, b_steps = b_steps, a_steps + b_steps\n",
    "    return a_steps"
   ]
  },
  {
   "cell_type": "markdown",
   "metadata": {},
   "source": [
    "## \"Coin Change\" Problem with Optimized Time and Space Complexity"
   ]
  },
  {
   "cell_type": "code",
   "execution_count": null,
   "metadata": {},
   "outputs": [],
   "source": [
    "\"\"\"\n",
    "Problem\n",
    "Given a value `value`, if we want to make change for `value` cents, and we have infinite\n",
    "supply of each of coins = {S1, S2, .. , Sm} valued `coins`, how many ways can we make the change?\n",
    "The order of `coins` doesn't matter.\n",
    "For example, for `value` = 4 and `coins` = [1, 2, 3], there are four solutions:\n",
    "[1, 1, 1, 1], [1, 1, 2], [2, 2], [1, 3].\n",
    "So output should be 4.\n",
    "\n",
    "For `value` = 10 and `coins` = [2, 5, 3, 6], there are five solutions:\n",
    "\n",
    "[2, 2, 2, 2, 2], [2, 2, 3, 3], [2, 2, 6], [2, 3, 5] and [5, 5].\n",
    "So the output should be 5.\n",
    "\n",
    "Time complexity: O(n * m) where n is the `value` and m is the number of `coins`\n",
    "Space complexity: O(n)\n",
    "\"\"\""
   ]
  },
  {
   "cell_type": "code",
   "execution_count": null,
   "metadata": {},
   "outputs": [],
   "source": [
    "def count(coins, value):\n",
    "    \"\"\" Find number of combination of `coins` that adds upp to `value`\n",
    "\n",
    "    Keyword arguments:\n",
    "    coins -- int[]\n",
    "    value -- int\n",
    "    \"\"\"\n",
    "    # initialize dp array and set base case as 1\n",
    "    dp_array = [1] + [0] * value\n",
    "\n",
    "    # fill dp in a bottom up manner\n",
    "    for coin in coins:\n",
    "        for i in range(coin, value+1):\n",
    "            dp_array[i] += dp_array[i-coin]\n",
    "\n",
    "    return dp_array[value]"
   ]
  },
  {
   "cell_type": "markdown",
   "metadata": {},
   "source": [
    "## \"Combination Sum IV\" Problem with Top-Down and Bottom-Up Approaches"
   ]
  },
  {
   "cell_type": "code",
   "execution_count": null,
   "metadata": {},
   "outputs": [],
   "source": [
    "\"\"\"\n",
    "Given an integer array with all positive numbers and no duplicates,\n",
    "find the number of possible combinations that\n",
    "add up to a positive integer target.\n",
    "\n",
    "Example:\n",
    "\n",
    "nums = [1, 2, 3]\n",
    "target = 4\n",
    "\n",
    "The possible combination ways are:\n",
    "(1, 1, 1, 1)\n",
    "(1, 1, 2)\n",
    "(1, 2, 1)\n",
    "(1, 3)\n",
    "(2, 1, 1)\n",
    "(2, 2)\n",
    "(3, 1)\n",
    "\n",
    "Note that different sequences are counted as different combinations.\n",
    "\n",
    "Therefore the output is 7.\n",
    "Follow up:\n",
    "What if negative numbers are allowed in the given array?\n",
    "How does it change the problem?\n",
    "What limitation we need to add to the question to allow negative numbers?\n",
    "\n",
    "\"\"\""
   ]
  },
  {
   "cell_type": "code",
   "execution_count": null,
   "metadata": {},
   "outputs": [],
   "source": [
    "DP = None\n",
    "\n",
    "def helper_topdown(nums, target):\n",
    "    \"\"\"Generates DP and finds result.\n",
    "\n",
    "    Keyword arguments:\n",
    "    nums -- positive integer array without duplicates\n",
    "    target -- integer describing what a valid combination should add to\n",
    "    \"\"\"\n",
    "    if DP[target] != -1:\n",
    "        return DP[target]\n",
    "    res = 0\n",
    "    for num in nums:\n",
    "        if target >= num:\n",
    "            res += helper_topdown(nums, target - num)\n",
    "    DP[target] = res\n",
    "    return res"
   ]
  },
  {
   "cell_type": "code",
   "execution_count": null,
   "metadata": {},
   "outputs": [],
   "source": [
    "def combination_sum_topdown(nums, target):\n",
    "    \"\"\"Find number of possible combinations in nums that add up to target, in top-down manner.\n",
    "\n",
    "    Keyword arguments:\n",
    "    nums -- positive integer array without duplicates\n",
    "    target -- integer describing what a valid combination should add to\n",
    "    \"\"\"\n",
    "    global DP\n",
    "    DP = [-1] * (target + 1)\n",
    "    DP[0] = 1\n",
    "    return helper_topdown(nums, target)"
   ]
  },
  {
   "cell_type": "code",
   "execution_count": null,
   "metadata": {},
   "outputs": [],
   "source": [
    "def combination_sum_bottom_up(nums, target):\n",
    "    \"\"\"Find number of possible combinations in nums that add up to target, in bottom-up manner.\n",
    "\n",
    "    Keyword arguments:\n",
    "    nums -- positive integer array without duplicates\n",
    "    target -- integer describing what a valid combination should add to\n",
    "    \"\"\"\n",
    "    combs = [0] * (target + 1)\n",
    "    combs[0] = 1\n",
    "    for i in range(0, len(combs)):\n",
    "        for num in nums:\n",
    "            if i - num >= 0:\n",
    "                combs[i] += combs[i - num]\n",
    "    return combs[target]"
   ]
  }
 ],
 "metadata": {
  "language_info": {
   "name": "python"
  }
 },
 "nbformat": 4,
 "nbformat_minor": 2
}
