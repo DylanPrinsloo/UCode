{
 "cells": [
  {
   "cell_type": "code",
   "execution_count": null,
   "metadata": {},
   "outputs": [],
   "source": [
    "# init py\n",
    "from .buy_sell_stock import *\n",
    "from .climbing_stairs import *\n",
    "from .coin_change import *\n",
    "from .combination_sum import *\n",
    "from .edit_distance import *\n",
    "from .egg_drop import *\n",
    "from .fib import *\n",
    "from .hosoya_triangle import *\n",
    "from .house_robber import *\n",
    "from .job_scheduling import *\n",
    "from .knapsack import *\n",
    "from .longest_increasing import *\n",
    "from .matrix_chain_order import *\n",
    "from .max_product_subarray import *\n",
    "from .max_subarray import *\n",
    "from .min_cost_path import *\n",
    "from .num_decodings import *\n",
    "from .regex_matching import *\n",
    "from .rod_cut import *\n",
    "from .word_break import *\n",
    "from .int_divide import *\n",
    "from .k_factor import *\n",
    "from .planting_trees import *"
   ]
  },
  {
   "cell_type": "markdown",
   "metadata": {},
   "source": [
    "# Maximum Product Subarray\n",
    "\n"
   ]
  },
  {
   "cell_type": "markdown",
   "metadata": {},
   "source": [
    "#### The solution made has a contiguous subarray within an array that has the largest product. The main function, `max_product`, efficiently calculates the maximum product using dynamic programming principles by tracking both the maximum and minimum products at each step. The `subarray_with_max_product` function provides an extended capability to not only return the maximum product but also to identify and print the specific subarray that yields this maximum product. \n"
   ]
  },
  {
   "cell_type": "markdown",
   "metadata": {},
   "source": []
  },
  {
   "cell_type": "code",
   "execution_count": null,
   "metadata": {},
   "outputs": [],
   "source": [
    "\"\"\"\n",
    "Find the contiguous subarray within an array\n",
    "(containing at least one number) which has the largest product.\n",
    "\n",
    "For example, given the array [2,3,-2,4],\n",
    "the contiguous subarray [2,3] has the largest product = 6.\n",
    "\"\"\""
   ]
  },
  {
   "cell_type": "code",
   "execution_count": null,
   "metadata": {},
   "outputs": [],
   "source": [
    "from functools import reduce\n",
    "\n",
    "def max_product(nums):\n",
    "    \"\"\"\n",
    "    :type nums: List[int]\n",
    "    :rtype: int\n",
    "    \"\"\"\n",
    "    lmin = lmax = gmax = nums[0]\n",
    "    for num in nums:\n",
    "        t_1 = num * lmax\n",
    "        t_2 = num * lmin\n",
    "        lmax = max(max(t_1, t_2), num)\n",
    "        lmin = min(min(t_1, t_2), num)\n",
    "        gmax = max(gmax, lmax)"
   ]
  },
  {
   "cell_type": "code",
   "execution_count": null,
   "metadata": {},
   "outputs": [],
   "source": [
    "\"\"\"\n",
    "Another approach that would print max product and the subarray\n",
    "\n",
    "Examples:\n",
    "subarray_with_max_product([2,3,6,-1,-1,9,5])\n",
    "    #=> max_product_so_far: 45, [-1, -1, 9, 5]\n",
    "subarray_with_max_product([-2,-3,6,0,-7,-5])\n",
    "    #=> max_product_so_far: 36, [-2, -3, 6]\n",
    "subarray_with_max_product([-4,-3,-2,-1])\n",
    "    #=> max_product_so_far: 24, [-4, -3, -2, -1]\n",
    "subarray_with_max_product([-3,0,1])\n",
    "    #=> max_product_so_far: 1, [1]\n",
    "\"\"\""
   ]
  },
  {
   "cell_type": "code",
   "execution_count": null,
   "metadata": {},
   "outputs": [],
   "source": [
    "def subarray_with_max_product(arr):\n",
    "    ''' arr is list of positive/negative numbers '''\n",
    "    length = len(arr)\n",
    "    product_so_far = max_product_end = 1\n",
    "    max_start_i = 0\n",
    "    so_far_start_i = so_far_end_i = 0\n",
    "    all_negative_flag = True\n",
    "\n",
    "    for i in range(length):\n",
    "        max_product_end *= arr[i]\n",
    "        if arr[i] > 0:\n",
    "            all_negative_flag = False\n",
    "\n",
    "        if max_product_end <= 0:\n",
    "            max_product_end = arr[i]\n",
    "            max_start_i = i\n",
    "\n",
    "        if product_so_far <= max_product_end:\n",
    "            product_so_far = max_product_end\n",
    "            so_far_end_i = i\n",
    "            so_far_start_i = max_start_i\n",
    "\n",
    "    if all_negative_flag:\n",
    "        print(f\"max_product_so_far: {reduce(lambda x, y: x * y, arr)}, {arr}\")\n",
    "\n",
    "    else:\n",
    "        print(f\"max_product_so_far: {product_so_far},{arr[so_far_start_i:so_far_end_i + 1]}\")"
   ]
  },
  {
   "cell_type": "markdown",
   "metadata": {},
   "source": [
    "## Max subarray"
   ]
  },
  {
   "cell_type": "code",
   "execution_count": null,
   "metadata": {},
   "outputs": [],
   "source": [
    "def max_subarray(array):\n",
    "    max_so_far = max_now = array[0]\n",
    "    for i in range(1, len(array)):\n",
    "        max_now = max(array[i], max_now + array[i])\n",
    "        max_so_far = max(max_so_far, max_now)\n",
    "    return max_so_far\n",
    "\n",
    "a = [1, 2, -3, 4, 5, -7, 23]\n",
    "print(a)\n",
    "print(max_subarray(a))"
   ]
  },
  {
   "cell_type": "markdown",
   "metadata": {},
   "source": [
    "## Minimum Cost Path in a Cost Matrix"
   ]
  },
  {
   "cell_type": "code",
   "execution_count": null,
   "metadata": {},
   "outputs": [],
   "source": [
    "\"\"\"\n",
    "author @goswami-rahul\n",
    "\n",
    "To find minimum cost path\n",
    "from station 0 to station N-1,\n",
    "where cost of moving from ith station to jth station is given as:\n",
    "\n",
    "Matrix of size (N x N)\n",
    "where Matrix[i][j] denotes the cost of moving from\n",
    "station i --> station j   for i < j\n",
    "\n",
    "NOTE that values where Matrix[i][j] and i > j does not\n",
    "mean anything, and hence represented by -1 or INF\n",
    "\n",
    "For the input below (cost matrix),\n",
    "Minimum cost is obtained as from  { 0 --> 1 --> 3}\n",
    "                                  = cost[0][1] + cost[1][3] = 65\n",
    "the Output will be:\n",
    "\n",
    "The Minimum cost to reach station 4 is 65\n",
    "\n",
    "Time Complexity: O(n^2)\n",
    "Space Complexity: O(n)\n",
    "\"\"\""
   ]
  },
  {
   "cell_type": "code",
   "execution_count": null,
   "metadata": {},
   "outputs": [],
   "source": [
    "INF = float(\"inf\")"
   ]
  },
  {
   "cell_type": "code",
   "execution_count": null,
   "metadata": {},
   "outputs": [],
   "source": [
    "def min_cost(cost):\n",
    "    \"\"\"Find minimum cost.\n",
    "\n",
    "    Keyword arguments:\n",
    "    cost -- matrix containing costs\n",
    "    \"\"\"\n",
    "    length = len(cost)\n",
    "    # dist[i] stores minimum cost from 0 --> i.\n",
    "    dist = [INF] * length\n",
    "\n",
    "    dist[0] = 0   # cost from 0 --> 0 is zero.\n",
    "\n",
    "    for i in range(length):\n",
    "        for j in range(i+1,length):\n",
    "            dist[j] = min(dist[j], dist[i] + cost[i][j])\n",
    "\n",
    "    return dist[length-1]"
   ]
  },
  {
   "cell_type": "code",
   "execution_count": null,
   "metadata": {},
   "outputs": [],
   "source": [
    "if __name__ == '__main__':\n",
    "    costs = [ [ 0, 15, 80, 90],         # cost[i][j] is the cost of\n",
    "             [-1,  0, 40, 50],         # going from i --> j\n",
    "             [-1, -1,  0, 70],\n",
    "             [-1, -1, -1,  0] ]        # cost[i][j] = -1 for i > j\n",
    "    TOTAL_LEN = len(costs)\n",
    "\n",
    "    mcost = min_cost(costs)\n",
    "    assert mcost == 65\n",
    "\n",
    "    print(f\"The minimum cost to reach station {TOTAL_LEN} is {mcost}\")"
   ]
  },
  {
   "cell_type": "markdown",
   "metadata": {},
   "source": [
    "## Decoding Encoded Messages"
   ]
  },
  {
   "cell_type": "code",
   "execution_count": null,
   "metadata": {},
   "outputs": [],
   "source": [
    "\"\"\"\n",
    "A message containing letters from A-Z is being\n",
    "encoded to numbers using the following mapping:\n",
    "\n",
    "'A' -> 1\n",
    "'B' -> 2\n",
    "...\n",
    "'Z' -> 26\n",
    "Given an encoded message containing digits,\n",
    "determine the total number of ways to decode it.\n",
    "\"\"\""
   ]
  },
  {
   "cell_type": "code",
   "execution_count": null,
   "metadata": {},
   "outputs": [],
   "source": [
    "\"\"\"\n",
    "For example,\n",
    "Given encoded message \"12\",\n",
    "it could be decoded as \"AB\" (1 2) or \"L\" (12).\n",
    "\n",
    "The number of ways decoding \"12\" is 2.\n",
    "\"\"\""
   ]
  },
  {
   "cell_type": "code",
   "execution_count": null,
   "metadata": {},
   "outputs": [],
   "source": [
    "def num_decodings(enc_mes):\n",
    "    \"\"\"\n",
    "    :type s: str\n",
    "    :rtype: int\n",
    "    \"\"\"\n",
    "    if not enc_mes or enc_mes[0] == \"0\":\n",
    "        return 0\n",
    "    last_char, last_two_chars = 1, 1\n",
    "    for i in range(1, len(enc_mes)):\n",
    "        last = last_char if enc_mes[i] != \"0\" else 0\n",
    "        last_two = last_two_chars if int(enc_mes[i-1:i+1]) < 27 and enc_mes[i-1] != \"0\" else 0\n",
    "        last_two_chars = last_char\n",
    "        last_char = last+last_two\n",
    "    return last_char"
   ]
  },
  {
   "cell_type": "code",
   "execution_count": null,
   "metadata": {},
   "outputs": [],
   "source": [
    "def num_decodings2(enc_mes):\n",
    "    \"\"\"\n",
    "    :type s: str\n",
    "    :rtype: int\n",
    "    \"\"\"\n",
    "    if not enc_mes or enc_mes.startswith('0'):\n",
    "        return 0\n",
    "    stack = [1, 1]\n",
    "    for i in range(1, len(enc_mes)):\n",
    "        if enc_mes[i] == '0':\n",
    "            if enc_mes[i-1] == '0' or enc_mes[i-1] > '2':\n",
    "                # only '10', '20' is valid\n",
    "                return 0\n",
    "            stack.append(stack[-2])\n",
    "        elif 9 < int(enc_mes[i-1:i+1]) < 27:\n",
    "            # '01 - 09' is not allowed\n",
    "            stack.append(stack[-2]+stack[-1])\n",
    "        else:\n",
    "            # other case '01, 09, 27'\n",
    "            stack.append(stack[-1])\n",
    "    return stack[-1]"
   ]
  },
  {
   "cell_type": "markdown",
   "metadata": {},
   "source": [
    "## Tree Planting Along a Country Road"
   ]
  },
  {
   "cell_type": "code",
   "execution_count": null,
   "metadata": {},
   "outputs": [],
   "source": [
    "\"\"\"\n",
    "An even number of trees are left along one side of a country road. You've been\n",
    "assigned the job to plant these trees at an even interval on both sides of the\n",
    "road. The length and width of the road are variable, and a pair of trees must\n",
    "be planted at the beginning (at 0) and at the end (at length) of the road. Only\n",
    "one tree can be moved at a time. The goal is to calculate the lowest amount of\n",
    "distance that the trees have to be moved before they are all in a valid\n",
    "position.\n",
    "\"\"\""
   ]
  },
  {
   "cell_type": "code",
   "execution_count": null,
   "metadata": {},
   "outputs": [],
   "source": [
    "from math import sqrt"
   ]
  },
  {
   "cell_type": "code",
   "execution_count": null,
   "metadata": {},
   "outputs": [],
   "source": [
    "def planting_trees(trees, length, width):\n",
    "    \"\"\"\n",
    "    Returns the minimum distance that trees have to be moved before they\n",
    "    are all in a valid state.\n",
    "\n",
    "        Parameters:\n",
    "            tree (list<int>): A sorted list of integers with all trees'\n",
    "                              position along the road.\n",
    "            length (int): An integer with the length of the road.\n",
    "            width (int): An integer with the width of the road.\n",
    "\n",
    "        Returns:\n",
    "            A float number with the total distance trees have been moved.\n",
    "    \"\"\"\n",
    "    trees = [0] + trees\n",
    "\n",
    "    n_pairs = int(len(trees)/2)\n",
    "\n",
    "    space_between_pairs = length/(n_pairs-1)\n",
    "\n",
    "    target_locations = [location*space_between_pairs for location in range(n_pairs)]\n",
    "\n",
    "    cmatrix = [[0 for _ in range(n_pairs+1)] for _ in range(n_pairs+1)]\n",
    "    for r_i in range(1, n_pairs+1):\n",
    "        cmatrix[r_i][0] = cmatrix[r_i-1][0] + sqrt(\n",
    "                width + abs(trees[r_i]-target_locations[r_i-1])**2)\n",
    "    for l_i in range(1, n_pairs+1):\n",
    "        cmatrix[0][l_i] = cmatrix[0][l_i-1] + abs(trees[l_i]-target_locations[l_i-1])\n",
    "\n",
    "    for r_i in range(1, n_pairs+1):\n",
    "        for l_i in range(1, n_pairs+1):\n",
    "            cmatrix[r_i][l_i] = min(\n",
    "                cmatrix[r_i-1][l_i] + sqrt(width + (trees[l_i + r_i]-target_locations[r_i-1])**2),\n",
    "                cmatrix[r_i][l_i-1] + abs(trees[l_i + r_i]-target_locations[l_i-1])\n",
    "            )\n",
    "\n",
    "    return cmatrix[n_pairs][n_pairs]"
   ]
  }
 ],
 "metadata": {
  "language_info": {
   "name": "python"
  }
 },
 "nbformat": 4,
 "nbformat_minor": 2
}
