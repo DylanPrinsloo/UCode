{
 "cells": [
  {
   "cell_type": "code",
   "execution_count": null,
   "metadata": {},
   "outputs": [],
   "source": [
    "# init py\n",
    "from .buy_sell_stock import *\n",
    "from .climbing_stairs import *\n",
    "from .coin_change import *\n",
    "from .combination_sum import *\n",
    "from .edit_distance import *\n",
    "from .egg_drop import *\n",
    "from .fib import *\n",
    "from .hosoya_triangle import *\n",
    "from .house_robber import *\n",
    "from .job_scheduling import *\n",
    "from .knapsack import *\n",
    "from .longest_increasing import *\n",
    "from .matrix_chain_order import *\n",
    "from .max_product_subarray import *\n",
    "from .max_subarray import *\n",
    "from .min_cost_path import *\n",
    "from .num_decodings import *\n",
    "from .regex_matching import *\n",
    "from .rod_cut import *\n",
    "from .word_break import *\n",
    "from .int_divide import *\n",
    "from .k_factor import *\n",
    "from .planting_trees import *"
   ]
  },
  {
   "cell_type": "markdown",
   "metadata": {},
   "source": [
    "## Regular Expression Matching with Support for . and *"
   ]
  },
  {
   "cell_type": "code",
   "execution_count": null,
   "metadata": {},
   "outputs": [],
   "source": [
    "\"\"\"\n",
    "Implement regular expression matching with support for '.' and '*'.\n",
    "\n",
    "'.' Matches any single character.\n",
    "'*' Matches zero or more of the preceding element.\n",
    "\n",
    "The matching should cover the entire input string (not partial).\n",
    "\n",
    "The function prototype should be:\n",
    "bool is_match(const char *s, const char *p)\n",
    "\"\"\""
   ]
  },
  {
   "cell_type": "code",
   "execution_count": null,
   "metadata": {},
   "outputs": [],
   "source": [
    "\"\"\"\n",
    "Some examples:\n",
    "is_match(\"aa\",\"a\") → false\n",
    "is_match(\"aa\",\"aa\") → true\n",
    "is_match(\"aaa\",\"aa\") → false\n",
    "is_match(\"aa\", \"a*\") → true\n",
    "is_match(\"aa\", \".*\") → true\n",
    "is_match(\"ab\", \".*\") → true\n",
    "is_match(\"aab\", \"c*a*b\") → true\n",
    "\"\"\""
   ]
  },
  {
   "cell_type": "code",
   "execution_count": null,
   "metadata": {},
   "outputs": [],
   "source": [
    "def is_match(str_a, str_b):\n",
    "    \"\"\"Finds if `str_a` matches `str_b`\n",
    "\n",
    "    Keyword arguments:\n",
    "    str_a -- string\n",
    "    str_b -- string\n",
    "    \"\"\"\n",
    "    len_a, len_b = len(str_a) + 1, len(str_b) + 1\n",
    "    matches = [[False] * len_b  for _ in range(len_a)]\n",
    "\n",
    "    # Match empty string with empty pattern\n",
    "    matches[0][0] = True\n",
    "\n",
    "    # Match empty string with .*\n",
    "    for i, element in enumerate(str_b[1:], 2):\n",
    "        matches[0][i] = matches[0][i - 2] and element == '*'\n",
    "\n",
    "    for i, char_a in enumerate(str_a, 1):\n",
    "        for j, char_b in enumerate(str_b, 1):\n",
    "            if char_b != '*':\n",
    "                # The previous character has matched and the current one\n",
    "                # has to be matched. Two possible matches: the same or .\n",
    "                matches[i][j] = matches[i - 1][j - 1] and \\\n",
    "                                char_b in (char_a, '.')\n",
    "            else:\n",
    "                # Horizontal look up [j - 2].\n",
    "                # Not use the character before *.\n",
    "                matches[i][j] |= matches[i][j - 2]\n",
    "\n",
    "                # Vertical look up [i - 1].\n",
    "                # Use at least one character before *.\n",
    "                #   p a b *\n",
    "                # s 1 0 0 0\n",
    "                # a 0 1 0 1\n",
    "                # b 0 0 1 1\n",
    "                # b 0 0 0 ?\n",
    "                if char_a == str_b[j - 2] or str_b[j - 2] == '.':\n",
    "                    matches[i][j] |= matches[i - 1][j]\n",
    "\n",
    "    return matches[-1][-1]"
   ]
  },
  {
   "cell_type": "markdown",
   "metadata": {},
   "source": [
    "##  Rod Cutting Problem"
   ]
  },
  {
   "cell_type": "code",
   "execution_count": null,
   "metadata": {},
   "outputs": [],
   "source": [
    "\"\"\"\n",
    "Determine the maximum obtainable price for cutting a rod of a given length.\n",
    "\"\"\""
   ]
  },
  {
   "cell_type": "code",
   "execution_count": null,
   "metadata": {},
   "outputs": [],
   "source": [
    "INT_MIN = -32767\n",
    "def cut_rod(price):\n",
    "    \"\"\"\n",
    "    Returns the best obtainable price for a rod of length n and\n",
    "    price[] as prices of different pieces\n",
    "    \"\"\"\n",
    "    n = len(price)\n",
    "    val = [0]*(n+1)\n",
    "\n",
    "    # Build the table val[] in bottom up manner and return\n",
    "    # the last entry from the table\n",
    "    for i in range(1, n+1):\n",
    "        max_val = INT_MIN\n",
    "        for j in range(i):\n",
    "            max_val = max(max_val, price[j] + val[i-j-1])\n",
    "        val[i] = max_val\n",
    "\n",
    "    return val[n]"
   ]
  },
  {
   "cell_type": "code",
   "execution_count": null,
   "metadata": {},
   "outputs": [],
   "source": [
    "# Driver program to test above functions\n",
    "arr = [1, 5, 8, 9, 10, 17, 17, 20]\n",
    "print(\"Maximum Obtainable Value is \" + str(cut_rod(arr)))"
   ]
  },
  {
   "cell_type": "markdown",
   "metadata": {},
   "source": [
    "## Word break problem"
   ]
  },
  {
   "cell_type": "code",
   "execution_count": null,
   "metadata": {},
   "outputs": [],
   "source": [
    "\"\"\"\n",
    "Given a non-empty string s and a dictionary wordDict\n",
    "containing a list of non-empty words,\n",
    "determine if word can be segmented into a space-separated\n",
    "sequence of one or more dictionary words.\n",
    "You may assume the dictionary does not contain duplicate words.\n",
    "\"\"\""
   ]
  },
  {
   "cell_type": "code",
   "execution_count": null,
   "metadata": {},
   "outputs": [],
   "source": [
    "\"\"\"\n",
    "For example, given\n",
    "word = \"leetcode\",\n",
    "dict = [\"leet\", \"code\"].\n",
    "\n",
    "Return true because \"leetcode\" can be segmented as \"leet code\".\n",
    "\n",
    "word = abc word_dict = [\"a\",\"bc\"]\n",
    "True False False False\n",
    "\"\"\""
   ]
  },
  {
   "cell_type": "code",
   "execution_count": null,
   "metadata": {},
   "outputs": [],
   "source": [
    "# TC: O(N^2)  SC: O(N)\n",
    "def word_break(word, word_dict):\n",
    "    \"\"\"\n",
    "    :type word: str\n",
    "    :type word_dict: Set[str]\n",
    "    :rtype: bool\n",
    "    \"\"\"\n",
    "    dp_array = [False] * (len(word)+1)\n",
    "    dp_array[0] = True\n",
    "    for i in range(1, len(word)+1):\n",
    "        for j in range(0, i):\n",
    "            if dp_array[j] and word[j:i] in word_dict:\n",
    "                dp_array[i] = True\n",
    "                break\n",
    "    return dp_array[-1]\n",
    "\n",
    "if __name__ == \"__main__\":\n",
    "    STR = \"keonkim\"\n",
    "    dic = [\"keon\", \"kim\"]\n",
    "\n",
    "    print(word_break(str, dic))"
   ]
  }
 ],
 "metadata": {
  "language_info": {
   "name": "python"
  }
 },
 "nbformat": 4,
 "nbformat_minor": 2
}
