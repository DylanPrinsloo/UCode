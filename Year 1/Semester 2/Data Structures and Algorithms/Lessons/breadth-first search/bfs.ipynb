{
 "cells": [
  {
   "cell_type": "markdown",
   "metadata": {},
   "source": [
    "# BFS (Breadth-First Search)\n",
    "BFS is a graph traversal algorithm that starts at a root node and explores all neighboring nodes at the present depth before moving on to nodes at the next depth level.\n",
    "\n",
    "Applications: Shortest path in unweighted graphs, web crawlers, social network analysis."
   ]
  },
  {
   "cell_type": "code",
   "execution_count": null,
   "metadata": {},
   "outputs": [],
   "source": [
    "# init py\n",
    "from .count_islands import *\n",
    "from .maze_search import *\n",
    "from .shortest_distance_from_all_buildings import *\n",
    "from .word_ladder import *"
   ]
  },
  {
   "cell_type": "markdown",
   "metadata": {},
   "source": [
    "## Counting Islands in a 2D Grid Using BFS"
   ]
  },
  {
   "cell_type": "markdown",
   "metadata": {},
   "source": [
    "The Counting Islands problem involves determining the number of distinct islands in a given 2D grid where each cell can either represent land ('1') or water ('0'). An island is defined as a collection of adjacent lands (1s) that are connected horizontally or vertically. The edges of the grid are assumed to be surrounded by water."
   ]
  },
  {
   "cell_type": "code",
   "execution_count": null,
   "metadata": {},
   "outputs": [],
   "source": [
    "\"\"\"\n",
    "This is a bfs-version of counting-islands problem in dfs section.\n",
    "Given a 2d grid map of '1's (land) and '0's (water),\n",
    "count the number of islands.\n",
    "An island is surrounded by water and is formed by\n",
    "connecting adjacent lands horizontally or vertically.\n",
    "You may assume all four edges of the grid are all surrounded by water.\n",
    "\n",
    "Example 1:\n",
    "11110\n",
    "11010\n",
    "11000\n",
    "00000\n",
    "Answer: 1\n",
    "\n",
    "Example 2:\n",
    "11000\n",
    "11000\n",
    "00100\n",
    "00011\n",
    "Answer: 3\n",
    "\n",
    "Example 3:\n",
    "111000\n",
    "110000\n",
    "100001\n",
    "001101\n",
    "001100\n",
    "Answer: 3\n",
    "\n",
    "Example 4:\n",
    "110011\n",
    "001100\n",
    "000001\n",
    "111100\n",
    "Answer: 5\n",
    "\"\"\""
   ]
  },
  {
   "cell_type": "code",
   "execution_count": null,
   "metadata": {},
   "outputs": [],
   "source": [
    "def count_islands(grid):\n",
    "    row = len(grid)\n",
    "    col = len(grid[0])\n",
    "\n",
    "    num_islands = 0\n",
    "    visited = [[0] * col for i in range(row)]\n",
    "    directions = [[-1, 0], [1, 0], [0, -1], [0, 1]]\n",
    "    queue = []\n",
    "\n",
    "    for i in range(row):\n",
    "        for j, num in enumerate(grid[i]):\n",
    "            if num == 1 and visited[i][j] != 1:\n",
    "                visited[i][j] = 1\n",
    "                queue.append((i, j))\n",
    "                while queue:\n",
    "                    x, y = queue.pop(0)\n",
    "                    for k in range(len(directions)):\n",
    "                        nx_x = x + directions[k][0]\n",
    "                        nx_y = y + directions[k][1]\n",
    "                        if nx_x >= 0 and nx_y >= 0 and nx_x < row and nx_y < col:\n",
    "                            if visited[nx_x][nx_y] != 1 and grid[nx_x][nx_y] == 1:\n",
    "                                queue.append((nx_x, nx_y))\n",
    "                                visited[nx_x][nx_y] = 1\n",
    "                num_islands += 1\n",
    "\n",
    "    return num_islands\n"
   ]
  },
  {
   "cell_type": "markdown",
   "metadata": {},
   "source": [
    "## Minimum Steps in a Maze Using BFS"
   ]
  },
  {
   "cell_type": "markdown",
   "metadata": {},
   "source": [
    "The Maze Search problem involves finding the minimum number of steps needed to traverse from the top-left corner to the bottom-right corner of a grid (or maze) while only stepping on allowed cells (represented by 1s). Cells that cannot be traversed are represented by 0s. The goal is to return the minimum number of steps required to reach the target cell, or -1 if no valid path exists."
   ]
  },
  {
   "cell_type": "code",
   "execution_count": null,
   "metadata": {},
   "outputs": [],
   "source": [
    "from collections import deque"
   ]
  },
  {
   "cell_type": "code",
   "execution_count": null,
   "metadata": {},
   "outputs": [],
   "source": [
    "'''\n",
    "BFS time complexity : O(|E| + |V|)\n",
    "BFS space complexity : O(|E| + |V|)\n",
    "\n",
    "do BFS from (0,0) of the grid and get the minimum number of steps needed to get to the lower right column\n",
    "\n",
    "only step on the columns whose value is 1\n",
    "\n",
    "if there is no path, it returns -1\n",
    "\n",
    "Ex 1)\n",
    "If grid is\n",
    "[[1,0,1,1,1,1],\n",
    " [1,0,1,0,1,0],\n",
    " [1,0,1,0,1,1],\n",
    " [1,1,1,0,1,1]], \n",
    "the answer is: 14\n",
    "\n",
    "Ex 2)\n",
    "If grid is\n",
    "[[1,0,0],\n",
    " [0,1,1],\n",
    " [0,1,1]], \n",
    "the answer is: -1\n",
    "'''"
   ]
  },
  {
   "cell_type": "code",
   "execution_count": null,
   "metadata": {},
   "outputs": [],
   "source": [
    "def maze_search(maze):\n",
    "    BLOCKED, ALLOWED = 0, 1\n",
    "    UNVISITED, VISITED = 0, 1\n",
    "\n",
    "    initial_x, initial_y = 0, 0\n",
    "\n",
    "    if maze[initial_x][initial_y] == BLOCKED:\n",
    "        return -1\n",
    "    \n",
    "    directions = [(0, -1), (0, 1), (-1, 0), (1, 0)]\n",
    "\n",
    "    height, width = len(maze), len(maze[0])\n",
    "\n",
    "    target_x, target_y = height - 1, width - 1\n",
    "\n",
    "    queue = deque([(initial_x, initial_y, 0)])\n",
    "\n",
    "    is_visited = [[UNVISITED for w in range(width)] for h in range(height)]\n",
    "    is_visited[initial_x][initial_y] = VISITED\n",
    "\n",
    "    while queue:\n",
    "        x, y, steps = queue.popleft()\n",
    "\n",
    "        if x == target_x and y == target_y:\n",
    "            return steps\n",
    "\n",
    "        for dx, dy in directions:\n",
    "            new_x = x + dx\n",
    "            new_y = y + dy\n",
    "\n",
    "            if not (0 <= new_x < height and 0 <= new_y < width):\n",
    "                continue\n",
    "\n",
    "            if maze[new_x][new_y] == ALLOWED and is_visited[new_x][new_y] == UNVISITED:\n",
    "                queue.append((new_x, new_y, steps + 1))\n",
    "                is_visited[new_x][new_y] = VISITED\n",
    "\n",
    "    return -1 \n"
   ]
  },
  {
   "cell_type": "markdown",
   "metadata": {},
   "source": [
    "## Shortest Distance from All Buildings Using BFS"
   ]
  },
  {
   "cell_type": "markdown",
   "metadata": {},
   "source": [
    "The __Shortest Distance problem__ aims to find the minimum distance from all buildings in a grid to an empty space, where each building can influence the surrounding empty spaces. \n",
    "The grid consists of three types of cells: buildings (represented by 1), empty spaces (represented by 0), and obstacles (represented by -1). The goal is to determine the shortest distance from all buildings to an empty cell that is reachable by all buildings."
   ]
  },
  {
   "cell_type": "code",
   "execution_count": null,
   "metadata": {},
   "outputs": [],
   "source": [
    "import collections"
   ]
  },
  {
   "cell_type": "code",
   "execution_count": null,
   "metadata": {},
   "outputs": [],
   "source": [
    "\"\"\"\n",
    "do BFS from each building, and decrement all empty place for every building visit\n",
    "when grid[i][j] == -b_nums, it means that grid[i][j] are already visited from all b_nums\n",
    "and use dist to record distances from b_nums\n",
    "\"\"\""
   ]
  },
  {
   "cell_type": "code",
   "execution_count": null,
   "metadata": {},
   "outputs": [],
   "source": [
    "def shortest_distance(grid):\n",
    "    if not grid or not grid[0]:\n",
    "        return -1\n",
    "\n",
    "    matrix = [[[0,0] for i in range(len(grid[0]))] for j in range(len(grid))]\n",
    "\n",
    "    count = 0    # count how many building we have visited\n",
    "    for i in range(len(grid)):\n",
    "        for j in range(len(grid[0])):\n",
    "            if grid[i][j] == 1:\n",
    "                bfs(grid, matrix, i, j, count)\n",
    "                count += 1\n",
    "\n",
    "    res = float('inf')\n",
    "    for i in range(len(matrix)):\n",
    "        for j in range(len(matrix[0])):\n",
    "            if matrix[i][j][1]==count:\n",
    "                res = min(res, matrix[i][j][0])\n",
    "\n",
    "    return res if res!=float('inf') else -1\n",
    "\n",
    "def bfs(grid, matrix, i, j, count):\n",
    "    q = [(i, j, 0)]\n",
    "    while q:\n",
    "        i, j, step = q.pop(0)\n",
    "        for k, l in [(i-1,j), (i+1,j), (i,j-1), (i,j+1)]:\n",
    "            # only the position be visited by count times will append to queue\n",
    "            if 0<=k<len(grid) and 0<=l<len(grid[0]) and \\\n",
    "                    matrix[k][l][1]==count and grid[k][l]==0:\n",
    "                matrix[k][l][0] += step+1\n",
    "                matrix[k][l][1] = count+1\n",
    "                q.append((k, l, step+1))"
   ]
  },
  {
   "cell_type": "markdown",
   "metadata": {},
   "source": [
    "## Shortest Transformation Sequence Using Bidirectional BFS"
   ]
  },
  {
   "cell_type": "markdown",
   "metadata": {},
   "source": [
    "The Ladder Length problem aims to find the length of the shortest transformation sequence from a given begin_word to an end_word by changing one letter at a time, ensuring that each intermediate word must exist in a provided word list. The goal is to return the length of this transformation sequence or -1 if no such sequence exists."
   ]
  },
  {
   "cell_type": "code",
   "execution_count": null,
   "metadata": {},
   "outputs": [],
   "source": [
    "\"\"\"\n",
    "Given two words (begin_word and end_word), and a dictionary's word list,\n",
    "find the length of shortest transformation sequence\n",
    "from beginWord to endWord, such that:\n",
    "\n",
    "Only one letter can be changed at a time\n",
    "Each intermediate word must exist in the word list\n",
    "For example,\n",
    "\n",
    "Given:\n",
    "begin_word = \"hit\"\n",
    "end_word = \"cog\"\n",
    "word_list = [\"hot\",\"dot\",\"dog\",\"lot\",\"log\"]\n",
    "As one shortest transformation is \"hit\" -> \"hot\" -> \"dot\" -> \"dog\" -> \"cog\",\n",
    "return its length 5.\n",
    "\n",
    "Note:\n",
    "Return -1 if there is no such transformation sequence.\n",
    "All words have the same length.\n",
    "All words contain only lowercase alphabetic characters.\n",
    "\"\"\""
   ]
  },
  {
   "cell_type": "markdown",
   "metadata": {},
   "source": [
    "\n",
    "\n",
    "### Time Complexity\n",
    "\n",
    "The time complexity for this approach is \\(O(N \\times M \\times 26)\\), where \\(N\\) is the number of words in the `word_list`, \\(M\\) is the length of each word, and \\(26\\) is the number of letters in the alphabet. This is efficient for moderate input sizes, as the bidirectional approach effectively halves the search space.\n"
   ]
  },
  {
   "cell_type": "code",
   "execution_count": null,
   "metadata": {},
   "outputs": [],
   "source": [
    "def ladder_length(begin_word, end_word, word_list):\n",
    "    \"\"\"\n",
    "    Bidirectional BFS!!!\n",
    "    :type begin_word: str\n",
    "    :type end_word: str\n",
    "    :type word_list: Set[str]\n",
    "    :rtype: int\n",
    "    \"\"\"\n",
    "    if len(begin_word) != len(end_word):\n",
    "        return -1   # not possible\n",
    "\n",
    "    if begin_word == end_word:\n",
    "        return 0\n",
    "\n",
    "    # when only differ by 1 character\n",
    "    if sum(c1 != c2 for c1, c2 in zip(begin_word, end_word)) == 1:\n",
    "        return 1\n",
    "\n",
    "    begin_set = set()\n",
    "    end_set = set()\n",
    "    begin_set.add(begin_word)\n",
    "    end_set.add(end_word)\n",
    "    result = 2\n",
    "    while begin_set and end_set:\n",
    "\n",
    "        if len(begin_set) > len(end_set):\n",
    "            begin_set, end_set = end_set, begin_set\n",
    "\n",
    "        next_begin_set = set()\n",
    "        for word in begin_set:\n",
    "            for ladder_word in word_range(word):\n",
    "                if ladder_word in end_set:\n",
    "                    return result\n",
    "                if ladder_word in word_list:\n",
    "                    next_begin_set.add(ladder_word)\n",
    "                    word_list.remove(ladder_word)\n",
    "        begin_set = next_begin_set\n",
    "        result += 1\n",
    "        # print(begin_set)\n",
    "        # print(result)\n",
    "    return -1\n",
    "\n",
    "# -word_range "
   ]
  },
  {
   "cell_type": "code",
   "execution_count": null,
   "metadata": {},
   "outputs": [],
   "source": [
    "def word_range(word):\n",
    "    for ind in range(len(word)):\n",
    "        temp = word[ind]\n",
    "        for c in [chr(x) for x in range(ord('a'), ord('z') + 1)]:\n",
    "            if c != temp:\n",
    "                yield word[:ind] + c + word[ind + 1:]"
   ]
  }
 ],
 "metadata": {
  "language_info": {
   "name": "python"
  }
 },
 "nbformat": 4,
 "nbformat_minor": 2
}
