{
 "cells": [
  {
   "cell_type": "code",
   "execution_count": null,
   "metadata": {},
   "outputs": [],
   "source": [
    "# init\n",
    "from .reverse import *\n",
    "from .is_sorted import *\n",
    "from .remove_range import *\n",
    "from .swap_in_pairs import *\n",
    "from .rotate_list import *\n",
    "from .is_cyclic import *\n",
    "from .merge_two_list import *\n",
    "from .is_palindrome import *\n",
    "from .copy_random_pointer import *"
   ]
  },
  {
   "cell_type": "markdown",
   "metadata": {},
   "source": [
    "## Merging Two Sorted Linked Lists"
   ]
  },
  {
   "cell_type": "code",
   "execution_count": null,
   "metadata": {},
   "outputs": [],
   "source": [
    "\"\"\"\n",
    "Merge two sorted linked lists and return it as a new list. The new list should\n",
    "be made by splicing together the nodes of the first two lists.\n",
    "\n",
    "For example:\n",
    "Input: 1->2->4, 1->3->4\n",
    "Output: 1->1->2->3->4->4\n",
    "\"\"\""
   ]
  },
  {
   "cell_type": "code",
   "execution_count": null,
   "metadata": {},
   "outputs": [],
   "source": [
    "class Node:\n",
    "\n",
    "    def __init__(self, x):\n",
    "        self.val = x\n",
    "        self.next = None\n",
    "\n",
    "def merge_two_list(l1, l2):\n",
    "    ret = cur = Node(0)\n",
    "    while l1 and l2:\n",
    "        if l1.val < l2.val:\n",
    "            cur.next = l1\n",
    "            l1 = l1.next\n",
    "        else:\n",
    "            cur.next = l2\n",
    "            l2 = l2.next\n",
    "        cur = cur.next\n",
    "    cur.next = l1 or l2\n",
    "    return ret.next\n",
    "\n",
    "# recursively\n",
    "def merge_two_list_recur(l1, l2):\n",
    "    if not l1 or not l2:\n",
    "        return l1 or l2\n",
    "    if l1.val < l2.val:\n",
    "        l1.next = merge_two_list_recur(l1.next, l2)\n",
    "        return l1\n",
    "    else:\n",
    "        l2.next = merge_two_list_recur(l1, l2.next)\n",
    "        return l2"
   ]
  },
  {
   "cell_type": "markdown",
   "metadata": {},
   "source": [
    "## Partitioning a Linked List Around a Value"
   ]
  },
  {
   "cell_type": "code",
   "execution_count": null,
   "metadata": {},
   "outputs": [],
   "source": [
    "\"\"\"\n",
    "Write code to partition a linked list around a value x, such that all nodes less\n",
    "than x come before all nodes greater than or equal to x.  If x is contained\n",
    "within the list, the values of x only need to be after the elements less than x.\n",
    "The partition element x can appear anywhere in the \"right partition\";\n",
    "it does not need to appear between the left and right partitions.\n",
    "\n",
    "3 -> 5 -> 8 -> 5 -> 10 -> 2 -> 1 [partition=5]\n",
    "3 -> 1 -> 2 -> 10 -> 5 -> 5 -> 8\n",
    "\n",
    "We assume the values of all linked list nodes are int and that x in an int.\n",
    "\"\"\""
   ]
  },
  {
   "cell_type": "code",
   "execution_count": null,
   "metadata": {},
   "outputs": [],
   "source": [
    "class Node():\n",
    "    def __init__(self, val=None):\n",
    "        self.val = int(val)\n",
    "        self.next = None\n",
    "\n",
    "def print_linked_list(head):\n",
    "    string = \"\"\n",
    "    while head.next:\n",
    "        string += str(head.val) + \" -> \"\n",
    "        head = head.next\n",
    "    string += str(head.val)\n",
    "    print(string)\n",
    "\n",
    "def partition(head, x):\n",
    "    left = None\n",
    "    right = None\n",
    "    prev = None\n",
    "    current = head\n",
    "    while current:\n",
    "        if int(current.val) >= x:\n",
    "            if not right:\n",
    "                right = current\n",
    "        else:\n",
    "            if not left:\n",
    "                left = current\n",
    "            else:\n",
    "                prev.next = current.next\n",
    "                left.next = current\n",
    "                left = current\n",
    "                left.next = right\n",
    "        if prev and prev.next is None:\n",
    "            break\n",
    "        # cache previous value in case it needs to be pointed elsewhere\n",
    "        prev = current\n",
    "        current = current.next\n",
    "\n",
    "def test():\n",
    "    a = Node(\"3\")\n",
    "    b = Node(\"5\")\n",
    "    c = Node(\"8\")\n",
    "    d = Node(\"5\")\n",
    "    e = Node(\"10\")\n",
    "    f = Node(\"2\")\n",
    "    g = Node(\"1\")\n",
    "\n",
    "    a.next = b\n",
    "    b.next = c\n",
    "    c.next = d\n",
    "    d.next = e\n",
    "    e.next = f\n",
    "    f.next = g\n",
    "\n",
    "    print_linked_list(a)\n",
    "    partition(a, 5)\n",
    "    print_linked_list(a)\n",
    "\n",
    "if __name__ == '__main__':\n",
    "    test()"
   ]
  },
  {
   "cell_type": "markdown",
   "metadata": {},
   "source": []
  },
  {
   "cell_type": "markdown",
   "metadata": {},
   "source": [
    "## Removing Duplicates from a Linked List"
   ]
  },
  {
   "cell_type": "markdown",
   "metadata": {},
   "source": [
    "#### The code below should partition a linked list around a given value x. The goal is to rearrange the nodes so that all nodes with values less than x appear before nodes with values greater than or equal to x, while preserving the original order of nodes."
   ]
  },
  {
   "cell_type": "code",
   "execution_count": null,
   "metadata": {},
   "outputs": [],
   "source": [
    "class Node():\n",
    "    def __init__(self, val = None):\n",
    "        self.val = val\n",
    "        self.next = None\n",
    "\n",
    "def remove_dups(head):\n",
    "    \"\"\"\n",
    "    Time Complexity: O(N)\n",
    "    Space Complexity: O(N)\n",
    "    \"\"\"\n",
    "    hashset = set()\n",
    "    prev = Node()\n",
    "    while head:\n",
    "        if head.val in hashset:\n",
    "            prev.next = head.next\n",
    "        else:\n",
    "            hashset.add(head.val)\n",
    "            prev = head\n",
    "        head = head.next\n",
    "\n",
    "def remove_dups_wothout_set(head):\n",
    "    \"\"\"\n",
    "    Time Complexity: O(N^2)\n",
    "    Space Complexity: O(1)\n",
    "    \"\"\"\n",
    "    current = head\n",
    "    while current:\n",
    "        runner = current\n",
    "        while runner.next:\n",
    "            if runner.next.val == current.val:\n",
    "                runner.next = runner.next.next\n",
    "            else:\n",
    "                runner = runner.next\n",
    "        current = current.next\n",
    "\n",
    "def print_linked_list(head):\n",
    "    string = \"\"\n",
    "    while head.next:\n",
    "        string += head.val + \" -> \"\n",
    "        head = head.next\n",
    "    string += head.val\n",
    "    print(string)\n",
    "\n",
    "# A A B C D C F G\n",
    "\n",
    "a1 = Node(\"A\")\n",
    "a2 = Node(\"A\")\n",
    "b = Node(\"B\")\n",
    "c1 = Node(\"C\")\n",
    "d = Node(\"D\")\n",
    "c2 = Node(\"C\")\n",
    "f = Node(\"F\")\n",
    "g = Node(\"G\")\n",
    "\n",
    "a1.next = a2\n",
    "a2.next = b\n",
    "b.next = c1\n",
    "c1.next = d\n",
    "d.next = c2\n",
    "c2.next = f\n",
    "f.next = g\n",
    "\n",
    "remove_dups(a1)\n",
    "print_linked_list(a1)\n",
    "remove_dups_wothout_set(a1)\n",
    "print_linked_list(a1)"
   ]
  },
  {
   "cell_type": "markdown",
   "metadata": {},
   "source": [
    "## Removing a Range of Nodes from a Linked List"
   ]
  },
  {
   "cell_type": "code",
   "execution_count": null,
   "metadata": {},
   "outputs": [],
   "source": [
    "\"\"\"\n",
    "Given a linked list, remove_range function accepts a starting and ending index\n",
    "as parameters and removes the elements at those indexes (inclusive) from the list\n",
    "\"\"\"\n"
   ]
  },
  {
   "cell_type": "code",
   "execution_count": null,
   "metadata": {},
   "outputs": [],
   "source": [
    "\"\"\"\n",
    "For example:\n",
    "List: [8, 13, 17, 4, 9, 12, 98, 41, 7, 23, 0, 92]\n",
    "remove_range(list, 3, 8);\n",
    "List becomes: [8, 13, 17, 23, 0, 92]\n",
    "\n",
    "legal range of the list (0 < start index < end index < size of list).\n",
    "\"\"\""
   ]
  },
  {
   "cell_type": "code",
   "execution_count": null,
   "metadata": {},
   "outputs": [],
   "source": [
    "# remove range\n",
    "\n",
    "def remove_range(head, start, end):\n",
    "    assert(start <= end)\n",
    "    # Case: remove node at head\n",
    "    if start == 0:\n",
    "        for i in range(0, end+1):\n",
    "            if head != None:\n",
    "                head = head.next\n",
    "    else:\n",
    "        current = head\n",
    "        # Move pointer to start position\n",
    "        for i in range(0,start-1):\n",
    "            current = current.next\n",
    "        # Remove data until the end\n",
    "        for i in range(0, end-start + 1):\n",
    "            if current != None and current.next != None:\n",
    "                current.next = current.next.next\n",
    "    return head"
   ]
  },
  {
   "cell_type": "markdown",
   "metadata": {},
   "source": [
    "## Reversing a Singly Linked List"
   ]
  },
  {
   "cell_type": "markdown",
   "metadata": {},
   "source": [
    "\n",
    "#### Example:\n",
    "\n",
    "#### 1 --> 2 --> 3 --> 4\n",
    "#### After reverse:\n",
    "#### 4 --> 3 --> 2 --> 1\n"
   ]
  },
  {
   "cell_type": "code",
   "execution_count": null,
   "metadata": {},
   "outputs": [],
   "source": [
    "#\n",
    "# Iterative solution\n",
    "# T(n)- O(n)\n",
    "#\n",
    "def reverse_list(head):\n",
    "    \"\"\"\n",
    "    :type head: ListNode\n",
    "    :rtype: ListNode\n",
    "    \"\"\"\n",
    "    if not head or not head.next:\n",
    "        return head\n",
    "    prev = None\n",
    "    while head:\n",
    "        current = head\n",
    "        head = head.next\n",
    "        current.next = prev\n",
    "        prev = current\n",
    "    return prev"
   ]
  },
  {
   "cell_type": "code",
   "execution_count": null,
   "metadata": {},
   "outputs": [],
   "source": [
    "#\n",
    "# Recursive solution\n",
    "# T(n)- O(n)\n",
    "#\n",
    "def reverse_list_recursive(head):\n",
    "    \"\"\"\n",
    "    :type head: ListNode\n",
    "    :rtype: ListNode\n",
    "    \"\"\"\n",
    "    if head is None or head.next is None:\n",
    "        return head\n",
    "    p = head.next\n",
    "    head.next = None\n",
    "    revrest = reverse_list_recursive(p)\n",
    "    p.next = head\n",
    "    return revrest"
   ]
  },
  {
   "cell_type": "markdown",
   "metadata": {},
   "source": [
    "## Roating a linked list"
   ]
  },
  {
   "cell_type": "markdown",
   "metadata": {},
   "source": [
    "\n",
    "#### Example:\n",
    "#### Given 1->2->3->4->5->NULL and k = 2,\n",
    "#### Return 4->5->1->2->3->NULL.\n"
   ]
  },
  {
   "cell_type": "code",
   "execution_count": null,
   "metadata": {},
   "outputs": [],
   "source": [
    "# Definition for singly-linked list.\n",
    "# class ListNode(object):\n",
    "#     def __init__(self, x):\n",
    "#         self.val = x\n",
    "#  "
   ]
  },
  {
   "cell_type": "code",
   "execution_count": null,
   "metadata": {},
   "outputs": [],
   "source": [
    "def rotate_right(head, k):\n",
    "    \"\"\"\n",
    "    :type head: ListNode\n",
    "    :type k: int\n",
    "    :rtype: ListNode\n",
    "    \"\"\"\n",
    "    if not head or not head.next:\n",
    "        return head\n",
    "    current = head\n",
    "    length = 1\n",
    "    # count length of the list\n",
    "    while current.next:\n",
    "        current = current.next\n",
    "        length += 1\n",
    "    # make it circular\n",
    "    current.next = head\n",
    "    k = k % length\n",
    "    # rotate until length-k\n",
    "    for i in range(length-k):\n",
    "        current = current.next\n",
    "    head = current.next\n",
    "    current.next = None\n",
    "    return head\n"
   ]
  },
  {
   "cell_type": "markdown",
   "metadata": {},
   "source": [
    "## Swapping Adjacent Nodes in a Linked List"
   ]
  },
  {
   "cell_type": "markdown",
   "metadata": {},
   "source": [
    "#### Given a linked list, swap every two adjacent nodes and return its head."
   ]
  },
  {
   "cell_type": "markdown",
   "metadata": {},
   "source": [
    "#### Example,\n",
    "#### Given 1->2->3->4\n",
    "#### Return the list as 2->1->4->3."
   ]
  },
  {
   "cell_type": "code",
   "execution_count": null,
   "metadata": {},
   "outputs": [],
   "source": [
    "\"\"\"\n",
    "Your algorithm should use only constant space.\n",
    "You may not modify the values in the list,\n",
    "only nodes itself can be changed.\n",
    "\"\"\""
   ]
  },
  {
   "cell_type": "code",
   "execution_count": null,
   "metadata": {},
   "outputs": [],
   "source": [
    "class Node(object):\n",
    "    def __init__(self, x):\n",
    "        self.val = x\n",
    "        self.next = None\n",
    "\n",
    "def swap_pairs(head):\n",
    "    if not head:\n",
    "        return head\n",
    "    start = Node(0)\n",
    "    start.next = head\n",
    "    current = start\n",
    "    while current.next and current.next.next:\n",
    "        first = current.next\n",
    "        second = current.next.next\n",
    "        first.next = second.next\n",
    "        current.next = second\n",
    "        current.next.next = first\n",
    "        current = current.next.next\n",
    "    return start.next"
   ]
  }
 ],
 "metadata": {
  "language_info": {
   "name": "python"
  }
 },
 "nbformat": 4,
 "nbformat_minor": 2
}
