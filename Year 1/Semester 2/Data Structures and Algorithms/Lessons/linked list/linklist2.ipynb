{
 "cells": [
  {
   "cell_type": "code",
   "execution_count": null,
   "metadata": {},
   "outputs": [],
   "source": [
    "# init\n",
    "from .reverse import *\n",
    "from .is_sorted import *\n",
    "from .remove_range import *\n",
    "from .swap_in_pairs import *\n",
    "from .rotate_list import *\n",
    "from .is_cyclic import *\n",
    "from .merge_two_list import *\n",
    "from .is_palindrome import *\n",
    "from .copy_random_pointer import *"
   ]
  },
  {
   "cell_type": "markdown",
   "metadata": {},
   "source": [
    "## Detecting a Cycle in a Linked List Without Using Extra Space\n",
    "\n",
    "#### This code determines if a linked list contains a cycle by using Floyd's Tortoise and Hare algorithm, which allows the detection of cycles in constant space."
   ]
  },
  {
   "cell_type": "code",
   "execution_count": null,
   "metadata": {},
   "outputs": [],
   "source": [
    "class Node:\n",
    "\n",
    "    def __init__(self, x):\n",
    "        self.val = x\n",
    "        self.next = None\n",
    "\n",
    "def is_cyclic(head):\n",
    "    \"\"\"\n",
    "    :type head: Node\n",
    "    :rtype: bool\n",
    "    \"\"\"\n",
    "    if not head:\n",
    "        return False\n",
    "    runner = head\n",
    "    walker = head\n",
    "    while runner.next and runner.next.next:\n",
    "        runner = runner.next.next\n",
    "        walker = walker.next\n",
    "        if runner == walker:\n",
    "            return True\n",
    "    return False"
   ]
  },
  {
   "cell_type": "code",
   "execution_count": null,
   "metadata": {},
   "outputs": [],
   "source": [
    "# Follow up:\n",
    "# Can you solve it without using extra space?"
   ]
  },
  {
   "cell_type": "markdown",
   "metadata": {},
   "source": [
    "## Checking if a Linked List is a Palindrome Using Different Methods"
   ]
  },
  {
   "cell_type": "markdown",
   "metadata": {},
   "source": [
    "#### In-Place Reversal: Splits the list into two parts, reverses the second half, and compares the values from the front and back."
   ]
  },
  {
   "cell_type": "code",
   "execution_count": null,
   "metadata": {},
   "outputs": [],
   "source": [
    "def is_palindrome(head):\n",
    "    if not head:\n",
    "        return True\n",
    "    # split the list to two parts\n",
    "    fast, slow = head.next, head\n",
    "    while fast and fast.next:\n",
    "        fast = fast.next.next\n",
    "        slow = slow.next\n",
    "    second = slow.next\n",
    "    slow.next = None  # Don't forget here! But forget still works!\n",
    "    # reverse the second part\n",
    "    node = None\n",
    "    while second:\n",
    "        nxt = second.next\n",
    "        second.next = node\n",
    "        node = second\n",
    "        second = nxt\n",
    "    # compare two parts\n",
    "    # second part has the same or one less node\n",
    "    while node:\n",
    "        if node.val != head.val:\n",
    "            return False\n",
    "        node = node.next\n",
    "        head = head.next\n",
    "    return True"
   ]
  },
  {
   "cell_type": "markdown",
   "metadata": {},
   "source": [
    "#### Stack-Based: Uses a stack to store the second half of the list and compares values as the stack is popped."
   ]
  },
  {
   "cell_type": "code",
   "execution_count": null,
   "metadata": {},
   "outputs": [],
   "source": [
    "def is_palindrome_stack(head):\n",
    "    if not head or not head.next:\n",
    "        return True\n",
    "\n",
    "    # 1. Get the midpoint (slow)\n",
    "    slow = fast = cur = head\n",
    "    while fast and fast.next:\n",
    "        fast, slow = fast.next.next, slow.next\n",
    "\n",
    "    # 2. Push the second half into the stack\n",
    "    stack = [slow.val]\n",
    "    while slow.next:\n",
    "        slow = slow.next\n",
    "        stack.append(slow.val)\n",
    "\n",
    "    # 3. Comparison\n",
    "    while stack:\n",
    "        if stack.pop() != cur.val:\n",
    "            return False\n",
    "        cur = cur.next\n",
    "\n",
    "    return True"
   ]
  },
  {
   "cell_type": "markdown",
   "metadata": {},
   "source": [
    "#### Dictionary-Based: Tracks the positions of node values in a dictionary and checks if the list has a valid palindrome structure."
   ]
  },
  {
   "cell_type": "code",
   "execution_count": null,
   "metadata": {},
   "outputs": [],
   "source": [
    "\"\"\"\n",
    "This function builds up a dictionary where the keys are the values of the list,\n",
    "and the values are the positions at which these values occur in the list.\n",
    "We then iterate over the dict and if there is more than one key with an odd\n",
    "number of occurrences, bail out and return False.\n",
    "Otherwise, we want to ensure that the positions of occurrence sum to the\n",
    "value of the length of the list - 1, working from the outside of the list inward.\n",
    "\n",
    "    \n",
    "For example:\n",
    "Input: 1 -> 1 -> 2 -> 3 -> 2 -> 1 -> 1\n",
    "d = {1: [0,1,5,6], 2: [2,4], 3: [3]}\n",
    "'3' is the middle outlier, 2+4=6, 0+6=6 and 5+1=6 so we have a palindrome.\n",
    "\"\"\""
   ]
  },
  {
   "cell_type": "code",
   "execution_count": null,
   "metadata": {},
   "outputs": [],
   "source": [
    "def is_palindrome_dict(head):\n",
    "    if not head or not head.next:\n",
    "        return True\n",
    "    d = {}\n",
    "    pos = 0\n",
    "    while head:\n",
    "        if head.val in d.keys():\n",
    "            d[head.val].append(pos)\n",
    "        else:\n",
    "            d[head.val] = [pos]\n",
    "        head = head.next\n",
    "        pos += 1\n",
    "    checksum = pos - 1\n",
    "    middle = 0\n",
    "    for v in d.values():\n",
    "        if len(v) % 2 != 0:\n",
    "            middle += 1\n",
    "        else:\n",
    "            step = 0\n",
    "            for i in range(0, len(v)):\n",
    "                if v[i] + v[len(v) - 1 - step] != checksum:\n",
    "                    return False\n",
    "                step += 1\n",
    "        if middle > 1:\n",
    "            return False\n",
    "    return True\n"
   ]
  },
  {
   "cell_type": "markdown",
   "metadata": {},
   "source": [
    "## Checking if a Linked List is Sorted in Increasing Order"
   ]
  },
  {
   "cell_type": "code",
   "execution_count": null,
   "metadata": {},
   "outputs": [],
   "source": [
    "\"\"\"\n",
    "Given a linked list, is_sort function returns true if the list is in sorted\n",
    "(increasing) order and return false otherwise. An empty list is considered\n",
    "to be sorted.\n",
    "\n",
    "For example:\n",
    "Null :List is sorted\n",
    "1 2 3 4 :List is sorted\n",
    "1 2 -1 3 :List is not sorted\n",
    "\"\"\""
   ]
  },
  {
   "cell_type": "code",
   "execution_count": null,
   "metadata": {},
   "outputs": [],
   "source": [
    "def is_sorted(head):\n",
    "    if not head:\n",
    "        return True\n",
    "    current = head\n",
    "    while current.next:\n",
    "        if current.val > current.next.val:\n",
    "            return False\n",
    "        current = current.next\n",
    "    return True"
   ]
  },
  {
   "cell_type": "markdown",
   "metadata": {},
   "source": [
    "## Finding the k-th to Last Element in a Linked List\n"
   ]
  },
  {
   "cell_type": "markdown",
   "metadata": {},
   "source": [
    "#### This code ill provide has three methods for finding the k-th last element of a single linked list, each with varying efficiency:\n",
    "\n",
    "#### **`kth_to_last_eval`**: Uses the `eval()` function to dynamically traverse the list, which is unsafe for user input but demonstrates an unconventional approach.\n",
    "#### **`kth_to_last_dict`**: Uses a dictionary to store list nodes indexed by their position, allowing for easy retrieval but with O(N) space complexity.\n",
    "#### **`kth_to_last`**: Implements an optimal solution using two pointers—one is moved `k` steps ahead, and both move until the first pointer reaches the end, yielding O(N) time and O(1) space complexity.\n",
    "\n",
    "#### The `test()` function validates each method against a predefined linked list, ensuring correctness."
   ]
  },
  {
   "cell_type": "code",
   "execution_count": null,
   "metadata": {},
   "outputs": [],
   "source": [
    "class Node():\n",
    "    def __init__(self, val=None):\n",
    "        self.val = val\n",
    "        self.next = None\n",
    "\n",
    "\n",
    "def kth_to_last_eval(head, k):\n",
    "    \"\"\"\n",
    "    This is a suboptimal, hacky method using eval(), which is not\n",
    "     safe for user input. We guard against danger by ensuring k in an int\n",
    "    \"\"\"\n",
    "    if not isinstance(k, int) or not head.val:\n",
    "        return False\n",
    "\n",
    "    nexts = '.'.join(['next' for n in range(1, k+1)])\n",
    "    seeker = str('.'.join(['head', nexts]))\n",
    "\n",
    "    while head:\n",
    "        if eval(seeker) is None:\n",
    "            return head\n",
    "        else:\n",
    "            head = head.next\n",
    "\n",
    "    return False\n",
    "\n",
    "\n",
    "def kth_to_last_dict(head, k):\n",
    "    \"\"\"\n",
    "    This is a brute force method where we keep a dict the size of the list\n",
    "    Then we check it for the value we need. If the key is not in the dict,\n",
    "    our and statement will short circuit and return False\n",
    "    \"\"\"\n",
    "    if not (head and k > -1):\n",
    "        return False\n",
    "    d = dict()\n",
    "    count = 0\n",
    "    while head:\n",
    "        d[count] = head\n",
    "        head = head.next\n",
    "        count += 1\n",
    "    return len(d)-k in d and d[len(d)-k]\n",
    "\n",
    "\n",
    "def kth_to_last(head, k):\n",
    "    \"\"\"\n",
    "    This is an optimal method using iteration.\n",
    "    We move p1 k steps ahead into the list.\n",
    "    Then we move p1 and p2 together until p1 hits the end.\n",
    "    \"\"\"\n",
    "    if not (head or k > -1):\n",
    "        return False\n",
    "    p1 = head\n",
    "    p2 = head\n",
    "    for i in range(1, k+1):\n",
    "        if p1 is None:\n",
    "            # Went too far, k is not valid\n",
    "            raise IndexError\n",
    "        p1 = p1.next\n",
    "    while p1:\n",
    "        p1 = p1.next\n",
    "        p2 = p2.next\n",
    "    return p2\n",
    "\n",
    "\n",
    "def print_linked_list(head):\n",
    "    string = \"\"\n",
    "    while head.next:\n",
    "        string += head.val + \" -> \"\n",
    "        head = head.next\n",
    "    string += head.val\n",
    "    print(string)\n",
    "\n",
    "\n",
    "def test():\n",
    "    # def make_test_li\n",
    "    # A A B C D C F G\n",
    "    a1 = Node(\"A\")\n",
    "    a2 = Node(\"A\")\n",
    "    b = Node(\"B\")\n",
    "    c1 = Node(\"C\")\n",
    "    d = Node(\"D\")\n",
    "    c2 = Node(\"C\")\n",
    "    f = Node(\"F\")\n",
    "    g = Node(\"G\")\n",
    "    a1.next = a2\n",
    "    a2.next = b\n",
    "    b.next = c1\n",
    "    c1.next = d\n",
    "    d.next = c2\n",
    "    c2.next = f\n",
    "    f.next = g\n",
    "    print_linked_list(a1)\n",
    "\n",
    "    # test kth_to_last_eval\n",
    "    kth = kth_to_last_eval(a1, 4)\n",
    "    try:\n",
    "        assert kth.val == \"D\"\n",
    "    except AssertionError as e:\n",
    "        e.args += (\"Expecting D, got %s\" % kth.val,)\n",
    "        raise\n",
    "\n",
    "    # test kth_to_last_dict\n",
    "    kth = kth_to_last_dict(a1, 4)\n",
    "    try:\n",
    "        assert kth.val == \"D\"\n",
    "    except AssertionError as e:\n",
    "        e.args += (\"Expecting D, got %s\" % kth.val,)\n",
    "        raise\n",
    "\n",
    "    # test kth_to_last\n",
    "    kth = kth_to_last(a1, 4)\n",
    "    try:\n",
    "        assert kth.val == \"D\"\n",
    "    except AssertionError as e:\n",
    "        e.args += (\"Expecting D, got %s\" % kth.val,)\n",
    "        raise\n",
    "    print(\"all passed.\")\n",
    "\n",
    "if __name__ == '__main__':\n",
    "    test()"
   ]
  },
  {
   "cell_type": "markdown",
   "metadata": {},
   "source": [
    "## Overview of Linked List"
   ]
  },
  {
   "cell_type": "code",
   "execution_count": null,
   "metadata": {},
   "outputs": [],
   "source": [
    "# Pros\n",
    "# Linked Lists have constant-time insertions and deletions in any position,\n",
    "# in comparison, arrays require O(n) time to do the same thing.\n",
    "# Linked lists can continue to expand without having to specify\n",
    "# their size ahead of time."
   ]
  },
  {
   "cell_type": "code",
   "execution_count": null,
   "metadata": {},
   "outputs": [],
   "source": [
    "# Cons\n",
    "# To access an element in a linked list, you need to take O(k) time\n",
    "# to go from the head of the list to the kth element.\n",
    "# In contrast, arrays have constant time operations to access\n",
    "# elements in an array."
   ]
  },
  {
   "cell_type": "code",
   "execution_count": null,
   "metadata": {},
   "outputs": [],
   "source": [
    "class DoublyLinkedListNode(object):\n",
    "    def __init__(self, value):\n",
    "        self.value = value\n",
    "        self.next = None\n",
    "        self.prev = None\n",
    "\n",
    "\n",
    "class SinglyLinkedListNode(object):\n",
    "    def __init__(self, value):\n",
    "        self.value = value\n",
    "        self.next = None"
   ]
  }
 ],
 "metadata": {
  "language_info": {
   "name": "python"
  }
 },
 "nbformat": 4,
 "nbformat_minor": 2
}
