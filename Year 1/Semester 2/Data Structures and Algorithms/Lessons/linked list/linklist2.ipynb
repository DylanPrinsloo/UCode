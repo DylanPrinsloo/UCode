{
 "cells": [
  {
   "cell_type": "code",
   "execution_count": null,
   "metadata": {},
   "outputs": [],
   "source": [
    "# init\n",
    "from .reverse import *\n",
    "from .is_sorted import *\n",
    "from .remove_range import *\n",
    "from .swap_in_pairs import *\n",
    "from .rotate_list import *\n",
    "from .is_cyclic import *\n",
    "from .merge_two_list import *\n",
    "from .is_palindrome import *\n",
    "from .copy_random_pointer import *"
   ]
  },
  {
   "cell_type": "markdown",
   "metadata": {},
   "source": [
    "## Detecting a Cycle in a Linked List Without Using Extra Space\n",
    "\n",
    "#### This code determines if a linked list contains a cycle by using Floyd's Tortoise and Hare algorithm, which allows the detection of cycles in constant space."
   ]
  },
  {
   "cell_type": "code",
   "execution_count": null,
   "metadata": {},
   "outputs": [],
   "source": [
    "class Node:\n",
    "\n",
    "    def __init__(self, x):\n",
    "        self.val = x\n",
    "        self.next = None\n",
    "\n",
    "def is_cyclic(head):\n",
    "    \"\"\"\n",
    "    :type head: Node\n",
    "    :rtype: bool\n",
    "    \"\"\"\n",
    "    if not head:\n",
    "        return False\n",
    "    runner = head\n",
    "    walker = head\n",
    "    while runner.next and runner.next.next:\n",
    "        runner = runner.next.next\n",
    "        walker = walker.next\n",
    "        if runner == walker:\n",
    "            return True\n",
    "    return False"
   ]
  },
  {
   "cell_type": "code",
   "execution_count": null,
   "metadata": {},
   "outputs": [],
   "source": [
    "# Follow up:\n",
    "# Can you solve it without using extra space?"
   ]
  },
  {
   "cell_type": "markdown",
   "metadata": {},
   "source": [
    "## Checking if a Linked List is a Palindrome Using Different Methods"
   ]
  },
  {
   "cell_type": "markdown",
   "metadata": {},
   "source": [
    "#### In-Place Reversal: Splits the list into two parts, reverses the second half, and compares the values from the front and back."
   ]
  },
  {
   "cell_type": "code",
   "execution_count": null,
   "metadata": {},
   "outputs": [],
   "source": [
    "def is_palindrome(head):\n",
    "    if not head:\n",
    "        return True\n",
    "    # split the list to two parts\n",
    "    fast, slow = head.next, head\n",
    "    while fast and fast.next:\n",
    "        fast = fast.next.next\n",
    "        slow = slow.next\n",
    "    second = slow.next\n",
    "    slow.next = None  # Don't forget here! But forget still works!\n",
    "    # reverse the second part\n",
    "    node = None\n",
    "    while second:\n",
    "        nxt = second.next\n",
    "        second.next = node\n",
    "        node = second\n",
    "        second = nxt\n",
    "    # compare two parts\n",
    "    # second part has the same or one less node\n",
    "    while node:\n",
    "        if node.val != head.val:\n",
    "            return False\n",
    "        node = node.next\n",
    "        head = head.next\n",
    "    return True"
   ]
  },
  {
   "cell_type": "markdown",
   "metadata": {},
   "source": [
    "#### Stack-Based: Uses a stack to store the second half of the list and compares values as the stack is popped."
   ]
  },
  {
   "cell_type": "code",
   "execution_count": null,
   "metadata": {},
   "outputs": [],
   "source": [
    "def is_palindrome_stack(head):\n",
    "    if not head or not head.next:\n",
    "        return True\n",
    "\n",
    "    # 1. Get the midpoint (slow)\n",
    "    slow = fast = cur = head\n",
    "    while fast and fast.next:\n",
    "        fast, slow = fast.next.next, slow.next\n",
    "\n",
    "    # 2. Push the second half into the stack\n",
    "    stack = [slow.val]\n",
    "    while slow.next:\n",
    "        slow = slow.next\n",
    "        stack.append(slow.val)\n",
    "\n",
    "    # 3. Comparison\n",
    "    while stack:\n",
    "        if stack.pop() != cur.val:\n",
    "            return False\n",
    "        cur = cur.next\n",
    "\n",
    "    return True"
   ]
  },
  {
   "cell_type": "markdown",
   "metadata": {},
   "source": [
    "#### Dictionary-Based: Tracks the positions of node values in a dictionary and checks if the list has a valid palindrome structure."
   ]
  },
  {
   "cell_type": "code",
   "execution_count": null,
   "metadata": {},
   "outputs": [],
   "source": [
    "\"\"\"\n",
    "This function builds up a dictionary where the keys are the values of the list,\n",
    "and the values are the positions at which these values occur in the list.\n",
    "We then iterate over the dict and if there is more than one key with an odd\n",
    "number of occurrences, bail out and return False.\n",
    "Otherwise, we want to ensure that the positions of occurrence sum to the\n",
    "value of the length of the list - 1, working from the outside of the list inward.\n",
    "\n",
    "    \n",
    "For example:\n",
    "Input: 1 -> 1 -> 2 -> 3 -> 2 -> 1 -> 1\n",
    "d = {1: [0,1,5,6], 2: [2,4], 3: [3]}\n",
    "'3' is the middle outlier, 2+4=6, 0+6=6 and 5+1=6 so we have a palindrome.\n",
    "\"\"\""
   ]
  },
  {
   "cell_type": "code",
   "execution_count": null,
   "metadata": {},
   "outputs": [],
   "source": [
    "def is_palindrome_dict(head):\n",
    "    if not head or not head.next:\n",
    "        return True\n",
    "    d = {}\n",
    "    pos = 0\n",
    "    while head:\n",
    "        if head.val in d.keys():\n",
    "            d[head.val].append(pos)\n",
    "        else:\n",
    "            d[head.val] = [pos]\n",
    "        head = head.next\n",
    "        pos += 1\n",
    "    checksum = pos - 1\n",
    "    middle = 0\n",
    "    for v in d.values():\n",
    "        if len(v) % 2 != 0:\n",
    "            middle += 1\n",
    "        else:\n",
    "            step = 0\n",
    "            for i in range(0, len(v)):\n",
    "                if v[i] + v[len(v) - 1 - step] != checksum:\n",
    "                    return False\n",
    "                step += 1\n",
    "        if middle > 1:\n",
    "            return False\n",
    "    return True\n"
   ]
  },
  {
   "cell_type": "markdown",
   "metadata": {},
   "source": [
    "## Checking if a Linked List is Sorted in Increasing Order"
   ]
  },
  {
   "cell_type": "code",
   "execution_count": null,
   "metadata": {},
   "outputs": [],
   "source": [
    "# empty"
   ]
  },
  {
   "cell_type": "code",
   "execution_count": null,
   "metadata": {},
   "outputs": [],
   "source": [
    "# empty"
   ]
  }
 ],
 "metadata": {
  "language_info": {
   "name": "python"
  }
 },
 "nbformat": 4,
 "nbformat_minor": 2
}
