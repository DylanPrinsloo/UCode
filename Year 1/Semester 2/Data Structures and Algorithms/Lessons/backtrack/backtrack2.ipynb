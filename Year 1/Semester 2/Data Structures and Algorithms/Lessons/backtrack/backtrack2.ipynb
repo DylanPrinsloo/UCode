{
 "cells": [
  {
   "cell_type": "markdown",
   "metadata": {},
   "source": [
    "## Palindromic Substrings Partitioning\n",
    "\n",
    "This function generates all the ways you can divide the input string into substrings that are palindromes. Each one-character substring is always a palindrome, and the function recursively checks for longer palindromic substrings. \n",
    "\n",
    "The process involves finding all valid partitions where every substring in each partition is a palindrome, and it can be solved using either recursion or a recursive generator for more efficient memory usage."
   ]
  },
  {
   "cell_type": "code",
   "execution_count": null,
   "metadata": {},
   "outputs": [],
   "source": [
    "\"\"\" It looks like you need to be looking not for all palindromic substrings,\n",
    "but rather for all the ways you can divide the input string\n",
    "up into palindromic substrings.\n",
    "(There's always at least one way,\n",
    "since one-character substrings are always palindromes.)\n",
    "\n",
    "ex)\n",
    "'abcbab' => [['abcba', 'b'], ['a', 'bcb', 'a', 'b'], ['a', 'b', 'c', 'bab'], ['a', 'b', 'c', 'b', 'a', 'b']]\n",
    "\"\"\""
   ]
  },
  {
   "cell_type": "code",
   "execution_count": null,
   "metadata": {},
   "outputs": [],
   "source": [
    "def palindromic_substrings(s):\n",
    "    if not s:\n",
    "        return [[]]\n",
    "    results = []\n",
    "    for i in range(len(s), 0, -1):\n",
    "        sub = s[:i]\n",
    "        if sub == sub[::-1]:\n",
    "            for rest in palindromic_substrings(s[i:]):\n",
    "                results.append([sub] + rest)\n",
    "    return results"
   ]
  },
  {
   "cell_type": "code",
   "execution_count": null,
   "metadata": {},
   "outputs": [],
   "source": [
    "\"\"\"\n",
    "There's two loops.\n",
    "The outer loop checks each length of initial substring\n",
    "(in descending length order) to see if it is a palindrome.\n",
    "If so, it recurses on the rest of the string and loops over the returned\n",
    "values, adding the initial substring to\n",
    "each item before adding it to the results.\n",
    "\"\"\""
   ]
  },
  {
   "cell_type": "code",
   "execution_count": null,
   "metadata": {},
   "outputs": [],
   "source": [
    "def palindromic_substrings_iter(s):\n",
    "    \"\"\"\n",
    "    A slightly more Pythonic approach with a recursive generator\n",
    "    \"\"\"\n",
    "    if not s:\n",
    "        yield []\n",
    "        return\n",
    "    for i in range(len(s), 0, -1):\n",
    "        sub = s[:i]\n",
    "        if sub == sub[::-1]:\n",
    "            for rest in palindromic_substrings_iter(s[i:]):\n",
    "                yield [sub] + rest\n"
   ]
  },
  {
   "cell_type": "markdown",
   "metadata": {},
   "source": [
    "## Pattern Matching Function\n",
    "\n",
    "The function checks whether a given string follows a specific pattern. The pattern and the string must adhere to a bijection, meaning each unique character in the pattern corresponds to a unique non-empty substring in the string.\n",
    "\n",
    "#### Function Breakdown:\n",
    "\n",
    "1. **Backtracking Approach**: \n",
    "   - The function `backtrack` recursively attempts to assign substrings to each character in the pattern.\n",
    "   - It uses a dictionary to keep track of character-to-substring mappings.\n",
    "\n",
    "2. **Base Cases**:\n",
    "   - If the pattern is empty but the string is not, it returns `False` since an empty pattern cannot match a non-empty string.\n",
    "   - If both the pattern and string are empty, it returns `True`, indicating a valid match.\n",
    "\n",
    "3. **Recursion**:\n",
    "   - The loop iterates through possible substring lengths for the first character in the pattern.\n",
    "   - If the character isn't already mapped, it attempts to create a new mapping and recurses with the remaining pattern and string.\n",
    "   - If it finds a valid mapping that matches the substring, it continues checking the rest of the pattern.\n",
    "\n",
    "4. **Backtracking**:\n",
    "   - If a mapping leads to a dead end, it removes the mapping (backtracks) and tries a different substring.\n",
    "\n",
    "### Example Usage\n",
    "\n",
    "```python\n",
    "print(pattern_match(\"abab\", \"redblueredblue\"))  # Output: True\n",
    "print(pattern_match(\"aaaa\", \"asdasdasdasd\"))    # Output: True\n",
    "print(pattern_match(\"aabb\", \"xyzabcxzyabc\"))    # Output: False\n",
    "```\n"
   ]
  },
  {
   "cell_type": "code",
   "execution_count": null,
   "metadata": {},
   "outputs": [],
   "source": [
    "\"\"\"\n",
    "Given a pattern and a string str,\n",
    "find if str follows the same pattern.\n",
    "\n",
    "Here follow means a full match, such that there is a bijection between\n",
    "a letter in pattern and a non-empty substring in str.\n",
    "\n",
    "Examples:\n",
    "pattern = \"abab\", str = \"redblueredblue\" should return true.\n",
    "pattern = \"aaaa\", str = \"asdasdasdasd\" should return true.\n",
    "pattern = \"aabb\", str = \"xyzabcxzyabc\" should return false.\n",
    "Notes:\n",
    "You may assume both pattern and str contains only lowercase letters.\n",
    "\"\"\""
   ]
  },
  {
   "cell_type": "code",
   "execution_count": null,
   "metadata": {},
   "outputs": [],
   "source": [
    "def pattern_match(pattern, string):\n",
    "    \"\"\"\n",
    "    :type pattern: str\n",
    "    :type string: str\n",
    "    :rtype: bool\n",
    "    \"\"\"\n",
    "    def backtrack(pattern, string, dic):\n",
    "\n",
    "        if len(pattern) == 0 and len(string) > 0:\n",
    "            return False\n",
    "\n",
    "        if len(pattern) == len(string) == 0:\n",
    "            return True\n",
    "\n",
    "        for end in range(1, len(string)-len(pattern)+2):\n",
    "            if pattern[0] not in dic and string[:end] not in dic.values():\n",
    "                dic[pattern[0]] = string[:end]\n",
    "                if backtrack(pattern[1:], string[end:], dic):\n",
    "                    return True\n",
    "                del dic[pattern[0]]\n",
    "            elif pattern[0] in dic and dic[pattern[0]] == string[:end]:\n",
    "                if backtrack(pattern[1:], string[end:], dic):\n",
    "                    return True\n",
    "        return False\n",
    "\n",
    "    return backtrack(pattern, string, {})"
   ]
  },
  {
   "cell_type": "markdown",
   "metadata": {},
   "source": [
    "## Unique Permutations Function\n",
    "\n",
    "The function generates all unique permutations of a list of numbers that may contain duplicates. It efficiently builds permutations by progressively inserting each number into all possible positions of the existing permutations.\n"
   ]
  },
  {
   "cell_type": "code",
   "execution_count": null,
   "metadata": {},
   "outputs": [],
   "source": [
    "\"\"\"\n",
    "Given a collection of numbers that might contain duplicates,\n",
    "return all possible unique permutations.\n",
    "\n",
    "For example,\n",
    "[1,1,2] have the following unique permutations:\n",
    "[\n",
    "  [1,1,2],\n",
    "  [1,2,1],\n",
    "  [2,1,1]\n",
    "]\n",
    "\"\"\""
   ]
  },
  {
   "cell_type": "code",
   "execution_count": null,
   "metadata": {},
   "outputs": [],
   "source": [
    "def permute_unique(nums):\n",
    "    perms = [[]]\n",
    "    for n in nums:\n",
    "        new_perms = []\n",
    "        for l in perms:\n",
    "            for i in range(len(l)+1):\n",
    "                new_perms.append(l[:i]+[n]+l[i:])\n",
    "                if i < len(l) and l[i] == n:\n",
    "                    break  # handles duplication\n",
    "        perms = new_perms\n",
    "    return perms"
   ]
  },
  {
   "cell_type": "markdown",
   "metadata": {},
   "source": [
    "# Possible permutations of a given collection of distinct numbers"
   ]
  },
  {
   "cell_type": "code",
   "execution_count": null,
   "metadata": {},
   "outputs": [],
   "source": [
    "\"\"\"\n",
    "Given a collection of distinct numbers, return all possible permutations.\n",
    "\n",
    "For example,\n",
    "[1,2,3] have the following permutations:\n",
    "[\n",
    "  [1,2,3],\n",
    "  [1,3,2],\n",
    "  [2,1,3],\n",
    "  [2,3,1],\n",
    "  [3,1,2],\n",
    "  [3,2,1]\n",
    "]\n",
    "\"\"\""
   ]
  },
  {
   "cell_type": "markdown",
   "metadata": {},
   "source": [
    "## Recursive Permutation Function:"
   ]
  },
  {
   "cell_type": "code",
   "execution_count": null,
   "metadata": {},
   "outputs": [],
   "source": [
    "def permute(elements):\n",
    "    \"\"\"\n",
    "        returns a list with the permuations.\n",
    "    \"\"\"\n",
    "    if len(elements) <= 1:\n",
    "        return [elements]\n",
    "    else:\n",
    "        tmp = []\n",
    "        for perm in permute(elements[1:]):\n",
    "            for i in range(len(elements)):\n",
    "                tmp.append(perm[:i] + elements[0:1] + perm[i:])\n",
    "        return tmp\n"
   ]
  },
  {
   "cell_type": "markdown",
   "metadata": {},
   "source": [
    "## Iterator for Permutations:"
   ]
  },
  {
   "cell_type": "code",
   "execution_count": null,
   "metadata": {},
   "outputs": [],
   "source": [
    "def permute_iter(elements):\n",
    "    \"\"\"\n",
    "        iterator: returns a perumation by each call.\n",
    "    \"\"\"\n",
    "    if len(elements) <= 1:\n",
    "        yield elements\n",
    "    else:\n",
    "        for perm in permute_iter(elements[1:]):\n",
    "            for i in range(len(elements)):\n",
    "                yield perm[:i] + elements[0:1] + perm[i:]\n"
   ]
  },
  {
   "cell_type": "markdown",
   "metadata": {},
   "source": [
    "## DFS-Based Recursive Permutation Function"
   ]
  },
  {
   "cell_type": "code",
   "execution_count": null,
   "metadata": {},
   "outputs": [],
   "source": [
    "# DFS Version\n",
    "def permute_recursive(nums):\n",
    "    def dfs(res, nums, path):\n",
    "        if not nums:\n",
    "            res.append(path)\n",
    "        for i in range(len(nums)):\n",
    "            print(nums[:i]+nums[i+1:])\n",
    "            dfs(res, nums[:i]+nums[i+1:], path+[nums[i]])\n",
    "\n",
    "    res = []\n",
    "    dfs(res, nums, [])\n",
    "    return res"
   ]
  },
  {
   "cell_type": "markdown",
   "metadata": {},
   "source": [
    "## Subsets :)\n",
    "\n",
    "## Generate all possible unique subsets from a collection of integers that might contain duplicates"
   ]
  },
  {
   "cell_type": "code",
   "execution_count": null,
   "metadata": {},
   "outputs": [],
   "source": [
    "\"\"\"\n",
    "Given a collection of integers that might contain duplicates, nums,\n",
    "return all possible subsets.\n",
    "\n",
    "Note: The solution set must not contain duplicate subsets.\n",
    "\n",
    "For example,\n",
    "If nums = [1,2,2], a solution is:\n",
    "\n",
    "[\n",
    "  [2],\n",
    "  [1],\n",
    "  [1,2,2],\n",
    "  [2,2],\n",
    "  [1,2],\n",
    "  []\n",
    "]\n",
    "\"\"\""
   ]
  },
  {
   "cell_type": "code",
   "execution_count": null,
   "metadata": {},
   "outputs": [],
   "source": [
    "def subsets_unique(nums):\n",
    "\n",
    "    def backtrack(res, nums, stack, pos):\n",
    "        if pos == len(nums):\n",
    "            res.add(tuple(stack))\n",
    "        else:\n",
    "            # take\n",
    "            stack.append(nums[pos])\n",
    "            backtrack(res, nums, stack, pos+1)\n",
    "            stack.pop()\n",
    "\n",
    "            # don't take\n",
    "            backtrack(res, nums, stack, pos+1)\n",
    "\n",
    "    res = set()\n",
    "    backtrack(res, nums, [], 0)\n",
    "    return list(res)"
   ]
  },
  {
   "cell_type": "markdown",
   "metadata": {},
   "source": [
    "##  Generate all possible subsets from a set of distinct integers"
   ]
  },
  {
   "cell_type": "code",
   "execution_count": null,
   "metadata": {},
   "outputs": [],
   "source": [
    "\"\"\"\n",
    "Given a set of distinct integers, nums, return all possible subsets.\n",
    "\n",
    "Note: The solution set must not contain duplicate subsets.\n",
    "\n",
    "For example,\n",
    "If nums = [1,2,3], a solution is:\n",
    "\n",
    "[\n",
    "  [3],\n",
    "  [1],\n",
    "  [2],\n",
    "  [1,2,3],\n",
    "  [1,3],\n",
    "  [2,3],\n",
    "  [1,2],\n",
    "  []\n",
    "]\n",
    "\"\"\""
   ]
  },
  {
   "cell_type": "code",
   "execution_count": null,
   "metadata": {},
   "outputs": [],
   "source": [
    "def subsets(nums):\n",
    "    \"\"\"\n",
    "    O(2**n)\n",
    "    \"\"\"\n",
    "    def backtrack(res, nums, stack, pos):\n",
    "        if pos == len(nums):\n",
    "            res.append(list(stack))\n",
    "        else:\n",
    "            # take nums[pos]\n",
    "            stack.append(nums[pos])\n",
    "            backtrack(res, nums, stack, pos+1)\n",
    "            stack.pop()\n",
    "            # dont take nums[pos]\n",
    "            backtrack(res, nums, stack, pos+1)\n",
    "\n",
    "    res = []\n",
    "    backtrack(res, nums, [], 0)\n",
    "    return res"
   ]
  },
  {
   "cell_type": "markdown",
   "metadata": {},
   "source": [
    "### What is the diffrenece between recursive and iterative approaches?"
   ]
  },
  {
   "cell_type": "code",
   "execution_count": null,
   "metadata": {},
   "outputs": [],
   "source": [
    "\"\"\"\n",
    "simplified backtrack\n",
    "\n",
    "def backtrack(res, nums, cur, pos):\n",
    "    if pos >= len(nums):\n",
    "        res.append(cur)\n",
    "    else:\n",
    "        backtrack(res, nums, cur+[nums[pos]], pos+1)\n",
    "        backtrack(res, nums, cur, pos+1)\n",
    "\"\"\""
   ]
  },
  {
   "cell_type": "code",
   "execution_count": null,
   "metadata": {},
   "outputs": [],
   "source": [
    "# Iteratively\n",
    "def subsets_v2(nums):\n",
    "    res = [[]]\n",
    "    for num in sorted(nums):\n",
    "        res += [item+[num] for item in res]\n",
    "    return res"
   ]
  }
 ],
 "metadata": {
  "language_info": {
   "name": "python"
  }
 },
 "nbformat": 4,
 "nbformat_minor": 2
}
