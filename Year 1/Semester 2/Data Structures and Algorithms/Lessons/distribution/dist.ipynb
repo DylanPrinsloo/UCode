{
 "cells": [
  {
   "cell_type": "markdown",
   "metadata": {},
   "source": [
    "## **Distribution**\n",
    "   In algorithms, distribution refers to how data is spread across a set or structure. For example, in distributed systems or algorithms for load balancing, efficient distribution ensures optimized processing.\n",
    "   - **Applications:** Load balancing, distributed computing."
   ]
  },
  {
   "cell_type": "code",
   "execution_count": null,
   "metadata": {},
   "outputs": [],
   "source": [
    "\"\"\"\n",
    "Histogram function.\n",
    "\n",
    "Histogram is an accurate representation of the distribution of numerical data.\n",
    "It is an estimate of the probability distribution of a continuous variable.\n",
    "https://en.wikipedia.org/wiki/Histogram\n",
    "\n",
    "Example:\n",
    "    list_1 = [3, 3, 2, 1]\n",
    "    :return {1: 1, 2: 1, 3: 2}\n",
    "\n",
    "    list_2 = [2, 3, 5, 5, 5, 6, 4, 3, 7]\n",
    "    :return {2: 1, 3: 2, 4: 1, 5: 3, 6: 1, 7: 1}\n",
    "\"\"\""
   ]
  },
  {
   "cell_type": "code",
   "execution_count": null,
   "metadata": {},
   "outputs": [],
   "source": [
    "def get_histogram(input_list: list) -> dict:\n",
    "    \"\"\"\n",
    "    Get histogram representation\n",
    "    :param input_list: list with different and unordered values\n",
    "    :return histogram: dict with histogram of input_list\n",
    "    \"\"\"\n",
    "    # Create dict to store histogram\n",
    "    histogram = {}\n",
    "    # For each list value, add one to the respective histogram dict position\n",
    "    for i in input_list:\n",
    "        histogram[i] = histogram.get(i, 0) + 1\n",
    "    return histogram"
   ]
  }
 ],
 "metadata": {
  "language_info": {
   "name": "python"
  }
 },
 "nbformat": 4,
 "nbformat_minor": 2
}
