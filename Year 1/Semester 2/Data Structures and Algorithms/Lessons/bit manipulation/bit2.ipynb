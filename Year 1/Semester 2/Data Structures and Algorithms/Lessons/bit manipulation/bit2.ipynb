{
 "cells": [
  {
   "cell_type": "markdown",
   "metadata": {},
   "source": [
    "## Count the Number of '1' Bits (Hamming Weight) in an Unsigned Integer"
   ]
  },
  {
   "cell_type": "code",
   "execution_count": null,
   "metadata": {},
   "outputs": [],
   "source": [
    "\"\"\"\n",
    "Write a function that takes an unsigned integer and\n",
    "returns the number of '1' bits it has\n",
    "(also known as the Hamming weight).\n",
    "\n",
    "For example, the 32-bit integer '11' has binary\n",
    "representation 00000000000000000000000000001011,\n",
    "so the function should return 3.\n",
    "\n",
    "T(n)- O(k)   : k is the number of 1s present in binary representation.\n",
    "NOTE: this complexity is better than O(log n).\n",
    "e.g. for n = 00010100000000000000000000000000\n",
    "only 2 iterations are required.\n",
    "\n",
    "Number of loops is\n",
    "equal to the number of 1s in the binary representation.\"\"\""
   ]
  },
  {
   "cell_type": "code",
   "execution_count": null,
   "metadata": {},
   "outputs": [],
   "source": [
    "def count_ones_recur(n):\n",
    "    \"\"\"Using Brian Kernighan's Algorithm. (Recursive Approach)\"\"\"\n",
    "\n",
    "    if not n:\n",
    "        return 0\n",
    "    return 1 + count_ones_recur(n & (n-1))\n"
   ]
  },
  {
   "cell_type": "code",
   "execution_count": null,
   "metadata": {},
   "outputs": [],
   "source": [
    "def count_ones_iter(n):\n",
    "    \"\"\"Using Brian Kernighan's Algorithm. (Iterative Approach)\"\"\"\n",
    "\n",
    "    count = 0\n",
    "    while n:\n",
    "        n &= (n-1)\n",
    "        count += 1\n",
    "    return count"
   ]
  },
  {
   "cell_type": "code",
   "execution_count": null,
   "metadata": {},
   "outputs": [],
   "source": [
    "# still adding content"
   ]
  }
 ],
 "metadata": {
  "language_info": {
   "name": "python"
  }
 },
 "nbformat": 4,
 "nbformat_minor": 2
}
