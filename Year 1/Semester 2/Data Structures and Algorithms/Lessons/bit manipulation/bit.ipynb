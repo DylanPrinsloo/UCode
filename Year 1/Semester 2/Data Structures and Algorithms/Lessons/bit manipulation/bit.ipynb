{
 "cells": [
  {
   "cell_type": "markdown",
   "metadata": {},
   "source": [
    "# **Bit Manipulation**\n",
    "   **Definition:** Bit manipulation involves the use of bitwise operators to manipulate individual bits of data, often to optimize memory usage and performance.\n",
    "   - **Operators:** AND (`&`), OR (`|`), XOR (`^`), NOT (`~`).\n",
    "   - **Applications:** Efficient algorithms in encryption, compression, and data representation."
   ]
  },
  {
   "cell_type": "code",
   "execution_count": null,
   "metadata": {},
   "outputs": [],
   "source": [
    "# init py\n",
    "from .add_bitwise_operator import *\n",
    "from .count_ones import *\n",
    "from .find_missing_number import *\n",
    "from .power_of_two import *\n",
    "from .reverse_bits import *\n",
    "from .single_number import *\n",
    "from .single_number2 import *\n",
    "from .single_number3 import *\n",
    "from .subsets import *\n",
    "from .bit_operation import *\n",
    "from .swap_pair import *\n",
    "from .find_difference import *\n",
    "from .has_alternative_bit import *\n",
    "from .insert_bit import *\n",
    "from .remove_bit import *\n",
    "from .count_flips_to_convert import *\n",
    "from .flip_bit_longest_sequence import *\n",
    "from .binary_gap import *\n",
    "from .bytes_int_conversion import *"
   ]
  },
  {
   "cell_type": "markdown",
   "metadata": {},
   "source": [
    "\n",
    "\n",
    "## Adding Two Positive Integers Using Bitwise Operations"
   ]
  },
  {
   "cell_type": "code",
   "execution_count": null,
   "metadata": {},
   "outputs": [],
   "source": [
    "\"\"\"\n",
    "The following code adds two positive integers without using the '+' operator.\n",
    "The code uses bitwise operations to add two numbers.\n",
    "\n",
    "Input: 2 3\n",
    "Output: 5\n",
    "\"\"\""
   ]
  },
  {
   "cell_type": "code",
   "execution_count": null,
   "metadata": {},
   "outputs": [],
   "source": [
    "def add_bitwise_operator(x, y):\n",
    "\n",
    "    while y:\n",
    "        carry = x & y\n",
    "        x = x ^ y\n",
    "        y = carry << 1\n",
    "    return x"
   ]
  },
  {
   "cell_type": "markdown",
   "metadata": {},
   "source": [
    "## Finding the Longest Distance Between Consecutive 1's in Binary Representation"
   ]
  },
  {
   "cell_type": "code",
   "execution_count": null,
   "metadata": {},
   "outputs": [],
   "source": [
    "\"\"\"\n",
    "Given a positive integer N, find and return the longest distance between two\n",
    "consecutive 1' in the binary representation of N.\n",
    "If there are not two consecutive 1's, return 0\n",
    "\n",
    "For example:\n",
    "Input: 22\n",
    "Output: 2\n",
    "Explanation:\n",
    "22 in binary is 10110\n",
    "In the binary representation of 22, there are three ones, and two consecutive pairs of 1's.\n",
    "The first consecutive pair of 1's have distance 2.\n",
    "The second consecutive pair of 1's have distance 1.\n",
    "The answer is the largest of these two distances, which is 2\n",
    "\"\"\""
   ]
  },
  {
   "cell_type": "code",
   "execution_count": null,
   "metadata": {},
   "outputs": [],
   "source": [
    "def binary_gap(N):\n",
    "    last = None  # Variable to store the index of the last encountered '1'\n",
    "    ans = 0      # Variable to keep track of the maximum distance\n",
    "    index = 0    # Variable to track the current index in the binary representation\n",
    "    \n",
    "    # Loop until all bits of N are processed\n",
    "    while N != 0:\n",
    "        if N & 1:  # Check if the least significant bit is '1'\n",
    "            if last is not None:  # If this is not the first '1' encountered\n",
    "                ans = max(ans, index - last)  # Calculate the distance and update max\n",
    "            last = index  # Update the last seen index of '1'\n",
    "        \n",
    "        index += 1  # Increment the index for the next bit\n",
    "        N >>= 1     # Right shift N to process the next bit\n",
    "        \n",
    "    return ans  # Return the maximum distance found\n"
   ]
  },
  {
   "cell_type": "code",
   "execution_count": null,
   "metadata": {},
   "outputs": [],
   "source": [
    "\n",
    "def binary_gap_improved(N):\n",
    "    last = None  # Variable to store the index of the last encountered '1'\n",
    "    ans = 0      # Variable to keep track of the maximum distance\n",
    "    index = 0    # Variable to track the current index in the binary representation\n",
    "    \n",
    "    # Loop until all bits of N are processed\n",
    "    while N != 0:\n",
    "        tes = N & 1  # Check if the least significant bit is '1'\n",
    "        \n",
    "        if tes:  # If the current bit is '1'\n",
    "            if last is not None:  # If this is not the first '1' encountered\n",
    "                ans = max(ans, index - last + 1)  # Calculate the distance including current\n",
    "            else:\n",
    "                last = index  # Update the last seen index of '1'\n",
    "        else:\n",
    "            last = index + 1  # If current bit is '0', update last to the next index\n",
    "        \n",
    "        index += 1  # Increment the index for the next bit\n",
    "        N >>= 1     # Right shift N to process the next bit\n",
    "        \n",
    "    return ans  # Return the maximum distance found"
   ]
  },
  {
   "cell_type": "code",
   "execution_count": null,
   "metadata": {},
   "outputs": [],
   "source": [
    "print(binary_gap(111))         # Testing the binary_gap function"
   ]
  },
  {
   "cell_type": "code",
   "execution_count": null,
   "metadata": {},
   "outputs": [],
   "source": [
    "print(binary_gap_improved(111))  # Testing the binary_gap_improved function"
   ]
  },
  {
   "cell_type": "markdown",
   "metadata": {},
   "source": [
    "## Fundamental Bit Operations in Python"
   ]
  },
  {
   "cell_type": "code",
   "execution_count": null,
   "metadata": {},
   "outputs": [],
   "source": [
    "\"\"\"\n",
    "Fundamental bit operation:\n",
    "    get_bit(num, i): get an exact bit at specific index\n",
    "    set_bit(num, i): set a bit at specific index\n",
    "    clear_bit(num, i): clear a bit at specific index\n",
    "    update_bit(num, i, bit): update a bit at specific index\n",
    "\"\"\"\n",
    "\n",
    "\"\"\"\n",
    "This function shifts 1 over by i bits, creating a value being like 0001000. By\n",
    "performing an AND with num, we clear all bits other than the bit at bit i.\n",
    "Finally we compare that to 0\n",
    "\"\"\""
   ]
  },
  {
   "cell_type": "code",
   "execution_count": null,
   "metadata": {},
   "outputs": [],
   "source": [
    "def get_bit(num, i):\n",
    "    return (num & (1 << i)) != 0"
   ]
  },
  {
   "cell_type": "code",
   "execution_count": null,
   "metadata": {},
   "outputs": [],
   "source": [
    "\"\"\"\n",
    "This function shifts 1 over by i bits, creating a value being like 0001000. By\n",
    "performing an OR with num, only value at bit i will change.\n",
    "\"\"\""
   ]
  },
  {
   "cell_type": "code",
   "execution_count": null,
   "metadata": {},
   "outputs": [],
   "source": [
    "def set_bit(num, i):\n",
    "    return num | (1 << i)"
   ]
  },
  {
   "cell_type": "code",
   "execution_count": null,
   "metadata": {},
   "outputs": [],
   "source": [
    "\"\"\"\n",
    "This method operates in almost the reverse of set_bit\n",
    "\"\"\""
   ]
  },
  {
   "cell_type": "code",
   "execution_count": null,
   "metadata": {},
   "outputs": [],
   "source": [
    "def clear_bit(num, i):\n",
    "    mask = ~(1 << i)\n",
    "    return num & mask"
   ]
  },
  {
   "cell_type": "code",
   "execution_count": null,
   "metadata": {},
   "outputs": [],
   "source": [
    "\"\"\"\n",
    "To set the ith bit to value, we first clear the bit at position i by using a\n",
    "mask. Then, we shift the intended value. Finally we OR these two numbers\n",
    "\"\"\""
   ]
  },
  {
   "cell_type": "code",
   "execution_count": null,
   "metadata": {},
   "outputs": [],
   "source": [
    "def update_bit(num, i, bit):\n",
    "    mask = ~(1 << i)\n",
    "    return (num & mask) | (bit << i)"
   ]
  },
  {
   "cell_type": "markdown",
   "metadata": {},
   "source": [
    "## Conversion Between Integers and Byte Arrays\n",
    "\n",
    "This code provides functions to convert integers to byte arrays and vice versa, using both big-endian and little-endian formats.\n",
    "\n",
    "1. **`int_to_bytes_big_endian(num)`**: Converts a given integer `num` to a byte array in big-endian format, where the most significant byte is at the beginning of the array.\n",
    "\n",
    "2. **`int_to_bytes_little_endian(num)`**: Converts a given integer `num` to a byte array in little-endian format, where the least significant byte is at the beginning of the array.\n",
    "\n",
    "3. **`bytes_big_endian_to_int(bytestr)`**: Converts a byte array in big-endian format back to an integer.\n",
    "\n",
    "4. **`bytes_little_endian_to_int(bytestr)`**: Converts a byte array in little-endian format back to an integer.\n",
    "\n",
    "These functions utilize bitwise operations and shifting to achieve the conversions efficiently."
   ]
  },
  {
   "cell_type": "code",
   "execution_count": null,
   "metadata": {},
   "outputs": [],
   "source": [
    "from collections import deque"
   ]
  },
  {
   "cell_type": "code",
   "execution_count": null,
   "metadata": {},
   "outputs": [],
   "source": [
    "def int_to_bytes_big_endian(num):\n",
    "    bytestr = deque()\n",
    "    while num > 0:\n",
    "        # list.insert(0, ...) is inefficient\n",
    "        bytestr.appendleft(num & 0xff)\n",
    "        num >>= 8\n",
    "    return bytes(bytestr)\n",
    "\n",
    "\n",
    "def int_to_bytes_little_endian(num):\n",
    "    bytestr = []\n",
    "    while num > 0:\n",
    "        bytestr.append(num & 0xff)\n",
    "        num >>= 8\n",
    "    return bytes(bytestr)\n",
    "\n",
    "\n",
    "def bytes_big_endian_to_int(bytestr):\n",
    "    num = 0\n",
    "    for b in bytestr:\n",
    "        num <<= 8\n",
    "        num += b\n",
    "    return num\n",
    "\n",
    "\n",
    "def bytes_little_endian_to_int(bytestr):\n",
    "    num = 0\n",
    "    e = 0\n",
    "    for b in bytestr:\n",
    "        num += b << e\n",
    "        e += 8\n",
    "    return num"
   ]
  },
  {
   "cell_type": "markdown",
   "metadata": {},
   "source": [
    "## Minimal Bit Flips to Convert Integer A to Integer B"
   ]
  },
  {
   "cell_type": "code",
   "execution_count": null,
   "metadata": {},
   "outputs": [],
   "source": [
    "\"\"\"\n",
    "Write a function to determine the minimal number of bits you would need to\n",
    "flip to convert integer A to integer B.\n",
    "For example:\n",
    "Input: 29 (or: 11101), 15 (or: 01111)\n",
    "Output: 2\n",
    "\"\"\""
   ]
  },
  {
   "cell_type": "code",
   "execution_count": null,
   "metadata": {},
   "outputs": [],
   "source": [
    "def count_flips_to_convert(a, b):\n",
    "\n",
    "    diff = a ^ b\n",
    "\n",
    "    # count number of ones in diff\n",
    "    count = 0\n",
    "    while diff:\n",
    "        diff &= (diff - 1)\n",
    "        count += 1\n",
    "    return count"
   ]
  }
 ],
 "metadata": {
  "language_info": {
   "name": "python"
  }
 },
 "nbformat": 4,
 "nbformat_minor": 2
}
