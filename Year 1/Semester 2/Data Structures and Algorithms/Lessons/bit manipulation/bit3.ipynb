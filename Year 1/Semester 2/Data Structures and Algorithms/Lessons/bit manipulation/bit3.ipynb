{
 "cells": [
  {
   "cell_type": "markdown",
   "metadata": {},
   "source": [
    "## Removing a Bit from an Integer at a Specific Position\n",
    "The function remove_bit(num, i) allows for the removal of a bit at a specified position i in the binary representation of the integer num."
   ]
  },
  {
   "cell_type": "code",
   "execution_count": null,
   "metadata": {},
   "outputs": [],
   "source": [
    "\"\"\"\n",
    "Remove_bit(num, i): remove a bit at specific position.\n",
    "For example:\n",
    "\n",
    "Input: num = 10101 (21)\n",
    "remove_bit(num, 2): output = 1001 (9)\n",
    "remove_bit(num, 4): output = 101 (5)\n",
    "remove_bit(num, 0): output = 1010 (10)\n",
    "\"\"\""
   ]
  },
  {
   "cell_type": "code",
   "execution_count": null,
   "metadata": {},
   "outputs": [],
   "source": [
    "def remove_bit(num, i):\n",
    "    mask = num >> (i + 1)\n",
    "    mask = mask << i\n",
    "    right = ((1 << i) - 1) & num\n",
    "    return mask | right"
   ]
  },
  {
   "cell_type": "markdown",
   "metadata": {},
   "source": [
    "## Reversing Bits of a 32-bit Unsigned Integer\n",
    "The function reverse_bits(n) takes a 32-bit unsigned integer and reverses its bits."
   ]
  },
  {
   "cell_type": "code",
   "execution_count": null,
   "metadata": {},
   "outputs": [],
   "source": [
    "\"\"\"\n",
    "Reverse bits of a given 32 bits unsigned integer.\n",
    "\n",
    "For example, given input 43261596\n",
    "(represented in binary as 00000010100101000001111010011100),\n",
    "return 964176192\n",
    "(represented in binary as 00111001011110000010100101000000).\n",
    "\"\"\""
   ]
  },
  {
   "cell_type": "code",
   "execution_count": null,
   "metadata": {},
   "outputs": [],
   "source": [
    "def reverse_bits(n):\n",
    "    m = 0\n",
    "    i = 0\n",
    "    while i < 32:\n",
    "        m = (m << 1) + (n & 1)\n",
    "        n >>= 1\n",
    "        i += 1\n",
    "    return m"
   ]
  },
  {
   "cell_type": "markdown",
   "metadata": {},
   "source": [
    "NB: As we progress through the notebooks, ensure you utilize note taking or look for examples you can practice."
   ]
  },
  {
   "cell_type": "markdown",
   "metadata": {},
   "source": [
    "## Finding the Single Number in an Array\n"
   ]
  },
  {
   "cell_type": "code",
   "execution_count": null,
   "metadata": {},
   "outputs": [],
   "source": [
    "\"\"\"\n",
    "Given an array of integers, every element appears\n",
    "twice except for one. Find that single one.\n",
    "\n",
    "NOTE: This also works for finding a number occurring odd\n",
    "      number of times, where all the other numbers appear\n",
    "      even number of times.\n",
    "\"\"\"\n",
    "# Your algorithm should have a linear runtime complexity.\n",
    "# Could you implement it without using extra memory?"
   ]
  },
  {
   "cell_type": "code",
   "execution_count": null,
   "metadata": {},
   "outputs": [],
   "source": [
    "def single_number(nums):\n",
    "    \"\"\"\n",
    "    Returns single number, if found.\n",
    "    Else if all numbers appear twice, returns 0.\n",
    "    :type nums: List[int]\n",
    "    :rtype: int\n",
    "    \"\"\"\n",
    "    i = 0\n",
    "    for num in nums:\n",
    "        i ^= num\n",
    "    return i"
   ]
  },
  {
   "cell_type": "markdown",
   "metadata": {},
   "source": [
    "The function given above **`single_number(nums)`** finds the single integer in an array where every other element appears twice. This approach efficiently handles both the case of a unique element and the scenario where all other elements appear an even number of times.\n",
    "\n",
    "- **Algorithm**:\n",
    "  1. Initialize a variable `i` to `0`.\n",
    "  2. Iterate through each number in the input array `nums`:\n",
    "     - Use the XOR operation (`^=`) to update `i` with the current number.\n",
    "     - The XOR operation has the properties that:\n",
    "       - \\(A \\oplus A = 0\\) (any number XORed with itself is zero)\n",
    "       - \\(A \\oplus 0 = A\\) (any number XORed with zero remains unchanged)\n",
    "       - XOR is commutative and associative, meaning the order of operations doesn’t matter.\n",
    "  3. Return the final value of `i`:\n",
    "     - If a single number exists, `i` will hold that value.\n",
    "     - If all numbers appear twice, `i` will be `0`.\n",
    "\n",
    "- **Example**:\n",
    "  - Input: `nums = [4, 1, 2, 1, 2]`\n",
    "    - Output: `4` (since `4` is the only number that appears once).\n"
   ]
  },
  {
   "cell_type": "code",
   "execution_count": null,
   "metadata": {},
   "outputs": [],
   "source": [
    "# This method achieves a linear runtime complexity of O(n) and does not require any extra memory for storage, making it both time-efficient and space-efficient."
   ]
  },
  {
   "cell_type": "code",
   "execution_count": null,
   "metadata": {},
   "outputs": [],
   "source": [
    "\"\"\"\n",
    "Given an array of integers, every element appears\n",
    "three times except for one, which appears exactly once.\n",
    "Find that single one.\n",
    "\"\"\"\n",
    "# Reminder :)\n",
    "# Your algorithm should have a linear runtime complexity.\n",
    "# Could you implement it without using extra memory?\n",
    "\n",
    "\"\"\"\n",
    "Solution:\n",
    "32 bits for each integer.\n",
    "Consider 1 bit in it, the sum of each integer's corresponding bit\n",
    "(except for the single number)\n",
    "should be 0 if mod by 3. Hence, we sum the bits of all\n",
    "integers and mod by 3,\n",
    "the remaining should be the exact bit of the single number.\n",
    "In this way, you get the 32 bits of the single number.\n",
    "\"\"\""
   ]
  },
  {
   "cell_type": "code",
   "execution_count": null,
   "metadata": {},
   "outputs": [],
   "source": [
    "# Another awesome answer you can look at!\n",
    "def single_number2(nums):\n",
    "    ones, twos = 0, 0\n",
    "    for i in range(len(nums)):\n",
    "        ones = (ones ^ nums[i]) & ~twos\n",
    "        twos = (twos ^ nums[i]) & ~ones\n",
    "    return ones"
   ]
  },
  {
   "cell_type": "markdown",
   "metadata": {},
   "source": [
    "## Finding Two Unique Numbers in an Array"
   ]
  },
  {
   "cell_type": "code",
   "execution_count": null,
   "metadata": {},
   "outputs": [],
   "source": [
    "\"\"\"\n",
    "Given an array of numbers nums,\n",
    "in which exactly two elements appear only once\n",
    "and all the other elements appear exactly twice.\n",
    "Find the two elements that appear only once.\n",
    "Limitation: Time Complexity: O(N) and Space Complexity O(1)\n",
    "\n",
    "For example:\n",
    "\n",
    "Given nums = [1, 2, 1, 3, 2, 5], return [3, 5].\n",
    "\n",
    "Note:\n",
    "The order of the result is not important.\n",
    "So in the above example, [5, 3] is also correct.\n",
    "\n",
    "\n",
    "Solution:\n",
    "1. Use XOR to cancel out the pairs and isolate A^B\n",
    "2. It is guaranteed that at least 1 bit exists in A^B since\n",
    "   A and B are different numbers. ex) 010 ^ 111 = 101\n",
    "3. Single out one bit R (right most bit in this solution) to use it as a pivot\n",
    "4. Divide all numbers into two groups.\n",
    "   One group with a bit in the position R\n",
    "   One group without a bit in the position R\n",
    "5. Use the same strategy we used in step 1 to isolate A and B from each group.\n",
    "\"\"\""
   ]
  },
  {
   "cell_type": "code",
   "execution_count": null,
   "metadata": {},
   "outputs": [],
   "source": [
    "def single_number3(nums):\n",
    "    \"\"\"\n",
    "    :type nums: List[int]\n",
    "    :rtype: List[int]\n",
    "    \"\"\"\n",
    "    # isolate a^b from pairs using XOR\n",
    "    ab = 0\n",
    "    for n in nums:\n",
    "        ab ^= n\n",
    "\n",
    "    # isolate right most bit from a^b\n",
    "    right_most = ab & (-ab)\n",
    "\n",
    "    # isolate a and b from a^b\n",
    "    a, b = 0, 0\n",
    "    for n in nums:\n",
    "        if n & right_most:\n",
    "            a ^= n\n",
    "        else:\n",
    "            b ^= n\n",
    "    return [a, b]"
   ]
  },
  {
   "cell_type": "markdown",
   "metadata": {},
   "source": [
    "This approach here is effective, it finds the two unique numbers while maintaining optimal time and space efficiency."
   ]
  },
  {
   "cell_type": "markdown",
   "metadata": {},
   "source": [
    "## Finding All Possible Subsets of a Set of Distinct Integers"
   ]
  },
  {
   "cell_type": "code",
   "execution_count": null,
   "metadata": {},
   "outputs": [],
   "source": [
    "\"\"\"\n",
    "Given a set of distinct integers, nums,\n",
    "return all possible subsets.\n",
    "\n",
    "Note: The solution set must not contain duplicate subsets.\n",
    "\n",
    "For example,\n",
    "If nums = [1,2,3], a solution is:\n",
    "\n",
    "{\n",
    "    (1, 2),\n",
    "    (1, 3),\n",
    "    (1,),\n",
    "    (2,),\n",
    "    (3,),\n",
    "    (1, 2, 3),\n",
    "    (),\n",
    "    (2, 3)\n",
    "}\n",
    "\"\"\""
   ]
  },
  {
   "cell_type": "markdown",
   "metadata": {},
   "source": [
    "The function subsets(nums) generates all possible subsets of a given list of distinct integers and therfore this approach leverages bit manipulation to create the subsets."
   ]
  },
  {
   "cell_type": "code",
   "execution_count": null,
   "metadata": {},
   "outputs": [],
   "source": [
    "def subsets(nums):\n",
    "    \"\"\"\n",
    "    :param nums: List[int]\n",
    "    :return: Set[tuple]\n",
    "    \"\"\"\n",
    "    n = len(nums)\n",
    "    total = 1 << n\n",
    "    res = set()\n",
    "\n",
    "    for i in range(total):\n",
    "        subset = tuple(num for j, num in enumerate(nums) if i & 1 << j)\n",
    "        res.add(subset)\n",
    "\n",
    "    return res"
   ]
  },
  {
   "cell_type": "code",
   "execution_count": null,
   "metadata": {},
   "outputs": [],
   "source": [
    "# Taken some explanations from sources, ai and Leet.\n",
    "\"\"\"\n",
    "this explanation is from leet_nik @ leetcode\n",
    "This is an amazing solution. Learnt a lot.\n",
    "\n",
    "Number of subsets for {1 , 2 , 3 } = 2^3 .\n",
    "why ?\n",
    "case    possible outcomes for the set of subsets\n",
    "  1   ->          Take or dont take = 2\n",
    "  2   ->          Take or dont take = 2\n",
    "  3   ->          Take or dont take = 2\n",
    "\n",
    "therefore,\n",
    "total = 2*2*2 = 2^3 = {{}, {1}, {2}, {3}, {1,2}, {1,3}, {2,3}, {1,2,3}}\n",
    "\n",
    "Lets assign bits to each outcome  ->\n",
    "First bit to 1 , Second bit to 2 and third bit to 3\n",
    "Take = 1\n",
    "Dont take = 0\n",
    "\n",
    "0) 0 0 0  -> Dont take 3 , Dont take 2 , Dont take 1 = { }\n",
    "1) 0 0 1  -> Dont take 3 , Dont take 2 ,   take 1    = { 1 }\n",
    "2) 0 1 0  -> Dont take 3 ,    take 2   , Dont take 1 = { 2 }\n",
    "3) 0 1 1  -> Dont take 3 ,    take 2   ,   take 1    = { 1 , 2 }\n",
    "4) 1 0 0  ->    take 3   , Dont take 2 , Dont take 1 = { 3 }\n",
    "5) 1 0 1  ->    take 3   , Dont take 2 ,   take 1    = { 1 , 3 }\n",
    "6) 1 1 0  ->    take 3   ,    take 2   , Dont take 1 = { 2 , 3 }\n",
    "7) 1 1 1  ->    take 3   ,    take 2   ,   take 1    = { 1 , 2 , 3 }\n",
    "\n",
    "In the above logic ,Insert S[i] only if (j>>i)&1 ==true\n",
    "{ j E { 0,1,2,3,4,5,6,7 }   i = ith element in the input array }\n",
    "\n",
    "element 1 is inserted only into those places where 1st bit of j is 1\n",
    "if( j >> 0 &1 )  ==> for above above eg.\n",
    "this is true for sl.no.( j )= 1 , 3 , 5 , 7\n",
    "\n",
    "element 2 is inserted only into those places where 2nd bit of j is 1\n",
    "if( j >> 1 &1 )  == for above above eg.\n",
    "this is true for sl.no.( j ) = 2 , 3 , 6 , 7\n",
    "\n",
    "element 3 is inserted only into those places where 3rd bit of j is 1\n",
    "if( j >> 2 & 1 )  == for above above eg.\n",
    "this is true for sl.no.( j ) = 4 , 5 , 6 , 7\n",
    "\n",
    "Time complexity : O(n*2^n) , for every input element loop traverses\n",
    "the whole solution set length i.e. 2^n\n",
    "\"\"\""
   ]
  },
  {
   "cell_type": "markdown",
   "metadata": {},
   "source": [
    "## Swapping Odd and Even Bits in an Integer"
   ]
  },
  {
   "cell_type": "markdown",
   "metadata": {},
   "source": []
  },
  {
   "cell_type": "code",
   "execution_count": null,
   "metadata": {},
   "outputs": [],
   "source": [
    "\"\"\"\n",
    "Swap_pair: A function swap odd and even bits in an integer with as few instructions\n",
    "as possible (Ex bit and bit 1 are swapped, bit 2 and bit 3 are swapped)\n",
    "\n",
    "For example:\n",
    "22: 010110  --> 41: 101001\n",
    "10: 1010    --> 5 : 0101\n",
    "\"\"\"\n",
    "\n",
    "\"\"\"\n",
    "We can approach this as operating on the odds bit first, and then the even bits.\n",
    "We can mask all odd bits with 10101010 in binary ('AA') then shift them right by 1\n",
    "Similarly, we mask all even bit with 01010101 in binary ('55') then shift them left\n",
    "by 1. Finally, we merge these two values by OR operation.\n",
    "\"\"\""
   ]
  },
  {
   "cell_type": "code",
   "execution_count": null,
   "metadata": {},
   "outputs": [],
   "source": [
    "def swap_pair(num):\n",
    "    # odd bit arithmetic right shift 1 bit\n",
    "    odd = (num & int('AAAAAAAA', 16)) >> 1\n",
    "    # even bit left shift 1 bit\n",
    "    even = (num & int('55555555', 16)) << 1\n",
    "    return odd | even"
   ]
  }
 ],
 "metadata": {
  "language_info": {
   "name": "python"
  }
 },
 "nbformat": 4,
 "nbformat_minor": 2
}
