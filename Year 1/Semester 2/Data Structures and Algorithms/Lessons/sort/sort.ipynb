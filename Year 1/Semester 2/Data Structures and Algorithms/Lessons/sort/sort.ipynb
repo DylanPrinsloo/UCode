{
 "cells": [
  {
   "cell_type": "markdown",
   "metadata": {},
   "source": [
    "\n",
    "# **Sort**\n",
    "Sorting algorithms arrange the elements of a list or array in a specific order, typically ascending or descending.\n",
    "   - **Types:** Quick Sort, Merge Sort, Bubble Sort, Insertion Sort.\n",
    "   - **Applications:** Optimizing searches, data organization, reporting."
   ]
  },
  {
   "cell_type": "code",
   "execution_count": null,
   "metadata": {},
   "outputs": [],
   "source": [
    "# init\n",
    "from .bitonic_sort import *\n",
    "from .bogo_sort import *\n",
    "from .bubble_sort import *\n",
    "from .comb_sort import *\n",
    "from .counting_sort import *\n",
    "from .cycle_sort import *\n",
    "from .exchange_sort import *\n",
    "from .heap_sort import *\n",
    "from .insertion_sort import *\n",
    "from .merge_sort import *\n",
    "from .pancake_sort import *\n",
    "from .pigeonhole_sort import *\n",
    "from .quick_sort import *\n",
    "from .selection_sort import *\n",
    "from .top_sort import *\n",
    "from .bucket_sort import *\n",
    "from .shell_sort import *\n",
    "from .stooge_sort import *\n",
    "from .radix_sort import *\n",
    "from .gnome_sort import *\n",
    "from .cocktail_shaker_sort import *\n"
   ]
  },
  {
   "cell_type": "markdown",
   "metadata": {},
   "source": [
    "## Bitonic Sort Algorithm in Python"
   ]
  },
  {
   "cell_type": "code",
   "execution_count": null,
   "metadata": {},
   "outputs": [],
   "source": [
    "\"\"\"\n",
    "bitonic sort is sorting algorithm to use multiple process, but this code not containing parallel process\n",
    "It can sort only array that sizes power of 2\n",
    "It can sort array in both increasing order and decreasing order by giving argument true(increasing) and false(decreasing)\n",
    "    \n",
    "Worst-case in parallel: O(log(n)^2)\n",
    "Worst-case in non-parallel: O(nlog(n)^2)\n",
    "\"\"\""
   ]
  },
  {
   "cell_type": "code",
   "execution_count": null,
   "metadata": {},
   "outputs": [],
   "source": [
    "# reference: https://en.wikipedia.org/wiki/Bitonic_sorter\n",
    "\n",
    "def bitonic_sort(arr, reverse=False):\n",
    "    def compare(arr, reverse):\n",
    "        n = len(arr)//2\n",
    "        for i in range(n):\n",
    "            if reverse != (arr[i] > arr[i+n]):\n",
    "                arr[i], arr[i+n] = arr[i+n], arr[i]\n",
    "        return arr\n",
    "\n",
    "    def bitonic_merge(arr, reverse):\n",
    "        n = len(arr)\n",
    "        \n",
    "        if n <= 1:\n",
    "            return arr\n",
    "        \n",
    "        arr = compare(arr, reverse)\n",
    "        left = bitonic_merge(arr[:n // 2], reverse)\n",
    "        right = bitonic_merge(arr[n // 2:], reverse)\n",
    "        return left + right\n",
    "    \n",
    "    #end of function(compare and bitionic_merge) definition\n",
    "    n = len(arr)\n",
    "    if n <= 1:\n",
    "        return arr\n",
    "    # checks if n is power of two\n",
    "    if not (n and (not(n & (n - 1))) ):\n",
    "        raise ValueError(\"the size of input should be power of two\")\n",
    "    \n",
    "    left = bitonic_sort(arr[:n // 2], True)\n",
    "    right = bitonic_sort(arr[n // 2:], False)\n",
    "\n",
    "    arr = bitonic_merge(left + right, reverse)\n",
    "        \n",
    "    return arr"
   ]
  },
  {
   "cell_type": "markdown",
   "metadata": {},
   "source": [
    "## Bogo Sort Algorithm in Python"
   ]
  },
  {
   "cell_type": "markdown",
   "metadata": {},
   "source": [
    "#### This code implements the Bogo Sort algorithm, also known as permutation sort, which randomly shuffles the array until it becomes sorted. The algorithm has extremely poor performance with an average complexity of \\( O(n(n-1)!) \\). This implementation includes an optional simulation mode that prints each shuffle iteration."
   ]
  },
  {
   "cell_type": "code",
   "execution_count": null,
   "metadata": {},
   "outputs": [],
   "source": [
    "import random"
   ]
  },
  {
   "cell_type": "code",
   "execution_count": null,
   "metadata": {},
   "outputs": [],
   "source": [
    "def bogo_sort(arr, simulation=False):\n",
    "    \"\"\"Bogo Sort\n",
    "        Best Case Complexity: O(n)\n",
    "        Worst Case Complexity: O(∞)\n",
    "        Average Case Complexity: O(n(n-1)!)\n",
    "    \"\"\"\n",
    "    \n",
    "    iteration = 0\n",
    "    if simulation:\n",
    "        print(\"iteration\",iteration,\":\",*arr)\n",
    "    \n",
    "    def is_sorted(arr):\n",
    "        #check the array is inorder\n",
    "        i = 0\n",
    "        arr_len = len(arr)\n",
    "        while i+1 < arr_len:\n",
    "            if arr[i] > arr[i+1]:\n",
    "                return False\n",
    "            i += 1\n",
    "            \n",
    "\n",
    "        return True\n",
    "    while not is_sorted(arr):\n",
    "        random.shuffle(arr)\n",
    "        \n",
    "        if simulation:\n",
    "            iteration = iteration + 1\n",
    "            print(\"iteration\",iteration,\":\",*arr)\n",
    "            \n",
    "    return arr"
   ]
  },
  {
   "cell_type": "markdown",
   "metadata": {},
   "source": [
    "## Bubble Sort Algorithm in Python"
   ]
  },
  {
   "cell_type": "markdown",
   "metadata": {},
   "source": [
    "#### This code implements the Bubble Sort algorithm, which repeatedly steps through the list, compares adjacent elements, and swaps them if they are in the wrong order. The process repeats until no swaps are needed, indicating that the list is sorted. The worst-case time complexity is \\( O(N^2) \\). If the `simulation` flag is set to `True`, each iteration and swap will be printed to visualize the sorting process."
   ]
  },
  {
   "cell_type": "code",
   "execution_count": null,
   "metadata": {},
   "outputs": [],
   "source": [
    "\"\"\"\n",
    "https://en.wikipedia.org/wiki/Bubble_sort\n",
    "\n",
    "Worst-case performance: O(N^2)\n",
    "\n",
    "If you call bubble_sort(arr,True), you can see the process of the sort\n",
    "Default is simulation = False\n",
    "\"\"\""
   ]
  },
  {
   "cell_type": "code",
   "execution_count": null,
   "metadata": {},
   "outputs": [],
   "source": [
    "def bubble_sort(arr, simulation=False):\n",
    "    def swap(i, j):\n",
    "        arr[i], arr[j] = arr[j], arr[i]\n",
    "\n",
    "    n = len(arr)\n",
    "    swapped = True\n",
    "    \n",
    "    iteration = 0\n",
    "    if simulation:\n",
    "        print(\"iteration\",iteration,\":\",*arr)\n",
    "    x = -1\n",
    "    while swapped:\n",
    "        swapped = False\n",
    "        x = x + 1\n",
    "        for i in range(1, n-x):\n",
    "            if arr[i - 1] > arr[i]:\n",
    "                swap(i - 1, i)\n",
    "                swapped = True\n",
    "                if simulation:\n",
    "                    iteration = iteration + 1\n",
    "                    print(\"iteration\",iteration,\":\",*arr)\n",
    "                    \n",
    "    return arr"
   ]
  },
  {
   "cell_type": "markdown",
   "metadata": {},
   "source": [
    "## Bucket Sort Algorithm in Python"
   ]
  },
  {
   "cell_type": "markdown",
   "metadata": {},
   "source": [
    "#### This code implements the Bucket Sort algorithm, which distributes elements of the input array into a number of buckets. Each bucket is sorted individually using the `next_sort` function, which is an implementation of Insertion Sort. The complexity of Bucket Sort is generally \\( O(n^2) \\), but it depends heavily on the sorting algorithm used within the buckets. In this case, Insertion Sort dominates the complexity. The elements from the sorted buckets are then combined into a final sorted list."
   ]
  },
  {
   "cell_type": "code",
   "execution_count": null,
   "metadata": {},
   "outputs": [],
   "source": [
    "def bucket_sort(arr):\n",
    "    ''' Bucket Sort\n",
    "        Complexity: O(n^2)\n",
    "        The complexity is dominated by nextSort\n",
    "    '''\n",
    "    # The number of buckets and make buckets\n",
    "    num_buckets = len(arr)\n",
    "    buckets = [[] for bucket in range(num_buckets)]\n",
    "    # Assign values into bucket_sort\n",
    "    for value in arr:\n",
    "        index = value * num_buckets // (max(arr) + 1)\n",
    "        buckets[index].append(value)\n",
    "    # Sort\n",
    "    sorted_list = []\n",
    "    for i in range(num_buckets):\n",
    "        sorted_list.extend(next_sort(buckets[i]))\n",
    "    return sorted_list\n",
    "\n",
    "def next_sort(arr):\n",
    "    # We will use insertion sort here.\n",
    "    for i in range(1, len(arr)):\n",
    "        j = i - 1\n",
    "        key = arr[i]\n",
    "        while arr[j] > key and j >= 0:\n",
    "            arr[j+1] = arr[j]\n",
    "            j = j - 1\n",
    "        arr[j + 1] = key\n",
    "    return arr"
   ]
  },
  {
   "cell_type": "markdown",
   "metadata": {},
   "source": [
    "## Cocktail Shaker"
   ]
  },
  {
   "cell_type": "markdown",
   "metadata": {},
   "source": [
    "#### This code implements the Cocktail Shaker Sort algorithm, which is a variation of Bubble Sort. It sorts the array by repeatedly sweeping through the list in both directions (left to right and right to left), swapping adjacent elements if they are in the wrong order. The worst-case performance of the algorithm is \\( O(N^2) \\). This bidirectional approach is more efficient for certain cases, especially when elements near the end or beginning are already sorted."
   ]
  },
  {
   "cell_type": "code",
   "execution_count": null,
   "metadata": {},
   "outputs": [],
   "source": [
    "# reference: https://en.wikipedia.org/wiki/Cocktail_shaker_sort\n",
    "def cocktail_shaker_sort(arr):\n",
    "    def swap(i, j):\n",
    "        arr[i], arr[j] = arr[j], arr[i]\n",
    "\n",
    "    n = len(arr)\n",
    "    swapped = True\n",
    "    while swapped:\n",
    "        swapped = False\n",
    "        for i in range(1, n):\n",
    "            if arr[i - 1] > arr[i]:\n",
    "                swap(i - 1, i)\n",
    "                swapped = True\n",
    "        if swapped == False:\n",
    "            return arr\n",
    "        swapped = False\n",
    "        for i in range(n-1,0,-1):\n",
    "            if arr[i - 1] > arr[i]:\n",
    "                swap(i - 1, i)\n",
    "                swapped = True\n",
    "    return arr"
   ]
  },
  {
   "cell_type": "markdown",
   "metadata": {},
   "source": [
    "## Comb Sort \n",
    "\n",
    "#### This code implements the Comb Sort algorithm, which is an improvement over Bubble Sort. The key feature of Comb Sort is the use of a shrinking gap between elements being compared, which helps eliminate small values towards the end of the array faster than Bubble Sort. The worst-case performance of the algorithm is \\( O(N^2) \\), but in practice, it performs better due to the shrinking gap, which is initialized to the length of the array and reduced by a factor of 1.3 on each iteration until it reaches 1."
   ]
  },
  {
   "cell_type": "code",
   "execution_count": null,
   "metadata": {},
   "outputs": [],
   "source": [
    "# https://en.wikipedia.org/wiki/Comb_sort\n",
    "\n",
    "def comb_sort(arr):\n",
    "    def swap(i, j):\n",
    "        arr[i], arr[j] = arr[j], arr[i]\n",
    "\n",
    "    n = len(arr)\n",
    "    gap = n\n",
    "    shrink = 1.3\n",
    "    sorted = False\n",
    "    while not sorted:\n",
    "        gap = int(gap / shrink)\n",
    "        if gap > 1:\n",
    "            sorted = False\n",
    "        else:\n",
    "            gap = 1\n",
    "            sorted = True\n",
    "\n",
    "        i = 0\n",
    "        while i + gap < n:\n",
    "            if arr[i] > arr[i + gap]:\n",
    "                swap(i, i + gap)\n",
    "                sorted = False\n",
    "            i = i + 1\n",
    "    return arr"
   ]
  }
 ],
 "metadata": {
  "language_info": {
   "name": "python"
  }
 },
 "nbformat": 4,
 "nbformat_minor": 2
}
