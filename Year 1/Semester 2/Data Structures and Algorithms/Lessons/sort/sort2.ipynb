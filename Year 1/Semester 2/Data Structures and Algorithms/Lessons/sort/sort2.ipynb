{
 "cells": [
  {
   "cell_type": "code",
   "execution_count": null,
   "metadata": {},
   "outputs": [],
   "source": [
    "# init\n",
    "from .bitonic_sort import *\n",
    "from .bogo_sort import *\n",
    "from .bubble_sort import *\n",
    "from .comb_sort import *\n",
    "from .counting_sort import *\n",
    "from .cycle_sort import *\n",
    "from .exchange_sort import *\n",
    "from .heap_sort import *\n",
    "from .insertion_sort import *\n",
    "from .merge_sort import *\n",
    "from .pancake_sort import *\n",
    "from .pigeonhole_sort import *\n",
    "from .quick_sort import *\n",
    "from .selection_sort import *\n",
    "from .top_sort import *\n",
    "from .bucket_sort import *\n",
    "from .shell_sort import *\n",
    "from .stooge_sort import *\n",
    "from .radix_sort import *\n",
    "from .gnome_sort import *\n",
    "from .cocktail_shaker_sort import *"
   ]
  },
  {
   "cell_type": "markdown",
   "metadata": {},
   "source": [
    "## Counting Sort Algorithm"
   ]
  },
  {
   "cell_type": "code",
   "execution_count": null,
   "metadata": {},
   "outputs": [],
   "source": [
    "\"\"\"\n",
    "Counting_sort\n",
    "Sorting a array which has no element greater than k\n",
    "Creating a new temp_arr,where temp_arr[i] contain the number of\n",
    "element less than or equal to i in the arr\n",
    "Then placing the number i into a correct position in the result_arr\n",
    "return the result_arr\n",
    "Complexity: 0(n)\n",
    "\"\"\""
   ]
  },
  {
   "cell_type": "code",
   "execution_count": null,
   "metadata": {},
   "outputs": [],
   "source": [
    "def counting_sort(arr):\n",
    "    m = min(arr)\n",
    "    # in case there are negative elements, change the array to all positive element\n",
    "    different = 0\n",
    "    if m < 0:\n",
    "        # save the change, so that we can convert the array back to all positive number\n",
    "        different = -m\n",
    "        for i in range(len(arr)):\n",
    "            arr[i] += -m\n",
    "    k = max(arr)\n",
    "    temp_arr = [0] * (k + 1)\n",
    "    for i in range(0, len(arr)):\n",
    "        temp_arr[arr[i]] = temp_arr[arr[i]] + 1\n",
    "    # temp_array[i] contain the times the number i appear in arr\n",
    "\n",
    "    for i in range(1, k + 1):\n",
    "        temp_arr[i] = temp_arr[i] + temp_arr[i - 1]\n",
    "    # temp_array[i] contain the number of element less than or equal i in arr\n",
    "\n",
    "    result_arr = arr.copy()\n",
    "    # creating a result_arr an put the element in a correct positon\n",
    "    for i in range(len(arr) - 1, -1, -1):\n",
    "        result_arr[temp_arr[arr[i]] - 1] = arr[i] - different\n",
    "        temp_arr[arr[i]] = temp_arr[arr[i]] - 1\n",
    "\n",
    "    return result_arr"
   ]
  },
  {
   "cell_type": "markdown",
   "metadata": {},
   "source": [
    "## Cycle Sort Algorithm"
   ]
  },
  {
   "cell_type": "code",
   "execution_count": null,
   "metadata": {},
   "outputs": [],
   "source": [
    "\"\"\"\n",
    "cycle_sort\n",
    "This is based on the idea that the permutations to be sorted\n",
    "can be decomposed into cycles,\n",
    "and the results can be individually sorted by cycling.\n",
    "       \n",
    "Average time complexity : O(N^2)\n",
    "Worst case time complexity : O(N^2)\n",
    "\"\"\""
   ]
  },
  {
   "cell_type": "code",
   "execution_count": null,
   "metadata": {},
   "outputs": [],
   "source": [
    "# reference: https://en.wikipedia.org/wiki/Cycle_sort\n",
    "\n",
    "def cycle_sort(arr):\n",
    "    len_arr = len(arr)\n",
    "    # Finding cycle to rotate.\n",
    "    for cur in range(len_arr - 1):\n",
    "        item = arr[cur]\n",
    "\n",
    "        # Finding an indx to put items in.\n",
    "        index = cur\n",
    "        for i in range(cur + 1, len_arr):\n",
    "            if arr[i] < item:\n",
    "                index += 1\n",
    "\n",
    "        # Case of there is not a cycle\n",
    "        if index == cur:\n",
    "            continue\n",
    "\n",
    "        # Putting the item immediately right after the duplicate item or on the right.\n",
    "        while item == arr[index]:\n",
    "            index += 1\n",
    "        arr[index], item = item, arr[index]\n",
    "\n",
    "        # Rotating the remaining cycle.\n",
    "        while index != cur:\n",
    "\n",
    "            # Finding where to put the item.\n",
    "            index = cur\n",
    "            for i in range(cur + 1, len_arr):\n",
    "                if arr[i] < item:\n",
    "                    index += 1\n",
    "\n",
    "            # After item is duplicated, put it in place or put it there.\n",
    "            while item == arr[index]:\n",
    "                index += 1\n",
    "            arr[index], item = item, arr[index]\n",
    "    return arr\n"
   ]
  },
  {
   "cell_type": "markdown",
   "metadata": {},
   "source": [
    "# Exchange sort"
   ]
  },
  {
   "cell_type": "code",
   "execution_count": null,
   "metadata": {},
   "outputs": [],
   "source": [
    "#  Reference : https://en.wikipedia.org/wiki/Sorting_algorithm#Exchange_sort\n",
    "\n",
    "def exchange_sort(arr):\n",
    "    \"\"\"\n",
    "    Complexity : O(n^2)\n",
    "    \"\"\"\n",
    "    arr_len = len(arr)\n",
    "    for i in range(arr_len-1):\n",
    "        for j in range(i+1, arr_len):\n",
    "            if(arr[i] > arr[j]):\n",
    "                arr[i], arr[j] = arr[j], arr[i]\n",
    "    return arr"
   ]
  },
  {
   "cell_type": "markdown",
   "metadata": {},
   "source": [
    "# Gnome sort"
   ]
  },
  {
   "cell_type": "code",
   "execution_count": null,
   "metadata": {},
   "outputs": [],
   "source": [
    "\"\"\"\n",
    "Best case performance is O(n)\n",
    "Worst case performance is O(n^2)\n",
    "\"\"\""
   ]
  },
  {
   "cell_type": "code",
   "execution_count": null,
   "metadata": {},
   "outputs": [],
   "source": [
    "def gnome_sort(arr):\n",
    "    n = len(arr)\n",
    "    index = 0\n",
    "    while index < n:\n",
    "        if index == 0 or arr[index] >= arr[index-1]:\n",
    "            index = index + 1\n",
    "        else:\n",
    "            arr[index], arr[index-1] = arr[index-1], arr[index]\n",
    "            index = index - 1\n",
    "    return arr"
   ]
  },
  {
   "cell_type": "markdown",
   "metadata": {},
   "source": [
    "## Heap Sort Algorithm \n",
    "\n",
    "#### Max:\n",
    "#### Builds a max heap from the input array and then extracts the maximum element from the heap repeatedly to create a sorted array in ascending order. The complexity is \\( O(n \\log(n)) \\).\n",
    "   \n",
    "\n",
    "#### Min:\n",
    "#### Builds a min heap and extracts the minimum element repeatedly to sort the array in ascending order, also achieving a complexity of \\( O(n \\log(n)) \\).\n",
    "   \n"
   ]
  },
  {
   "cell_type": "code",
   "execution_count": null,
   "metadata": {},
   "outputs": [],
   "source": [
    "def max_heap_sort(arr, simulation=False):\n",
    "    \"\"\" Heap Sort that uses a max heap to sort an array in ascending order\n",
    "        Complexity: O(n log(n))\n",
    "    \"\"\"\n",
    "    iteration = 0\n",
    "    if simulation:\n",
    "        print(\"iteration\",iteration,\":\",*arr)\n",
    "        \n",
    "    for i in range(len(arr) - 1, 0, -1):\n",
    "        iteration = max_heapify(arr, i, simulation, iteration)\n",
    "\n",
    "    if simulation:\n",
    "                iteration = iteration + 1\n",
    "                print(\"iteration\",iteration,\":\",*arr)\n",
    "    return arr\n",
    "\n",
    "\n",
    "def max_heapify(arr, end, simulation, iteration):\n",
    "    \"\"\" Max heapify helper for max_heap_sort\n",
    "    \"\"\"\n",
    "    last_parent = (end - 1) // 2\n",
    "\n",
    "    # Iterate from last parent to first\n",
    "    for parent in range(last_parent, -1, -1):\n",
    "        current_parent = parent\n",
    "\n",
    "        # Iterate from current_parent to last_parent\n",
    "        while current_parent <= last_parent:\n",
    "            # Find greatest child of current_parent\n",
    "            child = 2 * current_parent + 1\n",
    "            if child + 1 <= end and arr[child] < arr[child + 1]:\n",
    "                child = child + 1\n",
    "\n",
    "            # Swap if child is greater than parent\n",
    "            if arr[child] > arr[current_parent]:\n",
    "                arr[current_parent], arr[child] = arr[child], arr[current_parent]\n",
    "                current_parent = child\n",
    "                if simulation:\n",
    "                    iteration = iteration + 1\n",
    "                    print(\"iteration\",iteration,\":\",*arr)\n",
    "            # If no swap occurred, no need to keep iterating\n",
    "            else:\n",
    "                break\n",
    "    arr[0], arr[end] = arr[end], arr[0]\n",
    "    return iteration\n",
    "\n",
    "def min_heap_sort(arr, simulation=False):\n",
    "    \"\"\" Heap Sort that uses a min heap to sort an array in ascending order\n",
    "        Complexity: O(n log(n))\n",
    "    \"\"\"\n",
    "    iteration = 0\n",
    "    if simulation:\n",
    "        print(\"iteration\",iteration,\":\",*arr)\n",
    "        \n",
    "    for i in range(0, len(arr) - 1):\n",
    "        iteration = min_heapify(arr, i, simulation, iteration)\n",
    "\n",
    "    return arr\n",
    "\n",
    "\n",
    "def min_heapify(arr, start, simulation, iteration):\n",
    "    \"\"\" Min heapify helper for min_heap_sort\n",
    "    \"\"\"\n",
    "    # Offset last_parent by the start (last_parent calculated as if start index was 0)\n",
    "    # All array accesses need to be offset by start\n",
    "    end = len(arr) - 1\n",
    "    last_parent = (end - start - 1) // 2\n",
    "\n",
    "    # Iterate from last parent to first\n",
    "    for parent in range(last_parent, -1, -1):\n",
    "        current_parent = parent\n",
    "\n",
    "        # Iterate from current_parent to last_parent\n",
    "        while current_parent <= last_parent:\n",
    "            # Find lesser child of current_parent\n",
    "            child = 2 * current_parent + 1\n",
    "            if child + 1 <= end - start and arr[child + start] > arr[\n",
    "                child + 1 + start]:\n",
    "                child = child + 1\n",
    "            \n",
    "            # Swap if child is less than parent\n",
    "            if arr[child + start] < arr[current_parent + start]:\n",
    "                arr[current_parent + start], arr[child + start] = \\\n",
    "                    arr[child + start], arr[current_parent + start]\n",
    "                current_parent = child\n",
    "                if simulation:\n",
    "                    iteration = iteration + 1\n",
    "                    print(\"iteration\",iteration,\":\",*arr)\n",
    "            # If no swap occurred, no need to keep iterating\n",
    "            else:\n",
    "                break\n",
    "    return iteration"
   ]
  },
  {
   "cell_type": "markdown",
   "metadata": {},
   "source": [
    "## Insertion Sort Algorithm"
   ]
  },
  {
   "cell_type": "markdown",
   "metadata": {},
   "source": [
    "#### The code below implements the Insertion Sort algorithm, which builds a sorted array one element at a time by repeatedly taking an unsorted element and inserting it into its correct position within the sorted portion of the array."
   ]
  },
  {
   "cell_type": "code",
   "execution_count": 1,
   "metadata": {},
   "outputs": [],
   "source": [
    "def insertion_sort(arr, simulation=False):\n",
    "    \"\"\" Insertion Sort\n",
    "        Complexity: O(n^2)\n",
    "    \"\"\"\n",
    "    \n",
    "    iteration = 0\n",
    "    if simulation:\n",
    "        print(\"iteration\",iteration,\":\",*arr)\n",
    "        \n",
    "    for i in range(len(arr)):\n",
    "        cursor = arr[i]\n",
    "        pos = i\n",
    "        \n",
    "        while pos > 0 and arr[pos - 1] > cursor:\n",
    "            # Swap the number down the list\n",
    "            arr[pos] = arr[pos - 1]\n",
    "            pos = pos - 1\n",
    "        # Break and do the final swap\n",
    "        arr[pos] = cursor\n",
    "        \n",
    "        if simulation:\n",
    "                iteration = iteration + 1\n",
    "                print(\"iteration\",iteration,\":\",*arr)\n",
    "\n",
    "    return arr"
   ]
  }
 ],
 "metadata": {
  "kernelspec": {
   "display_name": "Python 3",
   "language": "python",
   "name": "python3"
  },
  "language_info": {
   "codemirror_mode": {
    "name": "ipython",
    "version": 3
   },
   "file_extension": ".py",
   "mimetype": "text/x-python",
   "name": "python",
   "nbconvert_exporter": "python",
   "pygments_lexer": "ipython3",
   "version": "3.12.4"
  }
 },
 "nbformat": 4,
 "nbformat_minor": 2
}
