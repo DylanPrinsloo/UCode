{
 "cells": [
  {
   "cell_type": "code",
   "execution_count": null,
   "metadata": {},
   "outputs": [],
   "source": [
    "# init\n",
    "from .bitonic_sort import *\n",
    "from .bogo_sort import *\n",
    "from .bubble_sort import *\n",
    "from .comb_sort import *\n",
    "from .counting_sort import *\n",
    "from .cycle_sort import *\n",
    "from .exchange_sort import *\n",
    "from .heap_sort import *\n",
    "from .insertion_sort import *\n",
    "from .merge_sort import *\n",
    "from .pancake_sort import *\n",
    "from .pigeonhole_sort import *\n",
    "from .quick_sort import *\n",
    "from .selection_sort import *\n",
    "from .top_sort import *\n",
    "from .bucket_sort import *\n",
    "from .shell_sort import *\n",
    "from .stooge_sort import *\n",
    "from .radix_sort import *\n",
    "from .gnome_sort import *\n",
    "from .cocktail_shaker_sort import *"
   ]
  },
  {
   "cell_type": "markdown",
   "metadata": {},
   "source": [
    "## Meeting Room Availability Check"
   ]
  },
  {
   "cell_type": "code",
   "execution_count": null,
   "metadata": {},
   "outputs": [],
   "source": [
    "\"\"\"\n",
    "Given an array of meeting time intervals consisting of\n",
    "start and end times [[s1,e1],[s2,e2],...] (si < ei),\n",
    "determine if a person could attend all meetings.\n",
    "\n",
    "For example,\n",
    "Given [[0, 30],[5, 10],[15, 20]],\n",
    "return false.\n",
    "\"\"\""
   ]
  },
  {
   "cell_type": "code",
   "execution_count": null,
   "metadata": {},
   "outputs": [],
   "source": [
    "def can_attend_meetings(intervals):\n",
    "    \"\"\"\n",
    "    :type intervals: List[Interval]\n",
    "    :rtype: bool\n",
    "    \"\"\"\n",
    "    intervals = sorted(intervals, key=lambda x: x.start)\n",
    "    for i in range(1, len(intervals)):\n",
    "        if intervals[i].start < intervals[i - 1].end:\n",
    "            return False\n",
    "    return True\n"
   ]
  },
  {
   "cell_type": "markdown",
   "metadata": {},
   "source": [
    "## Merge Sort Algorithm"
   ]
  },
  {
   "cell_type": "markdown",
   "metadata": {},
   "source": [
    "#### The code below implements the Merge Sort algorithm, a classic divide-and-conquer sorting technique"
   ]
  },
  {
   "cell_type": "code",
   "execution_count": null,
   "metadata": {},
   "outputs": [],
   "source": [
    "def merge_sort(arr):\n",
    "    \"\"\" Merge Sort\n",
    "        Complexity: O(n log(n))\n",
    "    \"\"\"\n",
    "    # Our recursive base case\n",
    "    if len(arr) <= 1:\n",
    "        return arr\n",
    "    mid = len(arr) // 2\n",
    "    # Perform merge_sort recursively on both halves\n",
    "    left, right = merge_sort(arr[:mid]), merge_sort(arr[mid:])\n",
    "\n",
    "    # Merge each side together\n",
    "    # return merge(left, right, arr.copy()) # changed, no need to copy, mutate inplace.\n",
    "    merge(left,right,arr)\n",
    "    return arr"
   ]
  },
  {
   "cell_type": "code",
   "execution_count": null,
   "metadata": {},
   "outputs": [],
   "source": [
    "def merge(left, right, merged):\n",
    "    \"\"\" Merge helper\n",
    "        Complexity: O(n)\n",
    "    \"\"\"\n",
    "\n",
    "    left_cursor, right_cursor = 0, 0\n",
    "    while left_cursor < len(left) and right_cursor < len(right):\n",
    "        # Sort each one and place into the result\n",
    "        if left[left_cursor] <= right[right_cursor]:\n",
    "            merged[left_cursor+right_cursor]=left[left_cursor]\n",
    "            left_cursor += 1\n",
    "        else:\n",
    "            merged[left_cursor + right_cursor] = right[right_cursor]\n",
    "            right_cursor += 1\n",
    "    # Add the left overs if there's any left to the result\n",
    "    for left_cursor in range(left_cursor, len(left)):\n",
    "        merged[left_cursor + right_cursor] = left[left_cursor]\n",
    "    # Add the left overs if there's any left to the result\n",
    "    for right_cursor in range(right_cursor, len(right)):\n",
    "        merged[left_cursor + right_cursor] = right[right_cursor]\n",
    "\n",
    "    # Return result\n",
    "    # return merged # do not return anything, as it is replacing inplace."
   ]
  },
  {
   "cell_type": "markdown",
   "metadata": {},
   "source": [
    "# Pancake sort"
   ]
  },
  {
   "cell_type": "code",
   "execution_count": null,
   "metadata": {},
   "outputs": [],
   "source": [
    "\"\"\"\n",
    "Pancake_sort\n",
    "Sorting a given array\n",
    "mutation of selection sort\n",
    "    \n",
    "Overall time complexity : O(N^2)\n",
    "\"\"\""
   ]
  },
  {
   "cell_type": "code",
   "execution_count": null,
   "metadata": {},
   "outputs": [],
   "source": [
    "# reference: https://www.geeksforgeeks.org/pancake-sorting/\n",
    "\n",
    "def pancake_sort(arr):\n",
    "    len_arr = len(arr)\n",
    "    if len_arr <= 1:\n",
    "        return arr\n",
    "    for cur in range(len(arr), 1, -1):\n",
    "        #Finding index of maximum number in arr\n",
    "        index_max = arr.index(max(arr[0:cur]))\n",
    "        if index_max+1 != cur:\n",
    "            #Needs moving\n",
    "            if index_max != 0:\n",
    "                #reverse from 0 to index_max\n",
    "                arr[:index_max+1] = reversed(arr[:index_max+1])\n",
    "            # Reverse list\n",
    "            arr[:cur] = reversed(arr[:cur])\n",
    "    return arr"
   ]
  },
  {
   "cell_type": "markdown",
   "metadata": {},
   "source": [
    "## Pigeonhole Sort"
   ]
  },
  {
   "cell_type": "code",
   "execution_count": null,
   "metadata": {},
   "outputs": [],
   "source": [
    "\"\"\"\n",
    "Time complexity: O(n + Range) where n = number of elements and Range = possible values in the array\n",
    "\n",
    "Suitable for lists where the number of elements and key values are mostly the same.\n",
    "\"\"\""
   ]
  },
  {
   "cell_type": "code",
   "execution_count": null,
   "metadata": {},
   "outputs": [],
   "source": [
    "# https://en.wikipedia.org/wiki/Pigeonhole_sort\n",
    "\n",
    "def pigeonhole_sort(arr):\n",
    "    Max = max(arr)\n",
    "    Min = min(arr)\n",
    "    size = Max - Min + 1\n",
    "\n",
    "    holes = [0]*size\n",
    "\n",
    "    for i in arr:\n",
    "        holes[i-Min] += 1\n",
    "\n",
    "    i = 0\n",
    "    for count in range(size):\n",
    "        while holes[count] > 0:\n",
    "            holes[count] -= 1\n",
    "            arr[i] = count + Min\n",
    "            i += 1\n",
    "    return arr"
   ]
  },
  {
   "cell_type": "markdown",
   "metadata": {},
   "source": [
    "## Quick Sort Algorithm"
   ]
  },
  {
   "cell_type": "markdown",
   "metadata": {},
   "source": [
    "#### This code implements the Quick Sort algorithm, a widely-used, efficient sorting method that follows the divide-and-conquer principle."
   ]
  },
  {
   "cell_type": "code",
   "execution_count": null,
   "metadata": {},
   "outputs": [],
   "source": [
    "def quick_sort(arr, simulation=False):\n",
    "    \"\"\" \n",
    "    Quick sort\n",
    "    Complexity: best O(n log(n)) avg O(n log(n)), worst O(N^2)\n",
    "    \"\"\"\n",
    "    \n",
    "    iteration = 0\n",
    "    if simulation:\n",
    "        print(\"iteration\",iteration,\":\",*arr)\n",
    "    arr, _ = quick_sort_recur(arr, 0, len(arr) - 1, iteration, simulation)\n",
    "    return arr\n",
    "\n",
    "def quick_sort_recur(arr, first, last, iteration, simulation):\n",
    "    if first < last:\n",
    "        pos = partition(arr, first, last)\n",
    "        # Start our two recursive calls\n",
    "        if simulation:\n",
    "            iteration = iteration + 1\n",
    "            print(\"iteration\",iteration,\":\",*arr)\n",
    "            \n",
    "        _, iteration = quick_sort_recur(arr, first, pos - 1, iteration, simulation)\n",
    "        _, iteration = quick_sort_recur(arr, pos + 1, last, iteration, simulation)\n",
    "\n",
    "    return arr, iteration\n",
    "\n",
    "def partition(arr, first, last):\n",
    "    wall = first\n",
    "    for pos in range(first, last):\n",
    "        if arr[pos] < arr[last]:  # last is the pivot\n",
    "            arr[pos], arr[wall] = arr[wall], arr[pos]\n",
    "            wall += 1\n",
    "    arr[wall], arr[last] = arr[last], arr[wall]\n",
    "    return wall"
   ]
  }
 ],
 "metadata": {
  "language_info": {
   "name": "python"
  }
 },
 "nbformat": 4,
 "nbformat_minor": 2
}
