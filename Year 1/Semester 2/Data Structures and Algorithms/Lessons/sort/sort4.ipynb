{
 "cells": [
  {
   "cell_type": "code",
   "execution_count": null,
   "metadata": {},
   "outputs": [],
   "source": [
    "# init\n",
    "from .bitonic_sort import *\n",
    "from .bogo_sort import *\n",
    "from .bubble_sort import *\n",
    "from .comb_sort import *\n",
    "from .counting_sort import *\n",
    "from .cycle_sort import *\n",
    "from .exchange_sort import *\n",
    "from .heap_sort import *\n",
    "from .insertion_sort import *\n",
    "from .merge_sort import *\n",
    "from .pancake_sort import *\n",
    "from .pigeonhole_sort import *\n",
    "from .quick_sort import *\n",
    "from .selection_sort import *\n",
    "from .top_sort import *\n",
    "from .bucket_sort import *\n",
    "from .shell_sort import *\n",
    "from .stooge_sort import *\n",
    "from .radix_sort import *\n",
    "from .gnome_sort import *\n",
    "from .cocktail_shaker_sort import *"
   ]
  },
  {
   "cell_type": "markdown",
   "metadata": {},
   "source": [
    "## Radix sort"
   ]
  },
  {
   "cell_type": "markdown",
   "metadata": {},
   "source": [
    "#### The code below implements the Radix Sort algorithm, a non-comparative integer sorting algorithm that sorts numbers by processing individual digits."
   ]
  },
  {
   "cell_type": "code",
   "execution_count": null,
   "metadata": {},
   "outputs": [],
   "source": [
    "\"\"\"\n",
    "complexity: O(nk + n) . n is the size of input list and k is the digit length of the number\n",
    "\"\"\"\n",
    "def radix_sort(arr, simulation=False):\n",
    "    position = 1\n",
    "    max_number = max(arr)\n",
    "\n",
    "    iteration = 0\n",
    "    if simulation:\n",
    "        print(\"iteration\", iteration, \":\", *arr)\n",
    "\n",
    "    while position <= max_number:\n",
    "        queue_list = [list() for _ in range(10)]\n",
    "\n",
    "        for num in arr:\n",
    "            digit_number = num // position % 10\n",
    "            queue_list[digit_number].append(num)\n",
    "\n",
    "        index = 0\n",
    "        for numbers in queue_list:\n",
    "            for num in numbers:\n",
    "                arr[index] = num\n",
    "                index += 1\n",
    "\n",
    "        if simulation:\n",
    "            iteration = iteration + 1\n",
    "            print(\"iteration\", iteration, \":\", *arr)\n",
    "\n",
    "        position *= 10\n",
    "    return arr"
   ]
  },
  {
   "cell_type": "markdown",
   "metadata": {},
   "source": [
    "# Selection sort"
   ]
  },
  {
   "cell_type": "code",
   "execution_count": null,
   "metadata": {},
   "outputs": [],
   "source": [
    "def selection_sort(arr, simulation=False):\n",
    "    \"\"\"\n",
    "    Complexity: O(n^2)\n",
    "    \"\"\"\n",
    "    iteration = 0\n",
    "    if simulation:\n",
    "        print(\"iteration\",iteration,\":\",*arr)\n",
    "        \n",
    "    for i in range(len(arr)):\n",
    "        minimum = i\n",
    "        \n",
    "        for j in range(i + 1, len(arr)):\n",
    "            # \"Select\" the correct value\n",
    "            if arr[j] < arr[minimum]:\n",
    "                minimum = j\n",
    "\n",
    "        arr[minimum], arr[i] = arr[i], arr[minimum]\n",
    "        \n",
    "        if simulation:\n",
    "                iteration = iteration + 1\n",
    "                print(\"iteration\",iteration,\":\",*arr)\n",
    "            \n",
    "    return arr"
   ]
  },
  {
   "cell_type": "markdown",
   "metadata": {},
   "source": [
    "## Shell Sort"
   ]
  },
  {
   "cell_type": "code",
   "execution_count": null,
   "metadata": {},
   "outputs": [],
   "source": [
    "def shell_sort(arr):\n",
    "    '''\n",
    "    Complexity: O(n^2)\n",
    "    '''\n",
    "    n = len(arr)\n",
    "    # Initialize size of the gap\n",
    "    gap = n//2\n",
    "    \n",
    "    while gap > 0:\n",
    "        y_index = gap\n",
    "        while y_index < len(arr):\n",
    "            y = arr[y_index]\n",
    "            x_index = y_index - gap\n",
    "            while x_index >= 0 and y < arr[x_index]:\n",
    "                arr[x_index + gap] = arr[x_index]\n",
    "                x_index = x_index - gap\n",
    "            arr[x_index + gap] = y\n",
    "            y_index = y_index + 1\n",
    "        gap = gap//2\n",
    "        \n",
    "    return arr"
   ]
  },
  {
   "cell_type": "markdown",
   "metadata": {},
   "source": [
    "## Sort Colors Algorithm with a catch"
   ]
  },
  {
   "cell_type": "code",
   "execution_count": null,
   "metadata": {},
   "outputs": [],
   "source": [
    "\"\"\"\n",
    "You are given an array with n objects colored red,\n",
    "white or blue, sort them so that objects of the same color\n",
    "are adjacent, with the colors in the order red, white and blue.\n",
    "\n",
    "Here, we will use the integers 0, 1, and 2 to represent\n",
    "the color red, white, and blue respectively.\n",
    "\"\"\""
   ]
  },
  {
   "cell_type": "code",
   "execution_count": null,
   "metadata": {},
   "outputs": [],
   "source": [
    "# Note: You are not suppose to use the library's sort function for this problem."
   ]
  },
  {
   "cell_type": "code",
   "execution_count": null,
   "metadata": {},
   "outputs": [],
   "source": [
    "def sort_colors(nums):\n",
    "    i = j = 0\n",
    "    for k in range(len(nums)):\n",
    "        v = nums[k]\n",
    "        nums[k] = 2\n",
    "        if v < 2:\n",
    "            nums[j] = 1\n",
    "            j += 1\n",
    "        if v == 0:\n",
    "            nums[i] = 0\n",
    "            i += 1\n",
    "\n",
    "\n",
    "if __name__ == \"__main__\":\n",
    "    nums = [0, 1, 1, 1, 2, 2, 2, 1, 1, 1, 0, 0, 0, 0, 1, 1, 1, 0, 0, 2, 2]\n",
    "    sort_colors(nums)\n",
    "    print(nums)"
   ]
  },
  {
   "cell_type": "markdown",
   "metadata": {},
   "source": [
    "## Stooge Sort"
   ]
  },
  {
   "cell_type": "code",
   "execution_count": null,
   "metadata": {},
   "outputs": [],
   "source": [
    "'''\n",
    "Time Complexity : O(n2.709)\n",
    "'''"
   ]
  },
  {
   "cell_type": "code",
   "execution_count": null,
   "metadata": {},
   "outputs": [],
   "source": [
    "# Reference: https://www.geeksforgeeks.org/stooge-sort/\n",
    "\n",
    "def stoogesort(arr, l, h): \n",
    "    if l >= h: \n",
    "        return\n",
    "   \n",
    "    # If first element is smaller \n",
    "    # than last, swap them \n",
    "    if arr[l]>arr[h]: \n",
    "        t = arr[l] \n",
    "        arr[l] = arr[h] \n",
    "        arr[h] = t \n",
    "   \n",
    "    # If there are more than 2 elements in \n",
    "    # the array \n",
    "    if h-l + 1 > 2: \n",
    "        t = (int)((h-l + 1)/3) \n",
    "   \n",
    "        # Recursively sort first 2 / 3 elements \n",
    "        stoogesort(arr, l, (h-t)) \n",
    "   \n",
    "        # Recursively sort last 2 / 3 elements \n",
    "        stoogesort(arr, l + t, (h)) \n",
    "   \n",
    "        # Recursively sort first 2 / 3 elements \n",
    "        # again to confirm \n",
    "        stoogesort(arr, l, (h-t)) \n",
    "        \n",
    "if __name__ == \"__main__\":\n",
    "    array = [1,3,64,5,7,8]\n",
    "    n = len(array) \n",
    "    stoogesort(array, 0, n-1) \n",
    "    for i in range(0, n): \n",
    "        print(array[i], end = ' ') "
   ]
  },
  {
   "cell_type": "markdown",
   "metadata": {},
   "source": [
    "## Topological Sorting Algorithms"
   ]
  },
  {
   "cell_type": "markdown",
   "metadata": {},
   "source": [
    "### Topological Sorting Algorithms\n",
    "\n",
    "#### The code below implements two versions of topological sorting for directed acyclic graphs (DAGs) using Depth-First Search (DFS). Topological sorting is quite useful for ordering the vertices in a way, that for every directed edge \\( (u, v) \\) and vertex \\( u \\) comes before \\( v \\).\n",
    "\n"
   ]
  },
  {
   "cell_type": "code",
   "execution_count": null,
   "metadata": {},
   "outputs": [],
   "source": [
    "GRAY, BLACK = 0, 1\n",
    "\n",
    "def top_sort_recursive(graph):\n",
    "    \"\"\" Time complexity is the same as DFS, which is O(V + E)\n",
    "        Space complexity: O(V)\n",
    "    \"\"\"\n",
    "    order, enter, state = [], set(graph), {}\n",
    "    \n",
    "    def dfs(node):\n",
    "        state[node] = GRAY\n",
    "        #print(node)\n",
    "        for k in graph.get(node, ()):\n",
    "            sk = state.get(k, None)\n",
    "            if sk == GRAY:\n",
    "                raise ValueError(\"cycle\")\n",
    "            if sk == BLACK:\n",
    "                continue\n",
    "            enter.discard(k)\n",
    "            dfs(k)\n",
    "        order.append(node)\n",
    "        state[node] = BLACK\n",
    "        \n",
    "    while enter: dfs(enter.pop())\n",
    "    return order\n",
    "\n",
    "def top_sort(graph):\n",
    "    \"\"\" Time complexity is the same as DFS, which is O(V + E)\n",
    "        Space complexity: O(V)\n",
    "    \"\"\"\n",
    "    order, enter, state = [], set(graph), {}\n",
    "    \n",
    "    def is_ready(node):\n",
    "        lst = graph.get(node, ())\n",
    "        if len(lst) == 0:\n",
    "            return True\n",
    "        for k in lst:\n",
    "            sk = state.get(k, None)\n",
    "            if sk == GRAY: \n",
    "                raise ValueError(\"cycle\")\n",
    "            if sk != BLACK:\n",
    "                return False\n",
    "        return True\n",
    "        \n",
    "    while enter:\n",
    "        node = enter.pop()\n",
    "        stack = []\n",
    "        while True:\n",
    "            state[node] = GRAY\n",
    "            stack.append(node)\n",
    "            for k in graph.get(node, ()):\n",
    "                sk = state.get(k, None)\n",
    "                if sk == GRAY: \n",
    "                    raise ValueError(\"cycle\")\n",
    "                if sk == BLACK: \n",
    "                    continue\n",
    "                enter.discard(k)\n",
    "                stack.append(k)\n",
    "            while stack and is_ready(stack[-1]):\n",
    "                node = stack.pop()\n",
    "                order.append(node)\n",
    "                state[node] = BLACK\n",
    "            if len(stack) == 0:\n",
    "                break\n",
    "            node = stack.pop()\n",
    "        \n",
    "    return order"
   ]
  },
  {
   "cell_type": "markdown",
   "metadata": {},
   "source": [
    "## Wiggle sort"
   ]
  },
  {
   "cell_type": "code",
   "execution_count": null,
   "metadata": {},
   "outputs": [],
   "source": [
    "\"\"\"\n",
    "Given an unsorted array nums, reorder it such that nums[0] < nums[1] > nums[2] < nums[3]....\n",
    "\"\"\""
   ]
  },
  {
   "cell_type": "code",
   "execution_count": null,
   "metadata": {},
   "outputs": [],
   "source": [
    "def wiggle_sort(nums):\n",
    "    for i in range(len(nums)):\n",
    "        if (i % 2 == 1) == (nums[i-1] > nums[i]):\n",
    "            nums[i-1], nums[i] = nums[i], nums[i-1]\n",
    "\n",
    "if __name__ == \"__main__\":\n",
    "    array = [3, 5, 2, 1, 6, 4]\n",
    "\n",
    "    print(array)\n",
    "    wiggle_sort(array)\n",
    "    print(array)\n"
   ]
  }
 ],
 "metadata": {
  "language_info": {
   "name": "python"
  }
 },
 "nbformat": 4,
 "nbformat_minor": 2
}
