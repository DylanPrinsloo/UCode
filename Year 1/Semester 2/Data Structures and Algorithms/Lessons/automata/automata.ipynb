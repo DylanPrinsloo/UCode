{
 "cells": [
  {
   "cell_type": "markdown",
   "metadata": {},
   "source": [
    "# Automata\n",
    "Automata Theory deals with the study of abstract machines and problems they can solve. It is widely used in computer science for designing compilers, interpreters, and understanding the nature of computation.\n",
    "\n",
    "Types: Finite Automata, Pushdown Automata, Turing Machines.\n",
    "Applications: Lexical analysis, string matching, parsing, etc."
   ]
  },
  {
   "cell_type": "code",
   "execution_count": null,
   "metadata": {},
   "outputs": [],
   "source": [
    "from .dfa import *"
   ]
  },
  {
   "cell_type": "code",
   "execution_count": null,
   "metadata": {},
   "outputs": [],
   "source": [
    "def DFA(transitions, start, final, string):\n",
    "\n",
    "    num = len(string)\n",
    "    num_final = len(final)\n",
    "    cur = start\n",
    "\n",
    "    for i in range(num):\n",
    "\n",
    "        if transitions[cur][string[i]] is None:\n",
    "            return False\n",
    "        else:\n",
    "            cur = transitions[cur][string[i]]\n",
    "\n",
    "    for i in range(num_final):\n",
    "        if cur == final[i]:\n",
    "            return True\n",
    "    return False\n"
   ]
  },
  {
   "cell_type": "markdown",
   "metadata": {},
   "source": [
    "## DFA (Deterministic Finite Automaton)\n",
    "This example implements a DFA that accepts binary strings that end with \"01\":"
   ]
  },
  {
   "cell_type": "code",
   "execution_count": null,
   "metadata": {},
   "outputs": [],
   "source": [
    "class DFA:\n",
    "    def __init__(self):\n",
    "        # DFA has 3 states: q0, q1, and q2\n",
    "        self.current_state = 'q0'\n",
    "    \n",
    "    def transition(self, input_symbol):\n",
    "        if self.current_state == 'q0':\n",
    "            if input_symbol == '0':\n",
    "                self.current_state = 'q1'\n",
    "            else:\n",
    "                self.current_state = 'q0'\n",
    "        elif self.current_state == 'q1':\n",
    "            if input_symbol == '1':\n",
    "                self.current_state = 'q2'\n",
    "            else:\n",
    "                self.current_state = 'q1'\n",
    "        elif self.current_state == 'q2':\n",
    "            if input_symbol == '0':\n",
    "                self.current_state = 'q1'\n",
    "            else:\n",
    "                self.current_state = 'q0'\n",
    "\n",
    "    def is_accepted(self):\n",
    "        return self.current_state == 'q2'\n",
    "    \n",
    "    def run(self, input_string):\n",
    "        for symbol in input_string:\n",
    "            self.transition(symbol)\n",
    "        return self.is_accepted()\n",
    "\n",
    "# Example usage\n",
    "dfa = DFA()\n",
    "input_string = \"10101\"\n",
    "if dfa.run(input_string):\n",
    "    print(f\"The string '{input_string}' is accepted by the DFA.\")\n",
    "else:\n",
    "    print(f\"The string '{input_string}' is not accepted by the DFA.\")\n"
   ]
  },
  {
   "cell_type": "markdown",
   "metadata": {},
   "source": [
    "## NFA (Non-Deterministic Finite Automaton)\n",
    "This example implements a simple NFA that accepts the string \"ab\" or \"aab\":"
   ]
  },
  {
   "cell_type": "code",
   "execution_count": null,
   "metadata": {},
   "outputs": [],
   "source": [
    "class NFA:\n",
    "    def __init__(self):\n",
    "        # NFA has states q0, q1, q2, q3\n",
    "        self.states = {'q0', 'q1', 'q2', 'q3'}\n",
    "        self.final_states = {'q3'}\n",
    "        self.transitions = {\n",
    "            'q0': {'a': ['q0', 'q1']},\n",
    "            'q1': {'b': ['q3']},\n",
    "            'q2': {'a': ['q3']},\n",
    "            'q3': {}\n",
    "        }\n",
    "    \n",
    "    def transition(self, current_states, input_symbol):\n",
    "        next_states = set()\n",
    "        for state in current_states:\n",
    "            if state in self.transitions and input_symbol in self.transitions[state]:\n",
    "                next_states.update(self.transitions[state][input_symbol])\n",
    "        return next_states\n",
    "    \n",
    "    def run(self, input_string):\n",
    "        current_states = {'q0'}\n",
    "        for symbol in input_string:\n",
    "            current_states = self.transition(current_states, symbol)\n",
    "        return bool(current_states & self.final_states)\n",
    "\n",
    "# Example usage\n",
    "nfa = NFA()\n",
    "input_string = \"aab\"\n",
    "if nfa.run(input_string):\n",
    "    print(f\"The string '{input_string}' is accepted by the NFA.\")\n",
    "else:\n",
    "    print(f\"The string '{input_string}' is not accepted by the NFA.\")\n"
   ]
  },
  {
   "cell_type": "markdown",
   "metadata": {},
   "source": [
    "## Simulating a Turing Machine:\n",
    "This example implements a basic Turing Machine that accepts binary strings with an equal number of 0s and 1s."
   ]
  },
  {
   "cell_type": "code",
   "execution_count": null,
   "metadata": {},
   "outputs": [],
   "source": [
    "class TuringMachine:\n",
    "    def __init__(self, tape, transition_function, final_states):\n",
    "        self.tape = list(tape) + ['_']  # Tape (input + blank symbol '_')\n",
    "        self.head = 0  # Head position\n",
    "        self.state = 'q0'  # Initial state\n",
    "        self.transition_function = transition_function\n",
    "        self.final_states = final_states\n",
    "    \n",
    "    def step(self):\n",
    "        current_symbol = self.tape[self.head]\n",
    "        if (self.state, current_symbol) in self.transition_function:\n",
    "            new_state, new_symbol, direction = self.transition_function[(self.state, current_symbol)]\n",
    "            self.tape[self.head] = new_symbol\n",
    "            self.state = new_state\n",
    "            self.head += 1 if direction == 'R' else -1\n",
    "\n",
    "    def run(self):\n",
    "        while self.state not in self.final_states:\n",
    "            self.step()\n",
    "\n",
    "        print(f\"Final Tape: {''.join(self.tape).strip('_')}\")  # Show final tape contents\n",
    "\n",
    "# Example usage:\n",
    "tape = \"0110\"  # Input tape\n",
    "transition_function = {\n",
    "    ('q0', '0'): ('q1', '_', 'R'),\n",
    "    ('q0', '1'): ('q2', '_', 'R'),\n",
    "    ('q1', '0'): ('q1', '0', 'R'),\n",
    "    ('q1', '1'): ('q3', '_', 'L'),\n",
    "    ('q2', '1'): ('q2', '1', 'R'),\n",
    "    ('q2', '0'): ('q3', '_', 'L'),\n",
    "    ('q3', '_'): ('q4', '_', 'R'),  # Final state\n",
    "}\n",
    "final_states = {'q4'}\n",
    "\n",
    "tm = TuringMachine(tape, transition_function, final_states)\n",
    "tm.run()\n"
   ]
  }
 ],
 "metadata": {
  "language_info": {
   "name": "python"
  }
 },
 "nbformat": 4,
 "nbformat_minor": 2
}
