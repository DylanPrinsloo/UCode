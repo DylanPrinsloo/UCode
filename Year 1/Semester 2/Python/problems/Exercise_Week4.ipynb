{
 "cells": [
  {
   "cell_type": "markdown",
   "id": "7f70bb69-04e0-4448-ad43-68578e5398ec",
   "metadata": {},
   "source": [
    "### Exercise 1\n",
    "Write a Python program to search for a specific regular expression pattern in multiple text files. The program should take a list of file paths and a regular expression pattern as input, then output the total number of matches across all files. The search should be performed in parallel."
   ]
  }
 ],
 "metadata": {
  "kernelspec": {
   "display_name": "Python 3 (ipykernel)",
   "language": "python",
   "name": "python3"
  },
  "language_info": {
   "codemirror_mode": {
    "name": "ipython",
    "version": 3
   },
   "file_extension": ".py",
   "mimetype": "text/x-python",
   "name": "python",
   "nbconvert_exporter": "python",
   "pygments_lexer": "ipython3",
   "version": "3.11.5"
  }
 },
 "nbformat": 4,
 "nbformat_minor": 5
}
