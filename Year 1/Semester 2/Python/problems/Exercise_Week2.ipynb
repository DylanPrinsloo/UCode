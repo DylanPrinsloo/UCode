{
 "cells": [
  {
   "cell_type": "code",
   "execution_count": null,
   "id": "fba42cd8-ec58-45de-bb5b-f4307f30dd96",
   "metadata": {},
   "outputs": [],
   "source": [
    "'''\n",
    "You are given a function named find_largest_number that is supposed to find the largest number in a list of integers. \n",
    "However, the function contains bugs that prevent it from working correctly. Your task is to debug the function and \n",
    "ensure that it correctly finds the largest number in the list.\n",
    "\n",
    "Instructions for Students:\n",
    "\n",
    "    1. Use the given test instances to identify and fix the bugs in the find_largest_number function.\n",
    "    2. The function should return the largest number in the list.\n",
    "    3. Ensure that the function works correctly for various input cases, including positive and negative integers, \n",
    "        lists with one or more elements, and lists with duplicate numbers.\n",
    "    4. Once you have fixed the bugs, test the function with the provided test cases to ensure it passes all tests.\n",
    "    5. Provide you final code showing debugging\n",
    "'''\n",
    "\n",
    "def find_largest_number(numbers):\n",
    "    # Check if the list is empty\n",
    "    if not numbers:\n",
    "        return None\n",
    "    \n",
    "    # Initialize the largest number to the first element of the list\n",
    "    largest_number = numbers[1]\n",
    "    \n",
    "    # Iterate through the list to find the largest number\n",
    "    for num in numbers:\n",
    "        if num > largest_number:\n",
    "            largest_number = num + 1\n",
    "    \n",
    "    return largest_number\n",
    "\n",
    "# Test instances\n",
    "print(find_largest_number([1, 3, 5, 2]))  # Expected output: 5\n",
    "print(find_largest_number([-1, -3, -5, -2]))  # Expected output: -1\n",
    "print(find_largest_number([5, 5, 5]))  # Expected output: 5\n",
    "print(find_largest_number([]))  # Expected output: None\n"
   ]
  },
  {
   "cell_type": "code",
   "execution_count": null,
   "id": "c44c3c85-1a5a-48b5-a9de-f82768dc246c",
   "metadata": {},
   "outputs": [],
   "source": [
    "'''\n",
    "Exercise 2\n",
    "You are tasked with creating a Python script that performs the following steps:\n",
    "\n",
    "    1. Create a file named data.txt.\n",
    "    2. Write a Python list containing some data to the file.\n",
    "    3. Convert the contents of the file to JSON format and save it to a new file named data.json.\n",
    "    4. Transfer the data.json file to an external server (''http://coolserver.com/upload'') using a stream.\n",
    "\n",
    "Instructions for Students:\n",
    "\n",
    "    1. Use Python's file I/O operations to create and write data to the data.txt file.\n",
    "    2. Convert the contents of data.txt to JSON format using Python's json module and save it to data.json.\n",
    "    3. Use any HTTP library (e.g., requests) to create a stream and transfer the data.json file to an external server.\n",
    "    4. Ensure that the server is accessible and able to receive the file.\n",
    "'''"
   ]
  },
  {
   "cell_type": "code",
   "execution_count": null,
   "id": "7046c71f-a2e8-4157-a950-f12baf911dae",
   "metadata": {},
   "outputs": [],
   "source": [
    "'''\n",
    "Exercise 3\n",
    "Design an application using Test-First Development that accomplishes the following tasks:\n",
    "\n",
    "    1. Reads data from a text file.\n",
    "    2. Converts the data to JSON format.\n",
    "    3. Sends the JSON file, using a simple HTTP post to a server with the URL \"http://testserver.net\". Ensure validation for \n",
    "        the correct response from the server.\n",
    "    4. The server processes the data and returns a JSON file with the processed data. (No need to implement server processing)\n",
    "\n",
    "Instructions:\n",
    "\n",
    "    1. Testing process_text_file Function:\n",
    "        - Start by creating a test function, test_read_text_file, to verify the functionality of reading the text file. \n",
    "            Ensure it fails initially.\n",
    "        - Modify the process_text_file function to satisfy the failing test case, so that the test now passes.\n",
    "        - Write another test function, test_convert_to_json, to validate the conversion of text data to JSON. \n",
    "            Ensure this test also fails initially.\n",
    "        - Modify the process_text_file function to handle the conversion of text data to JSON so that the test passes.\n",
    "        - Develop an integration test, test_server_interaction, to ensure the proper interaction with the server. \n",
    "            This test should fail initially.\n",
    "    2. Testing simulate_server_interaction Function:\n",
    "        - Start by creating a test function, test_successful_server_interaction, to verify the successful interaction with the server. Ensure it fails initially.\n",
    "        - Implement the simulate_server_interaction function to satisfy the failing test case.\n",
    "        - Write another test function, test_handle_server_errors, to ensure proper handling of server errors. This test should also fail initially.\n",
    "\n",
    "Ensure to follow Test-First Development, where tests for both process_text_file and simulate_server_interaction functions are created \n",
    "before their implementations.\n",
    "'''"
   ]
  },
  {
   "cell_type": "code",
   "execution_count": 10,
   "id": "a82a17df-fc6b-4952-b1dc-5dba15aaf7b1",
   "metadata": {},
   "outputs": [
    {
     "name": "stdout",
     "output_type": "stream",
     "text": [
      "10\n",
      "-1\n",
      "5\n",
      "None\n"
     ]
    }
   ],
   "source": [
    "def find_largest_number(numbers):\n",
    "    # Check if the list is empty\n",
    "    if not numbers:\n",
    "        return None\n",
    "    \n",
    "    # Initialize the largest number to the first element of the list\n",
    "    largest_number = numbers[0]\n",
    "    \n",
    "    # Iterate through the list to find the largest number\n",
    "    for num in numbers:\n",
    "        if num > largest_number:\n",
    "            largest_number = num\n",
    "    \n",
    "    return largest_number\n",
    "\n",
    "# Test instances\n",
    "print(find_largest_number([7, 8, 9, 10]))  # Expected output: 5\n",
    "print(find_largest_number([-1, -3, -5, -2]))  # Expected output: -1\n",
    "print(find_largest_number([5, 5, 5]))  # Expected output: 5\n",
    "print(find_largest_number([]))  # Expected output: None"
   ]
  },
  {
   "cell_type": "code",
   "execution_count": null,
   "id": "c191502d-f85d-4d1e-88f8-5a9f0995a4a3",
   "metadata": {},
   "outputs": [],
   "source": []
  }
 ],
 "metadata": {
  "kernelspec": {
   "display_name": "Python 3 (ipykernel)",
   "language": "python",
   "name": "python3"
  },
  "language_info": {
   "codemirror_mode": {
    "name": "ipython",
    "version": 3
   },
   "file_extension": ".py",
   "mimetype": "text/x-python",
   "name": "python",
   "nbconvert_exporter": "python",
   "pygments_lexer": "ipython3",
   "version": "3.11.5"
  }
 },
 "nbformat": 4,
 "nbformat_minor": 5
}
