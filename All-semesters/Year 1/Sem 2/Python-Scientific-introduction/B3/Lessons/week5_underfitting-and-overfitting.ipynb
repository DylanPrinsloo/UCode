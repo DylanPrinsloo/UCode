{
 "cells": [
  {
   "cell_type": "markdown",
   "id": "8bfc0a5c",
   "metadata": {
    "papermill": {
     "duration": 0.003615,
     "end_time": "2023-04-21T13:39:13.195933",
     "exception": false,
     "start_time": "2023-04-21T13:39:13.192318",
     "status": "completed"
    },
    "tags": []
   },
   "source": [
    "At the end of this step, you will understand the concepts of underfitting and overfitting, and you will be able to apply these ideas to make your models more accurate.\n",
    "\n",
    "# Experimenting With Different Models\n",
    "\n",
    "Now that you have a reliable way to measure model accuracy, you can experiment with alternative models and see which gives the best predictions.  But what alternatives do you have for models?\n",
    "\n",
    "You can see in scikit-learn's [documentation](http://scikit-learn.org/stable/modules/generated/sklearn.tree.DecisionTreeRegressor.html) that the decision tree model has many options (more than you'll want or need for a long time). The most important options determine the tree's depth.  Recall from [the first lesson in this course](https://www.kaggle.com/dansbecker/how-models-work) that a tree's depth is a measure of how many splits it makes before coming to a prediction.  This is a relatively shallow tree\n",
    "\n",
    "![Depth 2 Tree](https://storage.googleapis.com/kaggle-media/learn/images/R3ywQsR.png)\n",
    "\n",
    "In practice, it's not uncommon for a tree to have 10 splits between the top level (all houses) and a leaf.  As the tree gets deeper, the dataset gets sliced up into leaves with fewer houses.  If a tree only had 1 split, it divides the data into 2 groups. If each group is split again, we would get 4 groups of houses.  Splitting each of those again would create 8 groups.  If we keep doubling the number of groups by adding more splits at each level, we'll have \\\\(2^{10}\\\\) groups of houses by the time we get to the 10th level. That's 1024 leaves.  \n",
    "\n",
    "When we divide the houses amongst many leaves, we also have fewer houses in each leaf.  Leaves with very few houses will make predictions that are quite close to those homes' actual values, but they may make very unreliable predictions for new data (because each prediction is based on only a few houses).\n",
    "\n",
    "This is a phenomenon called **overfitting**, where a model matches the training data almost perfectly, but does poorly in validation and other new data.  On the flip side, if we make our tree very shallow, it doesn't divide up the houses into very distinct groups.  \n",
    "\n",
    "At an extreme, if a tree divides houses into only 2 or 4, each group still has a wide variety of houses. Resulting predictions may be far off for most houses, even in the training data (and it will be bad in validation too for the same reason). When a model fails to capture important distinctions and patterns in the data, so it performs poorly even in training data, that is called **underfitting**.  \n",
    "\n",
    "Since we care about accuracy on new data, which we estimate from our validation data, we want to find the sweet spot between underfitting and overfitting.  Visually, we want the low point of the (red) validation curve in the figure below.\n",
    "\n",
    "![underfitting_overfitting](https://storage.googleapis.com/kaggle-media/learn/images/AXSEOfI.png)\n",
    "\n",
    "# Example\n",
    "There are a few alternatives for controlling the tree depth, and many allow for some routes through the tree to have greater depth than other routes.  But the *max_leaf_nodes* argument provides a very sensible way to control overfitting vs underfitting.  The more leaves we allow the model to make, the more we move from the underfitting area in the above graph to the overfitting area.\n",
    "\n",
    "We can use a utility function to help compare MAE scores from different values for *max_leaf_nodes*:\n"
   ]
  },
  {
   "cell_type": "code",
   "execution_count": 1,
   "id": "d623abfe",
   "metadata": {
    "collapsed": true,
    "execution": {
     "iopub.execute_input": "2023-04-21T13:39:13.204256Z",
     "iopub.status.busy": "2023-04-21T13:39:13.203370Z",
     "iopub.status.idle": "2023-04-21T13:39:14.606284Z",
     "shell.execute_reply": "2023-04-21T13:39:14.604881Z"
    },
    "papermill": {
     "duration": 1.41049,
     "end_time": "2023-04-21T13:39:14.609334",
     "exception": false,
     "start_time": "2023-04-21T13:39:13.198844",
     "status": "completed"
    },
    "tags": []
   },
   "outputs": [],
   "source": [
    "from sklearn.metrics import mean_absolute_error\n",
    "from sklearn.tree import DecisionTreeRegressor\n",
    "\n",
    "def get_mae(max_leaf_nodes, train_X, val_X, train_y, val_y):\n",
    "    model = DecisionTreeRegressor(max_leaf_nodes=max_leaf_nodes, random_state=0)\n",
    "    model.fit(train_X, train_y)\n",
    "    preds_val = model.predict(val_X)\n",
    "    mae = mean_absolute_error(val_y, preds_val)\n",
    "    return(mae)"
   ]
  },
  {
   "cell_type": "markdown",
   "id": "15a4e36f",
   "metadata": {
    "papermill": {
     "duration": 0.002283,
     "end_time": "2023-04-21T13:39:14.614422",
     "exception": false,
     "start_time": "2023-04-21T13:39:14.612139",
     "status": "completed"
    },
    "tags": []
   },
   "source": [
    "The data is loaded into **train_X**, **val_X**, **train_y** and **val_y** using the code you've already seen (and which you've already written)."
   ]
  },
  {
   "cell_type": "code",
   "execution_count": 2,
   "id": "1c7e9118",
   "metadata": {
    "_kg_hide-input": true,
    "_kg_hide-output": true,
    "collapsed": true,
    "execution": {
     "iopub.execute_input": "2023-04-21T13:39:14.621596Z",
     "iopub.status.busy": "2023-04-21T13:39:14.621196Z",
     "iopub.status.idle": "2023-04-21T13:39:14.757622Z",
     "shell.execute_reply": "2023-04-21T13:39:14.756434Z"
    },
    "papermill": {
     "duration": 0.143603,
     "end_time": "2023-04-21T13:39:14.760597",
     "exception": false,
     "start_time": "2023-04-21T13:39:14.616994",
     "status": "completed"
    },
    "tags": []
   },
   "outputs": [],
   "source": [
    "# Data Loading Code Runs At This Point\n",
    "import pandas as pd\n",
    "    \n",
    "# Load data\n",
    "melbourne_file_path = '../input/melbourne-housing-snapshot/melb_data.csv'\n",
    "melbourne_data = pd.read_csv(melbourne_file_path) \n",
    "# Filter rows with missing values\n",
    "filtered_melbourne_data = melbourne_data.dropna(axis=0)\n",
    "# Choose target and features\n",
    "y = filtered_melbourne_data.Price\n",
    "melbourne_features = ['Rooms', 'Bathroom', 'Landsize', 'BuildingArea', \n",
    "                        'YearBuilt', 'Lattitude', 'Longtitude']\n",
    "X = filtered_melbourne_data[melbourne_features]\n",
    "\n",
    "from sklearn.model_selection import train_test_split\n",
    "\n",
    "# split data into training and validation data, for both features and target\n",
    "train_X, val_X, train_y, val_y = train_test_split(X, y,random_state = 0)"
   ]
  },
  {
   "cell_type": "markdown",
   "id": "43eb9643",
   "metadata": {
    "papermill": {
     "duration": 0.002466,
     "end_time": "2023-04-21T13:39:14.765840",
     "exception": false,
     "start_time": "2023-04-21T13:39:14.763374",
     "status": "completed"
    },
    "tags": []
   },
   "source": [
    "We can use a for-loop to compare the accuracy of models built with different values for *max_leaf_nodes.*"
   ]
  },
  {
   "cell_type": "code",
   "execution_count": 3,
   "id": "7a75b55d",
   "metadata": {
    "collapsed": true,
    "execution": {
     "iopub.execute_input": "2023-04-21T13:39:14.773179Z",
     "iopub.status.busy": "2023-04-21T13:39:14.772697Z",
     "iopub.status.idle": "2023-04-21T13:39:14.870009Z",
     "shell.execute_reply": "2023-04-21T13:39:14.868719Z"
    },
    "papermill": {
     "duration": 0.104742,
     "end_time": "2023-04-21T13:39:14.873136",
     "exception": false,
     "start_time": "2023-04-21T13:39:14.768394",
     "status": "completed"
    },
    "tags": []
   },
   "outputs": [
    {
     "name": "stdout",
     "output_type": "stream",
     "text": [
      "Max leaf nodes: 5  \t\t Mean Absolute Error:  347380\n",
      "Max leaf nodes: 50  \t\t Mean Absolute Error:  258171\n",
      "Max leaf nodes: 500  \t\t Mean Absolute Error:  243495\n",
      "Max leaf nodes: 5000  \t\t Mean Absolute Error:  254983\n"
     ]
    }
   ],
   "source": [
    "# compare MAE with differing values of max_leaf_nodes\n",
    "for max_leaf_nodes in [5, 50, 500, 5000]:\n",
    "    my_mae = get_mae(max_leaf_nodes, train_X, val_X, train_y, val_y)\n",
    "    print(\"Max leaf nodes: %d  \\t\\t Mean Absolute Error:  %d\" %(max_leaf_nodes, my_mae))"
   ]
  },
  {
   "cell_type": "markdown",
   "id": "0b89b025",
   "metadata": {
    "papermill": {
     "duration": 0.002437,
     "end_time": "2023-04-21T13:39:14.878456",
     "exception": false,
     "start_time": "2023-04-21T13:39:14.876019",
     "status": "completed"
    },
    "tags": []
   },
   "source": [
    "\n",
    "Of the options listed, 500 is the optimal number of leaves.\n",
    "\n",
    "---\n",
    "\n",
    "# Conclusion\n",
    "\n",
    "Here's the takeaway: Models can suffer from either:\n",
    "- **Overfitting:** capturing spurious patterns that won't recur in the future, leading to less accurate predictions, or \n",
    "- **Underfitting:** failing to capture relevant patterns, again leading to less accurate predictions. \n",
    "\n",
    "We use **validation** data, which isn't used in model training, to measure a candidate model's accuracy. This lets us try many candidate models and keep the best one. \n",
    "\n",
    "\n",
    "\n",
    "# Your Turn\n",
    "\n",
    "Try **[optimizing the model you've previously built](https://www.kaggle.com/kernels/fork/1259126)**."
   ]
  },
  {
   "cell_type": "markdown",
   "id": "a932c085",
   "metadata": {
    "papermill": {
     "duration": 0.002339,
     "end_time": "2023-04-21T13:39:14.883427",
     "exception": false,
     "start_time": "2023-04-21T13:39:14.881088",
     "status": "completed"
    },
    "tags": []
   },
   "source": [
    "---\n",
    "\n",
    "\n",
    "\n",
    "\n",
    "*Have questions or comments? Visit the [course discussion forum](https://www.kaggle.com/learn/intro-to-machine-learning/discussion) to chat with other learners.*"
   ]
  }
 ],
 "metadata": {
  "kernelspec": {
   "display_name": "Python 3",
   "language": "python",
   "name": "python3"
  },
  "language_info": {
   "codemirror_mode": {
    "name": "ipython",
    "version": 3
   },
   "file_extension": ".py",
   "mimetype": "text/x-python",
   "name": "python",
   "nbconvert_exporter": "python",
   "pygments_lexer": "ipython3",
   "version": "3.7.12"
  },
  "papermill": {
   "default_parameters": {},
   "duration": 15.724019,
   "end_time": "2023-04-21T13:39:18.418124",
   "environment_variables": {},
   "exception": null,
   "input_path": "__notebook__.ipynb",
   "output_path": "__notebook__.ipynb",
   "parameters": {},
   "start_time": "2023-04-21T13:39:02.694105",
   "version": "2.4.0"
  }
 },
 "nbformat": 4,
 "nbformat_minor": 5
}
