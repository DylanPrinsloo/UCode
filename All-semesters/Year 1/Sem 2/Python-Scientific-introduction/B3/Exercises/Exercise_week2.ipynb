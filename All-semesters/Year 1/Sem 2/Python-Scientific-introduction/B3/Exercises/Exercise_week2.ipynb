{
 "cells": [
  {
   "cell_type": "markdown",
   "metadata": {},
   "source": [
    "# Subprocess and Palindrome checker\n",
    "\n",
    "## Task description\n",
    "\n",
    "- Use a subprocess module to list all files and directories using ls command\n",
    "- Capture the output command\n",
    "- Write a function to check if a string is a palindrome\n",
    "- Apply this function to each item in the output to find any palindromes."
   ]
  },
  {
   "cell_type": "code",
   "execution_count": null,
   "metadata": {},
   "outputs": [],
   "source": []
  }
 ],
 "metadata": {
  "kernelspec": {
   "display_name": "Python 3",
   "language": "python",
   "name": "python3"
  },
  "language_info": {
   "codemirror_mode": {
    "name": "ipython",
    "version": 3
   },
   "file_extension": ".py",
   "mimetype": "text/x-python",
   "name": "python",
   "nbconvert_exporter": "python",
   "pygments_lexer": "ipython3",
   "version": "3.12.3"
  }
 },
 "nbformat": 4,
 "nbformat_minor": 2
}
