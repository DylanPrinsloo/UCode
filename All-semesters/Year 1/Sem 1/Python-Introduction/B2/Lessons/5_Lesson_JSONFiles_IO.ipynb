{
 "cells": [
  {
   "cell_type": "code",
   "execution_count": null,
   "id": "f55d4788-0366-4bc1-9294-2ecf1877d90a",
   "metadata": {},
   "outputs": [],
   "source": [
    "'''\n",
    "JSON Files in Python\n",
    "\n",
    "JSON (JavaScript Object Notation) is a lightweight data interchange format that is easy for humans to read and write, and easy \n",
    "for machines to parse and generate. JSON is often used for data serialization and transmission, especially in web applications.\n",
    "\n",
    "A JSON file typically contains data structures like objects (dictionaries in Python), arrays (lists in Python), strings, numbers, \n",
    "booleans, and nulls. \n",
    "'''"
   ]
  },
  {
   "cell_type": "code",
   "execution_count": null,
   "id": "120d86dc-32cb-4cd7-af6a-5dd1e1420828",
   "metadata": {},
   "outputs": [],
   "source": [
    "'''\n",
    "Creating JSON Files in Python\n",
    "\n",
    "Python provides the json module, which allows you to work with JSON data. You can convert Python objects into JSON strings and save \n",
    "them to files, as well as read JSON files and convert them back to Python objects.\n",
    "\n",
    "Writing JSON to a File\n",
    "\n",
    "To create a JSON file from existing data, you need to\n",
    "\n",
    "    - Prepare your data as a Python dictionary (or other serializable Python objects like lists).\n",
    "    - Use the json.dumps method to convert the dictionary to a JSON string.\n",
    "    - Use the json.dump method to write the JSON string to a file.\n",
    "'''"
   ]
  },
  {
   "cell_type": "code",
   "execution_count": null,
   "id": "a03154da-e9cd-4373-93c8-d704b7751ee4",
   "metadata": {},
   "outputs": [],
   "source": [
    "import json\n",
    "\n",
    "# Example data (dict)\n",
    "data = {\n",
    "    \"name\": \"John\",\n",
    "    \"age\": 30,\n",
    "    \"isStudent\": False,\n",
    "    \"courses\": [\"Math\", \"Science\"],\n",
    "    \"address\": {\n",
    "        \"street\": \"123 Main St\",\n",
    "        \"city\": \"Anytown\"\n",
    "    }\n",
    "}\n",
    "\n",
    "# Convert Python object to JSON string\n",
    "json_string = json.dumps(data, indent=4)\n",
    "\n",
    "# Print JSON string (optional)\n",
    "print(json_string)\n",
    "\n",
    "# Write JSON string to a file\n",
    "with open('data.json', 'w') as json_file:\n",
    "    json.dump(data, json_file, indent=4)\n"
   ]
  },
  {
   "cell_type": "code",
   "execution_count": null,
   "id": "2d49aa0f-8e2c-495a-b920-a4b452a44dec",
   "metadata": {},
   "outputs": [],
   "source": [
    "'''\n",
    "Reading JSON from a File\n",
    "\n",
    "To read a JSON file and convert it back to a Python object, use the json.load method to read the JSON data from the \n",
    "file and convert it to a Python object.\n",
    "\n",
    "'''"
   ]
  },
  {
   "cell_type": "code",
   "execution_count": null,
   "id": "baccd083-8c80-495a-a7dd-3371f4e11d53",
   "metadata": {},
   "outputs": [],
   "source": [
    "import json\n",
    "\n",
    "# Read JSON file and convert to Python object\n",
    "with open('data.json', 'r') as json_file:\n",
    "    data = json.load(json_file)\n",
    "\n",
    "# Print the data\n",
    "print(data)"
   ]
  },
  {
   "cell_type": "code",
   "execution_count": null,
   "id": "b7ee774d-3a40-4d78-a7d0-13a7a276bf3c",
   "metadata": {},
   "outputs": [],
   "source": [
    "'''\n",
    "I/O, Streams, and Requests in Python\n",
    "'''"
   ]
  },
  {
   "cell_type": "code",
   "execution_count": null,
   "id": "d48bc722-e1ac-4e63-9714-d92d86ea6445",
   "metadata": {},
   "outputs": [],
   "source": [
    "'''\n",
    "Streams\n",
    "\n",
    "Streams are channels through which data flows. They are a fundamental concept in input and output operations. \n",
    "Streams can represent various types of data sources or destinations, including files, network connections, \n",
    "standard input/output (stdin/stdout), and more.\n",
    "'''"
   ]
  },
  {
   "cell_type": "code",
   "execution_count": null,
   "id": "55ae6837-7144-4cde-876d-4fcda1c4e523",
   "metadata": {},
   "outputs": [],
   "source": [
    "'''\n",
    "File-like Objects\n",
    "\n",
    "A file-like object in Python is an object that behaves like a file when it comes to reading from it or writing to it, \n",
    "but it may not necessarily be an actual file on disk. Instead, it's an object that supports methods and attributes similar \n",
    "to those of a file object, allowing you to perform file-like operations on it.\n",
    "\n",
    "File-like objects are important because they allow you to work with data from various sources and destinations in a uniform way. \n",
    "For example, you can read data from a network socket, a string in memory, or even a compressed file, using the same set of \n",
    "methods you would use to read from a regular file.\n",
    "\n",
    "File-like objects are useful because they allow you to write code that's flexible and can work with various types of data sources \n",
    "and destinations without needing to know the specifics of each one. You can use the same set of file-like methods and attributes \n",
    "regardless of whether you're working with a file on disk, a network socket, or data in memory.\n",
    "'''"
   ]
  },
  {
   "cell_type": "code",
   "execution_count": null,
   "id": "9a3f075e-6050-44d5-9f79-19f6a5431298",
   "metadata": {},
   "outputs": [],
   "source": [
    "import io\n",
    "\n",
    "# Create a file-like object\n",
    "file_like_object = io.StringIO()\n",
    "\n",
    "# Write to the file-like object\n",
    "file_like_object.write(\"This is a test.\\n\")\n",
    "\n",
    "# Get the content of the file-like object\n",
    "content = file_like_object.getvalue()\n",
    "print(content)\n",
    "\n",
    "# Close the file-like object\n",
    "file_like_object.close()\n"
   ]
  },
  {
   "cell_type": "code",
   "execution_count": null,
   "id": "fbf135a6-af41-4b96-82a4-4e4d5d2c4f0f",
   "metadata": {},
   "outputs": [],
   "source": [
    "'''\n",
    "Requests\n",
    "\n",
    "For making HTTP requests, Python provides the requests module, which is a powerful tool for interacting with web services and APIs.\n",
    "'''"
   ]
  },
  {
   "cell_type": "code",
   "execution_count": null,
   "id": "d23a25ee-facc-4321-a375-fda6c2925efb",
   "metadata": {},
   "outputs": [],
   "source": [
    "'''\n",
    "Installing Requests\n",
    "\n",
    "You need to install the requests module if you don't have it\n",
    "'''"
   ]
  },
  {
   "cell_type": "code",
   "execution_count": null,
   "id": "2885923f-bc2b-4d52-a008-3ead0842235f",
   "metadata": {},
   "outputs": [],
   "source": [
    "pip install requests"
   ]
  },
  {
   "cell_type": "code",
   "execution_count": null,
   "id": "714969de-8a39-45b5-83c8-1041ceeff049",
   "metadata": {},
   "outputs": [],
   "source": [
    "'''\n",
    "Basic HTTP GET Request\n",
    "'''"
   ]
  },
  {
   "cell_type": "code",
   "execution_count": null,
   "id": "f3784f49-c257-4e08-9c16-f9f575081ea1",
   "metadata": {},
   "outputs": [],
   "source": [
    "import requests\n",
    "\n",
    "response = requests.get('https://api.github.com')\n",
    "\n",
    "# Check the status code\n",
    "if response.status_code == 200:\n",
    "    print(\"Success!\")\n",
    "    print(response.json())  # Print the JSON content\n",
    "else:\n",
    "    print(\"Failed to retrieve data.\")\n"
   ]
  },
  {
   "cell_type": "code",
   "execution_count": null,
   "id": "d768f746-59dd-49f4-a473-b33d412585e2",
   "metadata": {},
   "outputs": [],
   "source": [
    "'''\n",
    "HTTP POST Request\n",
    "'''"
   ]
  },
  {
   "cell_type": "code",
   "execution_count": null,
   "id": "20560db5-c847-4168-b3bf-b4d114c9c2a2",
   "metadata": {},
   "outputs": [],
   "source": [
    "import requests\n",
    "\n",
    "data = {\n",
    "    'name': 'John Doe',\n",
    "    'age': 30\n",
    "}\n",
    "\n",
    "response = requests.post('https://httpbin.org/post', json=data)\n",
    "\n",
    "# Check the status code\n",
    "if response.status_code == 200:\n",
    "    print(\"Success!\")\n",
    "    print(response.json())  # Print the JSON content\n",
    "else:\n",
    "    print(\"Failed to send data.\")\n"
   ]
  },
  {
   "cell_type": "code",
   "execution_count": null,
   "id": "4423b83e-034c-4813-8829-3340987c5627",
   "metadata": {},
   "outputs": [],
   "source": [
    "'''\n",
    "Here are some of the most common HTTP status codes along with their general categories:\n",
    "\n",
    "    1xx Informational:\n",
    "        100 Continue: The server has received the request headers and the client should proceed to send the request body.\n",
    "        101 Switching Protocols: The server is changing protocols according to the client's request.\n",
    "\n",
    "    2xx Success:\n",
    "        200 OK: The request was successful.\n",
    "        201 Created: The request has been fulfilled, resulting in the creation of a new resource.\n",
    "        204 No Content: The server successfully processed the request, but there is no content to return.\n",
    "\n",
    "    3xx Redirection:\n",
    "        301 Moved Permanently: The requested resource has been permanently moved to a new location.\n",
    "        302 Found (or Moved Temporarily): The requested resource has been temporarily moved to a different location.\n",
    "\n",
    "    4xx Client Error:\n",
    "        400 Bad Request: The server cannot process the request due to a client error.\n",
    "        401 Unauthorized: The request requires user authentication.\n",
    "        403 Forbidden: The server understood the request but refuses to authorize it.\n",
    "        404 Not Found: The requested resource could not be found on the server.\n",
    "\n",
    "    5xx Server Error:\n",
    "        500 Internal Server Error: A generic error message indicating that something has gone wrong on the server.\n",
    "        502 Bad Gateway: The server, while acting as a gateway or proxy, received an invalid response from an inbound \n",
    "        server it accessed while attempting to fulfill the request.\n",
    "'''"
   ]
  },
  {
   "cell_type": "code",
   "execution_count": null,
   "id": "846aa472-01f1-4873-a42b-59f7871e6bdb",
   "metadata": {},
   "outputs": [],
   "source": []
  },
  {
   "cell_type": "code",
   "execution_count": null,
   "id": "23a7804a-fc0c-4610-b04c-fa867d3220d2",
   "metadata": {},
   "outputs": [],
   "source": []
  },
  {
   "cell_type": "code",
   "execution_count": null,
   "id": "0e781666-0b22-40ad-ade3-1a5115c726d1",
   "metadata": {},
   "outputs": [],
   "source": []
  }
 ],
 "metadata": {
  "kernelspec": {
   "display_name": "Python 3 (ipykernel)",
   "language": "python",
   "name": "python3"
  },
  "language_info": {
   "codemirror_mode": {
    "name": "ipython",
    "version": 3
   },
   "file_extension": ".py",
   "mimetype": "text/x-python",
   "name": "python",
   "nbconvert_exporter": "python",
   "pygments_lexer": "ipython3",
   "version": "3.11.5"
  }
 },
 "nbformat": 4,
 "nbformat_minor": 5
}
