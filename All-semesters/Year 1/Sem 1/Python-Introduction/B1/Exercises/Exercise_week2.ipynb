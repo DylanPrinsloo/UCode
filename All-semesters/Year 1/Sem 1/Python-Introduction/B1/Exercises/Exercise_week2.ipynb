{
 "cells": [
  {
   "cell_type": "markdown",
   "metadata": {},
   "source": [
    "### Build a curruency application that:\n",
    "- Converts \n",
    "- Has a key to identify the curruency\n",
    "- The function should loop\n",
    "- The fuction should also allow for a dict"
   ]
  },
  {
   "cell_type": "code",
   "execution_count": 1,
   "metadata": {},
   "outputs": [
    {
     "ename": "NameError",
     "evalue": "name 'exchange_rates' is not defined",
     "output_type": "error",
     "traceback": [
      "\u001b[1;31m---------------------------------------------------------------------------\u001b[0m",
      "\u001b[1;31mNameError\u001b[0m                                 Traceback (most recent call last)",
      "Cell \u001b[1;32mIn[1], line 31\u001b[0m\n\u001b[0;32m     28\u001b[0m     exchange_rates \u001b[38;5;241m=\u001b[39m {} \u001b[38;5;66;03m# dict\u001b[39;00m\n\u001b[0;32m     29\u001b[0m     add_curruncy(exchange_rates)\n\u001b[1;32m---> 31\u001b[0m convert_function_2(\u001b[43mexchange_rates\u001b[49m)\n\u001b[0;32m     33\u001b[0m \u001b[38;5;28;01mif\u001b[39;00m \u001b[38;5;18m__name__\u001b[39m \u001b[38;5;241m==\u001b[39m \u001b[38;5;124m'\u001b[39m\u001b[38;5;124m__main__\u001b[39m\u001b[38;5;124m'\u001b[39m:\n\u001b[0;32m     34\u001b[0m     main()\n",
      "\u001b[1;31mNameError\u001b[0m: name 'exchange_rates' is not defined"
     ]
    }
   ],
   "source": [
    "def add_currency(exchange_rates):\n",
    "    while True:\n",
    "        currency_key = input(\"Enter Currency key: \")\n",
    "        exchange_rate = float(input(f\"Enter the exchange rate for {currency_key}: \"))\n",
    "\n",
    "        exchange_rates[currency_key] = exchange_rate\n",
    "        diff_currency = input(\"Enter another currency? Y/N: \")\n",
    "\n",
    "        if diff_currency.upper() != 'Y':\n",
    "            break\n",
    "\n",
    "def convert_currency(exchange_rates):\n",
    "    while True:\n",
    "        currency_key = input('Enter the currency key: ')\n",
    "        amount = float(input(\"Enter the amount: \"))\n",
    "\n",
    "        if currency_key in exchange_rates:\n",
    "            converted_amount = amount * exchange_rates[currency_key]\n",
    "            print(f\"The amount {amount} in {currency_key} is equal to R{converted_amount}\")\n",
    "        else:\n",
    "            print(f\"The exchange rate for {currency_key} is not found\")\n",
    "\n",
    "        another_conversion = input(\"Convert another amount? Y/N: \")\n",
    "        if another_conversion.upper() != 'Y':\n",
    "            break\n",
    "\n",
    "def main():\n",
    "    exchange_rates = {}  # dictionary to store exchange rates\n",
    "    add_currency(exchange_rates)\n",
    "    convert_currency(exchange_rates)\n",
    "\n",
    "if __name__ == '__main__':\n",
    "    main()\n"
   ]
  }
 ],
 "metadata": {
  "kernelspec": {
   "display_name": "Python 3",
   "language": "python",
   "name": "python3"
  },
  "language_info": {
   "codemirror_mode": {
    "name": "ipython",
    "version": 3
   },
   "file_extension": ".py",
   "mimetype": "text/x-python",
   "name": "python",
   "nbconvert_exporter": "python",
   "pygments_lexer": "ipython3",
   "version": "3.12.3"
  }
 },
 "nbformat": 4,
 "nbformat_minor": 2
}
