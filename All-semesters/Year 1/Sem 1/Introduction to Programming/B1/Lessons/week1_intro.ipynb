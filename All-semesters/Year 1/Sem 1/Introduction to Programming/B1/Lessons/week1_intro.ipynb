{
 "cells": [
  {
   "cell_type": "markdown",
   "metadata": {},
   "source": [
    "# Introduction to porgramming\n",
    "\n",
    "### Programming language called C "
   ]
  },
  {
   "cell_type": "code",
   "execution_count": null,
   "metadata": {},
   "outputs": [],
   "source": [
    "#include<stdio.h> \n",
    "//standard input output header file (pre-processor directives)\n",
    "//directives -> folder\n",
    "int main()  //starting point of a program\n",
    "{//opening of main function body \n",
    "\tprintf(\"hello everyone in C programming!\");\n",
    "\t// ; (semi-colon) end of line\n",
    "\treturn 0;//ending point of a program \n",
    "\tprintf(\"hello world 2!\"); //will not execute\n",
    "}//closing of main function body"
   ]
  },
  {
   "cell_type": "code",
   "execution_count": null,
   "metadata": {},
   "outputs": [],
   "source": [
    "#include<stdio.h>\n",
    "#include<conio.h>\n",
    "int main()\n",
    "{\n",
    "    //clrscr();\n",
    "    printf(\"hello world\");\n",
    "    getch();\n",
    "    return 0;\n",
    "}"
   ]
  },
  {
   "cell_type": "markdown",
   "metadata": {},
   "source": [
    "what is c ? \n",
    "c is a programming language \n",
    "\n",
    "why we need programming language ?\n",
    "every software's base is programming language \n",
    "\n",
    "how many types of programming languages ?\n",
    "1.low level :which works on binary(0101) ,registors and pointers etc.\n",
    "\teg. cobol,pascal,fortan,Assembly etc.\n",
    "\t \n",
    "\tregistors like (ax,bx etc) lies in RAM(Random access memory)\n",
    "2.mid level : it has the features of low level programming language \n",
    "\tas well as high level programming language.\n",
    "eg. c and c++\n",
    "3.High level : they are machine independent (write once run everywhere)\n",
    "\tlike we can run java program in windows,linux,Mac etc.\n",
    "\teg. java,python,ruby \n",
    "\n",
    "what is history of c ?\n",
    "c is developed by Dennis Ritchie in 1972 in American Telephone & telegraph (AT&T) Bells lab USA(california)\n",
    "\n",
    "why we use C when i have high level languages like java,python etc\n",
    "low level are very close to hardware and it works on hardware directly \n",
    "and the more u are near to hardware the more u will be fastest.\n",
    "so low level > mid level >high level   is fastest.\n",
    "low level programming is too complex for developers to understand\n",
    "that's why the developers uses the mid level programming language.\n",
    "\n",
    "In this era where is C is being used ?\n",
    "1.game's backend coding. eg. pubg,clash of clans etc.\n",
    "2.device driver softwares. eg. bluetooth,wifi drivers\n",
    "3.most of the compilers & virtual machines. eg. jvm (java virtual machine)\n",
    "4.android & linux kernals(it a type of mediater by which out application interacts with hardware)\n",
    "eg. android kernal,linux kernal."
   ]
  },
  {
   "cell_type": "code",
   "execution_count": null,
   "metadata": {},
   "outputs": [],
   "source": [
    "#include<stdio.h>\n",
    "int main()\n",
    "{\n",
    "\tprintf(\"hello world\"); \n",
    "\treturn 0;\n",
    "}"
   ]
  },
  {
   "cell_type": "code",
   "execution_count": null,
   "metadata": {},
   "outputs": [],
   "source": [
    "#include<stdio.h>\n",
    "#Comments in C\n",
    "int main()\n",
    "{\n",
    "    printf(\"hello aman sir\");\n",
    "    printf(\"hello aman sir\");\n",
    "\n",
    "    // printf(\"\\n\\nhello aman sir \\n\");\n",
    "    // printf(\"hello aman sir \\n\\n\");\n",
    "\n",
    "    // printf(\"hello \\n aman sir \\n\");\n",
    "\n",
    "    // printf(\"hello aman sir 2.0\\n\");\n",
    "    // printf(\"hello aman sir 3.0\\n\"); // double forward slash means single line\n",
    "    //printf(\"hello aman sir 3.0\\n\");\n",
    "\n",
    "    /*\n",
    "    printf(\"hello aman sir 3.0\\n\");\n",
    "    printf(\"hello aman sir 3.0\\n\");\n",
    "    printf(\"hello aman sir 3.0\\n\"); // multiple line comment\n",
    "    printf(\"hello aman sir 3.0\\n\");\n",
    "    printf(\"hello aman sir 3.0\\n\");*/\n",
    "    printf(\"hello aman sir 3.0\\n\");\n",
    "\n",
    "    return 0;\n",
    "}"
   ]
  },
  {
   "cell_type": "code",
   "execution_count": null,
   "metadata": {},
   "outputs": [],
   "source": [
    "#include<stdio.h>\n",
    "\n",
    "int main()\n",
    "{\n",
    "//    printf(\" Hello aman 1 \\n\");\n",
    "//    printf(\" Hello aman 2 \\n\");\n",
    "//    //printf(\" Hello aman 3 \\n\");\n",
    "//    printf(\" Hello aman 4 \\n\");\n",
    "\n",
    "    printf(\" Hello aman 2.0 \\n\");\n",
    "    printf(\" Hello aman 2.0 \\n\");\n",
    "    /*printf(\" Hello aman 2.0 \\n\");\n",
    "    printf(\" Hello aman 2.0 \\n\");\n",
    "    printf(\" Hello aman 2.0 \\n\");\n",
    "    printf(\" Hello aman 2.0 \\n\");\n",
    "    printf(\" Hello aman 2.0 \\n\");\n",
    "    printf(\" Hello aman 2.0 \\n\");\n",
    "    printf(\" Hello aman 2.0 \\n\");*/\n",
    "    printf(\" Hello aman 2.0 \\n\");\n",
    "    printf(\" Hello aman 2.0 \\n\");\n",
    "\n",
    "\n",
    "\n",
    "    return 0;\n",
    "}"
   ]
  },
  {
   "cell_type": "code",
   "execution_count": null,
   "metadata": {},
   "outputs": [],
   "source": [
    "#include<stdio.h>\n",
    "\n",
    "int  main()\n",
    "{\n",
    "\n",
    "    printf(\"hello everyone\");\n",
    "\n",
    "    return 0;\n",
    "}"
   ]
  },
  {
   "cell_type": "code",
   "execution_count": null,
   "metadata": {},
   "outputs": [],
   "source": [
    "#include<stdio.h>\n",
    "# Convert days\n",
    "int main()\n",
    "{\n",
    "    int days,years,weeks;\n",
    "    printf(\"enter the days :\");\n",
    "    scanf(\"%d\",&days);\n",
    "\n",
    "    years = days/365;\n",
    "    weeks = (days%365)/7;\n",
    "    days = days - ((years*365) + (weeks*7));\n",
    "    printf(\"years : %d\\n\",years);\n",
    "    printf(\"weeks : %d\\n\",weeks);\n",
    "    printf(\"days : %d\\n\",days);\n",
    "\n",
    "    return 0;\n",
    "}"
   ]
  }
 ],
 "metadata": {
  "language_info": {
   "name": "python"
  }
 },
 "nbformat": 4,
 "nbformat_minor": 2
}
