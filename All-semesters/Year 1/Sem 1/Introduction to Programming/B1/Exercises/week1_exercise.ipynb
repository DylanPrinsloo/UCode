{
 "cells": [
  {
   "cell_type": "markdown",
   "metadata": {},
   "source": [
    "# Exercise: Simple Calculator\n",
    "\n",
    "### Objective:\n",
    "Write a simple calculator program that can add, subtract, multiply, and divide two numbers.\n",
    "\n",
    "Steps:\n",
    "\n",
    "Prompt the user to enter two numbers.\n",
    "Prompt the user to choose an operation (addition, subtraction, multiplication, division)."
   ]
  },
  {
   "cell_type": "code",
   "execution_count": null,
   "metadata": {},
   "outputs": [],
   "source": [
    "#include <stdio.h>\n",
    "\n",
    "int main() {\n",
    "    double num1, num2;\n",
    "    char operator;\n",
    "    double result;\n",
    "\n",
    "    // Prompt the user to enter the first number\n",
    "    printf(\"Enter the first number: \");\n",
    "    scanf(\"%lf\", &num1);\n",
    "\n",
    "    // Prompt the user to enter the second number\n",
    "    printf(\"Enter the second number: \");\n",
    "    scanf(\"%lf\", &num2);\n",
    "\n",
    "    // Prompt the user to enter the operator\n",
    "    printf(\"Enter the operator (+, -, *, /): \");\n",
    "    scanf(\" %c\", &operator);\n",
    "\n",
    "    // Perform the operation based on the user input\n",
    "    switch (operator) {\n",
    "        case '+':\n",
    "            result = num1 + num2;\n",
    "            break;\n",
    "        case '-':\n",
    "            result = num1 - num2;\n",
    "            break;\n",
    "        case '*':\n",
    "            result = num1 * num2;\n",
    "            break;\n",
    "        case '/':\n",
    "            if (num2 != 0) {\n",
    "                result = num1 / num2;\n",
    "            } else {\n",
    "                printf(\"Error: Division by zero is not allowed.\\n\");\n",
    "                return 1;\n",
    "            }\n",
    "            break;\n",
    "        default:\n",
    "            printf(\"Error: Invalid operator.\\n\");\n",
    "            return 1;\n",
    "    }\n",
    "\n",
    "    // Display the result\n",
    "    printf(\"The result is: %lf\\n\", result);\n",
    "\n",
    "    return 0;\n",
    "}\n"
   ]
  }
 ],
 "metadata": {
  "language_info": {
   "name": "python"
  }
 },
 "nbformat": 4,
 "nbformat_minor": 2
}
