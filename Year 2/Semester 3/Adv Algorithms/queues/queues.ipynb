{
 "cells": [
  {
   "cell_type": "markdown",
   "metadata": {},
   "source": [
    "# **Queues**\n",
    "Queue is a linear data structure that follows the First-In-First-Out (FIFO) principle. Items are added from one end (the rear) and removed from the other (the front).\n",
    "   - **Applications:** Scheduling algorithms, buffer management, breadth-first search."
   ]
  },
  {
   "cell_type": "code",
   "execution_count": null,
   "metadata": {},
   "outputs": [],
   "source": [
    "# init\n",
    "from .queue import *\n",
    "from .max_sliding_window import *\n",
    "from .reconstruct_queue import *\n",
    "from .priority_queue import *"
   ]
  },
  {
   "cell_type": "markdown",
   "metadata": {},
   "source": [
    "## Sliding Window Maximum Problem"
   ]
  },
  {
   "cell_type": "code",
   "execution_count": null,
   "metadata": {},
   "outputs": [],
   "source": [
    "\"\"\"\n",
    "Given an array and a number k\n",
    "Find the max elements of each of its sub-arrays of length k.\n",
    "\n",
    "Keep indexes of good candidates in deque d.\n",
    "The indexes in d are from the current window, they're increasing,\n",
    "and their corresponding nums are decreasing.\n",
    "Then the first deque element is the index of the largest window value.\n",
    "\n",
    "For each index i:\n",
    "\n",
    "1. Pop (from the end) indexes of smaller elements (they'll be useless).\n",
    "2. Append the current index.\n",
    "3. Pop (from the front) the index i - k, if it's still in the deque\n",
    "   (it falls out of the window).\n",
    "4. If our window has reached size k,\n",
    "   append the current window maximum to the output.\n",
    "\"\"\""
   ]
  },
  {
   "cell_type": "code",
   "execution_count": null,
   "metadata": {},
   "outputs": [],
   "source": [
    "import collections"
   ]
  },
  {
   "cell_type": "code",
   "execution_count": null,
   "metadata": {},
   "outputs": [],
   "source": [
    "def max_sliding_window(arr, k):\n",
    "    qi = collections.deque()  # deque to store the indexes of useful elements (potential max elements)\n",
    "    result = []  # list to store the result (maximums for each window)\n",
    "\n",
    "    # Loop through each element in the array\n",
    "    for i, n in enumerate(arr):\n",
    "        \n",
    "        # Remove elements from the deque that are smaller than the current element\n",
    "        # since they will not be useful anymore as they can't be maximums\n",
    "        while qi and arr[qi[-1]] < n:\n",
    "            qi.pop()\n",
    "\n",
    "        # Append the current element's index to the deque\n",
    "        qi.append(i)\n",
    "\n",
    "        # Remove the index of the element which falls outside the current window\n",
    "        if qi[0] == i - k:\n",
    "            qi.popleft()\n",
    "\n",
    "        # Start adding the maximum elements to the result once the window size is at least k\n",
    "        if i >= k - 1:\n",
    "            result.append(arr[qi[0]])  # The element at the front of the deque is the max of the current window\n",
    "\n",
    "    return result\n"
   ]
  },
  {
   "cell_type": "markdown",
   "metadata": {},
   "source": [
    "## Moving Average of a Sliding Window"
   ]
  },
  {
   "cell_type": "code",
   "execution_count": null,
   "metadata": {},
   "outputs": [],
   "source": [
    "from __future__ import division\n",
    "from collections import deque"
   ]
  },
  {
   "cell_type": "code",
   "execution_count": null,
   "metadata": {},
   "outputs": [],
   "source": [
    "class MovingAverage(object):\n",
    "    def __init__(self, size):\n",
    "        \"\"\"\n",
    "        Initialize your data structure here.\n",
    "        :type size: int\n",
    "        \"\"\"\n",
    "        self.queue = deque(maxlen=size)\n",
    "\n",
    "    def next(self, val):\n",
    "        \"\"\"\n",
    "        :type val: int\n",
    "        :rtype: float\n",
    "        \"\"\"\n",
    "        self.queue.append(val)\n",
    "        return sum(self.queue) / len(self.queue)\n",
    "\n",
    "\n",
    "# Given a stream of integers and a window size,\n",
    "# calculate the moving average of all integers in the sliding window.\n",
    "if __name__ == '__main__':\n",
    "    m = MovingAverage(3)\n",
    "    assert m.next(1) == 1\n",
    "    assert m.next(10) == (1 + 10) / 2\n",
    "    assert m.next(3) == (1 + 10 + 3) / 3\n",
    "    assert m.next(5) == (10 + 3 + 5) / 3\n"
   ]
  },
  {
   "cell_type": "markdown",
   "metadata": {},
   "source": [
    "## Implementation of priority queue using linear array."
   ]
  },
  {
   "cell_type": "markdown",
   "metadata": {},
   "source": [
    "#### Insertion - O(n)\n",
    "#### Extract min/max Node - O(1)"
   ]
  },
  {
   "cell_type": "code",
   "execution_count": null,
   "metadata": {},
   "outputs": [],
   "source": [
    "import itertools"
   ]
  },
  {
   "cell_type": "code",
   "execution_count": null,
   "metadata": {},
   "outputs": [],
   "source": [
    "class PriorityQueueNode:\n",
    "    def __init__(self, data, priority):\n",
    "        self.data = data\n",
    "        self.priority = priority\n",
    "\n",
    "    def __repr__(self):\n",
    "        return \"{}: {}\".format(self.data, self.priority)\n",
    "\n",
    "\n",
    "class PriorityQueue:\n",
    "    def __init__(self, items=None, priorities=None):\n",
    "        \"\"\"\n",
    "        Create a priority queue with items (list or iterable).\n",
    "        If items is not passed, create empty priority queue.\n",
    "        \"\"\"\n",
    "        self.priority_queue_list = []\n",
    "        if items is None:\n",
    "            return\n",
    "        if priorities is None:\n",
    "            priorities = itertools.repeat(None)\n",
    "        for item, priority in zip(items, priorities):\n",
    "            self.push(item, priority=priority)\n",
    "\n",
    "    def __repr__(self):\n",
    "        return \"PriorityQueue({!r})\".format(self.priority_queue_list)\n",
    "\n",
    "    def size(self):\n",
    "        \"\"\"\n",
    "        Return size of the priority queue.\n",
    "        \"\"\"\n",
    "        return len(self.priority_queue_list)\n",
    "\n",
    "    def push(self, item, priority=None):\n",
    "        \"\"\"\n",
    "        Push the item in the priority queue.\n",
    "        if priority is not given, priority is set to the value of item.\n",
    "        \"\"\"\n",
    "        priority = item if priority is None else priority\n",
    "        node = PriorityQueueNode(item, priority)\n",
    "        for index, current in enumerate(self.priority_queue_list):\n",
    "            if current.priority < node.priority:\n",
    "                self.priority_queue_list.insert(index, node)\n",
    "                return\n",
    "        # when traversed complete queue\n",
    "        self.priority_queue_list.append(node)\n",
    "\n",
    "    def pop(self):\n",
    "        \"\"\"\n",
    "        Remove and return the item with the lowest priority.\n",
    "        \"\"\"\n",
    "        # remove and return the first node from the queue\n",
    "        return self.priority_queue_list.pop().data"
   ]
  },
  {
   "cell_type": "markdown",
   "metadata": {},
   "source": [
    "## Implementation of Queue Abstract Data Type (ADT) with Array and Linked List"
   ]
  },
  {
   "cell_type": "code",
   "execution_count": null,
   "metadata": {},
   "outputs": [],
   "source": [
    "\"\"\"\n",
    "Queue Abstract Data Type (ADT)\n",
    "* Queue() creates a new queue that is empty.\n",
    "  It needs no parameters and returns an empty queue.\n",
    "* enqueue(item) adds a new item to the rear of the queue.\n",
    "  It needs the item and returns nothing.\n",
    "* dequeue() removes the front item from the queue.\n",
    "  It needs no parameters and returns the item. The queue is modified.\n",
    "* isEmpty() tests to see whether the queue is empty.\n",
    "  It needs no parameters and returns a boolean value.\n",
    "* size() returns the number of items in the queue.\n",
    "  It needs no parameters and returns an integer.\n",
    "* peek() returns the front element of the queue.\n",
    "\"\"\""
   ]
  },
  {
   "cell_type": "code",
   "execution_count": null,
   "metadata": {},
   "outputs": [],
   "source": [
    "from abc import ABCMeta, abstractmethod"
   ]
  },
  {
   "cell_type": "code",
   "execution_count": null,
   "metadata": {},
   "outputs": [],
   "source": [
    "class AbstractQueue(metaclass=ABCMeta):\n",
    "\n",
    "    def __init__(self):\n",
    "        self._size = 0\n",
    "\n",
    "    def __len__(self):\n",
    "        return self._size\n",
    "\n",
    "    def is_empty(self):\n",
    "        return self._size == 0\n",
    "\n",
    "    @abstractmethod\n",
    "    def enqueue(self, value):\n",
    "        pass\n",
    "\n",
    "    @abstractmethod\n",
    "    def dequeue(self):\n",
    "        pass\n",
    "\n",
    "    @abstractmethod\n",
    "    def peek(self):\n",
    "        pass\n",
    "\n",
    "    @abstractmethod\n",
    "    def __iter__(self):\n",
    "        pass\n",
    "\n",
    "\n",
    "class ArrayQueue(AbstractQueue):\n",
    "\n",
    "    def __init__(self, capacity=10):\n",
    "        \"\"\"\n",
    "        Initialize python List with capacity of 10 or user given input.\n",
    "        Python List type is a dynamic array, so we have to restrict its\n",
    "        dynamic nature to make it work like a static array.\n",
    "        \"\"\"\n",
    "        super().__init__()\n",
    "        self._array = [None] * capacity\n",
    "        self._front = 0\n",
    "        self._rear = 0\n",
    "\n",
    "    def __iter__(self):\n",
    "        probe = self._front\n",
    "        while True:\n",
    "            if probe == self._rear:\n",
    "                return\n",
    "            yield self._array[probe]\n",
    "            probe += 1\n",
    "\n",
    "    def enqueue(self, value):\n",
    "        if self._rear == len(self._array):\n",
    "            self._expand()\n",
    "        self._array[self._rear] = value\n",
    "        self._rear += 1\n",
    "        self._size += 1\n",
    "\n",
    "    def dequeue(self):\n",
    "        if self.is_empty():\n",
    "            raise IndexError(\"Queue is empty\")\n",
    "        value = self._array[self._front]\n",
    "        self._array[self._front] = None\n",
    "        self._front += 1\n",
    "        self._size -= 1\n",
    "        return value\n",
    "\n",
    "    def peek(self):\n",
    "        # returns the front element of queue.\n",
    "        if self.is_empty():\n",
    "            raise IndexError(\"Queue is empty\")\n",
    "        return self._array[self._front]\n",
    "\n",
    "    def _expand(self):\n",
    "        \"\"\"\n",
    "        expands size of the array.\n",
    "        Time Complexity: O(n)\n",
    "        \"\"\"\n",
    "        self._array += [None] * len(self._array)"
   ]
  },
  {
   "cell_type": "code",
   "execution_count": null,
   "metadata": {},
   "outputs": [],
   "source": [
    "class QueueNode:\n",
    "    def __init__(self, value):\n",
    "        self.value = value\n",
    "        self.next = None"
   ]
  },
  {
   "cell_type": "code",
   "execution_count": null,
   "metadata": {},
   "outputs": [],
   "source": [
    "class LinkedListQueue(AbstractQueue):\n",
    "\n",
    "    def __init__(self):\n",
    "        super().__init__()\n",
    "        self._front = None\n",
    "        self._rear = None\n",
    "\n",
    "    def __iter__(self):\n",
    "        probe = self._front\n",
    "        while True:\n",
    "            if probe is None:\n",
    "                return\n",
    "            yield probe.value\n",
    "            probe = probe.next\n",
    "\n",
    "    def enqueue(self, value):\n",
    "        node = QueueNode(value)\n",
    "        if self._front is None:\n",
    "            self._front = node\n",
    "            self._rear = node\n",
    "        else:\n",
    "            self._rear.next = node\n",
    "            self._rear = node\n",
    "        self._size += 1\n",
    "\n",
    "    def dequeue(self):\n",
    "        if self.is_empty():\n",
    "            raise IndexError(\"Queue is empty\")\n",
    "        value = self._front.value\n",
    "        if self._front is self._rear:\n",
    "            self._front = None\n",
    "            self._rear = None\n",
    "        else:\n",
    "            self._front = self._front.next\n",
    "        self._size -= 1\n",
    "        return value\n",
    "\n",
    "    def peek(self):\n",
    "        # returns the front element of queue.\n",
    "        if self.is_empty():\n",
    "            raise IndexError(\"Queue is empty\")\n",
    "        return self._front.value"
   ]
  }
 ],
 "metadata": {
  "kernelspec": {
   "display_name": "Python 3",
   "language": "python",
   "name": "python3"
  },
  "language_info": {
   "name": "python",
   "version": "3.12.4"
  }
 },
 "nbformat": 4,
 "nbformat_minor": 2
}
