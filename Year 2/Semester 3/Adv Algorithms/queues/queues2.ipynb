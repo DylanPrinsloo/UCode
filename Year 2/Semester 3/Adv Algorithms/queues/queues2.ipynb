{
 "cells": [
  {
   "cell_type": "code",
   "execution_count": null,
   "metadata": {},
   "outputs": [],
   "source": [
    "# init from queues.ipynb"
   ]
  },
  {
   "cell_type": "markdown",
   "metadata": {},
   "source": [
    "## ### Reconstructing a Queue Based on Height and Position Constraints"
   ]
  },
  {
   "cell_type": "code",
   "execution_count": null,
   "metadata": {},
   "outputs": [],
   "source": [
    "# Suppose you have a random list of people standing in a queue.\n",
    "# Each person is described by a pair of integers (h, k),\n",
    "# where h is the height of the person and k is the number of people\n",
    "# in front of this person who have a height greater than or equal to h.\n",
    "# Write an algorithm to reconstruct the queue.\n",
    "\n",
    "# Note:\n",
    "# The number of people is less than 1,100.\n"
   ]
  },
  {
   "cell_type": "code",
   "execution_count": null,
   "metadata": {},
   "outputs": [],
   "source": [
    "def reconstruct_queue(people):\n",
    "    \"\"\"\n",
    "    :type people: List[List[int]]\n",
    "    :rtype: List[List[int]]\n",
    "    \"\"\"\n",
    "    queue = []\n",
    "    people.sort(key=lambda x: (-x[0], x[1]))\n",
    "    for h, k in people:\n",
    "        queue.insert(k, [h, k])\n",
    "    return queue"
   ]
  },
  {
   "cell_type": "code",
   "execution_count": null,
   "metadata": {},
   "outputs": [],
   "source": [
    "# Example\n",
    "\n",
    "# Input:\n",
    "# [[7,0], [4,4], [7,1], [5,0], [6,1], [5,2]]\n",
    "\n",
    "# Output:\n",
    "# [[5,0], [7,0], [5,2], [6,1], [4,4], [7,1]]"
   ]
  },
  {
   "cell_type": "markdown",
   "metadata": {},
   "source": [
    "## ZigZag Iterator for Two Lists\n",
    "\n",
    "#### The class below will implement a ZigZag iterator that will alternate between elements from two lists (`v1` and `v2`). That will process elements in a round-robin fashion, returning elements one by one, while checking if more elements are available."
   ]
  },
  {
   "cell_type": "code",
   "execution_count": null,
   "metadata": {},
   "outputs": [],
   "source": [
    "class ZigZagIterator:\n",
    "    def __init__(self, v1, v2):\n",
    "        \"\"\"\n",
    "        Initialize your data structure here.\n",
    "        :type v1: List[int]\n",
    "        :type v2: List[int]\n",
    "        \"\"\"\n",
    "        self.queue = [_ for _ in (v1, v2) if _]\n",
    "        print(self.queue)\n",
    "\n",
    "    def next(self):\n",
    "        \"\"\"\n",
    "        :rtype: int\n",
    "        \"\"\"\n",
    "        v = self.queue.pop(0)\n",
    "        ret = v.pop(0)\n",
    "        if v:\n",
    "            self.queue.append(v)\n",
    "        return ret\n",
    "\n",
    "    def has_next(self):\n",
    "        \"\"\"\n",
    "        :rtype: bool\n",
    "        \"\"\"\n",
    "        if self.queue:\n",
    "            return True\n",
    "        return False\n",
    "\n",
    "\n",
    "l1 = [1, 2]\n",
    "l2 = [3, 4, 5, 6]\n",
    "it = ZigZagIterator(l1, l2)\n",
    "while it.has_next():\n",
    "    print(it.next())"
   ]
  }
 ],
 "metadata": {
  "kernelspec": {
   "display_name": "Python 3",
   "language": "python",
   "name": "python3"
  },
  "language_info": {
   "name": "python",
   "version": "3.12.4"
  }
 },
 "nbformat": 4,
 "nbformat_minor": 2
}
