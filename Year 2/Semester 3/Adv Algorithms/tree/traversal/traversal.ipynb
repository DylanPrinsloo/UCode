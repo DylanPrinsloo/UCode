{
 "cells": [
  {
   "cell_type": "code",
   "execution_count": null,
   "metadata": {},
   "outputs": [],
   "source": [
    "# init\n",
    "from .preorder import *\n",
    "from .postorder import *\n",
    "from .inorder import *"
   ]
  },
  {
   "cell_type": "markdown",
   "metadata": {},
   "source": [
    "## Inorder Traversal of a Binary Tree"
   ]
  },
  {
   "cell_type": "code",
   "execution_count": null,
   "metadata": {},
   "outputs": [],
   "source": [
    "'''\n",
    "Time complexity : O(n)\n",
    "'''\n",
    "\n",
    "class Node:\n",
    "    def __init__(self, val, left=None, right=None):\n",
    "        self.val = val  # Value of the node.\n",
    "        self.left = left  # Pointer to the left child.\n",
    "        self.right = right  # Pointer to the right child.\n",
    "\n",
    "def inorder(root):\n",
    "    \"\"\"Iterative Inorder Traversal using a stack\"\"\"\n",
    "    res = []  # List to store the traversal result.\n",
    "    if not root:\n",
    "        return res\n",
    "    stack = []  # Stack to track the nodes.\n",
    "    while root or stack:\n",
    "        # Traverse the left subtree.\n",
    "        while root:\n",
    "            stack.append(root)  # Push current node to the stack.\n",
    "            root = root.left  # Move to the left child.\n",
    "        root = stack.pop()  # Pop the node from the stack.\n",
    "        res.append(root.val)  # Add the node's value to the result.\n",
    "        root = root.right  # Move to the right child.\n",
    "    return res\n",
    "\n",
    "def inorder_rec(root, res=None):\n",
    "    \"\"\"Recursive Inorder Traversal\"\"\"\n",
    "    if root is None:\n",
    "        return []  # Base case: return an empty list if the node is None.\n",
    "    if res is None:\n",
    "        res = []  # Initialize the result list during the first call.\n",
    "    inorder_rec(root.left, res)  # Recursively traverse the left subtree.\n",
    "    res.append(root.val)  # Append the current node's value.\n",
    "    inorder_rec(root.right, res)  # Recursively traverse the right subtree.\n",
    "    return res\n",
    "\n",
    "# Example usage\n",
    "if __name__ == '__main__':\n",
    "    # Creating a binary tree:\n",
    "    n1 = Node(100)\n",
    "    n2 = Node(50)\n",
    "    n3 = Node(150)\n",
    "    n4 = Node(25)\n",
    "    n5 = Node(75)\n",
    "    n6 = Node(125)\n",
    "    n7 = Node(175)\n",
    "    \n",
    "    # Constructing the tree\n",
    "    n1.left, n1.right = n2, n3  # Root node\n",
    "    n2.left, n2.right = n4, n5  # Left subtree\n",
    "    n3.left, n3.right = n6, n7  # Right subtree\n",
    "\n",
    "    # Assertions to check if both methods return the same result\n",
    "    assert inorder(n1) == [25, 50, 75, 100, 125, 150, 175]  # Iterative\n",
    "    assert inorder_rec(n1) == [25, 50, 75, 100, 125, 150, 175]  # Recursive\n"
   ]
  },
  {
   "cell_type": "markdown",
   "metadata": {},
   "source": [
    "## Level order"
   ]
  },
  {
   "cell_type": "code",
   "execution_count": null,
   "metadata": {},
   "outputs": [],
   "source": [
    "\"\"\"\n",
    "Given a binary tree, return the level order traversal of\n",
    "its nodes' values. (ie, from left to right, level by level).\n",
    "\n",
    "For example:\n",
    "Given binary tree [3,9,20,null,null,15,7],\n",
    "    3\n",
    "   / \\\n",
    "  9  20\n",
    "    /  \\\n",
    "   15   7\n",
    "return its level order traversal as:\n",
    "[\n",
    "  [3],\n",
    "  [9,20],\n",
    "  [15,7]\n",
    "]\n",
    "\"\"\""
   ]
  },
  {
   "cell_type": "code",
   "execution_count": null,
   "metadata": {},
   "outputs": [],
   "source": [
    "def level_order(root):\n",
    "    ans = []\n",
    "    if not root:\n",
    "        return ans\n",
    "    level = [root]\n",
    "    while level:\n",
    "        current = []\n",
    "        new_level = []\n",
    "        for node in level:\n",
    "            current.append(node.val)\n",
    "            if node.left:\n",
    "                new_level.append(node.left)\n",
    "            if node.right:\n",
    "                new_level.append(node.right)\n",
    "        level = new_level\n",
    "        ans.append(current)\n",
    "    return ans"
   ]
  },
  {
   "cell_type": "markdown",
   "metadata": {},
   "source": [
    "# Post order"
   ]
  },
  {
   "cell_type": "markdown",
   "metadata": {},
   "source": [
    "#### The code provided below has two implementations of postorder traversal for a binary tree: one using an iterative approach with a stack and another using a recursive method. Postorder traversal visits nodes in the following order: **left subtree → right subtree → node**. The time complexity for both implementations is **O(n)**, where **n** is the number of nodes in the tree."
   ]
  },
  {
   "cell_type": "code",
   "execution_count": null,
   "metadata": {},
   "outputs": [],
   "source": [
    "'''\n",
    "Time complexity : O(n)\n",
    "'''\n",
    "\n",
    "class Node:\n",
    "\n",
    "    def __init__(self, val, left=None, right=None):\n",
    "        self.val = val\n",
    "        self.left = left\n",
    "        self.right = right\n",
    "\n",
    "\n",
    "def postorder(root):\n",
    "    res_temp = []\n",
    "    res = []\n",
    "    if not root:\n",
    "        return res\n",
    "    stack = []\n",
    "    stack.append(root)\n",
    "    while stack:\n",
    "        root = stack.pop()\n",
    "        res_temp.append(root.val)\n",
    "        if root.left:\n",
    "            stack.append(root.left)\n",
    "        if root.right:\n",
    "            stack.append(root.right)\n",
    "    while res_temp:\n",
    "        res.append(res_temp.pop())\n",
    "    return res\n",
    "\n",
    "# Recursive Implementation\n",
    "def postorder_rec(root, res=None):\n",
    "    if root is None:\n",
    "        return []\n",
    "    if res is None:\n",
    "        res = []\n",
    "    postorder_rec(root.left, res)\n",
    "    postorder_rec(root.right, res)\n",
    "    res.append(root.val)\n",
    "    return res"
   ]
  },
  {
   "cell_type": "markdown",
   "metadata": {},
   "source": [
    "# Pre order"
   ]
  },
  {
   "cell_type": "markdown",
   "metadata": {},
   "source": [
    "#### The code provided below has two implementations of **preorder traversal** for a binary tree: one using an iterative approach with a stack and another using a recursive method. Preorder traversal visits nodes in the following order: **node → left subtree → right subtree**. The time complexity for both implementations is **O(n)**, where **n** is the number of nodes in the tree."
   ]
  },
  {
   "cell_type": "code",
   "execution_count": null,
   "metadata": {},
   "outputs": [],
   "source": [
    "'''\n",
    "Time complexity : O(n)\n",
    "'''\n",
    "\n",
    "\n",
    "class Node:\n",
    "    \"\"\" This is a class of Node \"\"\"\n",
    "\n",
    "    def __init__(self, val, left=None, right=None):\n",
    "        self.val = val\n",
    "        self.left = left\n",
    "        self.right = right\n",
    "\n",
    "\n",
    "def preorder(root):\n",
    "    \"\"\" Function to Preorder \"\"\"\n",
    "    res = []\n",
    "    if not root:\n",
    "        return res\n",
    "    stack = []\n",
    "    stack.append(root)\n",
    "    while stack:\n",
    "        root = stack.pop()\n",
    "        res.append(root.val)\n",
    "        if root.right:\n",
    "            stack.append(root.right)\n",
    "        if root.left:\n",
    "            stack.append(root.left)\n",
    "    return res\n",
    "\n",
    "def preorder_rec(root, res=None):\n",
    "    \"\"\" Recursive Implementation \"\"\"\n",
    "    if root is None:\n",
    "        return []\n",
    "    if res is None:\n",
    "        res = []\n",
    "    res.append(root.val)\n",
    "    preorder_rec(root.left, res)\n",
    "    preorder_rec(root.right, res)\n",
    "    return res"
   ]
  },
  {
   "cell_type": "markdown",
   "metadata": {},
   "source": [
    "## Zigzag Level Order Traversal "
   ]
  },
  {
   "cell_type": "code",
   "execution_count": null,
   "metadata": {},
   "outputs": [],
   "source": [
    "\"\"\"\n",
    "Given a binary tree, return the zigzag level order traversal\n",
    "of its nodes' values.\n",
    "(ie, from left to right, then right to left\n",
    "for the next level and alternate between).\n",
    "\n",
    "For example:\n",
    "Given binary tree [3,9,20,null,null,15,7],\n",
    "    3\n",
    "   / \\\n",
    "  9  20\n",
    "    /  \\\n",
    "   15   7\n",
    "return its zigzag level order traversal as:\n",
    "[\n",
    "  [3],\n",
    "  [20,9],\n",
    "  [15,7]\n",
    "]\n",
    "\"\"\""
   ]
  },
  {
   "cell_type": "code",
   "execution_count": null,
   "metadata": {},
   "outputs": [],
   "source": [
    "def zigzag_level(root):\n",
    "    res = []\n",
    "    if not root:\n",
    "        return res\n",
    "    level = [root]\n",
    "    flag = 1\n",
    "    while level:\n",
    "        current = []\n",
    "        new_level = []\n",
    "        for node in level:\n",
    "            current.append(node.val)\n",
    "            if node.left:\n",
    "                new_level.append(node.left)\n",
    "            if node.right:\n",
    "                new_level.append(node.right)\n",
    "        level = new_level\n",
    "        res.append(current[::flag])\n",
    "        flag *= -1\n",
    "    return res"
   ]
  }
 ],
 "metadata": {
  "kernelspec": {
   "display_name": "Python 3",
   "language": "python",
   "name": "python3"
  },
  "language_info": {
   "name": "python",
   "version": "3.12.4"
  }
 },
 "nbformat": 4,
 "nbformat_minor": 2
}
