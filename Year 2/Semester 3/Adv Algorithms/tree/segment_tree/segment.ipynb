{
 "cells": [
  {
   "cell_type": "code",
   "execution_count": null,
   "metadata": {},
   "outputs": [],
   "source": [
    "# init"
   ]
  },
  {
   "cell_type": "markdown",
   "metadata": {},
   "source": [
    "## Iterative segment tree"
   ]
  },
  {
   "cell_type": "markdown",
   "metadata": {},
   "source": [
    "#### SegmentTree creates a segment tree with a given array and a \"commutative\" function, this non-recursive version uses less memory than the recursive version and include:"
   ]
  },
  {
   "cell_type": "markdown",
   "metadata": {},
   "source": [
    "#### 1. range queries in log(N) time\n",
    "#### 2. update an element in log(N) time the function should be commutative and takes 2 values and returns the same type value"
   ]
  },
  {
   "cell_type": "code",
   "execution_count": null,
   "metadata": {},
   "outputs": [],
   "source": [
    "class SegmentTree:\n",
    "    def __init__(self, arr, function):\n",
    "        self.tree = [None for _ in range(len(arr))] + arr\n",
    "        self.size = len(arr)\n",
    "        self.fn = function\n",
    "        self.build_tree()\n",
    "\n",
    "    def build_tree(self):\n",
    "        for i in range(self.size - 1, 0, -1):\n",
    "            self.tree[i] = self.fn(self.tree[i * 2], self.tree[i * 2 + 1])\n",
    "\n",
    "    def update(self, p, v):\n",
    "        p += self.size\n",
    "        self.tree[p] = v\n",
    "        while p > 1:\n",
    "            p = p // 2\n",
    "            self.tree[p] = self.fn(self.tree[p * 2], self.tree[p * 2 + 1])\n",
    "\n",
    "    def query(self, l, r):\n",
    "        l, r = l + self.size, r + self.size\n",
    "        res = None\n",
    "        while l <= r:\n",
    "            if l % 2 == 1:\n",
    "                res = self.tree[l] if res is None else self.fn(res, self.tree[l])\n",
    "            if r % 2 == 0:\n",
    "                res = self.tree[r] if res is None else self.fn(res, self.tree[r])\n",
    "            l, r = (l + 1) // 2, (r - 1) // 2\n",
    "        return res"
   ]
  },
  {
   "cell_type": "code",
   "execution_count": null,
   "metadata": {},
   "outputs": [],
   "source": [
    "\"\"\"\n",
    "Examples -\n",
    "mytree = SegmentTree([2, 4, 5, 3, 4],max)\n",
    "print(mytree.query(2, 4))\n",
    "mytree.update(3, 6)\n",
    "print(mytree.query(0, 3)) ...\n",
    "\n",
    "mytree = SegmentTree([4, 5, 2, 3, 4, 43, 3], lambda a, b: a + b)\n",
    "print(mytree.query(0, 6))\n",
    "mytree.update(2, -10)\n",
    "print(mytree.query(0, 6)) ...\n",
    "\n",
    "mytree = SegmentTree([(1, 2), (4, 6), (4, 5)], lambda a, b: (a[0] + b[0], a[1] + b[1]))\n",
    "print(mytree.query(0, 2))\n",
    "mytree.update(2, (-1, 2))\n",
    "print(mytree.query(0, 2)) ...\n",
    "\"\"\""
   ]
  },
  {
   "cell_type": "markdown",
   "metadata": {},
   "source": [
    "# Segment tree"
   ]
  },
  {
   "cell_type": "markdown",
   "metadata": {},
   "source": [
    "#### Segment_tree creates a segment tree with a given array and function, allowing queries to be done later in log(N) time function takes 2 values and returns a same type value"
   ]
  },
  {
   "cell_type": "code",
   "execution_count": null,
   "metadata": {},
   "outputs": [],
   "source": [
    "class SegmentTree:\n",
    "    def __init__(self,arr,function):\n",
    "        self.segment = [0 for x in range(3*len(arr)+3)]\n",
    "        self.arr = arr\n",
    "        self.fn = function\n",
    "        self.make_tree(0,0,len(arr)-1)\n",
    "\n",
    "    def make_tree(self,i,l,r):\n",
    "        if l==r:\n",
    "            self.segment[i] = self.arr[l]\n",
    "        elif l<r:\n",
    "            self.make_tree(2*i+1,l,int((l+r)/2))\n",
    "            self.make_tree(2*i+2,int((l+r)/2)+1,r)\n",
    "            self.segment[i] = self.fn(self.segment[2*i+1],self.segment[2*i+2])\n",
    "\n",
    "    def __query(self,i,L,R,l,r):\n",
    "        if l>R or r<L or L>R or l>r:\n",
    "            return None\n",
    "        if L>=l and R<=r:\n",
    "            return self.segment[i]\n",
    "        val1 = self.__query(2*i+1,L,int((L+R)/2),l,r)\n",
    "        val2 = self.__query(2*i+2,int((L+R+2)/2),R,l,r)\n",
    "        print(L,R,\" returned \",val1,val2)\n",
    "        if val1 != None:\n",
    "            if val2 != None:\n",
    "                return self.fn(val1,val2)\n",
    "            return val1\n",
    "        return val2\n",
    "        \n",
    "\n",
    "    def query(self,L,R):\n",
    "        return self.__query(0,0,len(self.arr)-1,L,R)"
   ]
  },
  {
   "cell_type": "code",
   "execution_count": null,
   "metadata": {},
   "outputs": [],
   "source": [
    "'''\n",
    "Example -\n",
    "mytree = SegmentTree([2,4,5,3,4],max)\n",
    "mytree.query(2,4)\n",
    "mytree.query(0,3) ...\n",
    "\n",
    "mytree = SegmentTree([4,5,2,3,4,43,3],sum)\n",
    "mytree.query(1,8)\n",
    "...\n",
    "\n",
    "'''"
   ]
  }
 ],
 "metadata": {
  "kernelspec": {
   "display_name": "Python 3",
   "language": "python",
   "name": "python3"
  },
  "language_info": {
   "name": "python",
   "version": "3.12.4"
  }
 },
 "nbformat": 4,
 "nbformat_minor": 2
}
