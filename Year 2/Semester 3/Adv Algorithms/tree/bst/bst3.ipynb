{
 "cells": [
  {
   "cell_type": "code",
   "execution_count": null,
   "metadata": {},
   "outputs": [],
   "source": [
    "# init\n",
    "import unittest\n",
    "from bst import Node\n",
    "from bst import bst"
   ]
  },
  {
   "cell_type": "markdown",
   "metadata": {},
   "source": [
    "# Finding the k-th Smallest Element in a BST\n"
   ]
  },
  {
   "cell_type": "code",
   "execution_count": null,
   "metadata": {},
   "outputs": [],
   "source": [
    "class Node:\n",
    "\n",
    "    def __init__(self, val, left=None, right=None):\n",
    "        self.val = val\n",
    "        self.left = left\n",
    "        self.right = right\n",
    "\n",
    "\n",
    "def kth_smallest(root, k):\n",
    "    stack = []\n",
    "    while root or stack:\n",
    "        while root:\n",
    "            stack.append(root)\n",
    "            root = root.left\n",
    "        root = stack.pop()\n",
    "        k -= 1\n",
    "        if k == 0:\n",
    "            break\n",
    "        root = root.right\n",
    "    return root.val\n",
    "\n",
    "\n",
    "class Solution(object):\n",
    "    def kth_smallest(self, root, k):\n",
    "        \"\"\"\n",
    "        :type root: TreeNode\n",
    "        :type k: int\n",
    "        :rtype: int\n",
    "        \"\"\"\n",
    "        count = []\n",
    "        self.helper(root, count)\n",
    "        return count[k-1]\n",
    "\n",
    "    def helper(self, node, count):\n",
    "        if not node:\n",
    "            return\n",
    "\n",
    "        self.helper(node.left, count)\n",
    "        count.append(node.val)\n",
    "        self.helper(node.right, count)\n",
    "\n",
    "if __name__ == '__main__':\n",
    "    n1 = Node(100)\n",
    "    n2 = Node(50)\n",
    "    n3 = Node(150)\n",
    "    n4 = Node(25)\n",
    "    n5 = Node(75)\n",
    "    n6 = Node(125)\n",
    "    n7 = Node(175)\n",
    "    n1.left, n1.right = n2, n3\n",
    "    n2.left, n2.right = n4, n5\n",
    "    n3.left, n3.right = n6, n7\n",
    "    print(kth_smallest(n1, 2))\n",
    "    print(Solution().kth_smallest(n1, 2))"
   ]
  },
  {
   "cell_type": "markdown",
   "metadata": {},
   "source": [
    "# Finding the Lowest Common Ancestor (LCA) in a BST\n"
   ]
  },
  {
   "cell_type": "code",
   "execution_count": null,
   "metadata": {},
   "outputs": [],
   "source": [
    "\"\"\"\n",
    "Given a binary search tree (BST),\n",
    "find the lowest common ancestor (LCA) of two given nodes in the BST.\n",
    "\n",
    "According to the definition of LCA on Wikipedia:\n",
    "    “The lowest common ancestor is defined between two\n",
    "    nodes v and w as the lowest node in T that has both v and w\n",
    "    as descendants (where we allow a node to be a descendant of itself).”\n",
    "\n",
    "        _______6______\n",
    "       /              \\\n",
    "    ___2__          ___8__\n",
    "   /      \\        /      \\\n",
    "   0      _4       7       9\n",
    "         /  \\\n",
    "         3   5\n",
    "\n",
    "For example, the lowest common ancestor (LCA) of nodes 2 and 8 is 6.\n",
    "Another example is LCA of nodes 2 and 4 is 2,\n",
    "since a node can be a descendant of itself according to the LCA definition.\n",
    "\"\"\""
   ]
  },
  {
   "cell_type": "code",
   "execution_count": null,
   "metadata": {},
   "outputs": [],
   "source": [
    "def lowest_common_ancestor(root, p, q):\n",
    "    \"\"\"\n",
    "    :type root: Node\n",
    "    :type p: Node\n",
    "    :type q: Node\n",
    "    :rtype: Node\n",
    "    \"\"\"\n",
    "    while root:\n",
    "        if p.val > root.val < q.val:\n",
    "            root = root.right\n",
    "        elif p.val < root.val > q.val:\n",
    "            root = root.left\n",
    "        else:\n",
    "            return root\n"
   ]
  },
  {
   "cell_type": "markdown",
   "metadata": {},
   "source": [
    "# Counting the Number of Empty Branches in a BT\n"
   ]
  },
  {
   "cell_type": "code",
   "execution_count": null,
   "metadata": {},
   "outputs": [],
   "source": [
    "\"\"\"\n",
    "Write a function num_empty returns returns the number of empty branches in a\n",
    "tree. Function should count the total number of empty branches among the nodes\n",
    "of the tree. A leaf node has two empty branches. In the case, if root is None,\n",
    "it considered as a 1 empty branch\n",
    "For example: the following tree has 10 empty branch (* is empty branch)\n",
    "\n",
    "                    9 __\n",
    "                 /      \\___\n",
    "               6            12\n",
    "              / \\          /   \\\n",
    "            3     8       10      15\n",
    "          /  \\   / \\     /  \\    /   \\\n",
    "         *    * 7   *   *    *  *    18\n",
    "               / \\                   /  \\\n",
    "              *   *                 *    *\n",
    "\n",
    "    empty_branch = 10\n",
    "\n",
    "\"\"\""
   ]
  },
  {
   "cell_type": "code",
   "execution_count": null,
   "metadata": {},
   "outputs": [],
   "source": [
    "def num_empty(root):\n",
    "    if root is None:\n",
    "        return 1\n",
    "    elif root.left is None and root.right:\n",
    "        return 1 + num_empty(root.right)\n",
    "    elif root.right is None and root.left:\n",
    "        return 1 + num_empty(root.left)\n",
    "    else:\n",
    "        return num_empty(root.left) + num_empty(root.right)\n",
    "\n",
    "\"\"\"\n",
    "    The tree is created for testing:\n",
    "\n",
    "                    9\n",
    "                 /      \\\n",
    "               6         12\n",
    "              / \\       /   \\\n",
    "            3     8   10      15\n",
    "                 /              \\\n",
    "                7                18\n",
    "\n",
    "    num_empty = 10\n",
    "\n",
    "\"\"\"\n",
    "\n",
    "class TestSuite(unittest.TestCase):\n",
    "    def setUp(self):\n",
    "        self.tree = bst()\n",
    "        self.tree.insert(9)\n",
    "        self.tree.insert(6)\n",
    "        self.tree.insert(12)\n",
    "        self.tree.insert(3)\n",
    "        self.tree.insert(8)\n",
    "        self.tree.insert(10)\n",
    "        self.tree.insert(15)\n",
    "        self.tree.insert(7)\n",
    "        self.tree.insert(18)\n",
    "\n",
    "    def test_num_empty(self):\n",
    "        self.assertEqual(10, num_empty(self.tree.root))\n",
    "\n",
    "if __name__ == '__main__':\n",
    "    unittest.main()"
   ]
  },
  {
   "cell_type": "markdown",
   "metadata": {},
   "source": [
    "# Predecessor "
   ]
  },
  {
   "cell_type": "code",
   "execution_count": null,
   "metadata": {},
   "outputs": [],
   "source": [
    "# https://en.wikipedia.org/wiki/Predecessor_problem"
   ]
  },
  {
   "cell_type": "code",
   "execution_count": null,
   "metadata": {},
   "outputs": [],
   "source": [
    "def predecessor(root, node):\n",
    "    pred = None\n",
    "    while root:\n",
    "        if node.val > root.val:\n",
    "            pred = root\n",
    "            root = root.right\n",
    "        else:\n",
    "            root = root.left\n",
    "    return pred"
   ]
  },
  {
   "cell_type": "markdown",
   "metadata": {},
   "source": [
    "# Serialize and Deserialize a Binary Tree"
   ]
  },
  {
   "cell_type": "code",
   "execution_count": null,
   "metadata": {},
   "outputs": [],
   "source": [
    "class TreeNode(object):\n",
    "    def __init__(self, x):\n",
    "        # Initialize a tree node with a given value x\n",
    "        self.val = x  # Store the value of the node\n",
    "        self.left = None  # Initialize the left child as None\n",
    "        self.right = None  # Initialize the right child as None\n",
    "\n",
    "def serialize(root):\n",
    "    \"\"\"\n",
    "    Serialize a binary tree to a string.\n",
    "    \n",
    "    :param root: The root node of the binary tree\n",
    "    :return: A string representing the serialized binary tree\n",
    "    \"\"\"\n",
    "    def build_string(node):\n",
    "        # Helper function to build the serialized string recursively\n",
    "        if node:\n",
    "            # If the current node is not None, append its value to the list\n",
    "            vals.append(str(node.val))\n",
    "            # Recursively serialize the left subtree\n",
    "            build_string(node.left)\n",
    "            # Recursively serialize the right subtree\n",
    "            build_string(node.right)\n",
    "        else:\n",
    "            # If the current node is None, append a placeholder \"#\" to the list\n",
    "            vals.append(\"#\")\n",
    "    \n",
    "    vals = []  # Initialize a list to hold serialized values\n",
    "    build_string(root)  # Start building the string from the root\n",
    "    return \" \".join(vals)  # Join the list into a single string with spaces\n",
    "\n",
    "def deserialize(data):\n",
    "    \"\"\"\n",
    "    Deserialize a string back to a binary tree.\n",
    "    \n",
    "    :param data: A string representing the serialized binary tree\n",
    "    :return: The root node of the deserialized binary tree\n",
    "    \"\"\"\n",
    "    def build_tree():\n",
    "        # Helper function to build the binary tree recursively\n",
    "        val = next(vals)  # Get the next value from the iterator\n",
    "        if val == \"#\":\n",
    "            return None  # If the value is \"#\", return None (no node)\n",
    "        node = TreeNode(int(val))  # Create a new TreeNode with the integer value\n",
    "        # Recursively build the left and right children of the node\n",
    "        node.left = build_tree()  \n",
    "        node.right = build_tree()  \n",
    "        return node  # Return the constructed node\n",
    "    \n",
    "    vals = iter(data.split())  # Split the input data into values and create an iterator\n",
    "    return build_tree()  # Start building the tree from the first value\n"
   ]
  },
  {
   "cell_type": "markdown",
   "metadata": {},
   "source": [
    "# Find the in-order successor of a given node in a BST"
   ]
  },
  {
   "cell_type": "code",
   "execution_count": null,
   "metadata": {},
   "outputs": [],
   "source": [
    "# Predecessor problem\n",
    "# https://en.wikipedia.org/wiki/Predecessor_problem"
   ]
  },
  {
   "cell_type": "code",
   "execution_count": null,
   "metadata": {},
   "outputs": [],
   "source": [
    "# https://www.geeksforgeeks.org/inorder-successor-in-binary-search-tree/"
   ]
  },
  {
   "cell_type": "code",
   "execution_count": null,
   "metadata": {},
   "outputs": [],
   "source": [
    "# function used\n",
    "\n",
    "def successor(root, node):\n",
    "    succ = None\n",
    "    while root:\n",
    "        if node.val < root.val:\n",
    "            succ = root\n",
    "            root = root.left\n",
    "        else:\n",
    "            root = root.right\n",
    "    return succ"
   ]
  },
  {
   "cell_type": "markdown",
   "metadata": {},
   "source": [
    "## Calculate the number of structurally unique BSTs that can be formed with values from 1 to n\n"
   ]
  },
  {
   "cell_type": "code",
   "execution_count": null,
   "metadata": {},
   "outputs": [],
   "source": [
    "\"\"\"\n",
    "Given n, how many structurally unique BST's\n",
    "(binary search trees) that store values 1...n?\n",
    "\n",
    "For example,\n",
    "Given n = 3, there are a total of 5 unique BST's.\n",
    "\n",
    "   1         3     3      2      1\n",
    "    \\       /     /      / \\      \\\n",
    "     3     2     1      1   3      2\n",
    "    /     /       \\                 \\\n",
    "   2     1         2                 3\n",
    "\"\"\""
   ]
  },
  {
   "cell_type": "code",
   "execution_count": null,
   "metadata": {},
   "outputs": [],
   "source": [
    "\"\"\"\n",
    "Taking 1~n as root respectively:\n",
    "1 as root: # of trees = F(0) * F(n-1)  // F(0) == 1\n",
    "2 as root: # of trees = F(1) * F(n-2)\n",
    "3 as root: # of trees = F(2) * F(n-3)\n",
    "...\n",
    "n-1 as root: # of trees = F(n-2) * F(1)\n",
    "n as root:   # of trees = F(n-1) * F(0)\n",
    "\n",
    "So, the formulation is:\n",
    "F(n) = F(0) * F(n-1) + F(1) * F(n-2) + F(2) * F(n-3) + ... + F(n-2) * F(1) + F(n-1) * F(0)\n",
    "\"\"\""
   ]
  },
  {
   "cell_type": "code",
   "execution_count": null,
   "metadata": {},
   "outputs": [],
   "source": [
    "def num_trees(n):\n",
    "    \"\"\"\n",
    "    :type n: int\n",
    "    :rtype: int\n",
    "    \"\"\"\n",
    "    dp = [0] * (n+1)\n",
    "    dp[0] = 1\n",
    "    dp[1] = 1\n",
    "    for i in range(2, n+1):\n",
    "        for j in range(i+1):\n",
    "            dp[i] += dp[i-j] * dp[j-1]\n",
    "    return dp[-1]"
   ]
  }
 ],
 "metadata": {
  "kernelspec": {
   "display_name": "Python 3",
   "language": "python",
   "name": "python3"
  },
  "language_info": {
   "name": "python",
   "version": "3.12.4"
  }
 },
 "nbformat": 4,
 "nbformat_minor": 2
}
