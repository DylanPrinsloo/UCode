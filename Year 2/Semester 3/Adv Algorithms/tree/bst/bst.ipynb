{
 "cells": [
  {
   "cell_type": "markdown",
   "metadata": {},
   "source": [
    "# Binary Search Tree (BST) \n",
    "\n",
    "#### Each node has at most two children: a left child and a right child. The left subtree contains nodes with values less than the root node's value. The right subtree contains nodes with values greater than the root node's value. This property allows for efficient search, insertion, and deletion operations, typically with time complexity of O(log n)."
   ]
  },
  {
   "cell_type": "code",
   "execution_count": null,
   "metadata": {},
   "outputs": [],
   "source": [
    "# init\n",
    "import unittest\n",
    "from bst import Node\n",
    "from bst import bst"
   ]
  },
  {
   "cell_type": "markdown",
   "metadata": {},
   "source": [
    "## Convert Sorted Array to Height Balanced"
   ]
  },
  {
   "cell_type": "code",
   "execution_count": null,
   "metadata": {},
   "outputs": [],
   "source": [
    "\"\"\"\n",
    "Given an array where elements are sorted in ascending order,\n",
    "convert it to a height balanced BST.\n",
    "\"\"\"\n",
    "\n",
    "\n",
    "class TreeNode(object):\n",
    "    def __init__(self, x):\n",
    "        self.val = x\n",
    "        self.left = None\n",
    "        self.right = None\n",
    "\n",
    "\n",
    "def array_to_bst(nums):\n",
    "    if not nums:\n",
    "        return None\n",
    "    mid = len(nums)//2\n",
    "    node = TreeNode(nums[mid])\n",
    "    node.left = array_to_bst(nums[:mid])\n",
    "    node.right = array_to_bst(nums[mid+1:])\n",
    "    return node"
   ]
  },
  {
   "cell_type": "markdown",
   "metadata": {},
   "source": [
    "## Find Closest Value in a BST"
   ]
  },
  {
   "cell_type": "code",
   "execution_count": null,
   "metadata": {},
   "outputs": [],
   "source": [
    "# Given a non-empty binary search tree and a target value,\n",
    "# find the value in the BST that is closest to the target.\n",
    "\n",
    "# Note:\n",
    "# Given target value is a floating point.\n",
    "# You are guaranteed to have only one unique value in the BST\n",
    "# that is closest to the target.\n",
    "\n",
    "\n",
    "# Definition for a binary tree node.\n",
    "# class TreeNode(object):\n",
    "#     def __init__(self, x):\n",
    "#         self.val = x\n",
    "#         self.left = None\n",
    "#         self.right = None"
   ]
  },
  {
   "cell_type": "code",
   "execution_count": null,
   "metadata": {},
   "outputs": [],
   "source": [
    "def closest_value(root, target):\n",
    "    \"\"\"\n",
    "    :type root: TreeNode\n",
    "    :type target: float\n",
    "    :rtype: int\n",
    "    \"\"\"\n",
    "    a = root.val\n",
    "    kid = root.left if target < a else root.right\n",
    "    if not kid:\n",
    "        return a\n",
    "    b = closest_value(kid, target)\n",
    "    return min((a,b), key=lambda x: abs(target-x))"
   ]
  },
  {
   "cell_type": "markdown",
   "metadata": {},
   "source": [
    "## Insert, Search, Size, and Traversal Methods"
   ]
  },
  {
   "cell_type": "code",
   "execution_count": null,
   "metadata": {},
   "outputs": [],
   "source": [
    "\"\"\"\n",
    "Implement Binary Search Tree. It has method:\n",
    "    1. Insert\n",
    "    2. Search\n",
    "    3. Size\n",
    "    4. Traversal (Preorder, Inorder, Postorder)\n",
    "\"\"\""
   ]
  },
  {
   "cell_type": "code",
   "execution_count": 1,
   "metadata": {},
   "outputs": [],
   "source": [
    "class Node(object):\n",
    "    def __init__(self, data):\n",
    "        self.data = data\n",
    "        self.left = None\n",
    "        self.right = None"
   ]
  },
  {
   "cell_type": "code",
   "execution_count": null,
   "metadata": {},
   "outputs": [],
   "source": [
    "class BST(object):\n",
    "    def __init__(self):\n",
    "        self.root = None\n",
    "\n",
    "    def get_root(self):\n",
    "        return self.root\n",
    "\n",
    "    \"\"\"\n",
    "        Get the number of elements\n",
    "        Using recursion. Complexity O(logN)\n",
    "    \"\"\"\n",
    "    def size(self):\n",
    "        return self.recur_size(self.root)\n",
    "\n",
    "    def recur_size(self, root):\n",
    "        if root is None:\n",
    "            return 0\n",
    "        else:\n",
    "            return 1 + self.recur_size(root.left) + self.recur_size(root.right)\n",
    "\n",
    "    \"\"\"\n",
    "        Search data in bst\n",
    "        Using recursion. Complexity O(logN)\n",
    "    \"\"\"\n",
    "    def search(self, data):\n",
    "        return self.recur_search(self.root, data)\n",
    "\n",
    "    def recur_search(self, root, data):\n",
    "        if root is None:\n",
    "            return False\n",
    "        if root.data == data:\n",
    "            return True\n",
    "        elif data > root.data:     # Go to right root\n",
    "            return self.recur_search(root.right, data)\n",
    "        else:                      # Go to left root\n",
    "            return self.recur_search(root.left, data)\n",
    "\n",
    "    \"\"\"\n",
    "        Insert data in bst\n",
    "        Using recursion. Complexity O(logN)\n",
    "    \"\"\"\n",
    "    def insert(self, data):\n",
    "        if self.root:\n",
    "            return self.recur_insert(self.root, data)\n",
    "        else:\n",
    "            self.root = Node(data)\n",
    "            return True\n",
    "\n",
    "    def recur_insert(self, root, data):\n",
    "        if root.data == data:      # The data is already there\n",
    "            return False\n",
    "        elif data < root.data:     # Go to left root\n",
    "            if root.left:          # If left root is a node\n",
    "                return self.recur_insert(root.left, data)\n",
    "            else:                  # left root is a None\n",
    "                root.left = Node(data)\n",
    "                return True\n",
    "        else:                      # Go to right root\n",
    "            if root.right:         # If right root is a node\n",
    "                return self.recur_insert(root.right, data)\n",
    "            else:\n",
    "                root.right = Node(data)\n",
    "                return True\n",
    "\n",
    "    \"\"\"\n",
    "        Preorder, Postorder, Inorder traversal bst\n",
    "    \"\"\"\n",
    "    def preorder(self, root):\n",
    "        if root:\n",
    "            print(str(root.data), end = ' ')\n",
    "            self.preorder(root.left)\n",
    "            self.preorder(root.right)\n",
    "\n",
    "    def inorder(self, root):\n",
    "        if root:\n",
    "            self.inorder(root.left)\n",
    "            print(str(root.data), end = ' ')\n",
    "            self.inorder(root.right)\n",
    "\n",
    "    def postorder(self, root):\n",
    "        if root:\n",
    "            self.postorder(root.left)\n",
    "            self.postorder(root.right)\n",
    "            print(str(root.data), end = ' ')"
   ]
  },
  {
   "cell_type": "code",
   "execution_count": null,
   "metadata": {},
   "outputs": [],
   "source": [
    "\"\"\"\n",
    "    The tree is created for testing:\n",
    "\n",
    "                    10\n",
    "                 /      \\\n",
    "               6         15\n",
    "              / \\       /   \\\n",
    "            4     9   12      24\n",
    "                 /          /    \\\n",
    "                7         20      30\n",
    "                         /\n",
    "                       18\n",
    "\"\"\""
   ]
  },
  {
   "cell_type": "code",
   "execution_count": null,
   "metadata": {},
   "outputs": [],
   "source": [
    "class TestSuite(unittest.TestCase):\n",
    "    def setUp(self):\n",
    "        self.tree = BST()\n",
    "        self.tree.insert(10)\n",
    "        self.tree.insert(15)\n",
    "        self.tree.insert(6)\n",
    "        self.tree.insert(4)\n",
    "        self.tree.insert(9)\n",
    "        self.tree.insert(12)\n",
    "        self.tree.insert(24)\n",
    "        self.tree.insert(7)\n",
    "        self.tree.insert(20)\n",
    "        self.tree.insert(30)\n",
    "        self.tree.insert(18)\n",
    "\n",
    "    def test_search(self):\n",
    "        self.assertTrue(self.tree.search(24))\n",
    "        self.assertFalse(self.tree.search(50))\n",
    "\n",
    "    def test_size(self):\n",
    "        self.assertEqual(11, self.tree.size())\n",
    "\n",
    "if __name__ == '__main__':\n",
    "    unittest.main()\n"
   ]
  },
  {
   "cell_type": "markdown",
   "metadata": {},
   "source": [
    "## BST Iterator Implementation"
   ]
  },
  {
   "cell_type": "code",
   "execution_count": null,
   "metadata": {},
   "outputs": [],
   "source": [
    "class BSTIterator:\n",
    "    def __init__(self, root):\n",
    "        # Stack to store the nodes for in-order traversal\n",
    "        self.stack = []\n",
    "        \n",
    "        # Traverse to the leftmost node and push all left nodes onto the stack\n",
    "        while root:\n",
    "            self.stack.append(root)\n",
    "            root = root.left\n",
    "\n",
    "    def has_next(self):\n",
    "        # Check if there are any nodes left to process in the stack\n",
    "        return bool(self.stack)\n",
    "\n",
    "    def next(self):\n",
    "        # Pop the top node from the stack (the current smallest node)\n",
    "        node = self.stack.pop()\n",
    "        \n",
    "        # Temporarily hold the popped node to check if it has a right child\n",
    "        tmp = node\n",
    "        \n",
    "        # If the node has a right child, traverse to its leftmost node\n",
    "        if tmp.right:\n",
    "            tmp = tmp.right\n",
    "            while tmp:\n",
    "                self.stack.append(tmp)\n",
    "                tmp = tmp.left\n",
    "        \n",
    "        # Return the value of the current node (the next node in the in-order traversal)\n",
    "        return node.val\n"
   ]
  },
  {
   "cell_type": "markdown",
   "metadata": {},
   "source": [
    "## Count Left Children in a BST"
   ]
  },
  {
   "cell_type": "code",
   "execution_count": null,
   "metadata": {},
   "outputs": [],
   "source": [
    "\"\"\"\n",
    "Write a function count_left_node returns the number of left children in the\n",
    "tree. \n",
    "For example: the following tree has four left children (the nodes\n",
    "storing the values 6, 3, 7, and 10):\n",
    "\n",
    "                    9\n",
    "                 /      \\\n",
    "               6         12\n",
    "              / \\       /   \\\n",
    "            3     8   10      15\n",
    "                 /              \\\n",
    "                7                18\n",
    "\n",
    "    count_left_node = 4\n",
    "\n",
    "\"\"\""
   ]
  },
  {
   "cell_type": "code",
   "execution_count": null,
   "metadata": {},
   "outputs": [],
   "source": [
    "def count_left_node(root):\n",
    "    # Base case: if the tree (subtree) is empty, return 0\n",
    "    if root is None:\n",
    "        return 0\n",
    "    # If the current node has no left child, check the right subtree\n",
    "    elif root.left is None:\n",
    "        return count_left_node(root.right)\n",
    "    # If the current node has a left child, count it and check both left and right subtrees\n",
    "    else:\n",
    "        return 1 + count_left_node(root.left) + count_left_node(root.right)"
   ]
  },
  {
   "cell_type": "code",
   "execution_count": null,
   "metadata": {},
   "outputs": [],
   "source": [
    "\"\"\"\n",
    "    The tree is created for testing:\n",
    "\n",
    "                    9\n",
    "                 /      \\\n",
    "               6         12\n",
    "              / \\       /   \\\n",
    "            3     8   10      15\n",
    "                 /              \\\n",
    "                7                18\n",
    "\n",
    "    count_left_node = 4\n",
    "\"\"\""
   ]
  },
  {
   "cell_type": "code",
   "execution_count": null,
   "metadata": {},
   "outputs": [],
   "source": [
    "class TestSuite(unittest.TestCase):\n",
    "    def setUp(self):\n",
    "        # Create a binary search tree (BST) and insert nodes\n",
    "        self.tree = bst()\n",
    "        self.tree.insert(9)\n",
    "        self.tree.insert(6)\n",
    "        self.tree.insert(12)\n",
    "        self.tree.insert(3)\n",
    "        self.tree.insert(8)\n",
    "        self.tree.insert(10)\n",
    "        self.tree.insert(15)\n",
    "        self.tree.insert(7)\n",
    "        self.tree.insert(18)\n",
    "\n",
    "    def test_count_left_node(self):\n",
    "        # Test if the count_left_node function returns the correct number of left children (4 in this case)\n",
    "        self.assertEqual(4, count_left_node(self.tree.root))\n",
    "\n",
    "if __name__ == '__main__':\n",
    "    unittest.main()\n"
   ]
  }
 ],
 "metadata": {
  "kernelspec": {
   "display_name": "Python 3",
   "language": "python",
   "name": "python3"
  },
  "language_info": {
   "codemirror_mode": {
    "name": "ipython",
    "version": 3
   },
   "file_extension": ".py",
   "mimetype": "text/x-python",
   "name": "python",
   "nbconvert_exporter": "python",
   "pygments_lexer": "ipython3",
   "version": "3.12.4"
  }
 },
 "nbformat": 4,
 "nbformat_minor": 2
}
