{
 "cells": [
  {
   "cell_type": "code",
   "execution_count": null,
   "metadata": {},
   "outputs": [],
   "source": [
    "# init \n",
    "import collections"
   ]
  },
  {
   "cell_type": "markdown",
   "metadata": {},
   "source": [
    "## Check if a Binary Tree is Balanced (O(N) Solution)"
   ]
  },
  {
   "cell_type": "code",
   "execution_count": null,
   "metadata": {},
   "outputs": [],
   "source": [
    "def is_balanced(root):\n",
    "    return __is_balanced_recursive(root)\n",
    "\n",
    "\n",
    "def __is_balanced_recursive(root):\n",
    "    \"\"\"\n",
    "    O(N) solution\n",
    "    \"\"\"\n",
    "    return -1 != __get_depth(root)\n",
    "\n",
    "\n",
    "def __get_depth(root):\n",
    "    \"\"\"\n",
    "    return 0 if unbalanced else depth + 1\n",
    "    \"\"\"\n",
    "    if root is None:\n",
    "        return 0\n",
    "    left = __get_depth(root.left)\n",
    "    right = __get_depth(root.right)\n",
    "    if abs(left-right) > 1 or -1 in [left, right]:\n",
    "        return -1\n",
    "    return 1 + max(left, right)"
   ]
  },
  {
   "cell_type": "code",
   "execution_count": null,
   "metadata": {},
   "outputs": [],
   "source": [
    "# def is_balanced(root):\n",
    "#     \"\"\"\n",
    "#     O(N^2) solution\n",
    "#     \"\"\"\n",
    "#     left = max_height(root.left)\n",
    "#     right = max_height(root.right)\n",
    "#     return abs(left-right) <= 1 and is_balanced(root.left) and\n",
    "#     is_balanced(root.right)\n",
    "\n",
    "# def max_height(root):\n",
    "#     if root is None:\n",
    "#         return 0\n",
    "#     return max(max_height(root.left), max_height(root.right)) + 1"
   ]
  },
  {
   "cell_type": "markdown",
   "metadata": {},
   "source": [
    "## Is a subtree"
   ]
  },
  {
   "cell_type": "markdown",
   "metadata": {},
   "source": [
    "#### Given two binary trees s and t, check if t is a subtree of s. A subtree of a tree t is a tree consisting of a node in t and all of its descendants in t."
   ]
  },
  {
   "cell_type": "code",
   "execution_count": null,
   "metadata": {},
   "outputs": [],
   "source": [
    "\"\"\"\n",
    "Example 1:\n",
    "\n",
    "Given s:\n",
    "\n",
    "     3\n",
    "    / \\\n",
    "   4   5\n",
    "  / \\\n",
    " 1   2\n",
    "\n",
    "Given t:\n",
    "\n",
    "   4\n",
    "  / \\\n",
    " 1   2\n",
    "Return true, because t is a subtree of s.\n",
    "\n",
    "Example 2:\n",
    "\n",
    "Given s:\n",
    "\n",
    "     3\n",
    "    / \\\n",
    "   4   5\n",
    "  / \\\n",
    " 1   2\n",
    "    /\n",
    "   0\n",
    "\n",
    "Given t:\n",
    "\n",
    "     3\n",
    "    /\n",
    "   4\n",
    "  / \\\n",
    " 1   2\n",
    "Return false, because even though t is part of s,\n",
    "it does not contain all descendants of t.\n",
    "\n",
    "\"\"\""
   ]
  },
  {
   "cell_type": "code",
   "execution_count": null,
   "metadata": {},
   "outputs": [],
   "source": [
    "# Follow up:\n",
    "# What if one tree is significantly lager than the other?"
   ]
  },
  {
   "cell_type": "code",
   "execution_count": null,
   "metadata": {},
   "outputs": [],
   "source": [
    "def is_subtree(big, small):\n",
    "    flag = False\n",
    "    queue = collections.deque()\n",
    "    queue.append(big)\n",
    "    while queue:\n",
    "        node = queue.popleft()\n",
    "        if node.val == small.val:\n",
    "            flag = comp(node, small)\n",
    "            break\n",
    "        else:\n",
    "            queue.append(node.left)\n",
    "            queue.append(node.right)\n",
    "    return flag\n",
    "\n",
    "def comp(p, q):\n",
    "    if p is None and q is None:\n",
    "        return True\n",
    "    if p is not None and q is not None:\n",
    "        return p.val == q.val and comp(p.left,q.left) and comp(p.right, q.right)\n",
    "    return False\n"
   ]
  },
  {
   "cell_type": "markdown",
   "metadata": {},
   "source": [
    "## Is symmetric"
   ]
  },
  {
   "cell_type": "markdown",
   "metadata": {},
   "source": [
    "#### Given a binary tree, check whether it is a mirror of itself (ie, symmetric around its center)."
   ]
  },
  {
   "cell_type": "code",
   "execution_count": null,
   "metadata": {},
   "outputs": [],
   "source": [
    "\"\"\"\n",
    "For example, this binary tree [1,2,2,3,4,4,3] is symmetric:\n",
    "\n",
    "    1\n",
    "   / \\\n",
    "  2   2\n",
    " / \\ / \\\n",
    "3  4 4  3\n",
    "But the following [1,2,2,null,3,null,3] is not:\n",
    "    1\n",
    "   / \\\n",
    "  2   2\n",
    "   \\   \\\n",
    "   3    3\n",
    "\n",
    "\"\"\""
   ]
  },
  {
   "cell_type": "code",
   "execution_count": null,
   "metadata": {},
   "outputs": [],
   "source": [
    "# Note:\n",
    "# Bonus points if you could solve it both recursively and iteratively."
   ]
  },
  {
   "cell_type": "code",
   "execution_count": null,
   "metadata": {},
   "outputs": [],
   "source": [
    "# TC: O(b) SC: O(log n)\n",
    "def is_symmetric(root):\n",
    "    if root is None:\n",
    "        return True\n",
    "    return helper(root.left, root.right)\n",
    "\n",
    "\n",
    "def helper(p, q):\n",
    "    if p is None and q is None:\n",
    "        return True\n",
    "    if p is not None or q is not None or q.val != p.val:\n",
    "        return False\n",
    "    return helper(p.left, q.right) and helper(p.right, q.left)\n",
    "\n",
    "\n",
    "def is_symmetric_iterative(root):\n",
    "    if root is None:\n",
    "        return True\n",
    "    stack = [[root.left, root.right]]\n",
    "    while stack:\n",
    "        left, right = stack.pop()  # popleft\n",
    "        if left is None and right is None:\n",
    "            continue\n",
    "        if left is None or right is None:\n",
    "            return False\n",
    "        if left.val == right.val:\n",
    "            stack.append([left.left, right.right])\n",
    "            stack.append([left.right, right.left])\n",
    "        else:\n",
    "            return False\n",
    "    return True\n"
   ]
  },
  {
   "cell_type": "markdown",
   "metadata": {},
   "source": [
    "## Longest consecutive"
   ]
  },
  {
   "cell_type": "markdown",
   "metadata": {},
   "source": [
    "#### Given a binary tree, find the length of the longest consecutive sequence path.\n",
    "\n",
    "#### The path refers to any sequence of nodes from some starting node to any node in the tree along the parent-child connections. The longest consecutive path need to be from parent to child (cannot be the reverse)."
   ]
  },
  {
   "cell_type": "code",
   "execution_count": null,
   "metadata": {},
   "outputs": [],
   "source": [
    "\"\"\"\n",
    "For example,\n",
    "   1\n",
    "    \\\n",
    "     3\n",
    "    / \\\n",
    "   2   4\n",
    "        \\\n",
    "         5\n",
    "Longest consecutive sequence path is 3-4-5, so return 3.\n",
    "   2\n",
    "    \\\n",
    "     3\n",
    "    /\n",
    "   2\n",
    "  /\n",
    " 1\n",
    "\"\"\""
   ]
  },
  {
   "cell_type": "code",
   "execution_count": null,
   "metadata": {},
   "outputs": [],
   "source": [
    "def longest_consecutive(root):\n",
    "    \"\"\"\n",
    "    :type root: TreeNode\n",
    "    :rtype: int\n",
    "    \"\"\"\n",
    "    if root is None:\n",
    "        return 0\n",
    "    max_len = 0\n",
    "    dfs(root, 0, root.val, max_len)\n",
    "    return max_len\n",
    "\n",
    "\n",
    "def dfs(root, cur, target, max_len):\n",
    "    if root is None:\n",
    "        return\n",
    "    if root.val == target:\n",
    "        cur += 1\n",
    "    else:\n",
    "        cur = 1\n",
    "    max_len = max(cur, max_len)\n",
    "    dfs(root.left, cur, root.val+1, max_len)\n",
    "    dfs(root.right, cur, root.val+1, max_len)"
   ]
  }
 ],
 "metadata": {
  "kernelspec": {
   "display_name": "Python 3",
   "language": "python",
   "name": "python3"
  },
  "language_info": {
   "name": "python",
   "version": "3.12.4"
  }
 },
 "nbformat": 4,
 "nbformat_minor": 2
}
