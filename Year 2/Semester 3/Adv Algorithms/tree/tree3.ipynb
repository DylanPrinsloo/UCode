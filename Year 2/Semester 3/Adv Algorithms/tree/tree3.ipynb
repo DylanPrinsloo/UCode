{
 "cells": [
  {
   "cell_type": "code",
   "execution_count": null,
   "metadata": {},
   "outputs": [],
   "source": [
    "# init "
   ]
  },
  {
   "cell_type": "markdown",
   "metadata": {},
   "source": [
    "## Check if a Binary Tree is Balanced (O(N) Solution)"
   ]
  },
  {
   "cell_type": "code",
   "execution_count": null,
   "metadata": {},
   "outputs": [],
   "source": [
    "def is_balanced(root):\n",
    "    return __is_balanced_recursive(root)\n",
    "\n",
    "\n",
    "def __is_balanced_recursive(root):\n",
    "    \"\"\"\n",
    "    O(N) solution\n",
    "    \"\"\"\n",
    "    return -1 != __get_depth(root)\n",
    "\n",
    "\n",
    "def __get_depth(root):\n",
    "    \"\"\"\n",
    "    return 0 if unbalanced else depth + 1\n",
    "    \"\"\"\n",
    "    if root is None:\n",
    "        return 0\n",
    "    left = __get_depth(root.left)\n",
    "    right = __get_depth(root.right)\n",
    "    if abs(left-right) > 1 or -1 in [left, right]:\n",
    "        return -1\n",
    "    return 1 + max(left, right)"
   ]
  },
  {
   "cell_type": "code",
   "execution_count": null,
   "metadata": {},
   "outputs": [],
   "source": [
    "# def is_balanced(root):\n",
    "#     \"\"\"\n",
    "#     O(N^2) solution\n",
    "#     \"\"\"\n",
    "#     left = max_height(root.left)\n",
    "#     right = max_height(root.right)\n",
    "#     return abs(left-right) <= 1 and is_balanced(root.left) and\n",
    "#     is_balanced(root.right)\n",
    "\n",
    "# def max_height(root):\n",
    "#     if root is None:\n",
    "#         return 0\n",
    "#     return max(max_height(root.left), max_height(root.right)) + 1"
   ]
  },
  {
   "cell_type": "markdown",
   "metadata": {},
   "source": []
  },
  {
   "cell_type": "code",
   "execution_count": null,
   "metadata": {},
   "outputs": [],
   "source": [
    "# empty"
   ]
  }
 ],
 "metadata": {
  "kernelspec": {
   "display_name": "Python 3",
   "language": "python",
   "name": "python3"
  },
  "language_info": {
   "name": "python",
   "version": "3.12.4"
  }
 },
 "nbformat": 4,
 "nbformat_minor": 2
}
