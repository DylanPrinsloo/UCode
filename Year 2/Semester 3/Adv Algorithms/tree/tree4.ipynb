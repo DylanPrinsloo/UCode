{
 "cells": [
  {
   "cell_type": "code",
   "execution_count": null,
   "metadata": {},
   "outputs": [],
   "source": [
    "# init\n",
    "from tree import TreeNode\n",
    "from __future__ import print_function"
   ]
  },
  {
   "cell_type": "markdown",
   "metadata": {},
   "source": [
    "## lowest common ancestor"
   ]
  },
  {
   "cell_type": "markdown",
   "metadata": {},
   "source": [
    "#### Given a binary tree, find the lowest common ancestor (LCA) of two given nodes in the tree."
   ]
  },
  {
   "cell_type": "code",
   "execution_count": null,
   "metadata": {},
   "outputs": [],
   "source": [
    "\"\"\"\n",
    "According to the definition of LCA on Wikipedia:\n",
    "    “The lowest common ancestor is defined between two nodes\n",
    "    v and w as the lowest node in T that has both v and w as\n",
    "    descendants\n",
    "    (where we allow a node to be a descendant of itself).”\n",
    "\n",
    "        _______3______\n",
    "       /              \\\n",
    "    ___5__          ___1__\n",
    "   /      \\        /      \\\n",
    "   6      _2       0       8\n",
    "         /  \\\n",
    "         7   4\n",
    "For example, the lowest common ancestor (LCA) of nodes 5 and 1 is 3.\n",
    "Another example is LCA of nodes 5 and 4 is 5,\n",
    "since a node can be a descendant of itself according to the LCA definition.\n",
    "\"\"\""
   ]
  },
  {
   "cell_type": "code",
   "execution_count": null,
   "metadata": {},
   "outputs": [],
   "source": [
    "def lca(root, p, q):\n",
    "    \"\"\"\n",
    "    :type root: TreeNode\n",
    "    :type p: TreeNode\n",
    "    :type q: TreeNode\n",
    "    :rtype: TreeNode\n",
    "    \"\"\"\n",
    "    if root is None or root is p or root is q:\n",
    "        return root\n",
    "    left = lca(root.left, p, q)\n",
    "    right = lca(root.right, p, q)\n",
    "    if left is not None and right is not None:\n",
    "        return root\n",
    "    return left if left else right\n"
   ]
  },
  {
   "cell_type": "markdown",
   "metadata": {},
   "source": [
    "## Max height"
   ]
  },
  {
   "cell_type": "markdown",
   "metadata": {},
   "source": [
    "#### Given a binary tree, find its maximum depth.\n",
    "\n",
    "#### The maximum depth is the number of nodes along the longest path from the root node down to the farthest leaf node."
   ]
  },
  {
   "cell_type": "code",
   "execution_count": null,
   "metadata": {},
   "outputs": [],
   "source": [
    "# def max_height(root):\n",
    "#     if not root:\n",
    "#         return 0\n",
    "#     return max(maxDepth(root.left), maxDepth(root.right)) + 1\n",
    "\n",
    "# iterative"
   ]
  },
  {
   "cell_type": "code",
   "execution_count": null,
   "metadata": {},
   "outputs": [],
   "source": [
    "def max_height(root):\n",
    "    if root is None:\n",
    "        return 0\n",
    "    height = 0\n",
    "    queue = [root]\n",
    "    while queue:\n",
    "        height += 1\n",
    "        level = []\n",
    "        while queue:\n",
    "            node = queue.pop(0)\n",
    "            if node.left is not None:\n",
    "                level.append(node.left)\n",
    "            if node.right is not None:\n",
    "                level.append(node.right)\n",
    "        queue = level\n",
    "    return height\n",
    "\n",
    "\n",
    "def print_tree(root):\n",
    "    if root is not None:\n",
    "        print(root.val)\n",
    "        print_tree(root.left)\n",
    "        print_tree(root.right)\n",
    "\n",
    "\n",
    "if __name__ == '__main__':\n",
    "    tree = TreeNode(10)\n",
    "    tree.left = TreeNode(12)\n",
    "    tree.right = TreeNode(15)\n",
    "    tree.left.left = TreeNode(25)\n",
    "    tree.left.left.right = TreeNode(100)\n",
    "    tree.left.right = TreeNode(30)\n",
    "    tree.right.left = TreeNode(36)\n",
    "\n",
    "    height = max_height(tree)\n",
    "    print_tree(tree)\n",
    "    print(\"height:\", height)\n"
   ]
  },
  {
   "cell_type": "markdown",
   "metadata": {},
   "source": [
    "## Min height"
   ]
  },
  {
   "cell_type": "code",
   "execution_count": null,
   "metadata": {},
   "outputs": [],
   "source": [
    "def min_depth(self, root):\n",
    "    \"\"\"\n",
    "    :type root: TreeNode\n",
    "    :rtype: int\n",
    "    \"\"\"\n",
    "    if root is None:\n",
    "        return 0\n",
    "    if root.left is not None or root.right is not None:\n",
    "        return max(self.minDepth(root.left), self.minDepth(root.right))+1\n",
    "    return min(self.minDepth(root.left), self.minDepth(root.right)) + 1\n",
    "\n",
    "\n",
    "# iterative\n",
    "def min_height(root):\n",
    "    if root is None:\n",
    "        return 0\n",
    "    height = 0\n",
    "    level = [root]\n",
    "    while level:\n",
    "        height += 1\n",
    "        new_level = []\n",
    "        for node in level:\n",
    "            if node.left is None and node.right is None:\n",
    "                return height\n",
    "            if node.left is not None:\n",
    "                new_level.append(node.left)\n",
    "            if node.right is not None:\n",
    "                new_level.append(node.right)\n",
    "        level = new_level\n",
    "    return height\n",
    "\n",
    "\n",
    "def print_tree(root):\n",
    "    if root is not None:\n",
    "        print(root.val)\n",
    "        print_tree(root.left)\n",
    "        print_tree(root.right)\n",
    "\n",
    "\n",
    "if __name__ == '__main__':\n",
    "    tree = TreeNode(10)\n",
    "    tree.left = TreeNode(12)\n",
    "    tree.right = TreeNode(15)\n",
    "    tree.left.left  = TreeNode(25)\n",
    "    tree.left.left.right  = TreeNode(100)\n",
    "    tree.left.right = TreeNode(30)\n",
    "    tree.right.left = TreeNode(36)\n",
    "\n",
    "    height = min_height(tree)\n",
    "    print_tree(tree)\n",
    "    print(\"height:\", height)\n"
   ]
  },
  {
   "cell_type": "markdown",
   "metadata": {},
   "source": [
    "## Max path sum"
   ]
  },
  {
   "cell_type": "code",
   "execution_count": null,
   "metadata": {},
   "outputs": [],
   "source": [
    "def max_path_sum(root):\n",
    "    maximum = float(\"-inf\")\n",
    "    helper(root, maximum)\n",
    "    return maximum\n",
    "\n",
    "\n",
    "def helper(root, maximum):\n",
    "    if root is None:\n",
    "        return 0\n",
    "    left = helper(root.left, maximum)\n",
    "    right = helper(root.right, maximum)\n",
    "    maximum = max(maximum, left+right+root.val)\n",
    "    return root.val + maximum\n"
   ]
  },
  {
   "cell_type": "markdown",
   "metadata": {},
   "source": [
    "## Path sum 1"
   ]
  },
  {
   "cell_type": "markdown",
   "metadata": {},
   "source": [
    "#### Given a binary tree and a sum, determine if the tree has a root-to-leaf path such that adding up all the values along the path equals the given sum."
   ]
  },
  {
   "cell_type": "code",
   "execution_count": null,
   "metadata": {},
   "outputs": [],
   "source": [
    "\"\"\"\n",
    "For example:\n",
    "Given the below binary tree and sum = 22,\n",
    "              5\n",
    "             / \\\n",
    "            4   8\n",
    "           /   / \\\n",
    "          11  13  4\n",
    "         /  \\      \\\n",
    "        7    2      1\n",
    "return true, as there exist a root-to-leaf path 5->4->11->2 which sum is 22.\n",
    "\"\"\"\n"
   ]
  },
  {
   "cell_type": "markdown",
   "metadata": {},
   "source": [
    "#### Recursive Approach: has_path_sum"
   ]
  },
  {
   "cell_type": "code",
   "execution_count": null,
   "metadata": {},
   "outputs": [],
   "source": [
    "def has_path_sum(root, sum):\n",
    "    \"\"\"\n",
    "    :type root: TreeNode\n",
    "    :type sum: int\n",
    "    :rtype: bool\n",
    "    \"\"\"\n",
    "    if root is None:\n",
    "        return False\n",
    "    if root.left is None and root.right is None and root.val == sum:\n",
    "        return True\n",
    "    sum -= root.val\n",
    "    return has_path_sum(root.left, sum) or has_path_sum(root.right, sum)"
   ]
  },
  {
   "cell_type": "markdown",
   "metadata": {},
   "source": [
    "#### Depth-First Search with Stack: has_path_sum2"
   ]
  },
  {
   "cell_type": "code",
   "execution_count": null,
   "metadata": {},
   "outputs": [],
   "source": [
    "def has_path_sum2(root, sum):\n",
    "    if root is None:\n",
    "        return False\n",
    "    stack = [(root, root.val)]\n",
    "    while stack:\n",
    "        node, val = stack.pop()\n",
    "        if node.left is None and node.right is None:\n",
    "            if val == sum:\n",
    "                return True\n",
    "        if node.left is not None:\n",
    "            stack.append((node.left, val+node.left.val))\n",
    "        if node.right is not None:\n",
    "            stack.append((node.right, val+node.right.val))\n",
    "    return False"
   ]
  },
  {
   "cell_type": "markdown",
   "metadata": {},
   "source": [
    "#### Breadth-First Search with Queue: has_path_sum3"
   ]
  },
  {
   "cell_type": "code",
   "execution_count": null,
   "metadata": {},
   "outputs": [],
   "source": [
    "\n",
    "def has_path_sum3(root, sum):\n",
    "    if root is None:\n",
    "        return False\n",
    "    queue = [(root, sum-root.val)]\n",
    "    while queue:\n",
    "        node, val = queue.pop(0)  # popleft\n",
    "        if node.left is None and node.right is None:\n",
    "            if val == 0:\n",
    "                return True\n",
    "        if node.left is not None:\n",
    "            queue.append((node.left, val-node.left.val))\n",
    "        if node.right is not None:\n",
    "            queue.append((node.right, val-node.right.val))\n",
    "    return False"
   ]
  },
  {
   "cell_type": "markdown",
   "metadata": {},
   "source": [
    "## Path sum 2"
   ]
  },
  {
   "cell_type": "markdown",
   "metadata": {},
   "source": [
    "#### Given a binary tree and a sum, find all root-to-leaf paths where each path's sum equals the given sum."
   ]
  },
  {
   "cell_type": "code",
   "execution_count": null,
   "metadata": {},
   "outputs": [],
   "source": [
    "\"\"\"\n",
    "For example:\n",
    "Given the below binary tree and sum = 22,\n",
    "              5\n",
    "             / \\\n",
    "            4   8\n",
    "           /   / \\\n",
    "          11  13  4\n",
    "         /  \\    / \\\n",
    "        7    2  5   1\n",
    "return\n",
    "[\n",
    "   [5,4,11,2],\n",
    "   [5,8,4,5]\n",
    "]\n",
    "\"\"\""
   ]
  },
  {
   "cell_type": "markdown",
   "metadata": {},
   "source": [
    "#### Recursive DFS Approach: path_sum"
   ]
  },
  {
   "cell_type": "code",
   "execution_count": null,
   "metadata": {},
   "outputs": [],
   "source": [
    "def path_sum(root, sum):\n",
    "    if root is None:\n",
    "        return []\n",
    "    res = []\n",
    "    dfs(root, sum, [], res)\n",
    "    return res\n",
    "\n",
    "# Recursive DFS Helper: dfs\n",
    "def dfs(root, sum, ls, res):\n",
    "    if root.left is None and root.right is None and root.val == sum:\n",
    "        ls.append(root.val)\n",
    "        res.append(ls)\n",
    "    if root.left is not None:\n",
    "        dfs(root.left, sum-root.val, ls+[root.val], res)\n",
    "    if root.right is not None:\n",
    "        dfs(root.right, sum-root.val, ls+[root.val], res)"
   ]
  },
  {
   "cell_type": "markdown",
   "metadata": {},
   "source": [
    "#### DFS with Stack: path_sum2"
   ]
  },
  {
   "cell_type": "code",
   "execution_count": null,
   "metadata": {},
   "outputs": [],
   "source": [
    "def path_sum2(root, s):\n",
    "    if root is None:\n",
    "        return []\n",
    "    res = []\n",
    "    stack = [(root, [root.val])]\n",
    "    while stack:\n",
    "        node, ls = stack.pop()\n",
    "        if node.left is None and node.right is None and sum(ls) == s:\n",
    "            res.append(ls)\n",
    "        if node.left is not None:\n",
    "            stack.append((node.left, ls+[node.left.val]))\n",
    "        if node.right is not None:\n",
    "            stack.append((node.right, ls+[node.right.val]))\n",
    "    return res"
   ]
  },
  {
   "cell_type": "markdown",
   "metadata": {},
   "source": [
    "#### BFS with Queue: path_sum3"
   ]
  },
  {
   "cell_type": "code",
   "execution_count": null,
   "metadata": {},
   "outputs": [],
   "source": [
    "def path_sum3(root, sum):\n",
    "    if root is None:\n",
    "        return []\n",
    "    res = []\n",
    "    queue = [(root, root.val, [root.val])]\n",
    "    while queue:\n",
    "        node, val, ls = queue.pop(0)  # popleft\n",
    "        if node.left is None and node.right is None and val == sum:\n",
    "            res.append(ls)\n",
    "        if node.left is not None:\n",
    "            queue.append((node.left, val+node.left.val, ls+[node.left.val]))\n",
    "        if node.right is not None:\n",
    "            queue.append((node.right, val+node.right.val, ls+[node.right.val]))\n",
    "    return res"
   ]
  },
  {
   "cell_type": "markdown",
   "metadata": {},
   "source": [
    "## Pretty print"
   ]
  },
  {
   "cell_type": "code",
   "execution_count": null,
   "metadata": {},
   "outputs": [],
   "source": [
    "# a -> Adam -> Book -> 4\n",
    "# b -> Bill -> Computer -> 5\n",
    "#           -> TV -> 6\n",
    "#      Jill -> Sports -> 1\n",
    "# c -> Bill -> Sports -> 3\n",
    "# d -> Adam -> Computer -> 3\n",
    "#      Quin -> Computer -> 3\n",
    "# e -> Quin -> Book -> 5\n",
    "#           -> TV -> 2\n",
    "# f -> Adam -> Computer -> 7\n"
   ]
  },
  {
   "cell_type": "code",
   "execution_count": null,
   "metadata": {},
   "outputs": [],
   "source": [
    "def tree_print(tree):\n",
    "    for key in tree:\n",
    "        print(key, end=' ')  # end=' ' prevents a newline character\n",
    "        tree_element = tree[key]  # multiple lookups is expensive, even amortized O(1)!\n",
    "        for subElem in tree_element:\n",
    "            print(\" -> \", subElem, end=' ')\n",
    "            if type(subElem) != str:  # OP wants indenting after digits\n",
    "                print(\"\\n \")  # newline and a space to match indenting\n",
    "        print()  # forces a newline"
   ]
  }
 ],
 "metadata": {
  "kernelspec": {
   "display_name": "Python 3",
   "language": "python",
   "name": "python3"
  },
  "language_info": {
   "name": "python",
   "version": "3.12.4"
  }
 },
 "nbformat": 4,
 "nbformat_minor": 2
}
