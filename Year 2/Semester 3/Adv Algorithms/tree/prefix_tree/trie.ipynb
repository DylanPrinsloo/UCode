{
 "cells": [
  {
   "cell_type": "code",
   "execution_count": null,
   "metadata": {},
   "outputs": [],
   "source": [
    "# init\n",
    "import collections"
   ]
  },
  {
   "cell_type": "markdown",
   "metadata": {},
   "source": [
    "## Trie Data Structure with Insert, Search, and Prefix Methods"
   ]
  },
  {
   "cell_type": "code",
   "execution_count": null,
   "metadata": {},
   "outputs": [],
   "source": [
    "# Note:\n",
    "# You may assume that all inputs are consist of lowercase letters a-z."
   ]
  },
  {
   "cell_type": "code",
   "execution_count": null,
   "metadata": {},
   "outputs": [],
   "source": [
    "class TrieNode:\n",
    "    def __init__(self):\n",
    "        # Using defaultdict so that accessing a missing key automatically creates a TrieNode\n",
    "        self.children = collections.defaultdict(TrieNode)\n",
    "        self.is_word = False  # Flag to indicate if the node represents the end of a valid word.\n",
    "\n",
    "# The Trie itself.\n",
    "class Trie:\n",
    "    def __init__(self):\n",
    "        self.root = TrieNode()  # Initialize the root node.\n",
    "\n",
    "    # Method to insert a word into the Trie.\n",
    "    def insert(self, word):\n",
    "        current = self.root  # Start from the root node.\n",
    "        for letter in word:\n",
    "            # Traverse down the Trie, creating new nodes if necessary.\n",
    "            current = current.children[letter]\n",
    "        current.is_word = True  # Mark the end of the word.\n",
    "\n",
    "    # Method to search for a word in the Trie.\n",
    "    def search(self, word):\n",
    "        current = self.root  # Start from the root node.\n",
    "        for letter in word:\n",
    "            # Traverse the Trie; if a letter is not found, return False.\n",
    "            current = current.children.get(letter)\n",
    "            if current is None:\n",
    "                return False\n",
    "        # Return True if we are at a node marked as the end of a word.\n",
    "        return current.is_word\n",
    "\n",
    "    # Method to check if any word in the Trie starts with the given prefix.\n",
    "    def starts_with(self, prefix):\n",
    "        current = self.root  # Start from the root node.\n",
    "        for letter in prefix:\n",
    "            # Traverse the Trie to see if the prefix exists.\n",
    "            current = current.children.get(letter)\n",
    "            if current is None:\n",
    "                return False\n",
    "        return True  # Return True if we can traverse through the prefix.\n"
   ]
  },
  {
   "cell_type": "markdown",
   "metadata": {},
   "source": [
    "## Word Dictionary with Regular Expression Support"
   ]
  },
  {
   "cell_type": "markdown",
   "metadata": {},
   "source": [
    "#### We are asked to design an efficient data structure that allows us to add and search for words.\n",
    "#### The search can be a literal word or regular expression containing “.”, where “.” can be any letter."
   ]
  },
  {
   "cell_type": "code",
   "execution_count": null,
   "metadata": {},
   "outputs": [],
   "source": [
    "\"\"\"\n",
    "Example:\n",
    "addWord(“bad”)\n",
    "addWord(“dad”)\n",
    "addWord(“mad”)\n",
    "search(“pad”) -> false\n",
    "search(“bad”) -> true\n",
    "search(“.ad”) -> true\n",
    "search(“b..”) -> true\n",
    "\"\"\""
   ]
  },
  {
   "cell_type": "code",
   "execution_count": null,
   "metadata": {},
   "outputs": [],
   "source": [
    "class TrieNode(object):\n",
    "    def __init__(self, letter, is_terminal=False):\n",
    "        self.children = dict()\n",
    "        self.letter = letter\n",
    "        self.is_terminal = is_terminal\n",
    "\n",
    "class WordDictionary(object):\n",
    "    def __init__(self):\n",
    "        self.root = TrieNode(\"\")\n",
    "\n",
    "    def add_word(self, word):\n",
    "        cur = self.root\n",
    "        for letter in word:\n",
    "            if letter not in cur.children:\n",
    "                cur.children[letter] = TrieNode(letter)\n",
    "            cur = cur.children[letter]\n",
    "        cur.is_terminal = True\n",
    "\n",
    "    def search(self, word, node=None):\n",
    "        cur = node\n",
    "        if not cur:\n",
    "            cur = self.root\n",
    "        for i, letter in enumerate(word):\n",
    "            # if dot\n",
    "            if letter == \".\":\n",
    "                if i == len(word) - 1: # if last character\n",
    "                    for child in cur.children.itervalues():\n",
    "                        if child.is_terminal:\n",
    "                            return True\n",
    "                    return False\n",
    "                for child in cur.children.itervalues():\n",
    "                    if self.search(word[i+1:], child) == True:\n",
    "                        return True\n",
    "                return False\n",
    "            # if letter\n",
    "            if letter not in cur.children:\n",
    "                return False\n",
    "            cur = cur.children[letter]\n",
    "        return cur.is_terminal\n",
    "\n",
    "class WordDictionary2(object):\n",
    "    def __init__(self):\n",
    "        self.word_dict = collections.defaultdict(list)\n",
    "\n",
    "\n",
    "    def add_word(self, word):\n",
    "        if word:\n",
    "            self.word_dict[len(word)].append(word)\n",
    "\n",
    "    def search(self, word):\n",
    "        if not word:\n",
    "            return False\n",
    "        if '.' not in word:\n",
    "            return word in self.word_dict[len(word)]\n",
    "        for v in self.word_dict[len(word)]:\n",
    "            # match xx.xx.x with yyyyyyy\n",
    "            for i, ch in enumerate(word):\n",
    "                if ch != v[i] and ch != '.':\n",
    "                    break\n",
    "            else:\n",
    "                return True\n",
    "        return False\n"
   ]
  }
 ],
 "metadata": {
  "kernelspec": {
   "display_name": "Python 3",
   "language": "python",
   "name": "python3"
  },
  "language_info": {
   "name": "python",
   "version": "3.12.4"
  }
 },
 "nbformat": 4,
 "nbformat_minor": 2
}
