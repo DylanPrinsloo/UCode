{
 "cells": [
  {
   "cell_type": "code",
   "execution_count": null,
   "metadata": {},
   "outputs": [],
   "source": [
    "# init"
   ]
  },
  {
   "cell_type": "markdown",
   "metadata": {},
   "source": [
    "## Fenwick Tree / Binary Indexed Tree"
   ]
  },
  {
   "cell_type": "code",
   "execution_count": null,
   "metadata": {},
   "outputs": [],
   "source": [
    "\"\"\"\n",
    "Consider we have an array arr[0 . . . n-1]. We would like to\n",
    "1. Compute the sum of the first i elements.\n",
    "2. Modify the value of a specified element of the array arr[i] = x where 0 <= i <= n-1.\n",
    "\n",
    "A simple solution is to run a loop from 0 to i-1 and calculate the sum of the elements. To update a value, simply do arr[i] = x.\n",
    "The first operation takes O(n) time and the second operation takes O(1) time.\n",
    "Another simple solution is to create an extra array and store the sum of the first i-th elements at the i-th index in this new array.\n",
    "The sum of a given range can now be calculated in O(1) time, but the update operation takes O(n) time now.\n",
    "This works well if there are a large number of query operations but a very few number of update operations.\n",
    "\n",
    "\n",
    "There are two solutions that can perform both the query and update operations in O(logn) time.\n",
    "1. Fenwick Tree\n",
    "2. Segment Tree\n",
    "\n",
    "Compared with Segment Tree, Binary Indexed Tree requires less space and is easier to implement.\n",
    "\"\"\""
   ]
  },
  {
   "cell_type": "code",
   "execution_count": null,
   "metadata": {},
   "outputs": [],
   "source": [
    "class Fenwick_Tree(object):\n",
    "    def __init__(self, freq):\n",
    "        self.arr = freq\n",
    "        self.n = len(freq)\n",
    "        \n",
    "    def get_sum(self, bit_tree, i):\n",
    "        \"\"\"\n",
    "        Returns the sum of arr[0..i] (prefix sum).\n",
    "        This function assumes that the array is preprocessed\n",
    "        and partial sums are stored in bit_tree[].\n",
    "        \"\"\"\n",
    "\n",
    "        s = 0\n",
    "        i = i + 1  # Index in bit_tree is 1 more than arr\n",
    "        while i > 0:  # Traverse ancestors of bit_tree[i]\n",
    "            s += bit_tree[i]\n",
    "            i -= i & (-i)  # Move to parent node\n",
    "        return s\n",
    "      \n",
    "    def update_bit(self, bit_tree, i, v):\n",
    "        \"\"\"\n",
    "        Updates a node in Binary Indexed Tree (bit_tree)\n",
    "        at a given index by adding value 'v' to bit_tree[i] \n",
    "        and all of its ancestors.\n",
    "        \"\"\"\n",
    "\n",
    "        i += 1  # Index in bit_tree is 1 more than arr\n",
    "        while i <= self.n:  # Traverse ancestors and update values\n",
    "            bit_tree[i] += v\n",
    "            i += i & (-i)  # Move to parent node\n",
    "      \n",
    "    def construct(self):\n",
    "        \"\"\"\n",
    "        Constructs and returns a Binary Indexed Tree for the given array.\n",
    "        \"\"\"\n",
    "\n",
    "        bit_tree = [0] * (self.n + 1)  # Initialize bit_tree with zeros\n",
    "        for i in range(self.n):  # Populate bit_tree using update_bit()\n",
    "            self.update_bit(bit_tree, i, self.arr[i])\n",
    "        return bit_tree\n",
    "\n"
   ]
  }
 ],
 "metadata": {
  "kernelspec": {
   "display_name": "Python 3",
   "language": "python",
   "name": "python3"
  },
  "language_info": {
   "name": "python",
   "version": "3.12.4"
  }
 },
 "nbformat": 4,
 "nbformat_minor": 2
}
