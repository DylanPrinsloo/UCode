{
 "cells": [
  {
   "cell_type": "code",
   "execution_count": null,
   "metadata": {},
   "outputs": [],
   "source": [
    "# init"
   ]
  },
  {
   "cell_type": "markdown",
   "metadata": {},
   "source": [
    "## binary_tree_paths"
   ]
  },
  {
   "cell_type": "code",
   "execution_count": null,
   "metadata": {},
   "outputs": [],
   "source": [
    "def binary_tree_paths(root):\n",
    "    res = []\n",
    "    if root is None:\n",
    "        return res\n",
    "    dfs(res, root, str(root.val))\n",
    "    return res\n"
   ]
  },
  {
   "cell_type": "code",
   "execution_count": null,
   "metadata": {},
   "outputs": [],
   "source": [
    "def dfs(res, root, cur):\n",
    "    if root.left is None and root.right is None:\n",
    "        res.append(cur)\n",
    "    if root.left:\n",
    "        dfs(res, root.left, cur+'->'+str(root.left.val))\n",
    "    if root.right:\n",
    "        dfs(res, root.right, cur+'->'+str(root.right.val))"
   ]
  },
  {
   "cell_type": "markdown",
   "metadata": {},
   "source": [
    "## Construct tree postorder and preorder"
   ]
  },
  {
   "cell_type": "code",
   "execution_count": null,
   "metadata": {},
   "outputs": [],
   "source": [
    "\"\"\"\n",
    "    Given two arrays representing preorder and postorder traversal of a full\n",
    "    binary tree, construct the binary tree and print the inorder traversal of the\n",
    "    tree.\n",
    "    A full binary tree has either 0 or 2 children.\n",
    "    Algorithm:\n",
    "        1. Assign the first element of preorder array as root of the tree.\n",
    "        2. Find the same element in the postorder array and divide the postorder\n",
    "            array into left and right subtree.\n",
    "        3. Repeat the above steps for all the elements and construct the tree.\n",
    "    Eg: pre[] = {1, 2, 4, 8, 9, 5, 3, 6, 7}\n",
    "        post[] = {8, 9, 4, 5, 2, 6, 7, 3, 1}\n",
    "        Tree:\n",
    "                1\n",
    "              /   \\\n",
    "             2     3\n",
    "            / \\   / \\\n",
    "           4   5 6   7\n",
    "          / \\\n",
    "         8   9\n",
    "      Output: 8 4 9 2 5 1 6 3 7\n",
    "\"\"\""
   ]
  },
  {
   "cell_type": "code",
   "execution_count": null,
   "metadata": {},
   "outputs": [],
   "source": [
    "class TreeNode:\n",
    "\n",
    "    def __init__(self, val, left = None, right = None):\n",
    "        self.val = val\n",
    "        self.left = left\n",
    "        self.right = right\n",
    "\n",
    "pre_index = 0\n",
    "        \n",
    "def construct_tree_util(pre: list, post: list, low: int, high: int, size: int):\n",
    "    \"\"\"\n",
    "        Recursive function that constructs tree from preorder and postorder array.\n",
    "        \n",
    "        preIndex is a global variable that keeps track of the index in preorder\n",
    "        array.\n",
    "        preorder and postorder array are represented are pre[] and post[] respectively.\n",
    "        low and high are the indices for the postorder array.\n",
    "    \"\"\"\n",
    "\n",
    "    global pre_index\n",
    "\n",
    "    if pre_index == -1:\n",
    "        pre_index = 0\n",
    "  \n",
    "    \n",
    "    #Base case\n",
    "    if(pre_index >= size or low > high):\n",
    "        return None\n",
    "\n",
    "    root = TreeNode(pre[pre_index])\n",
    "    pre_index += 1\n",
    "\n",
    "    #If only one element in the subarray return root\n",
    "    if(low == high or pre_index >= size):\n",
    "        return root\n",
    "\n",
    "    #Find the next element of pre[] in post[]\n",
    "    i = low\n",
    "    while i <= high:\n",
    "        if(pre[pre_index] == post[i]):\n",
    "            break\n",
    "\n",
    "        i += 1\n",
    "\n",
    "    #Use index of element present in postorder to divide postorder array\n",
    "    #to two parts: left subtree and right subtree\n",
    "    if(i <= high):\n",
    "        root.left = construct_tree_util(pre, post, low, i, size)\n",
    "        root.right = construct_tree_util(pre, post, i+1, high, size)\n",
    "\n",
    "    return root\n",
    "\n",
    "\n",
    "def construct_tree(pre: list, post: list, size: int):\n",
    "    \"\"\"\n",
    "        Main Function that will construct the full binary tree from given preorder\n",
    "        and postorder array.\n",
    "    \"\"\"\n",
    "\n",
    "    global pre_index\n",
    "    root = construct_tree_util(pre, post, 0, size-1, size)\n",
    "\n",
    "    return print_inorder(root)\n",
    "\n",
    "\n",
    "\n",
    "def print_inorder(root: TreeNode, result = None):\n",
    "    \"\"\"\n",
    "        Prints the tree constructed in inorder format\n",
    "    \"\"\"\n",
    "    if root is None:\n",
    "        return []\n",
    "    if result is None: \n",
    "        result = []\n",
    "        \n",
    "    print_inorder(root.left, result)\n",
    "    result.append(root.val)\n",
    "    print_inorder(root.right, result)\n",
    "    return result\n",
    "\n",
    "if __name__ == '__main__':\n",
    "    pre = [1, 2, 4, 5, 3, 6, 7]\n",
    "    post = [4, 5, 2, 6, 7, 3, 1]\n",
    "    size = len(pre)\n",
    "\n",
    "    result = construct_tree(pre, post, size)\n",
    "\n",
    "    print(result)\n"
   ]
  },
  {
   "cell_type": "markdown",
   "metadata": {},
   "source": []
  },
  {
   "cell_type": "code",
   "execution_count": null,
   "metadata": {},
   "outputs": [],
   "source": [
    "# empty"
   ]
  }
 ],
 "metadata": {
  "kernelspec": {
   "display_name": "Python 3",
   "language": "python",
   "name": "python3"
  },
  "language_info": {
   "name": "python",
   "version": "3.12.4"
  }
 },
 "nbformat": 4,
 "nbformat_minor": 2
}
