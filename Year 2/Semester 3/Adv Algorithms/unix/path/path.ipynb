{
 "cells": [
  {
   "cell_type": "markdown",
   "metadata": {},
   "source": [
    "# **Unix**\n",
    "Unix is a powerful, multiuser, multitasking operating system originally developed in the 1960s. It provides a wide range of utilities and commands for managing processes, file systems, and user permissions.\n",
    "   - **Applications:** Server management, software development, networking systems, shell scripting.\n"
   ]
  },
  {
   "cell_type": "code",
   "execution_count": null,
   "metadata": {},
   "outputs": [],
   "source": [
    "# init\n",
    "from .path.join_with_slash import *\n",
    "from .path.full_path import *\n",
    "from .path.split import *\n",
    "from .path.simplify_path import *"
   ]
  },
  {
   "cell_type": "markdown",
   "metadata": {},
   "source": [
    "## Get a full absolute path a file"
   ]
  },
  {
   "cell_type": "markdown",
   "metadata": {},
   "source": [
    "\n",
    "The function below takes a filename or relative path and returns its full absolute path. It uses Python's `os.path` module to expand any user directory symbol (`~`) and then convert the path to an absolute one."
   ]
  },
  {
   "cell_type": "code",
   "execution_count": null,
   "metadata": {},
   "outputs": [],
   "source": [
    "import os"
   ]
  },
  {
   "cell_type": "code",
   "execution_count": null,
   "metadata": {},
   "outputs": [],
   "source": [
    "def full_path(file):\n",
    "    return os.path.abspath(os.path.expanduser(file))\n"
   ]
  },
  {
   "cell_type": "markdown",
   "metadata": {},
   "source": [
    "## Join with Slash"
   ]
  },
  {
   "cell_type": "code",
   "execution_count": null,
   "metadata": {},
   "outputs": [],
   "source": [
    "\"\"\"\n",
    "Both URL and file path joins use slashes as dividers between their parts.\n",
    "For example:\n",
    "\n",
    "path/to/dir + file --> path/to/dir/file\n",
    "path/to/dir/ + file --> path/to/dir/file\n",
    "http://algorithms.com/ + part --> http://algorithms.com/part\n",
    "http://algorithms.com + part --> http://algorithms/part\n",
    "\"\"\""
   ]
  },
  {
   "cell_type": "code",
   "execution_count": null,
   "metadata": {},
   "outputs": [],
   "source": [
    "import os"
   ]
  },
  {
   "cell_type": "code",
   "execution_count": null,
   "metadata": {},
   "outputs": [],
   "source": [
    "def join_with_slash(base, suffix):\n",
    "    # Remove / trailing\n",
    "    base = base.rstrip('/')\n",
    "    # Remove / leading\n",
    "    suffix = suffix.lstrip('/').rstrip()\n",
    "    full_path = \"{}/{}\".format(base, suffix)\n",
    "    return full_path\n"
   ]
  },
  {
   "cell_type": "markdown",
   "metadata": {},
   "source": [
    "## Simplify path"
   ]
  },
  {
   "cell_type": "code",
   "execution_count": null,
   "metadata": {},
   "outputs": [],
   "source": [
    "\"\"\"\n",
    "Given an absolute path for a file (Unix-style), simplify it.\n",
    "\n",
    "For example,\n",
    "path = \"/home/\", => \"/home\"\n",
    "path = \"/a/./b/../../c/\", => \"/c\"\n",
    "\n",
    "Corner Cases:\n",
    "\n",
    "Did you consider the case where path = \"/../\"?\n",
    "In this case, you should return \"/\".\n",
    "Another corner case is the path might contain multiple slashes '/' together, such as \"/home//foo/\".\n",
    "In this case, you should ignore redundant slashes and return \"/home/foo\".\n",
    "\n",
    "\"\"\""
   ]
  },
  {
   "cell_type": "code",
   "execution_count": null,
   "metadata": {},
   "outputs": [],
   "source": [
    "import os"
   ]
  },
  {
   "cell_type": "code",
   "execution_count": null,
   "metadata": {},
   "outputs": [],
   "source": [
    "# Reference: https://leetcode.com/problems/simplify-path/description/\n",
    "\n",
    "def simplify_path_v1(path):\n",
    "    return os.path.abspath(path)\n",
    "\n",
    "def simplify_path_v2(path):\n",
    "    stack, tokens = [], path.split(\"/\")\n",
    "    for token in tokens:\n",
    "        if token == \"..\" and stack:\n",
    "            stack.pop()\n",
    "        elif token != \"..\" and token != \".\" and token:\n",
    "            stack.append(token)\n",
    "    return \"/\" + \"/\".join(stack)"
   ]
  },
  {
   "cell_type": "markdown",
   "metadata": {},
   "source": [
    "## Split"
   ]
  },
  {
   "cell_type": "code",
   "execution_count": null,
   "metadata": {},
   "outputs": [],
   "source": [
    "\"\"\"\n",
    "Splitting a path into 2 parts\n",
    "Example:\n",
    "Input: https://algorithms/unix/test.py   (for url)\n",
    "Output:\n",
    "    part[0]: https://algorithms/unix\n",
    "    part[1]: test.py\n",
    "\n",
    "Input: algorithms/unix/test.py          (for file path)\n",
    "Output:\n",
    "    part[0]: algorithms/unix\n",
    "    part[1]: test.py\n",
    "\"\"\""
   ]
  },
  {
   "cell_type": "code",
   "execution_count": null,
   "metadata": {},
   "outputs": [],
   "source": [
    "import os"
   ]
  },
  {
   "cell_type": "code",
   "execution_count": null,
   "metadata": {},
   "outputs": [],
   "source": [
    "def split(path):\n",
    "    parts = []\n",
    "    split_part = path.rpartition('/')\n",
    "    # Takt the origin path without the last part\n",
    "    parts.append(split_part[0])\n",
    "    # Take the last element of list\n",
    "    parts.append(split_part[2])\n",
    "    return parts"
   ]
  }
 ],
 "metadata": {
  "kernelspec": {
   "display_name": "Python 3",
   "language": "python",
   "name": "python3"
  },
  "language_info": {
   "name": "python",
   "version": "3.12.4"
  }
 },
 "nbformat": 4,
 "nbformat_minor": 2
}
