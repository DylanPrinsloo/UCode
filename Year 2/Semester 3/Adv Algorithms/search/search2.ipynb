{
 "cells": [
  {
   "cell_type": "code",
   "execution_count": null,
   "metadata": {},
   "outputs": [],
   "source": [
    "# Collection of search algorithms: finding the needle in a haystack.\n",
    "\n",
    "from .binary_search import *\n",
    "from .ternary_search import *\n",
    "from .first_occurrence import *\n",
    "from .last_occurrence import *\n",
    "from .linear_search import *\n",
    "from .search_insert import *\n",
    "from .two_sum import *\n",
    "from .search_range import *\n",
    "from .find_min_rotate import *\n",
    "from .search_rotate import *\n",
    "from .jump_search import *\n",
    "from .next_greatest_letter import *\n",
    "from .interpolation_search import *\n"
   ]
  },
  {
   "cell_type": "markdown",
   "metadata": {},
   "source": [
    "## Interpolation Search algorithm"
   ]
  },
  {
   "cell_type": "code",
   "execution_count": null,
   "metadata": {},
   "outputs": [],
   "source": [
    "\"\"\"\n",
    "Given a sorted array in increasing order, interpolation search calculates\n",
    "the starting point of its search according to the search key.\n",
    "\n",
    "FORMULA: start_pos = low + [ (x - arr[low])*(high - low) / (arr[high] - arr[low]) ]\n",
    "\n",
    "Doc: https://en.wikipedia.org/wiki/Interpolation_search\n",
    "\n",
    "Time Complexity: O(log2(log2 n)) for average cases, O(n) for the worst case.\n",
    "The algorithm performs best with uniformly distributed arrays.\n",
    "\"\"\""
   ]
  },
  {
   "cell_type": "code",
   "execution_count": null,
   "metadata": {},
   "outputs": [],
   "source": [
    "from typing import List"
   ]
  },
  {
   "cell_type": "code",
   "execution_count": null,
   "metadata": {},
   "outputs": [],
   "source": [
    "def interpolation_search(array: List[int], search_key: int) -> int:\n",
    "    \"\"\"\n",
    "    :param array: The array to be searched.\n",
    "    :param search_key: The key to be searched in the array.\n",
    "\n",
    "    :returns: Index of search_key in array if found, else -1.\n",
    "\n",
    "    Examples:\n",
    "\n",
    "    >>> interpolation_search([-25, -12, -1, 10, 12, 15, 20, 41, 55], -1)\n",
    "    2\n",
    "    >>> interpolation_search([5, 10, 12, 14, 17, 20, 21], 55)\n",
    "    -1\n",
    "    >>> interpolation_search([5, 10, 12, 14, 17, 20, 21], -5)\n",
    "    -1\n",
    "\n",
    "    \"\"\"\n",
    "\n",
    "    # highest and lowest index in array\n",
    "    high = len(array) - 1\n",
    "    low = 0\n",
    "\n",
    "    while (low <= high) and (array[low] <= search_key <= array[high]):\n",
    "        # calculate the search position\n",
    "        pos = low + int(((search_key - array[low]) *\n",
    "                         (high - low) / (array[high] - array[low])))\n",
    "\n",
    "        # search_key is found\n",
    "        if array[pos] == search_key:\n",
    "            return pos\n",
    "\n",
    "        # if search_key is larger, search_key is in upper part\n",
    "        if array[pos] < search_key:\n",
    "            low = pos + 1\n",
    "\n",
    "        # if search_key is smaller, search_key is in lower part\n",
    "        else:\n",
    "            high = pos - 1\n",
    "\n",
    "    return -1\n",
    "\n",
    "\n",
    "if __name__ == \"__main__\":\n",
    "    import doctest\n",
    "    doctest.testmod()"
   ]
  },
  {
   "cell_type": "markdown",
   "metadata": {},
   "source": [
    "## Jump Search"
   ]
  },
  {
   "cell_type": "code",
   "execution_count": null,
   "metadata": {},
   "outputs": [],
   "source": [
    "# Find an element in a sorted array."
   ]
  },
  {
   "cell_type": "code",
   "execution_count": null,
   "metadata": {},
   "outputs": [],
   "source": [
    "import math"
   ]
  },
  {
   "cell_type": "code",
   "execution_count": null,
   "metadata": {},
   "outputs": [],
   "source": [
    "def jump_search(arr,target):\n",
    "    \"\"\"\n",
    "    Worst-case Complexity: O(√n) (root(n))\n",
    "    All items in list must be sorted like binary search\n",
    "\n",
    "    Find block that contains target value and search it linearly in that block\n",
    "    It returns a first target value in array\n",
    "\n",
    "    reference: https://en.wikipedia.org/wiki/Jump_search\n",
    "    \"\"\"\n",
    "\n",
    "    length = len(arr)\n",
    "    block_size = int(math.sqrt(length))\n",
    "    block_prev = 0\n",
    "    block= block_size\n",
    "\n",
    "    # return -1 means that array doesn't contain target value\n",
    "    # find block that contains target value\n",
    "\n",
    "    if arr[length - 1] < target:\n",
    "        return -1\n",
    "    while block <= length and arr[block - 1] < target:\n",
    "        block_prev = block\n",
    "        block += block_size\n",
    "\n",
    "    # find target value in block\n",
    "\n",
    "    while arr[block_prev] < target :\n",
    "        block_prev += 1\n",
    "        if block_prev == min(block, length) :\n",
    "            return -1\n",
    "\n",
    "    # if there is target value in array, return it\n",
    "\n",
    "    if arr[block_prev] == target :\n",
    "        return block_prev\n",
    "    return -1"
   ]
  },
  {
   "cell_type": "markdown",
   "metadata": {},
   "source": [
    "## last occurance"
   ]
  },
  {
   "cell_type": "code",
   "execution_count": null,
   "metadata": {},
   "outputs": [],
   "source": [
    "\"\"\"\n",
    "Find last occurance of a number in a sorted array (increasing order)\n",
    "Approach- Binary Search\n",
    "T(n)- O(log n)\n",
    "\"\"\""
   ]
  },
  {
   "cell_type": "code",
   "execution_count": null,
   "metadata": {},
   "outputs": [],
   "source": [
    "def last_occurrence(array, query):\n",
    "    \"\"\"\n",
    "    Returns the index of the last occurance of the given element in an array.\n",
    "    The array has to be sorted in increasing order.\n",
    "    \"\"\"\n",
    "    low, high = 0, len(array) - 1\n",
    "    while low <= high:\n",
    "        mid = (high + low) // 2\n",
    "        if (array[mid] == query and mid == len(array)-1) or \\\n",
    "           (array[mid] == query and array[mid+1] > query):\n",
    "            return mid\n",
    "        if array[mid] <= query:\n",
    "            low = mid + 1\n",
    "        else:\n",
    "            high = mid - 1"
   ]
  },
  {
   "cell_type": "markdown",
   "metadata": {},
   "source": [
    "## Linear search"
   ]
  },
  {
   "cell_type": "code",
   "execution_count": null,
   "metadata": {},
   "outputs": [],
   "source": [
    "\"\"\"\n",
    "Linear search works in any array.\n",
    "T(n): O(n)\n",
    "\"\"\""
   ]
  },
  {
   "cell_type": "code",
   "execution_count": null,
   "metadata": {},
   "outputs": [],
   "source": [
    "def linear_search(array, query):\n",
    "    \"\"\"\n",
    "    Find the index of the given element in the array.\n",
    "    There are no restrictions on the order of the elements in the array.\n",
    "    If the element couldn't be found, returns -1.\n",
    "    \"\"\"\n",
    "    for i, value in enumerate(array):\n",
    "        if value == query:\n",
    "            return i\n",
    "    return -1\n"
   ]
  },
  {
   "cell_type": "markdown",
   "metadata": {},
   "source": [
    "## Find Smallest Letter Greater Than Target"
   ]
  },
  {
   "cell_type": "markdown",
   "metadata": {},
   "source": []
  },
  {
   "cell_type": "code",
   "execution_count": null,
   "metadata": {},
   "outputs": [],
   "source": [
    "# using the bisect library\n",
    "import bisect"
   ]
  },
  {
   "cell_type": "code",
   "execution_count": null,
   "metadata": {},
   "outputs": [],
   "source": [
    "# Reference: https://leetcode.com/problems/find-smallest-letter-greater-than-target/description/"
   ]
  },
  {
   "cell_type": "code",
   "execution_count": null,
   "metadata": {},
   "outputs": [],
   "source": [
    "def next_greatest_letter(letters, target):\n",
    "    \"\"\"\n",
    "    Finds the smallest letter greater than the target using the bisect library.\n",
    "    \n",
    "    Args:\n",
    "        letters (list): A sorted list of letters.\n",
    "        target (str): The target letter.\n",
    "    \n",
    "    Returns:\n",
    "        str: The smallest letter greater than the target, wrapping around if necessary.\n",
    "    \"\"\"\n",
    "    index = bisect.bisect(letters, target)  # Find the insertion point of the target\n",
    "    return letters[index % len(letters)]  # Return the letter at index or wrap around\n"
   ]
  },
  {
   "cell_type": "markdown",
   "metadata": {},
   "source": [
    "#### Binary Search (O(log N) Complexity)"
   ]
  },
  {
   "cell_type": "code",
   "execution_count": null,
   "metadata": {},
   "outputs": [],
   "source": [
    "def next_greatest_letter_v1(letters, target):\n",
    "    \"\"\"\n",
    "    Finds the smallest letter greater than the target using binary search.\n",
    "    \n",
    "    Args:\n",
    "        letters (list): A sorted list of letters.\n",
    "        target (str): The target letter.\n",
    "    \n",
    "    Returns:\n",
    "        str: The smallest letter greater than the target, wrapping around if necessary.\n",
    "    \"\"\"\n",
    "    if letters[0] > target:  # Edge case: smallest letter is greater than target\n",
    "        return letters[0]\n",
    "    if letters[-1] <= target:  # Edge case: target is larger than the largest letter\n",
    "        return letters[0]\n",
    "    \n",
    "    left, right = 0, len(letters) - 1  # Set initial bounds\n",
    "    while left <= right:\n",
    "        mid = left + (right - left) // 2  # Calculate middle index\n",
    "        \n",
    "        if letters[mid] > target:\n",
    "            right = mid - 1  # Narrow search to left half\n",
    "        else:\n",
    "            left = mid + 1  # Narrow search to right half\n",
    "    \n",
    "    return letters[left]  # Return the smallest letter greater than the target\n"
   ]
  },
  {
   "cell_type": "markdown",
   "metadata": {},
   "source": [
    "#### Brute Force (O(N) Complexity)"
   ]
  },
  {
   "cell_type": "code",
   "execution_count": null,
   "metadata": {},
   "outputs": [],
   "source": [
    "def next_greatest_letter_v2(letters, target):\n",
    "    \"\"\"\n",
    "    Finds the smallest letter greater than the target using a brute force approach.\n",
    "    \n",
    "    Args:\n",
    "        letters (list): A sorted list of letters.\n",
    "        target (str): The target letter.\n",
    "    \n",
    "    Returns:\n",
    "        str: The smallest letter greater than the target, wrapping around if necessary.\n",
    "    \"\"\"\n",
    "    for index in letters:  # Iterate through the list\n",
    "        if index > target:  # Return the first letter greater than the target\n",
    "            return index\n",
    "    return letters[0]  # If no letter is greater, return the first letter (wrap-around)\n"
   ]
  },
  {
   "cell_type": "code",
   "execution_count": null,
   "metadata": {},
   "outputs": [],
   "source": [
    "'''\n",
    "Input:\n",
    "letters = [\"c\", \"f\", \"j\"]\n",
    "target = \"a\"\n",
    "Output: \"c\"\n",
    "\n",
    "Input:\n",
    "letters = [\"c\", \"f\", \"j\"]\n",
    "target = \"c\"\n",
    "Output: \"f\"\n",
    "\n",
    "Input:\n",
    "letters = [\"c\", \"f\", \"j\"]\n",
    "target = \"d\"\n",
    "Output: \"f\"\n",
    "'''"
   ]
  }
 ],
 "metadata": {
  "kernelspec": {
   "display_name": "Python 3",
   "language": "python",
   "name": "python3"
  },
  "language_info": {
   "name": "python",
   "version": "3.12.4"
  }
 },
 "nbformat": 4,
 "nbformat_minor": 2
}
