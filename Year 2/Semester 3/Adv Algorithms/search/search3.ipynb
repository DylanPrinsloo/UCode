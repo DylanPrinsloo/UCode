{
 "cells": [
  {
   "cell_type": "code",
   "execution_count": null,
   "metadata": {},
   "outputs": [],
   "source": [
    "# Collection of search algorithms: finding the needle in a haystack.\n",
    "\n",
    "from .binary_search import *\n",
    "from .ternary_search import *\n",
    "from .first_occurrence import *\n",
    "from .last_occurrence import *\n",
    "from .linear_search import *\n",
    "from .search_insert import *\n",
    "from .two_sum import *\n",
    "from .search_range import *\n",
    "from .find_min_rotate import *\n",
    "from .search_rotate import *\n",
    "from .jump_search import *\n",
    "from .next_greatest_letter import *\n",
    "from .interpolation_search import *"
   ]
  },
  {
   "cell_type": "markdown",
   "metadata": {},
   "source": [
    "## insertion sort"
   ]
  },
  {
   "cell_type": "markdown",
   "metadata": {},
   "source": [
    "\n",
    "#### Helper methods for implementing insertion sort.\n"
   ]
  },
  {
   "cell_type": "code",
   "execution_count": null,
   "metadata": {},
   "outputs": [],
   "source": [
    "\"\"\"\n",
    "Given a sorted array and a target value, return the index if the target is\n",
    "found. If not, return the index where it would be if it were inserted in order.\n",
    "\n",
    "For example:\n",
    "[1,3,5,6], 5 -> 2\n",
    "[1,3,5,6], 2 -> 1\n",
    "[1,3,5,6], 7 -> 4\n",
    "[1,3,5,6], 0 -> 0\n",
    "\"\"\""
   ]
  },
  {
   "cell_type": "code",
   "execution_count": null,
   "metadata": {},
   "outputs": [],
   "source": [
    "def search_insert(array, val):\n",
    "   \n",
    "    low = 0\n",
    "    high = len(array) - 1\n",
    "    while low <=  high:\n",
    "        mid = low + (high - low) // 2\n",
    "        if val > array[mid]:\n",
    "            low = mid + 1\n",
    "        else:\n",
    "            high = mid - 1\n",
    "    return low\n"
   ]
  },
  {
   "cell_type": "markdown",
   "metadata": {},
   "source": [
    "## Find Starting and Ending Position of Target in a Sorted Array"
   ]
  },
  {
   "cell_type": "code",
   "execution_count": null,
   "metadata": {},
   "outputs": [],
   "source": [
    "\"\"\"\n",
    "Given an array of integers nums sorted in ascending order, find the starting\n",
    "and ending position of a given target value. If the target is not found in the\n",
    "array, return [-1, -1].\n",
    "\n",
    "For example:\n",
    "Input: nums = [5,7,7,8,8,8,10], target = 8\n",
    "Output: [3,5]\n",
    "Input: nums = [5,7,7,8,8,8,10], target = 11\n",
    "Output: [-1,-1]\n",
    "\"\"\""
   ]
  },
  {
   "cell_type": "code",
   "execution_count": null,
   "metadata": {},
   "outputs": [],
   "source": [
    "def search_range(nums, target):\n",
    "    \"\"\"\n",
    "    Finds the starting and ending position of the target value in a sorted array.\n",
    "    \n",
    "    Args:\n",
    "        nums (list): A sorted list of integers.\n",
    "        target (int): The target value to search for.\n",
    "    \n",
    "    Returns:\n",
    "        list: A list containing the starting and ending index of the target; [-1, -1] if not found.\n",
    "    \"\"\"\n",
    "    low = 0\n",
    "    high = len(nums) - 1  # Set initial bounds\n",
    "    \n",
    "    # Binary search to find the first occurrence of the target\n",
    "    while low < high:\n",
    "        mid = low + (high - low) // 2  # Calculate the middle index\n",
    "        if target <= nums[mid]:\n",
    "            high = mid  # Narrow search to the left half\n",
    "        else:\n",
    "            low = mid + 1  # Narrow search to the right half\n",
    "    \n",
    "    # Check if the element found at low index matches the target\n",
    "    if nums[low] != target:\n",
    "        return [-1, -1]  # If not found, return [-1, -1]\n",
    "\n",
    "    # Linear search for the last occurrence of the target\n",
    "    for j in range(len(nums) - 1, -1, -1):  # Traverse from the end\n",
    "        if nums[j] == target:  # Check for the last occurrence\n",
    "            return [low, j]  # Return the first and last index of the target\n",
    "    \n",
    "    return [-1, -1]  # Return [-1, -1] if target is not found\n"
   ]
  },
  {
   "cell_type": "markdown",
   "metadata": {},
   "source": [
    "##  Iterative and Recursive Functions to Search in Rotated Sorted Array"
   ]
  },
  {
   "cell_type": "code",
   "execution_count": null,
   "metadata": {},
   "outputs": [],
   "source": [
    "\"\"\"\n",
    "Search in Rotated Sorted Array\n",
    "Suppose an array sorted in ascending order is rotated at some pivot unknown\n",
    "to you beforehand. (i.e., [0,1,2,4,5,6,7] might become [4,5,6,7,0,1,2]).\n",
    "\n",
    "You are given a target value to search. If found in the array return its index,\n",
    "otherwise return -1.\n",
    "\n",
    "Your algorithm's runtime complexity must be in the order of O(log n).\n",
    "---------------------------------------------------------------------------------\n",
    "Explanation algorithm:\n",
    "\n",
    "In classic binary search, we compare val with the midpoint to figure out if\n",
    "val belongs on the low or the high side. The complication here is that the\n",
    "array is rotated and may have an inflection point. Consider, for example:\n",
    "\n",
    "Array1: [10, 15, 20, 0, 5]\n",
    "Array2: [50, 5, 20, 30, 40]\n",
    "\n",
    "Note that both arrays have a midpoint of 20, but 5 appears on the left side of\n",
    "one and on the right side of the other. Therefore, comparing val with the\n",
    "midpoint is insufficient.\n",
    "\n",
    "However, if we look a bit deeper, we can see that one half of the array must be\n",
    "ordered normally(increasing order). We can therefore look at the normally ordered\n",
    "half to determine whether we should search the low or hight side.\n",
    "\n",
    "For example, if we are searching for 5 in Array1, we can look at the left element (10)\n",
    "and middle element (20). Since 10 < 20, the left half must be ordered normally. And, since 5\n",
    "is not between those, we know that we must search the right half\n",
    "\n",
    "In array2, we can see that since 50 > 20, the right half must be ordered normally. We turn to\n",
    "the middle 20, and right 40 element to check if 5 would fall between them. The value 5 would not\n",
    "Therefore, we search the left half.\n",
    "\n",
    "There are 2 possible solution: iterative and recursion.\n",
    "Recursion helps you understand better the above algorithm explanation\n",
    "\"\"\""
   ]
  },
  {
   "cell_type": "markdown",
   "metadata": {},
   "source": [
    "#### Iterative Function to Search in Rotated Sorted Array"
   ]
  },
  {
   "cell_type": "code",
   "execution_count": null,
   "metadata": {},
   "outputs": [],
   "source": [
    "def search_rotate(array, val):\n",
    "    \"\"\"\n",
    "    Finds the index of the target value in a rotated sorted array using an iterative approach.\n",
    "    \n",
    "    Args:\n",
    "        array (list): A rotated sorted array.\n",
    "        val (int): The target value to search for.\n",
    "    \n",
    "    Returns:\n",
    "        int: The index of the target value if found, otherwise -1.\n",
    "    \"\"\"\n",
    "    low, high = 0, len(array) - 1  # Set initial search bounds\n",
    "\n",
    "    while low <= high:\n",
    "        mid = (low + high) // 2  # Calculate middle index\n",
    "        \n",
    "        # If the target is found at the middle index, return the index\n",
    "        if val == array[mid]:\n",
    "            return mid\n",
    "        \n",
    "        # Determine if the left half is normally ordered\n",
    "        if array[low] <= array[mid]:\n",
    "            # If the target lies within the normally ordered left half, adjust the bounds to search there\n",
    "            if array[low] <= val <= array[mid]:\n",
    "                high = mid - 1  # Search left\n",
    "            else:\n",
    "                low = mid + 1  # Search right\n",
    "        # Otherwise, the right half must be normally ordered\n",
    "        else:\n",
    "            # If the target lies within the normally ordered right half, adjust the bounds to search there\n",
    "            if array[mid] <= val <= array[high]:\n",
    "                low = mid + 1  # Search right\n",
    "            else:\n",
    "                high = mid - 1  # Search left\n",
    "    \n",
    "    return -1  # Return -1 if target is not found\n"
   ]
  },
  {
   "cell_type": "markdown",
   "metadata": {},
   "source": [
    "#### Recursive Function to Search in Rotated Sorted Array"
   ]
  },
  {
   "cell_type": "code",
   "execution_count": null,
   "metadata": {},
   "outputs": [],
   "source": [
    "def search_rotate_recur(array, low, high, val):\n",
    "    \"\"\"\n",
    "    Finds the index of the target value in a rotated sorted array using a recursive approach.\n",
    "    \n",
    "    Args:\n",
    "        array (list): A rotated sorted array.\n",
    "        low (int): The starting index of the current search range.\n",
    "        high (int): The ending index of the current search range.\n",
    "        val (int): The target value to search for.\n",
    "    \n",
    "    Returns:\n",
    "        int: The index of the target value if found, otherwise -1.\n",
    "    \"\"\"\n",
    "    if low > high:  # Base case: if the search range becomes invalid\n",
    "        return -1\n",
    "    \n",
    "    mid = (low + high) // 2  # Calculate middle index\n",
    "    \n",
    "    # If the target is found at the middle index, return the index\n",
    "    if val == array[mid]:\n",
    "        return mid\n",
    "    \n",
    "    # Check if the left half is normally ordered\n",
    "    if array[low] <= array[mid]:\n",
    "        # If the target lies within the left half, search recursively in the left half\n",
    "        if array[low] <= val <= array[mid]:\n",
    "            return search_rotate_recur(array, low, mid - 1, val)\n",
    "        # Otherwise, search recursively in the right half\n",
    "        return search_rotate_recur(array, mid + 1, high, val)\n",
    "    \n",
    "    # If the right half is normally ordered, check if the target lies within it\n",
    "    if array[mid] <= val <= array[high]:\n",
    "        return search_rotate_recur(array, mid + 1, high, val)\n",
    "    \n",
    "    # If not, search recursively in the left half\n",
    "    return search_rotate_recur(array, low, mid - 1, val)\n"
   ]
  }
 ],
 "metadata": {
  "kernelspec": {
   "display_name": "Python 3",
   "language": "python",
   "name": "python3"
  },
  "language_info": {
   "name": "python",
   "version": "3.12.4"
  }
 },
 "nbformat": 4,
 "nbformat_minor": 2
}
