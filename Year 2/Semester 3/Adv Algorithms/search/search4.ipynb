{
 "cells": [
  {
   "cell_type": "code",
   "execution_count": null,
   "metadata": {},
   "outputs": [],
   "source": [
    "# Collection of search algorithms: finding the needle in a haystack.\n",
    "\n",
    "from .binary_search import *\n",
    "from .ternary_search import *\n",
    "from .first_occurrence import *\n",
    "from .last_occurrence import *\n",
    "from .linear_search import *\n",
    "from .search_insert import *\n",
    "from .two_sum import *\n",
    "from .search_range import *\n",
    "from .find_min_rotate import *\n",
    "from .search_rotate import *\n",
    "from .jump_search import *\n",
    "from .next_greatest_letter import *\n",
    "from .interpolation_search import *"
   ]
  },
  {
   "cell_type": "markdown",
   "metadata": {},
   "source": [
    "## Ternary Search "
   ]
  },
  {
   "cell_type": "code",
   "execution_count": null,
   "metadata": {},
   "outputs": [],
   "source": [
    "\"\"\"\n",
    "Ternary search is a divide and conquer algorithm that can be used to find an element in an array.\n",
    "It is similar to binary search where we divide the array into two parts but in this algorithm,\n",
    "we divide the given array into three parts and determine which has the key (searched element).\n",
    "We can divide the array into three parts by taking mid1 and mid2.\n",
    "Initially, l and r will be equal to 0 and n-1 respectively, where n is the length of the array.\n",
    "mid1 = l + (r-l)/3\n",
    "mid2 = r – (r-l)/3\n",
    "\n",
    "Note: Array needs to be sorted to perform ternary search on it.\n",
    "T(N) = O(log3(N))\n",
    "log3 = log base 3\n",
    "\"\"\""
   ]
  },
  {
   "cell_type": "code",
   "execution_count": null,
   "metadata": {},
   "outputs": [],
   "source": [
    "def ternary_search(left, right, key, arr):\n",
    "    \"\"\"\n",
    "    Find the given value (key) in an array sorted in ascending order.\n",
    "    Returns the index of the value if found, and -1 otherwise.\n",
    "    If the index is not in the range left..right (ie. left <= index < right) returns -1.\n",
    "    \"\"\"\n",
    "\n",
    "    while right >= left:\n",
    "        mid1 = left + (right-left) // 3\n",
    "        mid2 = right - (right-left) // 3\n",
    "\n",
    "        if key == arr[mid1]:\n",
    "            return mid1\n",
    "        if key == mid2:\n",
    "            return mid2\n",
    "\n",
    "        if key < arr[mid1]:\n",
    "            # key lies between l and mid1\n",
    "            right = mid1 - 1\n",
    "        elif key > arr[mid2]:\n",
    "            # key lies between mid2 and r\n",
    "            left = mid2 + 1\n",
    "        else:\n",
    "            # key lies between mid1 and mid2\n",
    "            left = mid1 + 1\n",
    "            right = mid2 - 1\n",
    "\n",
    "    # key not found\n",
    "    return -1"
   ]
  },
  {
   "cell_type": "markdown",
   "metadata": {},
   "source": [
    "## Finding Two Numbers That Add Up to a Target"
   ]
  },
  {
   "cell_type": "code",
   "execution_count": null,
   "metadata": {},
   "outputs": [],
   "source": [
    "\"\"\"\n",
    "Given an array of integers that is already sorted in ascending order, find two\n",
    "numbers such that they add up to a specific target number. The function two_sum\n",
    "should return indices of the two numbers such that they add up to the target,\n",
    "where index1 must be less than index2. Please note that your returned answers\n",
    "(both index1 and index2) are not zero-based.\n",
    "You may assume that each input would have exactly one solution and you\n",
    "may not use the same element twice.\n",
    "\n",
    "Input: numbers = [2, 7, 11, 15], target=9\n",
    "Output: index1 = 1, index2 = 2\n",
    "\n",
    "Solution:\n",
    "two_sum: using binary search\n",
    "two_sum1: using dictionary as a hash table\n",
    "two_sum2: using two pointers\n",
    "\"\"\""
   ]
  },
  {
   "cell_type": "markdown",
   "metadata": {},
   "source": [
    "#### Two Sum Using Binary Search"
   ]
  },
  {
   "cell_type": "code",
   "execution_count": null,
   "metadata": {},
   "outputs": [],
   "source": [
    "def two_sum(numbers, target):\n",
    "    \"\"\"\n",
    "    Finds the indices of two numbers in a sorted array that add up to a specific target.\n",
    "    \n",
    "    Args:\n",
    "        numbers (list): A list of integers sorted in ascending order.\n",
    "        target (int): The target sum of two numbers.\n",
    "    \n",
    "    Returns:\n",
    "        list: A list containing the 1-based indices of the two numbers.\n",
    "    \"\"\"\n",
    "    for i, number in enumerate(numbers):\n",
    "        second_val = target - number  # Calculate the value needed to reach the target\n",
    "        low, high = i + 1, len(numbers) - 1  # Set the search range for binary search\n",
    "        \n",
    "        while low <= high:\n",
    "            mid = low + (high - low) // 2  # Calculate the midpoint\n",
    "            if second_val == numbers[mid]:  # Check if the midpoint value is the second number\n",
    "                return [i + 1, mid + 1]  # Return the 1-based indices\n",
    "\n",
    "            if second_val > numbers[mid]:\n",
    "                low = mid + 1  # Adjust search to the right half\n",
    "            else:\n",
    "                high = mid - 1  # Adjust search to the left half\n",
    "    \n",
    "    return None  # Return None if no solution found\n"
   ]
  },
  {
   "cell_type": "markdown",
   "metadata": {},
   "source": [
    "#### Two Sum Using a Hash Table"
   ]
  },
  {
   "cell_type": "code",
   "execution_count": null,
   "metadata": {},
   "outputs": [],
   "source": [
    "def two_sum1(numbers, target):\n",
    "    \"\"\"\n",
    "    Finds the indices of two numbers in a list that add up to a specific target using a hash table.\n",
    "    \n",
    "    Args:\n",
    "        numbers (list): A list of integers.\n",
    "        target (int): The target sum of two numbers.\n",
    "    \n",
    "    Returns:\n",
    "        list: A list containing the 1-based indices of the two numbers.\n",
    "    \"\"\"\n",
    "    dic = {}  # Create a hash table to store the values and their indices\n",
    "    \n",
    "    for i, num in enumerate(numbers):\n",
    "        if target - num in dic:  # Check if the complement exists in the hash table\n",
    "            return [dic[target - num] + 1, i + 1]  # Return the indices if found\n",
    "        \n",
    "        dic[num] = i  # Store the current number's index in the hash table\n",
    "    \n",
    "    return None  # Return None if no solution found\n"
   ]
  },
  {
   "cell_type": "markdown",
   "metadata": {},
   "source": [
    "#### Two Sum Using Two Pointers"
   ]
  },
  {
   "cell_type": "code",
   "execution_count": null,
   "metadata": {},
   "outputs": [],
   "source": [
    "def two_sum2(numbers, target):\n",
    "    \"\"\"\n",
    "    Finds the indices of two numbers in a sorted list that add up to a specific target using a two-pointer approach.\n",
    "    \n",
    "    Args:\n",
    "        numbers (list): A list of integers sorted in ascending order.\n",
    "        target (int): The target sum of two numbers.\n",
    "    \n",
    "    Returns:\n",
    "        list: A list containing the 1-based indices of the two numbers.\n",
    "    \"\"\"\n",
    "    left = 0  # Pointer starting from the beginning of the array\n",
    "    right = len(numbers) - 1  # Pointer starting from the end of the array\n",
    "    \n",
    "    while left < right:\n",
    "        current_sum = numbers[left] + numbers[right]  # Calculate the current sum of both pointers\n",
    "        \n",
    "        if current_sum == target:\n",
    "            return [left + 1, right + 1]  # Return the indices if the target is met\n",
    "        \n",
    "        if current_sum > target:\n",
    "            right -= 1  # Move the right pointer to decrease the sum\n",
    "        else:\n",
    "            left += 1  # Move the left pointer to increase the sum\n"
   ]
  }
 ],
 "metadata": {
  "kernelspec": {
   "display_name": "Python 3",
   "language": "python",
   "name": "python3"
  },
  "language_info": {
   "name": "python",
   "version": "3.12.4"
  }
 },
 "nbformat": 4,
 "nbformat_minor": 2
}
