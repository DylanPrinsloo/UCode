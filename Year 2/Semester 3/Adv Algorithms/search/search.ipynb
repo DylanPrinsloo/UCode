{
 "cells": [
  {
   "cell_type": "markdown",
   "metadata": {},
   "source": [
    "# **Search**\n",
    "Search algorithms find specific elements or structures in a dataset or a graph.\n",
    "   - **Types:** Linear Search, Binary Search, Depth-First Search, Breadth-First Search.\n",
    "   - **Applications:** Database querying, pathfinding algorithms."
   ]
  },
  {
   "cell_type": "code",
   "execution_count": null,
   "metadata": {},
   "outputs": [],
   "source": [
    "# Collection of search algorithms: finding the needle in a haystack.\n",
    "\n",
    "from .binary_search import *\n",
    "from .ternary_search import *\n",
    "from .first_occurrence import *\n",
    "from .last_occurrence import *\n",
    "from .linear_search import *\n",
    "from .search_insert import *\n",
    "from .two_sum import *\n",
    "from .search_range import *\n",
    "from .find_min_rotate import *\n",
    "from .search_rotate import *\n",
    "from .jump_search import *\n",
    "from .next_greatest_letter import *\n",
    "from .interpolation_search import *"
   ]
  },
  {
   "cell_type": "markdown",
   "metadata": {},
   "source": [
    "## Iterative and Recursive Binary Search"
   ]
  },
  {
   "cell_type": "markdown",
   "metadata": {},
   "source": [
    "#### Iterative Binary Search Function"
   ]
  },
  {
   "cell_type": "code",
   "execution_count": null,
   "metadata": {},
   "outputs": [],
   "source": [
    "# reference: https://en.wikipedia.org/wiki/Binary_search_algorithm"
   ]
  },
  {
   "cell_type": "code",
   "execution_count": null,
   "metadata": {},
   "outputs": [],
   "source": [
    "def binary_search(array, query):\n",
    "    \"\"\"\n",
    "    Performs binary search iteratively on a sorted array.\n",
    "    \n",
    "    Args:\n",
    "        array (list): The sorted array to search within.\n",
    "        query: The element to search for.\n",
    "\n",
    "    Returns:\n",
    "        int: Index of the query element if found; otherwise, None.\n",
    "        \n",
    "    Worst-case Complexity: O(log(n))\n",
    "    \"\"\"\n",
    "    low, high = 0, len(array) - 1  # Set initial low and high bounds\n",
    "    while low <= high:  # Repeat until the search space is exhausted\n",
    "        mid = (high + low) // 2  # Calculate the middle index\n",
    "        val = array[mid]  # Access the element at mid index\n",
    "\n",
    "        if val == query:\n",
    "            return mid  # Return index if the element is found\n",
    "        if val < query:\n",
    "            low = mid + 1  # Narrow search to the right half\n",
    "        else:\n",
    "            high = mid - 1  # Narrow search to the left half\n",
    "    return None  # Return None if element is not found\n"
   ]
  },
  {
   "cell_type": "markdown",
   "metadata": {},
   "source": [
    "#### Recursive Binary Search Function"
   ]
  },
  {
   "cell_type": "code",
   "execution_count": null,
   "metadata": {},
   "outputs": [],
   "source": [
    "# reference: https://en.wikipedia.org/wiki/Binary_search_algorithm"
   ]
  },
  {
   "cell_type": "code",
   "execution_count": null,
   "metadata": {},
   "outputs": [],
   "source": [
    "def binary_search_recur(array, low, high, val):\n",
    "    \"\"\"\n",
    "    Performs binary search recursively on a sorted array.\n",
    "    \n",
    "    Args:\n",
    "        array (list): The sorted array to search within.\n",
    "        low (int): The starting index of the current search range.\n",
    "        high (int): The ending index of the current search range.\n",
    "        val: The element to search for.\n",
    "\n",
    "    Returns:\n",
    "        int: Index of the query element if found; otherwise, -1.\n",
    "        \n",
    "    Worst-case Complexity: O(log(n))\n",
    "    \"\"\"\n",
    "    if low > high:  # Base case: element not found\n",
    "        return -1\n",
    "    \n",
    "    mid = low + (high - low) // 2  # Calculate mid to avoid overflow\n",
    "    if val < array[mid]:\n",
    "        return binary_search_recur(array, low, mid - 1, val)  # Recur on the left subarray\n",
    "    if val > array[mid]:\n",
    "        return binary_search_recur(array, mid + 1, high, val)  # Recur on the right subarray\n",
    "    return mid  # Element found, return index\n"
   ]
  },
  {
   "cell_type": "markdown",
   "metadata": {},
   "source": [
    "## Iterative and Recursive Functions to Find Minimum in a Rotated Sorted Array"
   ]
  },
  {
   "cell_type": "markdown",
   "metadata": {},
   "source": [
    "\n",
    "#### Iterative Function to Find Minimum in Rotated Sorted Array\n",
    "   "
   ]
  },
  {
   "cell_type": "code",
   "execution_count": null,
   "metadata": {},
   "outputs": [],
   "source": [
    "def find_min_rotate(array):\n",
    "    \"\"\"\n",
    "    Finds the minimum element in a sorted array that has been rotated using an iterative approach.\n",
    "    \n",
    "    Args:\n",
    "        array (list): The rotated sorted array.\n",
    "        \n",
    "    Returns:\n",
    "        int: The minimum element in the array.\n",
    "    \"\"\"\n",
    "    low = 0\n",
    "    high = len(array) - 1  # Set initial low and high bounds\n",
    "\n",
    "    # Iterate until the search bounds converge to the minimum element\n",
    "    while low < high:\n",
    "        mid = (low + high) // 2  # Calculate the middle index\n",
    "        \n",
    "        # Compare middle element with the element at the high index\n",
    "        if array[mid] > array[high]:\n",
    "            low = mid + 1  # Narrow search to the right half\n",
    "        else:\n",
    "            high = mid  # Narrow search to the left half or mid\n",
    "    \n",
    "    return array[low]  # The low index holds the minimum element\n"
   ]
  },
  {
   "cell_type": "markdown",
   "metadata": {},
   "source": [
    "#### Recursive Function to Find Minimum in Rotated Sorted Array"
   ]
  },
  {
   "cell_type": "code",
   "execution_count": null,
   "metadata": {},
   "outputs": [],
   "source": [
    "def find_min_rotate_recur(array, low, high):\n",
    "    \"\"\"\n",
    "    Finds the minimum element in a sorted array that has been rotated using a recursive approach.\n",
    "    \n",
    "    Args:\n",
    "        array (list): The rotated sorted array.\n",
    "        low (int): The starting index of the current search range.\n",
    "        high (int): The ending index of the current search range.\n",
    "        \n",
    "    Returns:\n",
    "        int: The minimum element in the array.\n",
    "    \"\"\"\n",
    "    mid = (low + high) // 2  # Calculate the middle index\n",
    "    \n",
    "    # Base case: when the search space is reduced to a single element\n",
    "    if mid == low:\n",
    "        return array[low]\n",
    "    \n",
    "    # Recur into the right half if mid element is greater than high element\n",
    "    if array[mid] > array[high]:\n",
    "        return find_min_rotate_recur(array, mid + 1, high)\n",
    "    \n",
    "    # Otherwise, recur into the left half\n",
    "    return find_min_rotate_recur(array, low, mid)\n"
   ]
  },
  {
   "cell_type": "markdown",
   "metadata": {},
   "source": [
    "## Find first occurance of a number in a sorted array (increasing order)"
   ]
  },
  {
   "cell_type": "code",
   "execution_count": null,
   "metadata": {},
   "outputs": [],
   "source": [
    "\"\"\"\n",
    "Approach- Binary Search\n",
    "T(n)- O(log n)\n",
    "\"\"\""
   ]
  },
  {
   "cell_type": "code",
   "execution_count": null,
   "metadata": {},
   "outputs": [],
   "source": [
    "def first_occurrence(array, query):\n",
    "    \"\"\"\n",
    "    Returns the index of the first occurance of the given element in an array.\n",
    "    The array has to be sorted in increasing order.\n",
    "    \"\"\"\n",
    "\n",
    "    low, high = 0, len(array) - 1\n",
    "    while low <= high:\n",
    "        mid = low + (high-low)//2 #Now mid will be ininteger range\n",
    "        #print(\"lo: \", lo, \" hi: \", hi, \" mid: \", mid)\n",
    "        if low == high:\n",
    "            break\n",
    "        if array[mid] < query:\n",
    "            low = mid + 1\n",
    "        else:\n",
    "            high = mid\n",
    "    if array[low] == query:\n",
    "        return low\n"
   ]
  }
 ],
 "metadata": {
  "kernelspec": {
   "display_name": "Python 3",
   "language": "python",
   "name": "python3"
  },
  "language_info": {
   "name": "python",
   "version": "3.12.4"
  }
 },
 "nbformat": 4,
 "nbformat_minor": 2
}
