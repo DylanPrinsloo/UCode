{
 "cells": [
  {
   "cell_type": "markdown",
   "metadata": {},
   "source": [
    "# **Greedy Algorithms**\n",
    "These algorithms build up a solution piece by piece, always choosing the next piece that offers the most immediate benefit, hoping this will lead to an optimal solution.\n",
    "   - **Applications:** Prim's and Kruskal's algorithms for Minimum Spanning Trees, Huffman coding."
   ]
  },
  {
   "cell_type": "code",
   "execution_count": null,
   "metadata": {},
   "outputs": [],
   "source": [
    "from .max_contiguous_subsequence_sum import *"
   ]
  },
  {
   "cell_type": "markdown",
   "metadata": {},
   "source": [
    "## Kadane's Algorithm"
   ]
  },
  {
   "cell_type": "code",
   "execution_count": null,
   "metadata": {},
   "outputs": [],
   "source": [
    "'''\n",
    "kadane's algorithm is used for finding the maximum sum of contiguous subsequence in a sequence.\n",
    "It is considered a greedy/dp algorithm but I think they more greedy than dp\n",
    "here are some of the examples to understand the use case more clearly\n",
    "\n",
    "Example1 => [-2, 3, 8, -1, 4]\n",
    "result =>  {3, 8, -1, 4} => 14\n",
    "Example2 => [-1, 1, 0]\n",
    "result => {1} => 1\n",
    "Example3 => [-1, -3, -4]\n",
    "result => -1\n",
    "Example1 => [-2, 3, 8, -12, 8, 4]\n",
    "result =>  {8, 4} => 12\n",
    "\n",
    "Basic Algorithm Idea\n",
    "If the sum of the current contiguous subsequence after adding the value at the current position is less than the value\n",
    "at the current position then we know that it will be better if we start the current contiguous subsequence from this position.\n",
    "Else we add the value at the current position to the current contiguous subsequence.\n",
    "'''"
   ]
  },
  {
   "cell_type": "code",
   "execution_count": null,
   "metadata": {},
   "outputs": [],
   "source": [
    "'''\n",
    "Note\n",
    "In the implementation, the contiguous subsequence has at least one element.\n",
    "If it can have 0 elements then the result will be max(max_till_now, 0)\n",
    "'''"
   ]
  },
  {
   "cell_type": "code",
   "execution_count": null,
   "metadata": {},
   "outputs": [],
   "source": [
    "def max_contiguous_subsequence_sum(arr) -> int:\n",
    "    arr_size = len(arr)\n",
    "\n",
    "    if arr_size == 0:\n",
    "        return 0\n",
    "\n",
    "    max_till_now = arr[0]\n",
    "    curr_sub_sum = 0\n",
    "\n",
    "    for i in range(0, arr_size):\n",
    "        if curr_sub_sum + arr[i] < arr[i]:\n",
    "            curr_sub_sum = arr[i]\n",
    "        else:\n",
    "            curr_sub_sum += arr[i]\n",
    "\n",
    "        max_till_now = max(max_till_now, curr_sub_sum)\n",
    "\n",
    "    return max_till_now"
   ]
  }
 ],
 "metadata": {
  "language_info": {
   "name": "python"
  }
 },
 "nbformat": 4,
 "nbformat_minor": 2
}
