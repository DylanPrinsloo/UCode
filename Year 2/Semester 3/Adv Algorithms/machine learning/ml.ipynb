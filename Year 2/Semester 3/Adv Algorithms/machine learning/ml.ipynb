{
 "cells": [
  {
   "cell_type": "markdown",
   "metadata": {},
   "source": [
    "# **ML (Machine Learning)**\n",
    "ML is a subset of artificial intelligence focused on building systems that can learn from and make decisions based on data.\n",
    "   - **Types:** Supervised learning, Unsupervised learning, Reinforcement learning.\n",
    "   - **Applications:** Image recognition, recommendation systems, natural language processing."
   ]
  },
  {
   "cell_type": "code",
   "execution_count": null,
   "metadata": {},
   "outputs": [],
   "source": [
    "# init"
   ]
  },
  {
   "cell_type": "markdown",
   "metadata": {},
   "source": [
    "## Nearest Neighbor Algorithm Implementation"
   ]
  },
  {
   "cell_type": "code",
   "execution_count": null,
   "metadata": {},
   "outputs": [],
   "source": [
    "import math"
   ]
  },
  {
   "cell_type": "code",
   "execution_count": null,
   "metadata": {},
   "outputs": [],
   "source": [
    "def distance(x,y):\n",
    "    \"\"\"\n",
    "    [summary]\n",
    "    HELPER-FUNCTION\n",
    "    calculates the (eulidean) distance between vector x and y.\n",
    "\n",
    "    Arguments:\n",
    "        x {[tuple]} -- [vector]\n",
    "        y {[tuple]} -- [vector]\n",
    "    \"\"\"\n",
    "    assert len(x) == len(y), \"The vector must have same length\"\n",
    "    result = ()\n",
    "    sum = 0\n",
    "    for i in range(len(x)):\n",
    "        result += (x[i] -y[i],)\n",
    "    for component in result:\n",
    "        sum += component**2\n",
    "    return math.sqrt(sum)"
   ]
  },
  {
   "cell_type": "code",
   "execution_count": null,
   "metadata": {},
   "outputs": [],
   "source": [
    "def nearest_neighbor(x, tSet):\n",
    "    \"\"\"\n",
    "    [summary]\n",
    "    Implements the nearest neighbor algorithm\n",
    "\n",
    "    Arguments:\n",
    "        x {[tupel]} -- [vector]\n",
    "        tSet {[dict]} -- [training set]\n",
    "\n",
    "    Returns:\n",
    "        [type] -- [result of the AND-function]\n",
    "    \"\"\"\n",
    "    assert isinstance(x, tuple) and isinstance(tSet, dict)\n",
    "    current_key = ()\n",
    "    min_d = float('inf')\n",
    "    for key in tSet:\n",
    "        d = distance(x, key)\n",
    "        if d < min_d:\n",
    "            min_d = d\n",
    "            current_key = key\n",
    "    return tSet[current_key]"
   ]
  },
  {
   "cell_type": "code",
   "execution_count": null,
   "metadata": {},
   "outputs": [],
   "source": [
    "# more content to be added"
   ]
  }
 ],
 "metadata": {
  "language_info": {
   "name": "python"
  }
 },
 "nbformat": 4,
 "nbformat_minor": 2
}
