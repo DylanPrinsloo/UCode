{
 "cells": [
  {
   "cell_type": "code",
   "execution_count": null,
   "metadata": {},
   "outputs": [],
   "source": [
    "# init\n",
    "from .binary_heap import *\n",
    "from .skyline import *\n",
    "from .sliding_window_max import *\n",
    "from .merge_sorted_k_lists import *\n",
    "from .k_closest_points import *"
   ]
  },
  {
   "cell_type": "markdown",
   "metadata": {},
   "source": [
    "## Min Heap or Priority Queue"
   ]
  },
  {
   "cell_type": "markdown",
   "metadata": {},
   "source": [
    "#### Merge k sorted linked lists and return it as one sorted list. Analyze and describe its complexity."
   ]
  },
  {
   "cell_type": "code",
   "execution_count": null,
   "metadata": {},
   "outputs": [],
   "source": [
    "from heapq import heappop, heapreplace, heapify\n",
    "from queue import PriorityQueue"
   ]
  },
  {
   "cell_type": "code",
   "execution_count": null,
   "metadata": {},
   "outputs": [],
   "source": [
    "# Definition for singly-linked list.\n",
    "class ListNode(object):\n",
    "    \"\"\" ListNode Class\"\"\"\n",
    "\n",
    "    def __init__(self, val):\n",
    "        self.val = val\n",
    "        self.next = None"
   ]
  },
  {
   "cell_type": "code",
   "execution_count": null,
   "metadata": {},
   "outputs": [],
   "source": [
    "\n",
    "def merge_k_lists(lists):\n",
    "    \"\"\" Merge Lists \"\"\"\n",
    "    dummy = node = ListNode(0)\n",
    "    list_h = [(n.val, n) for n in lists if n]\n",
    "    heapify(list_h)\n",
    "    while list_h:\n",
    "        _, n_val = list_h[0]\n",
    "        if n_val.next is None:\n",
    "            heappop(list_h)  # only change heap size when necessary\n",
    "        else:\n",
    "            heapreplace(list_h, (n_val.next.val, n_val.next))\n",
    "        node.next = n_val\n",
    "        node = node.next\n",
    "\n",
    "    return dummy.next"
   ]
  },
  {
   "cell_type": "code",
   "execution_count": null,
   "metadata": {},
   "outputs": [],
   "source": [
    "def merge_k_lists(lists):\n",
    "    \"\"\" Merge List \"\"\"\n",
    "    dummy = ListNode(None)\n",
    "    curr = dummy\n",
    "    q = PriorityQueue()\n",
    "    for node in lists:\n",
    "        if node:\n",
    "            q.put((node.val, node))\n",
    "    while not q.empty():\n",
    "        curr.next = q.get()[1]  # These two lines seem to\n",
    "        curr = curr.next  # be equivalent to :-   curr = q.get()[1]\n",
    "        if curr.next:\n",
    "            q.put((curr.next.val, curr.next))\n",
    "    return dummy.next"
   ]
  },
  {
   "cell_type": "code",
   "execution_count": null,
   "metadata": {},
   "outputs": [],
   "source": [
    "\"\"\"\n",
    "I think my code's complexity is also O(nlogk) and not using heap or priority queue,\n",
    "n means the total elements and k means the size of list.\n",
    "\n",
    "The mergeTwoLists function in my code comes from the problem Merge Two Sorted Lists\n",
    "whose complexity obviously is O(n), n is the sum of length of l1 and l2.\n",
    "\n",
    "To put it simpler, assume the k is 2^x, So the progress of combination is like a full binary tree,\n",
    "from bottom to top. So on every level of tree, the combination complexity is n,\n",
    "because every level have all n numbers without repetition.\n",
    "The level of tree is x, ie log k. So the complexity is O(n log k).\n",
    "\n",
    "for example, 8 ListNode, and the length of every ListNode is x1, x2,\n",
    "x3, x4, x5, x6, x7, x8, total is n.\n",
    "\n",
    "on level 3: x1+x2, x3+x4, x5+x6, x7+x8 sum: n\n",
    "\n",
    "on level 2: x1+x2+x3+x4, x5+x6+x7+x8 sum: n\n",
    "\n",
    "on level 1: x1+x2+x3+x4+x5+x6+x7+x8 sum: n\n",
    "\"\"\""
   ]
  },
  {
   "cell_type": "markdown",
   "metadata": {},
   "source": [
    "## City Skyline problem"
   ]
  },
  {
   "cell_type": "code",
   "execution_count": null,
   "metadata": {},
   "outputs": [],
   "source": [
    "\"\"\"\n",
    "A city's skyline is the outer contour of the silhouette formed by all the buildings\n",
    "in that city when viewed from a distance.\n",
    "Now suppose you are given the locations and height of all the buildings\n",
    "as shown on a cityscape photo (Figure A),\n",
    "write a program to output the skyline formed by these buildings collectively (Figure B).\n",
    "\n",
    "The geometric information of each building is represented by a triplet of integers [Li, Ri, Hi],\n",
    "where Li and Ri are the x coordinates of the left and right edge of the ith building, respectively,\n",
    "and Hi is its height. It is guaranteed that 0 ≤ Li, Ri ≤ INT_MAX, 0 < Hi ≤ INT_MAX, and Ri - Li > 0.\n",
    "You may assume all buildings are perfect rectangles grounded on an absolutely flat surface at height 0.\n",
    "\n",
    "For instance, the dimensions of all buildings in Figure A are recorded as:\n",
    "[ [2 9 10], [3 7 15], [5 12 12], [15 20 10], [19 24 8] ] .\n",
    "\n",
    "The output is a list of \"key points\" (red dots in Figure B) in the format of\n",
    "[ [x1,y1], [x2, y2], [x3, y3], ... ]\n",
    "that uniquely defines a skyline.\n",
    "A key point is the left endpoint of a horizontal line segment. Note that the last key point,\n",
    "where the rightmost building ends,\n",
    "is merely used to mark the termination of the skyline, and always has zero height.\n",
    "Also, the ground in between any two adjacent buildings should be considered part of the skyline contour.\n",
    "\n",
    "For instance, the skyline in Figure B should be represented as:[ [2 10], [3 15], [7 12], [12 0], [15 10], [20 8], [24, 0] ].\n",
    "\n",
    "Notes:\n",
    "\n",
    "The number of buildings in any input list is guaranteed to be in the range [0, 10000].\n",
    "The input list is already sorted in ascending order by the left x position Li.\n",
    "The output list must be sorted by the x position.\n",
    "There must be no consecutive horizontal lines of equal height in the output skyline. For instance,\n",
    "[...[2 3], [4 5], [7 5], [11 5], [12 7]...] is not acceptable; the three lines of height 5 should be merged\n",
    "into one in the final output as such: [...[2 3], [4 5], [12 7], ...]\n",
    "\n",
    "\"\"\""
   ]
  },
  {
   "cell_type": "code",
   "execution_count": null,
   "metadata": {},
   "outputs": [],
   "source": [
    "import heapq"
   ]
  },
  {
   "cell_type": "code",
   "execution_count": null,
   "metadata": {},
   "outputs": [],
   "source": [
    "# -*- coding: utf-8 -*-\n",
    "\n",
    "# Function to compute the skyline from the given building dimensions\n",
    "def get_skyline(lrh):\n",
    "    \"\"\"\n",
    "    Computes the skyline formed by the given list of buildings.\n",
    "    \n",
    "    Time Complexity: O(NlogN), where N is the number of buildings.\n",
    "    :param lrh: List of buildings with each building represented as [Li, Ri, Hi].\n",
    "    :return: List of key points representing the skyline.\n",
    "    \"\"\"\n",
    "    skyline, live = [], []  # `skyline` stores the final result, `live` is the heap tracking active buildings\n",
    "    i, n = 0, len(lrh)      # `i` is the index for buildings, `n` is the total number of buildings\n",
    "\n",
    "    while i < n or live:\n",
    "        # Condition: If there are no active buildings, or the next building starts before the current top of the heap\n",
    "        if not live or (i < n and lrh[i][0] <= -live[0][1]):\n",
    "            x = lrh[i][0]  # `x` is the current x-coordinate of the building\n",
    "            # Add all buildings starting at the current x-coordinate to the heap\n",
    "            while i < n and lrh[i][0] == x:\n",
    "                heapq.heappush(live, (-lrh[i][2], -lrh[i][1]))  # Use negative height for max heap\n",
    "                i += 1\n",
    "        else:\n",
    "            # Get the next x-coordinate where the building ends (top of the heap)\n",
    "            x = -live[0][1]\n",
    "            # Remove buildings from the heap that end at or before the current x-coordinate\n",
    "            while live and -live[0][1] <= x:\n",
    "                heapq.heappop(live)\n",
    "\n",
    "        # Determine the current height at x based on the active buildings in the heap\n",
    "        height = len(live) and -live[0][0]\n",
    "        # If the current height is different from the previous one, add a key point to the skyline\n",
    "        if not skyline or height != skyline[-1][1]:\n",
    "            skyline += [x, height],\n",
    "\n",
    "    return skyline\n"
   ]
  },
  {
   "cell_type": "markdown",
   "metadata": {},
   "source": [
    "## Sliding Window Maximum"
   ]
  },
  {
   "cell_type": "code",
   "execution_count": null,
   "metadata": {},
   "outputs": [],
   "source": [
    "\"\"\"\n",
    "Given an array nums, there is a sliding window of size k\n",
    "which is moving from the very left of the array to the very right.\n",
    "You can only see the k numbers in the window.\n",
    "Each time the sliding window moves right by one position.\n",
    "\n",
    "For example,\n",
    "Given nums = [1,3,-1,-3,5,3,6,7], and k = 3.\n",
    "\n",
    "Window position                Max\n",
    "---------------               -----\n",
    "[1  3  -1] -3  5  3  6  7       3\n",
    " 1 [3  -1  -3] 5  3  6  7       3\n",
    " 1  3 [-1  -3  5] 3  6  7       5\n",
    " 1  3  -1 [-3  5  3] 6  7       5\n",
    " 1  3  -1  -3 [5  3  6] 7       6\n",
    " 1  3  -1  -3  5 [3  6  7]      7\n",
    "Therefore, return the max sliding window as [3,3,5,5,6,7].\n",
    "\"\"\"\n"
   ]
  },
  {
   "cell_type": "code",
   "execution_count": null,
   "metadata": {},
   "outputs": [],
   "source": [
    "import collections"
   ]
  },
  {
   "cell_type": "code",
   "execution_count": null,
   "metadata": {},
   "outputs": [],
   "source": [
    "def max_sliding_window(nums, k):\n",
    "    \"\"\"\n",
    "    :type nums: List[int]\n",
    "    :type k: int\n",
    "    :rtype: List[int]\n",
    "    \"\"\"\n",
    "    if not nums:\n",
    "        return nums\n",
    "    queue = collections.deque()\n",
    "    res = []\n",
    "    for num in nums:\n",
    "        if len(queue) < k:\n",
    "            queue.append(num)\n",
    "        else:\n",
    "            res.append(max(queue))\n",
    "            queue.popleft()\n",
    "            queue.append(num)\n",
    "    res.append(max(queue))\n",
    "    return res\n"
   ]
  }
 ],
 "metadata": {
  "language_info": {
   "name": "python"
  }
 },
 "nbformat": 4,
 "nbformat_minor": 2
}
