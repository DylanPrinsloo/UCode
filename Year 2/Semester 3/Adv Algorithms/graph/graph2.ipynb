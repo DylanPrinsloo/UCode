{
 "cells": [
  {
   "cell_type": "code",
   "execution_count": null,
   "metadata": {},
   "outputs": [],
   "source": [
    "# Collection of algorithms on graphs.\n",
    "# init\n",
    "\n",
    "from .tarjan import *\n",
    "from .check_bipartite import *\n",
    "from .maximum_flow import *\n",
    "from .maximum_flow_bfs import *\n",
    "from .maximum_flow_dfs import *\n",
    "from .all_pairs_shortest_path import *\n",
    "from .bellman_ford import *\n",
    "from .prims_minimum_spanning import *"
   ]
  },
  {
   "cell_type": "markdown",
   "metadata": {},
   "source": [
    "## Undirected Graph using the Bron-Kerbosch Algorithm"
   ]
  },
  {
   "cell_type": "code",
   "execution_count": null,
   "metadata": {},
   "outputs": [],
   "source": [
    "\"\"\"\n",
    "Finds all cliques in an undirected graph. A clique is a set of vertices in the\n",
    "graph such that the subgraph is fully connected (ie. for any pair of nodes in\n",
    "the subgraph there is an edge between them).\n",
    "\"\"\""
   ]
  },
  {
   "cell_type": "code",
   "execution_count": null,
   "metadata": {},
   "outputs": [],
   "source": [
    "def find_all_cliques(edges):\n",
    "    \"\"\"\n",
    "    takes dict of sets\n",
    "    each key is a vertex\n",
    "    value is set of all edges connected to vertex\n",
    "    returns list of lists (each sub list is a maximal clique)\n",
    "    implementation of the basic algorithm described in:\n",
    "    Bron, Coen; Kerbosch, Joep (1973), \"Algorithm 457: finding all cliques of an undirected graph\",\n",
    "    \"\"\"\n",
    "\n",
    "    def expand_clique(candidates, nays):\n",
    "        nonlocal compsub\n",
    "        if not candidates and not nays:\n",
    "            nonlocal solutions\n",
    "            solutions.append(compsub.copy())\n",
    "        else:\n",
    "            for selected in candidates.copy():\n",
    "                candidates.remove(selected)\n",
    "                candidates_temp = get_connected(selected, candidates)\n",
    "                nays_temp = get_connected(selected, nays)\n",
    "                compsub.append(selected)\n",
    "                expand_clique(candidates_temp, nays_temp)\n",
    "                nays.add(compsub.pop())\n",
    "\n",
    "    def get_connected(vertex, old_set):\n",
    "        new_set = set()\n",
    "        for neighbor in edges[str(vertex)]:\n",
    "            if neighbor in old_set:\n",
    "                new_set.add(neighbor)\n",
    "        return new_set\n",
    "\n",
    "    compsub = []\n",
    "    solutions = []\n",
    "    possibles = set(edges.keys())\n",
    "    expand_clique(possibles, set())\n",
    "    return solutions"
   ]
  },
  {
   "cell_type": "markdown",
   "metadata": {},
   "source": [
    "## Graph Pathfinding Functions for Finding, Exploring, and Shortest Path Discovery"
   ]
  },
  {
   "cell_type": "markdown",
   "metadata": {},
   "source": [
    "#### Find a path between two nodes using recursion and backtracking."
   ]
  },
  {
   "cell_type": "code",
   "execution_count": null,
   "metadata": {},
   "outputs": [],
   "source": [
    "# pylint: disable=dangerous-default-value\n",
    "def find_path(graph, start, end, path=[]):\n",
    "    \n",
    "    path = path + [start]\n",
    "    if start == end:\n",
    "        return path\n",
    "    if not start in graph:\n",
    "        return None\n",
    "    for node in graph[start]:\n",
    "        if node not in path:\n",
    "            newpath = find_path(graph, node, end, path)\n",
    "            return newpath\n",
    "    return None"
   ]
  },
  {
   "cell_type": "markdown",
   "metadata": {},
   "source": [
    "#### Find all paths between two nodes using recursion and backtracking"
   ]
  },
  {
   "cell_type": "code",
   "execution_count": null,
   "metadata": {},
   "outputs": [],
   "source": [
    "# pylint: disable=dangerous-default-value\n",
    "def find_all_path(graph, start, end, path=[]):\n",
    "\n",
    "    path = path + [start]\n",
    "    if start == end:\n",
    "        return [path]\n",
    "    if not start in graph:\n",
    "        return []\n",
    "    paths = []\n",
    "    for node in graph[start]:\n",
    "        if node not in path:\n",
    "            newpaths = find_all_path(graph, node, end, path)\n",
    "            for newpath in newpaths:\n",
    "                paths.append(newpath)\n",
    "    return paths"
   ]
  },
  {
   "cell_type": "markdown",
   "metadata": {},
   "source": [
    "#### Find the shortest path between two nodes"
   ]
  },
  {
   "cell_type": "code",
   "execution_count": null,
   "metadata": {},
   "outputs": [],
   "source": [
    "def find_shortest_path(graph, start, end, path=[]):\n",
    "    \n",
    "    path = path + [start]\n",
    "    if start == end:\n",
    "        return path\n",
    "    if start not in graph:\n",
    "        return None\n",
    "    shortest = None\n",
    "    for node in graph[start]:\n",
    "        if node not in path:\n",
    "            newpath = find_shortest_path(graph, node, end, path)\n",
    "            if newpath:\n",
    "                if not shortest or len(newpath) < len(shortest):\n",
    "                    shortest = newpath\n",
    "    return shortest\n"
   ]
  },
  {
   "cell_type": "markdown",
   "metadata": {},
   "source": [
    "## Graph Representation Classes: Nodes, Edges, and Directed Graphs"
   ]
  },
  {
   "cell_type": "markdown",
   "metadata": {},
   "source": [
    "#### A node/vertex in a graph."
   ]
  },
  {
   "cell_type": "code",
   "execution_count": null,
   "metadata": {},
   "outputs": [],
   "source": [
    "class Node:\n",
    "  \n",
    "    def __init__(self, name):\n",
    "        self.name = name\n",
    "\n",
    "    @staticmethod\n",
    "    def get_name(obj):\n",
    "        \"\"\"\n",
    "        Return the name of the node\n",
    "        \"\"\"\n",
    "        if isinstance(obj, Node):\n",
    "            return obj.name\n",
    "        if isinstance(obj, str):\n",
    "            return obj\n",
    "        return''\n",
    "\n",
    "    def __eq__(self, obj):\n",
    "        return self.name == self.get_name(obj)\n",
    "\n",
    "    def __repr__(self):\n",
    "        return self.name\n",
    "\n",
    "    def __hash__(self):\n",
    "        return hash(self.name)\n",
    "\n",
    "    def __ne__(self, obj):\n",
    "        return self.name != self.get_name(obj)\n",
    "\n",
    "    def __lt__(self, obj):\n",
    "        return self.name < self.get_name(obj)\n",
    "\n",
    "    def __le__(self, obj):\n",
    "        return self.name <= self.get_name(obj)\n",
    "\n",
    "    def __gt__(self, obj):\n",
    "        return self.name > self.get_name(obj)\n",
    "\n",
    "    def __ge__(self, obj):\n",
    "        return self.name >= self.get_name(obj)\n",
    "\n",
    "    def __bool__(self):\n",
    "        return self.name"
   ]
  },
  {
   "cell_type": "markdown",
   "metadata": {},
   "source": [
    "####  A directed edge in a directed graph. Stores the source and target node of the edge."
   ]
  },
  {
   "cell_type": "code",
   "execution_count": null,
   "metadata": {},
   "outputs": [],
   "source": [
    "class DirectedEdge:\n",
    "    \n",
    "    def __init__(self, node_from, node_to):\n",
    "        self.source = node_from\n",
    "        self.target = node_to\n",
    "\n",
    "    def __eq__(self, obj):\n",
    "        if isinstance(obj, DirectedEdge):\n",
    "            return obj.source == self.source and obj.target == self.target\n",
    "        return False\n",
    "\n",
    "    def __repr__(self):\n",
    "        return f\"({self.source} -> {self.target})\""
   ]
  },
  {
   "cell_type": "markdown",
   "metadata": {},
   "source": [
    "#### A directed graph. Stores a set of nodes, edges and adjacency matrix."
   ]
  },
  {
   "cell_type": "code",
   "execution_count": null,
   "metadata": {},
   "outputs": [],
   "source": [
    "class DirectedGraph:\n",
    "   \n",
    "    # pylint: disable=dangerous-default-value\n",
    "    def __init__(self, load_dict={}):\n",
    "        self.nodes = []\n",
    "        self.edges = []\n",
    "        self.adjacency_list = {}\n",
    "\n",
    "        if load_dict and isinstance(load_dict, dict):\n",
    "            for vertex in load_dict:\n",
    "                node_from = self.add_node(vertex)\n",
    "                self.adjacency_list[node_from] = []\n",
    "                for neighbor in load_dict[vertex]:\n",
    "                    node_to = self.add_node(neighbor)\n",
    "                    self.adjacency_list[node_from].append(node_to)\n",
    "                    self.add_edge(vertex, neighbor)\n",
    "\n",
    "    def add_node(self, node_name):\n",
    "        \"\"\"\n",
    "        Add a new named node to the graph.\n",
    "        \"\"\"\n",
    "        try:\n",
    "            return self.nodes[self.nodes.index(node_name)]\n",
    "        except ValueError:\n",
    "            node = Node(node_name)\n",
    "            self.nodes.append(node)\n",
    "            return node\n",
    "\n",
    "    def add_edge(self, node_name_from, node_name_to):\n",
    "        \"\"\"\n",
    "        Add a new edge to the graph between two nodes.\n",
    "        \"\"\"\n",
    "        try:\n",
    "            node_from = self.nodes[self.nodes.index(node_name_from)]\n",
    "            node_to = self.nodes[self.nodes.index(node_name_to)]\n",
    "            self.edges.append(DirectedEdge(node_from, node_to))\n",
    "        except ValueError:\n",
    "            pass"
   ]
  },
  {
   "cell_type": "markdown",
   "metadata": {},
   "source": [
    "## Markov Chain"
   ]
  },
  {
   "cell_type": "code",
   "execution_count": null,
   "metadata": {},
   "outputs": [],
   "source": [
    "\"\"\"\n",
    "Chains are described using a dictionary:\n",
    "\n",
    "    my_chain = {\n",
    "        'A': {'A': 0.6,\n",
    "              'E': 0.4},\n",
    "        'E': {'A': 0.7,\n",
    "              'E': 0.3}\n",
    "    }\n",
    "\"\"\""
   ]
  },
  {
   "cell_type": "code",
   "execution_count": null,
   "metadata": {},
   "outputs": [],
   "source": [
    "import random"
   ]
  },
  {
   "cell_type": "markdown",
   "metadata": {},
   "source": [
    "#### Choose the next state randomly"
   ]
  },
  {
   "cell_type": "code",
   "execution_count": null,
   "metadata": {},
   "outputs": [],
   "source": [
    "def __choose_state(state_map):\n",
    "    \n",
    "    choice = random.random()\n",
    "    probability_reached = 0\n",
    "    for state, probability in state_map.items():\n",
    "        probability_reached += probability\n",
    "        if probability_reached > choice:\n",
    "            return state\n",
    "    return None"
   ]
  },
  {
   "cell_type": "markdown",
   "metadata": {},
   "source": [
    "#### Given a markov-chain, randomly chooses the next state given the current state."
   ]
  },
  {
   "cell_type": "code",
   "execution_count": null,
   "metadata": {},
   "outputs": [],
   "source": [
    "def next_state(chain, current_state):\n",
    "   \n",
    "    next_state_map = chain.get(current_state)\n",
    "    return __choose_state(next_state_map)"
   ]
  },
  {
   "cell_type": "markdown",
   "metadata": {},
   "source": [
    "#### Yield a sequence of states given a markov chain and the initial state"
   ]
  },
  {
   "cell_type": "code",
   "execution_count": null,
   "metadata": {},
   "outputs": [],
   "source": [
    "def iterating_markov_chain(chain, state):\n",
    "   \n",
    "    while True:\n",
    "        state = next_state(chain, state)\n",
    "        yield state\n"
   ]
  }
 ],
 "metadata": {
  "language_info": {
   "name": "python"
  }
 },
 "nbformat": 4,
 "nbformat_minor": 2
}
