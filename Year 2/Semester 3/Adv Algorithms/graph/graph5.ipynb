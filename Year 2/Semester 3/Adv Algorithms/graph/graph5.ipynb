{
 "cells": [
  {
   "cell_type": "code",
   "execution_count": null,
   "metadata": {},
   "outputs": [],
   "source": [
    "# init from graph1.ipynb"
   ]
  },
  {
   "cell_type": "markdown",
   "metadata": {},
   "source": [
    "## Tarjan's Algorithm for Strongly Connected Components"
   ]
  },
  {
   "cell_type": "code",
   "execution_count": null,
   "metadata": {},
   "outputs": [],
   "source": [
    "# https://en.wikipedia.org/wiki/Tarjan%27s_strongly_connected_components_algorithm"
   ]
  },
  {
   "cell_type": "code",
   "execution_count": null,
   "metadata": {},
   "outputs": [],
   "source": [
    "from algorithms.graph.graph import DirectedGraph"
   ]
  },
  {
   "cell_type": "code",
   "execution_count": null,
   "metadata": {},
   "outputs": [],
   "source": [
    "# pylint: disable=too-few-public-methods\n",
    "\n",
    "class Tarjan:\n",
    "    \"\"\"\n",
    "    A directed graph used for finding strongly connected components.\n",
    "    \"\"\"\n",
    "    def __init__(self, dict_graph):\n",
    "        self.graph = DirectedGraph(dict_graph)  # Initialize the directed graph\n",
    "        self.index = 0  # Initialize the index for depth-first search\n",
    "        self.stack = []  # Stack to keep track of vertices in the current path\n",
    "\n",
    "        # Initialize all nodes' index to None\n",
    "        for vertex in self.graph.nodes:\n",
    "            vertex.index = None\n",
    "\n",
    "        self.sccs = []  # List to hold the strongly connected components\n",
    "        for vertex in self.graph.nodes:\n",
    "            if vertex.index is None:  # If the vertex hasn't been visited\n",
    "                self.strongconnect(vertex, self.sccs)  # Run strongconnect on it\n",
    "\n",
    "    def strongconnect(self, vertex, sccs):\n",
    "        \"\"\"\n",
    "        Given a vertex, adds all successors of the given vertex to the same connected component.\n",
    "        \"\"\"\n",
    "        # Set the depth index for v to the smallest unused index\n",
    "        vertex.index = self.index\n",
    "        vertex.lowlink = self.index\n",
    "        self.index += 1  # Increment the index for the next vertex\n",
    "        self.stack.append(vertex)  # Push the vertex onto the stack\n",
    "        vertex.on_stack = True  # Mark the vertex as being on the stack\n",
    "\n",
    "        # Consider successors of v\n",
    "        for adjacent in self.graph.adjacency_list[vertex]:\n",
    "            if adjacent.index is None:\n",
    "                # Successor w has not yet been visited; recurse on it\n",
    "                self.strongconnect(adjacent, sccs)\n",
    "                vertex.lowlink = min(vertex.lowlink, adjacent.lowlink)  # Update lowlink value\n",
    "            elif adjacent.on_stack:\n",
    "                # Successor w is in stack S and hence in the current SCC\n",
    "                # Note: Use w.index, as per the original paper's logic\n",
    "                vertex.lowlink = min(vertex.lowlink, adjacent.index)\n",
    "\n",
    "        # If v is a root node, pop the stack and generate an SCC\n",
    "        if vertex.lowlink == vertex.index:\n",
    "            # Start a new strongly connected component\n",
    "            scc = []\n",
    "            while True:\n",
    "                adjacent = self.stack.pop()  # Pop from the stack\n",
    "                adjacent.on_stack = False  # Mark it as not on the stack\n",
    "                scc.append(adjacent)  # Add to the current SCC\n",
    "                if adjacent == vertex:  # If we reached the root node\n",
    "                    break\n",
    "            scc.sort()  # Sort the SCC for consistency\n",
    "            sccs.append(scc)  # Add the found SCC to the list\n",
    "\n"
   ]
  },
  {
   "cell_type": "markdown",
   "metadata": {},
   "source": [
    "## Transitive Closure of a Directed Graph"
   ]
  },
  {
   "cell_type": "code",
   "execution_count": null,
   "metadata": {},
   "outputs": [],
   "source": [
    "# reference: https://en.wikipedia.org/wiki/Transitive_closure#In_graph_theory"
   ]
  },
  {
   "cell_type": "code",
   "execution_count": null,
   "metadata": {},
   "outputs": [],
   "source": [
    "\n",
    "class Graph:\n",
    "    \"\"\"\n",
    "    This class represents a directed graph using adjacency lists.\n",
    "    \"\"\"\n",
    "    def __init__(self, vertices):\n",
    "        # No. of vertices\n",
    "        self.vertex_count = vertices\n",
    "\n",
    "        # Default dictionary to store the graph\n",
    "        self.graph = {}\n",
    "\n",
    "        # To store transitive closure\n",
    "        self.closure = [[0 for j in range(vertices)] for i in range(vertices)]\n",
    "\n",
    "    def add_edge(self, source, target):\n",
    "        \"\"\"\n",
    "        Adds a directed edge from source to target in the graph.\n",
    "        \"\"\"\n",
    "        if source in self.graph:\n",
    "            self.graph[source].append(target)\n",
    "        else:\n",
    "            self.graph[source] = [target]\n",
    "\n",
    "    def dfs_util(self, source, target):\n",
    "        \"\"\"\n",
    "        A recursive DFS traversal function that finds\n",
    "        all reachable vertices from the source.\n",
    "        \"\"\"\n",
    "\n",
    "        # Mark reachability from source to target as true.\n",
    "        self.closure[source][target] = 1\n",
    "\n",
    "        # Find all the vertices reachable through target\n",
    "        for adjacent in self.graph[target]:\n",
    "            if self.closure[source][adjacent] == 0:\n",
    "                self.dfs_util(source, adjacent)\n",
    "\n",
    "    def transitive_closure(self):\n",
    "        \"\"\"\n",
    "        The function to find the transitive closure.\n",
    "        It uses the recursive dfs_util() to explore reachable vertices.\n",
    "        \"\"\"\n",
    "\n",
    "        # Call the recursive helper function to print DFS\n",
    "        # traversal starting from all vertices one by one\n",
    "        for i in range(self.vertex_count):\n",
    "            self.dfs_util(i, i)\n",
    "\n",
    "        return self.closure  # Return the transitive closure matrix\n",
    "\n"
   ]
  },
  {
   "cell_type": "markdown",
   "metadata": {},
   "source": [
    "## Graph Traversal Techniques: DFS and BFS"
   ]
  },
  {
   "cell_type": "code",
   "execution_count": null,
   "metadata": {},
   "outputs": [],
   "source": [
    "# dfs and bfs are the ultimately same except that they are visiting nodes in\n",
    "# different order. To simulate this ordering we would use stack for dfs and\n",
    "# queue for bfs."
   ]
  },
  {
   "cell_type": "markdown",
   "metadata": {},
   "source": [
    "#### Traversal by depth first search (iterative). Uses a stack to keep track of nodes to visit next."
   ]
  },
  {
   "cell_type": "code",
   "execution_count": null,
   "metadata": {},
   "outputs": [],
   "source": [
    "def dfs_traverse(graph, start):\n",
    "   \n",
    "    visited, stack = set(), [start]\n",
    "    while stack:\n",
    "        node = stack.pop()\n",
    "        if node not in visited:\n",
    "            visited.add(node)\n",
    "            for next_node in graph[node]:\n",
    "                if next_node not in visited:\n",
    "                    stack.append(next_node)\n",
    "    return visited"
   ]
  },
  {
   "cell_type": "markdown",
   "metadata": {},
   "source": [
    "#### Traversal by breadth first search. Uses a queue to keep track of nodes to visit next."
   ]
  },
  {
   "cell_type": "code",
   "execution_count": null,
   "metadata": {},
   "outputs": [],
   "source": [
    "def bfs_traverse(graph, start):\n",
    "   \n",
    "    visited, queue = set(), [start]\n",
    "    while queue:\n",
    "        node = queue.pop(0)\n",
    "        if node not in visited:\n",
    "            visited.add(node)\n",
    "            for next_node in graph[node]:\n",
    "                if next_node not in visited:\n",
    "                    queue.append(next_node)\n",
    "    return visited"
   ]
  },
  {
   "cell_type": "markdown",
   "metadata": {},
   "source": [
    "#### Traversal by recursive depth first search. Recursively visits each node and keeps track of visited nodes."
   ]
  },
  {
   "cell_type": "code",
   "execution_count": null,
   "metadata": {},
   "outputs": [],
   "source": [
    "def dfs_traverse_recursive(graph, start, visited=None):\n",
    "   \n",
    "    if visited is None:\n",
    "        visited = set()\n",
    "    visited.add(start)\n",
    "    for next_node in graph[start]:\n",
    "        if next_node not in visited:\n",
    "            dfs_traverse_recursive(graph, next_node, visited)\n",
    "    return visited\n"
   ]
  }
 ],
 "metadata": {
  "language_info": {
   "name": "python"
  }
 },
 "nbformat": 4,
 "nbformat_minor": 2
}
