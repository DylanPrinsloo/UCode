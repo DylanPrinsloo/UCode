{
 "cells": [
  {
   "cell_type": "code",
   "execution_count": null,
   "metadata": {},
   "outputs": [],
   "source": [
    "# init from graph1.ipynb"
   ]
  },
  {
   "cell_type": "markdown",
   "metadata": {},
   "source": [
    "## Maximum Flow Calculation in a Graph using BFS (Breadth First Search)"
   ]
  },
  {
   "cell_type": "code",
   "execution_count": null,
   "metadata": {},
   "outputs": [],
   "source": [
    "\"\"\"\n",
    "Given a n*n adjacency array.\n",
    "it will give you a maximum flow.\n",
    "This version use BFS to search path.\n",
    "\n",
    "Assume the first is the source and the last is the sink.\n",
    "\n",
    "Time complexity - O(Ef)\n",
    "\n",
    "example\n",
    "\n",
    "graph = [[0, 16, 13, 0, 0, 0],\n",
    "        [0, 0, 10, 12, 0, 0],\n",
    "        [0, 4, 0, 0, 14, 0],\n",
    "        [0, 0, 9, 0, 0, 20],\n",
    "        [0, 0, 0, 7, 0, 4],\n",
    "        [0, 0, 0, 0, 0, 0]]\n",
    "\n",
    "answer should be\n",
    "\n",
    "23\n",
    "\"\"\""
   ]
  },
  {
   "cell_type": "code",
   "execution_count": null,
   "metadata": {},
   "outputs": [],
   "source": [
    "import copy\n",
    "import queue\n",
    "import math"
   ]
  },
  {
   "cell_type": "markdown",
   "metadata": {},
   "source": [
    "#### Get the maximum flow through a graph using a breadth first search"
   ]
  },
  {
   "cell_type": "code",
   "execution_count": null,
   "metadata": {},
   "outputs": [],
   "source": [
    "def maximum_flow_bfs(adjacency_matrix):\n",
    "   \n",
    "    #initial setting\n",
    "    new_array = copy.deepcopy(adjacency_matrix)\n",
    "    total = 0\n",
    "\n",
    "    while True:\n",
    "        #setting min to max_value\n",
    "        min_flow = math.inf\n",
    "        #save visited nodes\n",
    "        visited = [0]*len(new_array)\n",
    "        #save parent nodes\n",
    "        path = [0]*len(new_array)\n",
    "\n",
    "        #initialize queue for BFS\n",
    "        bfs = queue.Queue()\n",
    "\n",
    "        #initial setting\n",
    "        visited[0] = 1\n",
    "        bfs.put(0)\n",
    "\n",
    "        #BFS to find path\n",
    "        while bfs.qsize() > 0:\n",
    "            #pop from queue\n",
    "            src = bfs.get()\n",
    "            for k in range(len(new_array)):\n",
    "                #checking capacity and visit\n",
    "                if(new_array[src][k] > 0 and visited[k] == 0 ):\n",
    "                    #if not, put into queue and chage to visit and save path\n",
    "                    visited[k] = 1\n",
    "                    bfs.put(k)\n",
    "                    path[k] = src\n",
    "\n",
    "        #if there is no path from src to sink\n",
    "        if visited[len(new_array) - 1] == 0:\n",
    "            break\n",
    "\n",
    "        #initial setting\n",
    "        tmp = len(new_array) - 1\n",
    "\n",
    "        #Get minimum flow\n",
    "        while tmp != 0:\n",
    "            #find minimum flow\n",
    "            if min_flow > new_array[path[tmp]][tmp]:\n",
    "                min_flow = new_array[path[tmp]][tmp]\n",
    "            tmp = path[tmp]\n",
    "\n",
    "        #initial setting\n",
    "        tmp = len(new_array) - 1\n",
    "\n",
    "        #reduce capacity\n",
    "        while tmp != 0:\n",
    "            new_array[path[tmp]][tmp] = new_array[path[tmp]][tmp] - min_flow\n",
    "            tmp = path[tmp]\n",
    "\n",
    "        total = total + min_flow\n",
    "\n",
    "    return total"
   ]
  },
  {
   "cell_type": "markdown",
   "metadata": {},
   "source": [
    "## Maximum Flow Calculation in a Graph using DFS (Depth First Search)"
   ]
  },
  {
   "cell_type": "code",
   "execution_count": null,
   "metadata": {},
   "outputs": [],
   "source": [
    "\"\"\"\n",
    "Given a n*n adjacency array.\n",
    "it will give you a maximum flow.\n",
    "This version use DFS to search path.\n",
    "\n",
    "Assume the first is the source and the last is the sink.\n",
    "\n",
    "Time complexity - O(Ef)\n",
    "\n",
    "example\n",
    "\n",
    "graph = [[0, 16, 13, 0, 0, 0],\n",
    "        [0, 0, 10, 12, 0, 0],\n",
    "        [0, 4, 0, 0, 14, 0],\n",
    "        [0, 0, 9, 0, 0, 20],\n",
    "        [0, 0, 0, 7, 0, 4],\n",
    "        [0, 0, 0, 0, 0, 0]]\n",
    "\n",
    "answer should be\n",
    "\n",
    "23\n",
    "\"\"\""
   ]
  },
  {
   "cell_type": "code",
   "execution_count": null,
   "metadata": {},
   "outputs": [],
   "source": [
    "import copy\n",
    "import math"
   ]
  },
  {
   "cell_type": "markdown",
   "metadata": {},
   "source": [
    "#### Get the maximum flow through a graph using a depth first search"
   ]
  },
  {
   "cell_type": "code",
   "execution_count": null,
   "metadata": {},
   "outputs": [],
   "source": [
    "def maximum_flow_dfs(adjacency_matrix):\n",
    "    \n",
    "    #initial setting\n",
    "    new_array = copy.deepcopy(adjacency_matrix)\n",
    "    total = 0\n",
    "\n",
    "    while True:\n",
    "        #setting min to max_value\n",
    "        min = math.inf\n",
    "        #save visited nodes\n",
    "        visited = [0]*len(new_array)\n",
    "        #save parent nodes\n",
    "        path = [0]*len(new_array)\n",
    "\n",
    "        #initialize stack for DFS\n",
    "        stack = []\n",
    "\n",
    "        #initial setting\n",
    "        visited[0] = 1\n",
    "        stack.append(0)\n",
    "\n",
    "        #DFS to find path\n",
    "        while len(stack) > 0:\n",
    "            #pop from queue\n",
    "            src = stack.pop()\n",
    "            for k in range(len(new_array)):\n",
    "                #checking capacity and visit\n",
    "                if new_array[src][k] > 0 and visited[k] == 0:\n",
    "                    #if not, put into queue and chage to visit and save path\n",
    "                    visited[k] = 1\n",
    "                    stack.append(k)\n",
    "                    path[k] = src\n",
    "\n",
    "        #if there is no path from src to sink\n",
    "        if visited[len(new_array) - 1] == 0:\n",
    "            break\n",
    "\n",
    "        #initial setting\n",
    "        tmp = len(new_array) - 1\n",
    "\n",
    "        #Get minimum flow\n",
    "        while tmp != 0:\n",
    "            #find minimum flow\n",
    "            if min > new_array[path[tmp]][tmp]:\n",
    "                min = new_array[path[tmp]][tmp]\n",
    "            tmp = path[tmp]\n",
    "\n",
    "        #initial setting\n",
    "        tmp = len(new_array) - 1\n",
    "\n",
    "        #reduce capacity\n",
    "        while tmp != 0:\n",
    "            new_array[path[tmp]][tmp] = new_array[path[tmp]][tmp] - min\n",
    "            tmp = path[tmp]\n",
    "\n",
    "        total = total + min\n",
    "\n",
    "    return total\n"
   ]
  },
  {
   "cell_type": "markdown",
   "metadata": {},
   "source": [
    "## Maximum Flow Calculation in a Flow Network Using Multiple Algorithms"
   ]
  },
  {
   "cell_type": "code",
   "execution_count": null,
   "metadata": {},
   "outputs": [],
   "source": [
    "\"\"\"\n",
    "Given the capacity, source and sink of a graph,\n",
    "computes the maximum flow from source to sink.\n",
    "Input : capacity, source, sink\n",
    "Output : maximum flow from source to sink\n",
    "Capacity is a two-dimensional array that is v*v.\n",
    "capacity[i][j] implies the capacity of the edge from i to j.\n",
    "If there is no edge from i to j, capacity[i][j] should be zero.\n",
    "\"\"\""
   ]
  },
  {
   "cell_type": "code",
   "execution_count": null,
   "metadata": {},
   "outputs": [],
   "source": [
    "from queue import Queue"
   ]
  },
  {
   "cell_type": "markdown",
   "metadata": {},
   "source": [
    "#### Depth First Search (DFS) for the Ford-Fulkerson algorithm"
   ]
  },
  {
   "cell_type": "code",
   "execution_count": null,
   "metadata": {},
   "outputs": [],
   "source": [
    "def dfs(capacity, flow, visit, vertices, idx, sink, current_flow = 1 << 63):\n",
    "    \"\"\"\n",
    "    Perform DFS to find a path from source to sink and calculate flow.\n",
    "    \"\"\"\n",
    "    if idx == sink:  # If we've reached the sink, return the current flow.\n",
    "        return current_flow\n",
    "    visit[idx] = True  # Mark the current node as visited.\n",
    "    \n",
    "    for nxt in range(vertices):\n",
    "        # Check if there is remaining capacity in the edge.\n",
    "        if not visit[nxt] and flow[idx][nxt] < capacity[idx][nxt]:\n",
    "            # Calculate available flow.\n",
    "            available_flow = min(current_flow, capacity[idx][nxt] - flow[idx][nxt])\n",
    "            tmp = dfs(capacity, flow, visit, vertices, nxt, sink, available_flow)  # Recursive call\n",
    "            \n",
    "            if tmp:  # If we found a valid flow path.\n",
    "                flow[idx][nxt] += tmp  # Update the flow from idx to nxt.\n",
    "                flow[nxt][idx] -= tmp  # Update the flow in the opposite direction.\n",
    "                return tmp  # Return the flow found.\n",
    "    return 0  # No valid flow path found."
   ]
  },
  {
   "cell_type": "markdown",
   "metadata": {},
   "source": [
    "#### Ford Fulkerson algorithm"
   ]
  },
  {
   "cell_type": "code",
   "execution_count": null,
   "metadata": {},
   "outputs": [],
   "source": [
    "def ford_fulkerson(capacity, source, sink):\n",
    "    \"\"\"\n",
    "    Computes the maximum flow from source to sink using DFS.\n",
    "    Time Complexity: O(Ef)\n",
    "    \"\"\"\n",
    "    vertices = len(capacity)\n",
    "    ret = 0  # Total flow initialized to 0.\n",
    "    flow = [[0]*vertices for _ in range(vertices)]  # Initialize flow matrix.\n",
    "    \n",
    "    while True:\n",
    "        visit = [False for _ in range(vertices)]  # Reset visited nodes.\n",
    "        tmp = dfs(capacity, flow, visit, vertices, source, sink)  # Find path using DFS.\n",
    "        \n",
    "        if tmp:  # If a path was found, add to total flow.\n",
    "            ret += tmp\n",
    "        else:  # No more augmenting paths found.\n",
    "            break\n",
    "    return ret  # Return the maximum flow."
   ]
  },
  {
   "cell_type": "markdown",
   "metadata": {},
   "source": [
    "#### Edmonds Karp algorithm"
   ]
  },
  {
   "cell_type": "code",
   "execution_count": null,
   "metadata": {},
   "outputs": [],
   "source": [
    "def edmonds_karp(capacity, source, sink):\n",
    "    \"\"\"\n",
    "    Computes maximum flow from source to sink using BFS.\n",
    "    Time complexity: O(V*E^2)\n",
    "    \"\"\"\n",
    "    vertices = len(capacity)\n",
    "    ret = 0  # Total flow initialized to 0.\n",
    "    flow = [[0]*vertices for _ in range(vertices)]  # Initialize flow matrix.\n",
    "    \n",
    "    while True:\n",
    "        tmp = 0\n",
    "        queue = Queue()  # Queue for BFS.\n",
    "        visit = [False for _ in range(vertices)]  # Reset visited nodes.\n",
    "        par = [-1 for _ in range(vertices)]  # Parent array to reconstruct path.\n",
    "        visit[source] = True  # Start BFS from the source.\n",
    "        queue.put((source, 1 << 63))  # Add source to the queue with infinite flow.\n",
    "\n",
    "        # BFS to find a path from source to sink.\n",
    "        while queue.qsize():\n",
    "            front = queue.get()\n",
    "            idx, current_flow = front  # Get current node and flow.\n",
    "            if idx == sink:  # If we reached the sink, break.\n",
    "                tmp = current_flow\n",
    "                break\n",
    "            \n",
    "            for nxt in range(vertices):\n",
    "                # Check if we can visit the next node.\n",
    "                if not visit[nxt] and flow[idx][nxt] < capacity[idx][nxt]:\n",
    "                    visit[nxt] = True  # Mark as visited.\n",
    "                    par[nxt] = idx  # Set parent.\n",
    "                    queue.put((nxt, min(current_flow, capacity[idx][nxt] - flow[idx][nxt])))  # Add to queue.\n",
    "        \n",
    "        if par[sink] == -1:  # If no path was found to the sink.\n",
    "            break\n",
    "        \n",
    "        ret += tmp  # Add the flow found to the total.\n",
    "        parent = par[sink]\n",
    "        idx = sink\n",
    "        \n",
    "        # Update flow array following the parent starting from the sink.\n",
    "        while parent != -1:\n",
    "            flow[parent][idx] += tmp  # Increase flow from parent to current.\n",
    "            flow[idx][parent] -= tmp  # Decrease flow in the opposite direction.\n",
    "            idx = parent  # Move to the parent.\n",
    "            parent = par[parent]  # Update parent.\n",
    "    return ret  # Return the maximum flow."
   ]
  },
  {
   "cell_type": "markdown",
   "metadata": {},
   "source": [
    "#### BFS function for the Dinic algorithm"
   ]
  },
  {
   "cell_type": "code",
   "execution_count": null,
   "metadata": {},
   "outputs": [],
   "source": [
    "def dinic_bfs(capacity, flow, level, source, sink):\n",
    "    \"\"\"\n",
    "    Check if the sink is reachable from the source using only non-full edges.\n",
    "    \"\"\"\n",
    "    vertices = len(capacity)\n",
    "    queue = Queue()\n",
    "    queue.put(source)  # Start BFS from the source.\n",
    "    level[source] = 0  # Level of source is 0.\n",
    "    \n",
    "    while queue.qsize():\n",
    "        front = queue.get()\n",
    "        for nxt in range(vertices):\n",
    "            # Check if next node is reachable and not yet leveled.\n",
    "            if level[nxt] == -1 and flow[front][nxt] < capacity[front][nxt]:\n",
    "                level[nxt] = level[front] + 1  # Set level of next node.\n",
    "                queue.put(nxt)  # Add to queue.\n",
    "    return level[sink] != -1  # Return whether sink is reachable."
   ]
  },
  {
   "cell_type": "markdown",
   "metadata": {},
   "source": [
    "#### DFS function for the Dinic algorithm"
   ]
  },
  {
   "cell_type": "code",
   "execution_count": null,
   "metadata": {},
   "outputs": [],
   "source": [
    "def dinic_dfs(capacity, flow, level, idx, sink, work, current_flow = 1 << 63):\n",
    "    \"\"\"\n",
    "    Finds new flow using non-full edges.\n",
    "    \"\"\"\n",
    "    if idx == sink:  # If we've reached the sink, return the flow.\n",
    "        return current_flow\n",
    "    vertices = len(capacity)\n",
    "    \n",
    "    while work[idx] < vertices:  # Traverse the current node's neighbors.\n",
    "        nxt = work[idx]\n",
    "        \n",
    "        if level[nxt] == level[idx] + 1 and flow[idx][nxt] < capacity[idx][nxt]:\n",
    "            available_flow = min(current_flow, capacity[idx][nxt] - flow[idx][nxt])  # Calculate available flow.\n",
    "            tmp = dinic_dfs(capacity, flow, level, nxt, sink, work, available_flow)  # Recursive DFS call.\n",
    "            \n",
    "            if tmp > 0:  # If flow was found, update the flows.\n",
    "                flow[idx][nxt] += tmp\n",
    "                flow[nxt][idx] -= tmp\n",
    "                return tmp  # Return the flow found.\n",
    "        work[idx] += 1  # Increment the work array index.\n",
    "    return 0  # No flow was found."
   ]
  },
  {
   "cell_type": "markdown",
   "metadata": {},
   "source": [
    "#### Dinic's algorithm for calculating maximum flow"
   ]
  },
  {
   "cell_type": "code",
   "execution_count": null,
   "metadata": {},
   "outputs": [],
   "source": [
    "def dinic(capacity, source, sink):\n",
    "    \"\"\"\n",
    "    Computes maximum flow from source to sink using Dinic's algorithm.\n",
    "    Time complexity: O(V^2*E)\n",
    "    \"\"\"\n",
    "    vertices = len(capacity)\n",
    "    flow = [[0]*vertices for i in range(vertices)]  # Initialize flow matrix.\n",
    "    ret = 0  # Total flow initialized to 0.\n",
    "    \n",
    "    while True:\n",
    "        level = [-1 for i in range(vertices)]  # Reset level array.\n",
    "        work = [0 for i in range(vertices)]  # Reset work array.\n",
    "        \n",
    "        if not dinic_bfs(capacity, flow, level, source, sink):  # Check for path to sink.\n",
    "            break\n",
    "        \n",
    "        while True:\n",
    "            tmp = dinic_dfs(capacity, flow, level, source, sink, work)  # Find new flow.\n",
    "            if tmp > 0:  # If flow was found, add to total flow.\n",
    "                ret += tmp\n",
    "            else:\n",
    "                break  # No more flow found, exit.\n",
    "    return ret  # Return the maximum flow.\n"
   ]
  }
 ],
 "metadata": {
  "language_info": {
   "name": "python"
  }
 },
 "nbformat": 4,
 "nbformat_minor": 2
}
