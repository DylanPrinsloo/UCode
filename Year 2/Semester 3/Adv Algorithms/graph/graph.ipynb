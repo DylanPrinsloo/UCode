{
 "cells": [
  {
   "cell_type": "markdown",
   "metadata": {},
   "source": [
    "#  **Graph**\n",
    "is a data structure made up of vertices (nodes) connected by edges. Graph theory deals with various types of graph problems like traversals, shortest path, and connectivity.\n",
    "   - **Applications:** Social networks, network routing, and navigation."
   ]
  },
  {
   "cell_type": "code",
   "execution_count": null,
   "metadata": {},
   "outputs": [],
   "source": [
    "# Collection of algorithms on graphs.\n",
    "# init\n",
    "\n",
    "from .tarjan import *\n",
    "from .check_bipartite import *\n",
    "from .maximum_flow import *\n",
    "from .maximum_flow_bfs import *\n",
    "from .maximum_flow_dfs import *\n",
    "from .all_pairs_shortest_path import *\n",
    "from .bellman_ford import *\n",
    "from .prims_minimum_spanning import *"
   ]
  },
  {
   "cell_type": "markdown",
   "metadata": {},
   "source": [
    "## Floyd-Warshall Algorithm for All Pairs Shortest Path"
   ]
  },
  {
   "cell_type": "code",
   "execution_count": null,
   "metadata": {},
   "outputs": [],
   "source": [
    "\"\"\"\n",
    "Given a n*n adjacency array.\n",
    "it will give you all pairs shortest path length.\n",
    "use deepcopy to preserve the original information.\n",
    "\n",
    "Time complexity : O(E^3)\n",
    "\n",
    "example\n",
    "\n",
    "a = [[0    , 0.1  , 0.101, 0.142, 0.277],\n",
    "     [0.465, 0    , 0.191, 0.192, 0.587],\n",
    "     [0.245, 0.554, 0    , 0.333, 0.931],\n",
    "     [1.032, 0.668, 0.656, 0    , 0.151],\n",
    "     [0.867, 0.119, 0.352, 0.398, 0]]\n",
    "\n",
    "result\n",
    "\n",
    "[[0    , 0.1  , 0.101, 0.142, 0.277],\n",
    " [0.436, 0    , 0.191, 0.192, 0.343],\n",
    " [0.245, 0.345, 0    , 0.333, 0.484],\n",
    " [0.706, 0.27 , 0.461, 0    , 0.151],\n",
    " [0.555, 0.119, 0.31 , 0.311, 0]]\n",
    "\n",
    "\"\"\""
   ]
  },
  {
   "cell_type": "code",
   "execution_count": null,
   "metadata": {},
   "outputs": [],
   "source": [
    "import copy\n",
    "\n",
    "def all_pairs_shortest_path(adjacency_matrix):\n",
    "    \"\"\"\n",
    "    Given a matrix of the edge weights between respective nodes, returns a\n",
    "    matrix containing the shortest distance distance between the two nodes.\n",
    "    \"\"\"\n",
    "\n",
    "    new_array = copy.deepcopy(adjacency_matrix)\n",
    "\n",
    "    size = len(new_array)\n",
    "    for k in range(size):\n",
    "        for i in range(size):\n",
    "            for j in range(size):\n",
    "                if new_array[i][j] > new_array[i][k] + new_array[k][j]:\n",
    "                    new_array[i][j] = new_array[i][k] + new_array[k][j]\n",
    "\n",
    "    return new_array\n"
   ]
  },
  {
   "cell_type": "markdown",
   "metadata": {},
   "source": [
    "## Bellman-Ford Algorithm for Single-Source Shortest Path"
   ]
  },
  {
   "cell_type": "markdown",
   "metadata": {},
   "source": [
    "#### is for determination whether we can get shortest path from given graph or not for single-source shortest-paths problem. In other words, if given graph has any negative-weight cycle that is reachable from the source, then it will give answer False for \"no solution exits\". For argument graph, it should be a dictionary type such as\n",
    "   "
   ]
  },
  {
   "cell_type": "code",
   "execution_count": null,
   "metadata": {},
   "outputs": [],
   "source": [
    "\"\"\"\n",
    "argument graph:\n",
    "\n",
    "graph = {\n",
    "        'a': {'b': 6, 'e': 7},\n",
    "        'b': {'c': 5, 'd': -4, 'e': 8},\n",
    "        'c': {'b': -2},\n",
    "        'd': {'a': 2, 'c': 7},\n",
    "        'e': {'b': -3}\n",
    "    }\n",
    "\"\"\""
   ]
  },
  {
   "cell_type": "code",
   "execution_count": null,
   "metadata": {},
   "outputs": [],
   "source": [
    "\n",
    "# Determination of single-source shortest-path.\n"
   ]
  },
  {
   "cell_type": "code",
   "execution_count": null,
   "metadata": {},
   "outputs": [],
   "source": [
    "def bellman_ford(graph, source):\n",
    "    weight = {}\n",
    "    pre_node = {}\n",
    "\n",
    "    initialize_single_source(graph, source, weight, pre_node)\n",
    "\n",
    "    for _ in range(1, len(graph)):\n",
    "        for node in graph:\n",
    "            for adjacent in graph[node]:\n",
    "                if weight[adjacent] > weight[node] + graph[node][adjacent]:\n",
    "                    weight[adjacent] = weight[node] + graph[node][adjacent]\n",
    "                    pre_node[adjacent] = node\n",
    "\n",
    "    for node in graph:\n",
    "        for adjacent in graph[node]:\n",
    "            if weight[adjacent] > weight[node] + graph[node][adjacent]:\n",
    "                return False\n",
    "\n",
    "    return True\n",
    "\n",
    "def initialize_single_source(graph, source, weight, pre_node):\n",
    "    \"\"\"\n",
    "    Initialize data structures for Bellman-Ford algorithm.\n",
    "    \"\"\"\n",
    "    for node in graph:\n",
    "        weight[node] = float('inf')\n",
    "        pre_node[node] = None\n",
    "\n",
    "    weight[source] = 0\n"
   ]
  },
  {
   "cell_type": "markdown",
   "metadata": {},
   "source": [
    "## Bipartite Graph Check using BFS"
   ]
  },
  {
   "cell_type": "code",
   "execution_count": null,
   "metadata": {},
   "outputs": [],
   "source": [
    "\n",
    "# Bipartite graph is a graph whose vertices can be divided into two disjoint and independent sets.\n",
    "# (https://en.wikipedia.org/wiki/Bipartite_graph)\n"
   ]
  },
  {
   "cell_type": "code",
   "execution_count": null,
   "metadata": {},
   "outputs": [],
   "source": [
    "def check_bipartite(adj_list):\n",
    "    \"\"\"\n",
    "    Determine if the given graph is bipartite.\n",
    "\n",
    "    Time complexity is O(|E|)\n",
    "    Space complexity is O(|V|)\n",
    "    \"\"\"\n",
    "\n",
    "    vertices = len(adj_list)\n",
    "\n",
    "    # Divide vertexes in the graph into set_type 0 and 1\n",
    "    # Initialize all set_types as -1\n",
    "    set_type = [-1 for v in range(vertices)]\n",
    "    set_type[0] = 0\n",
    "\n",
    "    queue = [0]\n",
    "\n",
    "    while queue:\n",
    "        current = queue.pop(0)\n",
    "\n",
    "        # If there is a self-loop, it cannot be bipartite\n",
    "        if adj_list[current][current]:\n",
    "            return False\n",
    "\n",
    "        for adjacent in range(vertices):\n",
    "            if adj_list[current][adjacent]:\n",
    "                if set_type[adjacent] == set_type[current]:\n",
    "                    return False\n",
    "\n",
    "                if set_type[adjacent] == -1:\n",
    "                    # set type of u opposite of v\n",
    "                    set_type[adjacent] = 1 - set_type[current]\n",
    "                    queue.append(adjacent)\n",
    "\n",
    "    return True"
   ]
  },
  {
   "cell_type": "markdown",
   "metadata": {},
   "source": [
    "## Strongly Connected Component Detection"
   ]
  },
  {
   "cell_type": "markdown",
   "metadata": {},
   "source": [
    "### In a directed graph, a strongly connected component is a set of vertices such that for any pairs of vertices u and v there exists a path (u-...-v) that connects them. A graph is strongly connected if it is a single strongly connected component."
   ]
  },
  {
   "cell_type": "code",
   "execution_count": null,
   "metadata": {},
   "outputs": [],
   "source": [
    "from collections import defaultdict\n",
    "\n",
    "class Graph:\n",
    "    \"\"\"\n",
    "    A directed graph where edges are one-way (a two-way edge can be represented by using two edges).\n",
    "    \"\"\"\n",
    "\n",
    "    def __init__(self,vertex_count):\n",
    "        \"\"\"\n",
    "        Create a new graph with vertex_count vertices.\n",
    "        \"\"\"\n",
    "\n",
    "        self.vertex_count = vertex_count\n",
    "        self.graph = defaultdict(list)\n",
    "\n",
    "    def add_edge(self,source,target):\n",
    "        \"\"\"\n",
    "        Add an edge going from source to target\n",
    "        \"\"\"\n",
    "        self.graph[source].append(target)\n",
    "\n",
    "    def dfs(self):\n",
    "        \"\"\"\n",
    "        Determine if all nodes are reachable from node 0\n",
    "        \"\"\"\n",
    "        visited = [False] * self.vertex_count\n",
    "        self.dfs_util(0,visited)\n",
    "        if visited == [True]*self.vertex_count:\n",
    "            return True\n",
    "        return False\n",
    "\n",
    "    def dfs_util(self,source,visited):\n",
    "        \"\"\"\n",
    "        Determine if all nodes are reachable from the given node\n",
    "        \"\"\"\n",
    "        visited[source] = True\n",
    "        for adjacent in self.graph[source]:\n",
    "            if not visited[adjacent]:\n",
    "                self.dfs_util(adjacent,visited)\n",
    "\n",
    "    def reverse_graph(self):\n",
    "        \"\"\"\n",
    "        Create a new graph where every edge a->b is replaced with an edge b->a\n",
    "        \"\"\"\n",
    "        reverse_graph = Graph(self.vertex_count)\n",
    "        for source, adjacent in self.graph.items():\n",
    "            for target in adjacent:\n",
    "                # Note: we reverse the order of arguments\n",
    "                # pylint: disable=arguments-out-of-order\n",
    "                reverse_graph.add_edge(target,source)\n",
    "        return reverse_graph\n",
    "\n",
    "\n",
    "    def is_strongly_connected(self):\n",
    "        \"\"\"\n",
    "        Determine if the graph is strongly connected.\n",
    "        \"\"\"\n",
    "        if self.dfs():\n",
    "            reversed_graph = self.reverse_graph()\n",
    "            if reversed_graph.dfs():\n",
    "                return True\n",
    "        return False"
   ]
  },
  {
   "cell_type": "markdown",
   "metadata": {},
   "source": [
    "## Cloning an Undirected Graph using BFS, Iterative DFS, and Recursive DFS"
   ]
  },
  {
   "cell_type": "code",
   "execution_count": null,
   "metadata": {},
   "outputs": [],
   "source": [
    "\"\"\"\n",
    "Clone an undirected graph. Each node in the graph contains a label and a list\n",
    "of its neighbors.\n",
    "\n",
    "\n",
    "OJ's undirected graph serialization:\n",
    "Nodes are labeled uniquely.\n",
    "\n",
    "We use # as a separator for each node, and , as a separator for node label and\n",
    "each neighbor of the node.\n",
    "As an example, consider the serialized graph {0,1,2#1,2#2,2}.\n",
    "\n",
    "The graph has a total of three nodes, and therefore contains three parts as\n",
    "separated by #.\n",
    "\n",
    "First node is labeled as 0. Connect node 0 to both nodes 1 and 2.\n",
    "Second node is labeled as 1. Connect node 1 to node 2.\n",
    "Third node is labeled as 2. Connect node 2 to node 2 (itself), thus forming a\n",
    "self-cycle.\n",
    "Visually, the graph looks like the following:\n",
    "\n",
    "       1\n",
    "      / \\\n",
    "     /   \\\n",
    "    0 --- 2\n",
    "         / \\\n",
    "         \\_/\n",
    "\"\"\""
   ]
  },
  {
   "cell_type": "code",
   "execution_count": null,
   "metadata": {},
   "outputs": [],
   "source": [
    "import collections"
   ]
  },
  {
   "cell_type": "markdown",
   "metadata": {},
   "source": [
    "#### A node in an undirected graph. Contains a label and a list of neighbouring nodes (initially empty)."
   ]
  },
  {
   "cell_type": "code",
   "execution_count": null,
   "metadata": {},
   "outputs": [],
   "source": [
    "class UndirectedGraphNode:\n",
    "    def __init__(self, label):\n",
    "        self.label = label\n",
    "        self.neighbors = []\n",
    "\n",
    "    def shallow_copy(self):\n",
    "        \"\"\"\n",
    "        Return a shallow copy of this node (ignoring any neighbors)\n",
    "        \"\"\"\n",
    "        return UndirectedGraphNode(self.label)\n",
    "\n",
    "    def add_neighbor(self, node):\n",
    "        \"\"\"\n",
    "        Adds a new neighbor\n",
    "        \"\"\"\n",
    "        self.neighbors.append(node)"
   ]
  },
  {
   "cell_type": "markdown",
   "metadata": {},
   "source": [
    "####  Returns a new graph as seen from the given node using a breadth first search (BFS)."
   ]
  },
  {
   "cell_type": "code",
   "execution_count": null,
   "metadata": {},
   "outputs": [],
   "source": [
    "def clone_graph1(node):\n",
    "    if not node:\n",
    "        return None\n",
    "    node_copy = node.shallow_copy()\n",
    "    dic = {node: node_copy}\n",
    "    queue = collections.deque([node])\n",
    "    while queue:\n",
    "        node = queue.popleft()\n",
    "        for neighbor in node.neighbors:\n",
    "            if neighbor not in dic:  # neighbor is not visited\n",
    "                neighbor_copy = neighbor.shallow_copy()\n",
    "                dic[neighbor] = neighbor_copy\n",
    "                dic[node].add_neighbor(neighbor_copy)\n",
    "                queue.append(neighbor)\n",
    "            else:\n",
    "                dic[node].add_neighbor(dic[neighbor])\n",
    "    return node_copy"
   ]
  },
  {
   "cell_type": "markdown",
   "metadata": {},
   "source": [
    "####  Returns a new graph as seen from the given node using an iterative depth first search (DFS)."
   ]
  },
  {
   "cell_type": "code",
   "execution_count": null,
   "metadata": {},
   "outputs": [],
   "source": [
    "def clone_graph2(node):\n",
    "    if not node:\n",
    "        return None\n",
    "    node_copy = node.shallow_copy()\n",
    "    dic = {node: node_copy}\n",
    "    stack = [node]\n",
    "    while stack:\n",
    "        node = stack.pop()\n",
    "        for neighbor in node.neighbors:\n",
    "            if neighbor not in dic:\n",
    "                neighbor_copy = neighbor.shallow_copy()\n",
    "                dic[neighbor] = neighbor_copy\n",
    "                dic[node].add_neighbor(neighbor_copy)\n",
    "                stack.append(neighbor)\n",
    "            else:\n",
    "                dic[node].add_neighbor(dic[neighbor])\n",
    "    return node_copy\n"
   ]
  },
  {
   "cell_type": "markdown",
   "metadata": {},
   "source": [
    "#### Returns a new graph as seen from the given node using a recursive depth first search (DFS).\n",
    "    "
   ]
  },
  {
   "cell_type": "code",
   "execution_count": null,
   "metadata": {},
   "outputs": [],
   "source": [
    "def clone_graph(node):\n",
    "    if not node:\n",
    "        return None\n",
    "    node_copy = node.shallow_copy()\n",
    "    dic = {node: node_copy}\n",
    "    dfs(node, dic)\n",
    "    return node_copy"
   ]
  },
  {
   "cell_type": "markdown",
   "metadata": {},
   "source": [
    "#### Clones a graph using a recursive depth first search. Stores the clones in the dictionary, keyed by the original nodes."
   ]
  },
  {
   "cell_type": "code",
   "execution_count": null,
   "metadata": {},
   "outputs": [],
   "source": [
    "def dfs(node, dic):\n",
    "    for neighbor in node.neighbors:\n",
    "        if neighbor not in dic:\n",
    "            neighbor_copy = neighbor.shallow_copy()\n",
    "            dic[neighbor] = neighbor_copy\n",
    "            dic[node].add_neighbor(neighbor_copy)\n",
    "            dfs(neighbor, dic)\n",
    "        else:\n",
    "            dic[node].add_neighbor(dic[neighbor])"
   ]
  },
  {
   "cell_type": "markdown",
   "metadata": {},
   "source": [
    "## Connected Components in an Undirected Graph using DFS"
   ]
  },
  {
   "cell_type": "markdown",
   "metadata": {},
   "source": [
    "#### In graph theory, a component, sometimes called a connected component, of an undirected graph is a subgraph in which any two vertices are connected to each other by paths."
   ]
  },
  {
   "cell_type": "code",
   "execution_count": null,
   "metadata": {},
   "outputs": [],
   "source": [
    "# Count connected no of component using DFS\n",
    "'''\n",
    "Example:\n",
    "\n",
    "\n",
    "    1                3------------7\n",
    "    |\n",
    "    |\n",
    "    2--------4\n",
    "    |        |\n",
    "    |        |              output = 2\n",
    "    6--------5\n",
    "\n",
    "'''"
   ]
  },
  {
   "cell_type": "code",
   "execution_count": null,
   "metadata": {},
   "outputs": [],
   "source": [
    "def dfs(source,visited,adjacency_list):\n",
    "    ''' Function that performs DFS '''\n",
    "\n",
    "    visited[source] = True\n",
    "    for child in adjacency_list[source]:\n",
    "        if not visited[child]:\n",
    "            dfs(child,visited,adjacency_list)\n",
    "\n",
    "def count_components(adjacency_list,size):\n",
    "    '''\n",
    "    Function that counts the Connected components on bases of DFS.\n",
    "    return type : int\n",
    "    '''\n",
    "\n",
    "    count = 0\n",
    "    visited = [False]*(size+1)\n",
    "    for i in range(1,size+1):\n",
    "        if not visited[i]:\n",
    "            dfs(i,visited,adjacency_list)\n",
    "            count+=1\n",
    "    return count\n",
    "\n",
    "def main():\n",
    "    \"\"\"\n",
    "    Example application\n",
    "    \"\"\"\n",
    "    node_count,edge_count = map(int, input(\"Enter the Number of Nodes and Edges \\n\").split(' '))\n",
    "    adjacency = [[] for _ in range(node_count+1)]\n",
    "    for _ in range(edge_count):\n",
    "        print(\"Enter the edge's Nodes in form of `source target`\\n\")\n",
    "        source,target = map(int,input().split(' '))\n",
    "        adjacency[source].append(target)\n",
    "        adjacency[target].append(source)\n",
    "    print(\"Total number of Connected Components are : \", count_components(adjacency,node_count))\n",
    "\n",
    "# Driver code\n",
    "if __name__ == '__main__':\n",
    "    main()"
   ]
  },
  {
   "cell_type": "markdown",
   "metadata": {},
   "source": [
    "## Cycle Detection in a Directed Graph using DFS and Traversal States"
   ]
  },
  {
   "cell_type": "markdown",
   "metadata": {},
   "source": [
    "#### Given a directed graph, check whether it contains a cycle.\n",
    "\n",
    "#### Real-life scenario: deadlock detection in a system. Processes may be represented by vertices, then and an edge A -> B could mean that process A is waiting for B to release its lock on a resource."
   ]
  },
  {
   "cell_type": "code",
   "execution_count": null,
   "metadata": {},
   "outputs": [],
   "source": [
    "from enum import Enum"
   ]
  },
  {
   "cell_type": "code",
   "execution_count": null,
   "metadata": {},
   "outputs": [],
   "source": [
    "class TraversalState(Enum):\n",
    "    \"\"\"\n",
    "    For a given node:\n",
    "        - WHITE: has not been visited yet\n",
    "        - GRAY: is currently being investigated for a cycle\n",
    "        - BLACK: is not part of a cycle\n",
    "    \"\"\"\n",
    "    WHITE = 0\n",
    "    GRAY = 1\n",
    "    BLACK = 2\n",
    "\n",
    "def is_in_cycle(graph, traversal_states, vertex):\n",
    "    \"\"\"\n",
    "    Determines if the given vertex is in a cycle.\n",
    "\n",
    "    :param: traversal_states: for each vertex, the state it is in\n",
    "    \"\"\"\n",
    "    if traversal_states[vertex] == TraversalState.GRAY:\n",
    "        return True\n",
    "    traversal_states[vertex] = TraversalState.GRAY\n",
    "    for neighbor in graph[vertex]:\n",
    "        if is_in_cycle(graph, traversal_states, neighbor):\n",
    "            return True\n",
    "    traversal_states[vertex] = TraversalState.BLACK\n",
    "    return False\n",
    "\n",
    "\n",
    "def contains_cycle(graph):\n",
    "    \"\"\"\n",
    "    Determines if there is a cycle in the given graph.\n",
    "    The graph should be given as a dictionary:\n",
    "\n",
    "        graph = {'A': ['B', 'C'],\n",
    "                 'B': ['D'],\n",
    "                 'C': ['F'],\n",
    "                 'D': ['E', 'F'],\n",
    "                 'E': ['B'],\n",
    "                 'F': []}\n",
    "    \"\"\"\n",
    "    traversal_states = {vertex: TraversalState.WHITE for vertex in graph}\n",
    "    for vertex, state in traversal_states.items():\n",
    "        if (state == TraversalState.WHITE and\n",
    "           is_in_cycle(graph, traversal_states, vertex)):\n",
    "            return True\n",
    "    return False"
   ]
  },
  {
   "cell_type": "markdown",
   "metadata": {},
   "source": [
    "## Dijkstra's single-source shortest-path algorithm"
   ]
  },
  {
   "cell_type": "markdown",
   "metadata": {},
   "source": [
    "#### Dijkstra's algorithm is a way to find the shortest path from one place to all other places in a map (or network). Imagine you're trying to travel from one city to many other cities, and you want to find the path that takes the least time or distance. The algorithm checks each possible route step by step, starting with the shortest one, until it finds the quickest way to reach every other city."
   ]
  },
  {
   "cell_type": "code",
   "execution_count": null,
   "metadata": {},
   "outputs": [],
   "source": [
    "class Dijkstra():\n",
    "    \"\"\"\n",
    "    A fully connected directed graph with edge weights\n",
    "    \"\"\"\n",
    "\n",
    "    def __init__(self, vertex_count):\n",
    "        self.vertex_count = vertex_count\n",
    "        self.graph = [[0 for _ in range(vertex_count)] for _ in range(vertex_count)]\n",
    "\n",
    "    def min_distance(self, dist, min_dist_set):\n",
    "        \"\"\"\n",
    "        Find the vertex that is closest to the visited set\n",
    "        \"\"\"\n",
    "        min_dist = float(\"inf\")\n",
    "        for target in range(self.vertex_count):\n",
    "            if min_dist_set[target]:\n",
    "                continue\n",
    "            if dist[target] < min_dist:\n",
    "                min_dist = dist[target]\n",
    "                min_index = target\n",
    "        return min_index\n",
    "\n",
    "    def dijkstra(self, src):\n",
    "        \"\"\"\n",
    "        Given a node, returns the shortest distance to every other node\n",
    "        \"\"\"\n",
    "        dist = [float(\"inf\")] * self.vertex_count\n",
    "        dist[src] = 0\n",
    "        min_dist_set = [False] * self.vertex_count\n",
    "\n",
    "        for _ in range(self.vertex_count):\n",
    "            #minimum distance vertex that is not processed\n",
    "            source = self.min_distance(dist, min_dist_set)\n",
    "\n",
    "            #put minimum distance vertex in shortest tree\n",
    "            min_dist_set[source] = True\n",
    "\n",
    "            #Update dist value of the adjacent vertices\n",
    "            for target in range(self.vertex_count):\n",
    "                if self.graph[source][target] <= 0 or min_dist_set[target]:\n",
    "                    continue\n",
    "                if dist[target] > dist[source] + self.graph[source][target]:\n",
    "                    dist[target] = dist[source] + self.graph[source][target]\n",
    "\n",
    "        return dist"
   ]
  }
 ],
 "metadata": {
  "language_info": {
   "name": "python"
  }
 },
 "nbformat": 4,
 "nbformat_minor": 2
}
