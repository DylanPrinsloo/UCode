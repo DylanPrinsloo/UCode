{
 "cells": [
  {
   "cell_type": "markdown",
   "metadata": {},
   "source": [
    "#  **Graph**\n",
    "is a data structure made up of vertices (nodes) connected by edges. Graph theory deals with various types of graph problems like traversals, shortest path, and connectivity.\n",
    "   - **Applications:** Social networks, network routing, and navigation."
   ]
  },
  {
   "cell_type": "code",
   "execution_count": null,
   "metadata": {},
   "outputs": [],
   "source": [
    "# Collection of algorithms on graphs.\n",
    "# init\n",
    "\n",
    "from .tarjan import *\n",
    "from .check_bipartite import *\n",
    "from .maximum_flow import *\n",
    "from .maximum_flow_bfs import *\n",
    "from .maximum_flow_dfs import *\n",
    "from .all_pairs_shortest_path import *\n",
    "from .bellman_ford import *\n",
    "from .prims_minimum_spanning import *"
   ]
  },
  {
   "cell_type": "markdown",
   "metadata": {},
   "source": [
    "## Floyd-Warshall Algorithm for All Pairs Shortest Path"
   ]
  },
  {
   "cell_type": "code",
   "execution_count": null,
   "metadata": {},
   "outputs": [],
   "source": [
    "\"\"\"\n",
    "Given a n*n adjacency array.\n",
    "it will give you all pairs shortest path length.\n",
    "use deepcopy to preserve the original information.\n",
    "\n",
    "Time complexity : O(E^3)\n",
    "\n",
    "example\n",
    "\n",
    "a = [[0    , 0.1  , 0.101, 0.142, 0.277],\n",
    "     [0.465, 0    , 0.191, 0.192, 0.587],\n",
    "     [0.245, 0.554, 0    , 0.333, 0.931],\n",
    "     [1.032, 0.668, 0.656, 0    , 0.151],\n",
    "     [0.867, 0.119, 0.352, 0.398, 0]]\n",
    "\n",
    "result\n",
    "\n",
    "[[0    , 0.1  , 0.101, 0.142, 0.277],\n",
    " [0.436, 0    , 0.191, 0.192, 0.343],\n",
    " [0.245, 0.345, 0    , 0.333, 0.484],\n",
    " [0.706, 0.27 , 0.461, 0    , 0.151],\n",
    " [0.555, 0.119, 0.31 , 0.311, 0]]\n",
    "\n",
    "\"\"\""
   ]
  },
  {
   "cell_type": "code",
   "execution_count": null,
   "metadata": {},
   "outputs": [],
   "source": [
    "import copy\n",
    "\n",
    "def all_pairs_shortest_path(adjacency_matrix):\n",
    "    \"\"\"\n",
    "    Given a matrix of the edge weights between respective nodes, returns a\n",
    "    matrix containing the shortest distance distance between the two nodes.\n",
    "    \"\"\"\n",
    "\n",
    "    new_array = copy.deepcopy(adjacency_matrix)\n",
    "\n",
    "    size = len(new_array)\n",
    "    for k in range(size):\n",
    "        for i in range(size):\n",
    "            for j in range(size):\n",
    "                if new_array[i][j] > new_array[i][k] + new_array[k][j]:\n",
    "                    new_array[i][j] = new_array[i][k] + new_array[k][j]\n",
    "\n",
    "    return new_array\n"
   ]
  },
  {
   "cell_type": "markdown",
   "metadata": {},
   "source": [
    "## Bellman-Ford Algorithm for Single-Source Shortest Path"
   ]
  },
  {
   "cell_type": "markdown",
   "metadata": {},
   "source": [
    "#### is for determination whether we can get shortest path from given graph or not for single-source shortest-paths problem. In other words, if given graph has any negative-weight cycle that is reachable from the source, then it will give answer False for \"no solution exits\". For argument graph, it should be a dictionary type such as\n",
    "   "
   ]
  },
  {
   "cell_type": "code",
   "execution_count": null,
   "metadata": {},
   "outputs": [],
   "source": [
    "\"\"\"\n",
    "argument graph:\n",
    "\n",
    "graph = {\n",
    "        'a': {'b': 6, 'e': 7},\n",
    "        'b': {'c': 5, 'd': -4, 'e': 8},\n",
    "        'c': {'b': -2},\n",
    "        'd': {'a': 2, 'c': 7},\n",
    "        'e': {'b': -3}\n",
    "    }\n",
    "\"\"\""
   ]
  },
  {
   "cell_type": "code",
   "execution_count": null,
   "metadata": {},
   "outputs": [],
   "source": [
    "\n",
    "# Determination of single-source shortest-path.\n"
   ]
  },
  {
   "cell_type": "code",
   "execution_count": null,
   "metadata": {},
   "outputs": [],
   "source": [
    "def bellman_ford(graph, source):\n",
    "    weight = {}\n",
    "    pre_node = {}\n",
    "\n",
    "    initialize_single_source(graph, source, weight, pre_node)\n",
    "\n",
    "    for _ in range(1, len(graph)):\n",
    "        for node in graph:\n",
    "            for adjacent in graph[node]:\n",
    "                if weight[adjacent] > weight[node] + graph[node][adjacent]:\n",
    "                    weight[adjacent] = weight[node] + graph[node][adjacent]\n",
    "                    pre_node[adjacent] = node\n",
    "\n",
    "    for node in graph:\n",
    "        for adjacent in graph[node]:\n",
    "            if weight[adjacent] > weight[node] + graph[node][adjacent]:\n",
    "                return False\n",
    "\n",
    "    return True\n",
    "\n",
    "def initialize_single_source(graph, source, weight, pre_node):\n",
    "    \"\"\"\n",
    "    Initialize data structures for Bellman-Ford algorithm.\n",
    "    \"\"\"\n",
    "    for node in graph:\n",
    "        weight[node] = float('inf')\n",
    "        pre_node[node] = None\n",
    "\n",
    "    weight[source] = 0\n"
   ]
  },
  {
   "cell_type": "markdown",
   "metadata": {},
   "source": [
    "## Bipartite Graph Check using BFS"
   ]
  },
  {
   "cell_type": "code",
   "execution_count": null,
   "metadata": {},
   "outputs": [],
   "source": [
    "\n",
    "# Bipartite graph is a graph whose vertices can be divided into two disjoint and independent sets.\n",
    "# (https://en.wikipedia.org/wiki/Bipartite_graph)\n"
   ]
  },
  {
   "cell_type": "code",
   "execution_count": null,
   "metadata": {},
   "outputs": [],
   "source": [
    "def check_bipartite(adj_list):\n",
    "    \"\"\"\n",
    "    Determine if the given graph is bipartite.\n",
    "\n",
    "    Time complexity is O(|E|)\n",
    "    Space complexity is O(|V|)\n",
    "    \"\"\"\n",
    "\n",
    "    vertices = len(adj_list)\n",
    "\n",
    "    # Divide vertexes in the graph into set_type 0 and 1\n",
    "    # Initialize all set_types as -1\n",
    "    set_type = [-1 for v in range(vertices)]\n",
    "    set_type[0] = 0\n",
    "\n",
    "    queue = [0]\n",
    "\n",
    "    while queue:\n",
    "        current = queue.pop(0)\n",
    "\n",
    "        # If there is a self-loop, it cannot be bipartite\n",
    "        if adj_list[current][current]:\n",
    "            return False\n",
    "\n",
    "        for adjacent in range(vertices):\n",
    "            if adj_list[current][adjacent]:\n",
    "                if set_type[adjacent] == set_type[current]:\n",
    "                    return False\n",
    "\n",
    "                if set_type[adjacent] == -1:\n",
    "                    # set type of u opposite of v\n",
    "                    set_type[adjacent] = 1 - set_type[current]\n",
    "                    queue.append(adjacent)\n",
    "\n",
    "    return True"
   ]
  },
  {
   "cell_type": "markdown",
   "metadata": {},
   "source": []
  },
  {
   "cell_type": "code",
   "execution_count": null,
   "metadata": {},
   "outputs": [],
   "source": [
    "# still adding "
   ]
  }
 ],
 "metadata": {
  "language_info": {
   "name": "python"
  }
 },
 "nbformat": 4,
 "nbformat_minor": 2
}
