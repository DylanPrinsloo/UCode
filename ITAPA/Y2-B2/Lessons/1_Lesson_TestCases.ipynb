{
 "cells": [
  {
   "cell_type": "code",
   "execution_count": null,
   "id": "e14e9e14-a92d-437c-ab4f-b4ba7306cc27",
   "metadata": {},
   "outputs": [],
   "source": [
    "'''\n",
    "The assert Statement \n",
    "A built-in statement in Python used to, as the name says, assert if a given condition is true or not. \n",
    "If the condition is true, nothing happens, but if it's not true, an error is raised\n",
    "\n",
    "Syntax\n",
    "assert <condition being tested>, <error message to be displayed>\n",
    "'''"
   ]
  },
  {
   "cell_type": "code",
   "execution_count": null,
   "id": "af15fcdd-f67c-475b-af62-0c00eea26263",
   "metadata": {},
   "outputs": [],
   "source": [
    "assert 1>0"
   ]
  },
  {
   "cell_type": "code",
   "execution_count": null,
   "id": "5c496b5b-7843-486d-b71a-9e1553288a4e",
   "metadata": {},
   "outputs": [],
   "source": [
    "assert 1<0, \"1 is not less than zero\""
   ]
  },
  {
   "cell_type": "code",
   "execution_count": null,
   "id": "9d46d2d3-48c8-462d-b98b-e57ddd3ebc6d",
   "metadata": {},
   "outputs": [],
   "source": [
    "n=0\n",
    "assert 1<n, \"The condition is false\""
   ]
  },
  {
   "cell_type": "code",
   "execution_count": null,
   "id": "f061a211-18f3-41a8-81b0-575a1262a6af",
   "metadata": {},
   "outputs": [],
   "source": [
    "'''\n",
    "The unittest Module\n",
    "The unittest module is a framework designed to make our lives easier when it comes to testing code.\n",
    "\n",
    "A test case is considered a single unit of testing, and it's represented by the TestCase class.\n",
    "It's used as a base class to create our own test cases that enable us to run multiple tests at once.\n",
    "'''"
   ]
  },
  {
   "cell_type": "code",
   "execution_count": null,
   "id": "57aacfd0-1a51-47ee-8aaa-5aea208a6ae0",
   "metadata": {},
   "outputs": [],
   "source": [
    "class Calculations:\n",
    "    def __init__(self, a, b):\n",
    "        self.a = a\n",
    "        self.b = b\n",
    "\n",
    "    def get_sum(self):\n",
    "        return self.a + self.b\n",
    "\n",
    "    def get_difference(self):\n",
    "        return self.a - self.b\n",
    "\n",
    "    def get_product(self):\n",
    "        return self.a * self.b\n",
    "\n",
    "    def get_quotient(self):\n",
    "        return self.a / self.b"
   ]
  },
  {
   "cell_type": "code",
   "execution_count": null,
   "id": "e4fb5133-df50-41ff-9f1e-3ba977c0a2ed",
   "metadata": {},
   "outputs": [],
   "source": [
    "import unittest\n",
    "from ipynb.fs.full.Calculations import Calculations\n",
    "\n",
    "class TestCalculations(unittest.TestCase):\n",
    "\n",
    "    def test_sum(self):\n",
    "        calculation = Calculations(8, 2)\n",
    "        self.assertEqual(calculation.get_sum(), 10, 'The sum is wrong.')\n",
    "\n",
    "    def test_diff(self):\n",
    "        calculation = Calculations(8, 2)\n",
    "        self.assertEqual(calculation.get_difference(), 6, 'The difference is wrong.')\n",
    "\n",
    "    def test_product(self):\n",
    "        calculation = Calculations(8, 2)\n",
    "        self.assertEqual(calculation.get_product(), 16, 'The product is wrong.')\n",
    "\n",
    "    def test_quotient(self):\n",
    "        calculation = Calculations(8, 2)\n",
    "        self.assertEqual(calculation.get_quotient(), 4, 'The quotient is wrong.')\n",
    "\n",
    "if __name__ == '__main__':\n",
    "    unittest.main(argv=[''], exit=False)"
   ]
  },
  {
   "cell_type": "code",
   "execution_count": null,
   "id": "dcdf816c-9d06-44a2-84c3-49c318cb9458",
   "metadata": {},
   "outputs": [],
   "source": [
    "#The setUp Method\n",
    "\n",
    "import unittest\n",
    "from ipynb.fs.full.Calculations import Calculations\n",
    "\n",
    "class TestCalculations(unittest.TestCase):\n",
    "\n",
    "    def setUp(self):\n",
    "        self.calculation = Calculations(8, 2)\n",
    "    \n",
    "    def test_sum(self):\n",
    "        self.assertEqual(self.calculation.get_sum(), 10, 'The sum is wrong.')\n",
    "\n",
    "    def test_diff(self):\n",
    "        self.assertEqual(self.calculation.get_difference(), 6, 'The difference is wrong.')\n",
    "\n",
    "    def test_product(self):\n",
    "        self.assertEqual(self.calculation.get_product(), 16, 'The product is wrong.')\n",
    "\n",
    "    def test_quotient(self):\n",
    "        self.assertEqual(self.calculation.get_quotient(), 4, 'The quotient is wrong.')\n",
    "\n",
    "if __name__ == '__main__':\n",
    "    unittest.main(argv=[''], exit=False)"
   ]
  },
  {
   "cell_type": "code",
   "execution_count": null,
   "id": "dbfcf1b7-c3e6-46f7-aee5-495a95498305",
   "metadata": {},
   "outputs": [],
   "source": [
    "'''\n",
    "Circle area function\n",
    "'''"
   ]
  },
  {
   "cell_type": "code",
   "execution_count": 1,
   "id": "220892bc-8d79-478c-b21c-b7efd80c4fb9",
   "metadata": {},
   "outputs": [],
   "source": [
    "import math\n",
    "\n",
    "def circle_area(radius):\n",
    "    if type(radius) not in [int, float]:\n",
    "        raise TypeError    \n",
    "    if radius < 0:\n",
    "        raise ValueError\n",
    "    return math.pi * radius**2"
   ]
  },
  {
   "cell_type": "code",
   "execution_count": null,
   "id": "33f98e2e-50ba-41e5-b8b2-1452f904b15e",
   "metadata": {},
   "outputs": [],
   "source": [
    "#Testcases\n",
    "\n",
    "import unittest\n",
    "from ipynb.fs.full.CircleArea import circle_area\n",
    "\n",
    "class TestCircleArea(unittest.TestCase):\n",
    "\n",
    "    def test_circle_area_with_radius_zero(self):\n",
    "        # Test the area of a circle with radius 0\n",
    "        radius = 0\n",
    "        expected_area = 0\n",
    "        self.assertAlmostEqual(circle_area(radius), expected_area, delta=0.0001, msg=\"wromg\")\n",
    "        #self.assertAlmostEqual(3.0, 3.0001, delta=0.001) \n",
    "\n",
    "    def test_circle_area_with_positive_radius(self):\n",
    "        # Test the area of a circle with positive radius\n",
    "        radius = 5\n",
    "        expected_area = 78.5398  # calculated manually (pi * radius^2)\n",
    "        self.assertAlmostEqual(circle_area(radius), expected_area, delta=0.0001)\n",
    "\n",
    "        \n",
    "    def test_circle_area_with_negative_radius(self):\n",
    "        # Test the area of a circle with negative radius\n",
    "        radius = -5\n",
    "        with self.assertRaises(ValueError, msg=\"Function should raise ValueError for negative radius\"):\n",
    "            circle_area(radius)\n",
    "\n",
    "    def test_circle_area_with_non_integer_radius(self):\n",
    "        # Test the area of a circle with non-integer radius\n",
    "        radius = True\n",
    "        with self.assertRaises(TypeError, msg=\"Function should raise TypeError for non-integer radius\"):\n",
    "            circle_area(radius)        \n",
    "\n",
    "if __name__ == '__main__':\n",
    "    unittest.main(argv=[''], exit=False)\n",
    "    #unittest.main()\n"
   ]
  }
 ],
 "metadata": {
  "kernelspec": {
   "display_name": "Python 3 (ipykernel)",
   "language": "python",
   "name": "python3"
  },
  "language_info": {
   "codemirror_mode": {
    "name": "ipython",
    "version": 3
   },
   "file_extension": ".py",
   "mimetype": "text/x-python",
   "name": "python",
   "nbconvert_exporter": "python",
   "pygments_lexer": "ipython3",
   "version": "3.12.3"
  }
 },
 "nbformat": 4,
 "nbformat_minor": 5
}
