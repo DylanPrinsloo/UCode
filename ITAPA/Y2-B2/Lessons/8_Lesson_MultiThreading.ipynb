{
 "cells": [
  {
   "cell_type": "markdown",
   "id": "665ac3cb-281b-42b1-9733-8bdad9e372ef",
   "metadata": {},
   "source": [
    "## Introduction to Concurrency in Python\n",
    "\n",
    "## Overview\n",
    "Concurrency is a technique that allows multiple tasks to run simultaneously, making efficient use of system resources and improving the performance of applications. In Python, concurrency can be achieved using processes and threads. This lesson will introduce you to these concepts, explain their differences, and provide examples of how to implement them in Python.\n",
    "\n",
    "### Learning Objectives\n",
    "By the end of this lesson, you should be able to:\n",
    "1. Understand the concepts of concurrency, processes, and threads.\n",
    "2. Differentiate between processes and threads.\n",
    "3. Implement concurrency using the `multiprocessing` and `threading` modules in Python.\n",
    "4. Understand common use cases and challenges associated with concurrency.\n",
    "\n"
   ]
  },
  {
   "cell_type": "markdown",
   "id": "951c9bb8-17cb-4d45-8f7a-5201fe90e69a",
   "metadata": {},
   "source": [
    "### Concurrency Concepts\n",
    "Concurrency involves multiple tasks making progress at the same time. These tasks can be managed using:\n",
    "- **Processes**: Independent units of execution with their own memory space.\n",
    "- **Threads**: Units of execution within a process that share the same memory space."
   ]
  },
  {
   "cell_type": "markdown",
   "id": "248b207a-a758-4826-a539-40dde1fe828e",
   "metadata": {},
   "source": [
    "## The threading Module\n",
    "### Creating threads\n",
    "\n",
    "### Python's `threading` Module\n",
    "The `threading` module provides a higher-level, more powerful interface for thread management. It treats each thread as an object, allowing for better organization and the use of OOP principles.\n",
    "\n",
    "#### Characteristics\n",
    "- High-level interface.\n",
    "- Threads are managed as objects.\n",
    "- More functionalities like synchronization primitives (e.g., locks, events, conditions, semaphores)."
   ]
  },
  {
   "cell_type": "code",
   "execution_count": 45,
   "id": "3e36217f-515a-463e-b577-5ecc39637fef",
   "metadata": {},
   "outputs": [
    {
     "name": "stdout",
     "output_type": "stream",
     "text": [
      "1\n",
      "2\n",
      "1\n",
      "2\n",
      "Execution time: 4.0116400718688965 seconds\n"
     ]
    }
   ],
   "source": [
    "def print_numbers():\n",
    "    for i in range(1, 3):\n",
    "        print(i)\n",
    "        time.sleep(1)\n",
    "\n",
    "start_time = time.time()\n",
    "\n",
    "print_numbers()\n",
    "print_numbers()\n",
    "\n",
    "end_time = time.time()\n",
    "\n",
    "print(f\"Execution time: {end_time - start_time} seconds\")"
   ]
  },
  {
   "cell_type": "markdown",
   "id": "7f18193e-7327-4171-9dc6-3aff7ec1ee2a",
   "metadata": {},
   "source": [
    "### Steps to Implement Multithreading\n",
    "\n",
    "1. **Import the `threading` module**:\n",
    "   ```python\n",
    "   import threading\n",
    "   ```\n",
    "\n",
    "2. **Define a function for the thread to execute**:\n",
    "   ```python\n",
    "   def worker():\n",
    "       # Perform some task\n",
    "       pass\n",
    "   ```\n",
    "\n",
    "3. **Create a `Thread` object and pass the function as the target**:\n",
    "   ```python\n",
    "   thread = threading.Thread(target=worker)\n",
    "   ```\n",
    "\n",
    "4. **Start the thread using the `start()` method**:\n",
    "   ```python\n",
    "   thread.start()\n",
    "   ```\n",
    "\n",
    "5. **Optionally, use `join()` to wait for the thread to complete**:\n",
    "   ```python\n",
    "   thread.join()\n",
    "   ```"
   ]
  },
  {
   "cell_type": "code",
   "execution_count": 44,
   "id": "76f1ec99-aeaa-4c83-833d-989b820ca999",
   "metadata": {},
   "outputs": [
    {
     "name": "stdout",
     "output_type": "stream",
     "text": [
      "1\n",
      "2\n",
      "Execution time: 2.00860595703125 seconds\n",
      "Thread finished execution\n"
     ]
    }
   ],
   "source": [
    "import threading\n",
    "import time\n",
    "\n",
    "def print_numbers():\n",
    "    for i in range(1, 3):\n",
    "        print(i)\n",
    "        time.sleep(1)\n",
    "\n",
    "start_time = time.time()\n",
    "# Create a thread\n",
    "thread = threading.Thread(target=print_numbers)\n",
    "\n",
    "# Start the thread\n",
    "thread.start()\n",
    "\n",
    "# Wait for the thread to complete\n",
    "thread.join()\n",
    "\n",
    "end_time = time.time()\n",
    "\n",
    "print(f\"Execution time: {end_time - start_time} seconds\")\n",
    "\n",
    "print(\"Thread finished execution\")\n"
   ]
  },
  {
   "cell_type": "markdown",
   "id": "8c377973-0495-4706-bcaa-b4ffda3d301d",
   "metadata": {},
   "source": [
    "### What we did in the example\n",
    " - We define a function print_numbers that prints numbers from 1 to 5 with a 1-second interval.\n",
    " - We create a thread targeting this function.\n",
    " - We start the thread using thread.start().\n",
    " - We wait for the thread to complete using thread.join()."
   ]
  },
  {
   "cell_type": "markdown",
   "id": "2e60ed63-a847-475f-b58f-665ad4a84706",
   "metadata": {},
   "source": [
    "### Create multiple threads\n",
    "We can create multiple threads to perform concurrent tasks."
   ]
  },
  {
   "cell_type": "code",
   "execution_count": 48,
   "id": "6d677731-696e-49b7-b616-99673019bf32",
   "metadata": {},
   "outputs": [
    {
     "name": "stdout",
     "output_type": "stream",
     "text": [
      "1\n",
      "1\n",
      "22\n",
      "\n",
      "Both threads finished execution\n",
      "Execution time: 2.013622999191284 seconds\n"
     ]
    }
   ],
   "source": [
    "import threading\n",
    "import time\n",
    "\n",
    "# Define a global lock\n",
    "\n",
    "def print_numbers():\n",
    "    for i in range(1, 3):\n",
    "        print(i)\n",
    "        time.sleep(1)\n",
    "\n",
    "start_time = time.time()\n",
    "# Create the first thread\n",
    "thread1 = threading.Thread(target=print_numbers)\n",
    "thread1.start()\n",
    "\n",
    "# Create the second thread\n",
    "thread2 = threading.Thread(target=print_numbers)\n",
    "thread2.start()\n",
    "\n",
    "# Wait for both threads to complete\n",
    "thread1.join()\n",
    "thread2.join()\n",
    "end_time = time.time()\n",
    "\n",
    "print(\"Both threads finished execution\")\n",
    "print(f\"Execution time: {end_time - start_time} seconds\")\n"
   ]
  },
  {
   "cell_type": "markdown",
   "id": "45afe939-987b-4726-a224-26936d635db8",
   "metadata": {},
   "source": [
    "### Adding Multiple Threads Using a Loop\n",
    "    \n",
    " - We create a list called threads to store the thread objects.\n",
    " - We use a loop to create multiple threads, each targeting the print_numbers function.\n",
    " - Each thread is started using thread.start(), and the thread object is appended to the threads list.\n",
    " - After starting all threads, we use another loop to join each thread, ensuring the main program waits for all threads to complete."
   ]
  },
  {
   "cell_type": "code",
   "execution_count": null,
   "id": "fa4aade6-b1f0-4ac9-8edc-9091d2cb445a",
   "metadata": {},
   "outputs": [],
   "source": [
    "import threading\n",
    "import time\n",
    "\n",
    "def print_numbers():\n",
    "    for i in range(1, 6):\n",
    "        print(i)\n",
    "        time.sleep(1)\n",
    "\n",
    "# Create and start multiple threads using a loop\n",
    "threads = []\n",
    "for _ in range(3):  # Adjust the number of threads as needed\n",
    "    thread = threading.Thread(target=print_numbers)\n",
    "    threads.append(thread)\n",
    "    thread.start()\n",
    "\n",
    "# Wait for all threads to complete\n",
    "for thread in threads:\n",
    "    thread.join()\n",
    "\n",
    "print(\"All threads finished execution\")\n"
   ]
  },
  {
   "cell_type": "markdown",
   "id": "e11ba3b1-102c-429d-be12-48c37767ec14",
   "metadata": {},
   "source": [
    "### Adding Arguments to the Function\n",
    "\n",
    "Next, we'll modify the print_numbers function to accept an argument and pass different arguments to each thread\n",
    "\n",
    " - The print_numbers function is modified to accept an argument, name.\n",
    " - We create a list of names to be passed as arguments to the threads.\n",
    " - In the loop, we create each thread with threading.Thread(target=print_numbers, args=(name,)), where args is a tuple containing the argument for the function.\n",
    " - Each thread is started and appended to the threads list.\n",
    " - Finally, we join each thread to ensure the main program waits for all threads to complete."
   ]
  },
  {
   "cell_type": "code",
   "execution_count": 1,
   "id": "87af4dfb-a3f4-4780-bfeb-69e365d1aed8",
   "metadata": {},
   "outputs": [
    {
     "name": "stdout",
     "output_type": "stream",
     "text": [
      "Thread-1: 1Thread-2: 1\n",
      "\n",
      "Thread-3: 1\n",
      "Thread-2: 2Thread-1: 2\n",
      "Thread-3: 2\n",
      "\n",
      "Thread-2: 3Thread-3: 3\n",
      "\n",
      "Thread-1: 3\n",
      "Thread-1: 4Thread-3: 4\n",
      "\n",
      "Thread-2: 4\n",
      "Thread-3: 5Thread-2: 5\n",
      "\n",
      "Thread-1: 5\n",
      "All threads finished execution\n"
     ]
    }
   ],
   "source": [
    "import threading\n",
    "import time\n",
    "\n",
    "def print_numbers(name):\n",
    "    for i in range(1, 6):\n",
    "        print(f\"{name}: {i}\")\n",
    "        time.sleep(1)\n",
    "\n",
    "# Create and start multiple threads with arguments\n",
    "threads = []\n",
    "names = [\"Thread-1\", \"Thread-2\", \"Thread-3\"]  # Example arguments\n",
    "\n",
    "for name in names:\n",
    "    thread = threading.Thread(target=print_numbers, args=(name,))\n",
    "    threads.append(thread)\n",
    "    thread.start()\n",
    "\n",
    "# Wait for all threads to complete\n",
    "for thread in threads:\n",
    "    thread.join()\n",
    "\n",
    "print(\"All threads finished execution\")\n"
   ]
  },
  {
   "cell_type": "markdown",
   "id": "dceee7b8-f961-45f8-bd21-4ca3a59f4cb5",
   "metadata": {},
   "source": [
    "### Synchronizing Threads\n",
    "To prevent race conditions, you can use thread synchronization primitives like Locks."
   ]
  },
  {
   "cell_type": "code",
   "execution_count": null,
   "id": "cf18c65d-54aa-4824-a4b7-080206839298",
   "metadata": {},
   "outputs": [],
   "source": [
    "import threading\n",
    "import time\n",
    "\n",
    "lock = threading.Lock()\n",
    "\n",
    "def print_numbers():\n",
    "    with lock:\n",
    "        for i in range(1, 6):\n",
    "            print(f\"Numbers: {i}\")\n",
    "            time.sleep(1)\n",
    "\n",
    "def print_letters():\n",
    "    with lock:\n",
    "        for letter in 'ABCDE':\n",
    "            print(f\"Letters: {letter}\")\n",
    "            time.sleep(1.5)\n",
    "\n",
    "# Create threads\n",
    "thread1 = threading.Thread(target=print_numbers)\n",
    "thread2 = threading.Thread(target=print_letters)\n",
    "\n",
    "# Start threads\n",
    "thread1.start()\n",
    "thread2.start()\n",
    "\n",
    "# Wait for threads to complete\n",
    "thread1.join()\n",
    "thread2.join()\n",
    "\n",
    "print(\"Both threads finished execution\")\n"
   ]
  },
  {
   "cell_type": "markdown",
   "id": "d217ac82-3008-41a7-b863-22d9d61d6a4a",
   "metadata": {},
   "source": [
    "### Explanation\n",
    "\n",
    " - Define a Global Lock: \n",
    "    We define a global lock object using threading.Lock(). This lock will be used to synchronize access to the critical section of the code.\n",
    "\n",
    " - Using the Lock:\n",
    "    Within the print_numbers function, we use a with lock: statement to ensure that only one thread at a time can execute the code inside\n",
    "    this block. This prevents the print statements from different threads from interleaving and ensures that the output for each thread is\n",
    "    complete before another thread's output begins.\n",
    "\n",
    " - Create and Start Threads:\n",
    "    We create and start multiple threads as before, passing different arguments to each thread.\n",
    "\n",
    " - Wait for Threads to Complete:\n",
    "    We wait for all threads to complete using thread.join().\n",
    "\n",
    "By using a lock, we ensure that the print statements from different threads do not interleave, making the output easier to read and ensuring that each thread's output appears sequentially. This is particularly useful when threads are accessing shared resources or performing operations that should not be interleaved."
   ]
  },
  {
   "cell_type": "code",
   "execution_count": null,
   "id": "19ae0fa4-162c-424a-b358-91e8999a06fd",
   "metadata": {},
   "outputs": [],
   "source": [
    "import threading\n",
    "import time\n",
    "\n",
    "# Define a global lock\n",
    "lock = threading.Lock()\n",
    "\n",
    "def print_numbers(name):\n",
    "    for i in range(1, 6):\n",
    "        with lock:\n",
    "            print(f\"{name}: {i}\")\n",
    "        time.sleep(1)\n",
    "\n",
    "# Create and start multiple threads with arguments\n",
    "threads = []\n",
    "names = [\"Thread-1\", \"Thread-2\", \"Thread-3\"]  # Example arguments\n",
    "\n",
    "for name in names:\n",
    "    thread = threading.Thread(target=print_numbers, args=(name,))\n",
    "    threads.append(thread)\n",
    "    thread.start()\n",
    "\n",
    "# Wait for all threads to complete\n",
    "for thread in threads:\n",
    "    thread.join()\n",
    "\n",
    "print(\"All threads finished execution\")\n"
   ]
  },
  {
   "cell_type": "markdown",
   "id": "5f1e5232-ca5a-431f-8210-725c51807b12",
   "metadata": {},
   "source": [
    "### Web Scraping\n",
    "\n",
    "Here's a more complex example using multithreading to scrape multiple web pages concurrently."
   ]
  },
  {
   "cell_type": "code",
   "execution_count": null,
   "id": "5f0487e2-a56b-4286-bdf5-62a79f96b104",
   "metadata": {},
   "outputs": [],
   "source": [
    "import threading\n",
    "import requests\n",
    "from bs4 import BeautifulSoup\n",
    "\n",
    "urls = [\n",
    "    'https://example.com/page1',\n",
    "    'https://example.com/page2',\n",
    "    'https://example.com/page3'\n",
    "]\n",
    "\n",
    "def fetch_url(url):\n",
    "    response = requests.get(url)\n",
    "    if response.status_code == 200:\n",
    "        page_content = response.text\n",
    "        soup = BeautifulSoup(page_content, 'html.parser')\n",
    "        title = soup.title.string\n",
    "        print(f'Title of {url}: {title}')\n",
    "    else:\n",
    "        print(f'Failed to retrieve {url}')\n",
    "\n",
    "# Create a thread for each URL\n",
    "threads = []\n",
    "for url in urls:\n",
    "    thread = threading.Thread(target=fetch_url, args=(url,))\n",
    "    threads.append(thread)\n",
    "    thread.start()\n",
    "\n",
    "# Wait for all threads to complete\n",
    "for thread in threads:\n",
    "    thread.join()\n",
    "\n",
    "print(\"All URLs fetched\")"
   ]
  },
  {
   "cell_type": "markdown",
   "id": "1ee64a00-465b-452d-86b7-9804273e3306",
   "metadata": {},
   "source": [
    "### concurrent.futures\n",
    "\n",
    "The concurrent.futures module was introduced in Python 3.2. It provides a high-level interface for asynchronously executing callables (functions or methods) using threads or processes. This module abstracts away the details of thread and process management, making it easier to write concurrent code without having to deal with low-level threading or multiprocessing APIs directly."
   ]
  },
  {
   "cell_type": "markdown",
   "id": "a38dc300-b96b-42f8-ab1a-652167ab7c31",
   "metadata": {},
   "source": [
    "### Pools for Inter-Process Communication (Queue's)\n",
    "\n",
    "A thread pool is a collection of pre-initialized threads that are ready to perform tasks. Instead of creating threads dynamically whenever a task needs to be executed, a thread pool creates a fixed number of threads upfront and keeps them alive throughout the lifetime of the application. These threads continuously wait for tasks to be assigned to them, execute the tasks, and then return to the pool to be reused for subsequent tasks."
   ]
  },
  {
   "cell_type": "code",
   "execution_count": null,
   "id": "1422c133-e9f8-470b-b47f-4fd2b724e39b",
   "metadata": {},
   "outputs": [],
   "source": [
    "import concurrent.futures\n",
    "import time\n",
    "\n",
    "# Function to print numbers\n",
    "def print_numbers(name):\n",
    "    for i in range(1, 6):\n",
    "        print(f\"{name}: {i}\")\n",
    "        time.sleep(1)\n",
    "\n",
    "# Create a thread pool with 2 threads\n",
    "with concurrent.futures.ThreadPoolExecutor(max_workers=2) as executor:\n",
    "    # Submit tasks to the thread pool\n",
    "    executor.submit(print_numbers, \"Thread-1\")\n",
    "    executor.submit(print_numbers, \"Thread-2\")\n",
    "\n",
    "# The 'with' statement ensures that the thread pool is properly cleaned up after use\n"
   ]
  },
  {
   "cell_type": "markdown",
   "id": "42e85236-d5c4-4b16-a4ef-5ed26216dfc4",
   "metadata": {},
   "source": [
    "### Creating threads with concurrent.futures"
   ]
  },
  {
   "cell_type": "code",
   "execution_count": 33,
   "id": "74cdd5ae-aad6-44c4-ba40-562ecf613dbe",
   "metadata": {},
   "outputs": [
    {
     "name": "stdout",
     "output_type": "stream",
     "text": [
      "1\n",
      "2\n",
      "3\n",
      "4\n",
      "5\n",
      "Thread finished execution\n"
     ]
    }
   ],
   "source": [
    "import concurrent.futures\n",
    "import time\n",
    "\n",
    "def print_numbers():\n",
    "    for i in range(1, 6):\n",
    "        print(i)\n",
    "        time.sleep(1)\n",
    "\n",
    "# Create a ThreadPoolExecutor with one thread\n",
    "with concurrent.futures.ThreadPoolExecutor() as executor:\n",
    "    # Submit the print_numbers function to the thread pool\n",
    "    future = executor.submit(print_numbers)\n",
    "\n",
    "    # Wait for the task to complete\n",
    "    future.result()\n",
    "\n",
    "print(\"Thread finished execution\")\n"
   ]
  },
  {
   "cell_type": "markdown",
   "id": "cd0c7152-4a4a-4407-a370-0c1d106071d2",
   "metadata": {},
   "source": [
    "### Creating multile threads with concurrent.futures"
   ]
  },
  {
   "cell_type": "code",
   "execution_count": null,
   "id": "11708e14-af2f-4b59-84c6-05ee36754138",
   "metadata": {},
   "outputs": [],
   "source": [
    "import concurrent.futures\n",
    "import time\n",
    "\n",
    "# Define the print_numbers function\n",
    "def print_numbers():\n",
    "    for i in range(1, 3):\n",
    "        print(i)\n",
    "        time.sleep(1)\n",
    "\n",
    "start_time = time.time()\n",
    "# Create a ThreadPoolExecutor with 2 threads\n",
    "with concurrent.futures.ThreadPoolExecutor() as executor:\n",
    "    # Submit print_numbers function twice to the executor\n",
    "    future1 = executor.submit(print_numbers)\n",
    "    future2 = executor.submit(print_numbers)\n",
    "\n",
    "    # Retrieve and print the results of both tasks\n",
    "    future1.result()\n",
    "    future2.result()\n",
    "    \n",
    "end_time = time.time()\n",
    "print(\"Both threads finished execution\")\n",
    "print(f\"Execution time: {end_time - start_time} seconds\")\n"
   ]
  },
  {
   "cell_type": "markdown",
   "id": "5a20705c-8359-487a-a95d-18b595fcb744",
   "metadata": {},
   "source": [
    "### Creating multile threads using loops with concurrent.futures"
   ]
  },
  {
   "cell_type": "code",
   "execution_count": null,
   "id": "0777b4f4-2196-4e4a-a684-8958e775ecba",
   "metadata": {},
   "outputs": [],
   "source": [
    "import concurrent.futures\n",
    "import time\n",
    "\n",
    "# Define the print_numbers function\n",
    "def print_numbers():\n",
    "    for i in range(1, 3):\n",
    "        print(i)\n",
    "        time.sleep(1)\n",
    "\n",
    "start_time = time.time()\n",
    "\n",
    "# Create a ThreadPoolExecutor with 2 threads\n",
    "with concurrent.futures.ThreadPoolExecutor() as executor:\n",
    "    # Submit print_numbers function twice to the executor using a loop\n",
    "    futures = [executor.submit(print_numbers) for _ in range(2)]\n",
    "\n",
    "    # Retrieve and print the results of all tasks\n",
    "    for future in futures:\n",
    "        future.result()\n",
    "\n",
    "end_time = time.time()\n",
    "\n",
    "print(\"Both threads finished execution\")\n",
    "print(f\"Execution time: {end_time - start_time} seconds\")\n"
   ]
  },
  {
   "cell_type": "markdown",
   "id": "157f6718-da18-4bbf-b8d6-edce769adfc3",
   "metadata": {},
   "source": [
    "### Creating multile threads parameters with concurrent.futures"
   ]
  },
  {
   "cell_type": "code",
   "execution_count": null,
   "id": "8486503e-74b1-43a6-9418-292f59cec4f6",
   "metadata": {},
   "outputs": [],
   "source": [
    "import concurrent.futures\n",
    "import time\n",
    "\n",
    "# Define the print_numbers function with a variable seconds parameter\n",
    "def print_numbers(seconds):\n",
    "    for i in range(seconds + 1):\n",
    "        print(i)\n",
    "        time.sleep(1)\n",
    "\n",
    "start_time = time.time()\n",
    "\n",
    "# Create a ThreadPoolExecutor with 2 threads\n",
    "with concurrent.futures.ThreadPoolExecutor() as executor:\n",
    "    # Submit print_numbers function twice to the executor using a loop\n",
    "    futures = [executor.submit(print_numbers, 3) for _ in range(2)]\n",
    "\n",
    "    # Retrieve and print the results of all tasks\n",
    "    for future in futures:\n",
    "        future.result()\n",
    "\n",
    "end_time = time.time()\n",
    "\n",
    "print(\"Both threads finished execution\")\n",
    "print(f\"Execution time: {end_time - start_time} seconds\")\n"
   ]
  },
  {
   "cell_type": "markdown",
   "id": "4d99e173-6f4d-4ff3-a171-716502c5224f",
   "metadata": {},
   "source": [
    "### Creating multile threads multiple parameters with concurrent.futures"
   ]
  },
  {
   "cell_type": "code",
   "execution_count": null,
   "id": "c6b6cc4d-8811-4bea-b6aa-2e57443f26b7",
   "metadata": {},
   "outputs": [],
   "source": [
    "import concurrent.futures\n",
    "import time\n",
    "\n",
    "# Define the print_numbers function with a variable seconds parameter\n",
    "def print_numbers(seconds):\n",
    "    for i in range(seconds + 1):\n",
    "        print(i)\n",
    "        time.sleep(1)\n",
    "\n",
    "# List of values for seconds\n",
    "seconds_list = [3, 5]\n",
    "\n",
    "start_time = time.time()\n",
    "\n",
    "# Create a ThreadPoolExecutor with 2 threads\n",
    "with concurrent.futures.ThreadPoolExecutor() as executor:\n",
    "    # Submit print_numbers function with different seconds values to the executor\n",
    "    futures = [executor.submit(print_numbers, seconds) for seconds in seconds_list]\n",
    "\n",
    "    # Retrieve and print the results of all tasks\n",
    "    for future in futures:\n",
    "        future.result()\n",
    "\n",
    "end_time = time.time()\n",
    "\n",
    "print(\"Both threads finished execution\")\n",
    "print(f\"Execution time: {end_time - start_time} seconds\")\n"
   ]
  }
 ],
 "metadata": {
  "kernelspec": {
   "display_name": "Python 3 (ipykernel)",
   "language": "python",
   "name": "python3"
  },
  "language_info": {
   "codemirror_mode": {
    "name": "ipython",
    "version": 3
   },
   "file_extension": ".py",
   "mimetype": "text/x-python",
   "name": "python",
   "nbconvert_exporter": "python",
   "pygments_lexer": "ipython3",
   "version": "3.11.5"
  }
 },
 "nbformat": 4,
 "nbformat_minor": 5
}
