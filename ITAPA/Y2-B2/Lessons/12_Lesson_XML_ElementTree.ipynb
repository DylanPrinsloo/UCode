{
 "cells": [
  {
   "cell_type": "markdown",
   "id": "deb96367-bde3-4894-b2d2-67919a6c9746",
   "metadata": {},
   "source": [
    "### Introduction to XML\n",
    "\n",
    "XML (eXtensible Markup Language) is a markup language used for encoding documents in a format that is both human-readable and machine-readable. XML is designed to store and transport data. Here are some key parts of XML:"
   ]
  },
  {
   "cell_type": "markdown",
   "id": "eb378234-b19b-4e1d-9f45-811693fdf2c2",
   "metadata": {},
   "source": [
    "# Elements of an XML File\n",
    "\n",
    "| Element          | Description |\n",
    "|------------------|-------------|\n",
    "| **Prolog**       | The optional beginning of the XML document. Contains the XML declaration and processing instructions. Example: <br> ```xml <?xml version=\"1.0\" encoding=\"UTF-8\"?> ``` |\n",
    "| **Comments**     | Provide comments within the XML code. Example: <br> ```xml <!-- This is a comment --> ``` |\n",
    "| **Element**      | The basic building block of XML. It consists of a start tag, content, and an end tag. Example: <br> ```xml <name>John Doe</name> ``` |\n",
    "| **Attributes**   | Provide additional information about elements. Example: <br> ```xml <person id=\"123\"> ``` |\n",
    "| **Tag**          | The name of the element. Example: In `<name>John Doe</name>`, `name` is the tag. |\n",
    "| **Text String**  | The text content within an element. Example: In `<name>John Doe</name>`, `John Doe` is the text string. |\n",
    "| **Child Elements / Nested Elements** | Elements that are contained within another element. Example: <br> ```xml <person> <name>John Doe</name> <age>30</age> </person> ``` |\n",
    "| **Tail String**  | The text content that follows an element's end tag and is not part of another element. Example: In `<name>John Doe</name>extra text`, `extra text` is the tail string. |\n",
    "| **CDATA**        | Character Data, used to include text data that should not be parsed by the XML parser. Example: <br> ```xml <![CDATA[Some unparsed data]]> ``` |\n"
   ]
  },
  {
   "cell_type": "markdown",
   "id": "39bd6fe2-b0d9-4d48-845a-55b6a0617bed",
   "metadata": {},
   "source": [
    "#### Sample XML file"
   ]
  },
  {
   "cell_type": "code",
   "execution_count": null,
   "id": "4c00a254-b119-41c4-a56e-f84bf8cc4af9",
   "metadata": {},
   "outputs": [],
   "source": [
    "'''\n",
    "<?xml version=\"1.0\" encoding=\"UTF-8\"?>\n",
    "<library>\n",
    "    <book id=\"1\">\n",
    "        <title>Learning Python</title>\n",
    "        <author>Mark Lutz</author>\n",
    "        <year>2013</year>\n",
    "        <price>39.95</price>\n",
    "    </book>\n",
    "    <book id=\"2\">\n",
    "        <title>Programming Python</title>\n",
    "        <author>Mark Lutz</author>\n",
    "        <year>2011</year>\n",
    "        <price>49.95</price>\n",
    "    </book>\n",
    "    <book id=\"3\">\n",
    "        <title>Fluent Python</title>\n",
    "        <author>Luciano Ramalho</author>\n",
    "        <year>2015</year>\n",
    "        <price>59.99</price>\n",
    "    </book>\n",
    "</library>\n",
    "'''"
   ]
  },
  {
   "cell_type": "markdown",
   "id": "8ac75875-41ce-4893-81fc-f5687b3849d4",
   "metadata": {},
   "source": [
    "- **Prolog**: Optional, contains XML declaration and processing instructions. Example: \n",
    "    ```xml\n",
    "    <?xml version=\"1.0\" encoding=\"UTF-8\"?>\n",
    "    ```\n",
    "- **Element**: The basic building block of XML. It consists of a start tag, content, and an end tag. Example:\n",
    "    ```xml\n",
    "    <name>John Doe</name>\n",
    "    ```\n",
    "- **Attributes**: Provide additional information about elements. Example:\n",
    "    ```xml\n",
    "    <person id=\"123\">\n",
    "    ```\n",
    "- **Nested Elements**: Elements can contain other elements. Example:\n",
    "    ```xml\n",
    "    <person>\n",
    "        <name>John Doe</name>\n",
    "        <age>30</age>\n",
    "    </person>\n",
    "    ```\n",
    "- **CDATA**: Character Data, used to include text data that should not be parsed by the XML parser. Example:\n",
    "    ```xml\n",
    "    <![CDATA[Some unparsed data]]>\n",
    "    ```\n",
    "- **Comments**: Provide comments within the XML code. Example:\n",
    "    ```xml\n",
    "    <!-- This is a comment -->\n",
    "    ```\n"
   ]
  },
  {
   "cell_type": "markdown",
   "id": "23d2b955-1545-4822-88b1-c8e143ef1077",
   "metadata": {},
   "source": [
    "### Using xml.etree.ElementTree Module\n",
    "The xml.etree.ElementTree module in Python provides a simple way to parse and create XML data."
   ]
  },
  {
   "cell_type": "markdown",
   "id": "c1423d84-f3d7-425e-8e82-ba74a7c69484",
   "metadata": {},
   "source": [
    "#### 1. Parsing XML\n",
    "\n",
    "To parse an XML document, you can use the ElementTree.parse() function:"
   ]
  },
  {
   "cell_type": "code",
   "execution_count": null,
   "id": "60a1a52a-a793-49ec-b3b0-7d6400f8c5f4",
   "metadata": {},
   "outputs": [],
   "source": [
    "#Importing the Module:\n",
    "import xml.etree.ElementTree as ET"
   ]
  },
  {
   "cell_type": "code",
   "execution_count": 2,
   "id": "9c04e947-3263-4214-8fa4-ea109ddd41dd",
   "metadata": {},
   "outputs": [
    {
     "name": "stdout",
     "output_type": "stream",
     "text": [
      "library\n"
     ]
    }
   ],
   "source": [
    "import xml.etree.ElementTree as ET\n",
    "\n",
    "# Parse the XML document\n",
    "tree = ET.parse('books.xml')\n",
    "root = tree.getroot()\n",
    "\n",
    "# Print the root element\n",
    "print(root.tag)\n"
   ]
  },
  {
   "cell_type": "markdown",
   "id": "c1e1759a-16a8-4de0-9081-d056ca3f82cc",
   "metadata": {},
   "source": [
    "This parses the books.xml file and gets the root element of the XML tree."
   ]
  },
  {
   "cell_type": "code",
   "execution_count": 9,
   "id": "156b712f-bbf8-41a1-9223-e5acf8f10873",
   "metadata": {},
   "outputs": [
    {
     "name": "stdout",
     "output_type": "stream",
     "text": [
      "{'id': '1'}\n"
     ]
    }
   ],
   "source": [
    "#Print the first child element of root\n",
    "print(root[0].tag)\n",
    "\n",
    "# Print the attributes of first child element of root\n",
    "print(root[0].attrib)\n",
    "\n",
    "# Print all the attributes within the first child element of root\n",
    "for i in root[0]:\n",
    "    print(i.tag, i.attrib)\n",
    "\n",
    "# Print all the text for attributes within the first child element of root\n",
    "for i in root[0]:\n",
    "    print(i.text)"
   ]
  },
  {
   "cell_type": "code",
   "execution_count": 12,
   "id": "59d9ba69-5fc3-4373-923f-c7f9e4c68e45",
   "metadata": {},
   "outputs": [
    {
     "name": "stdout",
     "output_type": "stream",
     "text": [
      "Learning Python, 5th Edition\n",
      "Mark Lutz\n",
      "2013\n",
      "39.95\n"
     ]
    }
   ],
   "source": [
    "# Print all the text for attributes within the first child element of root\n",
    "for book in root[0]:\n",
    "    print(book.text)"
   ]
  },
  {
   "cell_type": "markdown",
   "id": "76a3694a-4238-434a-a0a8-1f57cac70fa5",
   "metadata": {},
   "source": [
    "#### 2. Accessing Elements\n",
    "\n",
    "You can access elements and their attributes using methods like find(), findall(), and get():"
   ]
  },
  {
   "cell_type": "code",
   "execution_count": 3,
   "id": "6b26d2bd-3b9d-4e54-b170-a53d5ab776b2",
   "metadata": {},
   "outputs": [
    {
     "name": "stdout",
     "output_type": "stream",
     "text": [
      "Book ID: 1\n",
      "Title: Learning Python\n",
      "Author: Mark Lutz\n",
      "Year: 2013\n",
      "Price: 39.95\n",
      "\n",
      "Book ID: 2\n",
      "Title: Programming Python\n",
      "Author: Mark Lutz\n",
      "Year: 2011\n",
      "Price: 49.95\n",
      "\n",
      "Book ID: 3\n",
      "Title: Fluent Python\n",
      "Author: Luciano Ramalho\n",
      "Year: 2015\n",
      "Price: 59.99\n",
      "\n"
     ]
    }
   ],
   "source": [
    "# Find all book elements\n",
    "for book in root.findall('book'):\n",
    "    title = book.find('title').text\n",
    "    author = book.find('author').text\n",
    "    year = book.find('year').text\n",
    "    price = book.find('price').text\n",
    "    book_id = book.get('id')\n",
    "    \n",
    "    print(f\"Book ID: {book_id}\")\n",
    "    print(f\"Title: {title}\")\n",
    "    print(f\"Author: {author}\")\n",
    "    print(f\"Year: {year}\")\n",
    "    print(f\"Price: {price}\\n\")"
   ]
  },
  {
   "cell_type": "markdown",
   "id": "898069ca-4491-4d86-8d6e-2b0c8bb80efa",
   "metadata": {},
   "source": [
    "#### 3. Modifying XML\n",
    "\n",
    "You can modify the XML tree by changing text or attributes, and then save the changes back to an XML file:"
   ]
  },
  {
   "cell_type": "code",
   "execution_count": 11,
   "id": "1c0619fd-602d-4f7f-92a0-2760dee055b0",
   "metadata": {},
   "outputs": [],
   "source": [
    "# Change the title of the first book\n",
    "first_book = root.find('book')\n",
    "first_book.find('title').text = \"Learning Python, 5th Edition\"\n",
    "\n",
    "# Save the modified XML back to a file\n",
    "tree.write('modified_books.xml')\n"
   ]
  },
  {
   "cell_type": "markdown",
   "id": "1b6d7e5e-d6a6-40c7-8eec-33dbe1aca8d4",
   "metadata": {},
   "source": [
    "##### Modifying a Child Element:"
   ]
  },
  {
   "cell_type": "code",
   "execution_count": 14,
   "id": "9596e2f9-a419-4a62-9e94-426f337221b3",
   "metadata": {},
   "outputs": [],
   "source": [
    "second_book = root.find('book[@id=\"2\"]')\n",
    "second_book.find('price').text = \"44.95\"\n",
    "\n",
    "# Save the modified XML back to a file\n",
    "tree.write('modified_books.xml')\n",
    "\n",
    "#This modifies the text of the price element of the book with id=\"2\"."
   ]
  },
  {
   "cell_type": "markdown",
   "id": "1e17c550-0514-491d-84c5-10801cb4b35d",
   "metadata": {},
   "source": [
    "##### Adding a New Child Element:"
   ]
  },
  {
   "cell_type": "code",
   "execution_count": null,
   "id": "47b0c243-82a2-47cd-b41e-ffb7d3f4a339",
   "metadata": {},
   "outputs": [],
   "source": [
    "third_book = root.find('book[@id=\"3\"]')\n",
    "new_element = ET.SubElement(third_book, 'publisher')\n",
    "new_element.text = \"O'Reilly Media\"\n",
    "\n",
    "# Save the modified XML back to a file\n",
    "tree.write('modified_books.xml')\n",
    "\n",
    "#This adds a new publisher child element to the book with id=\"3\"."
   ]
  },
  {
   "cell_type": "markdown",
   "id": "a2565b84-34cd-4ca3-a2e3-52c525f053b9",
   "metadata": {},
   "source": [
    "##### Removing a Child Element:"
   ]
  },
  {
   "cell_type": "code",
   "execution_count": null,
   "id": "0d3958ab-a61d-4d64-9d64-da12e7d67e14",
   "metadata": {},
   "outputs": [],
   "source": [
    "third_book.remove(third_book.find('publisher'))\n",
    "\n",
    "#This removes the publisher child element from the book with id=\"3\"."
   ]
  },
  {
   "cell_type": "markdown",
   "id": "fbac9faa-b6bd-4919-9c24-96e9ffb6374c",
   "metadata": {},
   "source": [
    "##### Saving the Modified XML:"
   ]
  },
  {
   "cell_type": "code",
   "execution_count": null,
   "id": "e90edcbe-331f-4a35-978d-3e01be26f556",
   "metadata": {},
   "outputs": [],
   "source": [
    "tree.write('modified_books.xml')\n",
    "\n",
    "#This saves the modified XML tree back to a file named modified_books.xml."
   ]
  },
  {
   "cell_type": "markdown",
   "id": "f9fbcd94-cdea-4c68-9dce-2f89af099d41",
   "metadata": {},
   "source": [
    "#### Creating XML\n",
    "\n",
    "You can also create new XML documents from scratch:"
   ]
  },
  {
   "cell_type": "code",
   "execution_count": 15,
   "id": "c8c431a3-5503-49d2-aa16-36f3fe7d6090",
   "metadata": {},
   "outputs": [],
   "source": [
    "# Create the root element\n",
    "library = ET.Element('library')\n",
    "\n",
    "# Create a new book element\n",
    "new_book = ET.SubElement(library, 'book', id='4')\n",
    "ET.SubElement(new_book, 'title').text = 'Python Cookbook'\n",
    "ET.SubElement(new_book, 'author').text = 'David Beazley'\n",
    "ET.SubElement(new_book, 'year').text = '2013'\n",
    "ET.SubElement(new_book, 'price').text = '49.99'\n",
    "\n",
    "# Convert the Element to a string and print it\n",
    "new_tree = ET.ElementTree(library)\n",
    "new_tree.write('new_library.xml')\n"
   ]
  },
  {
   "cell_type": "markdown",
   "id": "b08f7846-7d57-413e-b980-0c65f48d2395",
   "metadata": {},
   "source": [
    "This creates a new XML document with a root element library, adds a new book element with child elements, and saves it to a file named new_library.xml."
   ]
  },
  {
   "cell_type": "markdown",
   "id": "88c7a553-18b4-4f4d-9277-6b6749528298",
   "metadata": {},
   "source": [
    "### Exercise: Creating an XML File\n",
    "#### Objective:\n",
    "Create an XML file that represents a catalog of movies. Each movie should have several attributes and nested elements.\n",
    "#### Requirements:\n",
    "1.\tThe XML file should have a root element named catalog.\n",
    "2.\tEach movie should be represented by a movie element with an attribute id (a unique identifier).\n",
    "3.\tEach movie element should contain the following nested elements:\n",
    "- title (the title of the movie)\n",
    "- genre (the genre of the movie)\n",
    "- director (the director of the movie)\n",
    "- year (the release year of the movie)\n",
    "- rating (the rating of the movie)\n",
    "4.\tInclude at least three movies in the catalog.\n",
    "5.\tEnsure that the XML is well-formed and follows proper XML syntax.\n"
   ]
  },
  {
   "cell_type": "code",
   "execution_count": null,
   "id": "a3ee65f0-8a24-4609-bd65-9af331ead288",
   "metadata": {},
   "outputs": [],
   "source": [
    "import xml.etree.ElementTree as ET\n",
    "\n",
    "# Create the root element\n",
    "catalog = ET.Element('catalog')\n",
    "\n",
    "# Function to add a movie element\n",
    "def add_movie(catalog, id, title, genre, director, year, rating):\n",
    "    movie = ET.SubElement(catalog, 'movie', id=str(id))\n",
    "    ET.SubElement(movie, 'title').text = title\n",
    "    ET.SubElement(movie, 'genre').text = genre\n",
    "    ET.SubElement(movie, 'director').text = director\n",
    "    ET.SubElement(movie, 'year').text = str(year)\n",
    "    ET.SubElement(movie, 'rating').text = str(rating)\n",
    "\n",
    "# Add movies to the catalog\n",
    "add_movie(catalog, 1, 'The Shawshank Redemption', 'Drama', 'Frank Darabont', 1994, 9.3)\n",
    "add_movie(catalog, 2, 'The Godfather', 'Crime', 'Francis Ford Coppola', 1972, 9.2)\n",
    "add_movie(catalog, 3, 'The Dark Knight', 'Action', 'Christopher Nolan', 2008, 9.0)\n",
    "\n",
    "# Convert the ElementTree to a string\n",
    "xml_str = ET.tostring(catalog)\n",
    "\n",
    "# Save the XML string to a file\n",
    "with open('movies_catalog.xml', 'wb') as f:\n",
    "    f.write(xml_str)\n"
   ]
  }
 ],
 "metadata": {
  "kernelspec": {
   "display_name": "Python 3 (ipykernel)",
   "language": "python",
   "name": "python3"
  },
  "language_info": {
   "codemirror_mode": {
    "name": "ipython",
    "version": 3
   },
   "file_extension": ".py",
   "mimetype": "text/x-python",
   "name": "python",
   "nbconvert_exporter": "python",
   "pygments_lexer": "ipython3",
   "version": "3.11.5"
  }
 },
 "nbformat": 4,
 "nbformat_minor": 5
}
