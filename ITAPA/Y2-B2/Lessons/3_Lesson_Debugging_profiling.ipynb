{
 "cells": [
  {
   "cell_type": "code",
   "execution_count": null,
   "id": "b035bdad-9b75-41d2-b42c-43f0802dd8d8",
   "metadata": {},
   "outputs": [],
   "source": [
    "'''\n",
    "Debugging\n",
    "\n",
    "Debugging is the process of identifying and fixing errors or bugs in a program. In Python, there are several techniques and \n",
    "tools available for debugging code. Here, I'll explain three common methods\n",
    "-using print statements\n",
    "-using the Python debugger (pdb)\n",
    "-using logging.\n",
    "'''"
   ]
  },
  {
   "cell_type": "code",
   "execution_count": null,
   "id": "8295ebcb-a27e-49c7-8cea-6d52b6120318",
   "metadata": {},
   "outputs": [],
   "source": [
    "'''\n",
    "Debugging with print\n",
    "\n",
    "Using print statements is a straightforward and simple method of debugging. By inserting print statements in the code, you can output \n",
    "the values of variables and the flow of execution to understand what the program is doing at various points.\n",
    "'''"
   ]
  },
  {
   "cell_type": "code",
   "execution_count": null,
   "id": "4416a1fa-8a56-4bfe-9c10-07b9f11a922f",
   "metadata": {},
   "outputs": [],
   "source": [
    "def add(a, b):\n",
    "    print(f\"add called with a={a}, b={b}\")\n",
    "    return a + b\n",
    "\n",
    "def main():\n",
    "    x = 10\n",
    "    y = 5\n",
    "    print(f\"Calling add with x={x} and y={y}\")\n",
    "    result = add(x, y)\n",
    "    print(f\"Result of add: {result}\")\n",
    "\n",
    "if __name__ == \"__main__\":\n",
    "    main()\n"
   ]
  },
  {
   "cell_type": "code",
   "execution_count": null,
   "id": "543b02cc-f737-40e7-8b0e-ffe704775471",
   "metadata": {},
   "outputs": [],
   "source": [
    "'''\n",
    "Debugging using the Python Debugger\n",
    "\n",
    "The pdb module is a built-in interactive debugger for Python. It allows you to set breakpoints, step through code, \n",
    "inspect variables, and evaluate expressions.\n",
    "'''"
   ]
  },
  {
   "cell_type": "code",
   "execution_count": null,
   "id": "8a87d029-e011-4e4c-937a-045a0218b32e",
   "metadata": {},
   "outputs": [],
   "source": [
    "import pdb\n",
    "\n",
    "def add(a, b):\n",
    "    pdb.set_trace()  # Set a breakpoint here\n",
    "    return a + b\n",
    "\n",
    "def main():\n",
    "    x = 10\n",
    "    y = 20\n",
    "    result = add(x, y)\n",
    "    pdb.set_trace()\n",
    "    print(f\"result={result}\")\n",
    "\n",
    "main()"
   ]
  },
  {
   "cell_type": "code",
   "execution_count": null,
   "id": "d815b626-c8cb-4734-946e-471238b96826",
   "metadata": {},
   "outputs": [],
   "source": [
    "import pdb;  \n",
    "\n",
    "def calculate_sum_of_squares(n):\n",
    "    total = 0\n",
    "    for i in range(n+1):\n",
    "        if i == 5:\n",
    "           pdb.set_trace()  # Set a breakpoint here\n",
    "        total += i * i\n",
    "    return total\n",
    "\n",
    "result = calculate_sum_of_squares(10)\n",
    "print(result)\n"
   ]
  },
  {
   "cell_type": "code",
   "execution_count": null,
   "id": "4b9ee150-cbe4-4057-8b88-78fca9a6a8b7",
   "metadata": {},
   "outputs": [],
   "source": [
    "'''\n",
    "l (list): Show the current location in the code.\n",
    "n (next): Execute the next line of code.\n",
    "s (step): Step into the function. (NO)\n",
    "c (continue): Continue execution until the next breakpoint.\n",
    "p variable: Print the value of a variable.\n",
    "q (quit): Exit the debugger.\n",
    "'''"
   ]
  },
  {
   "cell_type": "code",
   "execution_count": null,
   "id": "8569ed89-a55e-4561-950d-b572aa137ce3",
   "metadata": {},
   "outputs": [],
   "source": [
    "'''\n",
    "Debugging using Logs\n",
    "\n",
    "The logging module provides a flexible framework for emitting log messages from Python programs. It’s more powerful \n",
    "than print statements and is suitable for debugging both during development and in production.\n",
    "'''"
   ]
  },
  {
   "cell_type": "code",
   "execution_count": null,
   "id": "85e0969b-597e-42ea-9c68-1f97a80f3aa3",
   "metadata": {},
   "outputs": [],
   "source": [
    "import logging\n",
    "\n",
    "#levels of logging\n",
    "\n",
    "logging.debug(\"debug\")\n",
    "logging.info(\"info\")\n",
    "logging.warning(\"warning\")\n",
    "logging.error(\"error\")\n",
    "logging.critical(\"critical\")"
   ]
  },
  {
   "cell_type": "code",
   "execution_count": null,
   "id": "9856df54-9307-4c93-8e35-29cc6a831f2f",
   "metadata": {},
   "outputs": [],
   "source": [
    "'''\n",
    "If you don’t explicitly set a logging level for your logger, it will default to WARNING.\n",
    "'''"
   ]
  },
  {
   "cell_type": "code",
   "execution_count": null,
   "id": "45ccb37e-7ac9-4047-bce3-8b0238863cb9",
   "metadata": {},
   "outputs": [],
   "source": [
    "'''\n",
    "to write to a file\n",
    "logging.basicConfig(level=logging.DEBUG, filename=\"myLog.log\", filemode=\"w\")\n",
    "\n",
    "\"w\" stands for write mode. When \"w\" is used, it means that the file specified by the filename parameter \n",
    "will be opened in write mode. If the file already exists, its contents will be overwritten. If the file \n",
    "does not exist, a new file will be created.\n",
    "'''"
   ]
  },
  {
   "cell_type": "code",
   "execution_count": 1,
   "id": "0c4ecab6-e8b9-478d-8fb4-3528f79aa900",
   "metadata": {},
   "outputs": [
    {
     "name": "stderr",
     "output_type": "stream",
     "text": [
      "DEBUG:root:debug\n",
      "INFO:root:info\n",
      "WARNING:root:warning\n",
      "ERROR:root:error\n",
      "CRITICAL:root:critical\n"
     ]
    }
   ],
   "source": [
    "import logging\n",
    "\n",
    "# Configure the root logger\n",
    "logging.getLogger().setLevel(logging.DEBUG)\n",
    "\n",
    "logging.debug(\"debug\")\n",
    "logging.info(\"info\")\n",
    "logging.warning(\"warning\")\n",
    "logging.error(\"error\")\n",
    "logging.critical(\"critical\")"
   ]
  },
  {
   "cell_type": "code",
   "execution_count": null,
   "id": "4f98ba2d-8111-4a05-9e7f-c44bd01a5c9f",
   "metadata": {},
   "outputs": [],
   "source": [
    "import logging\n",
    "\n",
    "# Configure the root logger with format and level\n",
    "logging.basicConfig(format='%(asctime)s - %(levelname)s : %(message)s', level=logging.DEBUG)\n",
    "\n",
    "# Log messages\n",
    "logging.debug(\"debug\")\n",
    "logging.info(\"info\")\n",
    "logging.warning(\"warning\")\n",
    "logging.error(\"error\")\n",
    "logging.critical(\"critical\")"
   ]
  },
  {
   "cell_type": "code",
   "execution_count": null,
   "id": "667f18f3-1f52-4499-8574-fb675b203c76",
   "metadata": {},
   "outputs": [],
   "source": [
    "import logging\n",
    "\n",
    "logging.basicConfig(level=logging.DEBUG, format='%(asctime)s - %(levelname)s : %(message)s')\n",
    "\n",
    "a = 10\n",
    "\n",
    "logging.info(f\"the value of a is {a}\")"
   ]
  },
  {
   "cell_type": "code",
   "execution_count": null,
   "id": "5b8df271-e815-4d11-a8f6-e5e401e89e3a",
   "metadata": {},
   "outputs": [],
   "source": [
    "import logging\n",
    "\n",
    "logging.basicConfig(level=logging.DEBUG, format='%(asctime)s - %(levelname)s : %(message)s')\n",
    "\n",
    "try:\n",
    "    12 / 0\n",
    "except ZeroDivisionError as e:\n",
    "    logging.error(\"Zero division error\")\n",
    "    logging.exception(\"Zero division exception\")\n"
   ]
  },
  {
   "cell_type": "code",
   "execution_count": null,
   "id": "719f15eb-a9ec-4ca4-b9a9-ba4f11c319a9",
   "metadata": {},
   "outputs": [],
   "source": [
    "import logging\n",
    "\n",
    "logging.basicConfig(level=logging.DEBUG, format='%(asctime)s - %(levelname)s : %(message)s')\n",
    "\n",
    "try:\n",
    "    12 / 0\n",
    "except ZeroDivisionError as e:\n",
    "    logging.error(\"Zero division\", exc_info=True) #makes error and exception the same\n",
    "    logging.exception(\"Zero division\")\n"
   ]
  },
  {
   "cell_type": "code",
   "execution_count": null,
   "id": "721c2389-63dc-4738-9664-4f7854d5ea89",
   "metadata": {},
   "outputs": [],
   "source": [
    "'''\n",
    "Profiling\n",
    "\n",
    "Profiling in Python is the process of measuring the performance of your code, particularly in terms of time and memory usage. \n",
    "It helps identify bottlenecks and optimize the efficiency of your program. Profiling tools provide detailed reports about which \n",
    "parts of your code are consuming the most resources.\n",
    "\n",
    "There are two different implementations of the same profiling interface, profile and cProfile:\n",
    "    -cProfile is a built-in module in Python that provides a way to profile the execution time of different parts of your program. \n",
    "      It is suitable for profiling larger applications and provides detailed statistics about the time spent in each function call.\n",
    "    - profile\n",
    "\n",
    "While cProfile is implemented in C and is faster, profile is implemented in pure Python and can be extended and modified more easily. \n",
    "However, profile is generally slower than cProfile and is often used for educational purposes or when modifications to the profiler \n",
    "are needed.\n",
    "'''"
   ]
  },
  {
   "cell_type": "code",
   "execution_count": null,
   "id": "6bc0bd76-4f63-4d8a-b57c-3915e6d807a0",
   "metadata": {},
   "outputs": [],
   "source": [
    "'''\n",
    "cProfile\n",
    "'''"
   ]
  },
  {
   "cell_type": "code",
   "execution_count": null,
   "id": "14435eb5-9fd3-49c9-af10-4a183b0c9e0e",
   "metadata": {},
   "outputs": [],
   "source": [
    "import cProfile\n",
    "\n",
    "def expensive_function():\n",
    "    result = 0\n",
    "    for i in range(10000):\n",
    "        result += i ** 2\n",
    "    return result\n",
    "\n",
    "def main():\n",
    "    expensive_function()\n",
    "\n",
    "cProfile.run('main()')"
   ]
  },
  {
   "cell_type": "code",
   "execution_count": null,
   "id": "876dfd85-1767-457f-85ac-ee997abbf32d",
   "metadata": {},
   "outputs": [],
   "source": [
    "'''\n",
    "    - ncalls: Number of calls to the function.\n",
    "    - tottime: Total time spent in the function, excluding calls to sub-functions.\n",
    "    - percall: The average time spent in the given function per call. Time per call (total time divided by the number of calls).\n",
    "    - cumtime: Cumulative time spent in the function, including calls to sub-functions.\n",
    "    - filename:lineno(function): Location of the function in the code.\n",
    "'''"
   ]
  },
  {
   "cell_type": "code",
   "execution_count": null,
   "id": "69a98105-9e58-47ae-b077-65406cc48924",
   "metadata": {},
   "outputs": [],
   "source": [
    "'''\n",
    "profile\n",
    "'''"
   ]
  },
  {
   "cell_type": "code",
   "execution_count": null,
   "id": "7dd2dcfd-a7cc-4e1a-9877-d0dc56b9073b",
   "metadata": {},
   "outputs": [],
   "source": [
    "import profile\n",
    "\n",
    "def expensive_function():\n",
    "    result = 0\n",
    "    for i in range(10000):\n",
    "        result += i ** 2\n",
    "    return result\n",
    "\n",
    "def main():\n",
    "    expensive_function()\n",
    "\n",
    "profile.run('main()')\n"
   ]
  },
  {
   "cell_type": "code",
   "execution_count": null,
   "id": "b0884cea-388c-46cb-b112-fb419d8eb923",
   "metadata": {},
   "outputs": [],
   "source": [
    "'''\n",
    "Choosing Between cProfile and profile\n",
    "\n",
    "    - Performance: cProfile is faster and more efficient, making it suitable for profiling larger applications or performance-critical code.\n",
    "    - Flexibility: profile is written in pure Python and can be more easily customized, making it useful for scenarios where you need to modify the profiling behavior.\n",
    "    - Availability: Both are included with Python's standard library, so they are readily available without additional installation.\n",
    "'''"
   ]
  },
  {
   "cell_type": "code",
   "execution_count": null,
   "id": "cfdd7717-13d1-488c-8bb8-678512da5827",
   "metadata": {},
   "outputs": [],
   "source": []
  },
  {
   "cell_type": "code",
   "execution_count": null,
   "id": "64f5cef7-8418-4473-aef8-a0ae16a22f33",
   "metadata": {},
   "outputs": [],
   "source": []
  }
 ],
 "metadata": {
  "kernelspec": {
   "display_name": "Python 3 (ipykernel)",
   "language": "python",
   "name": "python3"
  },
  "language_info": {
   "codemirror_mode": {
    "name": "ipython",
    "version": 3
   },
   "file_extension": ".py",
   "mimetype": "text/x-python",
   "name": "python",
   "nbconvert_exporter": "python",
   "pygments_lexer": "ipython3",
   "version": "3.11.5"
  }
 },
 "nbformat": 4,
 "nbformat_minor": 5
}
