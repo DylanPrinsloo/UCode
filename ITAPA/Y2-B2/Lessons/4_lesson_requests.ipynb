{
 "cells": [
  {
   "cell_type": "markdown",
   "metadata": {},
   "source": [
    "# Requests"
   ]
  },
  {
   "cell_type": "code",
   "execution_count": null,
   "metadata": {},
   "outputs": [],
   "source": [
    "#get\n",
    "import requests\n",
    "\n",
    "response = requests.get('https://api.github.com')\n",
    "\n",
    "if response.status_code == 200:\n",
    "    print(\"Successful\")\n",
    "    print(response.json())\n",
    "else:\n",
    "    print(\"Failed\")\n"
   ]
  },
  {
   "cell_type": "code",
   "execution_count": null,
   "metadata": {},
   "outputs": [],
   "source": [
    "#post\n",
    "import requests\n",
    "\n",
    "data = {'name': 'Peter Andrew Parker', 'age': 30}\n",
    "\n",
    "response = requests.post('https://httpbin.org/host')\n",
    "\n",
    "if response.status_code == 200:\n",
    "    print(\"Successful\")\n",
    "    print(response.json())\n",
    "else:\n",
    "    print(\"Failed\")\n",
    "\n",
    "'''\n",
    "response = requests.post(url,data)\n",
    "'''"
   ]
  },
  {
   "cell_type": "code",
   "execution_count": null,
   "metadata": {},
   "outputs": [],
   "source": [
    "#Status Code\n",
    "#1xx = Informational\n",
    "#2xx = Successful 201, 200, 204\n",
    "#3xx = Redirection\n",
    "#4xx = Client error\n",
    "#5xx = Server error"
   ]
  },
  {
   "cell_type": "code",
   "execution_count": null,
   "metadata": {},
   "outputs": [],
   "source": [
    "#Pickling\n",
    "\n",
    "import pickle\n",
    "\n",
    "data = {'name': 'Peter Andrew Parker', 'age': 30, 'city': 'Capetown'}\n",
    "\n",
    "with open('data.pickle', 'rb') as f:\n",
    "    pickle.dump(data, f)\n",
    "\n",
    "with open('data.pickle', 'rb') as f:\n",
    "    pickled_data = f.read()\n",
    "\n",
    "print(pickled_data)\n",
    "\n"
   ]
  },
  {
   "cell_type": "code",
   "execution_count": null,
   "metadata": {},
   "outputs": [],
   "source": [
    "with open('data.pickle', 'rb') as f:\n",
    "    loaded_data = pickle.load(f)    #unpickle the data\n",
    "\n",
    "print(loaded_data)"
   ]
  },
  {
   "cell_type": "code",
   "execution_count": 3,
   "metadata": {},
   "outputs": [
    {
     "name": "stdout",
     "output_type": "stream",
     "text": [
      "<re.Match object; span=(15, 18), match='fox'>\n"
     ]
    }
   ],
   "source": [
    "#Regular expressions\n",
    "import re \n",
    "\n",
    "sentance = \"The quick lazy fox jumps over the brown dog\"\n",
    "\n",
    "pattern = r\"fox\"\n",
    "\n",
    "Hakel = re.search(pattern, sentance)\n",
    "print(Hakel)"
   ]
  },
  {
   "cell_type": "code",
   "execution_count": 4,
   "metadata": {},
   "outputs": [
    {
     "name": "stdout",
     "output_type": "stream",
     "text": [
      "['C', 'l', 'a', 's', 's', ' ', 's', 't', 'a', 'r', 't', 's', ' ', 'a', 't', ' ', ':', ' ', 'a', 'n', 'd', ' ', 'e', 'n', 'd', 's', ' ', 'a', 't', ' ', ':']\n"
     ]
    }
   ],
   "source": [
    "sentance_2= \"Class starts at 08:00 and ends at 10:30\"\n",
    "pattern_2 = r'\\D'\n",
    "Hakel2 = re.findall(pattern_2, sentance_2)\n",
    "print(Hakel2)"
   ]
  },
  {
   "cell_type": "code",
   "execution_count": 8,
   "metadata": {},
   "outputs": [
    {
     "name": "stdout",
     "output_type": "stream",
     "text": [
      "C\n"
     ]
    }
   ],
   "source": [
    "sentance_3= \"Class number is 082 387 2651\"\n",
    "pattern_3 = r'(\\d{3})(\\d{3} \\d{4})'\n",
    "Hakel2 = re.search(pattern_2, sentance_2)\n",
    "print(Hakel2.group())\n"
   ]
  },
  {
   "cell_type": "code",
   "execution_count": 17,
   "metadata": {},
   "outputs": [
    {
     "name": "stdout",
     "output_type": "stream",
     "text": [
      "<re.Match object; span=(14, 28), match='Support@sun.ac'>\n"
     ]
    }
   ],
   "source": [
    "sentance = \"Contact us at Support@sun.ac.za\"\n",
    "pattern = r\"(\\w+)@(\\w+.\\w+)\"  # + means it will repeat itself, \\w - whole alpha-numeric char\n",
    "hake = re.search(pattern, sentance)\n",
    "print(hake)"
   ]
  },
  {
   "cell_type": "code",
   "execution_count": 29,
   "metadata": {},
   "outputs": [
    {
     "name": "stdout",
     "output_type": "stream",
     "text": [
      "Support\n"
     ]
    }
   ],
   "source": [
    "#Example excersize\n",
    "import re\n",
    "\n",
    "sentance = \"Contact us at Support@sun.ac.za\"\n",
    "pattern = r\"(\\w+)@(\\w+.\\w+)\"    # a . \n",
    "hake = re.search(pattern, sentance)\n",
    "print(hake.group(1))\n"
   ]
  },
  {
   "cell_type": "code",
   "execution_count": null,
   "metadata": {},
   "outputs": [],
   "source": [
    "#Example excersize\n",
    "import re\n",
    "\n",
    "pattern = r'(?P<first_name>\\w+) (?P<lat_name>\\w+)'  # r means its a pattern, \\ - as its numbers\n",
    "string = \"peter parker\"\n",
    "matches = re.search(pattern, string)\n",
    "print(matches.re.group(\"first_name\"))"
   ]
  },
  {
   "cell_type": "code",
   "execution_count": null,
   "metadata": {},
   "outputs": [],
   "source": [
    "#Example excersize\n",
    "import re\n",
    "\n",
    "pattern = \"This\"\n",
    "string = \"This is a string match\"\n",
    "match_search = re.match(pattern, string)\n",
    "print(match_search.group())"
   ]
  },
  {
   "cell_type": "markdown",
   "metadata": {},
   "source": [
    "These numbers are what we will search for one that is (123) 456-7890, two is 123.456.7890 three is 1234567890:\n",
    "\n",
    "- (123) 456-7890\n",
    "\n",
    "- 123-456-7890\n",
    "\n",
    "- 123.456.7890\n",
    "\n",
    "- 1234567890"
   ]
  },
  {
   "cell_type": "code",
   "execution_count": 10,
   "metadata": {},
   "outputs": [
    {
     "name": "stdout",
     "output_type": "stream",
     "text": [
      "['(123) 456-7890', '123-456-7890 ', '123.456.7890 ', '1234567890']\n"
     ]
    }
   ],
   "source": [
    "# Interesting example!\n",
    "\n",
    "import re\n",
    "\n",
    "string = \"These numbers are what we will search for one that is (123) 456-7890, and 123-456-7890 two is 123.456.7890 three is 1234567890:\"\n",
    "pattern = r'\\(?\\d{3}\\)?[-.\\s]?\\d{3}[-.\\s]?\\d{4}[-.\\s]?'\n",
    "match_search = re.findall(pattern, string)\n",
    "print(match_search)"
   ]
  },
  {
   "cell_type": "markdown",
   "metadata": {},
   "source": [
    "# Iterator"
   ]
  },
  {
   "cell_type": "code",
   "execution_count": 13,
   "metadata": {},
   "outputs": [
    {
     "name": "stdout",
     "output_type": "stream",
     "text": [
      "3\n",
      "2\n"
     ]
    }
   ],
   "source": [
    "import re\n",
    "\n",
    "sentance = \"I have 3 balls and 2 sockets\"\n",
    "pattern = r\"(\\d+)\"\n",
    "hakes = re.finditer(pattern, sentance)\n",
    "\n",
    "for hake in hakes:\n",
    "    print(hake.group())"
   ]
  },
  {
   "cell_type": "code",
   "execution_count": 16,
   "metadata": {},
   "outputs": [
    {
     "name": "stdout",
     "output_type": "stream",
     "text": [
      "['These numbers are what we will search for one that is (', '', '', ') ', '', '', '-', '', '', '', ', and ', '', '', '-', '', '', '-', '', '', '', ' two is ', '', '', '.', '', '', '.', '', '', '', ' three is ', '', '', '', '', '', '', '', '', '', ':']\n"
     ]
    },
    {
     "data": {
      "text/plain": [
       "'\\nfor hake in hakes:\\n    print(hakes)\\n'"
      ]
     },
     "execution_count": 16,
     "metadata": {},
     "output_type": "execute_result"
    }
   ],
   "source": [
    "import re\n",
    "\n",
    "sentance = \"I have 3 balls and 2 sockets\"\n",
    "pattern = r\"\\d\"\n",
    "#hakes = re.subn(pattern,\"T\" ,string)\n",
    "hakes = re.split(pattern, string)\n",
    "print(hakes)\n",
    "\n",
    "'''\n",
    "for hake in hakes:\n",
    "    print(hakes)\n",
    "'''"
   ]
  }
 ],
 "metadata": {
  "kernelspec": {
   "display_name": "base",
   "language": "python",
   "name": "python3"
  },
  "language_info": {
   "codemirror_mode": {
    "name": "ipython",
    "version": 3
   },
   "file_extension": ".py",
   "mimetype": "text/x-python",
   "name": "python",
   "nbconvert_exporter": "python",
   "pygments_lexer": "ipython3",
   "version": "3.12.3"
  }
 },
 "nbformat": 4,
 "nbformat_minor": 2
}
