{
 "cells": [
  {
   "cell_type": "markdown",
   "id": "1a67a43b-d18c-452a-b5f5-2bfc68c55b27",
   "metadata": {},
   "source": [
    "## Python Networking Using UDP with Threading\n",
    "\n",
    "### What is UDP?\n",
    "\n",
    "UDP stands for User Datagram Protocol. It is a connectionless protocol that does not guarantee delivery, order, or error checking. It is faster and more efficient for certain types of communication, such as real-time applications where speed is critical.\n",
    "\n",
    "### Why Use Threading?\n",
    "\n",
    "Threading allows a program to run multiple operations concurrently in separate threads. In the context of a UDP server, threading enables the server to handle multiple client requests at the same time, improving efficiency and responsiveness."
   ]
  },
  {
   "cell_type": "markdown",
   "id": "d489a133-ce75-4f90-b92d-5e28de6eab70",
   "metadata": {},
   "source": [
    "### Creating a Multi-threaded UDP Server\n",
    "\n",
    "A UDP server listens for incoming client datagrams on a specified IP address and port. "
   ]
  },
  {
   "cell_type": "code",
   "execution_count": null,
   "id": "c084b3d5-ce43-4e6c-b125-8b7e37fcff73",
   "metadata": {},
   "outputs": [],
   "source": [
    "import socket\n",
    "import threading\n",
    "\n",
    "def handle_client(data, client_address, server_socket):\n",
    "    print(f\"Received data from {client_address}: {data.decode('utf-8')}\")\n",
    "    \n",
    "    # Send a response to the client\n",
    "    response = \"Message received\"\n",
    "    server_socket.sendto(response.encode('utf-8'), client_address)\n",
    "\n",
    "def start_server(host='localhost', port=6532):\n",
    "    # Create a socket object\n",
    "    server_socket = socket.socket(socket.AF_INET, socket.SOCK_DGRAM)\n",
    "    \n",
    "    # Bind the socket to the address and port\n",
    "    server_socket.bind((host, port))\n",
    "    print(f\"Server started, listening on {host}:{port}\")\n",
    "    \n",
    "    while True:\n",
    "        # Receive data from a client\n",
    "        data, client_address = server_socket.recvfrom(1024)\n",
    "        \n",
    "        # Create a new thread to handle the client request\n",
    "        client_handler = threading.Thread(target=handle_client, args=(data, client_address, server_socket))\n",
    "        client_handler.start()\n",
    "\n",
    "# Run the server\n",
    "if __name__ == \"__main__\":\n",
    "    start_server()\n"
   ]
  },
  {
   "cell_type": "markdown",
   "id": "d67cb8b0-d666-4324-a0a8-bc80a6c58712",
   "metadata": {},
   "source": [
    "### Explanation\n",
    "\n",
    "- socket.AF_INET: Address family for IPv4.\n",
    "- socket.SOCK_DGRAM: Socket type for UDP.\n",
    "- recvfrom(): Receives data from a client and returns the data along with the client address.\n",
    "- sendto(): Sends data to a specified address.\n",
    "- threading.Thread: Creates a new thread that runs the handle_client function."
   ]
  },
  {
   "cell_type": "markdown",
   "id": "085dbeef-15ec-449a-9c05-f0ed08353218",
   "metadata": {},
   "source": [
    "### Creating a UDP Client\n",
    "A UDP client sends datagrams to the server and receives responses. "
   ]
  },
  {
   "cell_type": "code",
   "execution_count": null,
   "id": "4e35782f-402a-4c0b-95b6-cbe35e7dc88d",
   "metadata": {},
   "outputs": [],
   "source": [
    "import socket\n",
    "\n",
    "def start_client(host='localhost', port=6532):\n",
    "    # Create a socket object\n",
    "    client_socket = socket.socket(socket.AF_INET, socket.SOCK_DGRAM)\n",
    "    \n",
    "    # Send data to the server\n",
    "    message = \"Hello, Server!\"\n",
    "    client_socket.sendto(message.encode('utf-8'), (host, port))\n",
    "    print(f\"Sent message to {host}:{port}\")\n",
    "    \n",
    "    # Receive response from the server\n",
    "    response, server_address = client_socket.recvfrom(1024)\n",
    "    print(f\"Received response from {server_address}: {response.decode('utf-8')}\")\n",
    "    \n",
    "    # Close the socket\n",
    "    client_socket.close()\n",
    "\n",
    "# Run the client\n",
    "if __name__ == \"__main__\":\n",
    "    start_client()\n"
   ]
  },
  {
   "cell_type": "markdown",
   "id": "4619dfb0-4552-4471-8d73-3eb2e5d483e3",
   "metadata": {},
   "source": [
    "### Explanation\n",
    "\n",
    "- sendto(): Sends data to a specified address.\n",
    "- recvfrom(): Receives data from the server along with the server address."
   ]
  },
  {
   "cell_type": "markdown",
   "id": "341794b7-0392-43c8-8a7a-a6b21e97e2b2",
   "metadata": {},
   "source": [
    "### Running the Server and Clients\n",
    "\n",
    "1. Start the Server: Run the server script first. It will start listening for incoming datagrams.\n",
    "   python udp_server_threaded.py\n",
    "\n",
    "3. Start the Clients: Run multiple instances of the client script in different terminals or on different machines to simulate multiple clients sending datagrams to the server.\n",
    "   python udp_client.py\n",
    "\n",
    "When the clients send datagrams to the server, the server will handle each request in a separate thread, allowing concurrent communication with multiple clients.\n",
    "                                                                    "
   ]
  },
  {
   "cell_type": "markdown",
   "id": "a0cce824-2dbd-49aa-b12d-1dd1ed8f42fb",
   "metadata": {},
   "source": [
    "### 2. WITHOUT THREADING\n",
    "#### Server code"
   ]
  },
  {
   "cell_type": "code",
   "execution_count": null,
   "id": "74fd8420-05b8-4745-81aa-a2d05b4e2d5b",
   "metadata": {},
   "outputs": [],
   "source": [
    "import socket\n",
    "\n",
    "def start_server(host='localhost', port=6532):\n",
    "    # Create a socket object\n",
    "    server_socket = socket.socket(socket.AF_INET, socket.SOCK_DGRAM)\n",
    "    \n",
    "    # Bind the socket to the address and port\n",
    "    server_socket.bind((host, port))\n",
    "    print(f\"Server started, listening on {host}:{port}\")\n",
    "    \n",
    "    while True:\n",
    "        # Receive data from a client\n",
    "        data, client_address = server_socket.recvfrom(1024)\n",
    "        print(f\"Received data from {client_address}: {data.decode('utf-8')}\")\n",
    "        \n",
    "        # Send a response to the client\n",
    "        response = \"Message received\"\n",
    "        server_socket.sendto(response.encode('utf-8'), client_address)\n",
    "\n",
    "# Run the server\n",
    "if __name__ == \"__main__\":\n",
    "    start_server()\n"
   ]
  },
  {
   "cell_type": "markdown",
   "id": "e94d6b0b-38d4-46b1-9bbd-de16893264a7",
   "metadata": {},
   "source": []
  },
  {
   "cell_type": "markdown",
   "id": "2ba64561-8c90-4ae0-8c2f-05f394d6d911",
   "metadata": {},
   "source": [
    "### Differences between TCP and UDP\n",
    "\n",
    "| Feature                        | TCP (Transmission Control Protocol) | UDP (User Datagram Protocol)               |\n",
    "|--------------------------------|-------------------------------------|-------------------------------------------|\n",
    "| **Connection**                 | Connection-oriented                 | Connectionless                            |\n",
    "| **Reliability**                | Reliable                            | Unreliable                                |\n",
    "| **Data Transfer**              | Stream-oriented                     | Message-oriented (datagrams)              |\n",
    "| **Error Checking**             | Yes, error checking and recovery    | Yes, but no recovery                      |\n",
    "| **Ordering**                   | Ensures ordered delivery            | No guarantee of order                     |\n",
    "| **Flow Control**               | Yes                                 | No                                        |\n",
    "| **Congestion Control**         | Yes                                 | No                                        |\n",
    "| **Header Size**                | Larger (20 bytes minimum)           | Smaller (8 bytes)                         |\n",
    "| **Speed**                      | Slower due to overhead              | Faster, lower latency                     |\n",
    "| **Usage Scenarios**            | File transfer, web browsing, email  | Streaming, gaming, VoIP, DNS queries      |\n",
    "| **Overhead**                   | Higher due to connection setup,     | Lower overhead                            |\n",
    "|                                | teardown, and management            |                                           |\n",
    "| **Packet Loss**                | Handles retransmission of lost      | Packet loss possible, no retransmission   |\n",
    "|                                | packets                             |                                           |\n",
    "| **Connection Setup**           | Requires handshake (SYN, SYN-ACK,   | No handshake required                     |\n",
    "|                                | ACK)                                |                                           |\n",
    "| **Examples**                   | HTTP, HTTPS, FTP, SMTP              | DNS, TFTP, VoIP, online gaming            |\n"
   ]
  }
 ],
 "metadata": {
  "kernelspec": {
   "display_name": "Python 3 (ipykernel)",
   "language": "python",
   "name": "python3"
  },
  "language_info": {
   "codemirror_mode": {
    "name": "ipython",
    "version": 3
   },
   "file_extension": ".py",
   "mimetype": "text/x-python",
   "name": "python",
   "nbconvert_exporter": "python",
   "pygments_lexer": "ipython3",
   "version": "3.11.5"
  }
 },
 "nbformat": 4,
 "nbformat_minor": 5
}
