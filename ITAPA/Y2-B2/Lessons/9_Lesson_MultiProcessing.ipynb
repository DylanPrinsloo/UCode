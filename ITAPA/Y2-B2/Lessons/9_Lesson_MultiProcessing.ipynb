{
 "cells": [
  {
   "cell_type": "markdown",
   "id": "8602bc6d-c37f-427e-ac66-9b49ffb7fcb7",
   "metadata": {},
   "source": [
    "## The Multiprocessing Module\n",
    "### Creating process"
   ]
  },
  {
   "cell_type": "markdown",
   "id": "4b6131cc-4227-4a9c-933b-10db9961273d",
   "metadata": {},
   "source": [
    "\n",
    "### 2. Processes in Python\n",
    "A process in Python is an independent program in execution. Each process has its own memory space, which means processes are isolated and do not share data directly.\n",
    "\n",
    "#### Key Characteristics\n",
    "- **Isolation**: Processes do not share memory space.\n",
    "- **Communication**: Inter-Process Communication (IPC) is required for data exchange.\n",
    "- **Overhead**: Higher overhead due to memory isolation."
   ]
  },
  {
   "cell_type": "markdown",
   "id": "38eccd7c-fd09-40dd-b0cb-56a6ab33e3ba",
   "metadata": {},
   "source": [
    "### Python's `multiprocessing` Module\n",
    "The `multiprocessing` module allows you to create and manage processes."
   ]
  },
  {
   "cell_type": "code",
   "execution_count": 3,
   "id": "3e36217f-515a-463e-b577-5ecc39637fef",
   "metadata": {},
   "outputs": [
    {
     "name": "stdout",
     "output_type": "stream",
     "text": [
      "1\n",
      "2\n",
      "1\n",
      "2\n",
      "Execution time: 4.023030996322632 seconds\n"
     ]
    }
   ],
   "source": [
    "import time\n",
    "from functions import print_numbers\n",
    "\n",
    "start_time = time.time()\n",
    "\n",
    "print_numbers()\n",
    "print_numbers()\n",
    "\n",
    "end_time = time.time()\n",
    "\n",
    "print(f\"Execution time: {end_time - start_time} seconds\")"
   ]
  },
  {
   "cell_type": "markdown",
   "id": "233d014a-e06a-4286-9d29-10af3f56bc7a",
   "metadata": {},
   "source": [
    "### Steps to Implement Multiprocessing\n",
    "\n",
    "1. **Import the `multiprocessing` module**:\n",
    "   ```python\n",
    "   import multiprocessing\n",
    "   ```\n",
    "\n",
    "2. **Define a function that each process will execute**:\n",
    "   ```python\n",
    "   def worker():\n",
    "       # Perform some task\n",
    "       pass\n",
    "   ```\n",
    "\n",
    "3. **Create a `Process` object and pass the function as the target**:\n",
    "   ```python\n",
    "   process = multiprocessing.Process(target=worker)\n",
    "   ```\n",
    "\n",
    "4. **Start the process using the `start()` method**:\n",
    "   ```python\n",
    "   process.start()\n",
    "   ```\n",
    "\n",
    "5. **Optionally, use `join()` to wait for the process to complete**:\n",
    "   ```python\n",
    "   process.join()\n",
    "   ```"
   ]
  },
  {
   "cell_type": "code",
   "execution_count": null,
   "id": "76f1ec99-aeaa-4c83-833d-989b820ca999",
   "metadata": {},
   "outputs": [],
   "source": [
    "import multiprocessing\n",
    "import time\n",
    "from functions import print_numbers\n",
    "\n",
    "if __name__ == \"__main__\":\n",
    "    start_time = time.time()\n",
    "\n",
    "    # Create a multiprocessing Process\n",
    "    process = multiprocessing.Process(target=print_numbers)\n",
    "\n",
    "    # Start the process\n",
    "    process.start()\n",
    "\n",
    "    # Wait for the process to complete\n",
    "    process.join()\n",
    "\n",
    "    end_time = time.time()\n",
    "\n",
    "    print(f\"Execution time: {end_time - start_time} seconds\")\n",
    "    print(\"Process finished execution\")\n"
   ]
  },
  {
   "cell_type": "markdown",
   "id": "2e60ed63-a847-475f-b58f-665ad4a84706",
   "metadata": {},
   "source": [
    "### Create multiple processes\n",
    "We can create multiple threads to perform concurrent tasks."
   ]
  },
  {
   "cell_type": "code",
   "execution_count": null,
   "id": "6d677731-696e-49b7-b616-99673019bf32",
   "metadata": {},
   "outputs": [],
   "source": [
    "import multiprocessing\n",
    "import time\n",
    "from functions import print_numbers\n",
    "\n",
    "if __name__ == \"__main__\":\n",
    "    start_time = time.time()\n",
    "\n",
    "    # Create the first process\n",
    "    process1 = multiprocessing.Process(target=print_numbers)\n",
    "    process1.start()\n",
    "\n",
    "    # Create the second process\n",
    "    process2 = multiprocessing.Process(target=print_numbers)\n",
    "    process2.start()\n",
    "\n",
    "    # Wait for both processes to complete\n",
    "    process1.join()\n",
    "    process2.join()\n",
    "\n",
    "    end_time = time.time()\n",
    "\n",
    "    print(\"Both processes finished execution\")\n",
    "    print(f\"Execution time: {end_time - start_time} seconds\")\n"
   ]
  },
  {
   "cell_type": "markdown",
   "id": "45afe939-987b-4726-a224-26936d635db8",
   "metadata": {},
   "source": [
    "### Adding Multiple processes Using a Loop"
   ]
  },
  {
   "cell_type": "code",
   "execution_count": null,
   "id": "fa4aade6-b1f0-4ac9-8edc-9091d2cb445a",
   "metadata": {},
   "outputs": [],
   "source": [
    "import multiprocessing\n",
    "import time\n",
    "from functions import print_numbers\n",
    "\n",
    "if __name__ == \"__main__\":\n",
    "    start_time = time.time()\n",
    "\n",
    "    # Create and start multiple processes using a loop\n",
    "    processes = []\n",
    "    for _ in range(3):  # Adjust the number of processes as needed\n",
    "        process = multiprocessing.Process(target=print_numbers)\n",
    "        processes.append(process)\n",
    "        process.start()\n",
    "\n",
    "    # Wait for all processes to complete\n",
    "    for process in processes:\n",
    "        process.join()\n",
    "\n",
    "    end_time = time.time()\n",
    "\n",
    "    print(\"All processes finished execution\")\n",
    "    print(f\"Execution time: {end_time - start_time} seconds\")\n"
   ]
  },
  {
   "cell_type": "markdown",
   "id": "e11ba3b1-102c-429d-be12-48c37767ec14",
   "metadata": {},
   "source": [
    "### Adding Arguments to the Function"
   ]
  },
  {
   "cell_type": "code",
   "execution_count": 1,
   "id": "87af4dfb-a3f4-4780-bfeb-69e365d1aed8",
   "metadata": {},
   "outputs": [
    {
     "name": "stdout",
     "output_type": "stream",
     "text": [
      "0\n",
      "1\n",
      "0\n",
      "1\n",
      "2\n",
      "0\n",
      "1\n",
      "2\n",
      "3\n",
      "All processes finished execution\n",
      "Execution time: 4.106184005737305 seconds\n"
     ]
    }
   ],
   "source": [
    "import multiprocessing\n",
    "import time\n",
    "from functions import print_numbers_par\n",
    "\n",
    "if __name__ == \"__main__\":\n",
    "    start_time = time.time()\n",
    "\n",
    "    # Create and start multiple processes with arguments using a loop\n",
    "    processes = []\n",
    "    names = [1, 2, 3]  # Example arguments\n",
    "\n",
    "    for name in names:\n",
    "        process = multiprocessing.Process(target=print_numbers_par, args=(name,))\n",
    "        processes.append(process)\n",
    "        process.start()\n",
    "\n",
    "    # Wait for all processes to complete\n",
    "    for process in processes:\n",
    "        process.join()\n",
    "\n",
    "    end_time = time.time()\n",
    "\n",
    "    print(\"All processes finished execution\")\n",
    "    print(f\"Execution time: {end_time - start_time} seconds\")\n"
   ]
  },
  {
   "cell_type": "markdown",
   "id": "dceee7b8-f961-45f8-bd21-4ca3a59f4cb5",
   "metadata": {},
   "source": [
    "### Synchronizing processes\n",
    "To prevent race conditions, you can use thread synchronization primitives like Locks."
   ]
  },
  {
   "cell_type": "code",
   "execution_count": null,
   "id": "cf18c65d-54aa-4824-a4b7-080206839298",
   "metadata": {},
   "outputs": [],
   "source": [
    "import multiprocessing\n",
    "import time\n",
    "\n",
    "# Define the print_numbers function\n",
    "def print_numbers(lock):\n",
    "    with lock:\n",
    "        for i in range(1, 6):\n",
    "            print(f\"Numbers: {i}\")\n",
    "            time.sleep(1)\n",
    "\n",
    "# Define the print_letters function\n",
    "def print_letters(lock):\n",
    "    with lock:\n",
    "        for letter in 'ABCDE':\n",
    "            print(f\"Letters: {letter}\")\n",
    "            time.sleep(1.5)\n",
    "\n",
    "if __name__ == \"__main__\":\n",
    "    start_time = time.time()\n",
    "\n",
    "    # Create a lock\n",
    "    lock = multiprocessing.Lock()\n",
    "\n",
    "    # Create processes\n",
    "    process1 = multiprocessing.Process(target=print_numbers, args=(lock,))\n",
    "    process2 = multiprocessing.Process(target=print_letters, args=(lock,))\n",
    "\n",
    "    # Start processes\n",
    "    process1.start()\n",
    "    process2.start()\n",
    "\n",
    "    # Wait for processes to complete\n",
    "    process1.join()\n",
    "    process2.join()\n",
    "\n",
    "    end_time = time.time()\n",
    "\n",
    "    print(\"Both processes finished execution\")\n",
    "    print(f\"Execution time: {end_time - start_time} seconds\")\n"
   ]
  },
  {
   "cell_type": "markdown",
   "id": "5f1e5232-ca5a-431f-8210-725c51807b12",
   "metadata": {},
   "source": [
    "### Web Scraping\n",
    "\n",
    "Here's a more complex example using multithreading to scrape multiple web pages concurrently."
   ]
  },
  {
   "cell_type": "markdown",
   "id": "1ee64a00-465b-452d-86b7-9804273e3306",
   "metadata": {},
   "source": [
    "### concurrent.futures\n",
    "\n",
    "The concurrent.futures module was introduced in Python 3.2. It provides a high-level interface for asynchronously executing callables (functions or methods) using threads or processes. This module abstracts away the details of thread and process management, making it easier to write concurrent code without having to deal with low-level threading or multiprocessing APIs directly."
   ]
  },
  {
   "cell_type": "markdown",
   "id": "a38dc300-b96b-42f8-ab1a-652167ab7c31",
   "metadata": {},
   "source": [
    "### Pools for Inter-Process Communication (Queue's)"
   ]
  },
  {
   "cell_type": "code",
   "execution_count": 3,
   "id": "b61f16ee-2fa4-4445-aef7-9b0cf09b0af7",
   "metadata": {},
   "outputs": [
    {
     "name": "stdout",
     "output_type": "stream",
     "text": [
      "0\n",
      "1\n",
      "0\n",
      "1\n",
      "2\n"
     ]
    }
   ],
   "source": [
    "import concurrent.futures\n",
    "import time\n",
    "from functions import print_numbers_par\n",
    "\n",
    "if __name__ == \"__main__\":\n",
    "    # Create a ProcessPoolExecutor with 2 processes\n",
    "    with concurrent.futures.ProcessPoolExecutor(max_workers=2) as executor:\n",
    "        # Submit tasks to the executor asynchronously\n",
    "        future1 = executor.submit(print_numbers_par, 1)\n",
    "        future2 = executor.submit(print_numbers_par, 2)\n",
    "\n",
    "        # Wait for both tasks to complete\n",
    "        concurrent.futures.wait([future1, future2])\n"
   ]
  },
  {
   "cell_type": "markdown",
   "id": "42e85236-d5c4-4b16-a4ef-5ed26216dfc4",
   "metadata": {},
   "source": [
    "### Creating processes with concurrent.futures"
   ]
  },
  {
   "cell_type": "code",
   "execution_count": 4,
   "id": "8c7b5113-7e6e-4a84-a559-fb88bfda7ef2",
   "metadata": {},
   "outputs": [
    {
     "name": "stdout",
     "output_type": "stream",
     "text": [
      "1\n",
      "2\n",
      "Thread finished execution\n"
     ]
    }
   ],
   "source": [
    "import concurrent.futures\n",
    "import time\n",
    "from functions import print_numbers\n",
    "\n",
    "if __name__ == \"__main__\":\n",
    "    # Create a ThreadPoolExecutor with one thread\n",
    "    with concurrent.futures.ThreadPoolExecutor() as executor:\n",
    "        # Submit the print_numbers function to the thread pool\n",
    "        future = executor.submit(print_numbers)\n",
    "\n",
    "        # Wait for the task to complete\n",
    "        future.result()\n",
    "\n",
    "    print(\"Thread finished execution\")\n"
   ]
  },
  {
   "cell_type": "markdown",
   "id": "cd0c7152-4a4a-4407-a370-0c1d106071d2",
   "metadata": {},
   "source": [
    "### Creating multile processes with concurrent.futures"
   ]
  },
  {
   "cell_type": "code",
   "execution_count": 6,
   "id": "11708e14-af2f-4b59-84c6-05ee36754138",
   "metadata": {},
   "outputs": [
    {
     "name": "stdout",
     "output_type": "stream",
     "text": [
      "1\n",
      "1\n",
      "2\n",
      "2\n",
      "Both threads finished execution\n",
      "Execution time: 2.0121030807495117 seconds\n"
     ]
    }
   ],
   "source": [
    "import concurrent.futures\n",
    "import time\n",
    "from functions import print_numbers\n",
    "\n",
    "if __name__ == \"__main__\":\n",
    "    start_time = time.time()\n",
    "\n",
    "    # Create a ThreadPoolExecutor with 2 threads\n",
    "    with concurrent.futures.ThreadPoolExecutor() as executor:\n",
    "        # Submit print_numbers function twice to the executor\n",
    "        future1 = executor.submit(print_numbers)\n",
    "        future2 = executor.submit(print_numbers)\n",
    "\n",
    "        # Retrieve and print the results of both tasks\n",
    "        future1.result()\n",
    "        future2.result()\n",
    "        \n",
    "    end_time = time.time()\n",
    "    print(\"Both threads finished execution\")\n",
    "    print(f\"Execution time: {end_time - start_time} seconds\")\n"
   ]
  },
  {
   "cell_type": "markdown",
   "id": "5a20705c-8359-487a-a95d-18b595fcb744",
   "metadata": {},
   "source": [
    "### Creating multile processes using loops with concurrent.futures"
   ]
  },
  {
   "cell_type": "code",
   "execution_count": null,
   "id": "0777b4f4-2196-4e4a-a684-8958e775ecba",
   "metadata": {},
   "outputs": [],
   "source": [
    "import concurrent.futures\n",
    "import time\n",
    "from functions import print_numbers\n",
    "\n",
    "start_time = time.time()\n",
    "\n",
    "# Create a ThreadPoolExecutor with 2 threads\n",
    "with concurrent.futures.ThreadPoolExecutor() as executor:\n",
    "    # Submit print_numbers function twice to the executor using a loop\n",
    "    futures = [executor.submit(print_numbers) for _ in range(2)]\n",
    "\n",
    "    # Retrieve and print the results of all tasks\n",
    "    for future in futures:\n",
    "        future.result()\n",
    "\n",
    "end_time = time.time()\n",
    "\n",
    "print(\"Both threads finished execution\")\n",
    "print(f\"Execution time: {end_time - start_time} seconds\")\n"
   ]
  },
  {
   "cell_type": "markdown",
   "id": "157f6718-da18-4bbf-b8d6-edce769adfc3",
   "metadata": {},
   "source": [
    "### Creating multile processes parameters with concurrent.futures"
   ]
  },
  {
   "cell_type": "code",
   "execution_count": 7,
   "id": "8486503e-74b1-43a6-9418-292f59cec4f6",
   "metadata": {},
   "outputs": [
    {
     "name": "stdout",
     "output_type": "stream",
     "text": [
      "0\n",
      "0\n",
      "11\n",
      "\n",
      "2\n",
      "2\n",
      "3\n",
      "3\n",
      "Both threads finished execution\n",
      "Execution time: 4.020181894302368 seconds\n"
     ]
    }
   ],
   "source": [
    "import concurrent.futures\n",
    "import time\n",
    "from functions import print_numbers_par\n",
    "\n",
    "if __name__ == \"__main__\":\n",
    "    start_time = time.time()\n",
    "\n",
    "    # Create a ThreadPoolExecutor with 2 threads\n",
    "    with concurrent.futures.ThreadPoolExecutor() as executor:\n",
    "        # Submit print_numbers function twice to the executor using a loop\n",
    "        futures = [executor.submit(print_numbers_par, 3) for _ in range(2)]\n",
    "\n",
    "        # Retrieve and print the results of all tasks\n",
    "        for future in futures:\n",
    "            future.result()\n",
    "\n",
    "    end_time = time.time()\n",
    "\n",
    "    print(\"Both threads finished execution\")\n",
    "    print(f\"Execution time: {end_time - start_time} seconds\")\n"
   ]
  },
  {
   "cell_type": "markdown",
   "id": "4d99e173-6f4d-4ff3-a171-716502c5224f",
   "metadata": {},
   "source": [
    "### Creating multile processes multiple parameters with concurrent.futures"
   ]
  },
  {
   "cell_type": "code",
   "execution_count": 8,
   "id": "c6b6cc4d-8811-4bea-b6aa-2e57443f26b7",
   "metadata": {},
   "outputs": [
    {
     "name": "stdout",
     "output_type": "stream",
     "text": [
      "00\n",
      "\n",
      "11\n",
      "\n",
      "22\n",
      "\n",
      "3\n",
      "3\n",
      "4\n",
      "5\n",
      "Both threads finished execution\n",
      "Execution time: 6.022226333618164 seconds\n"
     ]
    }
   ],
   "source": [
    "import concurrent.futures\n",
    "import time\n",
    "from functions import print_numbers_par\n",
    "\n",
    "if __name__ == \"__main__\":\n",
    "    # List of values for seconds\n",
    "    seconds_list = [3, 5]\n",
    "\n",
    "    start_time = time.time()\n",
    "\n",
    "    # Create a ThreadPoolExecutor with 2 threads\n",
    "    with concurrent.futures.ThreadPoolExecutor() as executor:\n",
    "        # Submit print_numbers function with different seconds values to the executor\n",
    "        futures = [executor.submit(print_numbers_par, seconds) for seconds in seconds_list]\n",
    "\n",
    "        # Retrieve and print the results of all tasks\n",
    "        for future in futures:\n",
    "            future.result()\n",
    "\n",
    "    end_time = time.time()\n",
    "\n",
    "    print(\"Both threads finished execution\")\n",
    "    print(f\"Execution time: {end_time - start_time} seconds\")\n"
   ]
  },
  {
   "cell_type": "code",
   "execution_count": null,
   "id": "d82d65d5-d406-4dc3-aa25-d78b5e356fc6",
   "metadata": {},
   "outputs": [],
   "source": []
  }
 ],
 "metadata": {
  "kernelspec": {
   "display_name": "Python 3 (ipykernel)",
   "language": "python",
   "name": "python3"
  },
  "language_info": {
   "codemirror_mode": {
    "name": "ipython",
    "version": 3
   },
   "file_extension": ".py",
   "mimetype": "text/x-python",
   "name": "python",
   "nbconvert_exporter": "python",
   "pygments_lexer": "ipython3",
   "version": "3.11.5"
  }
 },
 "nbformat": 4,
 "nbformat_minor": 5
}
