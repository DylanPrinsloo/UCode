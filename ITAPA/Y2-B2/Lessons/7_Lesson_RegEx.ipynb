{
 "cells": [
  {
   "cell_type": "markdown",
   "id": "aea42e31-4d13-4a4c-8534-6451c2449547",
   "metadata": {},
   "source": [
    "## What are Regular Expressions?\n",
    "Regular expressions (regex or regexp) are sequences of characters that define a search pattern. They are used for pattern matching within strings."
   ]
  },
  {
   "cell_type": "markdown",
   "id": "6a8a6863-8691-41ae-be7b-761f07c4f183",
   "metadata": {},
   "source": [
    "## Real-World Applications:\n",
    "\n",
    "    - Data validation: Validating user input, such as email addresses, phone numbers, or dates\n",
    "    - Text processing: Extracting information from unstructured text data\n",
    "    - Web scraping: Parsing HTML or XML documents to extract specific data\n",
    "    - Log analysis: Searching and extracting relevant information from log files\n",
    "    - Data cleaning: Removing unwanted characters or formatting from text data\n",
    "    - Code analysis: Searching for patterns or specific constructs in source code\n",
    "\n",
    "Regular expression pattern for email addresses\n",
    "email_pattern = r'\\b[A-Za-z0-9._%+-]+@[A-Za-z0-9.-]+\\.[A-Z|a-z]{2,}\\b'"
   ]
  },
  {
   "cell_type": "markdown",
   "id": "6254b838-6bf4-4673-a380-ba06eceac137",
   "metadata": {},
   "source": [
    "## Basic Syntax of Regular Expressions\n",
    "\n",
    "### Literal Characters:\n",
    "    - Matches exactly what you type. For example, cat matches the string \"cat\".\n",
    "\n",
    "### Special Characters:\n",
    "\n",
    "    .: Matches any character except a newline.\n",
    "    *: Matches 0 or more repetitions of the preceding element.\n",
    "    +: Matches 1 or more repetitions of the preceding element.\n",
    "    ?: Matches 0 or 1 repetition of the preceding element.\n",
    "    {n}: Matches exactly n repetitions of the preceding element.\n",
    "    {n,}: Matches n or more repetitions.\n",
    "    {n,m}: Matches between n and m repetitions.\n",
    "    []: Matches any one of the characters inside the brackets. For example, [aeiou] matches any vowel.\n",
    "    ^: Matches the start of the string.\n",
    "    $: Matches the end of the string.\n",
    "    |: Alternation, matches either the pattern before or after the |.\n",
    "    (): Groups patterns together.\n",
    "    \\: Escapes special characters.\n",
    "\n",
    "### Character Classes:\n",
    "\n",
    "    \\d: Matches any digit (0-9).\n",
    "    \\w: Matches any alphanumeric character (word character).\n",
    "    \\s: Matches any whitespace character."
   ]
  },
  {
   "cell_type": "markdown",
   "id": "fa8e0bee-e607-4eaa-8792-c5b0512b6538",
   "metadata": {},
   "source": [
    "## Creating and Using Regular Expressions in Python\n",
    "\n",
    "### Importing the re Module:"
   ]
  },
  {
   "cell_type": "code",
   "execution_count": null,
   "id": "8fda35f7-ec46-4809-85e6-5d37e0258830",
   "metadata": {},
   "outputs": [],
   "source": [
    "import re"
   ]
  },
  {
   "cell_type": "markdown",
   "id": "f9e17f53-7d5e-467a-ab12-fa986bb4ea8a",
   "metadata": {},
   "source": [
    "## Basic Functions:\n",
    "\n",
    "    - re.search(pattern, string): Searches for the first location where the pattern matches in the string.\n",
    "    - re.match(pattern, string): Checks for a match only at the beginning of the string.\n",
    "    - re.findall(pattern, string): Finds all substrings where the pattern matches and returns them as a list.\n",
    "    - re.sub(pattern, repl, string): Replaces the matches with the replacement string.\n",
    "\n",
    "In Python, the re module provides functions for working with regular expressions. One of these functions is re.search(), \n",
    "which searches for a pattern within a string. When re.search() finds a match, it returns a match object. The match.group() \n",
    "method is used to retrieve the matched portion of the string from this match object.\n"
   ]
  },
  {
   "cell_type": "markdown",
   "id": "fba4a89f-f9d4-49cb-9010-469bf7eb13af",
   "metadata": {},
   "source": [
    "## re.search()"
   ]
  },
  {
   "cell_type": "code",
   "execution_count": 4,
   "id": "45f5e328-aea6-4231-865b-129424c8409e",
   "metadata": {},
   "outputs": [
    {
     "name": "stdout",
     "output_type": "stream",
     "text": [
      "fox\n"
     ]
    }
   ],
   "source": [
    "\n",
    "sentence = \"The quick brown fox jumps over the lazy dog on 12/12/2020 at 10:00 AM.\"\n",
    "\n",
    "# Find the literal word \"fox\"\n",
    "pattern = r\"fox\"\n",
    "match = re.search(pattern, sentence)\n",
    "print(match.group())\n"
   ]
  },
  {
   "cell_type": "markdown",
   "id": "4810f690-6be6-47c5-9f16-6d16f8136c89",
   "metadata": {},
   "source": [
    "\n",
    "## Basic Syntax - Metacharacters\n",
    "\n",
    "\n",
    "| Symbol|Description|\n",
    "|------|-----------|\n",
    "|`.`| Dot/period matches any single character except newline.|\n",
    "|`^`| Caret matches the start of a string.|\n",
    "|`$`| Dollar matches the end of a string.|\n"
   ]
  },
  {
   "cell_type": "code",
   "execution_count": null,
   "id": "72c3a289-d298-4cc3-b18e-981de2d536b5",
   "metadata": {},
   "outputs": [],
   "source": [
    "pattern = r\"h.llo\"\n",
    "string1 = \"hello\"\n",
    "string2 = \"hallo\"\n",
    "\n",
    "# Using the re.search() function to search string1 and string1 for a match to the pattern\n",
    "match1 = re.search(pattern, string1)\n",
    "match2 = re.search(pattern, string2)\n",
    "\n",
    "print(match1)  # Output: <re.Match object; span=(0, 5), match='hello'>\n",
    "print(match2)  # Output: <re.Match object; span=(0, 5), match='hallo'>"
   ]
  },
  {
   "cell_type": "code",
   "execution_count": null,
   "id": "3623166e-6a1f-41ee-acf4-e4344bdbaedb",
   "metadata": {},
   "outputs": [],
   "source": [
    "pattern = r\"^hello$\"\n",
    "string1 = \"hello\"\n",
    "string2 = \"hello world\"\n",
    "\n",
    "# Using the re.search() function to search string1 and string1 for a match to the pattern\n",
    "match1 = re.search(pattern, string1)\n",
    "match2 = re.search(pattern, string2)\n",
    "\n",
    "print(match1)  # Output: <re.Match object; span=(0, 5), match='hello'>\n",
    "print(match2)  # Output: None"
   ]
  },
  {
   "cell_type": "markdown",
   "id": "5a6ec10d-da21-455f-be9d-cf2ffef1882a",
   "metadata": {},
   "source": [
    "## Basic Syntax - Shorthand Character Classes\n",
    "\n",
    "| Class|Description|\n",
    "|------|-----------|\n",
    "| `\\d`|Matches any digit (0-9).|\n",
    "| `\\w`|Matches any word character (a-z, A-Z, 0-9, _).|\n",
    "| `\\s`|Matches any whitespace character (space, tab, newline).|"
   ]
  },
  {
   "cell_type": "code",
   "execution_count": null,
   "id": "fcc0386b-b5df-4d58-82c9-1e4bdc6f7039",
   "metadata": {},
   "outputs": [],
   "source": [
    "pattern = r\"\\d\"\n",
    "string = \"Class starts at 08:00 and ends at 10:50\"\n",
    "matches = re.findall(pattern, string)\n",
    "print(matches)  # Output: ['0', '8', '0', '0', '1', '0', '5', '0']"
   ]
  },
  {
   "cell_type": "markdown",
   "id": "8163628c-f5cc-4963-83cd-ec56ab862295",
   "metadata": {},
   "source": [
    "## Basic Syntax - Negated Shorthand Character Classes\n",
    "\n",
    "| Class|Description|\n",
    "|------|-----------|\n",
    "|`\\D`| Matches any **non**-digit character.|\n",
    "|`\\W`| Matches any **non**-word character.|\n",
    "|`\\S`| Matches any **non**-whitespace character.|"
   ]
  },
  {
   "cell_type": "code",
   "execution_count": null,
   "id": "afa99f11-3a1b-455c-ba3a-e8863a6ff2de",
   "metadata": {},
   "outputs": [],
   "source": [
    "pattern = r\"\\D\"\n",
    "string = \"Class starts at 08:00 and ends at 10:50\"\n",
    "matches = re.findall(pattern, string)\n",
    "print(matches)  # Output: ['C', 'l', 'a', 's', 's', ' ', 's', 't', 'a', 'r', 't', 's', ' ', 'a', 't', ' ', ':', ' ', 'a', 'n', 'd', 's', ' ', 'a', 't', ' ', ':']"
   ]
  },
  {
   "cell_type": "markdown",
   "id": "434a85b4-d4b7-434d-9142-adc9d61fb32d",
   "metadata": {},
   "source": [
    "## Braces\n",
    "\n",
    "Braces '{}' specify an exact count or a range of occurrences.\n",
    "\n",
    "\n",
    "| |Description|\n",
    "|------|-----------|\n",
    "|`{n}`| Exact count matches exactly n occurrences of the preceding character or group.|\n",
    "|`{n,m}`| Range matches between n and m occurrences of the preceding character or group.|\n",
    "\n"
   ]
  },
  {
   "cell_type": "code",
   "execution_count": null,
   "id": "ed04767e-36a9-48e6-8268-1e4716df2161",
   "metadata": {},
   "outputs": [],
   "source": [
    "pattern = r\"a{3}\"\n",
    "string1 = \"aaa\"\n",
    "string2 = \"aa\"\n",
    "string3 = \"aaaa\"\n",
    "match1 = re.search(pattern, string1)\n",
    "match2 = re.search(pattern, string2)\n",
    "match3 = re.search(pattern, string3)\n",
    "print(match1)  # Output: <re.Match object; span=(0, 3), match='aaa'>\n",
    "print(match2)  # Output: None\n",
    "print(match3)  # Output: <re.Match object; span=(0, 3), match='aaa'>"
   ]
  },
  {
   "cell_type": "markdown",
   "id": "ef5019ea-ef97-40ef-a3b5-c0dcefb8db58",
   "metadata": {},
   "source": [
    "## Grouping and Capturing\n",
    "\n",
    "Parentheses `()` group characters together and create a capturing group\n",
    "\n",
    "Captured groups can be referred to later using backreferences `\\1`,`\\2`, etc."
   ]
  },
  {
   "cell_type": "code",
   "execution_count": 18,
   "id": "31133abb-3df7-4119-8d90-c7f78f277015",
   "metadata": {},
   "outputs": [
    {
     "name": "stdout",
     "output_type": "stream",
     "text": [
      "078 123 4567\n",
      "078\n",
      "123 4567\n"
     ]
    }
   ],
   "source": [
    "pattern = r\"(\\d{3}) (\\d{3} \\d{4})\"\n",
    "string = \"My phone number is 078 123 4567\"\n",
    "match = re.search(pattern, string)\n",
    "print(match.group(1))  # Output: 078\n",
    "print(match.group(2))  # Output: 123 4567"
   ]
  },
  {
   "cell_type": "code",
   "execution_count": null,
   "id": "87bd9677-dd59-41a5-b029-1e83f7aa2ebb",
   "metadata": {},
   "outputs": [],
   "source": [
    "sentence = \"Contact us at support@example.com.\"\n",
    "pattern = r\"(\\w+)@(\\w+\\.\\w+)\"\n",
    "match = re.search(pattern, sentence)\n",
    "\n",
    "if match:\n",
    "    print(match.group())    \n",
    "    print(match.group(1))   \n",
    "    print(match.group(2))   \n"
   ]
  },
  {
   "cell_type": "markdown",
   "id": "44b18e51-9e85-4939-b04b-3303a6dc1449",
   "metadata": {},
   "source": [
    "let's break down the meaning of each character within the pattern r\"(\\w+)@(\\w+\\.\\w+)\" \n",
    "\n",
    "Group 1: \"(\\w+)\"\n",
    "\n",
    "   - \"(\":This opening parenthesis marks the beginning of a capturing group.\n",
    "   - \"\\w\": This matches a single word character. Word characters include letters (uppercase and lowercase), digits (0-9), and underscores (_).\n",
    "   - \"+`: This quantifier indicates that the preceding element (\"\\w\" in this case) can be matched one or more times. \n",
    "\n",
    "\n",
    "Group 2: \"(\\w+\\.\\w+)\"\n",
    "\n",
    "   - \"(\": Similar to group 1, this marks the beginning of a capturing group.\n",
    "   - \"\\w+\": As explained before, this matches one or more word characters.\n",
    "   - \"\\.`: This literally matches a single dot (.).\n",
    "   - \"\\w+`: Another occurrence of one or more word characters."
   ]
  },
  {
   "cell_type": "markdown",
   "id": "762654fb-879e-4bc1-88fd-3b07290e87d4",
   "metadata": {},
   "source": [
    "## Alternation\n",
    "\n",
    "Vertical bar `|` matches either the expression before or after it"
   ]
  },
  {
   "cell_type": "code",
   "execution_count": null,
   "id": "fe0ffff9-4f3c-496d-baaf-33f86cf827aa",
   "metadata": {},
   "outputs": [],
   "source": [
    "pattern = r\"cat|dog\"\n",
    "string1 = \"I have a cat\"\n",
    "string2 = \"I have a dog\"\n",
    "string3 = \"I have a bird\"\n",
    "match1 = re.search(pattern, string1)\n",
    "match2 = re.search(pattern, string2)\n",
    "match3 = re.search(pattern, string3)\n",
    "print(match1)  # Output: <re.Match object; span=(9, 12), match='cat'>\n",
    "print(match2)  # Output: <re.Match object; span=(9, 12), match='dog'>\n",
    "print(match3)  # Output: None"
   ]
  },
  {
   "cell_type": "markdown",
   "id": "51eb8b5f-33dd-440c-9e23-217f9b3c59c9",
   "metadata": {},
   "source": [
    "## re.findall()\n",
    "The re.findall() function finds all non-overlapping matches of a pattern in a string and returns them as a list of strings."
   ]
  },
  {
   "cell_type": "code",
   "execution_count": null,
   "id": "080e5c31-3be9-47c8-a222-3574236192ab",
   "metadata": {},
   "outputs": [],
   "source": [
    "# Find all digits\n",
    "\n",
    "sentence = \"The quick brown fox jumps over the lazy dog on 12/12/2020 at 10:00 AM.\"\n",
    "pattern = r\"\\d+\"\n",
    "matches = re.findall(pattern, sentence)\n",
    "print(matches)\n"
   ]
  },
  {
   "cell_type": "code",
   "execution_count": null,
   "id": "4fb6188c-995a-409c-82f4-0fb70f73760a",
   "metadata": {},
   "outputs": [],
   "source": [
    "sentence = \"The quick brown fox jumps over the lazy dog on 12/12/2020 at 10:00 AM.\"\n",
    "\n",
    "# Find words starting with 'b'\n",
    "pattern = r\"\\bb\\w+\"\n",
    "matches = re.findall(pattern, sentence)\n",
    "print(matches)  \n",
    "\n",
    "# Find any three-letter word\n",
    "pattern = r\"\\b\\w{3}\\b\"\n",
    "matches = re.findall(pattern, sentence)\n",
    "print(matches)"
   ]
  },
  {
   "cell_type": "markdown",
   "id": "01d8e1aa-d43f-46aa-bedb-2be7889c58f4",
   "metadata": {},
   "source": [
    "## Python Regex Functions - `re.finditer()`\n",
    "\n",
    "- `re.finditer()` returns an iterator yielding Match objects for all non-overlapping matches"
   ]
  },
  {
   "cell_type": "code",
   "execution_count": null,
   "id": "be357a78-79de-400f-903f-6c7656051a7a",
   "metadata": {},
   "outputs": [],
   "source": [
    "pattern = r\"\\d+\"\n",
    "string = \"I have 2 apples and 3 oranges\"\n",
    "matches = re.finditer(pattern, string)\n",
    "for match in matches:\n",
    "    print(match.group())  # Output: 2 \\n 3"
   ]
  },
  {
   "cell_type": "markdown",
   "id": "861b0037-51de-458a-b7d9-6f983ac14d8a",
   "metadata": {},
   "source": [
    "## Basic Syntax - Character Classes\n",
    "\n",
    "- **Definition:** A set of characters enclosed in square brackets [ ] that matches any one character in the set. \n",
    "\n",
    "\n",
    "| Class|Description|\n",
    "|------|-----------|\n",
    "| `[a-z]`|Matches any lowercase letter.|\n",
    "| `[A-Z]`|Matches any uppercase letter.|\n",
    "| `[0-9]`|Matches any digit.|\n"
   ]
  },
  {
   "cell_type": "code",
   "execution_count": null,
   "id": "8f53fa43-d85f-45fe-a2c9-f08e0400f3e6",
   "metadata": {},
   "outputs": [],
   "source": [
    "pattern = r\"[aeiou]\"\n",
    "string = \"hello\"\n",
    "matches = re.findall(pattern, string)\n",
    "print(matches)  # Output: ['e', 'o']"
   ]
  },
  {
   "cell_type": "markdown",
   "id": "5107b4cb-62c5-489c-9515-cc962668586e",
   "metadata": {},
   "source": [
    "## Named Groups\n",
    "\n",
    "- Named groups allow you to assign names to capturing groups using the syntax `(?P<name>...)`\n",
    "- They can be referenced using the group name instead of the group number"
   ]
  },
  {
   "cell_type": "code",
   "execution_count": 2,
   "id": "5bd21c6d-c372-4605-a941-888e89c61e16",
   "metadata": {},
   "outputs": [
    {
     "name": "stdout",
     "output_type": "stream",
     "text": [
      "John\n",
      "Doe\n"
     ]
    }
   ],
   "source": [
    "import re \n",
    "pattern = r\"(?P<first_name>\\w+) (?P<last_name>\\w+)\"\n",
    "string = \"John Doe\"\n",
    "match = re.search(pattern, string)\n",
    "print(match.group(\"first_name\"))  # Output: John\n",
    "print(match.group(\"last_name\"))  # Output: Doe"
   ]
  },
  {
   "cell_type": "code",
   "execution_count": 7,
   "id": "b87c8502-feb2-4cbc-8fb7-6ced0de04788",
   "metadata": {},
   "outputs": [
    {
     "name": "stdout",
     "output_type": "stream",
     "text": [
      "078\n",
      "123 4567\n"
     ]
    }
   ],
   "source": [
    "pattern = r\"(?P<first_part>\\d{3}) (?P<Second_part>\\d{3} \\d{4})\"\n",
    "string = \"My phone number is 078 123 4567\"\n",
    "match = re.search(pattern, string)\n",
    "print(match.group('first_part'))  # Output: 078\n",
    "print(match.group('Second_part'))  # Output: 123 4567"
   ]
  },
  {
   "cell_type": "markdown",
   "id": "2e1a0e84-8a21-4309-a54b-fef8e82a10c5",
   "metadata": {},
   "source": [
    "## re.match()\n",
    "The re.match() function specifically searches for the pattern at the beginning of the string.\n",
    "It returns a match object if the pattern matches the entire string from the start, otherwise it returns None.\n"
   ]
  },
  {
   "cell_type": "code",
   "execution_count": 27,
   "id": "c5d4a31a-c7f5-42c4-b7c3-24bd74bd1732",
   "metadata": {},
   "outputs": [
    {
     "name": "stdout",
     "output_type": "stream",
     "text": [
      "<re.Match object; span=(0, 4), match='This'>\n",
      "None\n"
     ]
    }
   ],
   "source": [
    "import re\n",
    "\n",
    "text = \"This is a string to search.\"\n",
    "\n",
    "# Search for \"is\" anywhere in the string\n",
    "match_search = re.match(\"This\", text)\n",
    "\n",
    "# Search for \"This\" at the beginning of the string\n",
    "match_match = re.match(\"is\", text)\n",
    "\n",
    "print(match_search)  # Output: is\n",
    "\n",
    "print(match_match)  # Output: This\n",
    "\n"
   ]
  },
  {
   "cell_type": "markdown",
   "id": "fde0cef1-587d-4723-9bc2-9853c83debe4",
   "metadata": {},
   "source": [
    "## Example: Extracting Phone Numbers\n",
    "\n",
    "Use regular expressions to find all phone numbers in the text. Assume phone numbers can be in formats like:\n",
    "\n",
    "    (123) 456-7890\n",
    "    123-456-7890\n",
    "    123.456.7890\n",
    "    1234567890"
   ]
  },
  {
   "cell_type": "code",
   "execution_count": null,
   "id": "8c3f85a9-2d16-41a0-a101-d2cb11d37e62",
   "metadata": {},
   "outputs": [],
   "source": [
    "import re\n",
    "\n",
    "# Sample text\n",
    "text = \"\"\"\n",
    "Contact us at (123) 456-7890 or 123-456-7890 or 123.456.7890 or 1234567890.\n",
    "\"\"\"\n",
    "\n",
    "# Regular expression pattern for phone numbers\n",
    "phone_pattern = r'\\(?\\d{3}\\)?[-.\\s]?\\d{3}[-.\\s]?\\d{4}'\n",
    "\n",
    "phone_numbers = re.findall(phone_pattern, text)\n",
    "print(phone_numbers)\n"
   ]
  },
  {
   "cell_type": "markdown",
   "id": "ff098c10-d274-45d2-987f-8bcdcc132dd3",
   "metadata": {},
   "source": [
    "## Python Regex Substitution Functions - `re.sub()` and `re.subn()` \n",
    "\n",
    "- `re.sub()`: Replaces all occurrences of the pattern with a replacement string\n",
    "- `re.subn()`: Same as `re.sub()` but also returns the number of replacements made"
   ]
  },
  {
   "cell_type": "code",
   "execution_count": 3,
   "id": "9f302cd2-2e51-472f-aaf6-466eabe89dfc",
   "metadata": {},
   "outputs": [
    {
     "name": "stdout",
     "output_type": "stream",
     "text": [
      "I have N apples and N oranges\n"
     ]
    }
   ],
   "source": [
    "pattern = r\"\\d+\"\n",
    "string = \"I have 2 apples and 3 oranges\"\n",
    "new_string = re.sub(pattern, \"N\", string)\n",
    "print(new_string)  # Output: I have N apples and N oranges"
   ]
  },
  {
   "cell_type": "code",
   "execution_count": 4,
   "id": "8fa6c3b8-70d7-4a8f-9428-535714143c36",
   "metadata": {},
   "outputs": [
    {
     "name": "stdout",
     "output_type": "stream",
     "text": [
      "I have N apples and N oranges\n",
      "2\n"
     ]
    }
   ],
   "source": [
    "pattern = r\"\\d+\"\n",
    "string = \"I have 2 apples and 3 oranges\"\n",
    "new_string, count = re.subn(pattern, \"N\", string)\n",
    "print(new_string)  # Output: I have N apples and N oranges\n",
    "print(count)  # Output: 2"
   ]
  },
  {
   "cell_type": "markdown",
   "id": "c8c3bd71-0d6d-47a6-9b5a-5e9f4b6f2d3e",
   "metadata": {},
   "source": [
    "## Python Regex Splitting Strings Functions - `re.split()`\n",
    "\n",
    "- `re.split()`: Splits the string by the occurrences of the pattern"
   ]
  },
  {
   "cell_type": "code",
   "execution_count": null,
   "id": "0f802c38-ba64-44f6-a58a-adb3473ba3f8",
   "metadata": {},
   "outputs": [],
   "source": [
    "pattern = r\"\\d+\"\n",
    "string = \"I have 2 apples and 3 oranges\"\n",
    "result = re.split(pattern, string)\n",
    "print(result)  # Output: ['I have ', ' apples and ', ' oranges']"
   ]
  },
  {
   "cell_type": "markdown",
   "id": "d052acbe-3ced-4b62-acfa-cf56d30af18b",
   "metadata": {},
   "source": [
    "## Example: Extract Information from the Sentence\n",
    "\n",
    "Given the following sentance\n",
    "\"Contact us at support@example.com or visit us at http://example.com on 05/20/2024.\"\n",
    "    1. Find and extract the email address.\n",
    "    2. Find and extract the URL.\n",
    "    3. Find and extract the date."
   ]
  },
  {
   "cell_type": "code",
   "execution_count": null,
   "id": "e2a470e5-e2af-40a5-85c0-69b592c556ae",
   "metadata": {},
   "outputs": [],
   "source": [
    "sentence = \"Contact us at support@example.com or visit us at http://example.com on 05/20/2024.\"\n",
    "\n",
    "# Find the email address\n",
    "email_pattern = r\"\\b[A-Za-z0-9._%+-]+@[A-Za-z0-9.-]+\\.[A-Z|a-z]{2,}\\b\"\n",
    "email_match = re.search(email_pattern, sentence)\n",
    "print(email_match.group())  # Output: support@example.com\n",
    "\n",
    "# Find the URL\n",
    "url_pattern = r\"http[s]?://(?:[a-zA-Z]|[0-9]|[$-_@.&+]|[!*\\\\(\\\\),]|(?:%[0-9a-fA-F][0-9a-fA-F]))+\"\n",
    "url_match = re.search(url_pattern, sentence)\n",
    "print(url_match.group())  # Output: http://example.com\n",
    "\n",
    "# Find the date\n",
    "date_pattern = r\"\\d{2}/\\d{2}/\\d{4}\"\n",
    "date_match = re.search(date_pattern, sentence)\n",
    "print(date_match.group())  # Output: 05/20/2024\n"
   ]
  },
  {
   "cell_type": "markdown",
   "id": "479c048d-44c3-4f21-8eaf-046547c7750a",
   "metadata": {},
   "source": [
    "## Best Practices\n",
    "\n",
    "- Compile regular expressions for better performance, especially when using them multiple times\n",
    "- Use raw strings `r\"...\"` to avoid escaping backslashes\n",
    "- Keep regular expressions readable and maintainable by using comments and whitespace"
   ]
  },
  {
   "cell_type": "markdown",
   "id": "75083737-f65f-469e-9a18-769530da5cfc",
   "metadata": {},
   "source": [
    "## Compiling Regular Expressions\n",
    "\n",
    "- `re.compile()` compiles a regular expression pattern into a regex object that can be reused\n",
    "- This is useful when you want to use the same pattern multiple times\n",
    "- It improves performance when using the same pattern multiple time\n"
   ]
  },
  {
   "cell_type": "code",
   "execution_count": null,
   "id": "64d7216e-6c01-48f8-82db-96ccb3e3266b",
   "metadata": {},
   "outputs": [],
   "source": [
    "pattern = re.compile(r\"\\d+\")\n",
    "string = \"I have 2 apples and 3 oranges\"\n",
    "matches = pattern.findall(string)\n",
    "print(matches)  # Output: ['2', '3']"
   ]
  },
  {
   "cell_type": "markdown",
   "id": "4324d2f1-4877-4e4b-85dd-ba70772cce6b",
   "metadata": {},
   "source": [
    "## Best Practices - Avoiding Complex Regular Expressions\n",
    "\n",
    "\n",
    "- Regular expressions can become complex and hard to read\n",
    "- Sometimes, simpler solutions like string methods or list comprehensions can be more appropriate\n",
    "- Consider the readability and maintainability of your code"
   ]
  },
  {
   "cell_type": "markdown",
   "id": "f9049c8e-3a64-474b-bd06-2961f9bd548d",
   "metadata": {},
   "source": [
    "## Resources\n",
    "- Python re module documentation: https://docs.python.org/3/library/re.html\n",
    "- Regular Expression HOWTO: https://docs.python.org/3/howto/regex.html\n",
    "- Regular Expression 101 (online regex tester): https://regex101.com/\n",
    "- Regular Expressions Cookbook (book): https://www.oreilly.com/library/view/regular-expressions-cookbook/9781449327453/"
   ]
  },
  {
   "cell_type": "markdown",
   "id": "1b473697-c4fb-4bf2-b7de-a7f8a92a9e2c",
   "metadata": {},
   "source": [
    "## Conclusion\n",
    "\n",
    "Regular expressions are a powerful tool for pattern matching and text manipulation. \n",
    "Understanding their syntax and how to use them in Python will greatly enhance your ability \n",
    "to process and analyze text data."
   ]
  },
  {
   "cell_type": "code",
   "execution_count": null,
   "id": "8f2c5a51-9a80-4843-959d-654b9f4050d6",
   "metadata": {},
   "outputs": [],
   "source": []
  }
 ],
 "metadata": {
  "kernelspec": {
   "display_name": "Python 3 (ipykernel)",
   "language": "python",
   "name": "python3"
  },
  "language_info": {
   "codemirror_mode": {
    "name": "ipython",
    "version": 3
   },
   "file_extension": ".py",
   "mimetype": "text/x-python",
   "name": "python",
   "nbconvert_exporter": "python",
   "pygments_lexer": "ipython3",
   "version": "3.11.5"
  }
 },
 "nbformat": 4,
 "nbformat_minor": 5
}
