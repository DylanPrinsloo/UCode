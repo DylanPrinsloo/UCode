{
 "cells": [
  {
   "cell_type": "markdown",
   "id": "b1e5f511-2f97-4741-a08a-bd144d4b4fa8",
   "metadata": {},
   "source": [
    "# Revsion (Week 7)"
   ]
  },
  {
   "cell_type": "markdown",
   "id": "92ead661-3977-461d-8781-3f0f80458f94",
   "metadata": {},
   "source": [
    "## Creating XML Files Using ElementTree\n",
    "\n",
    "### Introduction to ElementTree\n",
    "\n",
    "ElementTree is a Python library that provides a simple and efficient way to manipulate XML data. It allows you to create XML documents, manipulate them, and parse XML from strings or files.\n",
    "\n",
    "To use ElementTree, you need to import it:"
   ]
  },
  {
   "cell_type": "code",
   "execution_count": null,
   "id": "15764d9d-1bed-4de1-9442-9250a4bcdd5f",
   "metadata": {},
   "outputs": [],
   "source": [
    "import xml.etree.ElementTree as ET"
   ]
  },
  {
   "cell_type": "markdown",
   "id": "7025c496-9185-4f58-b7e3-b34c1ea8d516",
   "metadata": {},
   "source": [
    "### Creating XML Elements\n",
    "\n",
    "XML documents consist of nested elements. ElementTree allows you to create XML elements and build a tree structure\n",
    "\n",
    "#### Creating Root Element\n",
    "\n",
    "To create a root element for your XML document, use Element():"
   ]
  },
  {
   "cell_type": "code",
   "execution_count": null,
   "id": "4c140f90-928d-4ae4-8ba0-131f0ad046de",
   "metadata": {},
   "outputs": [],
   "source": [
    "root = ET.Element('data')"
   ]
  },
  {
   "cell_type": "markdown",
   "id": "ff2ae36b-fb64-4dfb-a1bf-91f2c11fc7f6",
   "metadata": {},
   "source": [
    "#### Adding Child Elements\n",
    "\n",
    "You can add child elements to the root element using SubElement():"
   ]
  },
  {
   "cell_type": "code",
   "execution_count": null,
   "id": "b00d3481-42c6-4139-aa8f-44ad9d2d2432",
   "metadata": {},
   "outputs": [],
   "source": [
    "country = ET.SubElement(root, 'country')\n",
    "name = ET.SubElement(country, 'name')\n",
    "name.text = 'Canada'\n",
    "population = ET.SubElement(country, 'population')\n",
    "population.text = '37000000'"
   ]
  },
  {
   "cell_type": "markdown",
   "id": "4698a18e-50bf-4794-b2c1-f740048245cd",
   "metadata": {},
   "source": [
    "#### Adding Child Elements with Attributes\n",
    "\n",
    "You can add child elements to the root element and set attributes using SubElement() and set():"
   ]
  },
  {
   "cell_type": "code",
   "execution_count": null,
   "id": "1d93c0f4-2ba7-4ebb-82ad-102b9f6cec52",
   "metadata": {},
   "outputs": [],
   "source": [
    "country = ET.SubElement(root, 'country')\n",
    "country.set('name', 'Canada')\n",
    "country.set('population', '37000000')\n",
    "\n",
    "#OR\n",
    "\n",
    "country = ET.SubElement(root, 'country', name='Canada', population='37000000')"
   ]
  },
  {
   "cell_type": "markdown",
   "id": "5bb5574e-4d44-44de-af0a-7eed46a5f036",
   "metadata": {},
   "source": [
    "### Adding Sub-Elements and Sub-Sub-Elements\n",
    "\n",
    "You can use the SubElement() function to add sub-elements (and sub-sub-elements) to XML elements in Python:"
   ]
  },
  {
   "cell_type": "code",
   "execution_count": null,
   "id": "1a443984-1402-4072-a346-36fc426e5ee8",
   "metadata": {},
   "outputs": [],
   "source": [
    "# Add child element with attributes\n",
    "country = ET.SubElement(root, 'country', name='Canada', population='37000000')\n",
    "\n",
    "# Add sub-elements (city) with attributes\n",
    "city = ET.SubElement(country, 'cities')\n",
    "city.text = 'Toronto'\n"
   ]
  },
  {
   "cell_type": "markdown",
   "id": "99707b36-6108-401f-b120-1ddaa1b64401",
   "metadata": {},
   "source": [
    "#### Creating XML Structure\n",
    "\n",
    "Once you have created elements and added child elements, you can build the XML structure:"
   ]
  },
  {
   "cell_type": "code",
   "execution_count": null,
   "id": "6779df6c-d032-4dd0-a252-3cb7f498435e",
   "metadata": {},
   "outputs": [],
   "source": [
    "tree = ET.ElementTree(root)"
   ]
  },
  {
   "cell_type": "markdown",
   "id": "c1902566-c532-4583-b4d1-c0eede8a8820",
   "metadata": {},
   "source": [
    "#### Writing XML to a File\n",
    "\n",
    "To write the XML structure to a file, use the write() method of ElementTree:"
   ]
  },
  {
   "cell_type": "code",
   "execution_count": null,
   "id": "75697a94-5e5e-4cc1-a649-53dc9eb54679",
   "metadata": {},
   "outputs": [],
   "source": [
    "tree.write('data.xml')"
   ]
  },
  {
   "cell_type": "markdown",
   "id": "e694f0c8-e968-4cd4-895e-c5e7b8861a79",
   "metadata": {},
   "source": [
    "Putting it all together, here's an example that creates a simple XML file:"
   ]
  },
  {
   "cell_type": "code",
   "execution_count": null,
   "id": "fd4b8322-43b2-4708-89a9-8a4da3f490b9",
   "metadata": {},
   "outputs": [],
   "source": [
    "import xml.etree.ElementTree as ET\n",
    "\n",
    "# Create root element\n",
    "root = ET.Element('countries')\n",
    "\n",
    "# Add child elements with attributes\n",
    "country1 = ET.SubElement(root, 'country', name='USA', population='330000000', capital='Washington D.C.', language='English')\n",
    "\n",
    "# Add sub-elements (city) with attributes\n",
    "city = ET.SubElement(country, 'cities')\n",
    "city.text = 'New York'\n",
    "\n",
    "country2 = ET.SubElement(root, 'country', name='China', population='1400000000', capital='Beijing', language='Chinese')\n",
    "country3 = ET.SubElement(root, 'country', name='India', population='1350000000', capital='New Delhi', language='Hindi, English')\n",
    "\n",
    "# Create ElementTree object\n",
    "tree = ET.ElementTree(root)\n",
    "\n",
    "# Write to file\n",
    "tree.write('countries.xml')\n",
    "\n",
    "print('XML file \"countries_extended.xml\" has been created successfully.')\n"
   ]
  },
  {
   "cell_type": "markdown",
   "id": "2693d0a5-66db-4b3d-bac0-b39670e4df5d",
   "metadata": {},
   "source": [
    "### Output"
   ]
  },
  {
   "cell_type": "markdown",
   "id": "364b1f69-9b39-4804-9015-5e53ba21b2a6",
   "metadata": {},
   "source": [
    "```xml\n",
    "<countries>\n",
    "    <country name=\"USA\" population=\"330000000\" capital=\"Washington D.C.\" language=\"English\">\n",
    "        <cities>New York</cities>\n",
    "    </country>\n",
    "    <country name=\"China\" population=\"1400000000\" capital=\"Beijing\" language=\"Chinese\" />\n",
    "    <country name=\"India\" population=\"1350000000\" capital=\"New Delhi\" language=\"Hindi, English\" />\n",
    "</countries>\n"
   ]
  },
  {
   "cell_type": "markdown",
   "id": "e94e7365-631c-4a15-be02-38335ed8c3e6",
   "metadata": {},
   "source": [
    "## Networking Using TCP in Python"
   ]
  },
  {
   "cell_type": "markdown",
   "id": "08d7079c-2674-42db-b367-54427ab9532a",
   "metadata": {},
   "source": [
    "### Introduction to TCP/IP Networking\n",
    "\n",
    " - TCP (Transmission Control Protocol): A reliable, connection-oriented protocol used for transmitting data over networks. It ensures that data packets arrive intact and in order.\n",
    " - IP (Internet Protocol): Provides the addressing and routing mechanism for data packets across networks.\n",
    "\n",
    "### Setting Up the Server\n",
    "\n",
    "__Step 1__: Import Necessary Libraries"
   ]
  },
  {
   "cell_type": "code",
   "execution_count": null,
   "id": "7d147c15-b8a4-444a-8407-19964e21d394",
   "metadata": {},
   "outputs": [],
   "source": [
    "import socket"
   ]
  },
  {
   "cell_type": "markdown",
   "id": "4738ef10-ae24-4d47-ae94-a36376b21ef9",
   "metadata": {},
   "source": [
    "__Step 2__: Create a TCP Server Socket"
   ]
  },
  {
   "cell_type": "code",
   "execution_count": null,
   "id": "f5616bae-a1ff-4987-b5c9-cbb53d0b92fb",
   "metadata": {},
   "outputs": [],
   "source": [
    "server_socket = socket.socket(socket.AF_INET, socket.SOCK_STREAM)"
   ]
  },
  {
   "cell_type": "markdown",
   "id": "2ae9b533-be5e-4859-a9cd-f010c3a5cabf",
   "metadata": {},
   "source": [
    "__Step 3__: Bind the Server Socket to an Address and Port"
   ]
  },
  {
   "cell_type": "code",
   "execution_count": null,
   "id": "e8e60af7-b3af-4571-98ab-5216e6e17990",
   "metadata": {},
   "outputs": [],
   "source": [
    "server_address = ('localhost', 12345)\n",
    "server_socket.bind(server_address)"
   ]
  },
  {
   "cell_type": "markdown",
   "id": "eed2bc47-6ecc-45d0-95dd-8e2778955c4d",
   "metadata": {},
   "source": [
    "__Step 4__: Listen for Incoming Connections"
   ]
  },
  {
   "cell_type": "code",
   "execution_count": null,
   "id": "2895b7d2-b7c0-4645-8483-ede491710c94",
   "metadata": {},
   "outputs": [],
   "source": [
    "server_socket.listen(1)  # Listen for only one connection"
   ]
  },
  {
   "cell_type": "markdown",
   "id": "80940500-4584-4471-8bc0-753fa93893a7",
   "metadata": {},
   "source": [
    "__Step 5__: Accept Client Connections"
   ]
  },
  {
   "cell_type": "code",
   "execution_count": null,
   "id": "91e23666-05a6-4f8e-b6a8-4330a7acf15d",
   "metadata": {},
   "outputs": [],
   "source": [
    "print('Waiting for a connection...')\n",
    "client_socket, client_address = server_socket.accept()"
   ]
  },
  {
   "cell_type": "markdown",
   "id": "365f3f15-c502-42e1-b1ff-80a12c66ceb3",
   "metadata": {},
   "source": [
    "### Setting Up the Client\n",
    "__Step 1__: Import Necessary Libraries"
   ]
  },
  {
   "cell_type": "code",
   "execution_count": null,
   "id": "13a26daf-6207-417c-a0b1-5681e75145fe",
   "metadata": {},
   "outputs": [],
   "source": [
    "import socket"
   ]
  },
  {
   "cell_type": "markdown",
   "id": "258c0819-3dbb-4410-986b-f39026a2d49c",
   "metadata": {},
   "source": [
    "__Step 2__: Create a TCP Client Socket"
   ]
  },
  {
   "cell_type": "code",
   "execution_count": null,
   "id": "0a646d12-7695-4245-ae76-bd05c9018824",
   "metadata": {},
   "outputs": [],
   "source": [
    "client_socket = socket.socket(socket.AF_INET, socket.SOCK_STREAM)"
   ]
  },
  {
   "cell_type": "markdown",
   "id": "ad3589d9-5235-41e6-96fa-68f5a304667f",
   "metadata": {},
   "source": [
    "__Step 3__: Connect to the Server"
   ]
  },
  {
   "cell_type": "code",
   "execution_count": null,
   "id": "4de50bc2-ad38-43d0-9868-199c5a096b2e",
   "metadata": {},
   "outputs": [],
   "source": [
    "server_address = ('localhost', 12345)  # Must be the same as server\n",
    "client_socket.connect(server_address)"
   ]
  },
  {
   "cell_type": "markdown",
   "id": "d01b774e-5ef9-4d75-ab28-257091c01a91",
   "metadata": {},
   "source": [
    "## EXAMPLE\n",
    "\n",
    "Let's now look at how to implement all of this with an example that calculates the area of a circle. The client will send a radius value to the server, which will then compute the area of the circle based on this radius and return the result to the client."
   ]
  },
  {
   "cell_type": "markdown",
   "id": "6679f4c2-0aea-4f2f-badf-97c2c0f217a9",
   "metadata": {},
   "source": [
    "### Server code"
   ]
  },
  {
   "cell_type": "code",
   "execution_count": null,
   "id": "20df868f-c66f-4ecb-b468-ef0a771f1bc4",
   "metadata": {},
   "outputs": [],
   "source": [
    "import socket\n",
    "import math\n",
    "\n",
    "def calculate_circle_area(radius):\n",
    "    area = math.pi * (radius ** 2)\n",
    "    return area\n",
    "\n",
    "# Create a TCP/IP socket\n",
    "server_socket = socket.socket(socket.AF_INET, socket.SOCK_STREAM)\n",
    "\n",
    "# Bind the socket to the address and port\n",
    "server_address = ('localhost', 12345)\n",
    "server_socket.bind(server_address)\n",
    "\n",
    "# Listen for incoming connections\n",
    "server_socket.listen(1)\n",
    "\n",
    "print('Waiting for a connection...')\n",
    "\n",
    "# accept connection through client socket\n",
    "client_socket, client_address = server_socket.accept()\n",
    "\n",
    "try:\n",
    "    print('Connection from', client_address)\n",
    "\n",
    "    # Receive data from client (radius as string)\n",
    "    data = client_socket.recv(1024)\n",
    "    radius = float(data.decode('utf-8'))  # Convert received data to float (radius)\n",
    "\n",
    "    # Calculate circle area\n",
    "    area = calculate_circle_area(radius)\n",
    "\n",
    "    #(convert to string)\n",
    "    area_str = str(area)\n",
    "    # Send area back to client\n",
    "    client_socket.sendall(area_str.encode('utf-8'))\n",
    "\n",
    "finally:\n",
    "    # Clean up the connection\n",
    "    client_socket.close()\n",
    "    server_socket.close()\n"
   ]
  },
  {
   "cell_type": "markdown",
   "id": "c3069f52-e448-4cef-ba79-d62e6944dc23",
   "metadata": {},
   "source": [
    "### Client Code"
   ]
  },
  {
   "cell_type": "code",
   "execution_count": null,
   "id": "28ca3e34-f9de-4c40-8599-66bcc7c692d7",
   "metadata": {},
   "outputs": [],
   "source": [
    "import socket\n",
    "\n",
    "# Create a TCP/IP socket\n",
    "client_socket = socket.socket(socket.AF_INET, socket.SOCK_STREAM)\n",
    "\n",
    "# Connect the socket to the server's address and port\n",
    "server_address = ('localhost', 12345)\n",
    "client_socket.connect(server_address)\n",
    "\n",
    "try:\n",
    "    # Send radius to server\n",
    "    radius = 5.0  # Example radius\n",
    "    radius_str = str(radius)\n",
    "    client_socket.sendall(radius_str.encode('utf-8'))\n",
    "\n",
    "    # Receive area from server\n",
    "    area_bytes = client_socket.recv(1024)\n",
    "    area = float(area_bytes.decode('utf-8'))\n",
    "    print('Received Area:', area)\n",
    "\n",
    "finally:\n",
    "    # Clean up the connection\n",
    "    client_socket.close()\n"
   ]
  }
 ],
 "metadata": {
  "kernelspec": {
   "display_name": "Python 3 (ipykernel)",
   "language": "python",
   "name": "python3"
  },
  "language_info": {
   "codemirror_mode": {
    "name": "ipython",
    "version": 3
   },
   "file_extension": ".py",
   "mimetype": "text/x-python",
   "name": "python",
   "nbconvert_exporter": "python",
   "pygments_lexer": "ipython3",
   "version": "3.11.5"
  }
 },
 "nbformat": 4,
 "nbformat_minor": 5
}
