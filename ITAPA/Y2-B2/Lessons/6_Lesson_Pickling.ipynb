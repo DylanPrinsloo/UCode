{
 "cells": [
  {
   "cell_type": "markdown",
   "id": "92cc985c-98c2-425a-91a7-f777da9946ad",
   "metadata": {},
   "source": [
    "# Pickling\n",
    "\n",
    "Pickling in Python refers to the process of serializing Python objects into a byte stream and saving it to a file \n",
    "or sending it over a network. The serialized byte stream can then be de-serialized, or \"unpickled,\" to reconstruct \n",
    "the original Python objects.\n",
    "\n",
    "Python provides a built-in module called pickle for pickling and unpickling objects.\n"
   ]
  },
  {
   "cell_type": "code",
   "execution_count": 2,
   "id": "d0128b47-896c-436d-bd57-93c89acde916",
   "metadata": {},
   "outputs": [
    {
     "name": "stdout",
     "output_type": "stream",
     "text": [
      "Pickled data:\n",
      "b'\\x80\\x04\\x95.\\x00\\x00\\x00\\x00\\x00\\x00\\x00}\\x94(\\x8c\\x04name\\x94\\x8c\\x05Alice\\x94\\x8c\\x03age\\x94K\\x1e\\x8c\\x04city\\x94\\x8c\\x08New York\\x94u.'\n"
     ]
    }
   ],
   "source": [
    "import pickle\n",
    "\n",
    "# Create a Python object\n",
    "data = {'name': 'Alice', 'age': 30, 'city': 'New York'}\n",
    "\n",
    "# Pickle the object and save it to a file, file is data.pickle\n",
    "with open('data.pickle', 'wb') as f:\n",
    "    pickle.dump(data, f)\n",
    "\n",
    "# Open the pickled data file in binary read mode\n",
    "with open('data.pickle', 'rb') as f:\n",
    "    # Read the binary data from the file\n",
    "    pickled_data = f.read()\n",
    "\n",
    "# Print the binary data\n",
    "print(\"Pickled data:\")\n",
    "print(pickled_data)\n",
    "\n",
    "\n"
   ]
  },
  {
   "cell_type": "code",
   "execution_count": 3,
   "id": "63224790-5d6f-4c8e-b7c5-b7efc35926ec",
   "metadata": {},
   "outputs": [
    {
     "name": "stdout",
     "output_type": "stream",
     "text": [
      "{'name': 'Alice', 'age': 30, 'city': 'New York'}\n"
     ]
    }
   ],
   "source": [
    "import pickle\n",
    "\n",
    "# Unpickle the object from the file\n",
    "with open('data.pickle', 'rb') as f:\n",
    "    loaded_data = pickle.load(f)\n",
    "\n",
    "print(loaded_data)  # Output: {'name': 'Alice', 'age': 30, 'city': 'New York'}"
   ]
  },
  {
   "cell_type": "code",
   "execution_count": null,
   "id": "e80370c3-6608-4407-a185-513734983ec5",
   "metadata": {},
   "outputs": [],
   "source": []
  }
 ],
 "metadata": {
  "kernelspec": {
   "display_name": "Python 3 (ipykernel)",
   "language": "python",
   "name": "python3"
  },
  "language_info": {
   "codemirror_mode": {
    "name": "ipython",
    "version": 3
   },
   "file_extension": ".py",
   "mimetype": "text/x-python",
   "name": "python",
   "nbconvert_exporter": "python",
   "pygments_lexer": "ipython3",
   "version": "3.11.5"
  }
 },
 "nbformat": 4,
 "nbformat_minor": 5
}
