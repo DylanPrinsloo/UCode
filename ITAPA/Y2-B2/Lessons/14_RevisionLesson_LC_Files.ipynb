{
 "cells": [
  {
   "cell_type": "markdown",
   "id": "3bb6ae0a-b0db-461a-a0b1-81a4c673818f",
   "metadata": {},
   "source": [
    "# Revsion (Week 7)"
   ]
  },
  {
   "cell_type": "markdown",
   "id": "c941273e-5b97-47d4-b239-4794dc172905",
   "metadata": {},
   "source": [
    "## 1. List Comprehension in Python\n",
    "\n",
    "### What is List Comprehension?\n",
    "\n",
    "List comprehension offers a shorter syntax for creating lists. It is more compact and often faster than traditional for-loop methods."
   ]
  },
  {
   "cell_type": "markdown",
   "id": "9300fef8-a5ae-40fa-9417-6ec3f23f411f",
   "metadata": {},
   "source": [
    "### Basic Syntax"
   ]
  },
  {
   "cell_type": "code",
   "execution_count": null,
   "id": "89bbc7c4-ab17-484b-8d94-154bef8967fb",
   "metadata": {},
   "outputs": [],
   "source": [
    "[expression for item in iterable if condition]"
   ]
  },
  {
   "cell_type": "markdown",
   "id": "f4efdf9e-e5e1-4604-aa4e-5275278109e7",
   "metadata": {},
   "source": [
    "- '__expression__' is the value to include in the new list.\n",
    "- '__item__' is the current item from the iterable.\n",
    "- '__iterable__' is any Python iterable (e.g., list, tuple, string).\n",
    "- '__condition__' is an optional filter that applies an if-statement."
   ]
  },
  {
   "cell_type": "markdown",
   "id": "f28ebf8f-6df0-451f-9f57-9d919b48b1b2",
   "metadata": {},
   "source": [
    "### Examples"
   ]
  },
  {
   "cell_type": "markdown",
   "id": "1fe63744-c7c0-4eaf-82fa-d5ec9b20300a",
   "metadata": {},
   "source": [
    "#### 1. Simple List Comprehension\n",
    "\n",
    "Create a list of squares of numbers from 0 to 9:"
   ]
  },
  {
   "cell_type": "code",
   "execution_count": null,
   "id": "c01dd43a-2148-4a97-9db7-51d56c3853c0",
   "metadata": {},
   "outputs": [],
   "source": [
    "#As for loop\n",
    "squares = []\n",
    "for x in range(10):\n",
    "  squares.append(x * x)\n"
   ]
  },
  {
   "cell_type": "code",
   "execution_count": 1,
   "id": "44159ccd-1f65-418d-855f-52a2678860a1",
   "metadata": {},
   "outputs": [
    {
     "name": "stdout",
     "output_type": "stream",
     "text": [
      "[0, 1, 4, 9, 16, 25, 36, 49, 64, 81]\n"
     ]
    }
   ],
   "source": [
    "squares = [x**2 for x in range(10)]\n",
    "print(squares)"
   ]
  },
  {
   "cell_type": "markdown",
   "id": "43d0f05e-730b-4906-9a7c-e9714e6fa740",
   "metadata": {},
   "source": [
    "#### 2. List Comprehension with Condition\n",
    "\n",
    "Create a list of even numbers from 0 to 9:"
   ]
  },
  {
   "cell_type": "code",
   "execution_count": null,
   "id": "46c2add7-8403-47ad-a2f3-d8ac8fa3569e",
   "metadata": {},
   "outputs": [],
   "source": [
    "#As a for loop\n",
    "evens = []\n",
    "for x in range(10):\n",
    "  if x % 2 == 0:\n",
    "    evens.append(x)\n"
   ]
  },
  {
   "cell_type": "code",
   "execution_count": null,
   "id": "3e11d9da-28fc-44d0-ab77-9ff29df3072b",
   "metadata": {},
   "outputs": [],
   "source": [
    "evens = [x for x in range(10) if x % 2 == 0]\n",
    "print(evens)\n"
   ]
  },
  {
   "cell_type": "markdown",
   "id": "a1660af1-a25e-4c19-91a7-1ef173bbde72",
   "metadata": {},
   "source": [
    "#### 3. Nested List Comprehension\n",
    "\n",
    "Flatten a 2D list (list of lists):"
   ]
  },
  {
   "cell_type": "code",
   "execution_count": null,
   "id": "9d639327-1600-4ac2-bb66-fc58a0d47156",
   "metadata": {},
   "outputs": [],
   "source": [
    "matrix = [[1, 2, 3], [4, 5, 6], [7, 8, 9]]\n",
    "flat_list = [item for sublist in matrix for item in sublist]\n",
    "print(flat_list)\n"
   ]
  },
  {
   "cell_type": "markdown",
   "id": "907a3775-b7d6-48ce-8e76-47099c7e49b3",
   "metadata": {},
   "source": [
    "#### 4. Applying Functions in List Comprehension\n",
    "\n",
    "Convert a list of strings to their uppercase forms:"
   ]
  },
  {
   "cell_type": "code",
   "execution_count": 2,
   "id": "cc6e9a0b-31a2-4001-abe7-59f2911e2380",
   "metadata": {},
   "outputs": [
    {
     "name": "stdout",
     "output_type": "stream",
     "text": [
      "['HELLO', 'WORLD', 'PYTHON']\n"
     ]
    }
   ],
   "source": [
    "words = [\"hello\", \"world\", \"python\"]\n",
    "upper_words = [word.upper() for word in words]\n",
    "print(upper_words)\n"
   ]
  },
  {
   "cell_type": "markdown",
   "id": "4907a265-58e6-4ab9-90af-fcf0a1d24612",
   "metadata": {},
   "source": [
    "#### 5. List Comprehension with Multiple Conditions\n",
    "\n",
    "Create a list of numbers from 0 to 19 that are divisible by both 2 and 3:"
   ]
  },
  {
   "cell_type": "code",
   "execution_count": null,
   "id": "7b6aaa25-8cb1-4f08-a390-b0464716c80e",
   "metadata": {},
   "outputs": [],
   "source": [
    "#as for loop\n",
    "divisible_by_2_and_3 = []\n",
    "for x in range(20):\n",
    "  if x % 2 == 0 and x % 3 == 0:\n",
    "    divisible_by_2_and_3.append(x)"
   ]
  },
  {
   "cell_type": "code",
   "execution_count": null,
   "id": "4cbe3b6a-b742-4de8-b852-b0498b958e20",
   "metadata": {},
   "outputs": [],
   "source": [
    "divisible_by_2_and_3 = [x for x in range(20) if x % 2 == 0 and x % 3 == 0]\n",
    "print(divisible_by_2_and_3)\n"
   ]
  },
  {
   "cell_type": "markdown",
   "id": "633d599c-8304-4b02-9846-9647694ff7c3",
   "metadata": {},
   "source": [
    "## 2. Regular Expressions\n",
    "\n",
    "### What are Regular Expressions?\n",
    "\n",
    "Regular expressions are sequences of characters that define a search pattern. They are widely used for string manipulation tasks such as searching, matching, and replacing text.\n",
    "\n",
    "### Importing the re Module\n",
    "\n",
    "Regular expressions are supported in Python through the re module. Import it at the beginning of your script:"
   ]
  },
  {
   "cell_type": "code",
   "execution_count": null,
   "id": "012b8bce-5328-436c-aa7b-48c758a9e05d",
   "metadata": {},
   "outputs": [],
   "source": [
    "import re"
   ]
  },
  {
   "cell_type": "markdown",
   "id": "2270381f-5d45-4921-b6b3-a3e12fd62e56",
   "metadata": {},
   "source": [
    "### Regex Patterns\n",
    "Regex patterns are composed of characters that define what you're searching for. Some basic patterns:\n",
    "\n",
    "- Literal characters: Match exact characters (e.g., hello matches \"hello\").\n",
    "- __Character classes__: [a-zA-Z], [0-9] match ranges of characters.\n",
    "- __Anchors__: ^ (start of string), $ (end of string).\n",
    "- __Quantifiers__: * (zero or more), + (one or more), ? (zero or one).\n",
    "- __Escape sequences__: \\d (digit), \\w (word character), \\s (whitespace)."
   ]
  },
  {
   "cell_type": "markdown",
   "id": "0526b7f8-269a-4915-8a40-25d93730f560",
   "metadata": {},
   "source": [
    "### Using re.search()\n",
    "'__re.search(pattern, string)__': Searches for the first occurrence of pattern in string."
   ]
  },
  {
   "cell_type": "code",
   "execution_count": null,
   "id": "ca47b2d8-e298-4df9-827b-d9e33ed17002",
   "metadata": {},
   "outputs": [],
   "source": [
    "result = re.search(r'is', 'This is a sentence.')\n",
    "if result:\n",
    "    print('Found:', result.group())"
   ]
  },
  {
   "cell_type": "markdown",
   "id": "3a806c04-0325-4255-819f-f30e652418b1",
   "metadata": {},
   "source": [
    "### Using re.match()\n",
    "'__re.match(pattern, string)__': Matches pattern only at the beginning of string."
   ]
  },
  {
   "cell_type": "code",
   "execution_count": null,
   "id": "ee3fb908-6a02-4943-95d3-11d50fa5b7e9",
   "metadata": {},
   "outputs": [],
   "source": [
    "result = re.match(r'This', 'This is a sentence.')\n",
    "if result:\n",
    "    print('Found:', result.group())"
   ]
  },
  {
   "cell_type": "markdown",
   "id": "d0601d9c-4938-434c-9ae0-9958e278cab6",
   "metadata": {},
   "source": [
    "### Using re.findall()\n",
    "__re.findall(pattern, string)__: Finds all occurrences of pattern in string and returns them as a list."
   ]
  },
  {
   "cell_type": "code",
   "execution_count": null,
   "id": "fbe7a157-cdbb-4cb2-88a0-fad525518d10",
   "metadata": {},
   "outputs": [],
   "source": [
    "results = re.findall(r'\\d+', 'There are 5 apples and 12 oranges.')\n",
    "print('Numbers found:', results)"
   ]
  },
  {
   "cell_type": "markdown",
   "id": "d304ba85-d430-4018-9185-1d0c898b8bfb",
   "metadata": {},
   "source": [
    "### Regex Substitution with re.sub()\n",
    "__re.sub(pattern, replacement, string)__: Replaces occurrences of pattern in string with replacement."
   ]
  },
  {
   "cell_type": "code",
   "execution_count": null,
   "id": "f6383a06-ba74-4a13-9463-d953b8c77cb1",
   "metadata": {},
   "outputs": [],
   "source": [
    "import re\n",
    "\n",
    "text = \"This is a test string with some phone numbers. My phone number is 415-555-1212 and hers is 202-555-4343.\"\n",
    "\n",
    "censored_text = re.sub(r\"\\d{3}-\\d{3}-\\d{4}\", \"CENSORED\", text)\n",
    "\n",
    "print(censored_text)"
   ]
  },
  {
   "cell_type": "markdown",
   "id": "7ee246f7-3de3-4a82-9275-fa4ff8210400",
   "metadata": {},
   "source": [
    "## 3. File Handling\n",
    "\n",
    "### Opening a File\n",
    "\n",
    "To work with files in Python, you first need to open them using the open() function. The open() function returns a file object, which provides methods and attributes to manipulate the file."
   ]
  },
  {
   "cell_type": "code",
   "execution_count": null,
   "id": "a09aac5d-76b4-4610-874a-562cdd3146c7",
   "metadata": {},
   "outputs": [],
   "source": [
    "# Syntax: open(file_path, mode)\n",
    "file_path = 'example.txt'\n",
    "\n",
    "# Opening a file for reading ('r' mode is default)\n",
    "file = open(file_path, 'r')"
   ]
  },
  {
   "cell_type": "markdown",
   "id": "eea847cd-3f7a-4a9d-9efb-92abc1c5c3e1",
   "metadata": {},
   "source": [
    "#### Modes:\n",
    "- __r__: Read (default).\n",
    "- __w__: Write (truncate existing file or create new).\n",
    "- __a__: Append (write to the end of file).\n",
    "- __b__: Binary mode (e.g., 'rb' for reading binary)."
   ]
  },
  {
   "cell_type": "markdown",
   "id": "96cc47e4-303a-4853-a9a6-00434c5a8476",
   "metadata": {},
   "source": [
    "### Reading from a File (Using Context Manager)\n",
    "\n",
    "To read from a file in Python, you can use the open() function with a context manager (with statement)."
   ]
  },
  {
   "cell_type": "code",
   "execution_count": null,
   "id": "72cfc579-fa48-43d0-9be1-35dce370d638",
   "metadata": {},
   "outputs": [],
   "source": [
    "file_path = 'example.txt'\n",
    "\n",
    "# Using context manager to read lines from a file\n",
    "with open(file_path, 'r') as file:\n",
    "    lines = file.readlines()\n",
    "    for line in lines:\n",
    "        print(line) \n"
   ]
  },
  {
   "cell_type": "markdown",
   "id": "5e128d47-436b-43c0-ab69-c175cd13022a",
   "metadata": {},
   "source": [
    "- __open(file_path, 'r')__: Opens file_path in read mode ('r').\n",
    "- __file.readlines()__: Reads all lines from the file and returns them as a list.\n",
    "- __for line in lines__: iterates through each line in the list and prints it."
   ]
  },
  {
   "cell_type": "markdown",
   "id": "09d8d12c-2133-46c5-b975-214b5cc19a46",
   "metadata": {},
   "source": [
    "### Reading the Entire File Content (Using Context Manager)"
   ]
  },
  {
   "cell_type": "code",
   "execution_count": null,
   "id": "434ad659-2830-4bd6-84e8-8f0c55878ac0",
   "metadata": {},
   "outputs": [],
   "source": [
    "file_path = 'example.txt'\n",
    "with open(file_path, 'r') as file:\n",
    "    content = file.read()\n",
    "    print(content)"
   ]
  },
  {
   "cell_type": "markdown",
   "id": "fde11665-dab1-47f3-9461-8c42ff8cca7f",
   "metadata": {},
   "source": [
    "### Writing to Files Using Context Manager\n",
    "\n",
    "To write to a file in Python, you also use the open() function with a context manager (with statement).\n",
    "Writing Lines to a File"
   ]
  },
  {
   "cell_type": "code",
   "execution_count": null,
   "id": "d0b2b0fc-14a3-459e-b1a2-227d8bd9831e",
   "metadata": {},
   "outputs": [],
   "source": [
    "output_file = 'output.txt'\n",
    "lines_to_write = [\n",
    "    'This is line 1.\\n',\n",
    "    'This is line 2.\\n',\n",
    "    'This is line 3.\\n'\n",
    "]\n",
    "\n",
    "# Using context manager to write lines to a file\n",
    "with open(output_file, 'w') as file:\n",
    "    for line in lines_to_write:\n",
    "        file.write(line)"
   ]
  },
  {
   "cell_type": "markdown",
   "id": "91201da9-f367-4505-b235-5228965eeee8",
   "metadata": {},
   "source": [
    "- __open(output_file, 'w')__: Opens output_file in write mode ('w').\n",
    "- __file.write(line)__: Writes each line from lines_to_write list to output_file."
   ]
  }
 ],
 "metadata": {
  "kernelspec": {
   "display_name": "Python 3 (ipykernel)",
   "language": "python",
   "name": "python3"
  },
  "language_info": {
   "codemirror_mode": {
    "name": "ipython",
    "version": 3
   },
   "file_extension": ".py",
   "mimetype": "text/x-python",
   "name": "python",
   "nbconvert_exporter": "python",
   "pygments_lexer": "ipython3",
   "version": "3.11.5"
  }
 },
 "nbformat": 4,
 "nbformat_minor": 5
}
