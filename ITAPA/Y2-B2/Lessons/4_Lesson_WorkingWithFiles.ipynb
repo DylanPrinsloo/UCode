{
 "cells": [
  {
   "cell_type": "code",
   "execution_count": null,
   "id": "a2b0f306-0a24-4105-95f7-b3426f62fed4",
   "metadata": {},
   "outputs": [],
   "source": [
    "'''\n",
    "Opening Files\n",
    "\n",
    "To open a file in Python, you use the built-in open function, which returns a file object. The open function requires at \n",
    "least one argument: the file path. You can also specify the mode in which you want to open the file.\n",
    "\n",
    "Modes:\n",
    "\n",
    "    'r': Read (default mode). Opens the file for reading.\n",
    "    'w': Write. Opens the file for writing (creates a new file or truncates an existing file).\n",
    "    'a': Append. Opens the file for writing (creates a new file if it doesn’t exist).\n",
    "    'b': Binary mode. Can be combined with other modes (e.g., 'rb' or 'wb').\n",
    "'''"
   ]
  },
  {
   "cell_type": "code",
   "execution_count": null,
   "id": "01e983bc-59ed-4000-a0d1-c243b05afc42",
   "metadata": {},
   "outputs": [],
   "source": [
    "file = open('example.txt', 'r')\n",
    "\n",
    "'''Using a context manager to open a file: '''\n",
    "\n",
    "with open('example.txt', 'r') as file:"
   ]
  },
  {
   "cell_type": "code",
   "execution_count": null,
   "id": "c820b27e-7f13-4b2f-bdf6-0d643541d7f4",
   "metadata": {},
   "outputs": [],
   "source": [
    "'''\n",
    "Reading from a File\n",
    "\n",
    "You can read the contents of a file using various methods provided by the file object.\n",
    "Methods:\n",
    "\n",
    "    read(): Reads the entire file.\n",
    "    read(size): Reads up to size bytes or characters.\n",
    "    readline(): Reads a single line from the file.\n",
    "    readlines(): Reads all lines into a list.\n",
    "'''"
   ]
  },
  {
   "cell_type": "code",
   "execution_count": null,
   "id": "883d7768-dd94-4d34-aa30-18abc8dd240e",
   "metadata": {},
   "outputs": [],
   "source": [
    "with open('example.txt', 'r') as file:\n",
    "    content = file.read()  # Reads the entire file\n",
    "    print(content)\n",
    "\n",
    "# Using readline\n",
    "with open('example.txt', 'r') as file:\n",
    "    line = file.readline()  # Reads the first line\n",
    "    print(line)\n",
    "\n",
    "# Using readlines\n",
    "with open('example.txt', 'r') as file:\n",
    "    lines = file.readlines()  # Reads all lines into a list\n",
    "    print(lines)\n"
   ]
  },
  {
   "cell_type": "code",
   "execution_count": null,
   "id": "e6eea573-5514-4417-bc74-cc85494a40ab",
   "metadata": {},
   "outputs": [],
   "source": [
    "'''\n",
    "Writing to a File\n",
    "\n",
    "You can write to a file using the write or writelines methods.\n",
    "Methods:\n",
    "\n",
    "    write(string): Writes a string to the file.\n",
    "    writelines(list): Writes a list of strings to the file.\n",
    "'''"
   ]
  },
  {
   "cell_type": "code",
   "execution_count": null,
   "id": "5fd38586-b92a-4ddc-822e-5e364eb23e7a",
   "metadata": {},
   "outputs": [],
   "source": [
    "# Writing to a file\n",
    "with open('example.txt', 'w') as file:\n",
    "    file.write('Hello, world!\\n')\n",
    "\n",
    "# Appending to a file\n",
    "with open('example.txt', 'a') as file:\n",
    "    file.write('Appending a new line.\\n')\n",
    "\n",
    "# Writing multiple lines\n",
    "lines = ['First line\\n', 'Second line\\n', 'Third line\\n']\n",
    "with open('example.txt', 'w') as file:\n",
    "    file.writelines(lines)\n"
   ]
  },
  {
   "cell_type": "code",
   "execution_count": null,
   "id": "62bfda9b-701b-46b9-a6f8-11e2881cb62d",
   "metadata": {},
   "outputs": [],
   "source": [
    "'''\n",
    "Protecting Against Overwriting a File\n",
    "\n",
    "To protect against overwriting a file, you can check if the file exists before opening it in write mode. \n",
    "The os.path module provides functions to check for file existence.\n",
    "'''"
   ]
  },
  {
   "cell_type": "code",
   "execution_count": null,
   "id": "165203f4-df83-46dd-a459-7bdaad6e76fd",
   "metadata": {},
   "outputs": [],
   "source": [
    "import os\n",
    "\n",
    "file_path = 'example.txt'\n",
    "\n",
    "if os.path.exists(file_path):\n",
    "    print(f\"File '{file_path}' already exists. Choose a different name or backup the file.\")\n",
    "else:\n",
    "    with open(file_path, 'w') as file:\n",
    "        file.write('This will not overwrite an existing file.')\n"
   ]
  },
  {
   "cell_type": "code",
   "execution_count": null,
   "id": "5162aaaa-a24d-4494-8162-f512460e361f",
   "metadata": {},
   "outputs": [],
   "source": [
    "'''\n",
    "Alternatively, you can use exception handling to handle cases where the file might already exist.\n",
    "'''"
   ]
  },
  {
   "cell_type": "code",
   "execution_count": null,
   "id": "18cf4a4c-0b6a-48ad-a7da-3263c96ec83c",
   "metadata": {},
   "outputs": [],
   "source": [
    "try:\n",
    "    with open(file_path, 'x') as file:  # 'x' mode is for exclusive creation, failing if the file already exists\n",
    "        file.write('This file is created only if it does not exist.')\n",
    "except FileExistsError:\n",
    "    print(f\"File '{file_path}' already exists.\")\n"
   ]
  },
  {
   "cell_type": "code",
   "execution_count": null,
   "id": "a5811d78-181b-4ea1-a7e7-83910ecdbefb",
   "metadata": {},
   "outputs": [],
   "source": [
    "'''\n",
    "Manipulating Disk Operations\n",
    "\n",
    "For manipulating disk operations such as copying, moving, and deleting files, Python provides the shutil and os modules.\n",
    "'''"
   ]
  },
  {
   "cell_type": "code",
   "execution_count": null,
   "id": "763d108e-8e2f-4fb2-9345-d56503ee9fd9",
   "metadata": {},
   "outputs": [],
   "source": [
    "import shutil\n",
    "import os\n",
    "\n",
    "# Copying a file\n",
    "shutil.copy('example.txt', 'example_copy.txt')\n",
    "\n",
    "# Moving a file\n",
    "shutil.move('example.txt', 'new_location/example.txt')\n",
    "\n",
    "# Deleting a file\n",
    "os.remove('example_copy.txt')\n"
   ]
  },
  {
   "cell_type": "code",
   "execution_count": null,
   "id": "60841ea6-8eca-4772-bb89-2bbb5142d7e2",
   "metadata": {},
   "outputs": [],
   "source": [
    "'''\n",
    "Temporary Files and Directories\n",
    "\n",
    "The tempfile module provides utilities for creating temporary files and directories.\n",
    "'''"
   ]
  },
  {
   "cell_type": "code",
   "execution_count": null,
   "id": "b37dd7fc-532c-4758-91f2-6eaef0da2918",
   "metadata": {},
   "outputs": [],
   "source": [
    "import tempfile\n",
    "\n",
    "# Create a temporary file\n",
    "with tempfile.NamedTemporaryFile(delete=False) as tmp_file:\n",
    "    print(f'Temporary file created: {tmp_file.name}')\n",
    "    tmp_file.write(b'This is a temporary file.')\n",
    "\n",
    "# Create a temporary directory\n",
    "with tempfile.TemporaryDirectory() as tmp_dir:\n",
    "    print(f'Temporary directory created: {tmp_dir}')\n"
   ]
  },
  {
   "cell_type": "code",
   "execution_count": null,
   "id": "ec7e8588-26dd-49be-abe2-c530ca190f1b",
   "metadata": {},
   "outputs": [],
   "source": [
    "'''\n",
    "Inspecting Directory Content\n",
    "\n",
    "To list the contents of a directory, you can use os.listdir() or pathlib.Path.iterdir().\n",
    "'''"
   ]
  },
  {
   "cell_type": "code",
   "execution_count": null,
   "id": "55fd9344-6169-40ab-8e02-21d8d7d6f059",
   "metadata": {},
   "outputs": [],
   "source": [
    "import os\n",
    "\n",
    "directory = '/path/to/directory'\n",
    "contents = os.listdir(directory)\n",
    "\n",
    "print(contents)\n"
   ]
  },
  {
   "cell_type": "code",
   "execution_count": null,
   "id": "a793bd3d-7fea-4494-81e6-da8345631dfa",
   "metadata": {},
   "outputs": [],
   "source": [
    "'''\n",
    "File and Directory Compression\n",
    "\n",
    "Python's zipfile modules allow you to compress and decompress files and directories.\n",
    "'''"
   ]
  },
  {
   "cell_type": "code",
   "execution_count": null,
   "id": "b289ad62-9061-46b1-b155-7c60ec15b079",
   "metadata": {},
   "outputs": [],
   "source": [
    "import zipfile\n",
    "\n",
    "# Compressing files into a zip file\n",
    "with zipfile.ZipFile('example.zip', 'w') as zipf:\n",
    "    zipf.write('example.txt')\n",
    "\n",
    "# Extracting files from a zip file\n",
    "with zipfile.ZipFile('example.zip', 'r') as zipf:\n",
    "    zipf.extractall('extracted_files')\n"
   ]
  },
  {
   "cell_type": "code",
   "execution_count": null,
   "id": "3baca65e-2231-4c93-803d-f239217e0d2b",
   "metadata": {},
   "outputs": [],
   "source": [
    "import os\n",
    "import gzip\n",
    "\n",
    "# Define the file paths\n",
    "file_name = 'example.txt'\n",
    "compressed_file_name = 'example.txt.gz'\n",
    "\n",
    "# Check if the file exists, if not, create a new one with initial content\n",
    "if not os.path.exists(file_name):\n",
    "    # Create a new file in write mode ('w')\n",
    "    with open(file_name, 'w') as f:\n",
    "        # Write initial content to the file\n",
    "        f.write(\"This is line 1.\\n\")\n",
    "        f.write(\"This is line 2.\\n\")\n",
    "        f.write(\"This is line 3.\\n\")\n",
    "\n",
    "# Open the file for reading ('r')\n",
    "with open(file_name, 'r') as f:\n",
    "    # Read the content of the file\n",
    "    lines = f.readlines()\n",
    "    print(\"Content of the file:\")\n",
    "    for line in lines:\n",
    "        print(line.strip())\n",
    "\n",
    "# Append a sentence to the file in append mode ('a')\n",
    "sentence = \"This is a new sentence appended to the file.\\n\"\n",
    "with open(file_name, 'a') as f:\n",
    "    f.write(sentence)\n",
    "\n",
    "# Delete a line from the file by overwriting the file in write mode ('w')\n",
    "line_to_delete = \"This is line 2.\\n\"\n",
    "lines_to_keep = [line for line in lines if line != line_to_delete]\n",
    "with open(file_name, 'w') as f:\n",
    "    f.writelines(lines_to_keep)\n",
    "\n",
    "# Compress the file using gzip\n",
    "# Open the file for reading in binary mode ('rb')\n",
    "# Compress and write the content to the compressed file in binary mode ('wb')\n",
    "with open(file_name, 'rb') as f_in, gzip.open(compressed_file_name, 'wb') as f_out:\n",
    "    f_out.writelines(f_in)\n",
    "\n",
    "print(\"File operations completed successfully.\")\n"
   ]
  }
 ],
 "metadata": {
  "kernelspec": {
   "display_name": "Python 3 (ipykernel)",
   "language": "python",
   "name": "python3"
  },
  "language_info": {
   "codemirror_mode": {
    "name": "ipython",
    "version": 3
   },
   "file_extension": ".py",
   "mimetype": "text/x-python",
   "name": "python",
   "nbconvert_exporter": "python",
   "pygments_lexer": "ipython3",
   "version": "3.11.5"
  }
 },
 "nbformat": 4,
 "nbformat_minor": 5
}
