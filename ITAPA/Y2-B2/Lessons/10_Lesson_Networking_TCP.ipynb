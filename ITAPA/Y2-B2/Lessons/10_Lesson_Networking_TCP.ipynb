{
 "cells": [
  {
   "cell_type": "markdown",
   "id": "1eb68ecf-147f-462d-bd4d-92bde43c7bf4",
   "metadata": {},
   "source": [
    "## 1. Python Networking Using TCP\n",
    "\n",
    "#### What is TCP?\n",
    "TCP stands for Transmission Control Protocol. It is a connection-oriented protocol that provides reliable, ordered, and error-checked delivery of a stream of data between applications running on hosts communicating via an IP network."
   ]
  },
  {
   "cell_type": "markdown",
   "id": "e287ce8d-480e-4f2e-b6cb-105aa390b113",
   "metadata": {},
   "source": [
    "## Understanding Sockets, AF_INET, SOCK_STREAM, and SOCK_DGRAM\n",
    "\n",
    "#### Sockets\n",
    "- Sockets are endpoints for sending and receiving data across a network. They provide a way for applications to communicate over a network, using standard protocols like TCP and UDP. A socket is defined by an IP address and a port number, which together uniquely identify a network connection.\n",
    "\n",
    "#### AF_INET\n",
    "- AF_INET stands for \"Address Family - Internet\". It specifies the address family for IPv4. When creating a socket, `AF_INET` is used to indicate that the socket will use the IPv4 protocol for communication.\n",
    "\n",
    "#### SOCK_STREAM\n",
    "- SOCK_STREAM is used to specify a TCP (Transmission Control Protocol) socket type. TCP sockets are connection-oriented, providing reliable, ordered, and error-checked delivery of a stream of bytes between applications. When you use `SOCK_STREAM`, you are creating a socket that supports TCP.\n",
    "\n",
    "### SOCK_DGRAM\n",
    "- SOCK_DGRAM is used to specify a UDP (User Datagram Protocol) socket type. UDP sockets are connectionless, providing an unreliable, unordered, and error-prone way of sending datagrams (discrete packets of data). When you use `SOCK_DGRAM`, you are creating a socket that supports UDP.\n"
   ]
  },
  {
   "cell_type": "markdown",
   "id": "485a15c7-b929-40d3-ba39-d0221b02d04b",
   "metadata": {},
   "source": [
    "### Creating a TCP Server"
   ]
  },
  {
   "cell_type": "code",
   "execution_count": null,
   "id": "224b49c3-60ac-433d-bf4f-13e2ee52a10b",
   "metadata": {},
   "outputs": [],
   "source": [
    "import socket\n",
    "\n",
    "def start_server(host='127.0.0.1', port=65432):\n",
    "    \n",
    "    #Dynamically get server ip address\n",
    "    #host = socket.gethostbyname(socket.gethostname())\n",
    "\n",
    "    # Create a socket object\n",
    "    server_socket = socket.socket(socket.AF_INET, socket.SOCK_STREAM)\n",
    "    \n",
    "    # Bind the socket to the address and port\n",
    "    server_socket.bind((host, port))\n",
    "    \n",
    "    # Listen for incoming connections (max 5 queued connections)\n",
    "    server_socket.listen(5)\n",
    "    print(f\"Server started, listening on {host}:{port}\")\n",
    "    \n",
    "    while True:\n",
    "        # Accept a new connection\n",
    "        client_socket, client_address = server_socket.accept()\n",
    "        print(f\"Connection from {client_address} has been established.\")\n",
    "        \n",
    "        # Receive data from the client\n",
    "        data = client_socket.recv(1024)\n",
    "        print(f\"Received data: {data.decode('utf-8')}\")\n",
    "        \n",
    "        # Send a response to the client\n",
    "        response = \"Message received\"\n",
    "        client_socket.sendall(response.encode('utf-8'))\n",
    "        \n",
    "        # Close the connection\n",
    "        client_socket.close()\n",
    "\n",
    "# Run the server\n",
    "if __name__ == \"__main__\":\n",
    "    start_server()\n"
   ]
  },
  {
   "cell_type": "markdown",
   "id": "e8e50f1f-4f13-49ef-b331-98e3a1eaf066",
   "metadata": {},
   "source": [
    "### Explanation\n",
    "- socket.socket(): Creates a new socket using the given address family (AF_INET for IPv4) and socket type (SOCK_STREAM for TCP).\n",
    "- bind(): Binds the socket to an address and port.\n",
    "- listen(): Enables the server to accept connections. The parameter specifies the maximum number of queued connections.\n",
    "- accept(): Accepts an incoming connection and returns a new socket object and the address of the client.\n",
    "- recv(): Receives data from the client.\n",
    "- sendall(): Sends data to the client.\n",
    "- close(): Closes the connection."
   ]
  },
  {
   "cell_type": "markdown",
   "id": "7ea96cc0-dbdd-4fb3-908d-99b46a309716",
   "metadata": {},
   "source": [
    "### Creating a TCP Client\n",
    "A TCP client connects to a server, sends data, and receives a response."
   ]
  },
  {
   "cell_type": "code",
   "execution_count": null,
   "id": "bea78f12-e8b1-4503-886a-1fd2a1c98ca5",
   "metadata": {},
   "outputs": [],
   "source": [
    "import socket\n",
    "\n",
    "def start_client(host='127.0.0.1', port=65432):\n",
    "    # Create a socket object\n",
    "    client_socket = socket.socket(socket.AF_INET, socket.SOCK_STREAM)\n",
    "    \n",
    "    # Connect to the server\n",
    "    client_socket.connect((host, port))\n",
    "    print(f\"Connected to {host}:{port}\")\n",
    "    \n",
    "    # Send data to the server\n",
    "    message = \"Hello, Server!\"\n",
    "    client_socket.sendall(message.encode('utf-8'))\n",
    "    \n",
    "    # Receive response from the server\n",
    "    response = client_socket.recv(1024)\n",
    "    print(f\"Received response: {response.decode('utf-8')}\")\n",
    "    \n",
    "    # Close the connection\n",
    "    client_socket.close()\n",
    "\n",
    "# Run the client\n",
    "if __name__ == \"__main__\":\n",
    "    start_client()\n"
   ]
  },
  {
   "cell_type": "markdown",
   "id": "45fd16dc-859e-4ba0-8435-84e3f48033c9",
   "metadata": {},
   "source": [
    "### Explanation\n",
    "- connect(): Connects to a remote socket at the given address and port.\n",
    "- sendall(): Sends data to the server.\n",
    "- recv(): Receives data from the server."
   ]
  },
  {
   "cell_type": "markdown",
   "id": "44aeac8c-4136-4983-9350-5d31ec8c8d2d",
   "metadata": {},
   "source": [
    "### Running the Server and Client\n",
    "\n",
    "1. Start the Server: Run the server script first. It will start listening for incoming connections.\n",
    "   \n",
    "    ##### python tcp_server.py\n",
    "\n",
    "3. Start the Client: Run the client script in another terminal or on another machine.\n",
    "   \n",
    "    ##### python tcp_client.py\n",
    "\n",
    "When the client connects to the server and sends a message, the server will receive the message, print it, and send a response back to the client."
   ]
  },
  {
   "cell_type": "markdown",
   "id": "ebc2adfb-27ba-4f78-88a9-534189aeeaa8",
   "metadata": {},
   "source": [
    "## 2. Python Networking Using TCP with Threading\n",
    "\n",
    "### Why Use Threading?\n",
    "Threading allows a program to run multiple operations concurrently in separate threads. In the context of a TCP server, threading enables the server to handle multiple client connections at the same time, improving efficiency and responsiveness."
   ]
  },
  {
   "cell_type": "markdown",
   "id": "6550e297-67c6-4030-ace5-c9fc187908f7",
   "metadata": {},
   "source": [
    "### Creating a Multi-threaded TCP Server\n",
    "A TCP server listens for incoming client connections on a specified IP address and port. Here’s how you can create a multi-threaded TCP server in Python:"
   ]
  },
  {
   "cell_type": "code",
   "execution_count": null,
   "id": "3520bddb-8209-48c0-b21e-16d026dc0ecf",
   "metadata": {},
   "outputs": [],
   "source": [
    "import socket\n",
    "import threading\n",
    "\n",
    "def handle_client(client_socket, client_address):\n",
    "    print(f\"Connection from {client_address} has been established.\")\n",
    "    \n",
    "    while True:\n",
    "        # Receive data from the client\n",
    "        data = client_socket.recv(1024)\n",
    "        if not data:\n",
    "            break\n",
    "        print(f\"Received data from {client_address}: {data.decode('utf-8')}\")\n",
    "        \n",
    "        # Send a response to the client\n",
    "        response = \"Message received\"\n",
    "        client_socket.sendall(response.encode('utf-8'))\n",
    "    \n",
    "    # Close the connection\n",
    "    print(f\"Connection from {client_address} has been closed.\")\n",
    "    client_socket.close()\n",
    "\n",
    "def start_server(host='127.0.0.1', port=65432):\n",
    "    # Create a socket object\n",
    "    server_socket = socket.socket(socket.AF_INET, socket.SOCK_STREAM)\n",
    "    \n",
    "    # Bind the socket to the address and port\n",
    "    server_socket.bind((host, port))\n",
    "    \n",
    "    # Listen for incoming connections (max 5 queued connections)\n",
    "    server_socket.listen(5)\n",
    "    print(f\"Server started, listening on {host}:{port}\")\n",
    "    \n",
    "    while True:\n",
    "        # Accept a new connection\n",
    "        client_socket, client_address = server_socket.accept()\n",
    "        \n",
    "        # Create a new thread to handle the client connection\n",
    "        client_handler = threading.Thread(target=handle_client, args=(client_socket, client_address))\n",
    "        client_handler.start()\n",
    "\n",
    "# Run the server\n",
    "if __name__ == \"__main__\":\n",
    "    start_server()\n"
   ]
  },
  {
   "cell_type": "markdown",
   "id": "04610e93-0415-4dff-956c-7111b744e598",
   "metadata": {},
   "source": [
    "### send() vs sendall()\n",
    "\n",
    "1. **`send(data)`**:\n",
    "   - This method sends the given data over the socket.\n",
    "   - It returns the number of bytes sent.\n",
    "   - If the socket's send buffer is full, `send()` may only send a part of the data, and the number of bytes sent may be less than the length of the data.\n",
    "   - It is the responsibility of the programmer to handle cases where not all data is sent in a single call to `send()`.\n",
    "   \n",
    "2. **`sendall(data)`**:\n",
    "   - This method sends the entire contents of the given data over the socket.\n",
    "   - Unlike `send()`, `sendall()` will continue sending data until all of it has been sent or an error occurs.\n",
    "   - It ensures that all the data is sent in one go, and it handles the case where the socket's send buffer may be full by repeatedly calling `send()` until all data is sent or an error occurs.\n",
    "   - It returns `None`.\n",
    "   - It is a convenience method that simplifies sending large chunks of data over a socket.\n"
   ]
  }
 ],
 "metadata": {
  "kernelspec": {
   "display_name": "Python 3 (ipykernel)",
   "language": "python",
   "name": "python3"
  },
  "language_info": {
   "codemirror_mode": {
    "name": "ipython",
    "version": 3
   },
   "file_extension": ".py",
   "mimetype": "text/x-python",
   "name": "python",
   "nbconvert_exporter": "python",
   "pygments_lexer": "ipython3",
   "version": "3.11.5"
  }
 },
 "nbformat": 4,
 "nbformat_minor": 5
}
