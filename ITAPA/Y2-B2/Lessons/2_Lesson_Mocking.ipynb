{
 "cells": [
  {
   "cell_type": "code",
   "execution_count": null,
   "id": "1dee10bf-14c6-491b-affe-0c5cf3b7c82b",
   "metadata": {},
   "outputs": [],
   "source": [
    "'''\n",
    "Mocking refers to the creation of mock objects that simulate the behavior of real objects in a controlled way. \n",
    "Mock objects are used to test the interactions between different parts of a program without relying on the actual \n",
    "implementation of the objects they represent. This is particularly useful when the real objects are complex, slow, \n",
    "have side effects, or are difficult to set up.\n",
    "\n",
    "In Python, the unittest.mock module provides a Mock class that can be used to create mock objects. \n",
    "'''"
   ]
  },
  {
   "cell_type": "code",
   "execution_count": null,
   "id": "f9f36dda-205d-4304-983a-d2e305fa08d4",
   "metadata": {},
   "outputs": [],
   "source": [
    "'''Odometer function mocking'''"
   ]
  },
  {
   "cell_type": "code",
   "execution_count": 2,
   "id": "28a153c1-9097-4de8-8a89-619a67d0ef18",
   "metadata": {},
   "outputs": [],
   "source": [
    "from random import randint\n",
    "\n",
    "\n",
    "def speed():\n",
    "    return randint(40, 120)\n",
    "\n",
    "\n",
    "def alert():\n",
    "    s = speed()\n",
    "    if s < 60 or s > 100:\n",
    "        return True\n",
    "    return False"
   ]
  },
  {
   "cell_type": "code",
   "execution_count": 3,
   "id": "8fa2a822-f4d3-4c27-99d2-5162154c06ca",
   "metadata": {},
   "outputs": [
    {
     "ename": "ModuleNotFoundError",
     "evalue": "No module named 'ipynb'",
     "output_type": "error",
     "traceback": [
      "\u001b[1;31m---------------------------------------------------------------------------\u001b[0m",
      "\u001b[1;31mModuleNotFoundError\u001b[0m                       Traceback (most recent call last)",
      "Cell \u001b[1;32mIn[3], line 3\u001b[0m\n\u001b[0;32m      1\u001b[0m \u001b[38;5;28;01mimport\u001b[39;00m \u001b[38;5;21;01munittest\u001b[39;00m\n\u001b[0;32m      2\u001b[0m \u001b[38;5;28;01mfrom\u001b[39;00m \u001b[38;5;21;01munittest\u001b[39;00m\u001b[38;5;21;01m.\u001b[39;00m\u001b[38;5;21;01mmock\u001b[39;00m \u001b[38;5;28;01mimport\u001b[39;00m Mock\n\u001b[1;32m----> 3\u001b[0m \u001b[38;5;28;01mimport\u001b[39;00m \u001b[38;5;21;01mipynb\u001b[39;00m\u001b[38;5;21;01m.\u001b[39;00m\u001b[38;5;21;01mfs\u001b[39;00m\u001b[38;5;21;01m.\u001b[39;00m\u001b[38;5;21;01mfull\u001b[39;00m\u001b[38;5;21;01m.\u001b[39;00m\u001b[38;5;21;01mMockObjects\u001b[39;00m \u001b[38;5;28;01mas\u001b[39;00m \u001b[38;5;21;01modometer\u001b[39;00m\n\u001b[0;32m      6\u001b[0m \u001b[38;5;28;01mclass\u001b[39;00m \u001b[38;5;21;01mTestOdometer\u001b[39;00m(unittest\u001b[38;5;241m.\u001b[39mTestCase):\n\u001b[0;32m      7\u001b[0m     \u001b[38;5;28;01mdef\u001b[39;00m \u001b[38;5;21mtest_alert_normal\u001b[39m(\u001b[38;5;28mself\u001b[39m):\n",
      "\u001b[1;31mModuleNotFoundError\u001b[0m: No module named 'ipynb'"
     ]
    }
   ],
   "source": [
    "import unittest\n",
    "from unittest.mock import Mock\n",
    "import ipynb.fs.full.MockObjects as odometer\n",
    "\n",
    "\n",
    "class TestOdometer(unittest.TestCase):\n",
    "    def test_alert_normal(self):\n",
    "        odometer.speed = Mock()\n",
    "        odometer.speed.return_value = 70\n",
    "        self.assertFalse(odometer.alert())\n",
    "\n",
    "    def test_alert_overspeed(self):\n",
    "        odometer.speed = Mock()\n",
    "        odometer.speed.return_value = 100\n",
    "        self.assertFalse(odometer.alert())\n",
    "\n",
    "    def test_alert_underspeed(self):\n",
    "        odometer.speed = Mock()\n",
    "        odometer.speed.return_value = 59\n",
    "        self.assertTrue(odometer.alert())\n",
    "\n",
    "if __name__ == '__main__':\n",
    "    unittest.main(argv=[''], exit=False)"
   ]
  },
  {
   "cell_type": "code",
   "execution_count": 4,
   "id": "62489e96-ba64-48b3-871e-6bfebd1194de",
   "metadata": {},
   "outputs": [
    {
     "data": {
      "text/plain": [
       "'\\nPatching\\n\\nPatching refers to the process of temporarily replacing a real object or function in a module with a mock object during a test. \\nThis is often used to replace functions, methods, or objects that are difficult to work with in a test environment, such as \\nnetwork calls, file I/O, or database connections.\\n\\nThe unittest.mock module provides a patch function that can be used to patch objects. \\n'"
      ]
     },
     "execution_count": 4,
     "metadata": {},
     "output_type": "execute_result"
    }
   ],
   "source": [
    "'''\n",
    "Patching\n",
    "\n",
    "Patching refers to the process of temporarily replacing a real object or function in a module with a mock object during a test. \n",
    "This is often used to replace functions, methods, or objects that are difficult to work with in a test environment, such as \n",
    "network calls, file I/O, or database connections.\n",
    "\n",
    "The unittest.mock module provides a patch function that can be used to patch objects. \n",
    "'''"
   ]
  },
  {
   "cell_type": "code",
   "execution_count": 5,
   "id": "aa503d22-272d-44fe-8fbe-f6edfd7a6e28",
   "metadata": {},
   "outputs": [
    {
     "data": {
      "text/plain": [
       "'API mocking with patching'"
      ]
     },
     "execution_count": 5,
     "metadata": {},
     "output_type": "execute_result"
    }
   ],
   "source": [
    "'''API mocking with patching'''"
   ]
  },
  {
   "cell_type": "code",
   "execution_count": 6,
   "id": "e2babd12-85e4-441c-88ee-c57d58735dcc",
   "metadata": {},
   "outputs": [],
   "source": [
    "\n",
    "class ExternalAPI:\n",
    "    def fectch_data(self):\n",
    "        return {\"data\": [1, 2, 3]}\n",
    "\n",
    "def process_data():\n",
    "    api = ExternalAPI()\n",
    "    data = api.fetch_data()\n",
    "    processed_data = [2 * value for value in data[\"data\"]]"
   ]
  },
  {
   "cell_type": "code",
   "execution_count": 9,
   "id": "695b981a-bd61-4b52-8e13-8e30bfe3ad45",
   "metadata": {},
   "outputs": [
    {
     "name": "stderr",
     "output_type": "stream",
     "text": [
      "E\n",
      "======================================================================\n",
      "ERROR: test_process_data_from_api (__main__.TestProcessDataFromAPI.test_process_data_from_api)\n",
      "----------------------------------------------------------------------\n",
      "Traceback (most recent call last):\n",
      "  File \"C:\\Users\\dylan\\AppData\\Local\\Programs\\Python\\Python312\\Lib\\unittest\\mock.py\", line 1387, in patched\n",
      "    with self.decoration_helper(patched,\n",
      "  File \"C:\\Users\\dylan\\AppData\\Local\\Programs\\Python\\Python312\\Lib\\contextlib.py\", line 137, in __enter__\n",
      "    return next(self.gen)\n",
      "           ^^^^^^^^^^^^^^\n",
      "  File \"C:\\Users\\dylan\\AppData\\Local\\Programs\\Python\\Python312\\Lib\\unittest\\mock.py\", line 1369, in decoration_helper\n",
      "    arg = exit_stack.enter_context(patching)\n",
      "          ^^^^^^^^^^^^^^^^^^^^^^^^^^^^^^^^^^\n",
      "  File \"C:\\Users\\dylan\\AppData\\Local\\Programs\\Python\\Python312\\Lib\\contextlib.py\", line 526, in enter_context\n",
      "    result = _enter(cm)\n",
      "             ^^^^^^^^^^\n",
      "  File \"C:\\Users\\dylan\\AppData\\Local\\Programs\\Python\\Python312\\Lib\\unittest\\mock.py\", line 1442, in __enter__\n",
      "    self.target = self.getter()\n",
      "                  ^^^^^^^^^^^^^\n",
      "  File \"C:\\Users\\dylan\\AppData\\Local\\Programs\\Python\\Python312\\Lib\\pkgutil.py\", line 513, in resolve_name\n",
      "    mod = importlib.import_module(modname)\n",
      "          ^^^^^^^^^^^^^^^^^^^^^^^^^^^^^^^^\n",
      "  File \"C:\\Users\\dylan\\AppData\\Local\\Programs\\Python\\Python312\\Lib\\importlib\\__init__.py\", line 90, in import_module\n",
      "    return _bootstrap._gcd_import(name[level:], package, level)\n",
      "           ^^^^^^^^^^^^^^^^^^^^^^^^^^^^^^^^^^^^^^^^^^^^^^^^^^^^\n",
      "  File \"<frozen importlib._bootstrap>\", line 1387, in _gcd_import\n",
      "  File \"<frozen importlib._bootstrap>\", line 1360, in _find_and_load\n",
      "  File \"<frozen importlib._bootstrap>\", line 1324, in _find_and_load_unlocked\n",
      "ModuleNotFoundError: No module named 'ipynb'\n",
      "\n",
      "----------------------------------------------------------------------\n",
      "Ran 1 test in 0.065s\n",
      "\n",
      "FAILED (errors=1)\n"
     ]
    }
   ],
   "source": [
    "import unittest\n",
    "from unittest.mock import patch, MagicMock\n",
    "from ipynb.fs.full.api_conn import process_data_from_api, ExternalAPI # JokeAPI - get a joke from the api\n",
    "\n",
    "class TestProcessDataFromAPI(unittest.TestCase):\n",
    "    \n",
    "    @patch('ipynb.fs.full.api_conn.ExternalAPI')  # Patch the ExternalAPI class\n",
    "    def test_process_data_from_api(self, MockExternalAPI):\n",
    "        \n",
    "        # Create a MagicMock instance to mock the behavior of the ExternalAPI instance\n",
    "        mock_api_instance = MockExternalAPI.return_value\n",
    "        mock_api_instance.fetch_data.return_value = {\"data\": [1, 2, 3]}  # Mock the return value of fetch_data\n",
    "        \n",
    "        # Call the function under test\n",
    "        result = process_data_from_api()\n",
    "        \n",
    "        # Assert that the function returns the expected result\n",
    "        self.assertEqual(result, [2, 4, 6])  # Assuming process_data_from_api() doubles each value\n",
    "        \n",
    "        # Assert that fetch_data method of ExternalAPI class was called\n",
    "        mock_api_instance.fetch_data.assert_called_once()\n",
    "\n",
    "if __name__ == '__main__':\n",
    "    unittest.main(argv=[''], exit=False)\n"
   ]
  },
  {
   "cell_type": "code",
   "execution_count": null,
   "id": "b822de0a-a3fe-4fee-b839-dd0c5ea0e751",
   "metadata": {},
   "outputs": [],
   "source": []
  },
  {
   "cell_type": "code",
   "execution_count": null,
   "id": "080fddf8-1a4d-4b06-9f0c-01852e3881ae",
   "metadata": {},
   "outputs": [],
   "source": []
  }
 ],
 "metadata": {
  "kernelspec": {
   "display_name": "Python 3 (ipykernel)",
   "language": "python",
   "name": "python3"
  },
  "language_info": {
   "codemirror_mode": {
    "name": "ipython",
    "version": 3
   },
   "file_extension": ".py",
   "mimetype": "text/x-python",
   "name": "python",
   "nbconvert_exporter": "python",
   "pygments_lexer": "ipython3",
   "version": "3.12.3"
  }
 },
 "nbformat": 4,
 "nbformat_minor": 5
}
