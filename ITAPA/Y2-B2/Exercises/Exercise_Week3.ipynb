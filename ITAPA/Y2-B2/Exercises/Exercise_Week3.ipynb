{
 "cells": [
  {
   "cell_type": "markdown",
   "id": "de836414-4a66-46d3-9c21-be82b1a2c947",
   "metadata": {},
   "source": [
    "### Exercise 1\n",
    "\n",
    "Write a Python function extract_emails(input_file, output_file) that reads a text file containing various lines of text, \n",
    "extracts all email addresses using regular expressions, and writes them to a new file, one per line.\n",
    "\n",
    "#### Requirements:\n",
    "\n",
    "    1. Read the content of input_file.\n",
    "    2. Use regular expressions to find all email addresses.\n",
    "    3. Write each email address to output_file, one per line.\n",
    "    4. Write a unit test to verify the functionality.\n",
    "\n",
    "Regular expression pattern for email addresses\n",
    "email_pattern = r'\\b[A-Za-z0-9._%+-]+@[A-Za-z0-9.-]+\\.[A-Z|a-z]{2,}\\b'\n",
    "\n",
    "The text file is provided as \"week3_exercise1.txt\""
   ]
  },
  {
   "cell_type": "code",
   "execution_count": null,
   "id": "5a91f9f5",
   "metadata": {},
   "outputs": [],
   "source": [
    "import re \n",
    "\n",
    "def extract_emails(input_file, output_file):\n",
    "       email_pattern = r'\\b[A-Za-z0-9._%+-]+@[A-Za-z0-9.-]+\\.[A-Z|a-z]{2,}\\b'\n",
    "\n",
    "       \n",
    "\n",
    "\n",
    "\n",
    "           \n",
    "\n",
    "        "
   ]
  },
  {
   "cell_type": "code",
   "execution_count": null,
   "id": "0c21bace",
   "metadata": {},
   "outputs": [],
   "source": [
    "import unittest\n",
    "\n",
    "class TestExtractEmails(unittest.TestCase):\n",
    "    def test_extract_emails(self):\n",
    "\n",
    "        test_input_file = 'input_file.txt'\n",
    "        test_output_file = 'output_file.txt'\n",
    "\n",
    "        # Writing content from file to test files!\n",
    "        with open('test_input_file', 'w') as test:\n",
    "            test.write(\"Please contact us at support@example.com for support\")\n",
    "            test.write(\"Marketing inquiries can be sent to marketing@example.com.\")\n",
    "\n",
    "        #taking input file content and writing it too output_file\n",
    "        extract_emails=(test_input_file, test_output_file)\n",
    "\n",
    "        # reads file so the content is seen so code is working!\n",
    "        with open('test_output_file', 'r') as test:\n",
    "            extract_emails = test.read().strip().split('\\n')\n",
    "\n",
    "            # email list that is in content(expected result)\n",
    "            email_list = [\"support@example.com\", \"marketing@example.com\"]\n",
    "            # This will test if the emails are present!\n",
    "            self.assertEqual(extract_emails, email_list)\n",
    "\n",
    "\n",
    "\n",
    "if __name__ == '__main__':\n",
    "    unittest.main()\n",
    "\n",
    "      \n",
    "        "
   ]
  },
  {
   "cell_type": "markdown",
   "id": "a027a543-3d41-4f61-b32c-2b7a791ac52e",
   "metadata": {},
   "source": [
    "### Exercise 2:\n",
    "\n",
    "Write a Python function process_log_file(input_file, output_file) that reads a log file, extracts all lines that contain \n",
    "a valid date in the format YYYY-MM-DD, and writes these lines to a new file.\n",
    "\n",
    "#### Requirements:\n",
    "\n",
    "    1. Read the content of input_file.\n",
    "    2. Use regular expressions to validate and extract lines with a date in the format YYYY-MM-DD.\n",
    "    3. Write the valid lines to output_file.\n",
    "    4. Write a unit test to verify the functionality.\n",
    "\n",
    "The text file is provided as \"week3_exercise2.txt\""
   ]
  },
  {
   "cell_type": "code",
   "execution_count": null,
   "id": "5f21da67",
   "metadata": {},
   "outputs": [],
   "source": []
  }
 ],
 "metadata": {
  "kernelspec": {
   "display_name": "Python 3 (ipykernel)",
   "language": "python",
   "name": "python3"
  },
  "language_info": {
   "codemirror_mode": {
    "name": "ipython",
    "version": 3
   },
   "file_extension": ".py",
   "mimetype": "text/x-python",
   "name": "python",
   "nbconvert_exporter": "python",
   "pygments_lexer": "ipython3",
   "version": "3.12.3"
  }
 },
 "nbformat": 4,
 "nbformat_minor": 5
}
