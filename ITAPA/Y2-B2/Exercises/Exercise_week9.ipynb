{
 "cells": [
  {
   "cell_type": "markdown",
   "metadata": {},
   "source": [
    "# Build a Gui application that sends a file across a network\n",
    "- utf-8\n",
    "- The file must be SOCK_STREAM , TCP protocol\n",
    "- The file must be in JSON\n",
    "\n",
    "## The file must have stats of hospital hardware ratings\n",
    "- The data types\n",
    "- (optional) Inculde Regular expressions\n",
    "\n",
    "## Look for a pattern and to be printed out\n",
    "- The pattern should be given"
   ]
  },
  {
   "cell_type": "code",
   "execution_count": null,
   "metadata": {},
   "outputs": [],
   "source": []
  }
 ],
 "metadata": {
  "language_info": {
   "name": "python"
  }
 },
 "nbformat": 4,
 "nbformat_minor": 2
}
