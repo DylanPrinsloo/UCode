{
 "cells": [
  {
   "cell_type": "markdown",
   "id": "166dc092-f743-40c9-8238-cd9c7723041b",
   "metadata": {},
   "source": [
    "### Exercise 1\n",
    "Create a simple TCP client and server where the client sends a temperature in degrees Celsius, and the server converts it to Fahrenheit and sends it back.\n",
    "\n",
    "#### Instructions:\n",
    "\n",
    "1. Write a TCP server that listens on 127.0.0.1 and port 65432.\n",
    "2. The server should accept a connection from a client, receive a temperature value in degrees Celsius, convert it to Fahrenheit, and send the converted value back.\n",
    "3. Write a TCP client that connects to the server, takes a user input for the temperature in degrees Celsius, sends it to the server, and prints the server's response.\n",
    "\n",
    "#### Notes\n",
    "\n",
    "The formula for converting degrees Celsius to Fahrenheit is:\n",
    "\n",
    "$ \\text{Fahrenheit} = \\text{Celsius} \\times \\frac{9}{5} + 32 $"
   ]
  },
  {
   "cell_type": "code",
   "execution_count": null,
   "id": "d2896f51-d02a-4da8-823d-9d151ed74d00",
   "metadata": {},
   "outputs": [],
   "source": [
    "# server creation\n",
    "\n",
    "import socket \n",
    "\n",
    "def start_server(host='127.0.0.1', port=65432):\n",
    "    server_socket = socket.socket(socket.AF_INET, socket.SOCK_STREAM)\n",
    "    server_socket.bind((host,port))\n",
    "    server_socket.listen(5)\n",
    "    print(f\"The server is up, listening on -> {host} : {port}\")\n",
    "\n",
    "    while True:\n",
    "        # connection is establised or accepted!\n",
    "        client_socket, client_address = server_socket.accept()\n",
    "        print(f\"Connection established from {client_address}\")\n",
    "\n",
    "        # Data will be recieved\n",
    "        data = client_socket(999)\n",
    "        print(f\"Data recieved: {data.decode('utf-8')}\")\n",
    "\n",
    "        # response sent back in farenheit\n",
    "        response = data * (9/5 + 32) + (\" Farenheit\")\n",
    "        # The formula for converting\n",
    "        client_socket.sendall(response.encode('utf-8'))\n",
    "\n",
    "        # Alows it too close and new connection to be opened in future!\n",
    "        client_socket.close()\n",
    "\n",
    "# Run the server\n",
    "if __name__ == \"__main__\":\n",
    "    start_server()\n",
    "\n"
   ]
  },
  {
   "cell_type": "code",
   "execution_count": null,
   "id": "4fc0adf6",
   "metadata": {},
   "outputs": [],
   "source": [
    "# client server\n",
    "\n",
    "import socket\n",
    "\n",
    "\n",
    "def client_server(host='127.0.0.1', port=65432):\n",
    "    client_socket = socket.socket(socket.AF_INET, socket.SOCK_STREAM)\n",
    "\n",
    "    # Client is connecting to the specified socket and listening!\n",
    "    client_socket.connect((host, port))\n",
    "    client_socket.listen(5)\n",
    "    print(f\"The client server is connecting on: {host} : {port}\")\n",
    "\n",
    "    # connection is established and message will be sent!\n",
    "    message = input(\"What is the degrees you would like to insert (number)?: \")\n",
    "    client_socket.sendall(message.encode('utf-8'))\n",
    "\n",
    "    # recieve the amount in farenheit\n",
    "    response = client_socket.recv(999)\n",
    "    print(f\"The Value recieved is: {response.decode('utf-8')}\")\n",
    "\n",
    "    client_socket.close()\n",
    "\n",
    "# Run the server\n",
    "if __name__ == \"__main__\":\n",
    "    client_server_server()"
   ]
  }
 ],
 "metadata": {
  "kernelspec": {
   "display_name": "Python 3 (ipykernel)",
   "language": "python",
   "name": "python3"
  },
  "language_info": {
   "codemirror_mode": {
    "name": "ipython",
    "version": 3
   },
   "file_extension": ".py",
   "mimetype": "text/x-python",
   "name": "python",
   "nbconvert_exporter": "python",
   "pygments_lexer": "ipython3",
   "version": "3.12.3"
  }
 },
 "nbformat": 4,
 "nbformat_minor": 5
}
