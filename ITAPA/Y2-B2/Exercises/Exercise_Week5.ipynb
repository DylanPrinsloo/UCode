{
 "cells": [
  {
   "cell_type": "markdown",
   "id": "166dc092-f743-40c9-8238-cd9c7723041b",
   "metadata": {},
   "source": [
    "### Exercise 1\n",
    "Create a simple TCP client and server where the client sends a temperature in degrees Celsius, and the server converts it to Fahrenheit and sends it back.\n",
    "\n",
    "#### Instructions:\n",
    "\n",
    "1. Write a TCP server that listens on 127.0.0.1 and port 65432.\n",
    "2. The server should accept a connection from a client, receive a temperature value in degrees Celsius, convert it to Fahrenheit, and send the converted value back.\n",
    "3. Write a TCP client that connects to the server, takes a user input for the temperature in degrees Celsius, sends it to the server, and prints the server's response.\n",
    "\n",
    "#### Notes\n",
    "\n",
    "The formula for converting degrees Celsius to Fahrenheit is:\n",
    "\n",
    "$ \\text{Fahrenheit} = \\text{Celsius} \\times \\frac{9}{5} + 32 $"
   ]
  },
  {
   "cell_type": "code",
   "execution_count": null,
   "id": "d2896f51-d02a-4da8-823d-9d151ed74d00",
   "metadata": {},
   "outputs": [],
   "source": []
  }
 ],
 "metadata": {
  "kernelspec": {
   "display_name": "Python 3 (ipykernel)",
   "language": "python",
   "name": "python3"
  },
  "language_info": {
   "codemirror_mode": {
    "name": "ipython",
    "version": 3
   },
   "file_extension": ".py",
   "mimetype": "text/x-python",
   "name": "python",
   "nbconvert_exporter": "python",
   "pygments_lexer": "ipython3",
   "version": "3.11.5"
  }
 },
 "nbformat": 4,
 "nbformat_minor": 5
}
