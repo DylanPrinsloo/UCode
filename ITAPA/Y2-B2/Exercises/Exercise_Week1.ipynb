{
 "cells": [
  {
   "cell_type": "code",
   "execution_count": null,
   "id": "d5b58a53-cf5e-4098-8673-655948c812fb",
   "metadata": {},
   "outputs": [],
   "source": [
    "'''Exercise 1: \n",
    "\n",
    "Create a function named calculate_average that takes a list of numbers as input and returns the average of those numbers.\n",
    "\n",
    "Design test cases to ensure that the calculate_average function behaves as expected under various conditions:\n",
    "\n",
    "    1. Test the function with a list of positive integers.\n",
    "    2. Test the function with a list of negative integers.\n",
    "    3. Test the function with a list containing both positive and negative integers.\n",
    "    4. Test the function with an empty list.\n",
    "    5. Test the function with a list containing only one number.\n",
    "    6. Add at least two of you own test'''"
   ]
  },
  {
   "cell_type": "code",
   "execution_count": null,
   "id": "45d226d1-07b4-4a22-ba80-461b192e38da",
   "metadata": {},
   "outputs": [],
   "source": [
    "'''Exercise 2: Mocking in Test Case\n",
    "Create a function named fetch_and_process_data that fetches data from an external API, processes it, and returns the processed result. \n",
    "Use the following class for the API\n",
    "class ExternalAPI:\n",
    "    def fetch_data(self):\n",
    "        response = requests.get(\"https://api.example.com/data\")\n",
    "        if response.status_code == 200:\n",
    "            return response.json()\n",
    "        else:\n",
    "            return None\n",
    "Design a test case for the fetch_and_process_data function using mocking to simulate the behavior of the external API:\n",
    "\n",
    "    1. Mock the behavior of the external API to return a predefined dataset.\n",
    "    2. Test that the fetch_and_process_data function correctly processes the data returned by the external API.\n",
    "    3. Verify that the function handles errors gracefully if the external API is unavailable or returns unexpected data.'''"
   ]
  }
 ],
 "metadata": {
  "kernelspec": {
   "display_name": "Python 3 (ipykernel)",
   "language": "python",
   "name": "python3"
  },
  "language_info": {
   "codemirror_mode": {
    "name": "ipython",
    "version": 3
   },
   "file_extension": ".py",
   "mimetype": "text/x-python",
   "name": "python",
   "nbconvert_exporter": "python",
   "pygments_lexer": "ipython3",
   "version": "3.11.5"
  }
 },
 "nbformat": 4,
 "nbformat_minor": 5
}
