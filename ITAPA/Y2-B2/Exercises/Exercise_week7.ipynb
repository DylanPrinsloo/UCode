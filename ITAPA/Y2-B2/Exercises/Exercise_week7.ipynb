{
 "cells": [
  {
   "cell_type": "markdown",
   "metadata": {},
   "source": [
    "### client \n",
    "\n",
    "input \n",
    "\n",
    "--groceries\n",
    "\n",
    "output\n",
    "\n",
    "--send list to server \n",
    "\n",
    "### server\n",
    "\n",
    "--\n",
    "\n"
   ]
  },
  {
   "cell_type": "markdown",
   "metadata": {},
   "source": [
    "# Client\n"
   ]
  },
  {
   "cell_type": "code",
   "execution_count": null,
   "metadata": {},
   "outputs": [],
   "source": [
    "import socket, json\n",
    "\n",
    "def client_app(host='loclahost', port=4042):\n",
    "    client_socket = socket.socket(socket.AD_INET, socket.SOCK_STREAM)\n",
    "    client_socket.connect((host, port))\n",
    "\n",
    "    groceries = {'apple': 4, 'bread': 45, 'coffee': 19, 'milk': 23}  # cant send a dict over a server\n",
    "\n",
    "    message = json.dumps(groceries)\n",
    "\n",
    "    client_socket.send(message.encode('utf-8'))\n",
    "\n",
    "    data = client_socket.recv(999).decode('utf-8')\n",
    "    response = json.loads(data)\n",
    "\n",
    "    \n",
    "    print(response['total_price'])\n",
    "\n",
    "    client_socket.close()\n",
    "\n",
    "if __name__ == '__main__':\n",
    "    client_app()\n"
   ]
  },
  {
   "cell_type": "markdown",
   "metadata": {},
   "source": [
    "# Server"
   ]
  },
  {
   "cell_type": "code",
   "execution_count": null,
   "metadata": {},
   "outputs": [],
   "source": [
    "import socket, json\n",
    "\n",
    "groceries_prices = {'apple': 4, 'bread': 45, 'coffee': 19, 'milk': 23, 'cheese': 67, 'moppit': 250}\n",
    "\n",
    "def proccess_groceries(groceries):\n",
    "    updated_groceries = {}\n",
    "    total_price = 0\n",
    "\n",
    "    # the for loop will get an item (key) and then ise that qunatity in the list given\n",
    "\n",
    "    for item, quantity in groceries.items():\n",
    "\n",
    "        price = groceries_prices.get(item) # we are getting the item price from the lsit we have.\n",
    "\n",
    "        updated_groceries[item] = {'quantity:' quantity, 'price_per:' price, 'total_price:' price * quantity}\n",
    "        \n",
    "        # list[items] = creating a dict for each item\n",
    "        total_price += price * quantity\n",
    "        return updated_groceries, total_price\n",
    "    \n",
    "def server_app(host='localhost', port= 4042):\n",
    "    server_socket = socket.socket(socket.AD_INET, socket.SOCK_STREAM)\n",
    "    server_socket.bind((host, port))\n",
    "\n",
    "    server_socket.listen(3)\n",
    "    print(\"server is listening\")\n",
    "\n",
    "    while True:\n",
    "        conn, address = server_socket.accept()\n",
    "        print(f'connection established with {address}')\n",
    "\n",
    "        data = conn.recv(999).decode('utf-8')\n",
    "\n",
    "        groceries = json.laod(data)\n",
    "\n",
    "        updated_groceries, total_price_price = proccess_groceries(groceries)\n",
    "\n",
    "        response = {'groceries': updated_groceries, 'total_price Price': total_price_price}\n",
    "\n",
    "        conn.send(json.dumps(response)).encode('utf-8')\n",
    "        \n",
    "        conn.close()\n",
    "\n",
    "if __name__ == '__main__':\n",
    "    server_app()       \n",
    "\n",
    "\n"
   ]
  }
 ],
 "metadata": {
  "language_info": {
   "name": "python"
  }
 },
 "nbformat": 4,
 "nbformat_minor": 2
}
