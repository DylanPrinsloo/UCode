{
 "cells": [
  {
   "cell_type": "markdown",
   "id": "7f70bb69-04e0-4448-ad43-68578e5398ec",
   "metadata": {},
   "source": [
    "### Exercise 1\n",
    "Write a Python program to search for a specific regular expression pattern in multiple text files. The program should take a list of file paths and a regular expression pattern as input, then output the total number of matches across all files. The search should be performed in parallel."
   ]
  },
  {
   "cell_type": "markdown",
   "id": "511e817f",
   "metadata": {},
   "source": [
    "# breakdown\n",
    "\n",
    "1. Search for pattern in text files(multiple)\n",
    "2. create list of file paths  \n",
    "3. re as input, output total num \n",
    "4. search be performed in parallel (same time)"
   ]
  },
  {
   "cell_type": "code",
   "execution_count": 12,
   "id": "1a493d89",
   "metadata": {},
   "outputs": [
    {
     "ename": "TypeError",
     "evalue": "'module' object is not iterable",
     "output_type": "error",
     "traceback": [
      "\u001b[1;31m---------------------------------------------------------------------------\u001b[0m",
      "\u001b[1;31mTypeError\u001b[0m                                 Traceback (most recent call last)",
      "Cell \u001b[1;32mIn[12], line 18\u001b[0m\n\u001b[0;32m     13\u001b[0m     \u001b[38;5;28mprint\u001b[39m(find_pattern)\n\u001b[0;32m     15\u001b[0m \u001b[38;5;66;03m# input and output *\u001b[39;00m\n\u001b[0;32m     16\u001b[0m \n\u001b[0;32m     17\u001b[0m \u001b[38;5;66;03m# search in parrallel\u001b[39;00m\n\u001b[1;32m---> 18\u001b[0m \u001b[38;5;28;43;01mfor\u001b[39;49;00m\u001b[43m \u001b[49m\u001b[43mthread\u001b[49m\u001b[43m \u001b[49m\u001b[38;5;129;43;01min\u001b[39;49;00m\u001b[43m \u001b[49m\u001b[43mthreading\u001b[49m\u001b[43m:\u001b[49m\n\u001b[0;32m     19\u001b[0m \u001b[43m    \u001b[49m\u001b[43mthreading\u001b[49m\u001b[43m \u001b[49m\u001b[38;5;241;43m=\u001b[39;49m\u001b[43m \u001b[49m\u001b[43mthreading\u001b[49m\u001b[38;5;241;43m.\u001b[39;49m\u001b[43mThread\u001b[49m\u001b[43m(\u001b[49m\u001b[43mtarget\u001b[49m\u001b[38;5;241;43m=\u001b[39;49m\u001b[43mfind_the_pattern\u001b[49m\u001b[43m,\u001b[49m\u001b[43m \u001b[49m\u001b[43margs\u001b[49m\u001b[38;5;241;43m=\u001b[39;49m\u001b[43m(\u001b[49m\u001b[43mthread\u001b[49m\u001b[43m)\u001b[49m\u001b[43m)\u001b[49m\n\u001b[0;32m     21\u001b[0m \u001b[43m    \u001b[49m\u001b[43mthreading\u001b[49m\u001b[38;5;241;43m.\u001b[39;49m\u001b[43mstart\u001b[49m\u001b[43m(\u001b[49m\u001b[43m)\u001b[49m\n",
      "\u001b[1;31mTypeError\u001b[0m: 'module' object is not iterable"
     ]
    }
   ],
   "source": [
    "import re\n",
    "import time, threading\n",
    "\n",
    "start_time = time.time()\n",
    "\n",
    "pattern = r\"The idea is it can be implemented on any amount of files:), Build what you need to get it done!\"\n",
    "list = [\"implemented\", \"on\", \"done\"]\n",
    "\n",
    "# search the pattern above\n",
    "def find_the_pattern():\n",
    "    find_pattern = re.findall(list, pattern)\n",
    "    print(find_pattern)\n",
    "    # store it\n",
    "\n",
    "# search in parrallel\n",
    "for thread in threading: # multiple times()\n",
    "    thread = threading.Thread(target=find_the_pattern, args=(thread))\n",
    "\n",
    "    thread.start()\n",
    "\n",
    "    thread.join()\n",
    "    \n",
    "find_the_pattern()\n",
    "\n",
    "end_time = time.time()\n",
    "print(f\"Time taken: {end_time - start_time} seconds\")\n"
   ]
  },
  {
   "cell_type": "markdown",
   "id": "3d37c1b2",
   "metadata": {},
   "source": [
    "Exercise 4 memo"
   ]
  },
  {
   "cell_type": "code",
   "execution_count": null,
   "id": "61062b76",
   "metadata": {},
   "outputs": [],
   "source": [
    "import re\n",
    "import concurrent.futures\n",
    "\n",
    "def search_pattern_in_file(file_path, pattern):\n",
    "    with open(file_path, 'r') as file:\n",
    "        content = file.read()\n",
    "    matches = re.findall(pattern, content)\n",
    "    return len(matches)\n",
    "\n",
    "def search_pattern_in_files(file_paths, pattern):\n",
    "    total_matches = 0\n",
    "    with concurrent.futures.ThreadPoolExecutor() as executor:\n",
    "        results = executor.map(lambda file_path: search_pattern_in_file(file_path, pattern), file_paths)\n",
    "        total_matches = sum(results)\n",
    "    return total_matches\n",
    "\n",
    "# Example usage\n",
    "if __name__ == \"__main__\":\n",
    "    file_paths = [\"file1.txt\", \"file2.txt\", \"file3.txt\"]  # Replace with your actual file paths\n",
    "    pattern = r'your_regex_pattern'  # Replace with your actual regex pattern\n",
    "    total_matches = search_pattern_in_files(file_paths, pattern)\n",
    "    print(f\"Total matches: {total_matches}\")\n"
   ]
  }
 ],
 "metadata": {
  "kernelspec": {
   "display_name": "Python 3 (ipykernel)",
   "language": "python",
   "name": "python3"
  },
  "language_info": {
   "codemirror_mode": {
    "name": "ipython",
    "version": 3
   },
   "file_extension": ".py",
   "mimetype": "text/x-python",
   "name": "python",
   "nbconvert_exporter": "python",
   "pygments_lexer": "ipython3",
   "version": "3.12.3"
  }
 },
 "nbformat": 4,
 "nbformat_minor": 5
}
