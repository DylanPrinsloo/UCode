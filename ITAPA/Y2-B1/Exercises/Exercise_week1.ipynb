{
 "cells": [
  {
   "cell_type": "markdown",
   "metadata": {},
   "source": [
    "# Build a Gui application that will:\n",
    "\n",
    "### Allow students to create a profile:\n",
    "- Name , Student number , Field of Study , GPA\n",
    "\n",
    "### Allow the students to insert it in a Gui via a button prompt\n",
    "- The button, text insertion\n",
    "- Check for correct answers\n",
    "- Store the data in a file\n",
    "- allow the file to open, write and read it\n",
    "\n",
    "### The students should be able to request to see that data\n",
    "- A request button to logibn with there name and student number\n",
    "  "
   ]
  },
  {
   "cell_type": "code",
   "execution_count": 14,
   "metadata": {},
   "outputs": [],
   "source": [
    "import tkinter as tk\n",
    "from tkinter import messagebox\n",
    "\n",
    "root = tk.Tk()  # Corrected here\n",
    "root.title(\"Student Portal\")\n",
    "\n",
    "def student_message():\n",
    "    entered_text = entry.get()\n",
    "    messagebox.showinfo(\"Message\", f\"Entered student number: {entered_text}\")\n",
    "\n",
    "label = tk.Label(root, text=\"Enter Student Number:\")\n",
    "label.pack(pady=10)\n",
    "\n",
    "entry = tk.Entry(root, width=40)\n",
    "entry.pack(pady=10)\n",
    "\n",
    "button = tk.Button(root, text=\"Enter Data\", command=student_message)\n",
    "button.pack(pady=10)\n",
    "\n",
    "root.mainloop()\n",
    "\n",
    "\n"
   ]
  }
 ],
 "metadata": {
  "kernelspec": {
   "display_name": "Python 3",
   "language": "python",
   "name": "python3"
  },
  "language_info": {
   "codemirror_mode": {
    "name": "ipython",
    "version": 3
   },
   "file_extension": ".py",
   "mimetype": "text/x-python",
   "name": "python",
   "nbconvert_exporter": "python",
   "pygments_lexer": "ipython3",
   "version": "3.12.3"
  }
 },
 "nbformat": 4,
 "nbformat_minor": 2
}
