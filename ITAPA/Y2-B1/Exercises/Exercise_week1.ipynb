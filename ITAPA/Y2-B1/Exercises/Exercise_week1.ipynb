{
 "cells": [
  {
   "cell_type": "markdown",
   "metadata": {},
   "source": [
    "# Build a Gui application that will:\n",
    "\n",
    "### Allow students to create a profile:\n",
    "- Name , Student number , Field of Study , GPA\n",
    "\n",
    "### Allow the students to insert it in a Gui via a button prompt\n",
    "- The button, text insertion\n",
    "- Check for correct answers\n",
    "- Store the data in a file\n",
    "- allow the file to open, write and read it\n",
    "\n",
    "### The students should be able to request to see that data\n",
    "- A request button to logibn with there name and student number\n",
    "  "
   ]
  },
  {
   "cell_type": "code",
   "execution_count": null,
   "metadata": {
    "vscode": {
     "languageId": "plaintext"
    }
   },
   "outputs": [],
   "source": []
  }
 ],
 "metadata": {
  "language_info": {
   "name": "python"
  }
 },
 "nbformat": 4,
 "nbformat_minor": 2
}
