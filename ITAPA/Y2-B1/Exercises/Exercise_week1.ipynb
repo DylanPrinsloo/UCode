{
 "cells": [
  {
   "cell_type": "markdown",
   "metadata": {},
   "source": [
    "### Create a function to check for prime numbers?"
   ]
  },
  {
   "cell_type": "code",
   "execution_count": null,
   "metadata": {},
   "outputs": [],
   "source": [
    "def is_prime(number):  \n",
    "    if number < 2:\n",
    "        return False\n",
    "    for i in range(2, int(number**0.5)):\n",
    "        if number % i ==0:\n",
    "            return False\n",
    "    return True\n",
    "\n",
    "def display_prime_number(numbers):\n",
    "    primes = [number for number in numbers\n",
    "              if is_prime(number)]\n",
    "    for prime in primes:\n",
    "        print(f\"{prime}: IS a prime number!\")\n",
    "\n",
    "random_number = [random.radiant(1, 100) for _ in range[10]]\n",
    "print(f\"{random_number}\")\n",
    "display_prime_number(random_number)"
   ]
  },
  {
   "cell_type": "markdown",
   "metadata": {},
   "source": [
    "### Create a function to get the sum of a number"
   ]
  },
  {
   "cell_type": "code",
   "execution_count": null,
   "metadata": {},
   "outputs": [],
   "source": [
    "def recieve(number):\n",
    "    return [ i for i in range(number) if i % 2==0]\n",
    "\n",
    "def average(even_number):\n",
    "    total_sum = sum(even_number)\n",
    "    average = total_sum / len(even_number)\n",
    "   \n",
    "    if even_number == len(even_number):\n",
    "        print(f\"total_sum: {total_sum}\\n\")\n",
    "        print(f\"average: {average}\")\n",
    "\n",
    "number = 20          # range i gave\n",
    "even_number = 2  # Example i gave"
   ]
  }
 ],
 "metadata": {
  "language_info": {
   "name": "python"
  }
 },
 "nbformat": 4,
 "nbformat_minor": 2
}
