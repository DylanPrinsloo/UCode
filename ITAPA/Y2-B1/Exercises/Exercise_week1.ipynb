{
 "cells": [
  {
   "cell_type": "markdown",
   "metadata": {},
   "source": [
    "# Build a Gui application that will:\n",
    "\n",
    "### Allow students to create a profile:\n",
    "- Name , Student number , Field of Study , GPA\n",
    "\n",
    "### Allow the students to insert it in a Gui via a button prompt\n",
    "- The button, text insertion\n",
    "- Check for correct answers\n",
    "- Store the data in a file\n",
    "- allow the file to open, write and read it\n",
    "\n",
    "### The students should be able to request to see that data\n",
    "- A request button to logibn with there name and student number\n",
    "  "
   ]
  },
  {
   "cell_type": "code",
   "execution_count": 39,
   "metadata": {},
   "outputs": [],
   "source": [
    "# The question is answered in the rocket-student-portal.py"
   ]
  }
 ],
 "metadata": {
  "kernelspec": {
   "display_name": "Python 3",
   "language": "python",
   "name": "python3"
  },
  "language_info": {
   "codemirror_mode": {
    "name": "ipython",
    "version": 3
   },
   "file_extension": ".py",
   "mimetype": "text/x-python",
   "name": "python",
   "nbconvert_exporter": "python",
   "pygments_lexer": "ipython3",
   "version": "3.12.3"
  }
 },
 "nbformat": 4,
 "nbformat_minor": 2
}
