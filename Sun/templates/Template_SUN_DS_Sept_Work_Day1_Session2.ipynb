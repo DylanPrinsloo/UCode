{
  "nbformat": 4,
  "nbformat_minor": 0,
  "metadata": {
    "colab": {
      "provenance": []
    },
    "kernelspec": {
      "name": "python3",
      "display_name": "Python 3"
    },
    "language_info": {
      "name": "python"
    }
  },
  "cells": [
    {
      "cell_type": "code",
      "execution_count": null,
      "metadata": {
        "id": "LPUxRvlxuU1x"
      },
      "outputs": [],
      "source": [
        "#These are libraries that you should import if needed for your notebook.\n",
        "#import libraries\n",
        "import pandas as pd\n",
        "import seaborn as sns\n",
        "import numpy as np\n",
        "%matplotlib inline\n",
        "import matplotlib.pyplot as plots\n",
        "plots.style.use('fivethirtyeight')\n",
        "from google.colab import files"
      ]
    },
    {
      "cell_type": "markdown",
      "source": [
        "# Tables"
      ],
      "metadata": {
        "id": "aYWWgg-LO2Bh"
      }
    },
    {
      "cell_type": "code",
      "source": [
        "#Upload file\n"
      ],
      "metadata": {
        "id": "b0IFgs5-YNEX"
      },
      "execution_count": null,
      "outputs": []
    },
    {
      "cell_type": "code",
      "source": [
        "#Read the file into a pandas dataframe\n"
      ],
      "metadata": {
        "id": "URSmmS9IZTCh"
      },
      "execution_count": null,
      "outputs": []
    },
    {
      "cell_type": "code",
      "source": [
        "#Output the table, olympics to the screen\n"
      ],
      "metadata": {
        "id": "_2T_9P6caUWA"
      },
      "execution_count": null,
      "outputs": []
    },
    {
      "cell_type": "markdown",
      "source": [
        "# Working with tables"
      ],
      "metadata": {
        "id": "L-JQNN_lUqyb"
      }
    },
    {
      "cell_type": "code",
      "source": [
        "# print the column header to the screen\n"
      ],
      "metadata": {
        "id": "zTMpSQsLQfh6"
      },
      "execution_count": null,
      "outputs": []
    },
    {
      "cell_type": "code",
      "source": [
        "# select only specific columns\n"
      ],
      "metadata": {
        "id": "mPsIkLMWofbc"
      },
      "execution_count": null,
      "outputs": []
    },
    {
      "cell_type": "markdown",
      "source": [
        "To make changes permanent:\n",
        "\n",
        "*   Assign new value to variable\n",
        "*   Create new variable"
      ],
      "metadata": {
        "id": "G6_GqXetqcoR"
      }
    },
    {
      "cell_type": "code",
      "source": [
        "# read only specific columns into a new table\n"
      ],
      "metadata": {
        "id": "-i-Iob2rUM10"
      },
      "execution_count": null,
      "outputs": []
    },
    {
      "cell_type": "code",
      "source": [],
      "metadata": {
        "id": "FyUqd9o-Uf3C"
      },
      "execution_count": null,
      "outputs": []
    },
    {
      "cell_type": "code",
      "source": [
        "# drop a specific column(s)\n"
      ],
      "metadata": {
        "id": "kKp0oXHvpuR4"
      },
      "execution_count": null,
      "outputs": []
    },
    {
      "cell_type": "markdown",
      "source": [
        "**Sorting**"
      ],
      "metadata": {
        "id": "YqiqdPJ_EJ3I"
      }
    },
    {
      "cell_type": "code",
      "source": [
        "# sort the table according to the values in a specific column\n"
      ],
      "metadata": {
        "id": "4PyTR0fvqFtZ"
      },
      "execution_count": null,
      "outputs": []
    },
    {
      "cell_type": "code",
      "source": [
        "# sort the table according to the values in a specific column in a descending order\n"
      ],
      "metadata": {
        "id": "Xl8BfsdLr7Hr"
      },
      "execution_count": null,
      "outputs": []
    },
    {
      "cell_type": "markdown",
      "source": [
        "You can concatenate commands"
      ],
      "metadata": {
        "id": "dv3ZgfOcDSTm"
      }
    },
    {
      "cell_type": "code",
      "source": [
        "# select a two columns and sort accoring to the values of the one\n"
      ],
      "metadata": {
        "id": "KsgfAMiTsfta"
      },
      "execution_count": null,
      "outputs": []
    },
    {
      "cell_type": "markdown",
      "source": [
        "**Filtering**"
      ],
      "metadata": {
        "id": "OpBgYHG1_Z79"
      }
    },
    {
      "cell_type": "code",
      "source": [
        "# filter rows\\instances according to the values of a specific column\n"
      ],
      "metadata": {
        "id": "WdeotUeWXNb9"
      },
      "execution_count": null,
      "outputs": []
    },
    {
      "cell_type": "code",
      "source": [
        "# filter rows\\instances to retain information with a specific column value between two values\n"
      ],
      "metadata": {
        "id": "JtnJUCKn-YzZ"
      },
      "execution_count": null,
      "outputs": []
    },
    {
      "cell_type": "code",
      "source": [
        "# filter rows\\instances to retain information with a specific column containing a specific string\n"
      ],
      "metadata": {
        "id": "BHvUxQHT_aTJ"
      },
      "execution_count": null,
      "outputs": []
    },
    {
      "cell_type": "markdown",
      "source": [
        "**Perform operations or apply methods**"
      ],
      "metadata": {
        "id": "LNEV-seEEYyv"
      }
    },
    {
      "cell_type": "code",
      "source": [
        "#How many rows are in the table?\n"
      ],
      "metadata": {
        "id": "szhlaljWb2Dz"
      },
      "execution_count": null,
      "outputs": []
    },
    {
      "cell_type": "code",
      "source": [
        "# Calculate the sum of each column\n"
      ],
      "metadata": {
        "id": "ofW2yL5cEpxs"
      },
      "execution_count": null,
      "outputs": []
    },
    {
      "cell_type": "code",
      "source": [
        "# We can also perform operations on an array\n"
      ],
      "metadata": {
        "id": "OOrI-U7so2iT"
      },
      "execution_count": null,
      "outputs": []
    },
    {
      "cell_type": "code",
      "source": [
        "#Determine total number of gold medals\n",
        "\n"
      ],
      "metadata": {
        "id": "EtfKSYyxpQqj"
      },
      "execution_count": null,
      "outputs": []
    },
    {
      "cell_type": "code",
      "source": [
        "#Determine average number of medals\n"
      ],
      "metadata": {
        "id": "65BXgWoypaqV"
      },
      "execution_count": null,
      "outputs": []
    },
    {
      "cell_type": "markdown",
      "source": [
        "**Class Exercise**: Determine whether the average number of gold medals won per country is higher for Europe or for North American countries."
      ],
      "metadata": {
        "id": "h1eoZqN8d7i1"
      }
    },
    {
      "cell_type": "code",
      "source": [],
      "metadata": {
        "id": "qj_g2_dSd_82"
      },
      "execution_count": null,
      "outputs": []
    }
  ]
}