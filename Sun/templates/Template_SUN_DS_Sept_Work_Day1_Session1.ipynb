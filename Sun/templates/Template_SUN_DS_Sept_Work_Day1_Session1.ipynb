{
  "nbformat": 4,
  "nbformat_minor": 0,
  "metadata": {
    "colab": {
      "provenance": [],
      "toc_visible": true
    },
    "kernelspec": {
      "name": "python3",
      "display_name": "Python 3"
    },
    "language_info": {
      "name": "python"
    }
  },
  "cells": [
    {
      "cell_type": "code",
      "execution_count": null,
      "metadata": {
        "id": "eRYsqu8wndGg"
      },
      "outputs": [],
      "source": [
        "#These are libraries that you should import if needed for your notebook.\n",
        "#import libraries\n",
        "#from datascience import *\n",
        "import pandas as pd\n",
        "import seaborn as sns\n",
        "import numpy as np\n",
        "%matplotlib inline\n",
        "import matplotlib.pyplot as plots\n",
        "plots.style.use('fivethirtyeight')"
      ]
    },
    {
      "cell_type": "markdown",
      "source": [
        "# Basics\n",
        "\n",
        "Built-in Data Types\n",
        "In programming, data type is an important concept.\n",
        "\n",
        "Variables can store data of different types, and different types can do different things.\n",
        "\n",
        "Python has the following data types built-in by default, in these categories:\n",
        "\n",
        "\n",
        "*  Text or string Type:\t  str\n",
        "   *  Much of the world’s data is text, and a piece of text represented in a computer is called a string. A string can represent a word, a sentence, or even the contents of every book in a library.\n",
        "*  Numeric Types:\tint, float, complex\n",
        "   *  Integers are called int values in the Python language. They can only represent whole numbers (negative, zero, or positive) that don’t have a fractional component\n",
        "   * Real numbers are called float values (or floating point values) in the Python language. They can represent whole or fractional numbers but have some limitations.\n",
        "*  Sequence Types:\tlist, tuple, range\n",
        "   * Values can be grouped together into collections, which allows programmers to organize those values and refer to all of them with a single name. By grouping values together, we can write code that performs a computation on many pieces of data at once.\n",
        "*  Mapping Type:\tdict\n",
        "*  Set Types:\t  set, frozenset\n",
        "*  Boolean Type:\t  bool"
      ],
      "metadata": {
        "id": "Y3wIh8uynglk"
      }
    },
    {
      "cell_type": "code",
      "source": [],
      "metadata": {
        "id": "W8EL8iR5nsRj"
      },
      "execution_count": null,
      "outputs": []
    },
    {
      "cell_type": "markdown",
      "source": [
        "## Operations\n",
        "\n",
        "Python operators are special symbols (sometimes called keywords) that are used to perform certain most commonly required operations on one or more operands (value, variables, or expressions).\n",
        "\n",
        "Python language supports the following types of operators:\n",
        "\n",
        "* Arithmetic Operators\n",
        "\n",
        "* Comparison (Relational) Operators\n",
        "\n",
        "* Assignment Operators\n",
        "\n",
        "* Logical Operators\n",
        "\n",
        "* Bitwise Operators\n",
        "\n",
        "* Membership Operators\n",
        "\n",
        "* Identity Operators"
      ],
      "metadata": {
        "id": "O7bAREPLn0o7"
      }
    },
    {
      "cell_type": "code",
      "source": [
        "#Print Hello World\n"
      ],
      "metadata": {
        "id": "zSRaHiHin2wb"
      },
      "execution_count": null,
      "outputs": []
    },
    {
      "cell_type": "code",
      "source": [
        "#Print a number\n"
      ],
      "metadata": {
        "id": "P7IDQ2GRn_tT"
      },
      "execution_count": null,
      "outputs": []
    },
    {
      "cell_type": "code",
      "source": [
        "#Add two numbers\n",
        "\n"
      ],
      "metadata": {
        "id": "XZmHvtzGoBY0"
      },
      "execution_count": null,
      "outputs": []
    },
    {
      "cell_type": "code",
      "source": [
        "#Subtract one number from another\n"
      ],
      "metadata": {
        "id": "DcZx48THo_MN"
      },
      "execution_count": null,
      "outputs": []
    },
    {
      "cell_type": "code",
      "source": [
        "#Multiply two numbers\n"
      ],
      "metadata": {
        "id": "7coeKvqVpHLT"
      },
      "execution_count": null,
      "outputs": []
    },
    {
      "cell_type": "code",
      "source": [
        "#Multiply two numbers\n"
      ],
      "metadata": {
        "id": "3ihwd5L9pLAM"
      },
      "execution_count": null,
      "outputs": []
    },
    {
      "cell_type": "code",
      "source": [
        "#Divide one number by another\n"
      ],
      "metadata": {
        "id": "wVyY2wHypPb8"
      },
      "execution_count": null,
      "outputs": []
    },
    {
      "cell_type": "code",
      "source": [
        "#Calculate 2 to the power of 3\n"
      ],
      "metadata": {
        "id": "x4SNm3JqpV0s"
      },
      "execution_count": null,
      "outputs": []
    },
    {
      "cell_type": "markdown",
      "source": [
        "## Variables\n",
        "\n",
        "Variables are containers for storing data values. Unlike other languages, such as Java, Python has no command for declaring a variable, so you create one the moment you first assign a value to it.\n",
        "\n",
        "* A variable name must start with a letter or the underscore character\n",
        "* A variable name cannot start with a number\n",
        "* A variable name can only contain alpha-numeric characters and underscores (A-z, 0-9, and _ )\n",
        "* Variable names are case-sensitive (age, Age and AGE are three different variables)\n",
        "* A variable name cannot be any of the Python keywords."
      ],
      "metadata": {
        "id": "T_92SRSLpejr"
      }
    },
    {
      "cell_type": "code",
      "source": [
        "#Store the value of 5 in variable a.\n"
      ],
      "metadata": {
        "id": "5ZC4JPSYpgZc"
      },
      "execution_count": null,
      "outputs": []
    },
    {
      "cell_type": "code",
      "source": [
        "#What is the value of  variable a\n"
      ],
      "metadata": {
        "id": "B4CXO0UupmYM"
      },
      "execution_count": null,
      "outputs": []
    },
    {
      "cell_type": "code",
      "source": [
        "#Multiply variable a by another number\n"
      ],
      "metadata": {
        "id": "G_TiDVl7pqML"
      },
      "execution_count": null,
      "outputs": []
    },
    {
      "cell_type": "code",
      "source": [
        "#Add a number to  variable a\n"
      ],
      "metadata": {
        "id": "gnp3mAhNptIT"
      },
      "execution_count": null,
      "outputs": []
    },
    {
      "cell_type": "code",
      "source": [
        "#Change the value of variable a\n"
      ],
      "metadata": {
        "id": "k1Ktfy5zpxGD"
      },
      "execution_count": null,
      "outputs": []
    },
    {
      "cell_type": "code",
      "source": [
        "#Multiply variable a by a number\n"
      ],
      "metadata": {
        "id": "GjyRhdmZp0CL"
      },
      "execution_count": null,
      "outputs": []
    },
    {
      "cell_type": "code",
      "source": [
        "#Add variables a and b.\n"
      ],
      "metadata": {
        "id": "9H-7CW1ip3h0"
      },
      "execution_count": null,
      "outputs": []
    },
    {
      "cell_type": "code",
      "source": [
        "#Store the value of 15 in variable b\n"
      ],
      "metadata": {
        "id": "slZb7lGIp7IE"
      },
      "execution_count": null,
      "outputs": []
    },
    {
      "cell_type": "code",
      "source": [
        "#Create a new variable (total) and equate that to the value of a and b\n"
      ],
      "metadata": {
        "id": "qddnYnrqqAC8"
      },
      "execution_count": null,
      "outputs": []
    },
    {
      "cell_type": "code",
      "source": [
        "#What is the value of total\n"
      ],
      "metadata": {
        "id": "sHtZkU_2qEPE"
      },
      "execution_count": null,
      "outputs": []
    },
    {
      "cell_type": "code",
      "source": [
        "#Create a variable (new) and equate that to a string 'Stellenbosch'\n"
      ],
      "metadata": {
        "id": "0LXK2ANnqHjs"
      },
      "execution_count": null,
      "outputs": []
    },
    {
      "cell_type": "code",
      "source": [
        "#Add 5 to variable new\n"
      ],
      "metadata": {
        "id": "h5yVwN4SqQfF"
      },
      "execution_count": null,
      "outputs": []
    },
    {
      "cell_type": "code",
      "source": [
        "#Multiply the variable new by a number\n",
        "new * 5\n"
      ],
      "metadata": {
        "id": "hvDhfd7tqVpb"
      },
      "execution_count": null,
      "outputs": []
    },
    {
      "cell_type": "markdown",
      "source": [
        "**Class Exercise 1:**"
      ],
      "metadata": {
        "id": "uMDaL6b7qiCU"
      }
    },
    {
      "cell_type": "code",
      "source": [
        "three new variables hourly_minimum_wage, hours_per_week, and weeks_per_year and equate them to\n",
        "#15, 40 and 52 respectively\n"
      ],
      "metadata": {
        "id": "ieynKEqNqi49"
      },
      "execution_count": null,
      "outputs": []
    },
    {
      "cell_type": "code",
      "source": [
        "hourly_minimum_wage\n"
      ],
      "metadata": {
        "id": "FJM1GgXVrvVj"
      },
      "execution_count": null,
      "outputs": []
    },
    {
      "cell_type": "code",
      "source": [
        "#Determine the number of working hours in a year, store it in a variable, and output that\n"
      ],
      "metadata": {
        "id": "GI6mc44UsWmZ"
      },
      "execution_count": null,
      "outputs": []
    },
    {
      "cell_type": "code",
      "source": [
        "#Determine the minimum earning per year\n"
      ],
      "metadata": {
        "id": "YUXgp7WCsepr"
      },
      "execution_count": null,
      "outputs": []
    },
    {
      "cell_type": "code",
      "source": [
        "#Determine the minimum earning per year using the original variables that were defined\n"
      ],
      "metadata": {
        "id": "ujWLFo-Jsf1E"
      },
      "execution_count": null,
      "outputs": []
    },
    {
      "cell_type": "markdown",
      "source": [
        "## Arrays\n",
        "\n",
        "Arrays represent multiple data elements of the same type using a single name. An array is a special variable, which can hold more than one value at a time."
      ],
      "metadata": {
        "id": "pXPkmVSwspIL"
      }
    },
    {
      "cell_type": "code",
      "source": [
        "#np.array is used to create an array\n"
      ],
      "metadata": {
        "id": "5AtRaAvyst0z"
      },
      "execution_count": null,
      "outputs": []
    },
    {
      "cell_type": "code",
      "source": [
        "#Equate the above array to A\n"
      ],
      "metadata": {
        "id": "7N08RznCsyWt"
      },
      "execution_count": null,
      "outputs": []
    },
    {
      "cell_type": "code",
      "source": [
        "#Multiply A by a number, what do you notice?\n"
      ],
      "metadata": {
        "id": "isNL9INas2JD"
      },
      "execution_count": null,
      "outputs": []
    },
    {
      "cell_type": "code",
      "source": [
        "#Add a number to A, what do you notice?\n"
      ],
      "metadata": {
        "id": "pcPNksgYtGPr"
      },
      "execution_count": null,
      "outputs": []
    },
    {
      "cell_type": "code",
      "source": [
        "#Use add the elements of A\n"
      ],
      "metadata": {
        "id": "qIIHEdHntI_L"
      },
      "execution_count": null,
      "outputs": []
    },
    {
      "cell_type": "markdown",
      "source": [
        "**Class Exercise 2:**"
      ],
      "metadata": {
        "id": "q3kv8XTrtiWy"
      }
    },
    {
      "cell_type": "code",
      "source": [
        "#Create a new array with elements 11, 13, 15 and 17 and store it in variable B\n"
      ],
      "metadata": {
        "id": "xG0xDaUStkpr"
      },
      "execution_count": null,
      "outputs": []
    },
    {
      "cell_type": "code",
      "source": [
        "#Add A and B, what do you notice?\n"
      ],
      "metadata": {
        "id": "5-JB3vz_trwz"
      },
      "execution_count": null,
      "outputs": []
    },
    {
      "cell_type": "code",
      "source": [
        "#Create a new variable a and equate that to number\n"
      ],
      "metadata": {
        "id": "pUj8uGl8tvk8"
      },
      "execution_count": null,
      "outputs": []
    },
    {
      "cell_type": "code",
      "source": [
        "#Add a and B\n"
      ],
      "metadata": {
        "id": "zDfXVCsotyt0"
      },
      "execution_count": null,
      "outputs": []
    },
    {
      "cell_type": "code",
      "source": [
        "#Create two variables a and b and equate that to 9 and 5.\n",
        "#Then create an array with the first element a+b and second element a*b\n",
        "\n",
        "\n"
      ],
      "metadata": {
        "id": "j02h5_l4t3FD"
      },
      "execution_count": null,
      "outputs": []
    },
    {
      "cell_type": "code",
      "source": [
        "#Create a new array with elements 4, 5 and 7; and store it in variable C\n"
      ],
      "metadata": {
        "id": "L3lcXygut_m7"
      },
      "execution_count": null,
      "outputs": []
    },
    {
      "cell_type": "code",
      "source": [
        "# Display A\n"
      ],
      "metadata": {
        "id": "pM2S5ls6uRT9"
      },
      "execution_count": null,
      "outputs": []
    },
    {
      "cell_type": "code",
      "source": [
        "# print A\n"
      ],
      "metadata": {
        "id": "14JNo2XluTez"
      },
      "execution_count": null,
      "outputs": []
    },
    {
      "cell_type": "code",
      "source": [
        "#Add A and C  .Be mindful of the error\n"
      ],
      "metadata": {
        "id": "ajgoqkJruY3D"
      },
      "execution_count": null,
      "outputs": []
    },
    {
      "cell_type": "markdown",
      "source": [
        "## Create a basic array\n",
        "\n",
        "When it comes to creating a sequence of values, linspace and arange are two commonly used NumPy functions.\n",
        "\n",
        "Here is the subtle difference between the two functions:\n",
        "\n",
        "* linspace allows you to specify the number of steps\n",
        "* arange allows you to specify the size of the steps\n",
        "The following examples show how to use each function in practice."
      ],
      "metadata": {
        "id": "P14dxT3uudas"
      }
    },
    {
      "cell_type": "markdown",
      "source": [
        "### np.arange\n",
        "\n",
        "The np.arange() function uses the following basic syntax:\n",
        "\n",
        "np.arange(start, stop, step, …)\n",
        "\n",
        "where:\n",
        "\n",
        "* start: The starting value of the sequence\n",
        "* stop: The end value of the sequence\n",
        "* step: The spacing between values"
      ],
      "metadata": {
        "id": "8B8nliLIuj1j"
      }
    },
    {
      "cell_type": "code",
      "source": [
        "#np.arange can take in 1, 2 or 3 inputs. When it takes one input, it creates an array from 0 as the first element\n",
        "#with each subsequent element increasing by 1 until it reaches a number less than the input number.\n",
        "#Write an np.arange command with one input. Let that input be 7.\n",
        "\n"
      ],
      "metadata": {
        "id": "aCgSBeLjuuws"
      },
      "execution_count": null,
      "outputs": []
    },
    {
      "cell_type": "code",
      "source": [
        "#What if I wanted the array to start at 1 and end in the value of the input\n"
      ],
      "metadata": {
        "id": "vAGHXAvwu0TL"
      },
      "execution_count": null,
      "outputs": []
    },
    {
      "cell_type": "code",
      "source": [
        "#Let's try np.arange with two inputs seperated by a comma. The two inputs can be 1 and 8.\n"
      ],
      "metadata": {
        "id": "sKcAhPPmu3I7"
      },
      "execution_count": null,
      "outputs": []
    },
    {
      "cell_type": "code",
      "source": [
        "# Create an array that starts with 200 and ends 211\n"
      ],
      "metadata": {
        "id": "uTp7Hnmnu8WL"
      },
      "execution_count": null,
      "outputs": []
    },
    {
      "cell_type": "code",
      "source": [
        "#Let's try np.arange with two inputs seperated by a comma. The two inputs can be 1 and 8.  np.arange(start, stop, step, …)\n"
      ],
      "metadata": {
        "id": "IzBOJcknu_mT"
      },
      "execution_count": null,
      "outputs": []
    },
    {
      "cell_type": "code",
      "source": [
        "#Create two arrays using np.arange. The first array should use one input(5) and the second one using two inputs (10 and 13).\n",
        "#Now, use np.append with two inputs. The two inputs are the arrays from above.\n",
        "#What does np.append do\n",
        "\n"
      ],
      "metadata": {
        "id": "0st-jOMXvDFT"
      },
      "execution_count": null,
      "outputs": []
    },
    {
      "cell_type": "code",
      "source": [
        "### np.linspace\n",
        "\n",
        "The np.linspace() function uses the following basic syntax:\n",
        "\n",
        "np.linspace(start, stop, num, …)\n",
        "\n",
        "where:\n",
        "\n",
        "* start: The starting value of the sequence\n",
        "* stop: The end value of the sequence\n",
        "* num: the number of values to generate"
      ],
      "metadata": {
        "id": "OB5Fbfo3vGor"
      },
      "execution_count": null,
      "outputs": []
    },
    {
      "cell_type": "code",
      "source": [
        "#create sequence of 11 evenly spaced values between 0 and 20\n"
      ],
      "metadata": {
        "id": "qUWGaQ3UvMNT"
      },
      "execution_count": null,
      "outputs": []
    },
    {
      "cell_type": "code",
      "source": [
        "a = np.linspace(0, 10, 3)\n",
        "print(a)"
      ],
      "metadata": {
        "id": "0SVRwhd6vW1L"
      },
      "execution_count": null,
      "outputs": []
    },
    {
      "cell_type": "code",
      "source": [
        "print(a.dtype)\n"
      ],
      "metadata": {
        "id": "GH341rYhvh-T"
      },
      "execution_count": null,
      "outputs": []
    },
    {
      "cell_type": "code",
      "source": [
        "# Change the dtype to int\n",
        "a_int = np.linspace(0, 10, 3, dtype=int)"
      ],
      "metadata": {
        "id": "tLGOhDOvvhxz"
      },
      "execution_count": null,
      "outputs": []
    },
    {
      "cell_type": "code",
      "source": [
        "#print(a_int.dtype)\n",
        "\n"
      ],
      "metadata": {
        "id": "wNq9PdZx0Atq"
      },
      "execution_count": null,
      "outputs": []
    },
    {
      "cell_type": "markdown",
      "source": [
        "\n",
        "**Class Exercise 3**:\n",
        "\n",
        "Create an array that ranges from 3 to 10 (inclusive). Another from 13 to 20 (inclusive). Add the two arrays."
      ],
      "metadata": {
        "id": "nXqPUGwz01m7"
      }
    },
    {
      "cell_type": "code",
      "source": [],
      "metadata": {
        "id": "HVnNN-V4047C"
      },
      "execution_count": null,
      "outputs": []
    },
    {
      "cell_type": "markdown",
      "source": [
        "Generate a reverse order array with np.arange() from 9 to 2 with a step size of 2"
      ],
      "metadata": {
        "id": "wEicrSCR1Awh"
      }
    },
    {
      "cell_type": "code",
      "source": [],
      "metadata": {
        "id": "Qr8CcFrZ1DdK"
      },
      "execution_count": null,
      "outputs": []
    },
    {
      "cell_type": "markdown",
      "source": [
        "# TAKE-HOME EXERCISE 1\n",
        "\n",
        "**Complete the following take-home exercise for the next workshop session:**\n",
        "\n",
        "You have a class of 10 students. Each student has completed two tests and one exam. The total scores for the tests were 70 and 80 respectively and the total score for the exam was 120. Test one and two each make up 25% of the final mark for the module, while the exam makes up the rest.\n",
        "\n",
        "The scores for the students, out ouf their respective totals, are as follows...\n",
        "\n",
        "For test 1 = 65, 63, 68, 40, 55, 43, 69, 52, 51, 48\n",
        "\n",
        "For test 2 = 77, 79, 70, 35, 50, 46, 80, 56, 56, 52\n",
        "\n",
        "For the exam = 110, 109, 100, 55, 60, 61, 115, 96, 99, 75\n",
        "\n",
        "\n",
        "Make use of arrays to caclulate the following:\n",
        "1.   The final mark (%) of each student.\n",
        "2.   The class average (%) for each assesment as well as for the module.\n",
        "3.   BONUS: Give the hightest and lowest final marks for the module (use Google).\n",
        "\n"
      ],
      "metadata": {
        "id": "bcpiF0IH1URT"
      }
    },
    {
      "cell_type": "markdown",
      "source": [
        "# Tables\n",
        "\n",
        "Tables are a fundamental object type for representing data sets. A table can be viewed in two ways:\n",
        "\n",
        "* a sequence of named columns (i.e features or attributes) that each describe a single aspect of all entries in a data set, or\n",
        "\n",
        "* a sequence of rows (data points or data instances) that each contain all information about a single entry in a data set....."
      ],
      "metadata": {
        "id": "phWRwMlj1cq7"
      }
    },
    {
      "cell_type": "code",
      "source": [
        "#Upload olympics2024.csv file\n",
        "from google.colab import files\n",
        "uploaded = files.upload()"
      ],
      "metadata": {
        "id": "5XFpiNU21jga"
      },
      "execution_count": null,
      "outputs": []
    },
    {
      "cell_type": "code",
      "source": [
        "#Read the file into a table called olympics\n"
      ],
      "metadata": {
        "id": "ItoBw0wb117D"
      },
      "execution_count": null,
      "outputs": []
    },
    {
      "cell_type": "code",
      "source": [
        "#Output the table, olympics to the screen\n"
      ],
      "metadata": {
        "id": "NEZzmeZm16QT"
      },
      "execution_count": null,
      "outputs": []
    },
    {
      "cell_type": "code",
      "source": [
        "#Show only the top three rows of the table\n"
      ],
      "metadata": {
        "id": "y4NZX-S52Fzz"
      },
      "execution_count": null,
      "outputs": []
    },
    {
      "cell_type": "code",
      "source": [
        "#Show only the top ten rows of the table\n"
      ],
      "metadata": {
        "id": "7WJK7EEu2Jos"
      },
      "execution_count": null,
      "outputs": []
    },
    {
      "cell_type": "code",
      "source": [
        "#Show all rows of the table excluding the last 10\n"
      ],
      "metadata": {
        "id": "vZrDK2JA2Kx7"
      },
      "execution_count": null,
      "outputs": []
    },
    {
      "cell_type": "code",
      "source": [
        "#Show only the last five rows of the table\n"
      ],
      "metadata": {
        "id": "OOhTBrkI2OCr"
      },
      "execution_count": null,
      "outputs": []
    },
    {
      "cell_type": "code",
      "source": [
        "#Show only the last ten rows of the table\n"
      ],
      "metadata": {
        "id": "qAyeiIZN2RsU"
      },
      "execution_count": null,
      "outputs": []
    },
    {
      "cell_type": "code",
      "source": [],
      "metadata": {
        "id": "pdcmzQPY2U_T"
      },
      "execution_count": null,
      "outputs": []
    }
  ]
}