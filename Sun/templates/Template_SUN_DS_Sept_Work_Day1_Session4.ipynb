{
  "nbformat": 4,
  "nbformat_minor": 0,
  "metadata": {
    "colab": {
      "provenance": []
    },
    "kernelspec": {
      "name": "python3",
      "display_name": "Python 3"
    },
    "language_info": {
      "name": "python"
    }
  },
  "cells": [
    {
      "cell_type": "markdown",
      "source": [
        "#**Data visualization**\n",
        "\n",
        "Data visualization is the representation of data through use of common graphics, such as charts, plots, infographics, and even animations.\n",
        "\n",
        "These visual displays of information communicate complex data relationships and data-driven insights in a way that is easy to understand.\n",
        "\n",
        "The main goal of data visualization is to make it easier to identify patterns, trends and outliers in large data sets.\n",
        "\n",
        "Data visualization is the representation of data through use of common graphics, such as charts, plots, infographics, and even animations.\n",
        "\n",
        "These visual displays of information communicate complex data relationships and data-driven insights in a way that is easy to understand.\n",
        "\n",
        "The main goal of data visualization is to make it easier to identify patterns, trends and outliers in large data sets.\n"
      ],
      "metadata": {
        "id": "4S5Hr58nHVDB"
      }
    },
    {
      "cell_type": "markdown",
      "source": [
        "**Advantages:**\n",
        "\n",
        "* Easily sharing information.\n",
        "\n",
        "* Interactively explore opportunities.\n",
        "\n",
        "* Visualize patterns and relationships.\n",
        "\n",
        "* Quickly see trends and outliers."
      ],
      "metadata": {
        "id": "P8h2hZekOnOU"
      }
    },
    {
      "cell_type": "code",
      "execution_count": null,
      "metadata": {
        "id": "LPUxRvlxuU1x"
      },
      "outputs": [],
      "source": [
        "#These are libraries that you should import if needed for your notebook.\n",
        "#import libraries\n",
        "import pandas as pd\n",
        "import seaborn as sns\n",
        "import numpy as np\n",
        "%matplotlib inline\n",
        "import matplotlib.pyplot as plots\n",
        "plots.style.use('fivethirtyeight')\n",
        "from google.colab import files"
      ]
    },
    {
      "cell_type": "markdown",
      "source": [
        "## Visualisation"
      ],
      "metadata": {
        "id": "LQePVcXOQgAm"
      }
    },
    {
      "cell_type": "code",
      "source": [
        "# upload file to Colab\n",
        "uploaded = files.upload()"
      ],
      "metadata": {
        "id": "ysQBEbvgdIrD"
      },
      "execution_count": null,
      "outputs": []
    },
    {
      "cell_type": "code",
      "source": [
        "# read the file into a variable\n",
        "olympics = pd.read_csv('olympics2024.csv')"
      ],
      "metadata": {
        "id": "ADwOg0PkdIkr"
      },
      "execution_count": null,
      "outputs": []
    },
    {
      "cell_type": "code",
      "source": [
        "# rename 'GDP per capita (current US$)'\n",
        "olympics = olympics.rename(columns={'GDP per capita (current US$)' : 'GDPpc' })\n",
        "olympics\n"
      ],
      "metadata": {
        "id": "hREJy2LWdIhS"
      },
      "execution_count": null,
      "outputs": []
    },
    {
      "cell_type": "markdown",
      "source": [
        "# Scatter Plot"
      ],
      "metadata": {
        "id": "q7JAolC2VjAz"
      }
    },
    {
      "cell_type": "code",
      "source": [
        "# use a scatter plot to see if there is a relationship between a country's\n",
        "# polulation size and the number of gold medals the country obtained\n",
        "\n"
      ],
      "metadata": {
        "id": "C0Es5KZFl8b5"
      },
      "execution_count": null,
      "outputs": []
    },
    {
      "cell_type": "code",
      "source": [
        "# zoom in to the countries with less than 400mil people\n",
        "\n"
      ],
      "metadata": {
        "id": "pclWrDP1TnSD"
      },
      "execution_count": null,
      "outputs": []
    },
    {
      "cell_type": "markdown",
      "source": [
        "Draw a scatter plot with Population on the x-axis, gold on the y-axis with countries from different continents having different colours."
      ],
      "metadata": {
        "id": "FhBelYVV-X1y"
      }
    },
    {
      "cell_type": "code",
      "source": [
        "# make use of Seaborn\n"
      ],
      "metadata": {
        "id": "O-8YiNAgx0at"
      },
      "execution_count": null,
      "outputs": []
    },
    {
      "cell_type": "markdown",
      "source": [
        "Let's determine visually what the relation is (if any) between GDP per capita and the number of medals obtained, highlighting each continent in a different colour."
      ],
      "metadata": {
        "id": "pV1HYJwQFhg-"
      }
    },
    {
      "cell_type": "code",
      "source": [
        "# make use of Seaborn\n",
        "\n",
        "\n",
        "# moves legend to right\n",
        "\n"
      ],
      "metadata": {
        "id": "FcM-yDZC-Kc0"
      },
      "execution_count": null,
      "outputs": []
    },
    {
      "cell_type": "markdown",
      "source": [
        "# Histogram"
      ],
      "metadata": {
        "id": "RZSDogIW7SKW"
      }
    },
    {
      "cell_type": "code",
      "source": [
        "# Draw a histogram of Total medals\n"
      ],
      "metadata": {
        "id": "fWDi8i9S-4MJ"
      },
      "execution_count": null,
      "outputs": []
    },
    {
      "cell_type": "code",
      "source": [
        "# Create a histogram with Seaborn\n"
      ],
      "metadata": {
        "id": "BkQZwqPL1qgI"
      },
      "execution_count": null,
      "outputs": []
    },
    {
      "cell_type": "markdown",
      "source": [
        "# Bar Graph"
      ],
      "metadata": {
        "id": "52tIZn4MuwSD"
      }
    },
    {
      "cell_type": "code",
      "source": [
        "# calculate the average medals of each type (gold, silver, bronze) obtained by\n",
        "# each contiment\n",
        "medal_aves = olympics.pivot_table(index='Continent', values=['Gold','Silver','Bronze'], aggfunc='mean')[['Gold','Silver','Bronze']]\n",
        "medal_aves"
      ],
      "metadata": {
        "id": "I3B0Dd6ZHR0g"
      },
      "execution_count": null,
      "outputs": []
    },
    {
      "cell_type": "code",
      "source": [
        "# create a barr graph\n"
      ],
      "metadata": {
        "id": "49qt2T85x5r7"
      },
      "execution_count": null,
      "outputs": []
    },
    {
      "cell_type": "code",
      "source": [
        "# create a horizontal barr graph\n"
      ],
      "metadata": {
        "id": "ZQFvp2kjyY0c"
      },
      "execution_count": null,
      "outputs": []
    },
    {
      "cell_type": "markdown",
      "source": [
        "# Pie Chart"
      ],
      "metadata": {
        "id": "JK6QqunbWs0q"
      }
    },
    {
      "cell_type": "markdown",
      "source": [
        "Looking at only the European countries. Let's draw a pie chart of the percentage of gold medals each European country has obtained."
      ],
      "metadata": {
        "id": "oIYDaNgzFv5d"
      }
    },
    {
      "cell_type": "code",
      "source": [
        "# geneate a table with only the European countries gold medal counts\n",
        "eu_gold = olympics.where(olympics['Continent'] == 'Europe').where(olympics['Gold'] > 0).dropna().sort_values('Gold', ascending=False)[['Country', 'Gold']]\n",
        "eu_gold"
      ],
      "metadata": {
        "id": "1yHRqjPm7J_c"
      },
      "execution_count": null,
      "outputs": []
    },
    {
      "cell_type": "code",
      "source": [
        "# create pie chart\n",
        "\n"
      ],
      "metadata": {
        "id": "p-HzYIhGqf78"
      },
      "execution_count": null,
      "outputs": []
    },
    {
      "cell_type": "markdown",
      "source": [
        "Draw a pie chart of gold medals obtained where countries with less than 4 gold medals are group together in a single catagory (in a single pie section)."
      ],
      "metadata": {
        "id": "DtmeXimY_s1_"
      }
    },
    {
      "cell_type": "code",
      "source": [
        "# group countries with less than 4 gold medals together\n",
        "eu_gold_less4 = olympics.where(olympics['Continent'] == 'Europe').where(olympics['Gold'] < 4).dropna().sort_values('Gold', ascending=False)[['Country', 'Gold']]\n",
        "# create a df with a summary of this data\n",
        "eu_gold_less4_grouped = pd.DataFrame([['Other',eu_gold_less4['Gold'].sum()]],columns=['Country', 'Gold'])\n",
        "\n",
        "# create a df with a subset of data with Euro countries with 4+ gold medals\n",
        "eu_gold_min4 = olympics.where(olympics['Continent'] == 'Europe').where(olympics['Gold'] >= 4).dropna().sort_values('Gold', ascending=False)[['Country', 'Gold']]\n"
      ],
      "metadata": {
        "id": "bAR8K3la_rfV"
      },
      "execution_count": null,
      "outputs": []
    },
    {
      "cell_type": "code",
      "source": [
        "# combine the dataframes\n",
        "eu_gold2 = pd.concat([eu_gold_min4, eu_gold_less4_grouped])\n",
        "eu_gold2"
      ],
      "metadata": {
        "id": "8tNrQBSMp2RU"
      },
      "execution_count": null,
      "outputs": []
    },
    {
      "cell_type": "code",
      "source": [
        "# create pie chart\n",
        "plots.figure(figsize=(8, 8))  # Adjusting the figure size for better visualization\n",
        "plots.pie(eu_gold2['Gold'], labels=eu_gold2['Country'], autopct='%1.1f%%', startangle=90)"
      ],
      "metadata": {
        "id": "M254-xzTAL6-"
      },
      "execution_count": null,
      "outputs": []
    },
    {
      "cell_type": "markdown",
      "source": [
        "# Spider Chart \\ Radar Chart:\n",
        "\n",
        "Visualize data across multiple categories for several groups."
      ],
      "metadata": {
        "id": "rlsB6l5gXFtC"
      }
    },
    {
      "cell_type": "code",
      "source": [
        "# collect top 5 gold medal winning EU countries info\n",
        "top5 = olympics.where(olympics['Continent'] == 'Europe').dropna().sort_values('Gold', ascending=False).head(5)\n",
        "top5"
      ],
      "metadata": {
        "id": "P7rhVAlbENid"
      },
      "execution_count": null,
      "outputs": []
    },
    {
      "cell_type": "code",
      "source": [
        "# create spider chart of top5's different medal types\n",
        "\n",
        "top5=top5[['Country','Gold','Silver','Bronze']]\n",
        "\n",
        "# Transpose the DataFrame so that countries are the axes\n",
        "top5_transposed = top5.set_index('Country').T\n",
        "\n",
        "# Set the catagories\n",
        "categories = top5_transposed.columns.tolist()\n",
        "\n",
        "# Compute the angle of each axis\n",
        "angles = np.linspace(0, 2 * np.pi, 5, endpoint=False).tolist()\n",
        "\n",
        "# The plot is a circle, so we need to \"complete the loop\" and append the start to the end.\n",
        "angles += angles[:1]\n",
        "\n",
        "# Initialize the spider plot\n",
        "fig, ax = plots.subplots(figsize=(8, 8), subplot_kw=dict(polar=True))\n",
        "\n",
        "# Loop to plot each medal category\n",
        "for category in top5_transposed.index:\n",
        "    values = top5_transposed.loc[category].tolist()\n",
        "    values += values[:1]  # Repeat the first value to close the circle\n",
        "    ax.plot(angles, values, label=category)\n",
        "    ax.fill(angles, values, alpha=0.25)  # Fill the area under the plot\n",
        "\n",
        "# Labels for the countries\n",
        "ax.set_xticks(angles[:-1])\n",
        "ax.set_xticklabels(categories)\n",
        "\n",
        "# Setting the range for the radial axis\n",
        "ax.set_rlabel_position(30)\n",
        "plots.yticks([5, 10, 15, 20, 25], [\"5\", \"10\", \"15\", \"20\", \"25\"], color=\"grey\", size=10)\n",
        "plots.ylim(0, top5_transposed.max().max() + 5)\n",
        "\n",
        "# Title and legend\n",
        "plots.title('Medal Counts by Category', size=20, color='darkblue', y=1.1)\n",
        "ax.legend(loc='upper right', bbox_to_anchor=(1.1, 1.1))\n"
      ],
      "metadata": {
        "id": "bRpKJ4gTENNG"
      },
      "execution_count": null,
      "outputs": []
    },
    {
      "cell_type": "markdown",
      "source": [
        "# Sankey Plot"
      ],
      "metadata": {
        "id": "xpkcoQfLXKZb"
      }
    },
    {
      "cell_type": "code",
      "source": [
        "# filter the olympics data\n",
        "olympics_sankey = olympics.where(olympics['Total'] > 4).dropna()"
      ],
      "metadata": {
        "id": "z2AGxRT0JdH8"
      },
      "execution_count": null,
      "outputs": []
    },
    {
      "cell_type": "code",
      "source": [
        "# import libraries\n",
        "import plotly.graph_objects as go\n",
        "import numpy as np\n",
        "import colorsys\n",
        "\n",
        "# Medal categories in desired order\n",
        "categories = ['Gold', 'Silver', 'Bronze']\n",
        "\n",
        "# Sorting continents and countries alphabetically\n",
        "continents = sorted(olympics_sankey['Continent'].unique())\n",
        "countries = sorted(olympics_sankey['Country'])\n",
        "\n",
        "# Define colours for medal categories\n",
        "medal_colors = {'Gold': 'gold', 'Silver': 'silver', 'Bronze': '#cd7f32'}\n",
        "\n",
        "# Generate random colours for continents\n",
        "np.random.seed(0)  # For reproducibility\n",
        "continent_colors = {cont: f'#{np.random.randint(0, 256):02x}{np.random.randint(0, 256):02x}{np.random.randint(0, 256):02x}' for cont in continents}\n",
        "\n",
        "# Function to generate shades of a colour\n",
        "def generate_shades(base_color, num_shades):\n",
        "    # Convert hex to RGB\n",
        "    base_color = base_color.lstrip('#')\n",
        "    r, g, b = int(base_color[0:2], 16), int(base_color[2:4], 16), int(base_color[4:6], 16)\n",
        "\n",
        "    # Convert RGB to HSV\n",
        "    h, s, v = colorsys.rgb_to_hsv(r/255., g/255., b/255.)\n",
        "\n",
        "    # Generate shades by adjusting value (brightness)\n",
        "    shades = []\n",
        "    for i in range(num_shades):\n",
        "        shade_value = v * (1 - (i / num_shades))\n",
        "        r, g, b = colorsys.hsv_to_rgb(h, s, shade_value)\n",
        "        r, g, b = int(r * 255), int(g * 255), int(b * 255)\n",
        "        shades.append(f'rgba({r},{g},{b},1)')\n",
        "\n",
        "    return shades\n",
        "\n",
        "# Define shades for countries based on continent colours\n",
        "country_colors = {}\n",
        "for continent in continents:\n",
        "    # Generate shades for countries within the continent\n",
        "    continent_countries = olympics_sankey.loc[olympics_sankey['Continent'] == continent, 'Country']\n",
        "    shades = generate_shades(continent_colors[continent], len(continent_countries))\n",
        "    country_colors.update(dict(zip(continent_countries, shades)))\n",
        "\n",
        "# Function to adjust colour transparency\n",
        "def adjust_color_transparency(color, alpha):\n",
        "    if color.startswith('#'):\n",
        "        # Convert hex to RGB\n",
        "        r = int(color[1:3], 16)\n",
        "        g = int(color[3:5], 16)\n",
        "        b = int(color[5:7], 16)\n",
        "        return f'rgba({r},{g},{b},{alpha})'\n",
        "    elif color.startswith('rgb'):\n",
        "        # Extract RGB values from rgb format\n",
        "        rgb_values = color[4:-1].split(',')\n",
        "        return f'rgba({rgb_values[0]},{rgb_values[1]},{rgb_values[2]},{alpha})'\n",
        "    else:\n",
        "        # Handle named colours by converting them to RGB if possible\n",
        "        named_colors = {\n",
        "            'gold': '255,215,0',\n",
        "            'silver': '192,192,192',\n",
        "            'bronze': '205,127,50'\n",
        "        }\n",
        "        if color.lower() in named_colors:\n",
        "            rgb_values = named_colors[color.lower()]\n",
        "            return f'rgba({rgb_values},{alpha})'\n",
        "        else:\n",
        "            return f'{color},{alpha})'\n",
        "\n",
        "# Create lists to hold the nodes and links\n",
        "labels = []\n",
        "sources = []\n",
        "targets = []\n",
        "values = []\n",
        "link_colors = []\n",
        "\n",
        "# Adding medal categories as nodes in specified order\n",
        "labels.extend(categories)\n",
        "category_colors = [medal_colors[cat] for cat in categories]\n",
        "\n",
        "# Adding sorted continents as nodes\n",
        "labels.extend(continents)\n",
        "continent_colors = [continent_colors[cont] for cont in continents]\n",
        "\n",
        "# Adding sorted countries as nodes\n",
        "labels.extend(countries)\n",
        "country_colors = [country_colors[country] for country in countries]\n",
        "\n",
        "# Create links between medal categories and continents with transparency\n",
        "for i, category in enumerate(categories):\n",
        "    for j, continent in enumerate(continents):\n",
        "        # Sum the values for each continent and medal category\n",
        "        value = olympics_sankey.loc[olympics_sankey['Continent'] == continent, category].sum()\n",
        "        sources.append(i)\n",
        "        targets.append(len(categories) + j)\n",
        "        values.append(value)\n",
        "        # Use more transparency for continent links\n",
        "        link_colors.append(adjust_color_transparency(medal_colors[category], 0.5))\n",
        "\n",
        "# Create links between continents and countries with even more transparency\n",
        "for j, continent in enumerate(continents):\n",
        "    for k, country in enumerate(countries):\n",
        "        # Find the original index of the country in the unsorted list\n",
        "        if olympics_sankey.loc[olympics_sankey['Country'] == country, 'Continent'].values[0] == continent:\n",
        "            for i, category in enumerate(categories):\n",
        "                sources.append(len(categories) + j)\n",
        "                targets.append(len(categories) + len(continents) + k)\n",
        "                values.append(olympics_sankey.loc[olympics_sankey['Country'] == country, category].values[0])\n",
        "                # Use even more transparency for country links\n",
        "                link_colors.append(adjust_color_transparency(medal_colors[category], 0.2))\n",
        "\n",
        "# Create Sankey diagram\n",
        "fig = go.Figure(go.Sankey(\n",
        "    node=dict(\n",
        "        pad=15,\n",
        "        thickness=20,\n",
        "        line=dict(color=\"black\", width=0.5),\n",
        "        label=labels,\n",
        "        color=category_colors + continent_colors + country_colors  # Node colors\n",
        "    ),\n",
        "    link=dict(\n",
        "        source=sources,\n",
        "        target=targets,\n",
        "        value=values,\n",
        "        color=link_colors  # Link colors with transparency\n",
        "    )\n",
        "))\n",
        "\n",
        "# Adding title\n",
        "fig.update_layout(title_text=\"Sankey Diagram of Medal Distribution\", font_size=10)\n",
        "\n",
        "# Show the diagram\n",
        "fig.show()\n"
      ],
      "metadata": {
        "id": "ec0ZRebHWTuI"
      },
      "execution_count": null,
      "outputs": []
    }
  ]
}