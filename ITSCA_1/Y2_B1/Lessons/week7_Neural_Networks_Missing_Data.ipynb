{
  "cells": [
    {
      "cell_type": "markdown",
      "id": "5a1ecd92",
      "metadata": {
        "id": "5a1ecd92"
      },
      "source": [
        "## Problem\n",
        "\n",
        "We have a dataset containing weight and wing length measurements of 168 birds in a rainforest. There are three species of interest in this study. Unfortunately, there was a data entry error: one of the researchers took all the necessary measurements of 20 birds, but did not include the species of these birds in his record. Returning to the rainforest to correct this mistake is expensive, both logistically and resource-wise. The team opts to use the complete data they already have on the other  148 birds to figure out what the species of these 20 birds could be.\n",
        "\n",
        "### Task\n",
        "\n",
        "Build a neural network to predict what species these 20 birds belong to.\n"
      ]
    },
    {
      "cell_type": "code",
      "execution_count": null,
      "id": "e65b5df9",
      "metadata": {
        "id": "e65b5df9"
      },
      "outputs": [],
      "source": [
        "# Import the necessary libraries\n",
        "import tensorflow as tf\n",
        "from tensorflow import keras\n",
        "import numpy as np\n",
        "import pandas as pd\n",
        "from keras.models import Sequential\n",
        "from keras.layers import Dense\n",
        "from sklearn.model_selection import train_test_split"
      ]
    },
    {
      "cell_type": "code",
      "execution_count": null,
      "id": "7b3bb3b5",
      "metadata": {
        "id": "7b3bb3b5",
        "outputId": "dadb3923-c863-4492-8c96-ceb1fb22f0a5"
      },
      "outputs": [
        {
          "data": {
            "text/html": [
              "<div>\n",
              "<style scoped>\n",
              "    .dataframe tbody tr th:only-of-type {\n",
              "        vertical-align: middle;\n",
              "    }\n",
              "\n",
              "    .dataframe tbody tr th {\n",
              "        vertical-align: top;\n",
              "    }\n",
              "\n",
              "    .dataframe thead th {\n",
              "        text-align: right;\n",
              "    }\n",
              "</style>\n",
              "<table border=\"1\" class=\"dataframe\">\n",
              "  <thead>\n",
              "    <tr style=\"text-align: right;\">\n",
              "      <th></th>\n",
              "      <th>Firewing</th>\n",
              "      <th>Shadowhawk</th>\n",
              "      <th>Thunderbeaks</th>\n",
              "      <th>Wing</th>\n",
              "      <th>Weight</th>\n",
              "    </tr>\n",
              "  </thead>\n",
              "  <tbody>\n",
              "    <tr>\n",
              "      <th>0</th>\n",
              "      <td>1</td>\n",
              "      <td>0</td>\n",
              "      <td>0</td>\n",
              "      <td>0.372</td>\n",
              "      <td>0.915</td>\n",
              "    </tr>\n",
              "    <tr>\n",
              "      <th>1</th>\n",
              "      <td>1</td>\n",
              "      <td>0</td>\n",
              "      <td>0</td>\n",
              "      <td>0.371</td>\n",
              "      <td>1.160</td>\n",
              "    </tr>\n",
              "    <tr>\n",
              "      <th>2</th>\n",
              "      <td>1</td>\n",
              "      <td>0</td>\n",
              "      <td>0</td>\n",
              "      <td>0.469</td>\n",
              "      <td>1.001</td>\n",
              "    </tr>\n",
              "    <tr>\n",
              "      <th>3</th>\n",
              "      <td>1</td>\n",
              "      <td>0</td>\n",
              "      <td>0</td>\n",
              "      <td>0.262</td>\n",
              "      <td>1.020</td>\n",
              "    </tr>\n",
              "    <tr>\n",
              "      <th>4</th>\n",
              "      <td>1</td>\n",
              "      <td>0</td>\n",
              "      <td>0</td>\n",
              "      <td>0.375</td>\n",
              "      <td>0.950</td>\n",
              "    </tr>\n",
              "  </tbody>\n",
              "</table>\n",
              "</div>"
            ],
            "text/plain": [
              "   Firewing  Shadowhawk  Thunderbeaks   Wing  Weight\n",
              "0         1           0             0  0.372   0.915\n",
              "1         1           0             0  0.371   1.160\n",
              "2         1           0             0  0.469   1.001\n",
              "3         1           0             0  0.262   1.020\n",
              "4         1           0             0  0.375   0.950"
            ]
          },
          "execution_count": 85,
          "metadata": {},
          "output_type": "execute_result"
        }
      ],
      "source": [
        "# Load data\n",
        "data = pd.read_csv('Bird_Data_missing.txt', delimiter = ' ')\n",
        "data.head()"
      ]
    },
    {
      "cell_type": "code",
      "execution_count": null,
      "id": "65fb5b8a",
      "metadata": {
        "id": "65fb5b8a",
        "outputId": "b1762c6a-0e48-4649-d5d0-293f8fe80b56"
      },
      "outputs": [
        {
          "data": {
            "text/html": [
              "<div>\n",
              "<style scoped>\n",
              "    .dataframe tbody tr th:only-of-type {\n",
              "        vertical-align: middle;\n",
              "    }\n",
              "\n",
              "    .dataframe tbody tr th {\n",
              "        vertical-align: top;\n",
              "    }\n",
              "\n",
              "    .dataframe thead th {\n",
              "        text-align: right;\n",
              "    }\n",
              "</style>\n",
              "<table border=\"1\" class=\"dataframe\">\n",
              "  <thead>\n",
              "    <tr style=\"text-align: right;\">\n",
              "      <th></th>\n",
              "      <th>Firewing</th>\n",
              "      <th>Shadowhawk</th>\n",
              "      <th>Thunderbeaks</th>\n",
              "      <th>Wing</th>\n",
              "      <th>Weight</th>\n",
              "    </tr>\n",
              "  </thead>\n",
              "  <tbody>\n",
              "    <tr>\n",
              "      <th>148</th>\n",
              "      <td>0</td>\n",
              "      <td>0</td>\n",
              "      <td>0</td>\n",
              "      <td>0.218</td>\n",
              "      <td>0.378</td>\n",
              "    </tr>\n",
              "    <tr>\n",
              "      <th>149</th>\n",
              "      <td>0</td>\n",
              "      <td>0</td>\n",
              "      <td>0</td>\n",
              "      <td>0.367</td>\n",
              "      <td>0.545</td>\n",
              "    </tr>\n",
              "    <tr>\n",
              "      <th>150</th>\n",
              "      <td>0</td>\n",
              "      <td>0</td>\n",
              "      <td>0</td>\n",
              "      <td>0.409</td>\n",
              "      <td>0.601</td>\n",
              "    </tr>\n",
              "    <tr>\n",
              "      <th>151</th>\n",
              "      <td>0</td>\n",
              "      <td>0</td>\n",
              "      <td>0</td>\n",
              "      <td>0.168</td>\n",
              "      <td>0.279</td>\n",
              "    </tr>\n",
              "    <tr>\n",
              "      <th>152</th>\n",
              "      <td>0</td>\n",
              "      <td>0</td>\n",
              "      <td>0</td>\n",
              "      <td>0.289</td>\n",
              "      <td>0.482</td>\n",
              "    </tr>\n",
              "    <tr>\n",
              "      <th>153</th>\n",
              "      <td>0</td>\n",
              "      <td>0</td>\n",
              "      <td>0</td>\n",
              "      <td>0.336</td>\n",
              "      <td>0.528</td>\n",
              "    </tr>\n",
              "    <tr>\n",
              "      <th>154</th>\n",
              "      <td>0</td>\n",
              "      <td>0</td>\n",
              "      <td>0</td>\n",
              "      <td>0.186</td>\n",
              "      <td>0.315</td>\n",
              "    </tr>\n",
              "    <tr>\n",
              "      <th>155</th>\n",
              "      <td>0</td>\n",
              "      <td>0</td>\n",
              "      <td>0</td>\n",
              "      <td>0.258</td>\n",
              "      <td>0.426</td>\n",
              "    </tr>\n",
              "    <tr>\n",
              "      <th>156</th>\n",
              "      <td>0</td>\n",
              "      <td>0</td>\n",
              "      <td>0</td>\n",
              "      <td>0.397</td>\n",
              "      <td>0.579</td>\n",
              "    </tr>\n",
              "    <tr>\n",
              "      <th>157</th>\n",
              "      <td>0</td>\n",
              "      <td>0</td>\n",
              "      <td>0</td>\n",
              "      <td>0.198</td>\n",
              "      <td>0.342</td>\n",
              "    </tr>\n",
              "    <tr>\n",
              "      <th>158</th>\n",
              "      <td>0</td>\n",
              "      <td>0</td>\n",
              "      <td>0</td>\n",
              "      <td>0.324</td>\n",
              "      <td>0.506</td>\n",
              "    </tr>\n",
              "    <tr>\n",
              "      <th>159</th>\n",
              "      <td>0</td>\n",
              "      <td>0</td>\n",
              "      <td>0</td>\n",
              "      <td>0.276</td>\n",
              "      <td>0.452</td>\n",
              "    </tr>\n",
              "    <tr>\n",
              "      <th>160</th>\n",
              "      <td>0</td>\n",
              "      <td>0</td>\n",
              "      <td>0</td>\n",
              "      <td>0.349</td>\n",
              "      <td>0.533</td>\n",
              "    </tr>\n",
              "    <tr>\n",
              "      <th>161</th>\n",
              "      <td>0</td>\n",
              "      <td>0</td>\n",
              "      <td>0</td>\n",
              "      <td>0.225</td>\n",
              "      <td>0.397</td>\n",
              "    </tr>\n",
              "    <tr>\n",
              "      <th>162</th>\n",
              "      <td>0</td>\n",
              "      <td>0</td>\n",
              "      <td>0</td>\n",
              "      <td>0.372</td>\n",
              "      <td>0.568</td>\n",
              "    </tr>\n",
              "    <tr>\n",
              "      <th>163</th>\n",
              "      <td>0</td>\n",
              "      <td>0</td>\n",
              "      <td>0</td>\n",
              "      <td>0.417</td>\n",
              "      <td>0.603</td>\n",
              "    </tr>\n",
              "    <tr>\n",
              "      <th>164</th>\n",
              "      <td>0</td>\n",
              "      <td>0</td>\n",
              "      <td>0</td>\n",
              "      <td>0.240</td>\n",
              "      <td>0.340</td>\n",
              "    </tr>\n",
              "    <tr>\n",
              "      <th>165</th>\n",
              "      <td>0</td>\n",
              "      <td>0</td>\n",
              "      <td>0</td>\n",
              "      <td>0.299</td>\n",
              "      <td>0.487</td>\n",
              "    </tr>\n",
              "    <tr>\n",
              "      <th>166</th>\n",
              "      <td>0</td>\n",
              "      <td>0</td>\n",
              "      <td>0</td>\n",
              "      <td>0.329</td>\n",
              "      <td>0.515</td>\n",
              "    </tr>\n",
              "    <tr>\n",
              "      <th>167</th>\n",
              "      <td>0</td>\n",
              "      <td>0</td>\n",
              "      <td>0</td>\n",
              "      <td>0.209</td>\n",
              "      <td>0.365</td>\n",
              "    </tr>\n",
              "  </tbody>\n",
              "</table>\n",
              "</div>"
            ],
            "text/plain": [
              "     Firewing  Shadowhawk  Thunderbeaks   Wing  Weight\n",
              "148         0           0             0  0.218   0.378\n",
              "149         0           0             0  0.367   0.545\n",
              "150         0           0             0  0.409   0.601\n",
              "151         0           0             0  0.168   0.279\n",
              "152         0           0             0  0.289   0.482\n",
              "153         0           0             0  0.336   0.528\n",
              "154         0           0             0  0.186   0.315\n",
              "155         0           0             0  0.258   0.426\n",
              "156         0           0             0  0.397   0.579\n",
              "157         0           0             0  0.198   0.342\n",
              "158         0           0             0  0.324   0.506\n",
              "159         0           0             0  0.276   0.452\n",
              "160         0           0             0  0.349   0.533\n",
              "161         0           0             0  0.225   0.397\n",
              "162         0           0             0  0.372   0.568\n",
              "163         0           0             0  0.417   0.603\n",
              "164         0           0             0  0.240   0.340\n",
              "165         0           0             0  0.299   0.487\n",
              "166         0           0             0  0.329   0.515\n",
              "167         0           0             0  0.209   0.365"
            ]
          },
          "execution_count": 66,
          "metadata": {},
          "output_type": "execute_result"
        }
      ],
      "source": [
        "# Showing the last 20 birds do not have their species indicated\n",
        "data.tail(20)"
      ]
    },
    {
      "cell_type": "code",
      "execution_count": null,
      "id": "f432945a",
      "metadata": {
        "id": "f432945a",
        "outputId": "84cd08c2-2c67-4b02-9c54-790fc8cffe64"
      },
      "outputs": [
        {
          "data": {
            "text/html": [
              "<div>\n",
              "<style scoped>\n",
              "    .dataframe tbody tr th:only-of-type {\n",
              "        vertical-align: middle;\n",
              "    }\n",
              "\n",
              "    .dataframe tbody tr th {\n",
              "        vertical-align: top;\n",
              "    }\n",
              "\n",
              "    .dataframe thead th {\n",
              "        text-align: right;\n",
              "    }\n",
              "</style>\n",
              "<table border=\"1\" class=\"dataframe\">\n",
              "  <thead>\n",
              "    <tr style=\"text-align: right;\">\n",
              "      <th></th>\n",
              "      <th>Wing</th>\n",
              "      <th>Weight</th>\n",
              "    </tr>\n",
              "  </thead>\n",
              "  <tbody>\n",
              "    <tr>\n",
              "      <th>148</th>\n",
              "      <td>0.218</td>\n",
              "      <td>0.378</td>\n",
              "    </tr>\n",
              "    <tr>\n",
              "      <th>149</th>\n",
              "      <td>0.367</td>\n",
              "      <td>0.545</td>\n",
              "    </tr>\n",
              "    <tr>\n",
              "      <th>150</th>\n",
              "      <td>0.409</td>\n",
              "      <td>0.601</td>\n",
              "    </tr>\n",
              "    <tr>\n",
              "      <th>151</th>\n",
              "      <td>0.168</td>\n",
              "      <td>0.279</td>\n",
              "    </tr>\n",
              "    <tr>\n",
              "      <th>152</th>\n",
              "      <td>0.289</td>\n",
              "      <td>0.482</td>\n",
              "    </tr>\n",
              "    <tr>\n",
              "      <th>153</th>\n",
              "      <td>0.336</td>\n",
              "      <td>0.528</td>\n",
              "    </tr>\n",
              "    <tr>\n",
              "      <th>154</th>\n",
              "      <td>0.186</td>\n",
              "      <td>0.315</td>\n",
              "    </tr>\n",
              "    <tr>\n",
              "      <th>155</th>\n",
              "      <td>0.258</td>\n",
              "      <td>0.426</td>\n",
              "    </tr>\n",
              "    <tr>\n",
              "      <th>156</th>\n",
              "      <td>0.397</td>\n",
              "      <td>0.579</td>\n",
              "    </tr>\n",
              "    <tr>\n",
              "      <th>157</th>\n",
              "      <td>0.198</td>\n",
              "      <td>0.342</td>\n",
              "    </tr>\n",
              "    <tr>\n",
              "      <th>158</th>\n",
              "      <td>0.324</td>\n",
              "      <td>0.506</td>\n",
              "    </tr>\n",
              "    <tr>\n",
              "      <th>159</th>\n",
              "      <td>0.276</td>\n",
              "      <td>0.452</td>\n",
              "    </tr>\n",
              "    <tr>\n",
              "      <th>160</th>\n",
              "      <td>0.349</td>\n",
              "      <td>0.533</td>\n",
              "    </tr>\n",
              "    <tr>\n",
              "      <th>161</th>\n",
              "      <td>0.225</td>\n",
              "      <td>0.397</td>\n",
              "    </tr>\n",
              "    <tr>\n",
              "      <th>162</th>\n",
              "      <td>0.372</td>\n",
              "      <td>0.568</td>\n",
              "    </tr>\n",
              "    <tr>\n",
              "      <th>163</th>\n",
              "      <td>0.417</td>\n",
              "      <td>0.603</td>\n",
              "    </tr>\n",
              "    <tr>\n",
              "      <th>164</th>\n",
              "      <td>0.240</td>\n",
              "      <td>0.340</td>\n",
              "    </tr>\n",
              "    <tr>\n",
              "      <th>165</th>\n",
              "      <td>0.299</td>\n",
              "      <td>0.487</td>\n",
              "    </tr>\n",
              "    <tr>\n",
              "      <th>166</th>\n",
              "      <td>0.329</td>\n",
              "      <td>0.515</td>\n",
              "    </tr>\n",
              "    <tr>\n",
              "      <th>167</th>\n",
              "      <td>0.209</td>\n",
              "      <td>0.365</td>\n",
              "    </tr>\n",
              "  </tbody>\n",
              "</table>\n",
              "</div>"
            ],
            "text/plain": [
              "      Wing  Weight\n",
              "148  0.218   0.378\n",
              "149  0.367   0.545\n",
              "150  0.409   0.601\n",
              "151  0.168   0.279\n",
              "152  0.289   0.482\n",
              "153  0.336   0.528\n",
              "154  0.186   0.315\n",
              "155  0.258   0.426\n",
              "156  0.397   0.579\n",
              "157  0.198   0.342\n",
              "158  0.324   0.506\n",
              "159  0.276   0.452\n",
              "160  0.349   0.533\n",
              "161  0.225   0.397\n",
              "162  0.372   0.568\n",
              "163  0.417   0.603\n",
              "164  0.240   0.340\n",
              "165  0.299   0.487\n",
              "166  0.329   0.515\n",
              "167  0.209   0.365"
            ]
          },
          "execution_count": 86,
          "metadata": {},
          "output_type": "execute_result"
        }
      ],
      "source": [
        "# Getting measurements for the incomplete records\n",
        "incomplete_records = data.iloc[148:,[3,4]]\n",
        "incomplete_records.head(20)"
      ]
    },
    {
      "cell_type": "code",
      "execution_count": null,
      "id": "7cf2c353",
      "metadata": {
        "id": "7cf2c353",
        "outputId": "07b01e68-bb89-4052-913c-b8aa4de07596"
      },
      "outputs": [
        {
          "data": {
            "text/html": [
              "<div>\n",
              "<style scoped>\n",
              "    .dataframe tbody tr th:only-of-type {\n",
              "        vertical-align: middle;\n",
              "    }\n",
              "\n",
              "    .dataframe tbody tr th {\n",
              "        vertical-align: top;\n",
              "    }\n",
              "\n",
              "    .dataframe thead th {\n",
              "        text-align: right;\n",
              "    }\n",
              "</style>\n",
              "<table border=\"1\" class=\"dataframe\">\n",
              "  <thead>\n",
              "    <tr style=\"text-align: right;\">\n",
              "      <th></th>\n",
              "      <th>Firewing</th>\n",
              "      <th>Shadowhawk</th>\n",
              "      <th>Thunderbeaks</th>\n",
              "      <th>Wing</th>\n",
              "      <th>Weight</th>\n",
              "    </tr>\n",
              "  </thead>\n",
              "  <tbody>\n",
              "    <tr>\n",
              "      <th>143</th>\n",
              "      <td>0</td>\n",
              "      <td>0</td>\n",
              "      <td>1</td>\n",
              "      <td>0.273</td>\n",
              "      <td>0.530</td>\n",
              "    </tr>\n",
              "    <tr>\n",
              "      <th>144</th>\n",
              "      <td>0</td>\n",
              "      <td>0</td>\n",
              "      <td>1</td>\n",
              "      <td>0.243</td>\n",
              "      <td>0.334</td>\n",
              "    </tr>\n",
              "    <tr>\n",
              "      <th>145</th>\n",
              "      <td>0</td>\n",
              "      <td>0</td>\n",
              "      <td>1</td>\n",
              "      <td>0.194</td>\n",
              "      <td>0.163</td>\n",
              "    </tr>\n",
              "    <tr>\n",
              "      <th>146</th>\n",
              "      <td>0</td>\n",
              "      <td>0</td>\n",
              "      <td>1</td>\n",
              "      <td>0.145</td>\n",
              "      <td>0.320</td>\n",
              "    </tr>\n",
              "    <tr>\n",
              "      <th>147</th>\n",
              "      <td>0</td>\n",
              "      <td>0</td>\n",
              "      <td>1</td>\n",
              "      <td>0.225</td>\n",
              "      <td>0.325</td>\n",
              "    </tr>\n",
              "  </tbody>\n",
              "</table>\n",
              "</div>"
            ],
            "text/plain": [
              "     Firewing  Shadowhawk  Thunderbeaks   Wing  Weight\n",
              "143         0           0             1  0.273   0.530\n",
              "144         0           0             1  0.243   0.334\n",
              "145         0           0             1  0.194   0.163\n",
              "146         0           0             1  0.145   0.320\n",
              "147         0           0             1  0.225   0.325"
            ]
          },
          "execution_count": 68,
          "metadata": {},
          "output_type": "execute_result"
        }
      ],
      "source": [
        "# Using only the 148 birds with complete data for training\n",
        "data = data.iloc[:148,:]\n",
        "data.tail()"
      ]
    },
    {
      "cell_type": "code",
      "execution_count": null,
      "id": "c227f32f",
      "metadata": {
        "id": "c227f32f"
      },
      "outputs": [],
      "source": [
        "# Extracting features and labels\n",
        "X = data.loc[:, ['Wing', 'Weight']]\n",
        "y = data.loc[:, ['Firewing', 'Shadowhawk', 'Thunderbeaks']]\n"
      ]
    },
    {
      "cell_type": "code",
      "execution_count": null,
      "id": "bb74a1b1",
      "metadata": {
        "id": "bb74a1b1",
        "outputId": "4793cf8f-0d32-4bf1-857c-c0e8b5ac58c8"
      },
      "outputs": [
        {
          "data": {
            "text/plain": [
              "(    Wing  Weight\n",
              " 0  0.372   0.915\n",
              " 1  0.371   1.160\n",
              " 2  0.469   1.001\n",
              " 3  0.262   1.020\n",
              " 4  0.375   0.950,\n",
              "    Firewing  Shadowhawk  Thunderbeaks\n",
              " 0         1           0             0\n",
              " 1         1           0             0\n",
              " 2         1           0             0\n",
              " 3         1           0             0\n",
              " 4         1           0             0)"
            ]
          },
          "execution_count": 70,
          "metadata": {},
          "output_type": "execute_result"
        }
      ],
      "source": [
        "X.head(), y.head()"
      ]
    },
    {
      "cell_type": "code",
      "execution_count": null,
      "id": "2a3482ed",
      "metadata": {
        "id": "2a3482ed"
      },
      "outputs": [],
      "source": [
        "# Train-validation-test split\n",
        "# Set 70% of the data for training, the remaining 30% will be for validation and testing\n",
        "X_train, X_val_test, y_train, y_val_test = train_test_split(X, y, test_size=0.3, random_state=42)\n",
        "\n",
        "# Split the 30% evenly between validation and testing sets\n",
        "X_val, X_test, y_val, y_test = train_test_split(X_val_test, y_val_test, test_size=0.5, random_state=42)"
      ]
    },
    {
      "cell_type": "markdown",
      "id": "5e898715",
      "metadata": {
        "id": "5e898715"
      },
      "source": [
        "Let us define a neural network model that has an input layer with 2 nodes, a hidden layer with 8 nodes and ReLU activation, and an output layer with 3 nodes and softmax activation. This is a typical setup for a multiclass classification neural network."
      ]
    },
    {
      "cell_type": "code",
      "execution_count": null,
      "id": "3b75f628",
      "metadata": {
        "id": "3b75f628"
      },
      "outputs": [],
      "source": [
        "# Define the Neural Network model\n",
        "model = Sequential()\n",
        "model.add(Dense(8, input_dim=2, activation='relu'))\n",
        "model.add(Dense(3, activation='softmax'))"
      ]
    },
    {
      "cell_type": "markdown",
      "id": "ed409ce5",
      "metadata": {
        "id": "ed409ce5"
      },
      "source": [
        "![image.png](data:image/png;base64,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)"
      ]
    },
    {
      "cell_type": "markdown",
      "id": "da74e9ea",
      "metadata": {
        "id": "da74e9ea"
      },
      "source": [
        "Now we must configure our model. In our case, this involves optimising the categorical cross-entropy loss using a chosen optimizer and tracking the accuracy metric during training. After compilation, the model is ready to be trained on data using the specified loss function, optimizer, and evaluation metric. This step sets the foundation for the learning process."
      ]
    },
    {
      "cell_type": "code",
      "execution_count": null,
      "id": "e387bd2c",
      "metadata": {
        "id": "e387bd2c"
      },
      "outputs": [],
      "source": [
        "# Compile the model\n",
        "model.compile(loss='categorical_crossentropy', optimizer='adam', metrics=['accuracy'])\n"
      ]
    },
    {
      "cell_type": "markdown",
      "id": "54b91ec9",
      "metadata": {
        "id": "54b91ec9"
      },
      "source": [
        "Now we train our model. 'epochs' is a hyperparameter that we will set to determine how many times our model will pass through the training set."
      ]
    },
    {
      "cell_type": "code",
      "execution_count": null,
      "id": "b0dd65dc",
      "metadata": {
        "id": "b0dd65dc",
        "outputId": "a4345aba-6774-4c08-c820-1890cde494ff"
      },
      "outputs": [
        {
          "name": "stdout",
          "output_type": "stream",
          "text": [
            "Epoch 1/50\n",
            "4/4 [==============================] - 0s 5ms/step - loss: 1.1396 - accuracy: 0.0000e+00\n",
            "Epoch 2/50\n",
            "4/4 [==============================] - 0s 0s/step - loss: 1.1353 - accuracy: 0.0000e+00\n",
            "Epoch 3/50\n",
            "4/4 [==============================] - 0s 2ms/step - loss: 1.1311 - accuracy: 0.0000e+00\n",
            "Epoch 4/50\n",
            "4/4 [==============================] - 0s 5ms/step - loss: 1.1271 - accuracy: 0.0000e+00\n",
            "Epoch 5/50\n",
            "4/4 [==============================] - 0s 0s/step - loss: 1.1232 - accuracy: 0.0000e+00\n",
            "Epoch 6/50\n",
            "4/4 [==============================] - 0s 1ms/step - loss: 1.1196 - accuracy: 0.0000e+00\n",
            "Epoch 7/50\n",
            "4/4 [==============================] - 0s 2ms/step - loss: 1.1157 - accuracy: 0.0000e+00\n",
            "Epoch 8/50\n",
            "4/4 [==============================] - 0s 0s/step - loss: 1.1121 - accuracy: 0.0000e+00\n",
            "Epoch 9/50\n",
            "4/4 [==============================] - 0s 2ms/step - loss: 1.1086 - accuracy: 0.0000e+00\n",
            "Epoch 10/50\n",
            "4/4 [==============================] - 0s 2ms/step - loss: 1.1053 - accuracy: 0.0097\n",
            "Epoch 11/50\n",
            "4/4 [==============================] - 0s 5ms/step - loss: 1.1020 - accuracy: 0.0097\n",
            "Epoch 12/50\n",
            "4/4 [==============================] - 0s 0s/step - loss: 1.0989 - accuracy: 0.0777\n",
            "Epoch 13/50\n",
            "4/4 [==============================] - 0s 960us/step - loss: 1.0957 - accuracy: 0.3010\n",
            "Epoch 14/50\n",
            "4/4 [==============================] - 0s 3ms/step - loss: 1.0924 - accuracy: 0.4369\n",
            "Epoch 15/50\n",
            "4/4 [==============================] - 0s 3ms/step - loss: 1.0890 - accuracy: 0.6214\n",
            "Epoch 16/50\n",
            "4/4 [==============================] - 0s 0s/step - loss: 1.0861 - accuracy: 0.6699\n",
            "Epoch 17/50\n",
            "4/4 [==============================] - 0s 2ms/step - loss: 1.0832 - accuracy: 0.6893\n",
            "Epoch 18/50\n",
            "4/4 [==============================] - 0s 4ms/step - loss: 1.0806 - accuracy: 0.6893\n",
            "Epoch 19/50\n",
            "4/4 [==============================] - 0s 0s/step - loss: 1.0782 - accuracy: 0.6893\n",
            "Epoch 20/50\n",
            "4/4 [==============================] - 0s 1ms/step - loss: 1.0757 - accuracy: 0.6893\n",
            "Epoch 21/50\n",
            "4/4 [==============================] - 0s 5ms/step - loss: 1.0733 - accuracy: 0.6893\n",
            "Epoch 22/50\n",
            "4/4 [==============================] - 0s 0s/step - loss: 1.0707 - accuracy: 0.6893\n",
            "Epoch 23/50\n",
            "4/4 [==============================] - 0s 3ms/step - loss: 1.0679 - accuracy: 0.6893\n",
            "Epoch 24/50\n",
            "4/4 [==============================] - 0s 3ms/step - loss: 1.0654 - accuracy: 0.6893\n",
            "Epoch 25/50\n",
            "4/4 [==============================] - 0s 4ms/step - loss: 1.0627 - accuracy: 0.6893\n",
            "Epoch 26/50\n",
            "4/4 [==============================] - 0s 3ms/step - loss: 1.0600 - accuracy: 0.6893\n",
            "Epoch 27/50\n",
            "4/4 [==============================] - 0s 1ms/step - loss: 1.0573 - accuracy: 0.6893\n",
            "Epoch 28/50\n",
            "4/4 [==============================] - 0s 2ms/step - loss: 1.0546 - accuracy: 0.6893\n",
            "Epoch 29/50\n",
            "4/4 [==============================] - 0s 5ms/step - loss: 1.0517 - accuracy: 0.6893\n",
            "Epoch 30/50\n",
            "4/4 [==============================] - 0s 4ms/step - loss: 1.0487 - accuracy: 0.6893\n",
            "Epoch 31/50\n",
            "4/4 [==============================] - 0s 4ms/step - loss: 1.0455 - accuracy: 0.6893\n",
            "Epoch 32/50\n",
            "4/4 [==============================] - 0s 5ms/step - loss: 1.0419 - accuracy: 0.6893\n",
            "Epoch 33/50\n",
            "4/4 [==============================] - 0s 4ms/step - loss: 1.0385 - accuracy: 0.6893\n",
            "Epoch 34/50\n",
            "4/4 [==============================] - 0s 3ms/step - loss: 1.0348 - accuracy: 0.6893\n",
            "Epoch 35/50\n",
            "4/4 [==============================] - 0s 3ms/step - loss: 1.0310 - accuracy: 0.6893\n",
            "Epoch 36/50\n",
            "4/4 [==============================] - 0s 2ms/step - loss: 1.0270 - accuracy: 0.6893\n",
            "Epoch 37/50\n",
            "4/4 [==============================] - 0s 3ms/step - loss: 1.0229 - accuracy: 0.6893\n",
            "Epoch 38/50\n",
            "4/4 [==============================] - 0s 5ms/step - loss: 1.0188 - accuracy: 0.6893\n",
            "Epoch 39/50\n",
            "4/4 [==============================] - 0s 4ms/step - loss: 1.0147 - accuracy: 0.6893\n",
            "Epoch 40/50\n",
            "4/4 [==============================] - 0s 5ms/step - loss: 1.0105 - accuracy: 0.6893\n",
            "Epoch 41/50\n",
            "4/4 [==============================] - 0s 872us/step - loss: 1.0062 - accuracy: 0.6893\n",
            "Epoch 42/50\n",
            "4/4 [==============================] - 0s 2ms/step - loss: 1.0019 - accuracy: 0.6893\n",
            "Epoch 43/50\n",
            "4/4 [==============================] - 0s 6ms/step - loss: 0.9976 - accuracy: 0.6893\n",
            "Epoch 44/50\n",
            "4/4 [==============================] - 0s 5ms/step - loss: 0.9933 - accuracy: 0.6893\n",
            "Epoch 45/50\n",
            "4/4 [==============================] - 0s 3ms/step - loss: 0.9890 - accuracy: 0.6893\n",
            "Epoch 46/50\n",
            "4/4 [==============================] - 0s 4ms/step - loss: 0.9851 - accuracy: 0.6893\n",
            "Epoch 47/50\n",
            "4/4 [==============================] - 0s 0s/step - loss: 0.9814 - accuracy: 0.6893\n",
            "Epoch 48/50\n",
            "4/4 [==============================] - 0s 1ms/step - loss: 0.9780 - accuracy: 0.6893\n",
            "Epoch 49/50\n",
            "4/4 [==============================] - 0s 3ms/step - loss: 0.9746 - accuracy: 0.6893\n",
            "Epoch 50/50\n",
            "4/4 [==============================] - 0s 1ms/step - loss: 0.9713 - accuracy: 0.6893\n"
          ]
        },
        {
          "data": {
            "text/plain": [
              "<keras.src.callbacks.History at 0x1b1c7393990>"
            ]
          },
          "execution_count": 74,
          "metadata": {},
          "output_type": "execute_result"
        }
      ],
      "source": [
        "# Train the model\n",
        "model.fit(X_train, y_train, epochs=50)  # Reduced epochs for simplicity"
      ]
    },
    {
      "cell_type": "code",
      "execution_count": null,
      "id": "c0d1fcf7",
      "metadata": {
        "id": "c0d1fcf7",
        "outputId": "769f0631-f335-4b14-930c-5b950abaf99e"
      },
      "outputs": [
        {
          "name": "stdout",
          "output_type": "stream",
          "text": [
            "1/1 [==============================] - 0s 50ms/step\n"
          ]
        },
        {
          "data": {
            "text/plain": [
              "array([[0.3198456 , 0.34358346, 0.33657095],\n",
              "       [0.34377906, 0.32780358, 0.32841733],\n",
              "       [0.3523734 , 0.3222453 , 0.32538134],\n",
              "       [0.30433866, 0.35396308, 0.34169823],\n",
              "       [0.33568522, 0.33313215, 0.3311826 ],\n",
              "       [0.34206256, 0.32894862, 0.32898882],\n",
              "       [0.3099383 , 0.35019442, 0.3398672 ],\n",
              "       [0.32677013, 0.33898124, 0.3342486 ],\n",
              "       [0.34876823, 0.32456395, 0.3266678 ],\n",
              "       [0.3142429 , 0.34731582, 0.33844128],\n",
              "       [0.338506  , 0.3312599 , 0.33023408],\n",
              "       [0.33072472, 0.3363745 , 0.33290082],\n",
              "       [0.34238097, 0.3287267 , 0.3288923 ],\n",
              "       [0.3229887 , 0.34150505, 0.33550623],\n",
              "       [0.34788823, 0.32515943, 0.3269523 ],\n",
              "       [0.35236654, 0.3222395 , 0.32539397],\n",
              "       [0.31195882, 0.3487764 , 0.33926484],\n",
              "       [0.33614334, 0.3328221 , 0.33103454],\n",
              "       [0.3399545 , 0.3303174 , 0.32972804],\n",
              "       [0.31789854, 0.3448807 , 0.33722076]], dtype=float32)"
            ]
          },
          "execution_count": 75,
          "metadata": {},
          "output_type": "execute_result"
        }
      ],
      "source": [
        "# Predict the class for incomplete records\n",
        "predicted_probs = model.predict(incomplete_records)\n",
        "predicted_probs\n"
      ]
    },
    {
      "cell_type": "code",
      "execution_count": null,
      "id": "71662935",
      "metadata": {
        "id": "71662935",
        "outputId": "4b311b21-dd96-4848-836e-516f2789dc33"
      },
      "outputs": [
        {
          "data": {
            "text/plain": [
              "array([1, 0, 0, 1, 0, 0, 1, 1, 0, 1, 0, 1, 0, 1, 0, 0, 1, 0, 0, 1],\n",
              "      dtype=int64)"
            ]
          },
          "execution_count": 76,
          "metadata": {},
          "output_type": "execute_result"
        }
      ],
      "source": [
        "predicted_class = np.argmax(predicted_probs, axis=1)\n",
        "predicted_class"
      ]
    },
    {
      "cell_type": "code",
      "execution_count": null,
      "id": "9a01c0f3",
      "metadata": {
        "id": "9a01c0f3",
        "outputId": "bc984725-f226-421c-9202-07a2aa697e6d"
      },
      "outputs": [
        {
          "data": {
            "text/plain": [
              "['Shadowhawk',\n",
              " 'Firewing',\n",
              " 'Firewing',\n",
              " 'Shadowhawk',\n",
              " 'Firewing',\n",
              " 'Firewing',\n",
              " 'Shadowhawk',\n",
              " 'Shadowhawk',\n",
              " 'Firewing',\n",
              " 'Shadowhawk',\n",
              " 'Firewing',\n",
              " 'Shadowhawk',\n",
              " 'Firewing',\n",
              " 'Shadowhawk',\n",
              " 'Firewing',\n",
              " 'Firewing',\n",
              " 'Shadowhawk',\n",
              " 'Firewing',\n",
              " 'Firewing',\n",
              " 'Shadowhawk']"
            ]
          },
          "execution_count": 79,
          "metadata": {},
          "output_type": "execute_result"
        }
      ],
      "source": [
        "# Map this predicted class index to species label\n",
        "species_labels = ['Firewing', 'Shadowhawk', 'Thunderbeaks']\n",
        "predicted_species = [species_labels[i] for i in predicted_class]\n",
        "predicted_species"
      ]
    },
    {
      "cell_type": "code",
      "execution_count": null,
      "id": "d4c12d21",
      "metadata": {
        "id": "d4c12d21",
        "outputId": "fd3899f6-ec6e-44c6-ffb4-b09f182b4ff1"
      },
      "outputs": [
        {
          "name": "stdout",
          "output_type": "stream",
          "text": [
            "The predicted classes for the given measurements:\n",
            "[0.218 0.378] Shadowhawk\n",
            "[0.367 0.545] Firewing\n",
            "[0.409 0.601] Firewing\n",
            "[0.168 0.279] Shadowhawk\n",
            "[0.289 0.482] Firewing\n",
            "[0.336 0.528] Firewing\n",
            "[0.186 0.315] Shadowhawk\n",
            "[0.258 0.426] Shadowhawk\n",
            "[0.397 0.579] Firewing\n",
            "[0.198 0.342] Shadowhawk\n",
            "[0.324 0.506] Firewing\n",
            "[0.276 0.452] Shadowhawk\n",
            "[0.349 0.533] Firewing\n",
            "[0.225 0.397] Shadowhawk\n",
            "[0.372 0.568] Firewing\n",
            "[0.417 0.603] Firewing\n",
            "[0.24 0.34] Shadowhawk\n",
            "[0.299 0.487] Firewing\n",
            "[0.329 0.515] Firewing\n",
            "[0.209 0.365] Shadowhawk\n"
          ]
        }
      ],
      "source": [
        "# refining output\n",
        "print(\"The predicted classes for the given measurements:\")\n",
        "for i in range(20):\n",
        "    print(f\"{incomplete_records.iloc[i,].values} {predicted_species[i]}\")"
      ]
    },
    {
      "cell_type": "markdown",
      "id": "405bc64a",
      "metadata": {
        "id": "405bc64a"
      },
      "source": [
        "## Resource\n",
        "\n",
        "You can learn more about Neural Networks on this website:\n",
        "https://www.3blue1brown.com/topics/neural-networks\n",
        "\n",
        "Or you can visit the 3Blue1Brown YouTube channel:\n",
        "https://www.youtube.com/watch?v=aircAruvnKk"
      ]
    }
  ],
  "metadata": {
    "kernelspec": {
      "display_name": "Python 3 (ipykernel)",
      "language": "python",
      "name": "python3"
    },
    "language_info": {
      "codemirror_mode": {
        "name": "ipython",
        "version": 3
      },
      "file_extension": ".py",
      "mimetype": "text/x-python",
      "name": "python",
      "nbconvert_exporter": "python",
      "pygments_lexer": "ipython3",
      "version": "3.11.3"
    },
    "colab": {
      "provenance": []
    }
  },
  "nbformat": 4,
  "nbformat_minor": 5
}