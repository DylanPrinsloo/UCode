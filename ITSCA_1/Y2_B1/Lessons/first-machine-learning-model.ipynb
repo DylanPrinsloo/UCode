{
 "cells": [
  {
   "cell_type": "markdown",
   "id": "cda4ce42",
   "metadata": {
    "papermill": {
     "duration": 0.005446,
     "end_time": "2023-04-21T13:39:10.654077",
     "exception": false,
     "start_time": "2023-04-21T13:39:10.648631",
     "status": "completed"
    },
    "tags": []
   },
   "source": [
    "# Selecting Data for Modeling\n",
    "Your dataset had  too many variables to wrap your head around, or even to print out nicely.  How can you pare down this overwhelming amount of data to something you can understand?\n",
    "\n",
    "We'll start by picking a few variables using our intuition. Later courses will show you statistical techniques to automatically prioritize variables.\n",
    "\n",
    "To choose variables/columns, we'll need to see a list of all columns in the dataset. That is done with the **columns** property of the DataFrame (the bottom line of code below).\n"
   ]
  },
  {
   "cell_type": "code",
   "execution_count": 1,
   "id": "b922c80a",
   "metadata": {
    "execution": {
     "iopub.execute_input": "2023-04-21T13:39:10.665448Z",
     "iopub.status.busy": "2023-04-21T13:39:10.664103Z",
     "iopub.status.idle": "2023-04-21T13:39:10.779646Z",
     "shell.execute_reply": "2023-04-21T13:39:10.778340Z"
    },
    "papermill": {
     "duration": 0.124191,
     "end_time": "2023-04-21T13:39:10.782671",
     "exception": false,
     "start_time": "2023-04-21T13:39:10.658480",
     "status": "completed"
    },
    "tags": []
   },
   "outputs": [
    {
     "data": {
      "text/plain": [
       "Index(['Suburb', 'Address', 'Rooms', 'Type', 'Price', 'Method', 'SellerG',\n",
       "       'Date', 'Distance', 'Postcode', 'Bedroom2', 'Bathroom', 'Car',\n",
       "       'Landsize', 'BuildingArea', 'YearBuilt', 'CouncilArea', 'Lattitude',\n",
       "       'Longtitude', 'Regionname', 'Propertycount'],\n",
       "      dtype='object')"
      ]
     },
     "execution_count": 1,
     "metadata": {},
     "output_type": "execute_result"
    }
   ],
   "source": [
    "import pandas as pd\n",
    "\n",
    "melbourne_file_path = '../input/melbourne-housing-snapshot/melb_data.csv'\n",
    "melbourne_data = pd.read_csv(melbourne_file_path) \n",
    "melbourne_data.columns"
   ]
  },
  {
   "cell_type": "code",
   "execution_count": 2,
   "id": "255ece9f",
   "metadata": {
    "execution": {
     "iopub.execute_input": "2023-04-21T13:39:10.794135Z",
     "iopub.status.busy": "2023-04-21T13:39:10.793179Z",
     "iopub.status.idle": "2023-04-21T13:39:10.820470Z",
     "shell.execute_reply": "2023-04-21T13:39:10.819127Z"
    },
    "papermill": {
     "duration": 0.036347,
     "end_time": "2023-04-21T13:39:10.823661",
     "exception": false,
     "start_time": "2023-04-21T13:39:10.787314",
     "status": "completed"
    },
    "tags": []
   },
   "outputs": [],
   "source": [
    "# The Melbourne data has some missing values (some houses for which some variables weren't recorded.)\n",
    "# We'll learn to handle missing values in a later tutorial.  \n",
    "# Your Iowa data doesn't have missing values in the columns you use. \n",
    "# So we will take the simplest option for now, and drop houses from our data. \n",
    "# Don't worry about this much for now, though the code is:\n",
    "\n",
    "# dropna drops missing values (think of na as \"not available\")\n",
    "melbourne_data = melbourne_data.dropna(axis=0)"
   ]
  },
  {
   "cell_type": "markdown",
   "id": "467e8e6b",
   "metadata": {
    "papermill": {
     "duration": 0.004171,
     "end_time": "2023-04-21T13:39:10.832423",
     "exception": false,
     "start_time": "2023-04-21T13:39:10.828252",
     "status": "completed"
    },
    "tags": []
   },
   "source": [
    "There are many ways to select a subset of your data. The [Pandas course](https://www.kaggle.com/learn/pandas) covers these in more depth, but we will focus on two approaches for now.\n",
    "\n",
    "1. Dot notation, which we use to select the \"prediction target\"\n",
    "2. Selecting with a column list, which we use to select the \"features\" \n",
    "\n",
    "## Selecting The Prediction Target \n",
    "You can pull out a variable with **dot-notation**.  This single column is stored in a **Series**, which is broadly like a DataFrame with only a single column of data.  \n",
    "\n",
    "We'll use the dot notation to select the column we want to predict, which is called the **prediction target**. By convention, the prediction target is called **y**. So the code we need to save the house prices in the Melbourne data is"
   ]
  },
  {
   "cell_type": "code",
   "execution_count": 3,
   "id": "e32e7c35",
   "metadata": {
    "collapsed": true,
    "execution": {
     "iopub.execute_input": "2023-04-21T13:39:10.843244Z",
     "iopub.status.busy": "2023-04-21T13:39:10.842812Z",
     "iopub.status.idle": "2023-04-21T13:39:10.852373Z",
     "shell.execute_reply": "2023-04-21T13:39:10.851200Z"
    },
    "papermill": {
     "duration": 0.01824,
     "end_time": "2023-04-21T13:39:10.855226",
     "exception": false,
     "start_time": "2023-04-21T13:39:10.836986",
     "status": "completed"
    },
    "tags": []
   },
   "outputs": [],
   "source": [
    "y = melbourne_data.Price"
   ]
  },
  {
   "cell_type": "markdown",
   "id": "5e6adb74",
   "metadata": {
    "papermill": {
     "duration": 0.004275,
     "end_time": "2023-04-21T13:39:10.864139",
     "exception": false,
     "start_time": "2023-04-21T13:39:10.859864",
     "status": "completed"
    },
    "tags": []
   },
   "source": [
    "# Choosing \"Features\"\n",
    "The columns that are inputted into our model (and later used to make predictions) are called \"features.\" In our case, those would be the columns used to determine the home price. Sometimes, you will use all columns except the target as features. Other times you'll be better off with fewer features. \n",
    "\n",
    "For now, we'll build a model with only a few features. Later on you'll see how to iterate and compare models built with different features.\n",
    "\n",
    "We select multiple features by providing a list of column names inside brackets. Each item in that list should be a string (with quotes).\n",
    "\n",
    "Here is an example:"
   ]
  },
  {
   "cell_type": "code",
   "execution_count": 4,
   "id": "18eb32e0",
   "metadata": {
    "collapsed": true,
    "execution": {
     "iopub.execute_input": "2023-04-21T13:39:10.875745Z",
     "iopub.status.busy": "2023-04-21T13:39:10.874792Z",
     "iopub.status.idle": "2023-04-21T13:39:10.880173Z",
     "shell.execute_reply": "2023-04-21T13:39:10.878990Z"
    },
    "papermill": {
     "duration": 0.014159,
     "end_time": "2023-04-21T13:39:10.882871",
     "exception": false,
     "start_time": "2023-04-21T13:39:10.868712",
     "status": "completed"
    },
    "tags": []
   },
   "outputs": [],
   "source": [
    "melbourne_features = ['Rooms', 'Bathroom', 'Landsize', 'Lattitude', 'Longtitude']"
   ]
  },
  {
   "cell_type": "markdown",
   "id": "500911b2",
   "metadata": {
    "papermill": {
     "duration": 0.004331,
     "end_time": "2023-04-21T13:39:10.891901",
     "exception": false,
     "start_time": "2023-04-21T13:39:10.887570",
     "status": "completed"
    },
    "tags": []
   },
   "source": [
    "By convention, this data is called **X**."
   ]
  },
  {
   "cell_type": "code",
   "execution_count": 5,
   "id": "8e4c4083",
   "metadata": {
    "collapsed": true,
    "execution": {
     "iopub.execute_input": "2023-04-21T13:39:10.903528Z",
     "iopub.status.busy": "2023-04-21T13:39:10.902813Z",
     "iopub.status.idle": "2023-04-21T13:39:10.908425Z",
     "shell.execute_reply": "2023-04-21T13:39:10.907477Z"
    },
    "papermill": {
     "duration": 0.014292,
     "end_time": "2023-04-21T13:39:10.910878",
     "exception": false,
     "start_time": "2023-04-21T13:39:10.896586",
     "status": "completed"
    },
    "tags": []
   },
   "outputs": [],
   "source": [
    "X = melbourne_data[melbourne_features]"
   ]
  },
  {
   "cell_type": "markdown",
   "id": "6feb915d",
   "metadata": {
    "papermill": {
     "duration": 0.004376,
     "end_time": "2023-04-21T13:39:10.919979",
     "exception": false,
     "start_time": "2023-04-21T13:39:10.915603",
     "status": "completed"
    },
    "tags": []
   },
   "source": [
    "Let's quickly review the data we'll be using to predict house prices using the `describe` method and the `head` method, which shows the top few rows."
   ]
  },
  {
   "cell_type": "code",
   "execution_count": 6,
   "id": "f9e607b3",
   "metadata": {
    "execution": {
     "iopub.execute_input": "2023-04-21T13:39:10.931679Z",
     "iopub.status.busy": "2023-04-21T13:39:10.930963Z",
     "iopub.status.idle": "2023-04-21T13:39:10.974401Z",
     "shell.execute_reply": "2023-04-21T13:39:10.973039Z"
    },
    "papermill": {
     "duration": 0.052396,
     "end_time": "2023-04-21T13:39:10.977099",
     "exception": false,
     "start_time": "2023-04-21T13:39:10.924703",
     "status": "completed"
    },
    "tags": []
   },
   "outputs": [
    {
     "data": {
      "text/html": [
       "<div>\n",
       "<style scoped>\n",
       "    .dataframe tbody tr th:only-of-type {\n",
       "        vertical-align: middle;\n",
       "    }\n",
       "\n",
       "    .dataframe tbody tr th {\n",
       "        vertical-align: top;\n",
       "    }\n",
       "\n",
       "    .dataframe thead th {\n",
       "        text-align: right;\n",
       "    }\n",
       "</style>\n",
       "<table border=\"1\" class=\"dataframe\">\n",
       "  <thead>\n",
       "    <tr style=\"text-align: right;\">\n",
       "      <th></th>\n",
       "      <th>Rooms</th>\n",
       "      <th>Bathroom</th>\n",
       "      <th>Landsize</th>\n",
       "      <th>Lattitude</th>\n",
       "      <th>Longtitude</th>\n",
       "    </tr>\n",
       "  </thead>\n",
       "  <tbody>\n",
       "    <tr>\n",
       "      <th>count</th>\n",
       "      <td>6196.000000</td>\n",
       "      <td>6196.000000</td>\n",
       "      <td>6196.000000</td>\n",
       "      <td>6196.000000</td>\n",
       "      <td>6196.000000</td>\n",
       "    </tr>\n",
       "    <tr>\n",
       "      <th>mean</th>\n",
       "      <td>2.931407</td>\n",
       "      <td>1.576340</td>\n",
       "      <td>471.006940</td>\n",
       "      <td>-37.807904</td>\n",
       "      <td>144.990201</td>\n",
       "    </tr>\n",
       "    <tr>\n",
       "      <th>std</th>\n",
       "      <td>0.971079</td>\n",
       "      <td>0.711362</td>\n",
       "      <td>897.449881</td>\n",
       "      <td>0.075850</td>\n",
       "      <td>0.099165</td>\n",
       "    </tr>\n",
       "    <tr>\n",
       "      <th>min</th>\n",
       "      <td>1.000000</td>\n",
       "      <td>1.000000</td>\n",
       "      <td>0.000000</td>\n",
       "      <td>-38.164920</td>\n",
       "      <td>144.542370</td>\n",
       "    </tr>\n",
       "    <tr>\n",
       "      <th>25%</th>\n",
       "      <td>2.000000</td>\n",
       "      <td>1.000000</td>\n",
       "      <td>152.000000</td>\n",
       "      <td>-37.855438</td>\n",
       "      <td>144.926198</td>\n",
       "    </tr>\n",
       "    <tr>\n",
       "      <th>50%</th>\n",
       "      <td>3.000000</td>\n",
       "      <td>1.000000</td>\n",
       "      <td>373.000000</td>\n",
       "      <td>-37.802250</td>\n",
       "      <td>144.995800</td>\n",
       "    </tr>\n",
       "    <tr>\n",
       "      <th>75%</th>\n",
       "      <td>4.000000</td>\n",
       "      <td>2.000000</td>\n",
       "      <td>628.000000</td>\n",
       "      <td>-37.758200</td>\n",
       "      <td>145.052700</td>\n",
       "    </tr>\n",
       "    <tr>\n",
       "      <th>max</th>\n",
       "      <td>8.000000</td>\n",
       "      <td>8.000000</td>\n",
       "      <td>37000.000000</td>\n",
       "      <td>-37.457090</td>\n",
       "      <td>145.526350</td>\n",
       "    </tr>\n",
       "  </tbody>\n",
       "</table>\n",
       "</div>"
      ],
      "text/plain": [
       "             Rooms     Bathroom      Landsize    Lattitude   Longtitude\n",
       "count  6196.000000  6196.000000   6196.000000  6196.000000  6196.000000\n",
       "mean      2.931407     1.576340    471.006940   -37.807904   144.990201\n",
       "std       0.971079     0.711362    897.449881     0.075850     0.099165\n",
       "min       1.000000     1.000000      0.000000   -38.164920   144.542370\n",
       "25%       2.000000     1.000000    152.000000   -37.855438   144.926198\n",
       "50%       3.000000     1.000000    373.000000   -37.802250   144.995800\n",
       "75%       4.000000     2.000000    628.000000   -37.758200   145.052700\n",
       "max       8.000000     8.000000  37000.000000   -37.457090   145.526350"
      ]
     },
     "execution_count": 6,
     "metadata": {},
     "output_type": "execute_result"
    }
   ],
   "source": [
    "X.describe()"
   ]
  },
  {
   "cell_type": "code",
   "execution_count": 7,
   "id": "b0c05c07",
   "metadata": {
    "execution": {
     "iopub.execute_input": "2023-04-21T13:39:10.989003Z",
     "iopub.status.busy": "2023-04-21T13:39:10.988536Z",
     "iopub.status.idle": "2023-04-21T13:39:11.003817Z",
     "shell.execute_reply": "2023-04-21T13:39:11.002736Z"
    },
    "papermill": {
     "duration": 0.024154,
     "end_time": "2023-04-21T13:39:11.006298",
     "exception": false,
     "start_time": "2023-04-21T13:39:10.982144",
     "status": "completed"
    },
    "tags": []
   },
   "outputs": [
    {
     "data": {
      "text/html": [
       "<div>\n",
       "<style scoped>\n",
       "    .dataframe tbody tr th:only-of-type {\n",
       "        vertical-align: middle;\n",
       "    }\n",
       "\n",
       "    .dataframe tbody tr th {\n",
       "        vertical-align: top;\n",
       "    }\n",
       "\n",
       "    .dataframe thead th {\n",
       "        text-align: right;\n",
       "    }\n",
       "</style>\n",
       "<table border=\"1\" class=\"dataframe\">\n",
       "  <thead>\n",
       "    <tr style=\"text-align: right;\">\n",
       "      <th></th>\n",
       "      <th>Rooms</th>\n",
       "      <th>Bathroom</th>\n",
       "      <th>Landsize</th>\n",
       "      <th>Lattitude</th>\n",
       "      <th>Longtitude</th>\n",
       "    </tr>\n",
       "  </thead>\n",
       "  <tbody>\n",
       "    <tr>\n",
       "      <th>1</th>\n",
       "      <td>2</td>\n",
       "      <td>1.0</td>\n",
       "      <td>156.0</td>\n",
       "      <td>-37.8079</td>\n",
       "      <td>144.9934</td>\n",
       "    </tr>\n",
       "    <tr>\n",
       "      <th>2</th>\n",
       "      <td>3</td>\n",
       "      <td>2.0</td>\n",
       "      <td>134.0</td>\n",
       "      <td>-37.8093</td>\n",
       "      <td>144.9944</td>\n",
       "    </tr>\n",
       "    <tr>\n",
       "      <th>4</th>\n",
       "      <td>4</td>\n",
       "      <td>1.0</td>\n",
       "      <td>120.0</td>\n",
       "      <td>-37.8072</td>\n",
       "      <td>144.9941</td>\n",
       "    </tr>\n",
       "    <tr>\n",
       "      <th>6</th>\n",
       "      <td>3</td>\n",
       "      <td>2.0</td>\n",
       "      <td>245.0</td>\n",
       "      <td>-37.8024</td>\n",
       "      <td>144.9993</td>\n",
       "    </tr>\n",
       "    <tr>\n",
       "      <th>7</th>\n",
       "      <td>2</td>\n",
       "      <td>1.0</td>\n",
       "      <td>256.0</td>\n",
       "      <td>-37.8060</td>\n",
       "      <td>144.9954</td>\n",
       "    </tr>\n",
       "  </tbody>\n",
       "</table>\n",
       "</div>"
      ],
      "text/plain": [
       "   Rooms  Bathroom  Landsize  Lattitude  Longtitude\n",
       "1      2       1.0     156.0   -37.8079    144.9934\n",
       "2      3       2.0     134.0   -37.8093    144.9944\n",
       "4      4       1.0     120.0   -37.8072    144.9941\n",
       "6      3       2.0     245.0   -37.8024    144.9993\n",
       "7      2       1.0     256.0   -37.8060    144.9954"
      ]
     },
     "execution_count": 7,
     "metadata": {},
     "output_type": "execute_result"
    }
   ],
   "source": [
    "X.head()"
   ]
  },
  {
   "cell_type": "markdown",
   "id": "34351cbe",
   "metadata": {
    "papermill": {
     "duration": 0.004932,
     "end_time": "2023-04-21T13:39:11.016601",
     "exception": false,
     "start_time": "2023-04-21T13:39:11.011669",
     "status": "completed"
    },
    "tags": []
   },
   "source": [
    "Visually checking your data with these commands is an important part of a data scientist's job.  You'll frequently find surprises in the dataset that deserve further inspection."
   ]
  },
  {
   "cell_type": "markdown",
   "id": "04587d71",
   "metadata": {
    "papermill": {
     "duration": 0.005004,
     "end_time": "2023-04-21T13:39:11.027209",
     "exception": false,
     "start_time": "2023-04-21T13:39:11.022205",
     "status": "completed"
    },
    "tags": []
   },
   "source": [
    "---\n",
    "# Building Your Model\n",
    "\n",
    "You will use the **scikit-learn** library to create your models.  When coding, this library is written as **sklearn**, as you will see in the sample code. Scikit-learn is easily the most popular library for modeling the types of data typically stored in DataFrames. \n",
    "\n",
    "The steps to building and using a model are:\n",
    "* **Define:** What type of model will it be?  A decision tree?  Some other type of model? Some other parameters of the model type are specified too.\n",
    "* **Fit:** Capture patterns from provided data. This is the heart of modeling.\n",
    "* **Predict:** Just what it sounds like\n",
    "* **Evaluate**: Determine how accurate the model's predictions are.\n",
    "\n",
    "Here is an example of defining a decision tree model with scikit-learn and fitting it with the features and target variable."
   ]
  },
  {
   "cell_type": "code",
   "execution_count": 8,
   "id": "65a018f5",
   "metadata": {
    "collapsed": true,
    "execution": {
     "iopub.execute_input": "2023-04-21T13:39:11.041570Z",
     "iopub.status.busy": "2023-04-21T13:39:11.040380Z",
     "iopub.status.idle": "2023-04-21T13:39:12.458379Z",
     "shell.execute_reply": "2023-04-21T13:39:12.457412Z"
    },
    "papermill": {
     "duration": 1.428257,
     "end_time": "2023-04-21T13:39:12.461460",
     "exception": false,
     "start_time": "2023-04-21T13:39:11.033203",
     "status": "completed"
    },
    "tags": []
   },
   "outputs": [
    {
     "data": {
      "text/plain": [
       "DecisionTreeRegressor(random_state=1)"
      ]
     },
     "execution_count": 8,
     "metadata": {},
     "output_type": "execute_result"
    }
   ],
   "source": [
    "from sklearn.tree import DecisionTreeRegressor\n",
    "\n",
    "# Define model. Specify a number for random_state to ensure same results each run\n",
    "melbourne_model = DecisionTreeRegressor(random_state=1)\n",
    "\n",
    "# Fit model\n",
    "melbourne_model.fit(X, y)"
   ]
  },
  {
   "cell_type": "markdown",
   "id": "03849952",
   "metadata": {
    "papermill": {
     "duration": 0.00784,
     "end_time": "2023-04-21T13:39:12.477386",
     "exception": false,
     "start_time": "2023-04-21T13:39:12.469546",
     "status": "completed"
    },
    "tags": []
   },
   "source": [
    "Many machine learning models allow some randomness in model training. Specifying a number for `random_state` ensures you get the same results in each run. This is considered a good practice. You use any number, and model quality won't depend meaningfully on exactly what value you choose.\n",
    "\n",
    "We now have a fitted model that we can use to make predictions.\n",
    "\n",
    "In practice, you'll want to make predictions for new houses coming on the market rather than the houses we already have prices for. But we'll make predictions for the first few rows of the training data to see how the predict function works.\n"
   ]
  },
  {
   "cell_type": "code",
   "execution_count": 9,
   "id": "fe8cefb8",
   "metadata": {
    "collapsed": true,
    "execution": {
     "iopub.execute_input": "2023-04-21T13:39:12.491196Z",
     "iopub.status.busy": "2023-04-21T13:39:12.490382Z",
     "iopub.status.idle": "2023-04-21T13:39:12.502825Z",
     "shell.execute_reply": "2023-04-21T13:39:12.501821Z"
    },
    "papermill": {
     "duration": 0.022576,
     "end_time": "2023-04-21T13:39:12.505764",
     "exception": false,
     "start_time": "2023-04-21T13:39:12.483188",
     "status": "completed"
    },
    "tags": []
   },
   "outputs": [
    {
     "name": "stdout",
     "output_type": "stream",
     "text": [
      "Making predictions for the following 5 houses:\n",
      "   Rooms  Bathroom  Landsize  Lattitude  Longtitude\n",
      "1      2       1.0     156.0   -37.8079    144.9934\n",
      "2      3       2.0     134.0   -37.8093    144.9944\n",
      "4      4       1.0     120.0   -37.8072    144.9941\n",
      "6      3       2.0     245.0   -37.8024    144.9993\n",
      "7      2       1.0     256.0   -37.8060    144.9954\n",
      "The predictions are\n",
      "[1035000. 1465000. 1600000. 1876000. 1636000.]\n"
     ]
    }
   ],
   "source": [
    "print(\"Making predictions for the following 5 houses:\")\n",
    "print(X.head())\n",
    "print(\"The predictions are\")\n",
    "print(melbourne_model.predict(X.head()))"
   ]
  },
  {
   "cell_type": "markdown",
   "id": "72308ab3",
   "metadata": {
    "papermill": {
     "duration": 0.005152,
     "end_time": "2023-04-21T13:39:12.516597",
     "exception": false,
     "start_time": "2023-04-21T13:39:12.511445",
     "status": "completed"
    },
    "tags": []
   },
   "source": [
    "# Your Turn\n",
    "Try it out yourself in the **[Model Building Exercise](https://www.kaggle.com/kernels/fork/1404276)**"
   ]
  },
  {
   "cell_type": "markdown",
   "id": "0b5fdca6",
   "metadata": {
    "papermill": {
     "duration": 0.006022,
     "end_time": "2023-04-21T13:39:12.528150",
     "exception": false,
     "start_time": "2023-04-21T13:39:12.522128",
     "status": "completed"
    },
    "tags": []
   },
   "source": [
    "---\n",
    "\n",
    "\n",
    "\n",
    "\n",
    "*Have questions or comments? Visit the [course discussion forum](https://www.kaggle.com/learn/intro-to-machine-learning/discussion) to chat with other learners.*"
   ]
  }
 ],
 "metadata": {
  "kernelspec": {
   "display_name": "Python 3",
   "language": "python",
   "name": "python3"
  },
  "language_info": {
   "codemirror_mode": {
    "name": "ipython",
    "version": 3
   },
   "file_extension": ".py",
   "mimetype": "text/x-python",
   "name": "python",
   "nbconvert_exporter": "python",
   "pygments_lexer": "ipython3",
   "version": "3.7.12"
  },
  "papermill": {
   "default_parameters": {},
   "duration": 13.337576,
   "end_time": "2023-04-21T13:39:13.256597",
   "environment_variables": {},
   "exception": null,
   "input_path": "__notebook__.ipynb",
   "output_path": "__notebook__.ipynb",
   "parameters": {},
   "start_time": "2023-04-21T13:38:59.919021",
   "version": "2.4.0"
  }
 },
 "nbformat": 4,
 "nbformat_minor": 5
}
