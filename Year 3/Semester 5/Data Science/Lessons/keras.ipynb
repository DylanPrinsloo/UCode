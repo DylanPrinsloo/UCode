{
 "cells": [
  {
   "cell_type": "markdown",
   "metadata": {},
   "source": [
    "# Display a Neural Network Using Visualkeras | Advanced Settings"
   ]
  },
  {
   "cell_type": "code",
   "execution_count": null,
   "metadata": {},
   "outputs": [],
   "source": [
    "# content is still new, ill update it in time."
   ]
  },
  {
   "cell_type": "code",
   "execution_count": null,
   "metadata": {},
   "outputs": [],
   "source": [
    "# pip install visualkeras"
   ]
  },
  {
   "cell_type": "code",
   "execution_count": null,
   "metadata": {},
   "outputs": [],
   "source": [
    "import visualkeras\n",
    "from collections import defaultdict\n",
    "from PIL import ImageFont\n",
    "\n",
    "\n",
    "font = ImageFont.truetype(\"./DejaVuMathTeXGyre.ttf\", size=160) \n",
    "color_map = defaultdict(dict)\n",
    "color_map[Conv2D]['fill'] = 'red'\n",
    "color_map[BatchNormalization]['fill'] = 'Magenta'\n",
    "color_map[Activation]['fill'] = 'MediumSpringGreen'\n",
    "color_map[MaxPooling2D]['fill'] = 'Yellow'\n",
    "color_map[Add]['fill'] = 'DodgerBlue'\n",
    "\n",
    "visualkeras.layered_view(model_simple, legend=True,font=font,color_map=color_map)\n"
   ]
  }
 ],
 "metadata": {
  "language_info": {
   "name": "python"
  }
 },
 "nbformat": 4,
 "nbformat_minor": 2
}
